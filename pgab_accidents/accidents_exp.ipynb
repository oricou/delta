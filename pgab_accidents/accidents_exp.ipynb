{
 "cells": [
  {
   "cell_type": "markdown",
   "metadata": {},
   "source": [
    "# Accidents analysis and experimentation notebook"
   ]
  },
  {
   "cell_type": "code",
   "execution_count": null,
   "metadata": {},
   "outputs": [],
   "source": [
    "import pandas as pd\n",
    "import matplotlib.pyplot as plt\n",
    "import plotly.express as px\n",
    "import folium\n",
    "%matplotlib inline"
   ]
  },
  {
   "cell_type": "code",
   "execution_count": null,
   "metadata": {
    "scrolled": true
   },
   "outputs": [],
   "source": [
    "# u05 = pd.read_csv('data/2005/usagers.csv')\n",
    "# c05 = pd.read_csv('data/2005/caracteristiques.csv')\n",
    "# ag05 = u05[['Num_Acc','grav']].groupby('Num_Acc').agg('max')\n",
    "# acg05 = pd.merge(c05, ag05, how='inner', on='Num_Acc')\n",
    "# acg05['year'] = '2005'\n",
    "\n",
    "acg = pd.read_pickle(\"data/acc_caracs_grav.pkl\")\n",
    "acg.columns"
   ]
  },
  {
   "cell_type": "code",
   "execution_count": null,
   "metadata": {},
   "outputs": [],
   "source": [
    "france_pos=[46.7111,1.7191]\n",
    "france_zoom=6"
   ]
  },
  {
   "cell_type": "code",
   "execution_count": null,
   "metadata": {
    "scrolled": false
   },
   "outputs": [],
   "source": [
    "px.scatter_mapbox(acg.loc[acg['year'] == 2020], lat='lat', # Ne fonctionne pas jsp\n",
    "                  lon='long', color='grav', mapbox_style='carto-positron',\n",
    "                  zoom=4, center=dict(lat=46.7111, lon=1.7191))\n"
   ]
  },
  {
   "cell_type": "code",
   "execution_count": null,
   "metadata": {
    "scrolled": false
   },
   "outputs": [],
   "source": [
    "fig=px.density_mapbox(accidents_caracs_with_grav, z=None, lat='lat', animation_frame=\"grav\",\n",
    "                  lon='long', radius=5, opacity=.6, mapbox_style='carto-positron',\n",
    "                  zoom=4, center=dict(lat=46.7111, lon=1.7191))\n",
    "fig[\"layout\"].pop(\"updatemenus\")\n",
    "fig.show()"
   ]
  },
  {
   "cell_type": "code",
   "execution_count": null,
   "metadata": {
    "scrolled": false
   },
   "outputs": [],
   "source": [
    "fig=px.density_mapbox(acg, z=None, lat='lat', animation_frame=\"grav\",\n",
    "                  lon='long', radius=4, opacity=.6, mapbox_style='carto-positron',\n",
    "                  zoom=4, center=dict(lat=46.7111, lon=1.7191), hover_name=\"year\",\n",
    "                      color_continuous_scale=px.colors.diverging.Picnic)\n",
    "fig[\"layout\"].pop(\"updatemenus\")\n",
    "fig.show()"
   ]
  },
  {
   "cell_type": "code",
   "execution_count": null,
   "metadata": {
    "scrolled": false
   },
   "outputs": [],
   "source": [
    "fig=px.density_mapbox(acg, z=None, lat='lat', animation_frame=\"year\",\n",
    "                  lon='long', radius=5, opacity=.6, mapbox_style='carto-positron',\n",
    "                  zoom=4, center=dict(lat=46.7111, lon=1.7191), hover_name=\"grav\",\n",
    "                      color_continuous_scale=px.colors.diverging.Picnic)\n",
    "\n",
    "fig[\"layout\"].pop(\"updatemenus\")\n",
    "fig.show()"
   ]
  },
  {
   "cell_type": "code",
   "execution_count": null,
   "metadata": {},
   "outputs": [],
   "source": [
    "fig.write_html(\"./map.html\")"
   ]
  }
 ],
 "metadata": {
  "interpreter": {
   "hash": "8f010d38eb77015149890916fa90a693ab576a4b72ab0fb3f07409d79bd272ab"
  },
  "kernelspec": {
   "display_name": "Python 3 (ipykernel)",
   "language": "python",
   "name": "python3"
  },
  "language_info": {
   "codemirror_mode": {
    "name": "ipython",
    "version": 3
   },
   "file_extension": ".py",
   "mimetype": "text/x-python",
   "name": "python",
   "nbconvert_exporter": "python",
   "pygments_lexer": "ipython3",
   "version": "3.10.2"
  }
 },
 "nbformat": 4,
 "nbformat_minor": 2
}
