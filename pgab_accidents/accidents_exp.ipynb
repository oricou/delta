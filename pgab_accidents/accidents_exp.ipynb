{
 "cells": [
  {
   "cell_type": "markdown",
   "metadata": {},
   "source": [
    "# Accidents analysis and experimentation notebook"
   ]
  },
  {
   "cell_type": "code",
   "execution_count": null,
   "metadata": {},
   "outputs": [],
   "source": [
    "import pandas as pd\n",
    "import matplotlib.pyplot as plt\n",
    "import plotly.express as px\n",
    "import folium\n",
    "%matplotlib inline"
   ]
  },
  {
   "cell_type": "code",
   "execution_count": null,
   "metadata": {},
   "outputs": [],
   "source": [
    "usagers = pd.read_csv('data/2020/usagers.csv')\n",
    "usagers\n"
   ]
  },
  {
   "cell_type": "code",
   "execution_count": null,
   "metadata": {},
   "outputs": [],
   "source": [
    "caracs = pd.read_csv('data/2020/caracteristiques.csv')\n",
    "caracs[['lat', 'long']] /= 100_000\n",
    "caracs"
   ]
  },
  {
   "cell_type": "code",
   "execution_count": null,
   "metadata": {},
   "outputs": [],
   "source": [
    "positions = caracs[['lat', 'long']].dropna()\n",
    "positions"
   ]
  },
  {
   "cell_type": "code",
   "execution_count": null,
   "metadata": {},
   "outputs": [],
   "source": [
    "france_pos=[46.7111,1.7191]\n",
    "france_zoom=6"
   ]
  },
  {
   "cell_type": "code",
   "execution_count": null,
   "metadata": {},
   "outputs": [],
   "source": [
    "from folium import plugins\n",
    "m = folium.Map(location=france_pos, tiles=None, zoom_start=france_zoom)\n",
    "m.add_child(folium.TileLayer(\n",
    "    tiles=\"https://{s}.basemaps.cartocdn.com/rastertiles/dark_all/{z}/{x}/{y}.png\",\n",
    "    attr='&copy; <a href=\"https://www.openstreetmap.org/copyright\">OpenStreetMap</a> contributors &copy; <a href=\"https://carto.com/attributions\">CARTO</a>',\n",
    "    control=False,\n",
    "    opacity=0.7\n",
    "))\n",
    "m.add_child(plugins.HeatMap(positions, radius=8, name='heat'))\n",
    "m.add_child(plugins.MarkerCluster(positions, name='marker', show=False))\n",
    "m.add_child(folium.LayerControl())\n",
    "m"
   ]
  },
  {
   "cell_type": "code",
   "execution_count": null,
   "metadata": {},
   "outputs": [],
   "source": [
    "m.save(\"./map.html\")"
   ]
  },
  {
   "cell_type": "code",
   "execution_count": null,
   "metadata": {},
   "outputs": [],
   "source": [
    "accidents_gravity = usagers[['Num_Acc','grav']].groupby('Num_Acc').agg('max')\n",
    "accidents_gravity"
   ]
  },
  {
   "cell_type": "code",
   "execution_count": null,
   "metadata": {},
   "outputs": [],
   "source": [
    "accidents_caracs_with_grav = pd.merge(caracs, accidents_gravity, how='inner', on='Num_Acc')\n",
    "accidents_caracs_with_grav"
   ]
  },
  {
   "cell_type": "code",
   "execution_count": null,
   "metadata": {},
   "outputs": [],
   "source": [
    "px.scatter_mapbox(accidents_caracs_with_grav, lat='lat',\n",
    "                  lon='long', color='grav', mapbox_style='carto-positron')\n"
   ]
  },
  {
   "cell_type": "code",
   "execution_count": null,
   "metadata": {},
   "outputs": [],
   "source": []
  }
 ],
 "metadata": {
  "interpreter": {
   "hash": "8f010d38eb77015149890916fa90a693ab576a4b72ab0fb3f07409d79bd272ab"
  },
  "kernelspec": {
   "display_name": "Python 3 (ipykernel)",
   "language": "python",
   "name": "python3"
  },
  "language_info": {
   "codemirror_mode": {
    "name": "ipython",
    "version": 3
   },
   "file_extension": ".py",
   "mimetype": "text/x-python",
   "name": "python",
   "nbconvert_exporter": "python",
   "pygments_lexer": "ipython3",
   "version": "3.10.4"
  }
 },
 "nbformat": 4,
 "nbformat_minor": 2
}
