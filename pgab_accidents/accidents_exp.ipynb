{
 "cells": [
  {
   "cell_type": "markdown",
   "metadata": {},
   "source": [
    "# Accidents analysis and experimentation notebook"
   ]
  },
  {
   "cell_type": "code",
   "execution_count": null,
   "metadata": {},
   "outputs": [],
   "source": [
    "import pandas as pd\n",
    "import matplotlib.pyplot as plt\n",
    "import plotly.express as px\n",
    "import folium\n",
    "%matplotlib inline"
   ]
  },
  {
   "cell_type": "code",
   "execution_count": null,
   "metadata": {},
   "outputs": [],
   "source": [
    "usagers = pd.read_csv('data/2020/usagers.csv')\n",
    "usagers\n"
   ]
  },
  {
   "cell_type": "code",
   "execution_count": null,
   "metadata": {},
   "outputs": [],
   "source": [
    "caracs = pd.read_csv('data/2020/caracteristiques.csv')\n",
    "caracs"
   ]
  },
  {
   "cell_type": "code",
   "execution_count": null,
   "metadata": {},
   "outputs": [],
   "source": [
    "positions = caracs[['lat', 'long']].dropna()\n",
    "positions"
   ]
  },
  {
   "cell_type": "code",
   "execution_count": null,
   "metadata": {},
   "outputs": [],
   "source": [
    "france_pos=[46.7111,1.7191]\n",
    "france_zoom=6"
   ]
  },
  {
   "cell_type": "code",
   "execution_count": null,
   "metadata": {},
   "outputs": [],
   "source": [
    "# from folium import plugins\n",
    "# m = folium.Map(location=france_pos, tiles=None, zoom_start=france_zoom)\n",
    "# m.add_child(folium.TileLayer(\n",
    "#     tiles=\"https://{s}.basemaps.cartocdn.com/rastertiles/dark_all/{z}/{x}/{y}.png\",\n",
    "#     attr='&copy; <a href=\"https://www.openstreetmap.org/copyright\">OpenStreetMap</a> contributors &copy; <a href=\"https://carto.com/attributions\">CARTO</a>',\n",
    "#     control=False,\n",
    "#     opacity=0.7\n",
    "# ))\n",
    "# m.add_child(plugins.HeatMap(positions, radius=8, name='heat'))\n",
    "# m.add_child(plugins.MarkerCluster(positions, name='marker', show=False))\n",
    "# m.add_child(folium.LayerControl())\n",
    "# m"
   ]
  },
  {
   "cell_type": "code",
   "execution_count": null,
   "metadata": {},
   "outputs": [],
   "source": [
    "accidents_gravity = usagers[['Num_Acc','grav']].groupby('Num_Acc').agg('max')\n",
    "accidents_gravity"
   ]
  },
  {
   "cell_type": "code",
   "execution_count": null,
   "metadata": {},
   "outputs": [],
   "source": [
    "accidents_caracs_with_grav = pd.merge(caracs, accidents_gravity, how='inner', on='Num_Acc')\n",
    "accidents_caracs_with_grav"
   ]
  },
  {
   "cell_type": "code",
   "execution_count": null,
   "metadata": {
    "scrolled": false
   },
   "outputs": [],
   "source": [
    "px.scatter_mapbox(accidents_caracs_with_grav, lat='lat',\n",
    "                  lon='long', color='grav', mapbox_style='carto-positron')\n"
   ]
  },
  {
   "cell_type": "code",
   "execution_count": null,
   "metadata": {
    "scrolled": false
   },
   "outputs": [],
   "source": [
    "fig=px.density_mapbox(accidents_caracs_with_grav, z=None, lat='lat', animation_frame=\"grav\",\n",
    "                  lon='long', radius=5, opacity=.6, mapbox_style='carto-positron',\n",
    "                  zoom=4, center=dict(lat=46.7111, lon=1.7191))\n",
    "fig[\"layout\"].pop(\"updatemenus\")\n",
    "fig.show()"
   ]
  },
  {
   "cell_type": "code",
   "execution_count": null,
   "metadata": {
    "scrolled": false
   },
   "outputs": [],
   "source": [
    "u05 = pd.read_csv('data/2005/usagers.csv')\n",
    "c05 = pd.read_csv('data/2005/caracteristiques.csv')\n",
    "ag05 = u05[['Num_Acc','grav']].groupby('Num_Acc').agg('max')\n",
    "acg05 = pd.merge(c05, ag05, how='inner', on='Num_Acc')\n",
    "acg05['year'] = '2005'\n",
    "\n",
    "u06 = pd.read_csv('data/2006/usagers.csv')\n",
    "c06 = pd.read_csv('data/2006/caracteristiques.csv')\n",
    "ag06 = u06[['Num_Acc','grav']].groupby('Num_Acc').agg('max')\n",
    "acg06 = pd.merge(c06, ag06, how='inner', on='Num_Acc')\n",
    "acg06['year'] = '2006'\n",
    "\n",
    "u07 = pd.read_csv('data/2007/usagers.csv')\n",
    "c07 = pd.read_csv('data/2007/caracteristiques.csv')\n",
    "ag07 = u07[['Num_Acc','grav']].groupby('Num_Acc').agg('max')\n",
    "acg07 = pd.merge(c07, ag07, how='inner', on='Num_Acc')\n",
    "acg07['year'] = '2007'\n",
    "\n",
    "u08 = pd.read_csv('data/2008/usagers.csv')\n",
    "c08 = pd.read_csv('data/2008/caracteristiques.csv')\n",
    "ag08 = u08[['Num_Acc','grav']].groupby('Num_Acc').agg('max')\n",
    "acg08 = pd.merge(c08, ag08, how='inner', on='Num_Acc')\n",
    "acg08['year'] = '2008'\n",
    "\n",
    "u10 = pd.read_csv('data/2010/usagers.csv')\n",
    "c10 = pd.read_csv('data/2010/caracteristiques.csv')\n",
    "ag10 = u10[['Num_Acc','grav']].groupby('Num_Acc').agg('max')\n",
    "acg10 = pd.merge(c10, ag10, how='inner', on='Num_Acc')\n",
    "acg10['year'] = '2010'\n",
    "\n",
    "u11 = pd.read_csv('data/2011/usagers.csv')\n",
    "c11 = pd.read_csv('data/2011/caracteristiques.csv')\n",
    "ag11 = u11[['Num_Acc','grav']].groupby('Num_Acc').agg('max')\n",
    "acg11 = pd.merge(c11, ag11, how='inner', on='Num_Acc')\n",
    "acg11['year'] = '2011'\n",
    "\n",
    "u12 = pd.read_csv('data/2012/usagers.csv')\n",
    "c12 = pd.read_csv('data/2012/caracteristiques.csv')\n",
    "ag12 = u12[['Num_Acc','grav']].groupby('Num_Acc').agg('max')\n",
    "acg12 = pd.merge(c12, ag12, how='inner', on='Num_Acc')\n",
    "acg12['year'] = '2012'\n",
    "\n",
    "u13 = pd.read_csv('data/2013/usagers.csv')\n",
    "c13 = pd.read_csv('data/2013/caracteristiques.csv')\n",
    "ag13 = u13[['Num_Acc','grav']].groupby('Num_Acc').agg('max')\n",
    "acg13 = pd.merge(c13, ag13, how='inner', on='Num_Acc')\n",
    "acg13['year'] = '2013'\n",
    "\n",
    "u14 = pd.read_csv('data/2014/usagers.csv')\n",
    "c14 = pd.read_csv('data/2014/caracteristiques.csv')\n",
    "ag14 = u14[['Num_Acc','grav']].groupby('Num_Acc').agg('max')\n",
    "acg14 = pd.merge(c14, ag14, how='inner', on='Num_Acc')\n",
    "acg14['year'] = '2014'\n",
    "\n",
    "u15 = pd.read_csv('data/2015/usagers.csv')\n",
    "c15 = pd.read_csv('data/2015/caracteristiques.csv')\n",
    "ag15 = u15[['Num_Acc','grav']].groupby('Num_Acc').agg('max')\n",
    "acg15 = pd.merge(c15, ag15, how='inner', on='Num_Acc')\n",
    "acg15['year'] = '2015'\n",
    "\n",
    "u16 = pd.read_csv('data/2016/usagers.csv')\n",
    "c16 = pd.read_csv('data/2016/caracteristiques.csv')\n",
    "ag16 = u16[['Num_Acc','grav']].groupby('Num_Acc').agg('max')\n",
    "acg16 = pd.merge(c16, ag16, how='inner', on='Num_Acc')\n",
    "acg16['year'] = '2016'\n",
    "\n",
    "u17 = pd.read_csv('data/2017/usagers.csv')\n",
    "c17 = pd.read_csv('data/2017/caracteristiques.csv')\n",
    "ag17 = u17[['Num_Acc','grav']].groupby('Num_Acc').agg('max')\n",
    "acg17 = pd.merge(c17, ag17, how='inner', on='Num_Acc')\n",
    "acg17['year'] = '2017'\n",
    "\n",
    "u18 = pd.read_csv('data/2018/usagers.csv')\n",
    "c18 = pd.read_csv('data/2018/caracteristiques.csv')\n",
    "ag18 = u18[['Num_Acc','grav']].groupby('Num_Acc').agg('max')\n",
    "acg18 = pd.merge(c18, ag18, how='inner', on='Num_Acc')\n",
    "acg18['year'] = '2018'\n",
    "\n",
    "u19 = pd.read_csv('data/2019/usagers.csv')\n",
    "c19 = pd.read_csv('data/2019/caracteristiques.csv')\n",
    "ag19 = u19[['Num_Acc','grav']].groupby('Num_Acc').agg('max')\n",
    "acg19 = pd.merge(c19, ag19, how='inner', on='Num_Acc')\n",
    "acg19['year'] = '2019'\n",
    "\n",
    "u20 = pd.read_csv('data/2020/usagers.csv')\n",
    "c20 = pd.read_csv('data/2020/caracteristiques.csv')\n",
    "ag20 = u20[['Num_Acc','grav']].groupby('Num_Acc').agg('max')\n",
    "acg20 = pd.merge(c20, ag20, how='inner', on='Num_Acc')\n",
    "acg20['year'] = '2020'\n",
    "\n",
    "acg = pd.concat([acg05, acg06, acg07, acg08, acg10,\n",
    "                 acg11, acg12, acg13, acg14, acg15,\n",
    "                 acg16, acg17, acg18, acg19, acg20])\n",
    "acg"
   ]
  },
  {
   "cell_type": "code",
   "execution_count": null,
   "metadata": {
    "scrolled": false
   },
   "outputs": [],
   "source": [
    "fig=px.density_mapbox(acg, z=None, lat='lat', animation_frame=\"grav\",\n",
    "                  lon='long', radius=4, opacity=.6, mapbox_style='carto-positron',\n",
    "                  zoom=4, center=dict(lat=46.7111, lon=1.7191), hover_name=\"year\",\n",
    "                      color_continuous_scale=px.colors.diverging.Picnic)\n",
    "fig[\"layout\"].pop(\"updatemenus\")\n",
    "fig.show()"
   ]
  },
  {
   "cell_type": "code",
   "execution_count": null,
   "metadata": {
    "scrolled": false
   },
   "outputs": [],
   "source": [
    "fig=px.density_mapbox(acg, z=None, lat='lat', animation_frame=\"year\",\n",
    "                  lon='long', radius=5, opacity=.6, mapbox_style='carto-positron',\n",
    "                  zoom=4, center=dict(lat=46.7111, lon=1.7191), hover_name=\"grav\",\n",
    "                      color_continuous_scale=px.colors.diverging.Picnic)\n",
    "\n",
    "fig[\"layout\"].pop(\"updatemenus\")\n",
    "fig.show()"
   ]
  },
  {
   "cell_type": "code",
   "execution_count": null,
   "metadata": {},
   "outputs": [],
   "source": [
    "fig.write_html(\"./map.html\")"
   ]
  }
 ],
 "metadata": {
  "interpreter": {
   "hash": "8f010d38eb77015149890916fa90a693ab576a4b72ab0fb3f07409d79bd272ab"
  },
  "kernelspec": {
   "display_name": "Python 3 (ipykernel)",
   "language": "python",
   "name": "python3"
  },
  "language_info": {
   "codemirror_mode": {
    "name": "ipython",
    "version": 3
   },
   "file_extension": ".py",
   "mimetype": "text/x-python",
   "name": "python",
   "nbconvert_exporter": "python",
   "pygments_lexer": "ipython3",
   "version": "3.8.10"
  }
 },
 "nbformat": 4,
 "nbformat_minor": 2
}
