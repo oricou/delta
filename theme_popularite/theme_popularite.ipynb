{
 "cells": [
  {
   "cell_type": "code",
   "execution_count": 53,
   "id": "6f378bc7-d2a9-43b1-9e1b-b7230164e807",
   "metadata": {},
   "outputs": [
    {
     "data": {
      "text/html": [
       "<div>\n",
       "<style scoped>\n",
       "    .dataframe tbody tr th:only-of-type {\n",
       "        vertical-align: middle;\n",
       "    }\n",
       "\n",
       "    .dataframe tbody tr th {\n",
       "        vertical-align: top;\n",
       "    }\n",
       "\n",
       "    .dataframe thead th {\n",
       "        text-align: right;\n",
       "    }\n",
       "</style>\n",
       "<table border=\"1\" class=\"dataframe\">\n",
       "  <thead>\n",
       "    <tr style=\"text-align: right;\">\n",
       "      <th></th>\n",
       "      <th>Unnamed: 0</th>\n",
       "      <th>budget</th>\n",
       "      <th>genres</th>\n",
       "      <th>original_language</th>\n",
       "      <th>overview</th>\n",
       "      <th>popularity</th>\n",
       "      <th>release_date</th>\n",
       "      <th>revenue</th>\n",
       "      <th>runtime</th>\n",
       "      <th>spoken_languages</th>\n",
       "      <th>status</th>\n",
       "      <th>tagline</th>\n",
       "      <th>title</th>\n",
       "      <th>vote_average</th>\n",
       "      <th>vote_count</th>\n",
       "      <th>release_year</th>\n",
       "    </tr>\n",
       "  </thead>\n",
       "  <tbody>\n",
       "    <tr>\n",
       "      <th>0</th>\n",
       "      <td>0</td>\n",
       "      <td>30000000</td>\n",
       "      <td>[{'id': 16, 'name': 'Animation'}, {'id': 35, '...</td>\n",
       "      <td>en</td>\n",
       "      <td>Led by Woody, Andy's toys live happily in his ...</td>\n",
       "      <td>21.946943</td>\n",
       "      <td>1995-10-30</td>\n",
       "      <td>373554033.0</td>\n",
       "      <td>81.0</td>\n",
       "      <td>[{'iso_639_1': 'en', 'name': 'English'}]</td>\n",
       "      <td>Released</td>\n",
       "      <td>NaN</td>\n",
       "      <td>Toy Story</td>\n",
       "      <td>7.7</td>\n",
       "      <td>5415.0</td>\n",
       "      <td>1995</td>\n",
       "    </tr>\n",
       "    <tr>\n",
       "      <th>1</th>\n",
       "      <td>1</td>\n",
       "      <td>65000000</td>\n",
       "      <td>[{'id': 12, 'name': 'Adventure'}, {'id': 14, '...</td>\n",
       "      <td>en</td>\n",
       "      <td>When siblings Judy and Peter discover an encha...</td>\n",
       "      <td>17.015539</td>\n",
       "      <td>1995-12-15</td>\n",
       "      <td>262797249.0</td>\n",
       "      <td>104.0</td>\n",
       "      <td>[{'iso_639_1': 'en', 'name': 'English'}, {'iso...</td>\n",
       "      <td>Released</td>\n",
       "      <td>Roll the dice and unleash the excitement!</td>\n",
       "      <td>Jumanji</td>\n",
       "      <td>6.9</td>\n",
       "      <td>2413.0</td>\n",
       "      <td>1995</td>\n",
       "    </tr>\n",
       "    <tr>\n",
       "      <th>2</th>\n",
       "      <td>3</td>\n",
       "      <td>16000000</td>\n",
       "      <td>[{'id': 35, 'name': 'Comedy'}, {'id': 18, 'nam...</td>\n",
       "      <td>en</td>\n",
       "      <td>Cheated on, mistreated and stepped on, the wom...</td>\n",
       "      <td>3.859495</td>\n",
       "      <td>1995-12-22</td>\n",
       "      <td>81452156.0</td>\n",
       "      <td>127.0</td>\n",
       "      <td>[{'iso_639_1': 'en', 'name': 'English'}]</td>\n",
       "      <td>Released</td>\n",
       "      <td>Friends are the people who let you be yourself...</td>\n",
       "      <td>Waiting to Exhale</td>\n",
       "      <td>6.1</td>\n",
       "      <td>34.0</td>\n",
       "      <td>1995</td>\n",
       "    </tr>\n",
       "    <tr>\n",
       "      <th>3</th>\n",
       "      <td>5</td>\n",
       "      <td>60000000</td>\n",
       "      <td>[{'id': 28, 'name': 'Action'}, {'id': 80, 'nam...</td>\n",
       "      <td>en</td>\n",
       "      <td>Obsessive master thief, Neil McCauley leads a ...</td>\n",
       "      <td>17.924927</td>\n",
       "      <td>1995-12-15</td>\n",
       "      <td>187436818.0</td>\n",
       "      <td>170.0</td>\n",
       "      <td>[{'iso_639_1': 'en', 'name': 'English'}, {'iso...</td>\n",
       "      <td>Released</td>\n",
       "      <td>A Los Angeles Crime Saga</td>\n",
       "      <td>Heat</td>\n",
       "      <td>7.7</td>\n",
       "      <td>1886.0</td>\n",
       "      <td>1995</td>\n",
       "    </tr>\n",
       "    <tr>\n",
       "      <th>4</th>\n",
       "      <td>8</td>\n",
       "      <td>35000000</td>\n",
       "      <td>[{'id': 28, 'name': 'Action'}, {'id': 12, 'nam...</td>\n",
       "      <td>en</td>\n",
       "      <td>International action superstar Jean Claude Van...</td>\n",
       "      <td>5.231580</td>\n",
       "      <td>1995-12-22</td>\n",
       "      <td>64350171.0</td>\n",
       "      <td>106.0</td>\n",
       "      <td>[{'iso_639_1': 'en', 'name': 'English'}]</td>\n",
       "      <td>Released</td>\n",
       "      <td>Terror goes into overtime.</td>\n",
       "      <td>Sudden Death</td>\n",
       "      <td>5.5</td>\n",
       "      <td>174.0</td>\n",
       "      <td>1995</td>\n",
       "    </tr>\n",
       "    <tr>\n",
       "      <th>...</th>\n",
       "      <td>...</td>\n",
       "      <td>...</td>\n",
       "      <td>...</td>\n",
       "      <td>...</td>\n",
       "      <td>...</td>\n",
       "      <td>...</td>\n",
       "      <td>...</td>\n",
       "      <td>...</td>\n",
       "      <td>...</td>\n",
       "      <td>...</td>\n",
       "      <td>...</td>\n",
       "      <td>...</td>\n",
       "      <td>...</td>\n",
       "      <td>...</td>\n",
       "      <td>...</td>\n",
       "      <td>...</td>\n",
       "    </tr>\n",
       "    <tr>\n",
       "      <th>5376</th>\n",
       "      <td>45250</td>\n",
       "      <td>12000000</td>\n",
       "      <td>[{'id': 28, 'name': 'Action'}, {'id': 35, 'nam...</td>\n",
       "      <td>ta</td>\n",
       "      <td>Corrupt police and politicians target a comput...</td>\n",
       "      <td>1.323587</td>\n",
       "      <td>2007-06-14</td>\n",
       "      <td>19000000.0</td>\n",
       "      <td>185.0</td>\n",
       "      <td>[{'iso_639_1': 'ta', 'name': 'தமிழ்'}, {'iso_6...</td>\n",
       "      <td>Released</td>\n",
       "      <td>NaN</td>\n",
       "      <td>Sivaji: The Boss</td>\n",
       "      <td>6.9</td>\n",
       "      <td>25.0</td>\n",
       "      <td>2007</td>\n",
       "    </tr>\n",
       "    <tr>\n",
       "      <th>5377</th>\n",
       "      <td>45399</td>\n",
       "      <td>750000</td>\n",
       "      <td>[{'id': 80, 'name': 'Crime'}, {'id': 35, 'name...</td>\n",
       "      <td>ru</td>\n",
       "      <td>NaN</td>\n",
       "      <td>0.201582</td>\n",
       "      <td>2014-06-05</td>\n",
       "      <td>3.0</td>\n",
       "      <td>0.0</td>\n",
       "      <td>[{'iso_639_1': 'ru', 'name': 'Pусский'}]</td>\n",
       "      <td>Released</td>\n",
       "      <td>NaN</td>\n",
       "      <td>All at Once</td>\n",
       "      <td>6.0</td>\n",
       "      <td>4.0</td>\n",
       "      <td>2014</td>\n",
       "    </tr>\n",
       "    <tr>\n",
       "      <th>5378</th>\n",
       "      <td>45409</td>\n",
       "      <td>800000</td>\n",
       "      <td>[{'id': 35, 'name': 'Comedy'}, {'id': 18, 'nam...</td>\n",
       "      <td>en</td>\n",
       "      <td>The sea, August, interesting and simple people...</td>\n",
       "      <td>0.903061</td>\n",
       "      <td>2006-11-23</td>\n",
       "      <td>1328612.0</td>\n",
       "      <td>100.0</td>\n",
       "      <td>[{'iso_639_1': 'ru', 'name': 'Pусский'}]</td>\n",
       "      <td>Released</td>\n",
       "      <td>NaN</td>\n",
       "      <td>Savages</td>\n",
       "      <td>5.8</td>\n",
       "      <td>6.0</td>\n",
       "      <td>2006</td>\n",
       "    </tr>\n",
       "    <tr>\n",
       "      <th>5379</th>\n",
       "      <td>45412</td>\n",
       "      <td>2000000</td>\n",
       "      <td>[{'id': 10749, 'name': 'Romance'}, {'id': 18, ...</td>\n",
       "      <td>en</td>\n",
       "      <td>У девушки Даши, приехавшей с подругой «покорят...</td>\n",
       "      <td>0.121844</td>\n",
       "      <td>2010-09-30</td>\n",
       "      <td>1268793.0</td>\n",
       "      <td>107.0</td>\n",
       "      <td>[{'iso_639_1': 'ru', 'name': 'Pусский'}]</td>\n",
       "      <td>Released</td>\n",
       "      <td>NaN</td>\n",
       "      <td>Pro Lyuboff</td>\n",
       "      <td>4.0</td>\n",
       "      <td>3.0</td>\n",
       "      <td>2010</td>\n",
       "    </tr>\n",
       "    <tr>\n",
       "      <th>5380</th>\n",
       "      <td>45422</td>\n",
       "      <td>5000000</td>\n",
       "      <td>[{'id': 28, 'name': 'Action'}, {'id': 35, 'nam...</td>\n",
       "      <td>ru</td>\n",
       "      <td>Failing to complete an important assignment wi...</td>\n",
       "      <td>0.039793</td>\n",
       "      <td>2007-09-06</td>\n",
       "      <td>1413000.0</td>\n",
       "      <td>91.0</td>\n",
       "      <td>[{'iso_639_1': 'ru', 'name': 'Pусский'}]</td>\n",
       "      <td>Released</td>\n",
       "      <td>NaN</td>\n",
       "      <td>Antidur</td>\n",
       "      <td>1.0</td>\n",
       "      <td>1.0</td>\n",
       "      <td>2007</td>\n",
       "    </tr>\n",
       "  </tbody>\n",
       "</table>\n",
       "<p>5381 rows × 16 columns</p>\n",
       "</div>"
      ],
      "text/plain": [
       "      Unnamed: 0    budget                                             genres  \\\n",
       "0              0  30000000  [{'id': 16, 'name': 'Animation'}, {'id': 35, '...   \n",
       "1              1  65000000  [{'id': 12, 'name': 'Adventure'}, {'id': 14, '...   \n",
       "2              3  16000000  [{'id': 35, 'name': 'Comedy'}, {'id': 18, 'nam...   \n",
       "3              5  60000000  [{'id': 28, 'name': 'Action'}, {'id': 80, 'nam...   \n",
       "4              8  35000000  [{'id': 28, 'name': 'Action'}, {'id': 12, 'nam...   \n",
       "...          ...       ...                                                ...   \n",
       "5376       45250  12000000  [{'id': 28, 'name': 'Action'}, {'id': 35, 'nam...   \n",
       "5377       45399    750000  [{'id': 80, 'name': 'Crime'}, {'id': 35, 'name...   \n",
       "5378       45409    800000  [{'id': 35, 'name': 'Comedy'}, {'id': 18, 'nam...   \n",
       "5379       45412   2000000  [{'id': 10749, 'name': 'Romance'}, {'id': 18, ...   \n",
       "5380       45422   5000000  [{'id': 28, 'name': 'Action'}, {'id': 35, 'nam...   \n",
       "\n",
       "     original_language                                           overview  \\\n",
       "0                   en  Led by Woody, Andy's toys live happily in his ...   \n",
       "1                   en  When siblings Judy and Peter discover an encha...   \n",
       "2                   en  Cheated on, mistreated and stepped on, the wom...   \n",
       "3                   en  Obsessive master thief, Neil McCauley leads a ...   \n",
       "4                   en  International action superstar Jean Claude Van...   \n",
       "...                ...                                                ...   \n",
       "5376                ta  Corrupt police and politicians target a comput...   \n",
       "5377                ru                                                NaN   \n",
       "5378                en  The sea, August, interesting and simple people...   \n",
       "5379                en  У девушки Даши, приехавшей с подругой «покорят...   \n",
       "5380                ru  Failing to complete an important assignment wi...   \n",
       "\n",
       "      popularity release_date      revenue  runtime  \\\n",
       "0      21.946943   1995-10-30  373554033.0     81.0   \n",
       "1      17.015539   1995-12-15  262797249.0    104.0   \n",
       "2       3.859495   1995-12-22   81452156.0    127.0   \n",
       "3      17.924927   1995-12-15  187436818.0    170.0   \n",
       "4       5.231580   1995-12-22   64350171.0    106.0   \n",
       "...          ...          ...          ...      ...   \n",
       "5376    1.323587   2007-06-14   19000000.0    185.0   \n",
       "5377    0.201582   2014-06-05          3.0      0.0   \n",
       "5378    0.903061   2006-11-23    1328612.0    100.0   \n",
       "5379    0.121844   2010-09-30    1268793.0    107.0   \n",
       "5380    0.039793   2007-09-06    1413000.0     91.0   \n",
       "\n",
       "                                       spoken_languages    status  \\\n",
       "0              [{'iso_639_1': 'en', 'name': 'English'}]  Released   \n",
       "1     [{'iso_639_1': 'en', 'name': 'English'}, {'iso...  Released   \n",
       "2              [{'iso_639_1': 'en', 'name': 'English'}]  Released   \n",
       "3     [{'iso_639_1': 'en', 'name': 'English'}, {'iso...  Released   \n",
       "4              [{'iso_639_1': 'en', 'name': 'English'}]  Released   \n",
       "...                                                 ...       ...   \n",
       "5376  [{'iso_639_1': 'ta', 'name': 'தமிழ்'}, {'iso_6...  Released   \n",
       "5377           [{'iso_639_1': 'ru', 'name': 'Pусский'}]  Released   \n",
       "5378           [{'iso_639_1': 'ru', 'name': 'Pусский'}]  Released   \n",
       "5379           [{'iso_639_1': 'ru', 'name': 'Pусский'}]  Released   \n",
       "5380           [{'iso_639_1': 'ru', 'name': 'Pусский'}]  Released   \n",
       "\n",
       "                                                tagline              title  \\\n",
       "0                                                   NaN          Toy Story   \n",
       "1             Roll the dice and unleash the excitement!            Jumanji   \n",
       "2     Friends are the people who let you be yourself...  Waiting to Exhale   \n",
       "3                              A Los Angeles Crime Saga               Heat   \n",
       "4                            Terror goes into overtime.       Sudden Death   \n",
       "...                                                 ...                ...   \n",
       "5376                                                NaN   Sivaji: The Boss   \n",
       "5377                                                NaN        All at Once   \n",
       "5378                                                NaN            Savages   \n",
       "5379                                                NaN        Pro Lyuboff   \n",
       "5380                                                NaN            Antidur   \n",
       "\n",
       "      vote_average  vote_count  release_year  \n",
       "0              7.7      5415.0          1995  \n",
       "1              6.9      2413.0          1995  \n",
       "2              6.1        34.0          1995  \n",
       "3              7.7      1886.0          1995  \n",
       "4              5.5       174.0          1995  \n",
       "...            ...         ...           ...  \n",
       "5376           6.9        25.0          2007  \n",
       "5377           6.0         4.0          2014  \n",
       "5378           5.8         6.0          2006  \n",
       "5379           4.0         3.0          2010  \n",
       "5380           1.0         1.0          2007  \n",
       "\n",
       "[5381 rows x 16 columns]"
      ]
     },
     "execution_count": 53,
     "metadata": {},
     "output_type": "execute_result"
    }
   ],
   "source": [
    "import pandas as pd\n",
    "import json\n",
    "import numpy as np\n",
    "import plotly.express as px\n",
    "\n",
    "df = pd.read_csv(\"data/theme_popularite.csv\")\n",
    "df"
   ]
  },
  {
   "cell_type": "code",
   "execution_count": 54,
   "id": "2c3e7a4b-357e-4a82-bcac-226c3a2b2de7",
   "metadata": {},
   "outputs": [],
   "source": [
    "def convert_genres(s):\n",
    "\tl = json.loads(s.replace('\\'', '\"'))\n",
    "\tret = []\n",
    "\tfor d in l:\n",
    "\t\tret.append(d['name'])\n",
    "\treturn ret"
   ]
  },
  {
   "cell_type": "code",
   "execution_count": 55,
   "id": "14d59c0b-586b-466d-8800-6a5459fbd8c3",
   "metadata": {},
   "outputs": [
    {
     "data": {
      "text/html": [
       "<div>\n",
       "<style scoped>\n",
       "    .dataframe tbody tr th:only-of-type {\n",
       "        vertical-align: middle;\n",
       "    }\n",
       "\n",
       "    .dataframe tbody tr th {\n",
       "        vertical-align: top;\n",
       "    }\n",
       "\n",
       "    .dataframe thead th {\n",
       "        text-align: right;\n",
       "    }\n",
       "</style>\n",
       "<table border=\"1\" class=\"dataframe\">\n",
       "  <thead>\n",
       "    <tr style=\"text-align: right;\">\n",
       "      <th></th>\n",
       "      <th>Unnamed: 0</th>\n",
       "      <th>budget</th>\n",
       "      <th>genres</th>\n",
       "      <th>original_language</th>\n",
       "      <th>overview</th>\n",
       "      <th>popularity</th>\n",
       "      <th>release_date</th>\n",
       "      <th>revenue</th>\n",
       "      <th>runtime</th>\n",
       "      <th>spoken_languages</th>\n",
       "      <th>status</th>\n",
       "      <th>tagline</th>\n",
       "      <th>title</th>\n",
       "      <th>vote_average</th>\n",
       "      <th>vote_count</th>\n",
       "      <th>release_year</th>\n",
       "    </tr>\n",
       "  </thead>\n",
       "  <tbody>\n",
       "    <tr>\n",
       "      <th>0</th>\n",
       "      <td>0</td>\n",
       "      <td>30000000</td>\n",
       "      <td>Animation</td>\n",
       "      <td>en</td>\n",
       "      <td>Led by Woody, Andy's toys live happily in his ...</td>\n",
       "      <td>21.946943</td>\n",
       "      <td>1995-10-30</td>\n",
       "      <td>373554033.0</td>\n",
       "      <td>81.0</td>\n",
       "      <td>[{'iso_639_1': 'en', 'name': 'English'}]</td>\n",
       "      <td>Released</td>\n",
       "      <td>NaN</td>\n",
       "      <td>Toy Story</td>\n",
       "      <td>7.7</td>\n",
       "      <td>5415.0</td>\n",
       "      <td>1995</td>\n",
       "    </tr>\n",
       "    <tr>\n",
       "      <th>0</th>\n",
       "      <td>0</td>\n",
       "      <td>30000000</td>\n",
       "      <td>Comedy</td>\n",
       "      <td>en</td>\n",
       "      <td>Led by Woody, Andy's toys live happily in his ...</td>\n",
       "      <td>21.946943</td>\n",
       "      <td>1995-10-30</td>\n",
       "      <td>373554033.0</td>\n",
       "      <td>81.0</td>\n",
       "      <td>[{'iso_639_1': 'en', 'name': 'English'}]</td>\n",
       "      <td>Released</td>\n",
       "      <td>NaN</td>\n",
       "      <td>Toy Story</td>\n",
       "      <td>7.7</td>\n",
       "      <td>5415.0</td>\n",
       "      <td>1995</td>\n",
       "    </tr>\n",
       "    <tr>\n",
       "      <th>0</th>\n",
       "      <td>0</td>\n",
       "      <td>30000000</td>\n",
       "      <td>Family</td>\n",
       "      <td>en</td>\n",
       "      <td>Led by Woody, Andy's toys live happily in his ...</td>\n",
       "      <td>21.946943</td>\n",
       "      <td>1995-10-30</td>\n",
       "      <td>373554033.0</td>\n",
       "      <td>81.0</td>\n",
       "      <td>[{'iso_639_1': 'en', 'name': 'English'}]</td>\n",
       "      <td>Released</td>\n",
       "      <td>NaN</td>\n",
       "      <td>Toy Story</td>\n",
       "      <td>7.7</td>\n",
       "      <td>5415.0</td>\n",
       "      <td>1995</td>\n",
       "    </tr>\n",
       "    <tr>\n",
       "      <th>1</th>\n",
       "      <td>1</td>\n",
       "      <td>65000000</td>\n",
       "      <td>Adventure</td>\n",
       "      <td>en</td>\n",
       "      <td>When siblings Judy and Peter discover an encha...</td>\n",
       "      <td>17.015539</td>\n",
       "      <td>1995-12-15</td>\n",
       "      <td>262797249.0</td>\n",
       "      <td>104.0</td>\n",
       "      <td>[{'iso_639_1': 'en', 'name': 'English'}, {'iso...</td>\n",
       "      <td>Released</td>\n",
       "      <td>Roll the dice and unleash the excitement!</td>\n",
       "      <td>Jumanji</td>\n",
       "      <td>6.9</td>\n",
       "      <td>2413.0</td>\n",
       "      <td>1995</td>\n",
       "    </tr>\n",
       "    <tr>\n",
       "      <th>1</th>\n",
       "      <td>1</td>\n",
       "      <td>65000000</td>\n",
       "      <td>Fantasy</td>\n",
       "      <td>en</td>\n",
       "      <td>When siblings Judy and Peter discover an encha...</td>\n",
       "      <td>17.015539</td>\n",
       "      <td>1995-12-15</td>\n",
       "      <td>262797249.0</td>\n",
       "      <td>104.0</td>\n",
       "      <td>[{'iso_639_1': 'en', 'name': 'English'}, {'iso...</td>\n",
       "      <td>Released</td>\n",
       "      <td>Roll the dice and unleash the excitement!</td>\n",
       "      <td>Jumanji</td>\n",
       "      <td>6.9</td>\n",
       "      <td>2413.0</td>\n",
       "      <td>1995</td>\n",
       "    </tr>\n",
       "    <tr>\n",
       "      <th>...</th>\n",
       "      <td>...</td>\n",
       "      <td>...</td>\n",
       "      <td>...</td>\n",
       "      <td>...</td>\n",
       "      <td>...</td>\n",
       "      <td>...</td>\n",
       "      <td>...</td>\n",
       "      <td>...</td>\n",
       "      <td>...</td>\n",
       "      <td>...</td>\n",
       "      <td>...</td>\n",
       "      <td>...</td>\n",
       "      <td>...</td>\n",
       "      <td>...</td>\n",
       "      <td>...</td>\n",
       "      <td>...</td>\n",
       "    </tr>\n",
       "    <tr>\n",
       "      <th>5379</th>\n",
       "      <td>45412</td>\n",
       "      <td>2000000</td>\n",
       "      <td>Drama</td>\n",
       "      <td>en</td>\n",
       "      <td>У девушки Даши, приехавшей с подругой «покорят...</td>\n",
       "      <td>0.121844</td>\n",
       "      <td>2010-09-30</td>\n",
       "      <td>1268793.0</td>\n",
       "      <td>107.0</td>\n",
       "      <td>[{'iso_639_1': 'ru', 'name': 'Pусский'}]</td>\n",
       "      <td>Released</td>\n",
       "      <td>NaN</td>\n",
       "      <td>Pro Lyuboff</td>\n",
       "      <td>4.0</td>\n",
       "      <td>3.0</td>\n",
       "      <td>2010</td>\n",
       "    </tr>\n",
       "    <tr>\n",
       "      <th>5380</th>\n",
       "      <td>45422</td>\n",
       "      <td>5000000</td>\n",
       "      <td>Action</td>\n",
       "      <td>ru</td>\n",
       "      <td>Failing to complete an important assignment wi...</td>\n",
       "      <td>0.039793</td>\n",
       "      <td>2007-09-06</td>\n",
       "      <td>1413000.0</td>\n",
       "      <td>91.0</td>\n",
       "      <td>[{'iso_639_1': 'ru', 'name': 'Pусский'}]</td>\n",
       "      <td>Released</td>\n",
       "      <td>NaN</td>\n",
       "      <td>Antidur</td>\n",
       "      <td>1.0</td>\n",
       "      <td>1.0</td>\n",
       "      <td>2007</td>\n",
       "    </tr>\n",
       "    <tr>\n",
       "      <th>5380</th>\n",
       "      <td>45422</td>\n",
       "      <td>5000000</td>\n",
       "      <td>Comedy</td>\n",
       "      <td>ru</td>\n",
       "      <td>Failing to complete an important assignment wi...</td>\n",
       "      <td>0.039793</td>\n",
       "      <td>2007-09-06</td>\n",
       "      <td>1413000.0</td>\n",
       "      <td>91.0</td>\n",
       "      <td>[{'iso_639_1': 'ru', 'name': 'Pусский'}]</td>\n",
       "      <td>Released</td>\n",
       "      <td>NaN</td>\n",
       "      <td>Antidur</td>\n",
       "      <td>1.0</td>\n",
       "      <td>1.0</td>\n",
       "      <td>2007</td>\n",
       "    </tr>\n",
       "    <tr>\n",
       "      <th>5380</th>\n",
       "      <td>45422</td>\n",
       "      <td>5000000</td>\n",
       "      <td>Crime</td>\n",
       "      <td>ru</td>\n",
       "      <td>Failing to complete an important assignment wi...</td>\n",
       "      <td>0.039793</td>\n",
       "      <td>2007-09-06</td>\n",
       "      <td>1413000.0</td>\n",
       "      <td>91.0</td>\n",
       "      <td>[{'iso_639_1': 'ru', 'name': 'Pусский'}]</td>\n",
       "      <td>Released</td>\n",
       "      <td>NaN</td>\n",
       "      <td>Antidur</td>\n",
       "      <td>1.0</td>\n",
       "      <td>1.0</td>\n",
       "      <td>2007</td>\n",
       "    </tr>\n",
       "    <tr>\n",
       "      <th>5380</th>\n",
       "      <td>45422</td>\n",
       "      <td>5000000</td>\n",
       "      <td>Foreign</td>\n",
       "      <td>ru</td>\n",
       "      <td>Failing to complete an important assignment wi...</td>\n",
       "      <td>0.039793</td>\n",
       "      <td>2007-09-06</td>\n",
       "      <td>1413000.0</td>\n",
       "      <td>91.0</td>\n",
       "      <td>[{'iso_639_1': 'ru', 'name': 'Pусский'}]</td>\n",
       "      <td>Released</td>\n",
       "      <td>NaN</td>\n",
       "      <td>Antidur</td>\n",
       "      <td>1.0</td>\n",
       "      <td>1.0</td>\n",
       "      <td>2007</td>\n",
       "    </tr>\n",
       "  </tbody>\n",
       "</table>\n",
       "<p>14020 rows × 16 columns</p>\n",
       "</div>"
      ],
      "text/plain": [
       "      Unnamed: 0    budget     genres original_language  \\\n",
       "0              0  30000000  Animation                en   \n",
       "0              0  30000000     Comedy                en   \n",
       "0              0  30000000     Family                en   \n",
       "1              1  65000000  Adventure                en   \n",
       "1              1  65000000    Fantasy                en   \n",
       "...          ...       ...        ...               ...   \n",
       "5379       45412   2000000      Drama                en   \n",
       "5380       45422   5000000     Action                ru   \n",
       "5380       45422   5000000     Comedy                ru   \n",
       "5380       45422   5000000      Crime                ru   \n",
       "5380       45422   5000000    Foreign                ru   \n",
       "\n",
       "                                               overview  popularity  \\\n",
       "0     Led by Woody, Andy's toys live happily in his ...   21.946943   \n",
       "0     Led by Woody, Andy's toys live happily in his ...   21.946943   \n",
       "0     Led by Woody, Andy's toys live happily in his ...   21.946943   \n",
       "1     When siblings Judy and Peter discover an encha...   17.015539   \n",
       "1     When siblings Judy and Peter discover an encha...   17.015539   \n",
       "...                                                 ...         ...   \n",
       "5379  У девушки Даши, приехавшей с подругой «покорят...    0.121844   \n",
       "5380  Failing to complete an important assignment wi...    0.039793   \n",
       "5380  Failing to complete an important assignment wi...    0.039793   \n",
       "5380  Failing to complete an important assignment wi...    0.039793   \n",
       "5380  Failing to complete an important assignment wi...    0.039793   \n",
       "\n",
       "     release_date      revenue  runtime  \\\n",
       "0      1995-10-30  373554033.0     81.0   \n",
       "0      1995-10-30  373554033.0     81.0   \n",
       "0      1995-10-30  373554033.0     81.0   \n",
       "1      1995-12-15  262797249.0    104.0   \n",
       "1      1995-12-15  262797249.0    104.0   \n",
       "...           ...          ...      ...   \n",
       "5379   2010-09-30    1268793.0    107.0   \n",
       "5380   2007-09-06    1413000.0     91.0   \n",
       "5380   2007-09-06    1413000.0     91.0   \n",
       "5380   2007-09-06    1413000.0     91.0   \n",
       "5380   2007-09-06    1413000.0     91.0   \n",
       "\n",
       "                                       spoken_languages    status  \\\n",
       "0              [{'iso_639_1': 'en', 'name': 'English'}]  Released   \n",
       "0              [{'iso_639_1': 'en', 'name': 'English'}]  Released   \n",
       "0              [{'iso_639_1': 'en', 'name': 'English'}]  Released   \n",
       "1     [{'iso_639_1': 'en', 'name': 'English'}, {'iso...  Released   \n",
       "1     [{'iso_639_1': 'en', 'name': 'English'}, {'iso...  Released   \n",
       "...                                                 ...       ...   \n",
       "5379           [{'iso_639_1': 'ru', 'name': 'Pусский'}]  Released   \n",
       "5380           [{'iso_639_1': 'ru', 'name': 'Pусский'}]  Released   \n",
       "5380           [{'iso_639_1': 'ru', 'name': 'Pусский'}]  Released   \n",
       "5380           [{'iso_639_1': 'ru', 'name': 'Pусский'}]  Released   \n",
       "5380           [{'iso_639_1': 'ru', 'name': 'Pусский'}]  Released   \n",
       "\n",
       "                                        tagline        title  vote_average  \\\n",
       "0                                           NaN    Toy Story           7.7   \n",
       "0                                           NaN    Toy Story           7.7   \n",
       "0                                           NaN    Toy Story           7.7   \n",
       "1     Roll the dice and unleash the excitement!      Jumanji           6.9   \n",
       "1     Roll the dice and unleash the excitement!      Jumanji           6.9   \n",
       "...                                         ...          ...           ...   \n",
       "5379                                        NaN  Pro Lyuboff           4.0   \n",
       "5380                                        NaN      Antidur           1.0   \n",
       "5380                                        NaN      Antidur           1.0   \n",
       "5380                                        NaN      Antidur           1.0   \n",
       "5380                                        NaN      Antidur           1.0   \n",
       "\n",
       "      vote_count  release_year  \n",
       "0         5415.0          1995  \n",
       "0         5415.0          1995  \n",
       "0         5415.0          1995  \n",
       "1         2413.0          1995  \n",
       "1         2413.0          1995  \n",
       "...          ...           ...  \n",
       "5379         3.0          2010  \n",
       "5380         1.0          2007  \n",
       "5380         1.0          2007  \n",
       "5380         1.0          2007  \n",
       "5380         1.0          2007  \n",
       "\n",
       "[14020 rows x 16 columns]"
      ]
     },
     "execution_count": 55,
     "metadata": {},
     "output_type": "execute_result"
    }
   ],
   "source": [
    "df.genres = df.genres.apply(convert_genres)\n",
    "df_exploded = df.explode('genres')\n",
    "df_exploded"
   ]
  },
  {
   "cell_type": "code",
   "execution_count": 129,
   "id": "dbad6fb1-5b75-4244-b219-46f9302a5f8f",
   "metadata": {},
   "outputs": [
    {
     "data": {
      "text/html": [
       "<div>\n",
       "<style scoped>\n",
       "    .dataframe tbody tr th:only-of-type {\n",
       "        vertical-align: middle;\n",
       "    }\n",
       "\n",
       "    .dataframe tbody tr th {\n",
       "        vertical-align: top;\n",
       "    }\n",
       "\n",
       "    .dataframe thead th {\n",
       "        text-align: right;\n",
       "    }\n",
       "</style>\n",
       "<table border=\"1\" class=\"dataframe\">\n",
       "  <thead>\n",
       "    <tr style=\"text-align: right;\">\n",
       "      <th></th>\n",
       "      <th></th>\n",
       "      <th>genres</th>\n",
       "      <th>budget</th>\n",
       "      <th>revenue</th>\n",
       "      <th>popularity</th>\n",
       "      <th>vote_average</th>\n",
       "      <th>vote_count</th>\n",
       "      <th>title</th>\n",
       "    </tr>\n",
       "    <tr>\n",
       "      <th>release_year</th>\n",
       "      <th></th>\n",
       "      <th></th>\n",
       "      <th></th>\n",
       "      <th></th>\n",
       "      <th></th>\n",
       "      <th></th>\n",
       "      <th></th>\n",
       "      <th></th>\n",
       "    </tr>\n",
       "  </thead>\n",
       "  <tbody>\n",
       "    <tr>\n",
       "      <th rowspan=\"3\" valign=\"top\">1915</th>\n",
       "      <th>0</th>\n",
       "      <td>Drama</td>\n",
       "      <td>117311</td>\n",
       "      <td>1.113736e+07</td>\n",
       "      <td>2.896806</td>\n",
       "      <td>5.600000</td>\n",
       "      <td>60.000000</td>\n",
       "      <td>2</td>\n",
       "    </tr>\n",
       "    <tr>\n",
       "      <th>1</th>\n",
       "      <td>History</td>\n",
       "      <td>100000</td>\n",
       "      <td>1.100000e+07</td>\n",
       "      <td>5.113205</td>\n",
       "      <td>6.400000</td>\n",
       "      <td>109.000000</td>\n",
       "      <td>1</td>\n",
       "    </tr>\n",
       "    <tr>\n",
       "      <th>2</th>\n",
       "      <td>War</td>\n",
       "      <td>100000</td>\n",
       "      <td>1.100000e+07</td>\n",
       "      <td>5.113205</td>\n",
       "      <td>6.400000</td>\n",
       "      <td>109.000000</td>\n",
       "      <td>1</td>\n",
       "    </tr>\n",
       "    <tr>\n",
       "      <th rowspan=\"2\" valign=\"top\">1916</th>\n",
       "      <th>3</th>\n",
       "      <td>Action</td>\n",
       "      <td>200000</td>\n",
       "      <td>8.000000e+06</td>\n",
       "      <td>0.917777</td>\n",
       "      <td>6.000000</td>\n",
       "      <td>7.000000</td>\n",
       "      <td>1</td>\n",
       "    </tr>\n",
       "    <tr>\n",
       "      <th>4</th>\n",
       "      <td>Adventure</td>\n",
       "      <td>200000</td>\n",
       "      <td>8.000000e+06</td>\n",
       "      <td>0.917777</td>\n",
       "      <td>6.000000</td>\n",
       "      <td>7.000000</td>\n",
       "      <td>1</td>\n",
       "    </tr>\n",
       "    <tr>\n",
       "      <th>...</th>\n",
       "      <th>...</th>\n",
       "      <td>...</td>\n",
       "      <td>...</td>\n",
       "      <td>...</td>\n",
       "      <td>...</td>\n",
       "      <td>...</td>\n",
       "      <td>...</td>\n",
       "      <td>...</td>\n",
       "    </tr>\n",
       "    <tr>\n",
       "      <th rowspan=\"5\" valign=\"top\">2017</th>\n",
       "      <th>1208</th>\n",
       "      <td>Romance</td>\n",
       "      <td>347845300</td>\n",
       "      <td>1.685507e+09</td>\n",
       "      <td>50.033256</td>\n",
       "      <td>6.562500</td>\n",
       "      <td>1104.125000</td>\n",
       "      <td>8</td>\n",
       "    </tr>\n",
       "    <tr>\n",
       "      <th>1209</th>\n",
       "      <td>Science Fiction</td>\n",
       "      <td>1422271676</td>\n",
       "      <td>3.326604e+09</td>\n",
       "      <td>58.475621</td>\n",
       "      <td>6.357143</td>\n",
       "      <td>1925.000000</td>\n",
       "      <td>14</td>\n",
       "    </tr>\n",
       "    <tr>\n",
       "      <th>1210</th>\n",
       "      <td>Thriller</td>\n",
       "      <td>1259400000</td>\n",
       "      <td>4.184887e+09</td>\n",
       "      <td>34.011323</td>\n",
       "      <td>6.208696</td>\n",
       "      <td>1249.086957</td>\n",
       "      <td>23</td>\n",
       "    </tr>\n",
       "    <tr>\n",
       "      <th>1211</th>\n",
       "      <td>War</td>\n",
       "      <td>362745300</td>\n",
       "      <td>1.132757e+09</td>\n",
       "      <td>36.821993</td>\n",
       "      <td>6.866667</td>\n",
       "      <td>778.666667</td>\n",
       "      <td>6</td>\n",
       "    </tr>\n",
       "    <tr>\n",
       "      <th>1212</th>\n",
       "      <td>Western</td>\n",
       "      <td>70500000</td>\n",
       "      <td>9.644294e+07</td>\n",
       "      <td>43.582051</td>\n",
       "      <td>5.750000</td>\n",
       "      <td>483.500000</td>\n",
       "      <td>2</td>\n",
       "    </tr>\n",
       "  </tbody>\n",
       "</table>\n",
       "<p>1213 rows × 7 columns</p>\n",
       "</div>"
      ],
      "text/plain": [
       "                            genres      budget       revenue  popularity  \\\n",
       "release_year                                                               \n",
       "1915         0               Drama      117311  1.113736e+07    2.896806   \n",
       "             1             History      100000  1.100000e+07    5.113205   \n",
       "             2                 War      100000  1.100000e+07    5.113205   \n",
       "1916         3              Action      200000  8.000000e+06    0.917777   \n",
       "             4           Adventure      200000  8.000000e+06    0.917777   \n",
       "...                            ...         ...           ...         ...   \n",
       "2017         1208          Romance   347845300  1.685507e+09   50.033256   \n",
       "             1209  Science Fiction  1422271676  3.326604e+09   58.475621   \n",
       "             1210         Thriller  1259400000  4.184887e+09   34.011323   \n",
       "             1211              War   362745300  1.132757e+09   36.821993   \n",
       "             1212          Western    70500000  9.644294e+07   43.582051   \n",
       "\n",
       "                   vote_average   vote_count  title  \n",
       "release_year                                         \n",
       "1915         0         5.600000    60.000000      2  \n",
       "             1         6.400000   109.000000      1  \n",
       "             2         6.400000   109.000000      1  \n",
       "1916         3         6.000000     7.000000      1  \n",
       "             4         6.000000     7.000000      1  \n",
       "...                         ...          ...    ...  \n",
       "2017         1208      6.562500  1104.125000      8  \n",
       "             1209      6.357143  1925.000000     14  \n",
       "             1210      6.208696  1249.086957     23  \n",
       "             1211      6.866667   778.666667      6  \n",
       "             1212      5.750000   483.500000      2  \n",
       "\n",
       "[1213 rows x 7 columns]"
      ]
     },
     "execution_count": 129,
     "metadata": {},
     "output_type": "execute_result"
    }
   ],
   "source": [
    "df_year = df_exploded.groupby([\"release_year\",\"genres\"], as_index=False).agg({\"budget\":\"sum\", \"revenue\":\"sum\", \"popularity\":\"mean\", \"vote_average\":\"mean\", \"vote_count\":\"mean\", \"title\":\"count\"})\n",
    "df_year = df_year.set_index('release_year', append=True).swaplevel(1,0).sort_index(level=0)\n",
    "df_year"
   ]
  },
  {
   "cell_type": "code",
   "execution_count": 133,
   "id": "e15e2411-ac57-40a1-86d6-f6561ed9be22",
   "metadata": {},
   "outputs": [
    {
     "data": {
      "application/vnd.plotly.v1+json": {
       "config": {
        "plotlyServerURL": "https://plot.ly"
       },
       "data": [
        {
         "hovertemplate": "<b>%{hovertext}</b><br><br>genres=Action<br>budget=%{x}<br>revenue=%{y}<br>size=%{marker.size}<extra></extra>",
         "hovertext": [
          "Action"
         ],
         "legendgroup": "Action",
         "marker": {
          "color": "#636efa",
          "size": [
           24.08450704225352
          ],
          "sizemode": "area",
          "sizeref": 0.1193661971830986,
          "symbol": "circle"
         },
         "mode": "markers",
         "name": "Action",
         "orientation": "v",
         "showlegend": true,
         "type": "scatter",
         "x": [
          1592000000
         ],
         "xaxis": "x",
         "y": [
          3372006222
         ],
         "yaxis": "y"
        },
        {
         "hovertemplate": "<b>%{hovertext}</b><br><br>genres=Adventure<br>budget=%{x}<br>revenue=%{y}<br>size=%{marker.size}<extra></extra>",
         "hovertext": [
          "Adventure"
         ],
         "legendgroup": "Adventure",
         "marker": {
          "color": "#EF553B",
          "size": [
           19.014084507042256
          ],
          "sizemode": "area",
          "sizeref": 0.1193661971830986,
          "symbol": "circle"
         },
         "mode": "markers",
         "name": "Adventure",
         "orientation": "v",
         "showlegend": true,
         "type": "scatter",
         "x": [
          1185000000
         ],
         "xaxis": "x",
         "y": [
          3150845353
         ],
         "yaxis": "y"
        },
        {
         "hovertemplate": "<b>%{hovertext}</b><br><br>genres=Animation<br>budget=%{x}<br>revenue=%{y}<br>size=%{marker.size}<extra></extra>",
         "hovertext": [
          "Animation"
         ],
         "legendgroup": "Animation",
         "marker": {
          "color": "#00cc96",
          "size": [
           13.943661971830986
          ],
          "sizemode": "area",
          "sizeref": 0.1193661971830986,
          "symbol": "circle"
         },
         "mode": "markers",
         "name": "Animation",
         "orientation": "v",
         "showlegend": true,
         "type": "scatter",
         "x": [
          578000000
         ],
         "xaxis": "x",
         "y": [
          1505485381
         ],
         "yaxis": "y"
        },
        {
         "hovertemplate": "<b>%{hovertext}</b><br><br>genres=Comedy<br>budget=%{x}<br>revenue=%{y}<br>size=%{marker.size}<extra></extra>",
         "hovertext": [
          "Comedy"
         ],
         "legendgroup": "Comedy",
         "marker": {
          "color": "#ab63fa",
          "size": [
           44.92957746478873
          ],
          "sizemode": "area",
          "sizeref": 0.1193661971830986,
          "symbol": "circle"
         },
         "mode": "markers",
         "name": "Comedy",
         "orientation": "v",
         "showlegend": true,
         "type": "scatter",
         "x": [
          2019534302
         ],
         "xaxis": "x",
         "y": [
          4384523059
         ],
         "yaxis": "y"
        },
        {
         "hovertemplate": "<b>%{hovertext}</b><br><br>genres=Crime<br>budget=%{x}<br>revenue=%{y}<br>size=%{marker.size}<extra></extra>",
         "hovertext": [
          "Crime"
         ],
         "legendgroup": "Crime",
         "marker": {
          "color": "#FFA15A",
          "size": [
           21.83098591549296
          ],
          "sizemode": "area",
          "sizeref": 0.1193661971830986,
          "symbol": "circle"
         },
         "mode": "markers",
         "name": "Crime",
         "orientation": "v",
         "showlegend": true,
         "type": "scatter",
         "x": [
          811000000
         ],
         "xaxis": "x",
         "y": [
          2041632820
         ],
         "yaxis": "y"
        },
        {
         "hovertemplate": "<b>%{hovertext}</b><br><br>genres=Documentary<br>budget=%{x}<br>revenue=%{y}<br>size=%{marker.size}<extra></extra>",
         "hovertext": [
          "Documentary"
         ],
         "legendgroup": "Documentary",
         "marker": {
          "color": "#19d3f3",
          "size": [
           10.56338028169014
          ],
          "sizemode": "area",
          "sizeref": 0.1193661971830986,
          "symbol": "circle"
         },
         "mode": "markers",
         "name": "Documentary",
         "orientation": "v",
         "showlegend": true,
         "type": "scatter",
         "x": [
          2053648
         ],
         "xaxis": "x",
         "y": [
          500000
         ],
         "yaxis": "y"
        },
        {
         "hovertemplate": "<b>%{hovertext}</b><br><br>genres=Drama<br>budget=%{x}<br>revenue=%{y}<br>size=%{marker.size}<extra></extra>",
         "hovertext": [
          "Drama"
         ],
         "legendgroup": "Drama",
         "marker": {
          "color": "#FF6692",
          "size": [
           47.74647887323944
          ],
          "sizemode": "area",
          "sizeref": 0.1193661971830986,
          "symbol": "circle"
         },
         "mode": "markers",
         "name": "Drama",
         "orientation": "v",
         "showlegend": true,
         "type": "scatter",
         "x": [
          2223984326
         ],
         "xaxis": "x",
         "y": [
          5357232183
         ],
         "yaxis": "y"
        },
        {
         "hovertemplate": "<b>%{hovertext}</b><br><br>genres=Family<br>budget=%{x}<br>revenue=%{y}<br>size=%{marker.size}<extra></extra>",
         "hovertext": [
          "Family"
         ],
         "legendgroup": "Family",
         "marker": {
          "color": "#B6E880",
          "size": [
           16.76056338028169
          ],
          "sizemode": "area",
          "sizeref": 0.1193661971830986,
          "symbol": "circle"
         },
         "mode": "markers",
         "name": "Family",
         "orientation": "v",
         "showlegend": true,
         "type": "scatter",
         "x": [
          732000000
         ],
         "xaxis": "x",
         "y": [
          1708354519
         ],
         "yaxis": "y"
        },
        {
         "hovertemplate": "<b>%{hovertext}</b><br><br>genres=Fantasy<br>budget=%{x}<br>revenue=%{y}<br>size=%{marker.size}<extra></extra>",
         "hovertext": [
          "Fantasy"
         ],
         "legendgroup": "Fantasy",
         "marker": {
          "color": "#FF97FF",
          "size": [
           17.887323943661972
          ],
          "sizemode": "area",
          "sizeref": 0.1193661971830986,
          "symbol": "circle"
         },
         "mode": "markers",
         "name": "Fantasy",
         "orientation": "v",
         "showlegend": true,
         "type": "scatter",
         "x": [
          948000000
         ],
         "xaxis": "x",
         "y": [
          1829778503
         ],
         "yaxis": "y"
        },
        {
         "hovertemplate": "<b>%{hovertext}</b><br><br>genres=Foreign<br>budget=%{x}<br>revenue=%{y}<br>size=%{marker.size}<extra></extra>",
         "hovertext": [
          "Foreign"
         ],
         "legendgroup": "Foreign",
         "marker": {
          "color": "#FECB52",
          "size": [
           11.126760563380282
          ],
          "sizemode": "area",
          "sizeref": 0.1193661971830986,
          "symbol": "circle"
         },
         "mode": "markers",
         "name": "Foreign",
         "orientation": "v",
         "showlegend": true,
         "type": "scatter",
         "x": [
          7400005
         ],
         "xaxis": "x",
         "y": [
          22000135
         ],
         "yaxis": "y"
        },
        {
         "hovertemplate": "<b>%{hovertext}</b><br><br>genres=History<br>budget=%{x}<br>revenue=%{y}<br>size=%{marker.size}<extra></extra>",
         "hovertext": [
          "History"
         ],
         "legendgroup": "History",
         "marker": {
          "color": "#636efa",
          "size": [
           10.56338028169014
          ],
          "sizemode": "area",
          "sizeref": 0.1193661971830986,
          "symbol": "circle"
         },
         "mode": "markers",
         "name": "History",
         "orientation": "v",
         "showlegend": true,
         "type": "scatter",
         "x": [
          60000000
         ],
         "xaxis": "x",
         "y": [
          66976317
         ],
         "yaxis": "y"
        },
        {
         "hovertemplate": "<b>%{hovertext}</b><br><br>genres=Horror<br>budget=%{x}<br>revenue=%{y}<br>size=%{marker.size}<extra></extra>",
         "hovertext": [
          "Horror"
         ],
         "legendgroup": "Horror",
         "marker": {
          "color": "#EF553B",
          "size": [
           18.450704225352112
          ],
          "sizemode": "area",
          "sizeref": 0.1193661971830986,
          "symbol": "circle"
         },
         "mode": "markers",
         "name": "Horror",
         "orientation": "v",
         "showlegend": true,
         "type": "scatter",
         "x": [
          468060000
         ],
         "xaxis": "x",
         "y": [
          847508783
         ],
         "yaxis": "y"
        },
        {
         "hovertemplate": "<b>%{hovertext}</b><br><br>genres=Music<br>budget=%{x}<br>revenue=%{y}<br>size=%{marker.size}<extra></extra>",
         "hovertext": [
          "Music"
         ],
         "legendgroup": "Music",
         "marker": {
          "color": "#00cc96",
          "size": [
           11.126760563380282
          ],
          "sizemode": "area",
          "sizeref": 0.1193661971830986,
          "symbol": "circle"
         },
         "mode": "markers",
         "name": "Music",
         "orientation": "v",
         "showlegend": true,
         "type": "scatter",
         "x": [
          86500000
         ],
         "xaxis": "x",
         "y": [
          95091685
         ],
         "yaxis": "y"
        },
        {
         "hovertemplate": "<b>%{hovertext}</b><br><br>genres=Mystery<br>budget=%{x}<br>revenue=%{y}<br>size=%{marker.size}<extra></extra>",
         "hovertext": [
          "Mystery"
         ],
         "legendgroup": "Mystery",
         "marker": {
          "color": "#ab63fa",
          "size": [
           20.704225352112676
          ],
          "sizemode": "area",
          "sizeref": 0.1193661971830986,
          "symbol": "circle"
         },
         "mode": "markers",
         "name": "Mystery",
         "orientation": "v",
         "showlegend": true,
         "type": "scatter",
         "x": [
          902060000
         ],
         "xaxis": "x",
         "y": [
          2578886717
         ],
         "yaxis": "y"
        },
        {
         "hovertemplate": "<b>%{hovertext}</b><br><br>genres=Romance<br>budget=%{x}<br>revenue=%{y}<br>size=%{marker.size}<extra></extra>",
         "hovertext": [
          "Romance"
         ],
         "legendgroup": "Romance",
         "marker": {
          "color": "#FFA15A",
          "size": [
           26.338028169014084
          ],
          "sizemode": "area",
          "sizeref": 0.1193661971830986,
          "symbol": "circle"
         },
         "mode": "markers",
         "name": "Romance",
         "orientation": "v",
         "showlegend": true,
         "type": "scatter",
         "x": [
          812050001
         ],
         "xaxis": "x",
         "y": [
          2110027593
         ],
         "yaxis": "y"
        },
        {
         "hovertemplate": "<b>%{hovertext}</b><br><br>genres=Science Fiction<br>budget=%{x}<br>revenue=%{y}<br>size=%{marker.size}<extra></extra>",
         "hovertext": [
          "Science Fiction"
         ],
         "legendgroup": "Science Fiction",
         "marker": {
          "color": "#19d3f3",
          "size": [
           22.394366197183096
          ],
          "sizemode": "area",
          "sizeref": 0.1193661971830986,
          "symbol": "circle"
         },
         "mode": "markers",
         "name": "Science Fiction",
         "orientation": "v",
         "showlegend": true,
         "type": "scatter",
         "x": [
          1150000000
         ],
         "xaxis": "x",
         "y": [
          2607273982
         ],
         "yaxis": "y"
        },
        {
         "hovertemplate": "<b>%{hovertext}</b><br><br>genres=Thriller<br>budget=%{x}<br>revenue=%{y}<br>size=%{marker.size}<extra></extra>",
         "hovertext": [
          "Thriller"
         ],
         "legendgroup": "Thriller",
         "marker": {
          "color": "#FF6692",
          "size": [
           29.718309859154928
          ],
          "sizemode": "area",
          "sizeref": 0.1193661971830986,
          "symbol": "circle"
         },
         "mode": "markers",
         "name": "Thriller",
         "orientation": "v",
         "showlegend": true,
         "type": "scatter",
         "x": [
          1394400000
         ],
         "xaxis": "x",
         "y": [
          2791772105
         ],
         "yaxis": "y"
        },
        {
         "hovertemplate": "<b>%{hovertext}</b><br><br>genres=War<br>budget=%{x}<br>revenue=%{y}<br>size=%{marker.size}<extra></extra>",
         "hovertext": [
          "War"
         ],
         "legendgroup": "War",
         "marker": {
          "color": "#B6E880",
          "size": [
           11.690140845070422
          ],
          "sizemode": "area",
          "sizeref": 0.1193661971830986,
          "symbol": "circle"
         },
         "mode": "markers",
         "name": "War",
         "orientation": "v",
         "showlegend": true,
         "type": "scatter",
         "x": [
          110000000
         ],
         "xaxis": "x",
         "y": [
          88612976
         ],
         "yaxis": "y"
        },
        {
         "hovertemplate": "<b>%{hovertext}</b><br><br>genres=Western<br>budget=%{x}<br>revenue=%{y}<br>size=%{marker.size}<extra></extra>",
         "hovertext": [
          "Western"
         ],
         "legendgroup": "Western",
         "marker": {
          "color": "#FF97FF",
          "size": [
           11.126760563380282
          ],
          "sizemode": "area",
          "sizeref": 0.1193661971830986,
          "symbol": "circle"
         },
         "mode": "markers",
         "name": "Western",
         "orientation": "v",
         "showlegend": true,
         "type": "scatter",
         "x": [
          208000000
         ],
         "xaxis": "x",
         "y": [
          222739777
         ],
         "yaxis": "y"
        }
       ],
       "layout": {
        "autosize": true,
        "hovermode": "closest",
        "legend": {
         "itemsizing": "constant",
         "title": {
          "text": "genres"
         },
         "tracegroupgap": 0
        },
        "margin": {
         "b": 30,
         "l": 40,
         "r": 0,
         "t": 10
        },
        "showlegend": false,
        "template": {
         "data": {
          "bar": [
           {
            "error_x": {
             "color": "#2a3f5f"
            },
            "error_y": {
             "color": "#2a3f5f"
            },
            "marker": {
             "line": {
              "color": "#E5ECF6",
              "width": 0.5
             },
             "pattern": {
              "fillmode": "overlay",
              "size": 10,
              "solidity": 0.2
             }
            },
            "type": "bar"
           }
          ],
          "barpolar": [
           {
            "marker": {
             "line": {
              "color": "#E5ECF6",
              "width": 0.5
             },
             "pattern": {
              "fillmode": "overlay",
              "size": 10,
              "solidity": 0.2
             }
            },
            "type": "barpolar"
           }
          ],
          "carpet": [
           {
            "aaxis": {
             "endlinecolor": "#2a3f5f",
             "gridcolor": "white",
             "linecolor": "white",
             "minorgridcolor": "white",
             "startlinecolor": "#2a3f5f"
            },
            "baxis": {
             "endlinecolor": "#2a3f5f",
             "gridcolor": "white",
             "linecolor": "white",
             "minorgridcolor": "white",
             "startlinecolor": "#2a3f5f"
            },
            "type": "carpet"
           }
          ],
          "choropleth": [
           {
            "colorbar": {
             "outlinewidth": 0,
             "ticks": ""
            },
            "type": "choropleth"
           }
          ],
          "contour": [
           {
            "colorbar": {
             "outlinewidth": 0,
             "ticks": ""
            },
            "colorscale": [
             [
              0,
              "#0d0887"
             ],
             [
              0.1111111111111111,
              "#46039f"
             ],
             [
              0.2222222222222222,
              "#7201a8"
             ],
             [
              0.3333333333333333,
              "#9c179e"
             ],
             [
              0.4444444444444444,
              "#bd3786"
             ],
             [
              0.5555555555555556,
              "#d8576b"
             ],
             [
              0.6666666666666666,
              "#ed7953"
             ],
             [
              0.7777777777777778,
              "#fb9f3a"
             ],
             [
              0.8888888888888888,
              "#fdca26"
             ],
             [
              1,
              "#f0f921"
             ]
            ],
            "type": "contour"
           }
          ],
          "contourcarpet": [
           {
            "colorbar": {
             "outlinewidth": 0,
             "ticks": ""
            },
            "type": "contourcarpet"
           }
          ],
          "heatmap": [
           {
            "colorbar": {
             "outlinewidth": 0,
             "ticks": ""
            },
            "colorscale": [
             [
              0,
              "#0d0887"
             ],
             [
              0.1111111111111111,
              "#46039f"
             ],
             [
              0.2222222222222222,
              "#7201a8"
             ],
             [
              0.3333333333333333,
              "#9c179e"
             ],
             [
              0.4444444444444444,
              "#bd3786"
             ],
             [
              0.5555555555555556,
              "#d8576b"
             ],
             [
              0.6666666666666666,
              "#ed7953"
             ],
             [
              0.7777777777777778,
              "#fb9f3a"
             ],
             [
              0.8888888888888888,
              "#fdca26"
             ],
             [
              1,
              "#f0f921"
             ]
            ],
            "type": "heatmap"
           }
          ],
          "heatmapgl": [
           {
            "colorbar": {
             "outlinewidth": 0,
             "ticks": ""
            },
            "colorscale": [
             [
              0,
              "#0d0887"
             ],
             [
              0.1111111111111111,
              "#46039f"
             ],
             [
              0.2222222222222222,
              "#7201a8"
             ],
             [
              0.3333333333333333,
              "#9c179e"
             ],
             [
              0.4444444444444444,
              "#bd3786"
             ],
             [
              0.5555555555555556,
              "#d8576b"
             ],
             [
              0.6666666666666666,
              "#ed7953"
             ],
             [
              0.7777777777777778,
              "#fb9f3a"
             ],
             [
              0.8888888888888888,
              "#fdca26"
             ],
             [
              1,
              "#f0f921"
             ]
            ],
            "type": "heatmapgl"
           }
          ],
          "histogram": [
           {
            "marker": {
             "pattern": {
              "fillmode": "overlay",
              "size": 10,
              "solidity": 0.2
             }
            },
            "type": "histogram"
           }
          ],
          "histogram2d": [
           {
            "colorbar": {
             "outlinewidth": 0,
             "ticks": ""
            },
            "colorscale": [
             [
              0,
              "#0d0887"
             ],
             [
              0.1111111111111111,
              "#46039f"
             ],
             [
              0.2222222222222222,
              "#7201a8"
             ],
             [
              0.3333333333333333,
              "#9c179e"
             ],
             [
              0.4444444444444444,
              "#bd3786"
             ],
             [
              0.5555555555555556,
              "#d8576b"
             ],
             [
              0.6666666666666666,
              "#ed7953"
             ],
             [
              0.7777777777777778,
              "#fb9f3a"
             ],
             [
              0.8888888888888888,
              "#fdca26"
             ],
             [
              1,
              "#f0f921"
             ]
            ],
            "type": "histogram2d"
           }
          ],
          "histogram2dcontour": [
           {
            "colorbar": {
             "outlinewidth": 0,
             "ticks": ""
            },
            "colorscale": [
             [
              0,
              "#0d0887"
             ],
             [
              0.1111111111111111,
              "#46039f"
             ],
             [
              0.2222222222222222,
              "#7201a8"
             ],
             [
              0.3333333333333333,
              "#9c179e"
             ],
             [
              0.4444444444444444,
              "#bd3786"
             ],
             [
              0.5555555555555556,
              "#d8576b"
             ],
             [
              0.6666666666666666,
              "#ed7953"
             ],
             [
              0.7777777777777778,
              "#fb9f3a"
             ],
             [
              0.8888888888888888,
              "#fdca26"
             ],
             [
              1,
              "#f0f921"
             ]
            ],
            "type": "histogram2dcontour"
           }
          ],
          "mesh3d": [
           {
            "colorbar": {
             "outlinewidth": 0,
             "ticks": ""
            },
            "type": "mesh3d"
           }
          ],
          "parcoords": [
           {
            "line": {
             "colorbar": {
              "outlinewidth": 0,
              "ticks": ""
             }
            },
            "type": "parcoords"
           }
          ],
          "pie": [
           {
            "automargin": true,
            "type": "pie"
           }
          ],
          "scatter": [
           {
            "fillpattern": {
             "fillmode": "overlay",
             "size": 10,
             "solidity": 0.2
            },
            "type": "scatter"
           }
          ],
          "scatter3d": [
           {
            "line": {
             "colorbar": {
              "outlinewidth": 0,
              "ticks": ""
             }
            },
            "marker": {
             "colorbar": {
              "outlinewidth": 0,
              "ticks": ""
             }
            },
            "type": "scatter3d"
           }
          ],
          "scattercarpet": [
           {
            "marker": {
             "colorbar": {
              "outlinewidth": 0,
              "ticks": ""
             }
            },
            "type": "scattercarpet"
           }
          ],
          "scattergeo": [
           {
            "marker": {
             "colorbar": {
              "outlinewidth": 0,
              "ticks": ""
             }
            },
            "type": "scattergeo"
           }
          ],
          "scattergl": [
           {
            "marker": {
             "colorbar": {
              "outlinewidth": 0,
              "ticks": ""
             }
            },
            "type": "scattergl"
           }
          ],
          "scattermapbox": [
           {
            "marker": {
             "colorbar": {
              "outlinewidth": 0,
              "ticks": ""
             }
            },
            "type": "scattermapbox"
           }
          ],
          "scatterpolar": [
           {
            "marker": {
             "colorbar": {
              "outlinewidth": 0,
              "ticks": ""
             }
            },
            "type": "scatterpolar"
           }
          ],
          "scatterpolargl": [
           {
            "marker": {
             "colorbar": {
              "outlinewidth": 0,
              "ticks": ""
             }
            },
            "type": "scatterpolargl"
           }
          ],
          "scatterternary": [
           {
            "marker": {
             "colorbar": {
              "outlinewidth": 0,
              "ticks": ""
             }
            },
            "type": "scatterternary"
           }
          ],
          "surface": [
           {
            "colorbar": {
             "outlinewidth": 0,
             "ticks": ""
            },
            "colorscale": [
             [
              0,
              "#0d0887"
             ],
             [
              0.1111111111111111,
              "#46039f"
             ],
             [
              0.2222222222222222,
              "#7201a8"
             ],
             [
              0.3333333333333333,
              "#9c179e"
             ],
             [
              0.4444444444444444,
              "#bd3786"
             ],
             [
              0.5555555555555556,
              "#d8576b"
             ],
             [
              0.6666666666666666,
              "#ed7953"
             ],
             [
              0.7777777777777778,
              "#fb9f3a"
             ],
             [
              0.8888888888888888,
              "#fdca26"
             ],
             [
              1,
              "#f0f921"
             ]
            ],
            "type": "surface"
           }
          ],
          "table": [
           {
            "cells": {
             "fill": {
              "color": "#EBF0F8"
             },
             "line": {
              "color": "white"
             }
            },
            "header": {
             "fill": {
              "color": "#C8D4E3"
             },
             "line": {
              "color": "white"
             }
            },
            "type": "table"
           }
          ]
         },
         "layout": {
          "annotationdefaults": {
           "arrowcolor": "#2a3f5f",
           "arrowhead": 0,
           "arrowwidth": 1
          },
          "autotypenumbers": "strict",
          "coloraxis": {
           "colorbar": {
            "outlinewidth": 0,
            "ticks": ""
           }
          },
          "colorscale": {
           "diverging": [
            [
             0,
             "#8e0152"
            ],
            [
             0.1,
             "#c51b7d"
            ],
            [
             0.2,
             "#de77ae"
            ],
            [
             0.3,
             "#f1b6da"
            ],
            [
             0.4,
             "#fde0ef"
            ],
            [
             0.5,
             "#f7f7f7"
            ],
            [
             0.6,
             "#e6f5d0"
            ],
            [
             0.7,
             "#b8e186"
            ],
            [
             0.8,
             "#7fbc41"
            ],
            [
             0.9,
             "#4d9221"
            ],
            [
             1,
             "#276419"
            ]
           ],
           "sequential": [
            [
             0,
             "#0d0887"
            ],
            [
             0.1111111111111111,
             "#46039f"
            ],
            [
             0.2222222222222222,
             "#7201a8"
            ],
            [
             0.3333333333333333,
             "#9c179e"
            ],
            [
             0.4444444444444444,
             "#bd3786"
            ],
            [
             0.5555555555555556,
             "#d8576b"
            ],
            [
             0.6666666666666666,
             "#ed7953"
            ],
            [
             0.7777777777777778,
             "#fb9f3a"
            ],
            [
             0.8888888888888888,
             "#fdca26"
            ],
            [
             1,
             "#f0f921"
            ]
           ],
           "sequentialminus": [
            [
             0,
             "#0d0887"
            ],
            [
             0.1111111111111111,
             "#46039f"
            ],
            [
             0.2222222222222222,
             "#7201a8"
            ],
            [
             0.3333333333333333,
             "#9c179e"
            ],
            [
             0.4444444444444444,
             "#bd3786"
            ],
            [
             0.5555555555555556,
             "#d8576b"
            ],
            [
             0.6666666666666666,
             "#ed7953"
            ],
            [
             0.7777777777777778,
             "#fb9f3a"
            ],
            [
             0.8888888888888888,
             "#fdca26"
            ],
            [
             1,
             "#f0f921"
            ]
           ]
          },
          "colorway": [
           "#636efa",
           "#EF553B",
           "#00cc96",
           "#ab63fa",
           "#FFA15A",
           "#19d3f3",
           "#FF6692",
           "#B6E880",
           "#FF97FF",
           "#FECB52"
          ],
          "font": {
           "color": "#2a3f5f"
          },
          "geo": {
           "bgcolor": "white",
           "lakecolor": "white",
           "landcolor": "#E5ECF6",
           "showlakes": true,
           "showland": true,
           "subunitcolor": "white"
          },
          "hoverlabel": {
           "align": "left"
          },
          "hovermode": "closest",
          "mapbox": {
           "style": "light"
          },
          "paper_bgcolor": "white",
          "plot_bgcolor": "#E5ECF6",
          "polar": {
           "angularaxis": {
            "gridcolor": "white",
            "linecolor": "white",
            "ticks": ""
           },
           "bgcolor": "#E5ECF6",
           "radialaxis": {
            "gridcolor": "white",
            "linecolor": "white",
            "ticks": ""
           }
          },
          "scene": {
           "xaxis": {
            "backgroundcolor": "#E5ECF6",
            "gridcolor": "white",
            "gridwidth": 2,
            "linecolor": "white",
            "showbackground": true,
            "ticks": "",
            "zerolinecolor": "white"
           },
           "yaxis": {
            "backgroundcolor": "#E5ECF6",
            "gridcolor": "white",
            "gridwidth": 2,
            "linecolor": "white",
            "showbackground": true,
            "ticks": "",
            "zerolinecolor": "white"
           },
           "zaxis": {
            "backgroundcolor": "#E5ECF6",
            "gridcolor": "white",
            "gridwidth": 2,
            "linecolor": "white",
            "showbackground": true,
            "ticks": "",
            "zerolinecolor": "white"
           }
          },
          "shapedefaults": {
           "line": {
            "color": "#2a3f5f"
           }
          },
          "ternary": {
           "aaxis": {
            "gridcolor": "white",
            "linecolor": "white",
            "ticks": ""
           },
           "baxis": {
            "gridcolor": "white",
            "linecolor": "white",
            "ticks": ""
           },
           "bgcolor": "#E5ECF6",
           "caxis": {
            "gridcolor": "white",
            "linecolor": "white",
            "ticks": ""
           }
          },
          "title": {
           "x": 0.05
          },
          "xaxis": {
           "automargin": true,
           "gridcolor": "white",
           "linecolor": "white",
           "ticks": "",
           "title": {
            "standoff": 15
           },
           "zerolinecolor": "white",
           "zerolinewidth": 2
          },
          "yaxis": {
           "automargin": true,
           "gridcolor": "white",
           "linecolor": "white",
           "ticks": "",
           "title": {
            "standoff": 15
           },
           "zerolinecolor": "white",
           "zerolinewidth": 2
          }
         }
        },
        "xaxis": {
         "anchor": "y",
         "domain": [
          0,
          1
         ],
         "range": [
          6,
          9
         ],
         "title": {
          "text": "Budget moyen par film"
         },
         "type": "log"
        },
        "yaxis": {
         "anchor": "x",
         "domain": [
          0,
          1
         ],
         "range": [
          0,
          10000000000
         ],
         "title": {
          "text": "Revenu moyen par film"
         },
         "type": "linear"
        }
       }
      },
      "image/png": "[encoded data removed]",
      "text/html": [
       "<div>                            <div id=\"473e4b57-07fd-44a9-a5c9-5faf03e637d7\" class=\"plotly-graph-div\" style=\"height:525px; width:100%;\"></div>            <script type=\"text/javascript\">                require([\"plotly\"], function(Plotly) {                    window.PLOTLYENV=window.PLOTLYENV || {};                                    if (document.getElementById(\"473e4b57-07fd-44a9-a5c9-5faf03e637d7\")) {                    Plotly.newPlot(                        \"473e4b57-07fd-44a9-a5c9-5faf03e637d7\",                        [{\"hovertemplate\":\"<b>%{hovertext}</b><br><br>genres=Action<br>budget=%{x}<br>revenue=%{y}<br>size=%{marker.size}<extra></extra>\",\"hovertext\":[\"Action\"],\"legendgroup\":\"Action\",\"marker\":{\"color\":\"#636efa\",\"size\":[24.08450704225352],\"sizemode\":\"area\",\"sizeref\":0.1193661971830986,\"symbol\":\"circle\"},\"mode\":\"markers\",\"name\":\"Action\",\"orientation\":\"v\",\"showlegend\":true,\"x\":[1592000000],\"xaxis\":\"x\",\"y\":[3372006222.0],\"yaxis\":\"y\",\"type\":\"scatter\"},{\"hovertemplate\":\"<b>%{hovertext}</b><br><br>genres=Adventure<br>budget=%{x}<br>revenue=%{y}<br>size=%{marker.size}<extra></extra>\",\"hovertext\":[\"Adventure\"],\"legendgroup\":\"Adventure\",\"marker\":{\"color\":\"#EF553B\",\"size\":[19.014084507042256],\"sizemode\":\"area\",\"sizeref\":0.1193661971830986,\"symbol\":\"circle\"},\"mode\":\"markers\",\"name\":\"Adventure\",\"orientation\":\"v\",\"showlegend\":true,\"x\":[1185000000],\"xaxis\":\"x\",\"y\":[3150845353.0],\"yaxis\":\"y\",\"type\":\"scatter\"},{\"hovertemplate\":\"<b>%{hovertext}</b><br><br>genres=Animation<br>budget=%{x}<br>revenue=%{y}<br>size=%{marker.size}<extra></extra>\",\"hovertext\":[\"Animation\"],\"legendgroup\":\"Animation\",\"marker\":{\"color\":\"#00cc96\",\"size\":[13.943661971830986],\"sizemode\":\"area\",\"sizeref\":0.1193661971830986,\"symbol\":\"circle\"},\"mode\":\"markers\",\"name\":\"Animation\",\"orientation\":\"v\",\"showlegend\":true,\"x\":[578000000],\"xaxis\":\"x\",\"y\":[1505485381.0],\"yaxis\":\"y\",\"type\":\"scatter\"},{\"hovertemplate\":\"<b>%{hovertext}</b><br><br>genres=Comedy<br>budget=%{x}<br>revenue=%{y}<br>size=%{marker.size}<extra></extra>\",\"hovertext\":[\"Comedy\"],\"legendgroup\":\"Comedy\",\"marker\":{\"color\":\"#ab63fa\",\"size\":[44.92957746478873],\"sizemode\":\"area\",\"sizeref\":0.1193661971830986,\"symbol\":\"circle\"},\"mode\":\"markers\",\"name\":\"Comedy\",\"orientation\":\"v\",\"showlegend\":true,\"x\":[2019534302],\"xaxis\":\"x\",\"y\":[4384523059.0],\"yaxis\":\"y\",\"type\":\"scatter\"},{\"hovertemplate\":\"<b>%{hovertext}</b><br><br>genres=Crime<br>budget=%{x}<br>revenue=%{y}<br>size=%{marker.size}<extra></extra>\",\"hovertext\":[\"Crime\"],\"legendgroup\":\"Crime\",\"marker\":{\"color\":\"#FFA15A\",\"size\":[21.83098591549296],\"sizemode\":\"area\",\"sizeref\":0.1193661971830986,\"symbol\":\"circle\"},\"mode\":\"markers\",\"name\":\"Crime\",\"orientation\":\"v\",\"showlegend\":true,\"x\":[811000000],\"xaxis\":\"x\",\"y\":[2041632820.0],\"yaxis\":\"y\",\"type\":\"scatter\"},{\"hovertemplate\":\"<b>%{hovertext}</b><br><br>genres=Documentary<br>budget=%{x}<br>revenue=%{y}<br>size=%{marker.size}<extra></extra>\",\"hovertext\":[\"Documentary\"],\"legendgroup\":\"Documentary\",\"marker\":{\"color\":\"#19d3f3\",\"size\":[10.56338028169014],\"sizemode\":\"area\",\"sizeref\":0.1193661971830986,\"symbol\":\"circle\"},\"mode\":\"markers\",\"name\":\"Documentary\",\"orientation\":\"v\",\"showlegend\":true,\"x\":[2053648],\"xaxis\":\"x\",\"y\":[500000.0],\"yaxis\":\"y\",\"type\":\"scatter\"},{\"hovertemplate\":\"<b>%{hovertext}</b><br><br>genres=Drama<br>budget=%{x}<br>revenue=%{y}<br>size=%{marker.size}<extra></extra>\",\"hovertext\":[\"Drama\"],\"legendgroup\":\"Drama\",\"marker\":{\"color\":\"#FF6692\",\"size\":[47.74647887323944],\"sizemode\":\"area\",\"sizeref\":0.1193661971830986,\"symbol\":\"circle\"},\"mode\":\"markers\",\"name\":\"Drama\",\"orientation\":\"v\",\"showlegend\":true,\"x\":[2223984326],\"xaxis\":\"x\",\"y\":[5357232183.0],\"yaxis\":\"y\",\"type\":\"scatter\"},{\"hovertemplate\":\"<b>%{hovertext}</b><br><br>genres=Family<br>budget=%{x}<br>revenue=%{y}<br>size=%{marker.size}<extra></extra>\",\"hovertext\":[\"Family\"],\"legendgroup\":\"Family\",\"marker\":{\"color\":\"#B6E880\",\"size\":[16.76056338028169],\"sizemode\":\"area\",\"sizeref\":0.1193661971830986,\"symbol\":\"circle\"},\"mode\":\"markers\",\"name\":\"Family\",\"orientation\":\"v\",\"showlegend\":true,\"x\":[732000000],\"xaxis\":\"x\",\"y\":[1708354519.0],\"yaxis\":\"y\",\"type\":\"scatter\"},{\"hovertemplate\":\"<b>%{hovertext}</b><br><br>genres=Fantasy<br>budget=%{x}<br>revenue=%{y}<br>size=%{marker.size}<extra></extra>\",\"hovertext\":[\"Fantasy\"],\"legendgroup\":\"Fantasy\",\"marker\":{\"color\":\"#FF97FF\",\"size\":[17.887323943661972],\"sizemode\":\"area\",\"sizeref\":0.1193661971830986,\"symbol\":\"circle\"},\"mode\":\"markers\",\"name\":\"Fantasy\",\"orientation\":\"v\",\"showlegend\":true,\"x\":[948000000],\"xaxis\":\"x\",\"y\":[1829778503.0],\"yaxis\":\"y\",\"type\":\"scatter\"},{\"hovertemplate\":\"<b>%{hovertext}</b><br><br>genres=Foreign<br>budget=%{x}<br>revenue=%{y}<br>size=%{marker.size}<extra></extra>\",\"hovertext\":[\"Foreign\"],\"legendgroup\":\"Foreign\",\"marker\":{\"color\":\"#FECB52\",\"size\":[11.126760563380282],\"sizemode\":\"area\",\"sizeref\":0.1193661971830986,\"symbol\":\"circle\"},\"mode\":\"markers\",\"name\":\"Foreign\",\"orientation\":\"v\",\"showlegend\":true,\"x\":[7400005],\"xaxis\":\"x\",\"y\":[22000135.0],\"yaxis\":\"y\",\"type\":\"scatter\"},{\"hovertemplate\":\"<b>%{hovertext}</b><br><br>genres=History<br>budget=%{x}<br>revenue=%{y}<br>size=%{marker.size}<extra></extra>\",\"hovertext\":[\"History\"],\"legendgroup\":\"History\",\"marker\":{\"color\":\"#636efa\",\"size\":[10.56338028169014],\"sizemode\":\"area\",\"sizeref\":0.1193661971830986,\"symbol\":\"circle\"},\"mode\":\"markers\",\"name\":\"History\",\"orientation\":\"v\",\"showlegend\":true,\"x\":[60000000],\"xaxis\":\"x\",\"y\":[66976317.0],\"yaxis\":\"y\",\"type\":\"scatter\"},{\"hovertemplate\":\"<b>%{hovertext}</b><br><br>genres=Horror<br>budget=%{x}<br>revenue=%{y}<br>size=%{marker.size}<extra></extra>\",\"hovertext\":[\"Horror\"],\"legendgroup\":\"Horror\",\"marker\":{\"color\":\"#EF553B\",\"size\":[18.450704225352112],\"sizemode\":\"area\",\"sizeref\":0.1193661971830986,\"symbol\":\"circle\"},\"mode\":\"markers\",\"name\":\"Horror\",\"orientation\":\"v\",\"showlegend\":true,\"x\":[468060000],\"xaxis\":\"x\",\"y\":[847508783.0],\"yaxis\":\"y\",\"type\":\"scatter\"},{\"hovertemplate\":\"<b>%{hovertext}</b><br><br>genres=Music<br>budget=%{x}<br>revenue=%{y}<br>size=%{marker.size}<extra></extra>\",\"hovertext\":[\"Music\"],\"legendgroup\":\"Music\",\"marker\":{\"color\":\"#00cc96\",\"size\":[11.126760563380282],\"sizemode\":\"area\",\"sizeref\":0.1193661971830986,\"symbol\":\"circle\"},\"mode\":\"markers\",\"name\":\"Music\",\"orientation\":\"v\",\"showlegend\":true,\"x\":[86500000],\"xaxis\":\"x\",\"y\":[95091685.0],\"yaxis\":\"y\",\"type\":\"scatter\"},{\"hovertemplate\":\"<b>%{hovertext}</b><br><br>genres=Mystery<br>budget=%{x}<br>revenue=%{y}<br>size=%{marker.size}<extra></extra>\",\"hovertext\":[\"Mystery\"],\"legendgroup\":\"Mystery\",\"marker\":{\"color\":\"#ab63fa\",\"size\":[20.704225352112676],\"sizemode\":\"area\",\"sizeref\":0.1193661971830986,\"symbol\":\"circle\"},\"mode\":\"markers\",\"name\":\"Mystery\",\"orientation\":\"v\",\"showlegend\":true,\"x\":[902060000],\"xaxis\":\"x\",\"y\":[2578886717.0],\"yaxis\":\"y\",\"type\":\"scatter\"},{\"hovertemplate\":\"<b>%{hovertext}</b><br><br>genres=Romance<br>budget=%{x}<br>revenue=%{y}<br>size=%{marker.size}<extra></extra>\",\"hovertext\":[\"Romance\"],\"legendgroup\":\"Romance\",\"marker\":{\"color\":\"#FFA15A\",\"size\":[26.338028169014084],\"sizemode\":\"area\",\"sizeref\":0.1193661971830986,\"symbol\":\"circle\"},\"mode\":\"markers\",\"name\":\"Romance\",\"orientation\":\"v\",\"showlegend\":true,\"x\":[812050001],\"xaxis\":\"x\",\"y\":[2110027593.0],\"yaxis\":\"y\",\"type\":\"scatter\"},{\"hovertemplate\":\"<b>%{hovertext}</b><br><br>genres=Science Fiction<br>budget=%{x}<br>revenue=%{y}<br>size=%{marker.size}<extra></extra>\",\"hovertext\":[\"Science Fiction\"],\"legendgroup\":\"Science Fiction\",\"marker\":{\"color\":\"#19d3f3\",\"size\":[22.394366197183096],\"sizemode\":\"area\",\"sizeref\":0.1193661971830986,\"symbol\":\"circle\"},\"mode\":\"markers\",\"name\":\"Science Fiction\",\"orientation\":\"v\",\"showlegend\":true,\"x\":[1150000000],\"xaxis\":\"x\",\"y\":[2607273982.0],\"yaxis\":\"y\",\"type\":\"scatter\"},{\"hovertemplate\":\"<b>%{hovertext}</b><br><br>genres=Thriller<br>budget=%{x}<br>revenue=%{y}<br>size=%{marker.size}<extra></extra>\",\"hovertext\":[\"Thriller\"],\"legendgroup\":\"Thriller\",\"marker\":{\"color\":\"#FF6692\",\"size\":[29.718309859154928],\"sizemode\":\"area\",\"sizeref\":0.1193661971830986,\"symbol\":\"circle\"},\"mode\":\"markers\",\"name\":\"Thriller\",\"orientation\":\"v\",\"showlegend\":true,\"x\":[1394400000],\"xaxis\":\"x\",\"y\":[2791772105.0],\"yaxis\":\"y\",\"type\":\"scatter\"},{\"hovertemplate\":\"<b>%{hovertext}</b><br><br>genres=War<br>budget=%{x}<br>revenue=%{y}<br>size=%{marker.size}<extra></extra>\",\"hovertext\":[\"War\"],\"legendgroup\":\"War\",\"marker\":{\"color\":\"#B6E880\",\"size\":[11.690140845070422],\"sizemode\":\"area\",\"sizeref\":0.1193661971830986,\"symbol\":\"circle\"},\"mode\":\"markers\",\"name\":\"War\",\"orientation\":\"v\",\"showlegend\":true,\"x\":[110000000],\"xaxis\":\"x\",\"y\":[88612976.0],\"yaxis\":\"y\",\"type\":\"scatter\"},{\"hovertemplate\":\"<b>%{hovertext}</b><br><br>genres=Western<br>budget=%{x}<br>revenue=%{y}<br>size=%{marker.size}<extra></extra>\",\"hovertext\":[\"Western\"],\"legendgroup\":\"Western\",\"marker\":{\"color\":\"#FF97FF\",\"size\":[11.126760563380282],\"sizemode\":\"area\",\"sizeref\":0.1193661971830986,\"symbol\":\"circle\"},\"mode\":\"markers\",\"name\":\"Western\",\"orientation\":\"v\",\"showlegend\":true,\"x\":[208000000],\"xaxis\":\"x\",\"y\":[222739777.0],\"yaxis\":\"y\",\"type\":\"scatter\"}],                        {\"template\":{\"data\":{\"histogram2dcontour\":[{\"type\":\"histogram2dcontour\",\"colorbar\":{\"outlinewidth\":0,\"ticks\":\"\"},\"colorscale\":[[0.0,\"#0d0887\"],[0.1111111111111111,\"#46039f\"],[0.2222222222222222,\"#7201a8\"],[0.3333333333333333,\"#9c179e\"],[0.4444444444444444,\"#bd3786\"],[0.5555555555555556,\"#d8576b\"],[0.6666666666666666,\"#ed7953\"],[0.7777777777777778,\"#fb9f3a\"],[0.8888888888888888,\"#fdca26\"],[1.0,\"#f0f921\"]]}],\"choropleth\":[{\"type\":\"choropleth\",\"colorbar\":{\"outlinewidth\":0,\"ticks\":\"\"}}],\"histogram2d\":[{\"type\":\"histogram2d\",\"colorbar\":{\"outlinewidth\":0,\"ticks\":\"\"},\"colorscale\":[[0.0,\"#0d0887\"],[0.1111111111111111,\"#46039f\"],[0.2222222222222222,\"#7201a8\"],[0.3333333333333333,\"#9c179e\"],[0.4444444444444444,\"#bd3786\"],[0.5555555555555556,\"#d8576b\"],[0.6666666666666666,\"#ed7953\"],[0.7777777777777778,\"#fb9f3a\"],[0.8888888888888888,\"#fdca26\"],[1.0,\"#f0f921\"]]}],\"heatmap\":[{\"type\":\"heatmap\",\"colorbar\":{\"outlinewidth\":0,\"ticks\":\"\"},\"colorscale\":[[0.0,\"#0d0887\"],[0.1111111111111111,\"#46039f\"],[0.2222222222222222,\"#7201a8\"],[0.3333333333333333,\"#9c179e\"],[0.4444444444444444,\"#bd3786\"],[0.5555555555555556,\"#d8576b\"],[0.6666666666666666,\"#ed7953\"],[0.7777777777777778,\"#fb9f3a\"],[0.8888888888888888,\"#fdca26\"],[1.0,\"#f0f921\"]]}],\"heatmapgl\":[{\"type\":\"heatmapgl\",\"colorbar\":{\"outlinewidth\":0,\"ticks\":\"\"},\"colorscale\":[[0.0,\"#0d0887\"],[0.1111111111111111,\"#46039f\"],[0.2222222222222222,\"#7201a8\"],[0.3333333333333333,\"#9c179e\"],[0.4444444444444444,\"#bd3786\"],[0.5555555555555556,\"#d8576b\"],[0.6666666666666666,\"#ed7953\"],[0.7777777777777778,\"#fb9f3a\"],[0.8888888888888888,\"#fdca26\"],[1.0,\"#f0f921\"]]}],\"contourcarpet\":[{\"type\":\"contourcarpet\",\"colorbar\":{\"outlinewidth\":0,\"ticks\":\"\"}}],\"contour\":[{\"type\":\"contour\",\"colorbar\":{\"outlinewidth\":0,\"ticks\":\"\"},\"colorscale\":[[0.0,\"#0d0887\"],[0.1111111111111111,\"#46039f\"],[0.2222222222222222,\"#7201a8\"],[0.3333333333333333,\"#9c179e\"],[0.4444444444444444,\"#bd3786\"],[0.5555555555555556,\"#d8576b\"],[0.6666666666666666,\"#ed7953\"],[0.7777777777777778,\"#fb9f3a\"],[0.8888888888888888,\"#fdca26\"],[1.0,\"#f0f921\"]]}],\"surface\":[{\"type\":\"surface\",\"colorbar\":{\"outlinewidth\":0,\"ticks\":\"\"},\"colorscale\":[[0.0,\"#0d0887\"],[0.1111111111111111,\"#46039f\"],[0.2222222222222222,\"#7201a8\"],[0.3333333333333333,\"#9c179e\"],[0.4444444444444444,\"#bd3786\"],[0.5555555555555556,\"#d8576b\"],[0.6666666666666666,\"#ed7953\"],[0.7777777777777778,\"#fb9f3a\"],[0.8888888888888888,\"#fdca26\"],[1.0,\"#f0f921\"]]}],\"mesh3d\":[{\"type\":\"mesh3d\",\"colorbar\":{\"outlinewidth\":0,\"ticks\":\"\"}}],\"scatter\":[{\"fillpattern\":{\"fillmode\":\"overlay\",\"size\":10,\"solidity\":0.2},\"type\":\"scatter\"}],\"parcoords\":[{\"type\":\"parcoords\",\"line\":{\"colorbar\":{\"outlinewidth\":0,\"ticks\":\"\"}}}],\"scatterpolargl\":[{\"type\":\"scatterpolargl\",\"marker\":{\"colorbar\":{\"outlinewidth\":0,\"ticks\":\"\"}}}],\"bar\":[{\"error_x\":{\"color\":\"#2a3f5f\"},\"error_y\":{\"color\":\"#2a3f5f\"},\"marker\":{\"line\":{\"color\":\"#E5ECF6\",\"width\":0.5},\"pattern\":{\"fillmode\":\"overlay\",\"size\":10,\"solidity\":0.2}},\"type\":\"bar\"}],\"scattergeo\":[{\"type\":\"scattergeo\",\"marker\":{\"colorbar\":{\"outlinewidth\":0,\"ticks\":\"\"}}}],\"scatterpolar\":[{\"type\":\"scatterpolar\",\"marker\":{\"colorbar\":{\"outlinewidth\":0,\"ticks\":\"\"}}}],\"histogram\":[{\"marker\":{\"pattern\":{\"fillmode\":\"overlay\",\"size\":10,\"solidity\":0.2}},\"type\":\"histogram\"}],\"scattergl\":[{\"type\":\"scattergl\",\"marker\":{\"colorbar\":{\"outlinewidth\":0,\"ticks\":\"\"}}}],\"scatter3d\":[{\"type\":\"scatter3d\",\"line\":{\"colorbar\":{\"outlinewidth\":0,\"ticks\":\"\"}},\"marker\":{\"colorbar\":{\"outlinewidth\":0,\"ticks\":\"\"}}}],\"scattermapbox\":[{\"type\":\"scattermapbox\",\"marker\":{\"colorbar\":{\"outlinewidth\":0,\"ticks\":\"\"}}}],\"scatterternary\":[{\"type\":\"scatterternary\",\"marker\":{\"colorbar\":{\"outlinewidth\":0,\"ticks\":\"\"}}}],\"scattercarpet\":[{\"type\":\"scattercarpet\",\"marker\":{\"colorbar\":{\"outlinewidth\":0,\"ticks\":\"\"}}}],\"carpet\":[{\"aaxis\":{\"endlinecolor\":\"#2a3f5f\",\"gridcolor\":\"white\",\"linecolor\":\"white\",\"minorgridcolor\":\"white\",\"startlinecolor\":\"#2a3f5f\"},\"baxis\":{\"endlinecolor\":\"#2a3f5f\",\"gridcolor\":\"white\",\"linecolor\":\"white\",\"minorgridcolor\":\"white\",\"startlinecolor\":\"#2a3f5f\"},\"type\":\"carpet\"}],\"table\":[{\"cells\":{\"fill\":{\"color\":\"#EBF0F8\"},\"line\":{\"color\":\"white\"}},\"header\":{\"fill\":{\"color\":\"#C8D4E3\"},\"line\":{\"color\":\"white\"}},\"type\":\"table\"}],\"barpolar\":[{\"marker\":{\"line\":{\"color\":\"#E5ECF6\",\"width\":0.5},\"pattern\":{\"fillmode\":\"overlay\",\"size\":10,\"solidity\":0.2}},\"type\":\"barpolar\"}],\"pie\":[{\"automargin\":true,\"type\":\"pie\"}]},\"layout\":{\"autotypenumbers\":\"strict\",\"colorway\":[\"#636efa\",\"#EF553B\",\"#00cc96\",\"#ab63fa\",\"#FFA15A\",\"#19d3f3\",\"#FF6692\",\"#B6E880\",\"#FF97FF\",\"#FECB52\"],\"font\":{\"color\":\"#2a3f5f\"},\"hovermode\":\"closest\",\"hoverlabel\":{\"align\":\"left\"},\"paper_bgcolor\":\"white\",\"plot_bgcolor\":\"#E5ECF6\",\"polar\":{\"bgcolor\":\"#E5ECF6\",\"angularaxis\":{\"gridcolor\":\"white\",\"linecolor\":\"white\",\"ticks\":\"\"},\"radialaxis\":{\"gridcolor\":\"white\",\"linecolor\":\"white\",\"ticks\":\"\"}},\"ternary\":{\"bgcolor\":\"#E5ECF6\",\"aaxis\":{\"gridcolor\":\"white\",\"linecolor\":\"white\",\"ticks\":\"\"},\"baxis\":{\"gridcolor\":\"white\",\"linecolor\":\"white\",\"ticks\":\"\"},\"caxis\":{\"gridcolor\":\"white\",\"linecolor\":\"white\",\"ticks\":\"\"}},\"coloraxis\":{\"colorbar\":{\"outlinewidth\":0,\"ticks\":\"\"}},\"colorscale\":{\"sequential\":[[0.0,\"#0d0887\"],[0.1111111111111111,\"#46039f\"],[0.2222222222222222,\"#7201a8\"],[0.3333333333333333,\"#9c179e\"],[0.4444444444444444,\"#bd3786\"],[0.5555555555555556,\"#d8576b\"],[0.6666666666666666,\"#ed7953\"],[0.7777777777777778,\"#fb9f3a\"],[0.8888888888888888,\"#fdca26\"],[1.0,\"#f0f921\"]],\"sequentialminus\":[[0.0,\"#0d0887\"],[0.1111111111111111,\"#46039f\"],[0.2222222222222222,\"#7201a8\"],[0.3333333333333333,\"#9c179e\"],[0.4444444444444444,\"#bd3786\"],[0.5555555555555556,\"#d8576b\"],[0.6666666666666666,\"#ed7953\"],[0.7777777777777778,\"#fb9f3a\"],[0.8888888888888888,\"#fdca26\"],[1.0,\"#f0f921\"]],\"diverging\":[[0,\"#8e0152\"],[0.1,\"#c51b7d\"],[0.2,\"#de77ae\"],[0.3,\"#f1b6da\"],[0.4,\"#fde0ef\"],[0.5,\"#f7f7f7\"],[0.6,\"#e6f5d0\"],[0.7,\"#b8e186\"],[0.8,\"#7fbc41\"],[0.9,\"#4d9221\"],[1,\"#276419\"]]},\"xaxis\":{\"gridcolor\":\"white\",\"linecolor\":\"white\",\"ticks\":\"\",\"title\":{\"standoff\":15},\"zerolinecolor\":\"white\",\"automargin\":true,\"zerolinewidth\":2},\"yaxis\":{\"gridcolor\":\"white\",\"linecolor\":\"white\",\"ticks\":\"\",\"title\":{\"standoff\":15},\"zerolinecolor\":\"white\",\"automargin\":true,\"zerolinewidth\":2},\"scene\":{\"xaxis\":{\"backgroundcolor\":\"#E5ECF6\",\"gridcolor\":\"white\",\"linecolor\":\"white\",\"showbackground\":true,\"ticks\":\"\",\"zerolinecolor\":\"white\",\"gridwidth\":2},\"yaxis\":{\"backgroundcolor\":\"#E5ECF6\",\"gridcolor\":\"white\",\"linecolor\":\"white\",\"showbackground\":true,\"ticks\":\"\",\"zerolinecolor\":\"white\",\"gridwidth\":2},\"zaxis\":{\"backgroundcolor\":\"#E5ECF6\",\"gridcolor\":\"white\",\"linecolor\":\"white\",\"showbackground\":true,\"ticks\":\"\",\"zerolinecolor\":\"white\",\"gridwidth\":2}},\"shapedefaults\":{\"line\":{\"color\":\"#2a3f5f\"}},\"annotationdefaults\":{\"arrowcolor\":\"#2a3f5f\",\"arrowhead\":0,\"arrowwidth\":1},\"geo\":{\"bgcolor\":\"white\",\"landcolor\":\"#E5ECF6\",\"subunitcolor\":\"white\",\"showland\":true,\"showlakes\":true,\"lakecolor\":\"white\"},\"title\":{\"x\":0.05},\"mapbox\":{\"style\":\"light\"}}},\"xaxis\":{\"anchor\":\"y\",\"domain\":[0.0,1.0],\"title\":{\"text\":\"Budget moyen par film\"},\"type\":\"log\",\"range\":[6.0,9.0]},\"yaxis\":{\"anchor\":\"x\",\"domain\":[0.0,1.0],\"title\":{\"text\":\"Revenu moyen par film\"},\"range\":[0,10000000000]},\"legend\":{\"title\":{\"text\":\"genres\"},\"tracegroupgap\":0,\"itemsizing\":\"constant\"},\"margin\":{\"t\":10,\"l\":40,\"b\":30,\"r\":0},\"hovermode\":\"closest\",\"showlegend\":false},                        {\"responsive\": true}                    ).then(function(){\n",
       "                            \n",
       "var gd = document.getElementById('473e4b57-07fd-44a9-a5c9-5faf03e637d7');\n",
       "var x = new MutationObserver(function (mutations, observer) {{\n",
       "        var display = window.getComputedStyle(gd).display;\n",
       "        if (!display || display === 'none') {{\n",
       "            console.log([gd, 'removed!']);\n",
       "            Plotly.purge(gd);\n",
       "            observer.disconnect();\n",
       "        }}\n",
       "}});\n",
       "\n",
       "// Listen for the removal of the full notebook cells\n",
       "var notebookContainer = gd.closest('#notebook-container');\n",
       "if (notebookContainer) {{\n",
       "    x.observe(notebookContainer, {childList: true});\n",
       "}}\n",
       "\n",
       "// Listen for the clearing of the current output cell\n",
       "var outputEl = gd.closest('.output');\n",
       "if (outputEl) {{\n",
       "    x.observe(outputEl, {childList: true});\n",
       "}}\n",
       "\n",
       "                        })                };                });            </script>        </div>"
      ]
     },
     "metadata": {},
     "output_type": "display_data"
    },
    {
     "ename": "AttributeError",
     "evalue": "module 'plotly.express' has no attribute 'autoscale'",
     "output_type": "error",
     "traceback": [
      "\u001b[0;31m---------------------------------------------------------------------------\u001b[0m",
      "\u001b[0;31mAttributeError\u001b[0m                            Traceback (most recent call last)",
      "Input \u001b[0;32mIn [133]\u001b[0m, in \u001b[0;36m<cell line: 23>\u001b[0;34m()\u001b[0m\n\u001b[1;32m     11\u001b[0m fig\u001b[38;5;241m.\u001b[39mupdate_layout(\n\u001b[1;32m     12\u001b[0m          xaxis \u001b[38;5;241m=\u001b[39m \u001b[38;5;28mdict\u001b[39m(title\u001b[38;5;241m=\u001b[39m\u001b[38;5;124m'\u001b[39m\u001b[38;5;124mBudget moyen par film\u001b[39m\u001b[38;5;124m'\u001b[39m,\n\u001b[1;32m     13\u001b[0m                       \u001b[38;5;28mtype\u001b[39m\u001b[38;5;241m=\u001b[39m \u001b[38;5;124m'\u001b[39m\u001b[38;5;124mlinear\u001b[39m\u001b[38;5;124m'\u001b[39m \u001b[38;5;28;01mif\u001b[39;00m xaxis_type \u001b[38;5;241m==\u001b[39m \u001b[38;5;124m'\u001b[39m\u001b[38;5;124mLinéaire\u001b[39m\u001b[38;5;124m'\u001b[39m \u001b[38;5;28;01melse\u001b[39;00m \u001b[38;5;124m'\u001b[39m\u001b[38;5;124mlog\u001b[39m\u001b[38;5;124m'\u001b[39m,\n\u001b[0;32m   (...)\u001b[0m\n\u001b[1;32m     20\u001b[0m          showlegend\u001b[38;5;241m=\u001b[39m\u001b[38;5;28;01mFalse\u001b[39;00m,\n\u001b[1;32m     21\u001b[0m      )\n\u001b[1;32m     22\u001b[0m fig\u001b[38;5;241m.\u001b[39mshow()\n\u001b[0;32m---> 23\u001b[0m \u001b[43mpx\u001b[49m\u001b[38;5;241;43m.\u001b[39;49m\u001b[43mautoscale\u001b[49m()\n",
      "\u001b[0;31mAttributeError\u001b[0m: module 'plotly.express' has no attribute 'autoscale'"
     ]
    }
   ],
   "source": [
    "xaxis_type = \"log\"\n",
    "size = df_year.loc[1999]['title'].to_numpy()\n",
    "nb_films = size.sum()\n",
    "s = [((s/nb_films) * 100)*2 + 10 for s in size]\n",
    "\n",
    "dfg = df_year.loc[1999]\n",
    "fig = px.scatter(dfg, x = \"budget\", y = \"revenue\", \n",
    "                 size = s, \n",
    "                 color = \"genres\",\n",
    "                 hover_name=\"genres\")\n",
    "fig.update_layout(\n",
    "         xaxis = dict(title='Budget moyen par film',\n",
    "                      type= 'linear' if xaxis_type == 'Linéaire' else 'log',\n",
    "                      range=(0,3000000000) if xaxis_type == 'Linéaire' \n",
    "                                      else (np.log10(1000000), np.log10(1000000000)) \n",
    "                     ),\n",
    "         yaxis = dict(title=\"Revenu moyen par film\", range=(0,10000000000)),\n",
    "         margin={'l': 40, 'b': 30, 't': 10, 'r': 0},\n",
    "         hovermode='closest',\n",
    "         showlegend=False,\n",
    "     )\n",
    "fig.show()"
   ]
  },
  {
   "cell_type": "code",
   "execution_count": null,
   "id": "74a83aeb-785c-4c14-9325-67e7d00741ae",
   "metadata": {},
   "outputs": [],
   "source": []
  }
 ],
 "metadata": {
  "kernelspec": {
   "display_name": "Python 3 (ipykernel)",
   "language": "python",
   "name": "python3"
  },
  "language_info": {
   "codemirror_mode": {
    "name": "ipython",
    "version": 3
   },
   "file_extension": ".py",
   "mimetype": "text/x-python",
   "name": "python",
   "nbconvert_exporter": "python",
   "pygments_lexer": "ipython3",
   "version": "3.8.2"
  }
 },
 "nbformat": 4,
 "nbformat_minor": 5
}
