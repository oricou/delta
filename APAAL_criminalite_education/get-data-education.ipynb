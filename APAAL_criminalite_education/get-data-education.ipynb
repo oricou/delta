{
    "cells": [
        {
            "cell_type": "markdown",
            "metadata": {},
            "source": [
                "# Get data"
            ]
        },
        {
            "cell_type": "markdown",
            "metadata": {},
            "source": [
                "## Maps (Geojson files)"
            ]
        },
        {
            "cell_type": "code",
            "execution_count": null,
            "metadata": {},
            "outputs": [],
            "source": [
                "import requests"
            ]
        },
        {
            "cell_type": "markdown",
            "metadata": {},
            "source": [
                "### Wards"
            ]
        },
        {
            "cell_type": "code",
            "execution_count": null,
            "metadata": {},
            "outputs": [],
            "source": [
                "url = 'https://data.cityofchicago.org/api/geospatial/sp34-6z76?method=export&format=GeoJSON'\n",
                "response = requests.get(url)\n",
                "open('./data/wards.geojson', 'wb').write(response.content)"
            ]
        },
        {
            "cell_type": "markdown",
            "metadata": {},
            "source": [
                "## Datasets (CSV files)"
            ]
        },
        {
            "cell_type": "code",
            "execution_count": null,
            "metadata": {},
            "outputs": [],
            "source": [
                "import pandas as pd"
            ]
        },
        {
            "cell_type": "markdown",
            "metadata": {},
            "source": [
                "### Education data"
            ]
        },
        {
            "cell_type": "code",
            "execution_count": null,
            "metadata": {},
            "outputs": [],
            "source": [
                "def summary(df):\n",
                "    print(df.shape)\n",
                "    return df.head(10)"
            ]
        },
        {
            "cell_type": "code",
            "execution_count": null,
            "metadata": {},
            "outputs": [],
            "source": [
                "url = 'https://data.cityofchicago.org/api/views/fvrx-esxp/rows.csv?accessType=DOWNLOAD'  # 2015 - 2016\n",
                "\n",
                "education_df = pd.read_csv(url, usecols=['Suspensions_Per_100_Students_Year_1_Pct', 'School_Latitude', 'School_Longitude'])\n",
                "education_df.columns = ['suspension', 'latitude', 'longitude']\n",
                "summary(education_df)"
            ]
        },
        {
            "cell_type": "markdown",
            "metadata": {},
            "source": [
                "### Schools GPS coordinates to wards"
            ]
        },
        {
            "cell_type": "code",
            "execution_count": null,
            "metadata": {},
            "outputs": [],
            "source": [
                "import json\n",
                "from shapely.geometry import shape, GeometryCollection, Point"
            ]
        },
        {
            "cell_type": "markdown",
            "metadata": {},
            "source": [
                "### Load wards as Polygons"
            ]
        },
        {
            "cell_type": "code",
            "execution_count": null,
            "metadata": {},
            "outputs": [],
            "source": [
                "with open(\"./data/wards.geojson\") as f:\n",
                "  features = json.load(f)[\"features\"]\n",
                "\n",
                "# buffer(0) is a trick for fixing scenarios where polygons have overlapping coordinates \n",
                "wards = GeometryCollection([shape(feature[\"geometry\"]).buffer(0) for feature in features])\n",
                "wards_names = [int(feature[\"properties\"][\"ward\"]) for feature in features]"
            ]
        },
        {
            "cell_type": "markdown",
            "metadata": {},
            "source": [
                "### Load schools GPS coordinates as Points"
            ]
        },
        {
            "cell_type": "code",
            "execution_count": null,
            "metadata": {},
            "outputs": [],
            "source": [
                "points = [Point(longitude, latitude) for longitude, latitude in zip(education_df['longitude'], education_df['latitude'])]"
            ]
        },
        {
            "cell_type": "markdown",
            "metadata": {},
            "source": [
                "### Map points to wards"
            ]
        },
        {
            "cell_type": "code",
            "execution_count": null,
            "metadata": {},
            "outputs": [],
            "source": [
                "school_wards = [None] * len(points)\n",
                "\n",
                "for i, point in enumerate(points):\n",
                "    for j, ward in enumerate(wards):\n",
                "        if (ward.contains(point) or ward.touches(point)):\n",
                "            school_wards[i] = wards_names[j]\n",
                "            continue\n",
                "len(school_wards)"
            ]
        },
        {
            "cell_type": "markdown",
            "metadata": {},
            "source": [
                "### Add wards to dataframe"
            ]
        },
        {
            "cell_type": "code",
            "execution_count": null,
            "metadata": {},
            "outputs": [],
            "source": [
                "education_df = education_df[['suspension']]\n",
                "education_df['ward'] = school_wards\n",
                "summary(education_df)"
            ]
        },
        {
            "cell_type": "code",
            "execution_count": null,
            "metadata": {},
            "outputs": [],
            "source": [
                "education_df.to_csv('./data/education.csv', index=False)"
            ]
        },
        {
            "cell_type": "code",
            "execution_count": null,
            "metadata": {},
            "outputs": [],
            "source": []
        },
        {
            "cell_type": "code",
            "execution_count": null,
            "metadata": {},
            "outputs": [],
            "source": []
        }
    ],
    "metadata": {
        "interpreter": {
            "hash": "e7370f93d1d0cde622a1f8e1c04877d8463912d04d973331ad4851f04de6915a"
        },
        "kernelspec": {
            "display_name": "Python 3",
            "language": "python",
            "name": "python3"
        },
        "language_info": {
            "codemirror_mode": {
                "name": "ipython",
                "version": 3
            },
            "file_extension": ".py",
            "mimetype": "text/x-python",
            "name": "python",
            "nbconvert_exporter": "python",
            "pygments_lexer": "ipython3",
            "version": "3.10.2"
        }
    },
    "nbformat": 4,
    "nbformat_minor": 2
}
