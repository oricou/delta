{
    "cells": [
        {
            "cell_type": "code",
            "execution_count": null,
            "metadata": {},
            "outputs": [],
            "source": [
                "import pandas as pd\n",
                "import numpy as np\n",
                "import datetime as dt"
            ]
        },
        {
            "cell_type": "code",
            "execution_count": null,
            "metadata": {},
            "outputs": [],
            "source": [
                "def summary(df):\n",
                "    print(df.shape)\n",
                "    return df.head(10)"
            ]
        },
        {
            "cell_type": "code",
            "execution_count": null,
            "metadata": {},
            "outputs": [],
            "source": [
                "education_df = pd.read_csv('./data/education.csv')\n",
                "summary(education_df)"
            ]
        },
        {
            "cell_type": "code",
            "execution_count": null,
            "metadata": {},
            "outputs": [],
            "source": [
                "suspension_ward = education_df.groupby('ward', as_index=False).mean()\n",
                "summary(suspension_ward)"
            ]
        },
        {
            "cell_type": "code",
            "execution_count": null,
            "metadata": {},
            "outputs": [],
            "source": [
                "import plotly.express as px\n",
                "import json\n",
                "\n",
                "wards = json.load(open('data/wards.geojson'))\n",
                "\n",
                "fig = px.choropleth_mapbox(suspension_ward, geojson=wards, \n",
                "                           locations='ward', featureidkey = 'properties.ward',\n",
                "                           color='suspension', color_continuous_scale=['green', 'yellow', 'red'],\n",
                "                           mapbox_style=\"carto-positron\",\n",
                "                           zoom=9, center = {\"lat\": 41.8375, \"lon\": -87.5440}, # Chicago : 41° 52′ 55″ N, 87° 34′ 40″ O\n",
                "                           opacity=0.5,\n",
                "                           labels={'suspension':'Student average suspension (%)'}\n",
                "                          )\n",
                "fig.update_layout(margin={\"r\":0,\"t\":0,\"l\":0,\"b\":0})\n",
                "fig"
            ]
        },
        {
            "cell_type": "code",
            "execution_count": null,
            "metadata": {},
            "outputs": [],
            "source": []
        }
    ],
    "metadata": {
        "kernelspec": {
            "display_name": "Python 3",
            "language": "python",
            "name": "python3"
        },
        "language_info": {
            "codemirror_mode": {
                "name": "ipython",
                "version": 3
            },
            "file_extension": ".py",
            "mimetype": "text/x-python",
            "name": "python",
            "nbconvert_exporter": "python",
            "pygments_lexer": "ipython3",
            "version": "3.10.2"
        },
        "nbTranslate": {
            "displayLangs": [
                "en",
                "fr"
            ],
            "hotkey": "alt-t",
            "langInMainMenu": true,
            "sourceLang": "fr",
            "targetLang": "en",
            "useGoogleTranslate": true
        }
    },
    "nbformat": 4,
    "nbformat_minor": 2
}
