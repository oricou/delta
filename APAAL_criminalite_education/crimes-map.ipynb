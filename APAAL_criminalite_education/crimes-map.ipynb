{
 "cells": [
  {
   "cell_type": "code",
   "execution_count": null,
   "metadata": {},
   "outputs": [],
   "source": [
    "import pandas as pd\n",
    "import plotly.express as px"
   ]
  },
  {
   "cell_type": "code",
   "execution_count": null,
   "metadata": {},
   "outputs": [],
   "source": [
    "crimes_csv = \"data/reductedDB_2015-2017.csv\"\n",
    "crimes_df = pd.read_csv(crimes_csv, parse_dates=[0])"
   ]
  },
  {
   "cell_type": "code",
   "execution_count": null,
   "metadata": {},
   "outputs": [],
   "source": [
    "ward_count = crimes_df.drop(crimes_df.columns.difference(['Ward', 'IUCR']), axis=1)\n",
    "ward_count = ward_count.groupby(by='Ward', as_index=False).count()\n",
    "ward_count = ward_count.rename(columns={'IUCR':'Nb of crimes'})"
   ]
  },
  {
   "cell_type": "code",
   "execution_count": null,
   "metadata": {},
   "outputs": [],
   "source": [
    "print(ward_count.head())\n",
    "print(ward_count.iloc[0]['Ward'].dtype)"
   ]
  },
  {
   "cell_type": "markdown",
   "metadata": {},
   "source": [
    "# Map"
   ]
  },
  {
   "cell_type": "code",
   "execution_count": null,
   "metadata": {},
   "outputs": [],
   "source": [
    "import plotly.express as px\n",
    "import json\n",
    "\n",
    "geo_wards = json.load(open('data/wards.geojson'))\n",
    "\n",
    "fig = px.choropleth_mapbox(ward_count, geojson=geo_wards, \n",
    "                           locations='Ward', featureidkey = 'properties.ward',\n",
    "                           color='Nb of crimes', color_continuous_scale=['green', 'yellow', 'red'],\n",
    "                           mapbox_style=\"carto-positron\",\n",
    "                           zoom=9, center = {\"lat\": 41.8375, \"lon\": -87.5440}, # Chicago : 41° 52′ 55″ N, 87° 34′ 40″ O\n",
    "                           opacity=0.5,\n",
    "                           labels={'Crimes':'Crime repartition between Chicago wards between 2015 and 2017'}\n",
    "                          )\n",
    "fig.update_layout(margin={\"r\":0,\"t\":0,\"l\":0,\"b\":0})\n",
    "fig"
   ]
  },
  {
   "cell_type": "code",
   "execution_count": null,
   "metadata": {},
   "outputs": [],
   "source": []
  }
 ],
 "metadata": {
  "kernelspec": {
   "display_name": "Python 3",
   "language": "python",
   "name": "python3"
  },
  "language_info": {
   "codemirror_mode": {
    "name": "ipython",
    "version": 3
   },
   "file_extension": ".py",
   "mimetype": "text/x-python",
   "name": "python",
   "nbconvert_exporter": "python",
   "pygments_lexer": "ipython3",
   "version": "3.10.2"
  }
 },
 "nbformat": 4,
 "nbformat_minor": 4
}
