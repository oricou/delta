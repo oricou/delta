{
 "cells": [
  {
   "cell_type": "code",
   "execution_count": null,
   "metadata": {},
   "outputs": [],
   "source": [
    "import pandas as pd\n",
    "import numpy as np\n",
    "import datetime"
   ]
  },
  {
   "cell_type": "markdown",
   "metadata": {},
   "source": [
    "# Chargement des données de la base de donnée des crimes, de 2001 à 2022 à Chicago\n",
    "\n",
    "La base de donnée est très lourde : 7 531 858 lignes (1,7go). Il a été impossible de la lire en une seule fois. \n",
    "\n",
    "En la lisant seulement avec un **read_csv** classique, le noyau meurt systématiquement. En utilisant des **chunk**, la RAM de l'ordinateur meurt également.\n",
    "\n",
    "Comme nous n'avons pas de base de données sur les écoles pour chaque année renseignée dans la base de donnée des crimes, l'objectif est de lire seulement les années nécessaires.\n",
    "\n",
    "Il faut donc déterminer les **rows** inutiles à lire. Pour ce faire, nous commençons par lire seulement la colonne des dates de la BDD."
   ]
  },
  {
   "cell_type": "code",
   "execution_count": null,
   "metadata": {},
   "outputs": [],
   "source": [
    "print(\"Starting...\")\n",
    "crimes_url = \"data/Crimes_-_2001_to_Present.csv\"\n",
    "crimes_df = pd.read_csv(crimes_url, parse_dates=[0], usecols=[2])\n",
    "print(\"End...\")\n",
    "\n",
    "print(len(crimes_df))"
   ]
  },
  {
   "cell_type": "code",
   "execution_count": null,
   "metadata": {},
   "outputs": [],
   "source": [
    "print(crimes_df.dtypes)"
   ]
  },
  {
   "cell_type": "markdown",
   "metadata": {},
   "source": [
    "Nous fixons maintenant un seuil de dates pour déterminer quels sont les **rows** à garder ou non."
   ]
  },
  {
   "cell_type": "code",
   "execution_count": null,
   "metadata": {},
   "outputs": [],
   "source": [
    "date_inf = np.datetime64('2015-01-01')\n",
    "date_sup = np.datetime64('2017-01-01')\n",
    "def cond(i):\n",
    "    return (crimes_df.iloc[i]['Date'] >= date_inf and crimes_df.iloc[i]['Date'] < date_sup)"
   ]
  },
  {
   "cell_type": "markdown",
   "metadata": {},
   "source": [
    "Nous enregistrons les index des lignes pour lesquelles la date est en dehors du seuil fixé. Ces lignes n'ont pas besoin d'être lues."
   ]
  },
  {
   "cell_type": "code",
   "execution_count": null,
   "metadata": {},
   "outputs": [],
   "source": [
    "invalid_dates = []\n",
    "for i in range (len(crimes_df) - 1):\n",
    "    if not cond(i):\n",
    "        invalid_dates.append(i)\n",
    "len(invalid_dates)"
   ]
  },
  {
   "cell_type": "markdown",
   "metadata": {},
   "source": [
    "On lit notre base de donnée sur toutes les colonnes mais en ignorant les lignes déterminées précedemment."
   ]
  },
  {
   "cell_type": "code",
   "execution_count": null,
   "metadata": {},
   "outputs": [],
   "source": [
    "print(\"Starting...\")\n",
    "print(\"Starting...\")\n",
    "chunksize = 10000\n",
    "list_of_df = []\n",
    "for df in pd.read_csv(crimes_url, skiprows=invalid_dates, chunksize=chunksize):\n",
    "    list_of_df.append(df)\n",
    "print(len(list_of_df))\n",
    "crimes_df = pd.concat(list_of_df)\n",
    "print(\"End...\")"
   ]
  },
  {
   "cell_type": "code",
   "execution_count": null,
   "metadata": {},
   "outputs": [],
   "source": [
    "print(len(crimes_df))"
   ]
  },
  {
   "cell_type": "markdown",
   "metadata": {},
   "source": [
    "On enregistre la base de donnée avec toute ses colonnes mais seulement les lignes des années sélectionnées."
   ]
  },
  {
   "cell_type": "code",
   "execution_count": null,
   "metadata": {},
   "outputs": [],
   "source": [
    "crimes_df.to_csv(\"data/crimes_2015-2017.csv\")"
   ]
  },
  {
   "cell_type": "markdown",
   "metadata": {},
   "source": [
    "Finalement, on retire les colonnes inutiles avant d'enregister notre BD dans un format csv."
   ]
  },
  {
   "cell_type": "code",
   "execution_count": null,
   "metadata": {},
   "outputs": [],
   "source": [
    "remove = ['ID', 'Case Number', 'Description', 'Arrest', 'Beat', 'District', 'Community Area', 'FBI Code', 'X Coordinate', 'Y Coordinate', 'Year', 'Updated On', 'Location']\n",
    "reducted_db = crimes_df.drop(remove, axis=1)\n",
    "reducted_db.to_csv(\"data/reductedDB_2015-2017.csv\")\n",
    "reducted_db"
   ]
  }
 ],
 "metadata": {
  "kernelspec": {
   "display_name": "Python 3",
   "language": "python",
   "name": "python3"
  },
  "language_info": {
   "codemirror_mode": {
    "name": "ipython",
    "version": 3
   },
   "file_extension": ".py",
   "mimetype": "text/x-python",
   "name": "python",
   "nbconvert_exporter": "python",
   "pygments_lexer": "ipython3",
   "version": "3.8.10"
  }
 },
 "nbformat": 4,
 "nbformat_minor": 4
}
