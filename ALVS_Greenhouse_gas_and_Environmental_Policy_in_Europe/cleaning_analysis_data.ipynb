{
 "cells": [
  {
   "cell_type": "markdown",
   "metadata": {},
   "source": [
    "# Nettoyage et analyse des données\n",
    "\n",
    "Dans ce notebook, nous allons récupérer les données bruts de nos sources afin de les nettoyer et les ré-arranger pour leur utilisation avec **plotly**."
   ]
  },
  {
   "cell_type": "code",
   "execution_count": 61,
   "metadata": {},
   "outputs": [],
   "source": [
    "import datetime\n",
    "import pandas as pd\n",
    "import numpy as np\n",
    "import matplotlib.pyplot as plt\n",
    "\n",
    "import plotly.graph_objs as go\n",
    "import plotly.express as px\n",
    "\n",
    "pd.options.plotting.backend = \"plotly\""
   ]
  },
  {
   "cell_type": "markdown",
   "metadata": {},
   "source": [
    "Lecture des données sources :\n",
    "\n",
    "* `sdg_13_10_linear.csv` est la base de données récupérée [ici](https://ec.europa.eu/eurostat/databrowser/view/sdg_13_10/default/table?lang=fr)\n",
    "* `geo_country.csv` permet de convertir le code *geo* d'un pays en son nom complet."
   ]
  },
  {
   "cell_type": "code",
   "execution_count": 62,
   "metadata": {},
   "outputs": [
    {
     "name": "stderr",
     "output_type": "stream",
     "text": [
      "/tmp/ipykernel_99227/3685227451.py:2: FutureWarning:\n",
      "\n",
      "The squeeze argument has been deprecated and will be removed in a future version. Append .squeeze(\"columns\") to the call to squeeze.\n",
      "\n",
      "\n",
      "\n"
     ]
    }
   ],
   "source": [
    "df = pd.read_csv(\"data/sdg_13_10_linear.csv\")\n",
    "geoToCountry = pd.read_csv(\"data/geo_country.csv\", index_col=1, squeeze=True)"
   ]
  },
  {
   "cell_type": "code",
   "execution_count": 63,
   "metadata": {},
   "outputs": [
    {
     "data": {
      "text/html": [
       "<div>\n",
       "<style scoped>\n",
       "    .dataframe tbody tr th:only-of-type {\n",
       "        vertical-align: middle;\n",
       "    }\n",
       "\n",
       "    .dataframe tbody tr th {\n",
       "        vertical-align: top;\n",
       "    }\n",
       "\n",
       "    .dataframe thead th {\n",
       "        text-align: right;\n",
       "    }\n",
       "</style>\n",
       "<table border=\"1\" class=\"dataframe\">\n",
       "  <thead>\n",
       "    <tr style=\"text-align: right;\">\n",
       "      <th></th>\n",
       "      <th>DATAFLOW</th>\n",
       "      <th>LAST UPDATE</th>\n",
       "      <th>freq</th>\n",
       "      <th>airpol</th>\n",
       "      <th>src_crf</th>\n",
       "      <th>unit</th>\n",
       "      <th>geo</th>\n",
       "      <th>TIME_PERIOD</th>\n",
       "      <th>OBS_VALUE</th>\n",
       "      <th>OBS_FLAG</th>\n",
       "    </tr>\n",
       "  </thead>\n",
       "  <tbody>\n",
       "    <tr>\n",
       "      <th>0</th>\n",
       "      <td>ESTAT:SDG_13_10(1.0)</td>\n",
       "      <td>17/08/21 23:00:00</td>\n",
       "      <td>A</td>\n",
       "      <td>GHG</td>\n",
       "      <td>TOTX4_MEMONIA</td>\n",
       "      <td>I90</td>\n",
       "      <td>AT</td>\n",
       "      <td>1990</td>\n",
       "      <td>100.0</td>\n",
       "      <td>NaN</td>\n",
       "    </tr>\n",
       "    <tr>\n",
       "      <th>1</th>\n",
       "      <td>ESTAT:SDG_13_10(1.0)</td>\n",
       "      <td>17/08/21 23:00:00</td>\n",
       "      <td>A</td>\n",
       "      <td>GHG</td>\n",
       "      <td>TOTX4_MEMONIA</td>\n",
       "      <td>I90</td>\n",
       "      <td>AT</td>\n",
       "      <td>1991</td>\n",
       "      <td>104.8</td>\n",
       "      <td>NaN</td>\n",
       "    </tr>\n",
       "    <tr>\n",
       "      <th>2</th>\n",
       "      <td>ESTAT:SDG_13_10(1.0)</td>\n",
       "      <td>17/08/21 23:00:00</td>\n",
       "      <td>A</td>\n",
       "      <td>GHG</td>\n",
       "      <td>TOTX4_MEMONIA</td>\n",
       "      <td>I90</td>\n",
       "      <td>AT</td>\n",
       "      <td>1992</td>\n",
       "      <td>96.5</td>\n",
       "      <td>NaN</td>\n",
       "    </tr>\n",
       "    <tr>\n",
       "      <th>3</th>\n",
       "      <td>ESTAT:SDG_13_10(1.0)</td>\n",
       "      <td>17/08/21 23:00:00</td>\n",
       "      <td>A</td>\n",
       "      <td>GHG</td>\n",
       "      <td>TOTX4_MEMONIA</td>\n",
       "      <td>I90</td>\n",
       "      <td>AT</td>\n",
       "      <td>1993</td>\n",
       "      <td>96.9</td>\n",
       "      <td>NaN</td>\n",
       "    </tr>\n",
       "    <tr>\n",
       "      <th>4</th>\n",
       "      <td>ESTAT:SDG_13_10(1.0)</td>\n",
       "      <td>17/08/21 23:00:00</td>\n",
       "      <td>A</td>\n",
       "      <td>GHG</td>\n",
       "      <td>TOTX4_MEMONIA</td>\n",
       "      <td>I90</td>\n",
       "      <td>AT</td>\n",
       "      <td>1994</td>\n",
       "      <td>97.3</td>\n",
       "      <td>NaN</td>\n",
       "    </tr>\n",
       "    <tr>\n",
       "      <th>...</th>\n",
       "      <td>...</td>\n",
       "      <td>...</td>\n",
       "      <td>...</td>\n",
       "      <td>...</td>\n",
       "      <td>...</td>\n",
       "      <td>...</td>\n",
       "      <td>...</td>\n",
       "      <td>...</td>\n",
       "      <td>...</td>\n",
       "      <td>...</td>\n",
       "    </tr>\n",
       "    <tr>\n",
       "      <th>4075</th>\n",
       "      <td>ESTAT:SDG_13_10(1.0)</td>\n",
       "      <td>17/08/21 23:00:00</td>\n",
       "      <td>A</td>\n",
       "      <td>GHG</td>\n",
       "      <td>TOTXMEMONIA</td>\n",
       "      <td>T_HAB</td>\n",
       "      <td>UK</td>\n",
       "      <td>2015</td>\n",
       "      <td>8.4</td>\n",
       "      <td>NaN</td>\n",
       "    </tr>\n",
       "    <tr>\n",
       "      <th>4076</th>\n",
       "      <td>ESTAT:SDG_13_10(1.0)</td>\n",
       "      <td>17/08/21 23:00:00</td>\n",
       "      <td>A</td>\n",
       "      <td>GHG</td>\n",
       "      <td>TOTXMEMONIA</td>\n",
       "      <td>T_HAB</td>\n",
       "      <td>UK</td>\n",
       "      <td>2016</td>\n",
       "      <td>7.9</td>\n",
       "      <td>NaN</td>\n",
       "    </tr>\n",
       "    <tr>\n",
       "      <th>4077</th>\n",
       "      <td>ESTAT:SDG_13_10(1.0)</td>\n",
       "      <td>17/08/21 23:00:00</td>\n",
       "      <td>A</td>\n",
       "      <td>GHG</td>\n",
       "      <td>TOTXMEMONIA</td>\n",
       "      <td>T_HAB</td>\n",
       "      <td>UK</td>\n",
       "      <td>2017</td>\n",
       "      <td>7.7</td>\n",
       "      <td>NaN</td>\n",
       "    </tr>\n",
       "    <tr>\n",
       "      <th>4078</th>\n",
       "      <td>ESTAT:SDG_13_10(1.0)</td>\n",
       "      <td>17/08/21 23:00:00</td>\n",
       "      <td>A</td>\n",
       "      <td>GHG</td>\n",
       "      <td>TOTXMEMONIA</td>\n",
       "      <td>T_HAB</td>\n",
       "      <td>UK</td>\n",
       "      <td>2018</td>\n",
       "      <td>7.6</td>\n",
       "      <td>NaN</td>\n",
       "    </tr>\n",
       "    <tr>\n",
       "      <th>4079</th>\n",
       "      <td>ESTAT:SDG_13_10(1.0)</td>\n",
       "      <td>17/08/21 23:00:00</td>\n",
       "      <td>A</td>\n",
       "      <td>GHG</td>\n",
       "      <td>TOTXMEMONIA</td>\n",
       "      <td>T_HAB</td>\n",
       "      <td>UK</td>\n",
       "      <td>2019</td>\n",
       "      <td>7.4</td>\n",
       "      <td>NaN</td>\n",
       "    </tr>\n",
       "  </tbody>\n",
       "</table>\n",
       "<p>4080 rows × 10 columns</p>\n",
       "</div>"
      ],
      "text/plain": [
       "                  DATAFLOW        LAST UPDATE freq airpol        src_crf  \\\n",
       "0     ESTAT:SDG_13_10(1.0)  17/08/21 23:00:00    A    GHG  TOTX4_MEMONIA   \n",
       "1     ESTAT:SDG_13_10(1.0)  17/08/21 23:00:00    A    GHG  TOTX4_MEMONIA   \n",
       "2     ESTAT:SDG_13_10(1.0)  17/08/21 23:00:00    A    GHG  TOTX4_MEMONIA   \n",
       "3     ESTAT:SDG_13_10(1.0)  17/08/21 23:00:00    A    GHG  TOTX4_MEMONIA   \n",
       "4     ESTAT:SDG_13_10(1.0)  17/08/21 23:00:00    A    GHG  TOTX4_MEMONIA   \n",
       "...                    ...                ...  ...    ...            ...   \n",
       "4075  ESTAT:SDG_13_10(1.0)  17/08/21 23:00:00    A    GHG    TOTXMEMONIA   \n",
       "4076  ESTAT:SDG_13_10(1.0)  17/08/21 23:00:00    A    GHG    TOTXMEMONIA   \n",
       "4077  ESTAT:SDG_13_10(1.0)  17/08/21 23:00:00    A    GHG    TOTXMEMONIA   \n",
       "4078  ESTAT:SDG_13_10(1.0)  17/08/21 23:00:00    A    GHG    TOTXMEMONIA   \n",
       "4079  ESTAT:SDG_13_10(1.0)  17/08/21 23:00:00    A    GHG    TOTXMEMONIA   \n",
       "\n",
       "       unit geo  TIME_PERIOD  OBS_VALUE OBS_FLAG  \n",
       "0       I90  AT         1990      100.0      NaN  \n",
       "1       I90  AT         1991      104.8      NaN  \n",
       "2       I90  AT         1992       96.5      NaN  \n",
       "3       I90  AT         1993       96.9      NaN  \n",
       "4       I90  AT         1994       97.3      NaN  \n",
       "...     ...  ..          ...        ...      ...  \n",
       "4075  T_HAB  UK         2015        8.4      NaN  \n",
       "4076  T_HAB  UK         2016        7.9      NaN  \n",
       "4077  T_HAB  UK         2017        7.7      NaN  \n",
       "4078  T_HAB  UK         2018        7.6      NaN  \n",
       "4079  T_HAB  UK         2019        7.4      NaN  \n",
       "\n",
       "[4080 rows x 10 columns]"
      ]
     },
     "execution_count": 63,
     "metadata": {},
     "output_type": "execute_result"
    }
   ],
   "source": [
    "df"
   ]
  },
  {
   "cell_type": "code",
   "execution_count": 64,
   "metadata": {},
   "outputs": [
    {
     "data": {
      "text/plain": [
       "geo\n",
       "EU27_2020    Union européenne - 27 pays (à partir de 2020)\n",
       "EU28                Union européenne - 28 pays (2013-2020)\n",
       "BE                                                Belgique\n",
       "BG                                                Bulgarie\n",
       "CZ                                                Tchéquie\n",
       "DK                                                Danemark\n",
       "DE                                               Allemagne\n",
       "EE                                                 Estonie\n",
       "IE                                                 Irlande\n",
       "EL                                                   Grèce\n",
       "ES                                                 Espagne\n",
       "FR                                                  France\n",
       "HR                                                 Croatie\n",
       "AT                                                Autriche\n",
       "PL                                                 Pologne\n",
       "PT                                                Portugal\n",
       "RO                                                Roumanie\n",
       "SI                                                Slovénie\n",
       "SK                                               Slovaquie\n",
       "FI                                                Finlande\n",
       "SE                                                   Suède\n",
       "IS                                                 Islande\n",
       "NO                                                 Norvège\n",
       "CH                                                  Suisse\n",
       "UK                                             Royaume-Uni\n",
       "TR                                                 Turquie\n",
       "IT                                                  Italie\n",
       "CY                                                  Chypre\n",
       "LV                                                Lettonie\n",
       "LT                                                Lituanie\n",
       "LU                                              Luxembourg\n",
       "HU                                                 Hongrie\n",
       "MT                                                   Malte\n",
       "NL                                                Pays-Bas\n",
       "Name: country, dtype: object"
      ]
     },
     "execution_count": 64,
     "metadata": {},
     "output_type": "execute_result"
    }
   ],
   "source": [
    "geoToCountry"
   ]
  },
  {
   "cell_type": "markdown",
   "metadata": {},
   "source": [
    "On remplace les code *geo* des pays par leur nom complet."
   ]
  },
  {
   "cell_type": "code",
   "execution_count": 65,
   "metadata": {},
   "outputs": [
    {
     "data": {
      "text/html": [
       "<div>\n",
       "<style scoped>\n",
       "    .dataframe tbody tr th:only-of-type {\n",
       "        vertical-align: middle;\n",
       "    }\n",
       "\n",
       "    .dataframe tbody tr th {\n",
       "        vertical-align: top;\n",
       "    }\n",
       "\n",
       "    .dataframe thead th {\n",
       "        text-align: right;\n",
       "    }\n",
       "</style>\n",
       "<table border=\"1\" class=\"dataframe\">\n",
       "  <thead>\n",
       "    <tr style=\"text-align: right;\">\n",
       "      <th></th>\n",
       "      <th>DATAFLOW</th>\n",
       "      <th>LAST UPDATE</th>\n",
       "      <th>freq</th>\n",
       "      <th>airpol</th>\n",
       "      <th>src_crf</th>\n",
       "      <th>unit</th>\n",
       "      <th>geo</th>\n",
       "      <th>TIME_PERIOD</th>\n",
       "      <th>OBS_VALUE</th>\n",
       "      <th>OBS_FLAG</th>\n",
       "    </tr>\n",
       "  </thead>\n",
       "  <tbody>\n",
       "    <tr>\n",
       "      <th>0</th>\n",
       "      <td>ESTAT:SDG_13_10(1.0)</td>\n",
       "      <td>17/08/21 23:00:00</td>\n",
       "      <td>A</td>\n",
       "      <td>GHG</td>\n",
       "      <td>TOTX4_MEMONIA</td>\n",
       "      <td>I90</td>\n",
       "      <td>Autriche</td>\n",
       "      <td>1990</td>\n",
       "      <td>100.0</td>\n",
       "      <td>NaN</td>\n",
       "    </tr>\n",
       "    <tr>\n",
       "      <th>1</th>\n",
       "      <td>ESTAT:SDG_13_10(1.0)</td>\n",
       "      <td>17/08/21 23:00:00</td>\n",
       "      <td>A</td>\n",
       "      <td>GHG</td>\n",
       "      <td>TOTX4_MEMONIA</td>\n",
       "      <td>I90</td>\n",
       "      <td>Autriche</td>\n",
       "      <td>1991</td>\n",
       "      <td>104.8</td>\n",
       "      <td>NaN</td>\n",
       "    </tr>\n",
       "    <tr>\n",
       "      <th>2</th>\n",
       "      <td>ESTAT:SDG_13_10(1.0)</td>\n",
       "      <td>17/08/21 23:00:00</td>\n",
       "      <td>A</td>\n",
       "      <td>GHG</td>\n",
       "      <td>TOTX4_MEMONIA</td>\n",
       "      <td>I90</td>\n",
       "      <td>Autriche</td>\n",
       "      <td>1992</td>\n",
       "      <td>96.5</td>\n",
       "      <td>NaN</td>\n",
       "    </tr>\n",
       "    <tr>\n",
       "      <th>3</th>\n",
       "      <td>ESTAT:SDG_13_10(1.0)</td>\n",
       "      <td>17/08/21 23:00:00</td>\n",
       "      <td>A</td>\n",
       "      <td>GHG</td>\n",
       "      <td>TOTX4_MEMONIA</td>\n",
       "      <td>I90</td>\n",
       "      <td>Autriche</td>\n",
       "      <td>1993</td>\n",
       "      <td>96.9</td>\n",
       "      <td>NaN</td>\n",
       "    </tr>\n",
       "    <tr>\n",
       "      <th>4</th>\n",
       "      <td>ESTAT:SDG_13_10(1.0)</td>\n",
       "      <td>17/08/21 23:00:00</td>\n",
       "      <td>A</td>\n",
       "      <td>GHG</td>\n",
       "      <td>TOTX4_MEMONIA</td>\n",
       "      <td>I90</td>\n",
       "      <td>Autriche</td>\n",
       "      <td>1994</td>\n",
       "      <td>97.3</td>\n",
       "      <td>NaN</td>\n",
       "    </tr>\n",
       "    <tr>\n",
       "      <th>...</th>\n",
       "      <td>...</td>\n",
       "      <td>...</td>\n",
       "      <td>...</td>\n",
       "      <td>...</td>\n",
       "      <td>...</td>\n",
       "      <td>...</td>\n",
       "      <td>...</td>\n",
       "      <td>...</td>\n",
       "      <td>...</td>\n",
       "      <td>...</td>\n",
       "    </tr>\n",
       "    <tr>\n",
       "      <th>4075</th>\n",
       "      <td>ESTAT:SDG_13_10(1.0)</td>\n",
       "      <td>17/08/21 23:00:00</td>\n",
       "      <td>A</td>\n",
       "      <td>GHG</td>\n",
       "      <td>TOTXMEMONIA</td>\n",
       "      <td>T_HAB</td>\n",
       "      <td>Royaume-Uni</td>\n",
       "      <td>2015</td>\n",
       "      <td>8.4</td>\n",
       "      <td>NaN</td>\n",
       "    </tr>\n",
       "    <tr>\n",
       "      <th>4076</th>\n",
       "      <td>ESTAT:SDG_13_10(1.0)</td>\n",
       "      <td>17/08/21 23:00:00</td>\n",
       "      <td>A</td>\n",
       "      <td>GHG</td>\n",
       "      <td>TOTXMEMONIA</td>\n",
       "      <td>T_HAB</td>\n",
       "      <td>Royaume-Uni</td>\n",
       "      <td>2016</td>\n",
       "      <td>7.9</td>\n",
       "      <td>NaN</td>\n",
       "    </tr>\n",
       "    <tr>\n",
       "      <th>4077</th>\n",
       "      <td>ESTAT:SDG_13_10(1.0)</td>\n",
       "      <td>17/08/21 23:00:00</td>\n",
       "      <td>A</td>\n",
       "      <td>GHG</td>\n",
       "      <td>TOTXMEMONIA</td>\n",
       "      <td>T_HAB</td>\n",
       "      <td>Royaume-Uni</td>\n",
       "      <td>2017</td>\n",
       "      <td>7.7</td>\n",
       "      <td>NaN</td>\n",
       "    </tr>\n",
       "    <tr>\n",
       "      <th>4078</th>\n",
       "      <td>ESTAT:SDG_13_10(1.0)</td>\n",
       "      <td>17/08/21 23:00:00</td>\n",
       "      <td>A</td>\n",
       "      <td>GHG</td>\n",
       "      <td>TOTXMEMONIA</td>\n",
       "      <td>T_HAB</td>\n",
       "      <td>Royaume-Uni</td>\n",
       "      <td>2018</td>\n",
       "      <td>7.6</td>\n",
       "      <td>NaN</td>\n",
       "    </tr>\n",
       "    <tr>\n",
       "      <th>4079</th>\n",
       "      <td>ESTAT:SDG_13_10(1.0)</td>\n",
       "      <td>17/08/21 23:00:00</td>\n",
       "      <td>A</td>\n",
       "      <td>GHG</td>\n",
       "      <td>TOTXMEMONIA</td>\n",
       "      <td>T_HAB</td>\n",
       "      <td>Royaume-Uni</td>\n",
       "      <td>2019</td>\n",
       "      <td>7.4</td>\n",
       "      <td>NaN</td>\n",
       "    </tr>\n",
       "  </tbody>\n",
       "</table>\n",
       "<p>4080 rows × 10 columns</p>\n",
       "</div>"
      ],
      "text/plain": [
       "                  DATAFLOW        LAST UPDATE freq airpol        src_crf  \\\n",
       "0     ESTAT:SDG_13_10(1.0)  17/08/21 23:00:00    A    GHG  TOTX4_MEMONIA   \n",
       "1     ESTAT:SDG_13_10(1.0)  17/08/21 23:00:00    A    GHG  TOTX4_MEMONIA   \n",
       "2     ESTAT:SDG_13_10(1.0)  17/08/21 23:00:00    A    GHG  TOTX4_MEMONIA   \n",
       "3     ESTAT:SDG_13_10(1.0)  17/08/21 23:00:00    A    GHG  TOTX4_MEMONIA   \n",
       "4     ESTAT:SDG_13_10(1.0)  17/08/21 23:00:00    A    GHG  TOTX4_MEMONIA   \n",
       "...                    ...                ...  ...    ...            ...   \n",
       "4075  ESTAT:SDG_13_10(1.0)  17/08/21 23:00:00    A    GHG    TOTXMEMONIA   \n",
       "4076  ESTAT:SDG_13_10(1.0)  17/08/21 23:00:00    A    GHG    TOTXMEMONIA   \n",
       "4077  ESTAT:SDG_13_10(1.0)  17/08/21 23:00:00    A    GHG    TOTXMEMONIA   \n",
       "4078  ESTAT:SDG_13_10(1.0)  17/08/21 23:00:00    A    GHG    TOTXMEMONIA   \n",
       "4079  ESTAT:SDG_13_10(1.0)  17/08/21 23:00:00    A    GHG    TOTXMEMONIA   \n",
       "\n",
       "       unit          geo  TIME_PERIOD  OBS_VALUE OBS_FLAG  \n",
       "0       I90     Autriche         1990      100.0      NaN  \n",
       "1       I90     Autriche         1991      104.8      NaN  \n",
       "2       I90     Autriche         1992       96.5      NaN  \n",
       "3       I90     Autriche         1993       96.9      NaN  \n",
       "4       I90     Autriche         1994       97.3      NaN  \n",
       "...     ...          ...          ...        ...      ...  \n",
       "4075  T_HAB  Royaume-Uni         2015        8.4      NaN  \n",
       "4076  T_HAB  Royaume-Uni         2016        7.9      NaN  \n",
       "4077  T_HAB  Royaume-Uni         2017        7.7      NaN  \n",
       "4078  T_HAB  Royaume-Uni         2018        7.6      NaN  \n",
       "4079  T_HAB  Royaume-Uni         2019        7.4      NaN  \n",
       "\n",
       "[4080 rows x 10 columns]"
      ]
     },
     "execution_count": 65,
     "metadata": {},
     "output_type": "execute_result"
    }
   ],
   "source": [
    "df.replace(geoToCountry.to_dict(), inplace=True)\n",
    "df"
   ]
  },
  {
   "cell_type": "markdown",
   "metadata": {},
   "source": [
    "Dans la base de données, deux unités étaient disponibles, I90 et T_HAB.  \n",
    "Nous allons tester ici les résultats obtenues par ces deux unités.  "
   ]
  },
  {
   "cell_type": "code",
   "execution_count": 66,
   "metadata": {},
   "outputs": [
    {
     "data": {
      "text/html": [
       "<div>\n",
       "<style scoped>\n",
       "    .dataframe tbody tr th:only-of-type {\n",
       "        vertical-align: middle;\n",
       "    }\n",
       "\n",
       "    .dataframe tbody tr th {\n",
       "        vertical-align: top;\n",
       "    }\n",
       "\n",
       "    .dataframe thead th {\n",
       "        text-align: right;\n",
       "    }\n",
       "</style>\n",
       "<table border=\"1\" class=\"dataframe\">\n",
       "  <thead>\n",
       "    <tr style=\"text-align: right;\">\n",
       "      <th></th>\n",
       "      <th>DATAFLOW</th>\n",
       "      <th>LAST UPDATE</th>\n",
       "      <th>freq</th>\n",
       "      <th>airpol</th>\n",
       "      <th>src_crf</th>\n",
       "      <th>unit</th>\n",
       "      <th>geo</th>\n",
       "      <th>TIME_PERIOD</th>\n",
       "      <th>OBS_VALUE</th>\n",
       "      <th>OBS_FLAG</th>\n",
       "    </tr>\n",
       "  </thead>\n",
       "  <tbody>\n",
       "    <tr>\n",
       "      <th>2040</th>\n",
       "      <td>ESTAT:SDG_13_10(1.0)</td>\n",
       "      <td>17/08/21 23:00:00</td>\n",
       "      <td>A</td>\n",
       "      <td>GHG</td>\n",
       "      <td>TOTXMEMONIA</td>\n",
       "      <td>I90</td>\n",
       "      <td>Autriche</td>\n",
       "      <td>1990</td>\n",
       "      <td>100.0</td>\n",
       "      <td>NaN</td>\n",
       "    </tr>\n",
       "    <tr>\n",
       "      <th>2041</th>\n",
       "      <td>ESTAT:SDG_13_10(1.0)</td>\n",
       "      <td>17/08/21 23:00:00</td>\n",
       "      <td>A</td>\n",
       "      <td>GHG</td>\n",
       "      <td>TOTXMEMONIA</td>\n",
       "      <td>I90</td>\n",
       "      <td>Autriche</td>\n",
       "      <td>1991</td>\n",
       "      <td>98.5</td>\n",
       "      <td>NaN</td>\n",
       "    </tr>\n",
       "    <tr>\n",
       "      <th>2042</th>\n",
       "      <td>ESTAT:SDG_13_10(1.0)</td>\n",
       "      <td>17/08/21 23:00:00</td>\n",
       "      <td>A</td>\n",
       "      <td>GHG</td>\n",
       "      <td>TOTXMEMONIA</td>\n",
       "      <td>I90</td>\n",
       "      <td>Autriche</td>\n",
       "      <td>1992</td>\n",
       "      <td>96.3</td>\n",
       "      <td>NaN</td>\n",
       "    </tr>\n",
       "    <tr>\n",
       "      <th>2043</th>\n",
       "      <td>ESTAT:SDG_13_10(1.0)</td>\n",
       "      <td>17/08/21 23:00:00</td>\n",
       "      <td>A</td>\n",
       "      <td>GHG</td>\n",
       "      <td>TOTXMEMONIA</td>\n",
       "      <td>I90</td>\n",
       "      <td>Autriche</td>\n",
       "      <td>1993</td>\n",
       "      <td>96.3</td>\n",
       "      <td>NaN</td>\n",
       "    </tr>\n",
       "    <tr>\n",
       "      <th>2044</th>\n",
       "      <td>ESTAT:SDG_13_10(1.0)</td>\n",
       "      <td>17/08/21 23:00:00</td>\n",
       "      <td>A</td>\n",
       "      <td>GHG</td>\n",
       "      <td>TOTXMEMONIA</td>\n",
       "      <td>I90</td>\n",
       "      <td>Autriche</td>\n",
       "      <td>1994</td>\n",
       "      <td>97.0</td>\n",
       "      <td>NaN</td>\n",
       "    </tr>\n",
       "    <tr>\n",
       "      <th>...</th>\n",
       "      <td>...</td>\n",
       "      <td>...</td>\n",
       "      <td>...</td>\n",
       "      <td>...</td>\n",
       "      <td>...</td>\n",
       "      <td>...</td>\n",
       "      <td>...</td>\n",
       "      <td>...</td>\n",
       "      <td>...</td>\n",
       "      <td>...</td>\n",
       "    </tr>\n",
       "    <tr>\n",
       "      <th>3055</th>\n",
       "      <td>ESTAT:SDG_13_10(1.0)</td>\n",
       "      <td>17/08/21 23:00:00</td>\n",
       "      <td>A</td>\n",
       "      <td>GHG</td>\n",
       "      <td>TOTXMEMONIA</td>\n",
       "      <td>I90</td>\n",
       "      <td>Royaume-Uni</td>\n",
       "      <td>2015</td>\n",
       "      <td>66.0</td>\n",
       "      <td>NaN</td>\n",
       "    </tr>\n",
       "    <tr>\n",
       "      <th>3056</th>\n",
       "      <td>ESTAT:SDG_13_10(1.0)</td>\n",
       "      <td>17/08/21 23:00:00</td>\n",
       "      <td>A</td>\n",
       "      <td>GHG</td>\n",
       "      <td>TOTXMEMONIA</td>\n",
       "      <td>I90</td>\n",
       "      <td>Royaume-Uni</td>\n",
       "      <td>2016</td>\n",
       "      <td>63.0</td>\n",
       "      <td>NaN</td>\n",
       "    </tr>\n",
       "    <tr>\n",
       "      <th>3057</th>\n",
       "      <td>ESTAT:SDG_13_10(1.0)</td>\n",
       "      <td>17/08/21 23:00:00</td>\n",
       "      <td>A</td>\n",
       "      <td>GHG</td>\n",
       "      <td>TOTXMEMONIA</td>\n",
       "      <td>I90</td>\n",
       "      <td>Royaume-Uni</td>\n",
       "      <td>2017</td>\n",
       "      <td>61.9</td>\n",
       "      <td>NaN</td>\n",
       "    </tr>\n",
       "    <tr>\n",
       "      <th>3058</th>\n",
       "      <td>ESTAT:SDG_13_10(1.0)</td>\n",
       "      <td>17/08/21 23:00:00</td>\n",
       "      <td>A</td>\n",
       "      <td>GHG</td>\n",
       "      <td>TOTXMEMONIA</td>\n",
       "      <td>I90</td>\n",
       "      <td>Royaume-Uni</td>\n",
       "      <td>2018</td>\n",
       "      <td>61.2</td>\n",
       "      <td>NaN</td>\n",
       "    </tr>\n",
       "    <tr>\n",
       "      <th>3059</th>\n",
       "      <td>ESTAT:SDG_13_10(1.0)</td>\n",
       "      <td>17/08/21 23:00:00</td>\n",
       "      <td>A</td>\n",
       "      <td>GHG</td>\n",
       "      <td>TOTXMEMONIA</td>\n",
       "      <td>I90</td>\n",
       "      <td>Royaume-Uni</td>\n",
       "      <td>2019</td>\n",
       "      <td>59.7</td>\n",
       "      <td>NaN</td>\n",
       "    </tr>\n",
       "  </tbody>\n",
       "</table>\n",
       "<p>1020 rows × 10 columns</p>\n",
       "</div>"
      ],
      "text/plain": [
       "                  DATAFLOW        LAST UPDATE freq airpol      src_crf unit  \\\n",
       "2040  ESTAT:SDG_13_10(1.0)  17/08/21 23:00:00    A    GHG  TOTXMEMONIA  I90   \n",
       "2041  ESTAT:SDG_13_10(1.0)  17/08/21 23:00:00    A    GHG  TOTXMEMONIA  I90   \n",
       "2042  ESTAT:SDG_13_10(1.0)  17/08/21 23:00:00    A    GHG  TOTXMEMONIA  I90   \n",
       "2043  ESTAT:SDG_13_10(1.0)  17/08/21 23:00:00    A    GHG  TOTXMEMONIA  I90   \n",
       "2044  ESTAT:SDG_13_10(1.0)  17/08/21 23:00:00    A    GHG  TOTXMEMONIA  I90   \n",
       "...                    ...                ...  ...    ...          ...  ...   \n",
       "3055  ESTAT:SDG_13_10(1.0)  17/08/21 23:00:00    A    GHG  TOTXMEMONIA  I90   \n",
       "3056  ESTAT:SDG_13_10(1.0)  17/08/21 23:00:00    A    GHG  TOTXMEMONIA  I90   \n",
       "3057  ESTAT:SDG_13_10(1.0)  17/08/21 23:00:00    A    GHG  TOTXMEMONIA  I90   \n",
       "3058  ESTAT:SDG_13_10(1.0)  17/08/21 23:00:00    A    GHG  TOTXMEMONIA  I90   \n",
       "3059  ESTAT:SDG_13_10(1.0)  17/08/21 23:00:00    A    GHG  TOTXMEMONIA  I90   \n",
       "\n",
       "              geo  TIME_PERIOD  OBS_VALUE OBS_FLAG  \n",
       "2040     Autriche         1990      100.0      NaN  \n",
       "2041     Autriche         1991       98.5      NaN  \n",
       "2042     Autriche         1992       96.3      NaN  \n",
       "2043     Autriche         1993       96.3      NaN  \n",
       "2044     Autriche         1994       97.0      NaN  \n",
       "...           ...          ...        ...      ...  \n",
       "3055  Royaume-Uni         2015       66.0      NaN  \n",
       "3056  Royaume-Uni         2016       63.0      NaN  \n",
       "3057  Royaume-Uni         2017       61.9      NaN  \n",
       "3058  Royaume-Uni         2018       61.2      NaN  \n",
       "3059  Royaume-Uni         2019       59.7      NaN  \n",
       "\n",
       "[1020 rows x 10 columns]"
      ]
     },
     "execution_count": 66,
     "metadata": {},
     "output_type": "execute_result"
    }
   ],
   "source": [
    "I90_df = df[(df.unit == 'I90') & (df.src_crf == 'TOTXMEMONIA')]\n",
    "I90_df"
   ]
  },
  {
   "cell_type": "code",
   "execution_count": 67,
   "metadata": {},
   "outputs": [
    {
     "data": {
      "text/html": [
       "<div>\n",
       "<style scoped>\n",
       "    .dataframe tbody tr th:only-of-type {\n",
       "        vertical-align: middle;\n",
       "    }\n",
       "\n",
       "    .dataframe tbody tr th {\n",
       "        vertical-align: top;\n",
       "    }\n",
       "\n",
       "    .dataframe thead th {\n",
       "        text-align: right;\n",
       "    }\n",
       "</style>\n",
       "<table border=\"1\" class=\"dataframe\">\n",
       "  <thead>\n",
       "    <tr style=\"text-align: right;\">\n",
       "      <th></th>\n",
       "      <th>Pays</th>\n",
       "      <th>Value</th>\n",
       "      <th>Time</th>\n",
       "    </tr>\n",
       "  </thead>\n",
       "  <tbody>\n",
       "    <tr>\n",
       "      <th>2040</th>\n",
       "      <td>Autriche</td>\n",
       "      <td>100.0</td>\n",
       "      <td>1990</td>\n",
       "    </tr>\n",
       "    <tr>\n",
       "      <th>2041</th>\n",
       "      <td>Autriche</td>\n",
       "      <td>98.5</td>\n",
       "      <td>1991</td>\n",
       "    </tr>\n",
       "    <tr>\n",
       "      <th>2042</th>\n",
       "      <td>Autriche</td>\n",
       "      <td>96.3</td>\n",
       "      <td>1992</td>\n",
       "    </tr>\n",
       "    <tr>\n",
       "      <th>2043</th>\n",
       "      <td>Autriche</td>\n",
       "      <td>96.3</td>\n",
       "      <td>1993</td>\n",
       "    </tr>\n",
       "    <tr>\n",
       "      <th>2044</th>\n",
       "      <td>Autriche</td>\n",
       "      <td>97.0</td>\n",
       "      <td>1994</td>\n",
       "    </tr>\n",
       "    <tr>\n",
       "      <th>...</th>\n",
       "      <td>...</td>\n",
       "      <td>...</td>\n",
       "      <td>...</td>\n",
       "    </tr>\n",
       "    <tr>\n",
       "      <th>3055</th>\n",
       "      <td>Royaume-Uni</td>\n",
       "      <td>66.0</td>\n",
       "      <td>2015</td>\n",
       "    </tr>\n",
       "    <tr>\n",
       "      <th>3056</th>\n",
       "      <td>Royaume-Uni</td>\n",
       "      <td>63.0</td>\n",
       "      <td>2016</td>\n",
       "    </tr>\n",
       "    <tr>\n",
       "      <th>3057</th>\n",
       "      <td>Royaume-Uni</td>\n",
       "      <td>61.9</td>\n",
       "      <td>2017</td>\n",
       "    </tr>\n",
       "    <tr>\n",
       "      <th>3058</th>\n",
       "      <td>Royaume-Uni</td>\n",
       "      <td>61.2</td>\n",
       "      <td>2018</td>\n",
       "    </tr>\n",
       "    <tr>\n",
       "      <th>3059</th>\n",
       "      <td>Royaume-Uni</td>\n",
       "      <td>59.7</td>\n",
       "      <td>2019</td>\n",
       "    </tr>\n",
       "  </tbody>\n",
       "</table>\n",
       "<p>1020 rows × 3 columns</p>\n",
       "</div>"
      ],
      "text/plain": [
       "             Pays  Value  Time\n",
       "2040     Autriche  100.0  1990\n",
       "2041     Autriche   98.5  1991\n",
       "2042     Autriche   96.3  1992\n",
       "2043     Autriche   96.3  1993\n",
       "2044     Autriche   97.0  1994\n",
       "...           ...    ...   ...\n",
       "3055  Royaume-Uni   66.0  2015\n",
       "3056  Royaume-Uni   63.0  2016\n",
       "3057  Royaume-Uni   61.9  2017\n",
       "3058  Royaume-Uni   61.2  2018\n",
       "3059  Royaume-Uni   59.7  2019\n",
       "\n",
       "[1020 rows x 3 columns]"
      ]
     },
     "execution_count": 67,
     "metadata": {},
     "output_type": "execute_result"
    }
   ],
   "source": [
    "I90_clean_df = pd.DataFrame(data={'Pays' : I90_df.geo, 'Value' : I90_df.OBS_VALUE, 'Time': I90_df.TIME_PERIOD})\n",
    "I90_clean_df"
   ]
  },
  {
   "cell_type": "code",
   "execution_count": 68,
   "metadata": {},
   "outputs": [],
   "source": [
    "I90_clean_df.set_index('Time', inplace=True)\n",
    "I90_clean_df.drop([1990, 1991, 1992,1993, 1994], inplace=True, axis=0)\n",
    "I90_clean_df = I90_clean_df[(I90_clean_df.Pays != 'Turquie') & (I90_clean_df.Pays != 'Royaume-Uni')  & (I90_clean_df.Pays != 'Union européenne - 28 pays (2013-2020)')]"
   ]
  },
  {
   "cell_type": "code",
   "execution_count": 69,
   "metadata": {},
   "outputs": [
    {
     "data": {
      "text/html": [
       "<div>\n",
       "<style scoped>\n",
       "    .dataframe tbody tr th:only-of-type {\n",
       "        vertical-align: middle;\n",
       "    }\n",
       "\n",
       "    .dataframe tbody tr th {\n",
       "        vertical-align: top;\n",
       "    }\n",
       "\n",
       "    .dataframe thead th {\n",
       "        text-align: right;\n",
       "    }\n",
       "</style>\n",
       "<table border=\"1\" class=\"dataframe\">\n",
       "  <thead>\n",
       "    <tr style=\"text-align: right;\">\n",
       "      <th>Pays</th>\n",
       "      <th>Allemagne</th>\n",
       "      <th>Autriche</th>\n",
       "      <th>Belgique</th>\n",
       "      <th>Bulgarie</th>\n",
       "      <th>Chypre</th>\n",
       "      <th>Croatie</th>\n",
       "      <th>Danemark</th>\n",
       "      <th>Espagne</th>\n",
       "      <th>Estonie</th>\n",
       "      <th>Finlande</th>\n",
       "      <th>...</th>\n",
       "      <th>Pays-Bas</th>\n",
       "      <th>Pologne</th>\n",
       "      <th>Portugal</th>\n",
       "      <th>Roumanie</th>\n",
       "      <th>Slovaquie</th>\n",
       "      <th>Slovénie</th>\n",
       "      <th>Suisse</th>\n",
       "      <th>Suède</th>\n",
       "      <th>Tchéquie</th>\n",
       "      <th>Union européenne - 27 pays (à partir de 2020)</th>\n",
       "    </tr>\n",
       "    <tr>\n",
       "      <th>Time</th>\n",
       "      <th></th>\n",
       "      <th></th>\n",
       "      <th></th>\n",
       "      <th></th>\n",
       "      <th></th>\n",
       "      <th></th>\n",
       "      <th></th>\n",
       "      <th></th>\n",
       "      <th></th>\n",
       "      <th></th>\n",
       "      <th></th>\n",
       "      <th></th>\n",
       "      <th></th>\n",
       "      <th></th>\n",
       "      <th></th>\n",
       "      <th></th>\n",
       "      <th></th>\n",
       "      <th></th>\n",
       "      <th></th>\n",
       "      <th></th>\n",
       "      <th></th>\n",
       "    </tr>\n",
       "  </thead>\n",
       "  <tbody>\n",
       "    <tr>\n",
       "      <th>1995</th>\n",
       "      <td>85.7</td>\n",
       "      <td>100.2</td>\n",
       "      <td>105.7</td>\n",
       "      <td>67.6</td>\n",
       "      <td>124.2</td>\n",
       "      <td>54.2</td>\n",
       "      <td>107.8</td>\n",
       "      <td>116.5</td>\n",
       "      <td>46.7</td>\n",
       "      <td>101.2</td>\n",
       "      <td>...</td>\n",
       "      <td>105.5</td>\n",
       "      <td>96.0</td>\n",
       "      <td>106.8</td>\n",
       "      <td>66.7</td>\n",
       "      <td>67.7</td>\n",
       "      <td>95.0</td>\n",
       "      <td>95.7</td>\n",
       "      <td>106.3</td>\n",
       "      <td>77.8</td>\n",
       "      <td>91.7</td>\n",
       "    </tr>\n",
       "    <tr>\n",
       "      <th>1996</th>\n",
       "      <td>87.7</td>\n",
       "      <td>109.1</td>\n",
       "      <td>108.6</td>\n",
       "      <td>68.2</td>\n",
       "      <td>129.4</td>\n",
       "      <td>57.5</td>\n",
       "      <td>123.7</td>\n",
       "      <td>113.4</td>\n",
       "      <td>48.2</td>\n",
       "      <td>99.4</td>\n",
       "      <td>...</td>\n",
       "      <td>110.3</td>\n",
       "      <td>95.2</td>\n",
       "      <td>97.4</td>\n",
       "      <td>68.0</td>\n",
       "      <td>67.5</td>\n",
       "      <td>95.3</td>\n",
       "      <td>94.3</td>\n",
       "      <td>111.1</td>\n",
       "      <td>79.3</td>\n",
       "      <td>93.3</td>\n",
       "    </tr>\n",
       "    <tr>\n",
       "      <th>1997</th>\n",
       "      <td>85.0</td>\n",
       "      <td>96.0</td>\n",
       "      <td>103.1</td>\n",
       "      <td>64.0</td>\n",
       "      <td>131.0</td>\n",
       "      <td>65.1</td>\n",
       "      <td>112.1</td>\n",
       "      <td>119.4</td>\n",
       "      <td>46.9</td>\n",
       "      <td>105.3</td>\n",
       "      <td>...</td>\n",
       "      <td>107.1</td>\n",
       "      <td>93.0</td>\n",
       "      <td>101.2</td>\n",
       "      <td>64.5</td>\n",
       "      <td>67.6</td>\n",
       "      <td>97.8</td>\n",
       "      <td>95.4</td>\n",
       "      <td>95.0</td>\n",
       "      <td>77.5</td>\n",
       "      <td>91.9</td>\n",
       "    </tr>\n",
       "    <tr>\n",
       "      <th>1998</th>\n",
       "      <td>83.0</td>\n",
       "      <td>97.8</td>\n",
       "      <td>106.6</td>\n",
       "      <td>59.3</td>\n",
       "      <td>137.9</td>\n",
       "      <td>66.7</td>\n",
       "      <td>106.9</td>\n",
       "      <td>123.0</td>\n",
       "      <td>41.1</td>\n",
       "      <td>101.1</td>\n",
       "      <td>...</td>\n",
       "      <td>107.5</td>\n",
       "      <td>84.9</td>\n",
       "      <td>112.0</td>\n",
       "      <td>57.3</td>\n",
       "      <td>64.9</td>\n",
       "      <td>94.0</td>\n",
       "      <td>100.4</td>\n",
       "      <td>93.3</td>\n",
       "      <td>74.2</td>\n",
       "      <td>90.8</td>\n",
       "    </tr>\n",
       "    <tr>\n",
       "      <th>1999</th>\n",
       "      <td>80.3</td>\n",
       "      <td>92.0</td>\n",
       "      <td>103.2</td>\n",
       "      <td>50.9</td>\n",
       "      <td>141.1</td>\n",
       "      <td>69.1</td>\n",
       "      <td>104.0</td>\n",
       "      <td>132.7</td>\n",
       "      <td>39.2</td>\n",
       "      <td>98.9</td>\n",
       "      <td>...</td>\n",
       "      <td>101.8</td>\n",
       "      <td>83.0</td>\n",
       "      <td>123.5</td>\n",
       "      <td>50.0</td>\n",
       "      <td>63.9</td>\n",
       "      <td>89.0</td>\n",
       "      <td>101.3</td>\n",
       "      <td>86.2</td>\n",
       "      <td>69.1</td>\n",
       "      <td>89.1</td>\n",
       "    </tr>\n",
       "    <tr>\n",
       "      <th>2000</th>\n",
       "      <td>81.0</td>\n",
       "      <td>97.2</td>\n",
       "      <td>104.3</td>\n",
       "      <td>49.4</td>\n",
       "      <td>149.9</td>\n",
       "      <td>74.2</td>\n",
       "      <td>98.7</td>\n",
       "      <td>138.5</td>\n",
       "      <td>36.1</td>\n",
       "      <td>95.8</td>\n",
       "      <td>...</td>\n",
       "      <td>101.0</td>\n",
       "      <td>80.9</td>\n",
       "      <td>127.5</td>\n",
       "      <td>47.2</td>\n",
       "      <td>60.9</td>\n",
       "      <td>86.6</td>\n",
       "      <td>114.4</td>\n",
       "      <td>77.9</td>\n",
       "      <td>73.9</td>\n",
       "      <td>89.7</td>\n",
       "    </tr>\n",
       "    <tr>\n",
       "      <th>2001</th>\n",
       "      <td>82.0</td>\n",
       "      <td>98.7</td>\n",
       "      <td>102.9</td>\n",
       "      <td>57.4</td>\n",
       "      <td>148.9</td>\n",
       "      <td>75.3</td>\n",
       "      <td>99.6</td>\n",
       "      <td>137.1</td>\n",
       "      <td>36.6</td>\n",
       "      <td>102.3</td>\n",
       "      <td>...</td>\n",
       "      <td>101.2</td>\n",
       "      <td>82.3</td>\n",
       "      <td>121.6</td>\n",
       "      <td>48.2</td>\n",
       "      <td>65.6</td>\n",
       "      <td>95.3</td>\n",
       "      <td>105.5</td>\n",
       "      <td>77.8</td>\n",
       "      <td>73.8</td>\n",
       "      <td>90.2</td>\n",
       "    </tr>\n",
       "    <tr>\n",
       "      <th>2002</th>\n",
       "      <td>82.4</td>\n",
       "      <td>108.7</td>\n",
       "      <td>102.2</td>\n",
       "      <td>53.8</td>\n",
       "      <td>150.6</td>\n",
       "      <td>78.2</td>\n",
       "      <td>99.8</td>\n",
       "      <td>144.5</td>\n",
       "      <td>35.9</td>\n",
       "      <td>104.2</td>\n",
       "      <td>...</td>\n",
       "      <td>100.4</td>\n",
       "      <td>78.1</td>\n",
       "      <td>129.7</td>\n",
       "      <td>49.7</td>\n",
       "      <td>62.6</td>\n",
       "      <td>89.0</td>\n",
       "      <td>99.1</td>\n",
       "      <td>80.1</td>\n",
       "      <td>72.0</td>\n",
       "      <td>90.1</td>\n",
       "    </tr>\n",
       "    <tr>\n",
       "      <th>2003</th>\n",
       "      <td>82.2</td>\n",
       "      <td>130.7</td>\n",
       "      <td>102.6</td>\n",
       "      <td>60.3</td>\n",
       "      <td>158.0</td>\n",
       "      <td>87.1</td>\n",
       "      <td>106.0</td>\n",
       "      <td>148.0</td>\n",
       "      <td>37.7</td>\n",
       "      <td>115.8</td>\n",
       "      <td>...</td>\n",
       "      <td>100.7</td>\n",
       "      <td>80.8</td>\n",
       "      <td>139.5</td>\n",
       "      <td>52.1</td>\n",
       "      <td>63.6</td>\n",
       "      <td>90.3</td>\n",
       "      <td>100.3</td>\n",
       "      <td>88.3</td>\n",
       "      <td>74.3</td>\n",
       "      <td>92.5</td>\n",
       "    </tr>\n",
       "    <tr>\n",
       "      <th>2004</th>\n",
       "      <td>80.8</td>\n",
       "      <td>124.2</td>\n",
       "      <td>103.2</td>\n",
       "      <td>58.3</td>\n",
       "      <td>160.0</td>\n",
       "      <td>86.1</td>\n",
       "      <td>98.5</td>\n",
       "      <td>154.5</td>\n",
       "      <td>41.0</td>\n",
       "      <td>108.0</td>\n",
       "      <td>...</td>\n",
       "      <td>101.5</td>\n",
       "      <td>79.5</td>\n",
       "      <td>128.3</td>\n",
       "      <td>51.4</td>\n",
       "      <td>64.7</td>\n",
       "      <td>90.6</td>\n",
       "      <td>101.1</td>\n",
       "      <td>105.3</td>\n",
       "      <td>74.8</td>\n",
       "      <td>92.1</td>\n",
       "    </tr>\n",
       "    <tr>\n",
       "      <th>2005</th>\n",
       "      <td>79.0</td>\n",
       "      <td>124.1</td>\n",
       "      <td>101.0</td>\n",
       "      <td>57.6</td>\n",
       "      <td>160.4</td>\n",
       "      <td>87.2</td>\n",
       "      <td>93.1</td>\n",
       "      <td>160.5</td>\n",
       "      <td>47.7</td>\n",
       "      <td>86.4</td>\n",
       "      <td>...</td>\n",
       "      <td>99.1</td>\n",
       "      <td>79.8</td>\n",
       "      <td>147.6</td>\n",
       "      <td>50.1</td>\n",
       "      <td>70.2</td>\n",
       "      <td>92.3</td>\n",
       "      <td>101.9</td>\n",
       "      <td>100.6</td>\n",
       "      <td>73.6</td>\n",
       "      <td>91.8</td>\n",
       "    </tr>\n",
       "    <tr>\n",
       "      <th>2006</th>\n",
       "      <td>79.4</td>\n",
       "      <td>129.2</td>\n",
       "      <td>99.2</td>\n",
       "      <td>61.4</td>\n",
       "      <td>163.4</td>\n",
       "      <td>89.4</td>\n",
       "      <td>103.3</td>\n",
       "      <td>157.3</td>\n",
       "      <td>43.3</td>\n",
       "      <td>96.7</td>\n",
       "      <td>...</td>\n",
       "      <td>97.0</td>\n",
       "      <td>84.7</td>\n",
       "      <td>122.1</td>\n",
       "      <td>51.0</td>\n",
       "      <td>65.7</td>\n",
       "      <td>94.5</td>\n",
       "      <td>103.3</td>\n",
       "      <td>72.7</td>\n",
       "      <td>75.4</td>\n",
       "      <td>91.5</td>\n",
       "    </tr>\n",
       "    <tr>\n",
       "      <th>2007</th>\n",
       "      <td>77.8</td>\n",
       "      <td>125.0</td>\n",
       "      <td>97.0</td>\n",
       "      <td>65.1</td>\n",
       "      <td>170.9</td>\n",
       "      <td>98.1</td>\n",
       "      <td>98.1</td>\n",
       "      <td>162.7</td>\n",
       "      <td>52.4</td>\n",
       "      <td>109.4</td>\n",
       "      <td>...</td>\n",
       "      <td>96.3</td>\n",
       "      <td>86.1</td>\n",
       "      <td>112.5</td>\n",
       "      <td>50.1</td>\n",
       "      <td>63.5</td>\n",
       "      <td>92.8</td>\n",
       "      <td>102.3</td>\n",
       "      <td>88.9</td>\n",
       "      <td>77.1</td>\n",
       "      <td>91.8</td>\n",
       "    </tr>\n",
       "    <tr>\n",
       "      <th>2008</th>\n",
       "      <td>77.0</td>\n",
       "      <td>126.1</td>\n",
       "      <td>97.4</td>\n",
       "      <td>65.6</td>\n",
       "      <td>172.1</td>\n",
       "      <td>92.9</td>\n",
       "      <td>91.8</td>\n",
       "      <td>149.7</td>\n",
       "      <td>43.3</td>\n",
       "      <td>90.4</td>\n",
       "      <td>...</td>\n",
       "      <td>96.0</td>\n",
       "      <td>84.8</td>\n",
       "      <td>106.1</td>\n",
       "      <td>48.1</td>\n",
       "      <td>65.8</td>\n",
       "      <td>99.7</td>\n",
       "      <td>102.9</td>\n",
       "      <td>79.8</td>\n",
       "      <td>73.0</td>\n",
       "      <td>88.9</td>\n",
       "    </tr>\n",
       "    <tr>\n",
       "      <th>2009</th>\n",
       "      <td>71.3</td>\n",
       "      <td>115.2</td>\n",
       "      <td>88.4</td>\n",
       "      <td>54.4</td>\n",
       "      <td>167.2</td>\n",
       "      <td>83.7</td>\n",
       "      <td>86.7</td>\n",
       "      <td>134.9</td>\n",
       "      <td>35.0</td>\n",
       "      <td>63.0</td>\n",
       "      <td>...</td>\n",
       "      <td>93.3</td>\n",
       "      <td>80.8</td>\n",
       "      <td>100.8</td>\n",
       "      <td>39.7</td>\n",
       "      <td>59.5</td>\n",
       "      <td>84.9</td>\n",
       "      <td>98.2</td>\n",
       "      <td>67.1</td>\n",
       "      <td>67.9</td>\n",
       "      <td>81.8</td>\n",
       "    </tr>\n",
       "    <tr>\n",
       "      <th>2010</th>\n",
       "      <td>74.4</td>\n",
       "      <td>120.2</td>\n",
       "      <td>94.0</td>\n",
       "      <td>58.4</td>\n",
       "      <td>162.6</td>\n",
       "      <td>82.9</td>\n",
       "      <td>85.9</td>\n",
       "      <td>128.7</td>\n",
       "      <td>44.2</td>\n",
       "      <td>96.3</td>\n",
       "      <td>...</td>\n",
       "      <td>98.4</td>\n",
       "      <td>85.4</td>\n",
       "      <td>101.7</td>\n",
       "      <td>37.1</td>\n",
       "      <td>61.7</td>\n",
       "      <td>86.9</td>\n",
       "      <td>102.2</td>\n",
       "      <td>78.0</td>\n",
       "      <td>69.7</td>\n",
       "      <td>84.1</td>\n",
       "    </tr>\n",
       "    <tr>\n",
       "      <th>2011</th>\n",
       "      <td>72.5</td>\n",
       "      <td>116.5</td>\n",
       "      <td>87.1</td>\n",
       "      <td>68.2</td>\n",
       "      <td>157.6</td>\n",
       "      <td>86.4</td>\n",
       "      <td>79.0</td>\n",
       "      <td>129.1</td>\n",
       "      <td>43.7</td>\n",
       "      <td>83.0</td>\n",
       "      <td>...</td>\n",
       "      <td>92.3</td>\n",
       "      <td>83.6</td>\n",
       "      <td>97.6</td>\n",
       "      <td>41.1</td>\n",
       "      <td>60.0</td>\n",
       "      <td>87.2</td>\n",
       "      <td>98.3</td>\n",
       "      <td>66.1</td>\n",
       "      <td>68.3</td>\n",
       "      <td>81.9</td>\n",
       "    </tr>\n",
       "    <tr>\n",
       "      <th>2012</th>\n",
       "      <td>72.4</td>\n",
       "      <td>113.4</td>\n",
       "      <td>84.9</td>\n",
       "      <td>62.6</td>\n",
       "      <td>148.6</td>\n",
       "      <td>81.1</td>\n",
       "      <td>72.4</td>\n",
       "      <td>126.9</td>\n",
       "      <td>42.5</td>\n",
       "      <td>69.1</td>\n",
       "      <td>...</td>\n",
       "      <td>90.3</td>\n",
       "      <td>82.1</td>\n",
       "      <td>96.8</td>\n",
       "      <td>38.7</td>\n",
       "      <td>54.9</td>\n",
       "      <td>83.8</td>\n",
       "      <td>98.7</td>\n",
       "      <td>56.1</td>\n",
       "      <td>66.0</td>\n",
       "      <td>80.1</td>\n",
       "    </tr>\n",
       "    <tr>\n",
       "      <th>2013</th>\n",
       "      <td>73.8</td>\n",
       "      <td>115.2</td>\n",
       "      <td>84.3</td>\n",
       "      <td>57.5</td>\n",
       "      <td>135.9</td>\n",
       "      <td>73.1</td>\n",
       "      <td>74.2</td>\n",
       "      <td>117.0</td>\n",
       "      <td>48.7</td>\n",
       "      <td>80.8</td>\n",
       "      <td>...</td>\n",
       "      <td>90.6</td>\n",
       "      <td>80.9</td>\n",
       "      <td>95.8</td>\n",
       "      <td>35.1</td>\n",
       "      <td>53.1</td>\n",
       "      <td>89.6</td>\n",
       "      <td>101.3</td>\n",
       "      <td>57.6</td>\n",
       "      <td>63.5</td>\n",
       "      <td>78.3</td>\n",
       "    </tr>\n",
       "    <tr>\n",
       "      <th>2014</th>\n",
       "      <td>70.4</td>\n",
       "      <td>110.1</td>\n",
       "      <td>80.5</td>\n",
       "      <td>59.8</td>\n",
       "      <td>142.2</td>\n",
       "      <td>69.5</td>\n",
       "      <td>70.0</td>\n",
       "      <td>117.3</td>\n",
       "      <td>51.2</td>\n",
       "      <td>69.2</td>\n",
       "      <td>...</td>\n",
       "      <td>87.3</td>\n",
       "      <td>80.0</td>\n",
       "      <td>92.6</td>\n",
       "      <td>35.2</td>\n",
       "      <td>53.1</td>\n",
       "      <td>120.5</td>\n",
       "      <td>96.9</td>\n",
       "      <td>53.3</td>\n",
       "      <td>62.4</td>\n",
       "      <td>75.8</td>\n",
       "    </tr>\n",
       "    <tr>\n",
       "      <th>2015</th>\n",
       "      <td>70.8</td>\n",
       "      <td>113.9</td>\n",
       "      <td>83.6</td>\n",
       "      <td>64.4</td>\n",
       "      <td>142.5</td>\n",
       "      <td>74.0</td>\n",
       "      <td>65.6</td>\n",
       "      <td>120.9</td>\n",
       "      <td>41.0</td>\n",
       "      <td>66.7</td>\n",
       "      <td>...</td>\n",
       "      <td>90.6</td>\n",
       "      <td>81.5</td>\n",
       "      <td>100.9</td>\n",
       "      <td>35.8</td>\n",
       "      <td>53.7</td>\n",
       "      <td>122.6</td>\n",
       "      <td>93.0</td>\n",
       "      <td>59.1</td>\n",
       "      <td>63.5</td>\n",
       "      <td>77.1</td>\n",
       "    </tr>\n",
       "    <tr>\n",
       "      <th>2016</th>\n",
       "      <td>71.2</td>\n",
       "      <td>115.9</td>\n",
       "      <td>82.9</td>\n",
       "      <td>61.6</td>\n",
       "      <td>158.2</td>\n",
       "      <td>74.1</td>\n",
       "      <td>69.7</td>\n",
       "      <td>117.2</td>\n",
       "      <td>44.8</td>\n",
       "      <td>73.4</td>\n",
       "      <td>...</td>\n",
       "      <td>90.9</td>\n",
       "      <td>83.3</td>\n",
       "      <td>105.1</td>\n",
       "      <td>34.6</td>\n",
       "      <td>54.2</td>\n",
       "      <td>129.8</td>\n",
       "      <td>94.0</td>\n",
       "      <td>46.3</td>\n",
       "      <td>65.0</td>\n",
       "      <td>77.3</td>\n",
       "    </tr>\n",
       "    <tr>\n",
       "      <th>2017</th>\n",
       "      <td>70.1</td>\n",
       "      <td>118.3</td>\n",
       "      <td>83.1</td>\n",
       "      <td>64.4</td>\n",
       "      <td>157.3</td>\n",
       "      <td>80.3</td>\n",
       "      <td>66.8</td>\n",
       "      <td>122.7</td>\n",
       "      <td>50.5</td>\n",
       "      <td>71.1</td>\n",
       "      <td>...</td>\n",
       "      <td>89.9</td>\n",
       "      <td>85.6</td>\n",
       "      <td>137.9</td>\n",
       "      <td>37.0</td>\n",
       "      <td>56.1</td>\n",
       "      <td>131.5</td>\n",
       "      <td>93.5</td>\n",
       "      <td>52.1</td>\n",
       "      <td>66.7</td>\n",
       "      <td>78.9</td>\n",
       "    </tr>\n",
       "    <tr>\n",
       "      <th>2018</th>\n",
       "      <td>67.5</td>\n",
       "      <td>113.3</td>\n",
       "      <td>83.9</td>\n",
       "      <td>59.4</td>\n",
       "      <td>155.6</td>\n",
       "      <td>73.5</td>\n",
       "      <td>69.1</td>\n",
       "      <td>120.9</td>\n",
       "      <td>52.0</td>\n",
       "      <td>86.1</td>\n",
       "      <td>...</td>\n",
       "      <td>88.1</td>\n",
       "      <td>84.9</td>\n",
       "      <td>105.0</td>\n",
       "      <td>38.2</td>\n",
       "      <td>57.5</td>\n",
       "      <td>130.8</td>\n",
       "      <td>93.2</td>\n",
       "      <td>54.6</td>\n",
       "      <td>69.9</td>\n",
       "      <td>77.0</td>\n",
       "    </tr>\n",
       "    <tr>\n",
       "      <th>2019</th>\n",
       "      <td>64.0</td>\n",
       "      <td>116.4</td>\n",
       "      <td>83.0</td>\n",
       "      <td>57.8</td>\n",
       "      <td>156.2</td>\n",
       "      <td>73.3</td>\n",
       "      <td>62.9</td>\n",
       "      <td>114.4</td>\n",
       "      <td>37.2</td>\n",
       "      <td>69.8</td>\n",
       "      <td>...</td>\n",
       "      <td>85.3</td>\n",
       "      <td>84.9</td>\n",
       "      <td>97.6</td>\n",
       "      <td>34.8</td>\n",
       "      <td>53.0</td>\n",
       "      <td>119.9</td>\n",
       "      <td>90.8</td>\n",
       "      <td>50.2</td>\n",
       "      <td>71.8</td>\n",
       "      <td>74.1</td>\n",
       "    </tr>\n",
       "  </tbody>\n",
       "</table>\n",
       "<p>25 rows × 31 columns</p>\n",
       "</div>"
      ],
      "text/plain": [
       "Pays  Allemagne  Autriche  Belgique  Bulgarie  Chypre  Croatie  Danemark  \\\n",
       "Time                                                                       \n",
       "1995       85.7     100.2     105.7      67.6   124.2     54.2     107.8   \n",
       "1996       87.7     109.1     108.6      68.2   129.4     57.5     123.7   \n",
       "1997       85.0      96.0     103.1      64.0   131.0     65.1     112.1   \n",
       "1998       83.0      97.8     106.6      59.3   137.9     66.7     106.9   \n",
       "1999       80.3      92.0     103.2      50.9   141.1     69.1     104.0   \n",
       "2000       81.0      97.2     104.3      49.4   149.9     74.2      98.7   \n",
       "2001       82.0      98.7     102.9      57.4   148.9     75.3      99.6   \n",
       "2002       82.4     108.7     102.2      53.8   150.6     78.2      99.8   \n",
       "2003       82.2     130.7     102.6      60.3   158.0     87.1     106.0   \n",
       "2004       80.8     124.2     103.2      58.3   160.0     86.1      98.5   \n",
       "2005       79.0     124.1     101.0      57.6   160.4     87.2      93.1   \n",
       "2006       79.4     129.2      99.2      61.4   163.4     89.4     103.3   \n",
       "2007       77.8     125.0      97.0      65.1   170.9     98.1      98.1   \n",
       "2008       77.0     126.1      97.4      65.6   172.1     92.9      91.8   \n",
       "2009       71.3     115.2      88.4      54.4   167.2     83.7      86.7   \n",
       "2010       74.4     120.2      94.0      58.4   162.6     82.9      85.9   \n",
       "2011       72.5     116.5      87.1      68.2   157.6     86.4      79.0   \n",
       "2012       72.4     113.4      84.9      62.6   148.6     81.1      72.4   \n",
       "2013       73.8     115.2      84.3      57.5   135.9     73.1      74.2   \n",
       "2014       70.4     110.1      80.5      59.8   142.2     69.5      70.0   \n",
       "2015       70.8     113.9      83.6      64.4   142.5     74.0      65.6   \n",
       "2016       71.2     115.9      82.9      61.6   158.2     74.1      69.7   \n",
       "2017       70.1     118.3      83.1      64.4   157.3     80.3      66.8   \n",
       "2018       67.5     113.3      83.9      59.4   155.6     73.5      69.1   \n",
       "2019       64.0     116.4      83.0      57.8   156.2     73.3      62.9   \n",
       "\n",
       "Pays  Espagne  Estonie  Finlande  ...  Pays-Bas  Pologne  Portugal  Roumanie  \\\n",
       "Time                              ...                                          \n",
       "1995    116.5     46.7     101.2  ...     105.5     96.0     106.8      66.7   \n",
       "1996    113.4     48.2      99.4  ...     110.3     95.2      97.4      68.0   \n",
       "1997    119.4     46.9     105.3  ...     107.1     93.0     101.2      64.5   \n",
       "1998    123.0     41.1     101.1  ...     107.5     84.9     112.0      57.3   \n",
       "1999    132.7     39.2      98.9  ...     101.8     83.0     123.5      50.0   \n",
       "2000    138.5     36.1      95.8  ...     101.0     80.9     127.5      47.2   \n",
       "2001    137.1     36.6     102.3  ...     101.2     82.3     121.6      48.2   \n",
       "2002    144.5     35.9     104.2  ...     100.4     78.1     129.7      49.7   \n",
       "2003    148.0     37.7     115.8  ...     100.7     80.8     139.5      52.1   \n",
       "2004    154.5     41.0     108.0  ...     101.5     79.5     128.3      51.4   \n",
       "2005    160.5     47.7      86.4  ...      99.1     79.8     147.6      50.1   \n",
       "2006    157.3     43.3      96.7  ...      97.0     84.7     122.1      51.0   \n",
       "2007    162.7     52.4     109.4  ...      96.3     86.1     112.5      50.1   \n",
       "2008    149.7     43.3      90.4  ...      96.0     84.8     106.1      48.1   \n",
       "2009    134.9     35.0      63.0  ...      93.3     80.8     100.8      39.7   \n",
       "2010    128.7     44.2      96.3  ...      98.4     85.4     101.7      37.1   \n",
       "2011    129.1     43.7      83.0  ...      92.3     83.6      97.6      41.1   \n",
       "2012    126.9     42.5      69.1  ...      90.3     82.1      96.8      38.7   \n",
       "2013    117.0     48.7      80.8  ...      90.6     80.9      95.8      35.1   \n",
       "2014    117.3     51.2      69.2  ...      87.3     80.0      92.6      35.2   \n",
       "2015    120.9     41.0      66.7  ...      90.6     81.5     100.9      35.8   \n",
       "2016    117.2     44.8      73.4  ...      90.9     83.3     105.1      34.6   \n",
       "2017    122.7     50.5      71.1  ...      89.9     85.6     137.9      37.0   \n",
       "2018    120.9     52.0      86.1  ...      88.1     84.9     105.0      38.2   \n",
       "2019    114.4     37.2      69.8  ...      85.3     84.9      97.6      34.8   \n",
       "\n",
       "Pays  Slovaquie  Slovénie  Suisse  Suède  Tchéquie  \\\n",
       "Time                                                 \n",
       "1995       67.7      95.0    95.7  106.3      77.8   \n",
       "1996       67.5      95.3    94.3  111.1      79.3   \n",
       "1997       67.6      97.8    95.4   95.0      77.5   \n",
       "1998       64.9      94.0   100.4   93.3      74.2   \n",
       "1999       63.9      89.0   101.3   86.2      69.1   \n",
       "2000       60.9      86.6   114.4   77.9      73.9   \n",
       "2001       65.6      95.3   105.5   77.8      73.8   \n",
       "2002       62.6      89.0    99.1   80.1      72.0   \n",
       "2003       63.6      90.3   100.3   88.3      74.3   \n",
       "2004       64.7      90.6   101.1  105.3      74.8   \n",
       "2005       70.2      92.3   101.9  100.6      73.6   \n",
       "2006       65.7      94.5   103.3   72.7      75.4   \n",
       "2007       63.5      92.8   102.3   88.9      77.1   \n",
       "2008       65.8      99.7   102.9   79.8      73.0   \n",
       "2009       59.5      84.9    98.2   67.1      67.9   \n",
       "2010       61.7      86.9   102.2   78.0      69.7   \n",
       "2011       60.0      87.2    98.3   66.1      68.3   \n",
       "2012       54.9      83.8    98.7   56.1      66.0   \n",
       "2013       53.1      89.6   101.3   57.6      63.5   \n",
       "2014       53.1     120.5    96.9   53.3      62.4   \n",
       "2015       53.7     122.6    93.0   59.1      63.5   \n",
       "2016       54.2     129.8    94.0   46.3      65.0   \n",
       "2017       56.1     131.5    93.5   52.1      66.7   \n",
       "2018       57.5     130.8    93.2   54.6      69.9   \n",
       "2019       53.0     119.9    90.8   50.2      71.8   \n",
       "\n",
       "Pays  Union européenne - 27 pays (à partir de 2020)  \n",
       "Time                                                 \n",
       "1995                                           91.7  \n",
       "1996                                           93.3  \n",
       "1997                                           91.9  \n",
       "1998                                           90.8  \n",
       "1999                                           89.1  \n",
       "2000                                           89.7  \n",
       "2001                                           90.2  \n",
       "2002                                           90.1  \n",
       "2003                                           92.5  \n",
       "2004                                           92.1  \n",
       "2005                                           91.8  \n",
       "2006                                           91.5  \n",
       "2007                                           91.8  \n",
       "2008                                           88.9  \n",
       "2009                                           81.8  \n",
       "2010                                           84.1  \n",
       "2011                                           81.9  \n",
       "2012                                           80.1  \n",
       "2013                                           78.3  \n",
       "2014                                           75.8  \n",
       "2015                                           77.1  \n",
       "2016                                           77.3  \n",
       "2017                                           78.9  \n",
       "2018                                           77.0  \n",
       "2019                                           74.1  \n",
       "\n",
       "[25 rows x 31 columns]"
      ]
     },
     "execution_count": 69,
     "metadata": {},
     "output_type": "execute_result"
    }
   ],
   "source": [
    "I90_clean_df_pivot = I90_clean_df.pivot_table(values='Value', index=I90_clean_df.index, columns='Pays')\n",
    "I90_clean_df_pivot"
   ]
  },
  {
   "cell_type": "code",
   "execution_count": 70,
   "metadata": {},
   "outputs": [
    {
     "data": {
      "text/html": [
       "<div>\n",
       "<style scoped>\n",
       "    .dataframe tbody tr th:only-of-type {\n",
       "        vertical-align: middle;\n",
       "    }\n",
       "\n",
       "    .dataframe tbody tr th {\n",
       "        vertical-align: top;\n",
       "    }\n",
       "\n",
       "    .dataframe thead th {\n",
       "        text-align: right;\n",
       "    }\n",
       "</style>\n",
       "<table border=\"1\" class=\"dataframe\">\n",
       "  <thead>\n",
       "    <tr style=\"text-align: right;\">\n",
       "      <th></th>\n",
       "      <th>DATAFLOW</th>\n",
       "      <th>LAST UPDATE</th>\n",
       "      <th>freq</th>\n",
       "      <th>airpol</th>\n",
       "      <th>src_crf</th>\n",
       "      <th>unit</th>\n",
       "      <th>geo</th>\n",
       "      <th>TIME_PERIOD</th>\n",
       "      <th>OBS_VALUE</th>\n",
       "      <th>OBS_FLAG</th>\n",
       "    </tr>\n",
       "  </thead>\n",
       "  <tbody>\n",
       "    <tr>\n",
       "      <th>3060</th>\n",
       "      <td>ESTAT:SDG_13_10(1.0)</td>\n",
       "      <td>17/08/21 23:00:00</td>\n",
       "      <td>A</td>\n",
       "      <td>GHG</td>\n",
       "      <td>TOTXMEMONIA</td>\n",
       "      <td>T_HAB</td>\n",
       "      <td>Autriche</td>\n",
       "      <td>1990</td>\n",
       "      <td>8.7</td>\n",
       "      <td>NaN</td>\n",
       "    </tr>\n",
       "    <tr>\n",
       "      <th>3061</th>\n",
       "      <td>ESTAT:SDG_13_10(1.0)</td>\n",
       "      <td>17/08/21 23:00:00</td>\n",
       "      <td>A</td>\n",
       "      <td>GHG</td>\n",
       "      <td>TOTXMEMONIA</td>\n",
       "      <td>T_HAB</td>\n",
       "      <td>Autriche</td>\n",
       "      <td>1991</td>\n",
       "      <td>8.5</td>\n",
       "      <td>NaN</td>\n",
       "    </tr>\n",
       "    <tr>\n",
       "      <th>3062</th>\n",
       "      <td>ESTAT:SDG_13_10(1.0)</td>\n",
       "      <td>17/08/21 23:00:00</td>\n",
       "      <td>A</td>\n",
       "      <td>GHG</td>\n",
       "      <td>TOTXMEMONIA</td>\n",
       "      <td>T_HAB</td>\n",
       "      <td>Autriche</td>\n",
       "      <td>1992</td>\n",
       "      <td>8.2</td>\n",
       "      <td>NaN</td>\n",
       "    </tr>\n",
       "    <tr>\n",
       "      <th>3063</th>\n",
       "      <td>ESTAT:SDG_13_10(1.0)</td>\n",
       "      <td>17/08/21 23:00:00</td>\n",
       "      <td>A</td>\n",
       "      <td>GHG</td>\n",
       "      <td>TOTXMEMONIA</td>\n",
       "      <td>T_HAB</td>\n",
       "      <td>Autriche</td>\n",
       "      <td>1993</td>\n",
       "      <td>8.2</td>\n",
       "      <td>NaN</td>\n",
       "    </tr>\n",
       "    <tr>\n",
       "      <th>3064</th>\n",
       "      <td>ESTAT:SDG_13_10(1.0)</td>\n",
       "      <td>17/08/21 23:00:00</td>\n",
       "      <td>A</td>\n",
       "      <td>GHG</td>\n",
       "      <td>TOTXMEMONIA</td>\n",
       "      <td>T_HAB</td>\n",
       "      <td>Autriche</td>\n",
       "      <td>1994</td>\n",
       "      <td>8.2</td>\n",
       "      <td>NaN</td>\n",
       "    </tr>\n",
       "    <tr>\n",
       "      <th>...</th>\n",
       "      <td>...</td>\n",
       "      <td>...</td>\n",
       "      <td>...</td>\n",
       "      <td>...</td>\n",
       "      <td>...</td>\n",
       "      <td>...</td>\n",
       "      <td>...</td>\n",
       "      <td>...</td>\n",
       "      <td>...</td>\n",
       "      <td>...</td>\n",
       "    </tr>\n",
       "    <tr>\n",
       "      <th>4075</th>\n",
       "      <td>ESTAT:SDG_13_10(1.0)</td>\n",
       "      <td>17/08/21 23:00:00</td>\n",
       "      <td>A</td>\n",
       "      <td>GHG</td>\n",
       "      <td>TOTXMEMONIA</td>\n",
       "      <td>T_HAB</td>\n",
       "      <td>Royaume-Uni</td>\n",
       "      <td>2015</td>\n",
       "      <td>8.4</td>\n",
       "      <td>NaN</td>\n",
       "    </tr>\n",
       "    <tr>\n",
       "      <th>4076</th>\n",
       "      <td>ESTAT:SDG_13_10(1.0)</td>\n",
       "      <td>17/08/21 23:00:00</td>\n",
       "      <td>A</td>\n",
       "      <td>GHG</td>\n",
       "      <td>TOTXMEMONIA</td>\n",
       "      <td>T_HAB</td>\n",
       "      <td>Royaume-Uni</td>\n",
       "      <td>2016</td>\n",
       "      <td>7.9</td>\n",
       "      <td>NaN</td>\n",
       "    </tr>\n",
       "    <tr>\n",
       "      <th>4077</th>\n",
       "      <td>ESTAT:SDG_13_10(1.0)</td>\n",
       "      <td>17/08/21 23:00:00</td>\n",
       "      <td>A</td>\n",
       "      <td>GHG</td>\n",
       "      <td>TOTXMEMONIA</td>\n",
       "      <td>T_HAB</td>\n",
       "      <td>Royaume-Uni</td>\n",
       "      <td>2017</td>\n",
       "      <td>7.7</td>\n",
       "      <td>NaN</td>\n",
       "    </tr>\n",
       "    <tr>\n",
       "      <th>4078</th>\n",
       "      <td>ESTAT:SDG_13_10(1.0)</td>\n",
       "      <td>17/08/21 23:00:00</td>\n",
       "      <td>A</td>\n",
       "      <td>GHG</td>\n",
       "      <td>TOTXMEMONIA</td>\n",
       "      <td>T_HAB</td>\n",
       "      <td>Royaume-Uni</td>\n",
       "      <td>2018</td>\n",
       "      <td>7.6</td>\n",
       "      <td>NaN</td>\n",
       "    </tr>\n",
       "    <tr>\n",
       "      <th>4079</th>\n",
       "      <td>ESTAT:SDG_13_10(1.0)</td>\n",
       "      <td>17/08/21 23:00:00</td>\n",
       "      <td>A</td>\n",
       "      <td>GHG</td>\n",
       "      <td>TOTXMEMONIA</td>\n",
       "      <td>T_HAB</td>\n",
       "      <td>Royaume-Uni</td>\n",
       "      <td>2019</td>\n",
       "      <td>7.4</td>\n",
       "      <td>NaN</td>\n",
       "    </tr>\n",
       "  </tbody>\n",
       "</table>\n",
       "<p>1020 rows × 10 columns</p>\n",
       "</div>"
      ],
      "text/plain": [
       "                  DATAFLOW        LAST UPDATE freq airpol      src_crf   unit  \\\n",
       "3060  ESTAT:SDG_13_10(1.0)  17/08/21 23:00:00    A    GHG  TOTXMEMONIA  T_HAB   \n",
       "3061  ESTAT:SDG_13_10(1.0)  17/08/21 23:00:00    A    GHG  TOTXMEMONIA  T_HAB   \n",
       "3062  ESTAT:SDG_13_10(1.0)  17/08/21 23:00:00    A    GHG  TOTXMEMONIA  T_HAB   \n",
       "3063  ESTAT:SDG_13_10(1.0)  17/08/21 23:00:00    A    GHG  TOTXMEMONIA  T_HAB   \n",
       "3064  ESTAT:SDG_13_10(1.0)  17/08/21 23:00:00    A    GHG  TOTXMEMONIA  T_HAB   \n",
       "...                    ...                ...  ...    ...          ...    ...   \n",
       "4075  ESTAT:SDG_13_10(1.0)  17/08/21 23:00:00    A    GHG  TOTXMEMONIA  T_HAB   \n",
       "4076  ESTAT:SDG_13_10(1.0)  17/08/21 23:00:00    A    GHG  TOTXMEMONIA  T_HAB   \n",
       "4077  ESTAT:SDG_13_10(1.0)  17/08/21 23:00:00    A    GHG  TOTXMEMONIA  T_HAB   \n",
       "4078  ESTAT:SDG_13_10(1.0)  17/08/21 23:00:00    A    GHG  TOTXMEMONIA  T_HAB   \n",
       "4079  ESTAT:SDG_13_10(1.0)  17/08/21 23:00:00    A    GHG  TOTXMEMONIA  T_HAB   \n",
       "\n",
       "              geo  TIME_PERIOD  OBS_VALUE OBS_FLAG  \n",
       "3060     Autriche         1990        8.7      NaN  \n",
       "3061     Autriche         1991        8.5      NaN  \n",
       "3062     Autriche         1992        8.2      NaN  \n",
       "3063     Autriche         1993        8.2      NaN  \n",
       "3064     Autriche         1994        8.2      NaN  \n",
       "...           ...          ...        ...      ...  \n",
       "4075  Royaume-Uni         2015        8.4      NaN  \n",
       "4076  Royaume-Uni         2016        7.9      NaN  \n",
       "4077  Royaume-Uni         2017        7.7      NaN  \n",
       "4078  Royaume-Uni         2018        7.6      NaN  \n",
       "4079  Royaume-Uni         2019        7.4      NaN  \n",
       "\n",
       "[1020 rows x 10 columns]"
      ]
     },
     "execution_count": 70,
     "metadata": {},
     "output_type": "execute_result"
    }
   ],
   "source": [
    "T_HAB_df = df[(df.unit == 'T_HAB') & (df.src_crf == 'TOTXMEMONIA')]\n",
    "T_HAB_df"
   ]
  },
  {
   "cell_type": "code",
   "execution_count": 71,
   "metadata": {},
   "outputs": [
    {
     "data": {
      "text/html": [
       "<div>\n",
       "<style scoped>\n",
       "    .dataframe tbody tr th:only-of-type {\n",
       "        vertical-align: middle;\n",
       "    }\n",
       "\n",
       "    .dataframe tbody tr th {\n",
       "        vertical-align: top;\n",
       "    }\n",
       "\n",
       "    .dataframe thead th {\n",
       "        text-align: right;\n",
       "    }\n",
       "</style>\n",
       "<table border=\"1\" class=\"dataframe\">\n",
       "  <thead>\n",
       "    <tr style=\"text-align: right;\">\n",
       "      <th></th>\n",
       "      <th>Pays</th>\n",
       "      <th>Value</th>\n",
       "      <th>Time</th>\n",
       "    </tr>\n",
       "  </thead>\n",
       "  <tbody>\n",
       "    <tr>\n",
       "      <th>3060</th>\n",
       "      <td>Autriche</td>\n",
       "      <td>8.7</td>\n",
       "      <td>1990</td>\n",
       "    </tr>\n",
       "    <tr>\n",
       "      <th>3061</th>\n",
       "      <td>Autriche</td>\n",
       "      <td>8.5</td>\n",
       "      <td>1991</td>\n",
       "    </tr>\n",
       "    <tr>\n",
       "      <th>3062</th>\n",
       "      <td>Autriche</td>\n",
       "      <td>8.2</td>\n",
       "      <td>1992</td>\n",
       "    </tr>\n",
       "    <tr>\n",
       "      <th>3063</th>\n",
       "      <td>Autriche</td>\n",
       "      <td>8.2</td>\n",
       "      <td>1993</td>\n",
       "    </tr>\n",
       "    <tr>\n",
       "      <th>3064</th>\n",
       "      <td>Autriche</td>\n",
       "      <td>8.2</td>\n",
       "      <td>1994</td>\n",
       "    </tr>\n",
       "    <tr>\n",
       "      <th>...</th>\n",
       "      <td>...</td>\n",
       "      <td>...</td>\n",
       "      <td>...</td>\n",
       "    </tr>\n",
       "    <tr>\n",
       "      <th>4075</th>\n",
       "      <td>Royaume-Uni</td>\n",
       "      <td>8.4</td>\n",
       "      <td>2015</td>\n",
       "    </tr>\n",
       "    <tr>\n",
       "      <th>4076</th>\n",
       "      <td>Royaume-Uni</td>\n",
       "      <td>7.9</td>\n",
       "      <td>2016</td>\n",
       "    </tr>\n",
       "    <tr>\n",
       "      <th>4077</th>\n",
       "      <td>Royaume-Uni</td>\n",
       "      <td>7.7</td>\n",
       "      <td>2017</td>\n",
       "    </tr>\n",
       "    <tr>\n",
       "      <th>4078</th>\n",
       "      <td>Royaume-Uni</td>\n",
       "      <td>7.6</td>\n",
       "      <td>2018</td>\n",
       "    </tr>\n",
       "    <tr>\n",
       "      <th>4079</th>\n",
       "      <td>Royaume-Uni</td>\n",
       "      <td>7.4</td>\n",
       "      <td>2019</td>\n",
       "    </tr>\n",
       "  </tbody>\n",
       "</table>\n",
       "<p>1020 rows × 3 columns</p>\n",
       "</div>"
      ],
      "text/plain": [
       "             Pays  Value  Time\n",
       "3060     Autriche    8.7  1990\n",
       "3061     Autriche    8.5  1991\n",
       "3062     Autriche    8.2  1992\n",
       "3063     Autriche    8.2  1993\n",
       "3064     Autriche    8.2  1994\n",
       "...           ...    ...   ...\n",
       "4075  Royaume-Uni    8.4  2015\n",
       "4076  Royaume-Uni    7.9  2016\n",
       "4077  Royaume-Uni    7.7  2017\n",
       "4078  Royaume-Uni    7.6  2018\n",
       "4079  Royaume-Uni    7.4  2019\n",
       "\n",
       "[1020 rows x 3 columns]"
      ]
     },
     "execution_count": 71,
     "metadata": {},
     "output_type": "execute_result"
    }
   ],
   "source": [
    "T_HAB_clean_df = pd.DataFrame(data={'Pays' : T_HAB_df.geo, 'Value' : T_HAB_df.OBS_VALUE, 'Time': T_HAB_df.TIME_PERIOD})\n",
    "T_HAB_clean_df"
   ]
  },
  {
   "cell_type": "code",
   "execution_count": 72,
   "metadata": {},
   "outputs": [
    {
     "data": {
      "text/html": [
       "<div>\n",
       "<style scoped>\n",
       "    .dataframe tbody tr th:only-of-type {\n",
       "        vertical-align: middle;\n",
       "    }\n",
       "\n",
       "    .dataframe tbody tr th {\n",
       "        vertical-align: top;\n",
       "    }\n",
       "\n",
       "    .dataframe thead th {\n",
       "        text-align: right;\n",
       "    }\n",
       "</style>\n",
       "<table border=\"1\" class=\"dataframe\">\n",
       "  <thead>\n",
       "    <tr style=\"text-align: right;\">\n",
       "      <th></th>\n",
       "      <th>Pays</th>\n",
       "      <th>Value</th>\n",
       "    </tr>\n",
       "    <tr>\n",
       "      <th>Time</th>\n",
       "      <th></th>\n",
       "      <th></th>\n",
       "    </tr>\n",
       "  </thead>\n",
       "  <tbody>\n",
       "    <tr>\n",
       "      <th>1995</th>\n",
       "      <td>Autriche</td>\n",
       "      <td>8.5</td>\n",
       "    </tr>\n",
       "    <tr>\n",
       "      <th>1996</th>\n",
       "      <td>Autriche</td>\n",
       "      <td>9.2</td>\n",
       "    </tr>\n",
       "    <tr>\n",
       "      <th>1997</th>\n",
       "      <td>Autriche</td>\n",
       "      <td>8.1</td>\n",
       "    </tr>\n",
       "    <tr>\n",
       "      <th>1998</th>\n",
       "      <td>Autriche</td>\n",
       "      <td>8.2</td>\n",
       "    </tr>\n",
       "    <tr>\n",
       "      <th>1999</th>\n",
       "      <td>Autriche</td>\n",
       "      <td>7.7</td>\n",
       "    </tr>\n",
       "    <tr>\n",
       "      <th>2000</th>\n",
       "      <td>Autriche</td>\n",
       "      <td>8.1</td>\n",
       "    </tr>\n",
       "    <tr>\n",
       "      <th>2001</th>\n",
       "      <td>Autriche</td>\n",
       "      <td>8.2</td>\n",
       "    </tr>\n",
       "    <tr>\n",
       "      <th>2002</th>\n",
       "      <td>Autriche</td>\n",
       "      <td>9.0</td>\n",
       "    </tr>\n",
       "    <tr>\n",
       "      <th>2003</th>\n",
       "      <td>Autriche</td>\n",
       "      <td>10.8</td>\n",
       "    </tr>\n",
       "    <tr>\n",
       "      <th>2004</th>\n",
       "      <td>Autriche</td>\n",
       "      <td>10.2</td>\n",
       "    </tr>\n",
       "    <tr>\n",
       "      <th>2005</th>\n",
       "      <td>Autriche</td>\n",
       "      <td>10.1</td>\n",
       "    </tr>\n",
       "    <tr>\n",
       "      <th>2006</th>\n",
       "      <td>Autriche</td>\n",
       "      <td>10.5</td>\n",
       "    </tr>\n",
       "    <tr>\n",
       "      <th>2007</th>\n",
       "      <td>Autriche</td>\n",
       "      <td>10.1</td>\n",
       "    </tr>\n",
       "    <tr>\n",
       "      <th>2008</th>\n",
       "      <td>Autriche</td>\n",
       "      <td>10.2</td>\n",
       "    </tr>\n",
       "    <tr>\n",
       "      <th>2009</th>\n",
       "      <td>Autriche</td>\n",
       "      <td>9.3</td>\n",
       "    </tr>\n",
       "    <tr>\n",
       "      <th>2010</th>\n",
       "      <td>Autriche</td>\n",
       "      <td>9.6</td>\n",
       "    </tr>\n",
       "    <tr>\n",
       "      <th>2011</th>\n",
       "      <td>Autriche</td>\n",
       "      <td>9.3</td>\n",
       "    </tr>\n",
       "    <tr>\n",
       "      <th>2012</th>\n",
       "      <td>Autriche</td>\n",
       "      <td>9.0</td>\n",
       "    </tr>\n",
       "    <tr>\n",
       "      <th>2013</th>\n",
       "      <td>Autriche</td>\n",
       "      <td>9.1</td>\n",
       "    </tr>\n",
       "    <tr>\n",
       "      <th>2014</th>\n",
       "      <td>Autriche</td>\n",
       "      <td>8.6</td>\n",
       "    </tr>\n",
       "    <tr>\n",
       "      <th>2015</th>\n",
       "      <td>Autriche</td>\n",
       "      <td>8.8</td>\n",
       "    </tr>\n",
       "    <tr>\n",
       "      <th>2016</th>\n",
       "      <td>Autriche</td>\n",
       "      <td>8.9</td>\n",
       "    </tr>\n",
       "    <tr>\n",
       "      <th>2017</th>\n",
       "      <td>Autriche</td>\n",
       "      <td>9.0</td>\n",
       "    </tr>\n",
       "    <tr>\n",
       "      <th>2018</th>\n",
       "      <td>Autriche</td>\n",
       "      <td>8.6</td>\n",
       "    </tr>\n",
       "    <tr>\n",
       "      <th>2019</th>\n",
       "      <td>Autriche</td>\n",
       "      <td>8.8</td>\n",
       "    </tr>\n",
       "  </tbody>\n",
       "</table>\n",
       "</div>"
      ],
      "text/plain": [
       "          Pays  Value\n",
       "Time                 \n",
       "1995  Autriche    8.5\n",
       "1996  Autriche    9.2\n",
       "1997  Autriche    8.1\n",
       "1998  Autriche    8.2\n",
       "1999  Autriche    7.7\n",
       "2000  Autriche    8.1\n",
       "2001  Autriche    8.2\n",
       "2002  Autriche    9.0\n",
       "2003  Autriche   10.8\n",
       "2004  Autriche   10.2\n",
       "2005  Autriche   10.1\n",
       "2006  Autriche   10.5\n",
       "2007  Autriche   10.1\n",
       "2008  Autriche   10.2\n",
       "2009  Autriche    9.3\n",
       "2010  Autriche    9.6\n",
       "2011  Autriche    9.3\n",
       "2012  Autriche    9.0\n",
       "2013  Autriche    9.1\n",
       "2014  Autriche    8.6\n",
       "2015  Autriche    8.8\n",
       "2016  Autriche    8.9\n",
       "2017  Autriche    9.0\n",
       "2018  Autriche    8.6\n",
       "2019  Autriche    8.8"
      ]
     },
     "execution_count": 72,
     "metadata": {},
     "output_type": "execute_result"
    }
   ],
   "source": [
    "T_HAB_clean_df.set_index('Time', inplace=True)\n",
    "T_HAB_clean_df.drop([1990, 1991, 1992,1993, 1994], inplace=True, axis=0)\n",
    "T_HAB_clean_df = T_HAB_clean_df[(T_HAB_clean_df.Pays != 'Turquie') & (T_HAB_clean_df.Pays != 'Royaume-Uni')  & (T_HAB_clean_df.Pays != 'Union européenne - 28 pays (2013-2020)')]\n",
    "T_HAB_clean_df[T_HAB_clean_df['Pays'] == 'Autriche']"
   ]
  },
  {
   "cell_type": "code",
   "execution_count": 73,
   "metadata": {},
   "outputs": [
    {
     "data": {
      "text/html": [
       "<div>\n",
       "<style scoped>\n",
       "    .dataframe tbody tr th:only-of-type {\n",
       "        vertical-align: middle;\n",
       "    }\n",
       "\n",
       "    .dataframe tbody tr th {\n",
       "        vertical-align: top;\n",
       "    }\n",
       "\n",
       "    .dataframe thead th {\n",
       "        text-align: right;\n",
       "    }\n",
       "</style>\n",
       "<table border=\"1\" class=\"dataframe\">\n",
       "  <thead>\n",
       "    <tr style=\"text-align: right;\">\n",
       "      <th>Pays</th>\n",
       "      <th>Allemagne</th>\n",
       "      <th>Autriche</th>\n",
       "      <th>Belgique</th>\n",
       "      <th>Bulgarie</th>\n",
       "      <th>Chypre</th>\n",
       "      <th>Croatie</th>\n",
       "      <th>Danemark</th>\n",
       "      <th>Espagne</th>\n",
       "      <th>Estonie</th>\n",
       "      <th>Finlande</th>\n",
       "      <th>...</th>\n",
       "      <th>Pays-Bas</th>\n",
       "      <th>Pologne</th>\n",
       "      <th>Portugal</th>\n",
       "      <th>Roumanie</th>\n",
       "      <th>Slovaquie</th>\n",
       "      <th>Slovénie</th>\n",
       "      <th>Suisse</th>\n",
       "      <th>Suède</th>\n",
       "      <th>Tchéquie</th>\n",
       "      <th>Union européenne - 27 pays (à partir de 2020)</th>\n",
       "    </tr>\n",
       "    <tr>\n",
       "      <th>Time</th>\n",
       "      <th></th>\n",
       "      <th></th>\n",
       "      <th></th>\n",
       "      <th></th>\n",
       "      <th></th>\n",
       "      <th></th>\n",
       "      <th></th>\n",
       "      <th></th>\n",
       "      <th></th>\n",
       "      <th></th>\n",
       "      <th></th>\n",
       "      <th></th>\n",
       "      <th></th>\n",
       "      <th></th>\n",
       "      <th></th>\n",
       "      <th></th>\n",
       "      <th></th>\n",
       "      <th></th>\n",
       "      <th></th>\n",
       "      <th></th>\n",
       "      <th></th>\n",
       "    </tr>\n",
       "  </thead>\n",
       "  <tbody>\n",
       "    <tr>\n",
       "      <th>1995</th>\n",
       "      <td>13.5</td>\n",
       "      <td>8.5</td>\n",
       "      <td>15.2</td>\n",
       "      <td>6.6</td>\n",
       "      <td>11.6</td>\n",
       "      <td>3.0</td>\n",
       "      <td>16.3</td>\n",
       "      <td>7.6</td>\n",
       "      <td>12.4</td>\n",
       "      <td>11.6</td>\n",
       "      <td>...</td>\n",
       "      <td>15.8</td>\n",
       "      <td>11.1</td>\n",
       "      <td>6.6</td>\n",
       "      <td>7.1</td>\n",
       "      <td>8.1</td>\n",
       "      <td>6.8</td>\n",
       "      <td>7.5</td>\n",
       "      <td>4.3</td>\n",
       "      <td>14.5</td>\n",
       "      <td>10.2</td>\n",
       "    </tr>\n",
       "    <tr>\n",
       "      <th>1996</th>\n",
       "      <td>13.8</td>\n",
       "      <td>9.2</td>\n",
       "      <td>15.6</td>\n",
       "      <td>6.6</td>\n",
       "      <td>11.9</td>\n",
       "      <td>3.2</td>\n",
       "      <td>18.6</td>\n",
       "      <td>7.4</td>\n",
       "      <td>13.0</td>\n",
       "      <td>11.4</td>\n",
       "      <td>...</td>\n",
       "      <td>16.4</td>\n",
       "      <td>11.0</td>\n",
       "      <td>6.0</td>\n",
       "      <td>7.3</td>\n",
       "      <td>8.0</td>\n",
       "      <td>6.8</td>\n",
       "      <td>7.3</td>\n",
       "      <td>4.5</td>\n",
       "      <td>14.8</td>\n",
       "      <td>10.3</td>\n",
       "    </tr>\n",
       "    <tr>\n",
       "      <th>1997</th>\n",
       "      <td>13.3</td>\n",
       "      <td>8.1</td>\n",
       "      <td>14.7</td>\n",
       "      <td>6.3</td>\n",
       "      <td>11.9</td>\n",
       "      <td>3.7</td>\n",
       "      <td>16.8</td>\n",
       "      <td>7.7</td>\n",
       "      <td>12.8</td>\n",
       "      <td>12.0</td>\n",
       "      <td>...</td>\n",
       "      <td>15.9</td>\n",
       "      <td>10.7</td>\n",
       "      <td>6.2</td>\n",
       "      <td>6.9</td>\n",
       "      <td>8.0</td>\n",
       "      <td>7.0</td>\n",
       "      <td>7.4</td>\n",
       "      <td>3.9</td>\n",
       "      <td>14.5</td>\n",
       "      <td>10.2</td>\n",
       "    </tr>\n",
       "    <tr>\n",
       "      <th>1998</th>\n",
       "      <td>13.0</td>\n",
       "      <td>8.2</td>\n",
       "      <td>15.2</td>\n",
       "      <td>5.9</td>\n",
       "      <td>12.4</td>\n",
       "      <td>3.7</td>\n",
       "      <td>15.9</td>\n",
       "      <td>7.9</td>\n",
       "      <td>11.3</td>\n",
       "      <td>11.5</td>\n",
       "      <td>...</td>\n",
       "      <td>15.8</td>\n",
       "      <td>9.8</td>\n",
       "      <td>6.8</td>\n",
       "      <td>6.2</td>\n",
       "      <td>7.7</td>\n",
       "      <td>6.7</td>\n",
       "      <td>7.8</td>\n",
       "      <td>3.8</td>\n",
       "      <td>13.9</td>\n",
       "      <td>10.0</td>\n",
       "    </tr>\n",
       "    <tr>\n",
       "      <th>1999</th>\n",
       "      <td>12.6</td>\n",
       "      <td>7.7</td>\n",
       "      <td>14.7</td>\n",
       "      <td>5.1</td>\n",
       "      <td>12.5</td>\n",
       "      <td>3.9</td>\n",
       "      <td>15.5</td>\n",
       "      <td>8.5</td>\n",
       "      <td>10.8</td>\n",
       "      <td>11.2</td>\n",
       "      <td>...</td>\n",
       "      <td>14.9</td>\n",
       "      <td>9.6</td>\n",
       "      <td>7.5</td>\n",
       "      <td>5.4</td>\n",
       "      <td>7.6</td>\n",
       "      <td>6.4</td>\n",
       "      <td>7.8</td>\n",
       "      <td>3.5</td>\n",
       "      <td>12.9</td>\n",
       "      <td>9.8</td>\n",
       "    </tr>\n",
       "    <tr>\n",
       "      <th>2000</th>\n",
       "      <td>12.7</td>\n",
       "      <td>8.1</td>\n",
       "      <td>14.8</td>\n",
       "      <td>4.9</td>\n",
       "      <td>13.1</td>\n",
       "      <td>4.2</td>\n",
       "      <td>14.6</td>\n",
       "      <td>8.8</td>\n",
       "      <td>9.9</td>\n",
       "      <td>10.9</td>\n",
       "      <td>...</td>\n",
       "      <td>14.7</td>\n",
       "      <td>9.4</td>\n",
       "      <td>7.6</td>\n",
       "      <td>5.1</td>\n",
       "      <td>7.2</td>\n",
       "      <td>6.2</td>\n",
       "      <td>8.8</td>\n",
       "      <td>3.2</td>\n",
       "      <td>13.9</td>\n",
       "      <td>9.9</td>\n",
       "    </tr>\n",
       "    <tr>\n",
       "      <th>2001</th>\n",
       "      <td>12.8</td>\n",
       "      <td>8.2</td>\n",
       "      <td>14.6</td>\n",
       "      <td>5.8</td>\n",
       "      <td>12.9</td>\n",
       "      <td>4.5</td>\n",
       "      <td>14.7</td>\n",
       "      <td>8.7</td>\n",
       "      <td>10.1</td>\n",
       "      <td>11.6</td>\n",
       "      <td>...</td>\n",
       "      <td>14.6</td>\n",
       "      <td>9.6</td>\n",
       "      <td>7.2</td>\n",
       "      <td>5.3</td>\n",
       "      <td>7.8</td>\n",
       "      <td>6.8</td>\n",
       "      <td>8.0</td>\n",
       "      <td>3.2</td>\n",
       "      <td>13.9</td>\n",
       "      <td>9.9</td>\n",
       "    </tr>\n",
       "    <tr>\n",
       "      <th>2002</th>\n",
       "      <td>12.8</td>\n",
       "      <td>9.0</td>\n",
       "      <td>14.4</td>\n",
       "      <td>5.6</td>\n",
       "      <td>12.9</td>\n",
       "      <td>4.6</td>\n",
       "      <td>14.7</td>\n",
       "      <td>9.0</td>\n",
       "      <td>9.9</td>\n",
       "      <td>11.8</td>\n",
       "      <td>...</td>\n",
       "      <td>14.4</td>\n",
       "      <td>9.1</td>\n",
       "      <td>7.7</td>\n",
       "      <td>5.5</td>\n",
       "      <td>7.4</td>\n",
       "      <td>6.3</td>\n",
       "      <td>7.5</td>\n",
       "      <td>3.2</td>\n",
       "      <td>13.6</td>\n",
       "      <td>9.9</td>\n",
       "    </tr>\n",
       "    <tr>\n",
       "      <th>2003</th>\n",
       "      <td>12.8</td>\n",
       "      <td>10.8</td>\n",
       "      <td>14.4</td>\n",
       "      <td>6.3</td>\n",
       "      <td>13.4</td>\n",
       "      <td>5.1</td>\n",
       "      <td>15.6</td>\n",
       "      <td>9.1</td>\n",
       "      <td>10.5</td>\n",
       "      <td>13.0</td>\n",
       "      <td>...</td>\n",
       "      <td>14.3</td>\n",
       "      <td>9.4</td>\n",
       "      <td>8.2</td>\n",
       "      <td>5.8</td>\n",
       "      <td>7.6</td>\n",
       "      <td>6.4</td>\n",
       "      <td>7.5</td>\n",
       "      <td>3.6</td>\n",
       "      <td>14.0</td>\n",
       "      <td>10.1</td>\n",
       "    </tr>\n",
       "    <tr>\n",
       "      <th>2004</th>\n",
       "      <td>12.6</td>\n",
       "      <td>10.2</td>\n",
       "      <td>14.4</td>\n",
       "      <td>6.2</td>\n",
       "      <td>13.4</td>\n",
       "      <td>5.1</td>\n",
       "      <td>14.4</td>\n",
       "      <td>9.3</td>\n",
       "      <td>11.5</td>\n",
       "      <td>12.1</td>\n",
       "      <td>...</td>\n",
       "      <td>14.4</td>\n",
       "      <td>9.3</td>\n",
       "      <td>7.5</td>\n",
       "      <td>5.8</td>\n",
       "      <td>7.7</td>\n",
       "      <td>6.5</td>\n",
       "      <td>7.5</td>\n",
       "      <td>4.2</td>\n",
       "      <td>14.1</td>\n",
       "      <td>10.0</td>\n",
       "    </tr>\n",
       "    <tr>\n",
       "      <th>2005</th>\n",
       "      <td>12.3</td>\n",
       "      <td>10.1</td>\n",
       "      <td>14.0</td>\n",
       "      <td>6.1</td>\n",
       "      <td>13.2</td>\n",
       "      <td>5.1</td>\n",
       "      <td>13.6</td>\n",
       "      <td>9.5</td>\n",
       "      <td>13.5</td>\n",
       "      <td>9.7</td>\n",
       "      <td>...</td>\n",
       "      <td>14.0</td>\n",
       "      <td>9.3</td>\n",
       "      <td>8.7</td>\n",
       "      <td>5.7</td>\n",
       "      <td>8.3</td>\n",
       "      <td>6.6</td>\n",
       "      <td>7.6</td>\n",
       "      <td>4.0</td>\n",
       "      <td>13.9</td>\n",
       "      <td>9.9</td>\n",
       "    </tr>\n",
       "    <tr>\n",
       "      <th>2006</th>\n",
       "      <td>12.4</td>\n",
       "      <td>10.5</td>\n",
       "      <td>13.7</td>\n",
       "      <td>6.6</td>\n",
       "      <td>13.2</td>\n",
       "      <td>5.3</td>\n",
       "      <td>15.0</td>\n",
       "      <td>9.2</td>\n",
       "      <td>12.3</td>\n",
       "      <td>10.8</td>\n",
       "      <td>...</td>\n",
       "      <td>13.7</td>\n",
       "      <td>9.9</td>\n",
       "      <td>7.2</td>\n",
       "      <td>5.8</td>\n",
       "      <td>7.8</td>\n",
       "      <td>6.7</td>\n",
       "      <td>7.6</td>\n",
       "      <td>2.9</td>\n",
       "      <td>14.2</td>\n",
       "      <td>9.9</td>\n",
       "    </tr>\n",
       "    <tr>\n",
       "      <th>2007</th>\n",
       "      <td>12.2</td>\n",
       "      <td>10.1</td>\n",
       "      <td>13.3</td>\n",
       "      <td>7.0</td>\n",
       "      <td>13.6</td>\n",
       "      <td>5.8</td>\n",
       "      <td>14.2</td>\n",
       "      <td>9.3</td>\n",
       "      <td>14.9</td>\n",
       "      <td>12.1</td>\n",
       "      <td>...</td>\n",
       "      <td>13.6</td>\n",
       "      <td>10.1</td>\n",
       "      <td>6.6</td>\n",
       "      <td>5.8</td>\n",
       "      <td>7.5</td>\n",
       "      <td>6.5</td>\n",
       "      <td>7.5</td>\n",
       "      <td>3.5</td>\n",
       "      <td>14.4</td>\n",
       "      <td>9.9</td>\n",
       "    </tr>\n",
       "    <tr>\n",
       "      <th>2008</th>\n",
       "      <td>12.1</td>\n",
       "      <td>10.2</td>\n",
       "      <td>13.2</td>\n",
       "      <td>7.1</td>\n",
       "      <td>13.3</td>\n",
       "      <td>5.5</td>\n",
       "      <td>13.2</td>\n",
       "      <td>8.4</td>\n",
       "      <td>12.4</td>\n",
       "      <td>10.0</td>\n",
       "      <td>...</td>\n",
       "      <td>13.5</td>\n",
       "      <td>9.9</td>\n",
       "      <td>6.2</td>\n",
       "      <td>5.7</td>\n",
       "      <td>7.8</td>\n",
       "      <td>7.0</td>\n",
       "      <td>7.4</td>\n",
       "      <td>3.1</td>\n",
       "      <td>13.5</td>\n",
       "      <td>9.5</td>\n",
       "    </tr>\n",
       "    <tr>\n",
       "      <th>2009</th>\n",
       "      <td>11.2</td>\n",
       "      <td>9.3</td>\n",
       "      <td>11.9</td>\n",
       "      <td>6.0</td>\n",
       "      <td>12.6</td>\n",
       "      <td>4.9</td>\n",
       "      <td>12.4</td>\n",
       "      <td>7.5</td>\n",
       "      <td>10.0</td>\n",
       "      <td>6.9</td>\n",
       "      <td>...</td>\n",
       "      <td>13.1</td>\n",
       "      <td>9.4</td>\n",
       "      <td>5.9</td>\n",
       "      <td>4.7</td>\n",
       "      <td>7.1</td>\n",
       "      <td>5.9</td>\n",
       "      <td>7.0</td>\n",
       "      <td>2.6</td>\n",
       "      <td>12.5</td>\n",
       "      <td>8.8</td>\n",
       "    </tr>\n",
       "    <tr>\n",
       "      <th>2010</th>\n",
       "      <td>11.7</td>\n",
       "      <td>9.6</td>\n",
       "      <td>12.5</td>\n",
       "      <td>6.4</td>\n",
       "      <td>11.9</td>\n",
       "      <td>4.9</td>\n",
       "      <td>12.3</td>\n",
       "      <td>7.2</td>\n",
       "      <td>12.7</td>\n",
       "      <td>10.5</td>\n",
       "      <td>...</td>\n",
       "      <td>13.7</td>\n",
       "      <td>10.0</td>\n",
       "      <td>5.9</td>\n",
       "      <td>4.4</td>\n",
       "      <td>7.3</td>\n",
       "      <td>6.0</td>\n",
       "      <td>7.2</td>\n",
       "      <td>3.0</td>\n",
       "      <td>12.8</td>\n",
       "      <td>9.0</td>\n",
       "    </tr>\n",
       "    <tr>\n",
       "      <th>2011</th>\n",
       "      <td>11.6</td>\n",
       "      <td>9.3</td>\n",
       "      <td>11.5</td>\n",
       "      <td>7.6</td>\n",
       "      <td>11.3</td>\n",
       "      <td>5.1</td>\n",
       "      <td>11.2</td>\n",
       "      <td>7.1</td>\n",
       "      <td>12.6</td>\n",
       "      <td>9.0</td>\n",
       "      <td>...</td>\n",
       "      <td>12.8</td>\n",
       "      <td>9.8</td>\n",
       "      <td>5.7</td>\n",
       "      <td>4.9</td>\n",
       "      <td>7.1</td>\n",
       "      <td>6.0</td>\n",
       "      <td>6.8</td>\n",
       "      <td>2.5</td>\n",
       "      <td>12.5</td>\n",
       "      <td>8.8</td>\n",
       "    </tr>\n",
       "    <tr>\n",
       "      <th>2012</th>\n",
       "      <td>11.6</td>\n",
       "      <td>9.0</td>\n",
       "      <td>11.1</td>\n",
       "      <td>7.0</td>\n",
       "      <td>10.5</td>\n",
       "      <td>4.8</td>\n",
       "      <td>10.2</td>\n",
       "      <td>7.0</td>\n",
       "      <td>12.3</td>\n",
       "      <td>7.5</td>\n",
       "      <td>...</td>\n",
       "      <td>12.5</td>\n",
       "      <td>9.6</td>\n",
       "      <td>5.7</td>\n",
       "      <td>4.7</td>\n",
       "      <td>6.5</td>\n",
       "      <td>5.8</td>\n",
       "      <td>6.8</td>\n",
       "      <td>2.1</td>\n",
       "      <td>12.1</td>\n",
       "      <td>8.6</td>\n",
       "    </tr>\n",
       "    <tr>\n",
       "      <th>2013</th>\n",
       "      <td>11.8</td>\n",
       "      <td>9.1</td>\n",
       "      <td>11.0</td>\n",
       "      <td>6.5</td>\n",
       "      <td>9.6</td>\n",
       "      <td>4.4</td>\n",
       "      <td>10.5</td>\n",
       "      <td>6.5</td>\n",
       "      <td>14.1</td>\n",
       "      <td>8.7</td>\n",
       "      <td>...</td>\n",
       "      <td>12.5</td>\n",
       "      <td>9.5</td>\n",
       "      <td>5.6</td>\n",
       "      <td>4.2</td>\n",
       "      <td>6.3</td>\n",
       "      <td>6.2</td>\n",
       "      <td>6.9</td>\n",
       "      <td>2.2</td>\n",
       "      <td>11.6</td>\n",
       "      <td>8.4</td>\n",
       "    </tr>\n",
       "    <tr>\n",
       "      <th>2014</th>\n",
       "      <td>11.2</td>\n",
       "      <td>8.6</td>\n",
       "      <td>10.4</td>\n",
       "      <td>6.7</td>\n",
       "      <td>10.1</td>\n",
       "      <td>4.2</td>\n",
       "      <td>9.8</td>\n",
       "      <td>6.5</td>\n",
       "      <td>14.9</td>\n",
       "      <td>7.4</td>\n",
       "      <td>...</td>\n",
       "      <td>12.0</td>\n",
       "      <td>9.4</td>\n",
       "      <td>5.5</td>\n",
       "      <td>4.3</td>\n",
       "      <td>6.3</td>\n",
       "      <td>8.3</td>\n",
       "      <td>6.5</td>\n",
       "      <td>2.0</td>\n",
       "      <td>11.4</td>\n",
       "      <td>8.1</td>\n",
       "    </tr>\n",
       "    <tr>\n",
       "      <th>2015</th>\n",
       "      <td>11.1</td>\n",
       "      <td>8.8</td>\n",
       "      <td>10.8</td>\n",
       "      <td>7.3</td>\n",
       "      <td>10.2</td>\n",
       "      <td>4.5</td>\n",
       "      <td>9.1</td>\n",
       "      <td>6.7</td>\n",
       "      <td>11.9</td>\n",
       "      <td>7.1</td>\n",
       "      <td>...</td>\n",
       "      <td>12.4</td>\n",
       "      <td>9.6</td>\n",
       "      <td>6.0</td>\n",
       "      <td>4.4</td>\n",
       "      <td>6.3</td>\n",
       "      <td>8.4</td>\n",
       "      <td>6.2</td>\n",
       "      <td>2.2</td>\n",
       "      <td>11.6</td>\n",
       "      <td>8.2</td>\n",
       "    </tr>\n",
       "    <tr>\n",
       "      <th>2016</th>\n",
       "      <td>11.1</td>\n",
       "      <td>8.9</td>\n",
       "      <td>10.6</td>\n",
       "      <td>7.0</td>\n",
       "      <td>11.3</td>\n",
       "      <td>4.5</td>\n",
       "      <td>9.6</td>\n",
       "      <td>6.5</td>\n",
       "      <td>13.0</td>\n",
       "      <td>7.8</td>\n",
       "      <td>...</td>\n",
       "      <td>12.3</td>\n",
       "      <td>9.8</td>\n",
       "      <td>6.3</td>\n",
       "      <td>4.2</td>\n",
       "      <td>6.4</td>\n",
       "      <td>8.9</td>\n",
       "      <td>6.2</td>\n",
       "      <td>1.7</td>\n",
       "      <td>11.8</td>\n",
       "      <td>8.2</td>\n",
       "    </tr>\n",
       "    <tr>\n",
       "      <th>2017</th>\n",
       "      <td>10.9</td>\n",
       "      <td>9.0</td>\n",
       "      <td>10.6</td>\n",
       "      <td>7.4</td>\n",
       "      <td>11.1</td>\n",
       "      <td>4.9</td>\n",
       "      <td>9.2</td>\n",
       "      <td>6.8</td>\n",
       "      <td>14.7</td>\n",
       "      <td>7.6</td>\n",
       "      <td>...</td>\n",
       "      <td>12.1</td>\n",
       "      <td>10.1</td>\n",
       "      <td>8.3</td>\n",
       "      <td>4.6</td>\n",
       "      <td>6.6</td>\n",
       "      <td>9.0</td>\n",
       "      <td>6.1</td>\n",
       "      <td>1.9</td>\n",
       "      <td>12.1</td>\n",
       "      <td>8.3</td>\n",
       "    </tr>\n",
       "    <tr>\n",
       "      <th>2018</th>\n",
       "      <td>10.5</td>\n",
       "      <td>8.6</td>\n",
       "      <td>10.7</td>\n",
       "      <td>6.9</td>\n",
       "      <td>10.9</td>\n",
       "      <td>4.6</td>\n",
       "      <td>9.4</td>\n",
       "      <td>6.7</td>\n",
       "      <td>15.0</td>\n",
       "      <td>9.2</td>\n",
       "      <td>...</td>\n",
       "      <td>11.8</td>\n",
       "      <td>10.0</td>\n",
       "      <td>6.3</td>\n",
       "      <td>4.7</td>\n",
       "      <td>6.7</td>\n",
       "      <td>9.0</td>\n",
       "      <td>6.0</td>\n",
       "      <td>1.9</td>\n",
       "      <td>12.7</td>\n",
       "      <td>8.1</td>\n",
       "    </tr>\n",
       "    <tr>\n",
       "      <th>2019</th>\n",
       "      <td>9.9</td>\n",
       "      <td>8.8</td>\n",
       "      <td>10.5</td>\n",
       "      <td>6.8</td>\n",
       "      <td>10.8</td>\n",
       "      <td>4.6</td>\n",
       "      <td>8.6</td>\n",
       "      <td>6.3</td>\n",
       "      <td>10.7</td>\n",
       "      <td>7.4</td>\n",
       "      <td>...</td>\n",
       "      <td>11.4</td>\n",
       "      <td>10.0</td>\n",
       "      <td>5.8</td>\n",
       "      <td>4.3</td>\n",
       "      <td>6.2</td>\n",
       "      <td>8.2</td>\n",
       "      <td>5.8</td>\n",
       "      <td>1.8</td>\n",
       "      <td>12.9</td>\n",
       "      <td>7.8</td>\n",
       "    </tr>\n",
       "  </tbody>\n",
       "</table>\n",
       "<p>25 rows × 31 columns</p>\n",
       "</div>"
      ],
      "text/plain": [
       "Pays  Allemagne  Autriche  Belgique  Bulgarie  Chypre  Croatie  Danemark  \\\n",
       "Time                                                                       \n",
       "1995       13.5       8.5      15.2       6.6    11.6      3.0      16.3   \n",
       "1996       13.8       9.2      15.6       6.6    11.9      3.2      18.6   \n",
       "1997       13.3       8.1      14.7       6.3    11.9      3.7      16.8   \n",
       "1998       13.0       8.2      15.2       5.9    12.4      3.7      15.9   \n",
       "1999       12.6       7.7      14.7       5.1    12.5      3.9      15.5   \n",
       "2000       12.7       8.1      14.8       4.9    13.1      4.2      14.6   \n",
       "2001       12.8       8.2      14.6       5.8    12.9      4.5      14.7   \n",
       "2002       12.8       9.0      14.4       5.6    12.9      4.6      14.7   \n",
       "2003       12.8      10.8      14.4       6.3    13.4      5.1      15.6   \n",
       "2004       12.6      10.2      14.4       6.2    13.4      5.1      14.4   \n",
       "2005       12.3      10.1      14.0       6.1    13.2      5.1      13.6   \n",
       "2006       12.4      10.5      13.7       6.6    13.2      5.3      15.0   \n",
       "2007       12.2      10.1      13.3       7.0    13.6      5.8      14.2   \n",
       "2008       12.1      10.2      13.2       7.1    13.3      5.5      13.2   \n",
       "2009       11.2       9.3      11.9       6.0    12.6      4.9      12.4   \n",
       "2010       11.7       9.6      12.5       6.4    11.9      4.9      12.3   \n",
       "2011       11.6       9.3      11.5       7.6    11.3      5.1      11.2   \n",
       "2012       11.6       9.0      11.1       7.0    10.5      4.8      10.2   \n",
       "2013       11.8       9.1      11.0       6.5     9.6      4.4      10.5   \n",
       "2014       11.2       8.6      10.4       6.7    10.1      4.2       9.8   \n",
       "2015       11.1       8.8      10.8       7.3    10.2      4.5       9.1   \n",
       "2016       11.1       8.9      10.6       7.0    11.3      4.5       9.6   \n",
       "2017       10.9       9.0      10.6       7.4    11.1      4.9       9.2   \n",
       "2018       10.5       8.6      10.7       6.9    10.9      4.6       9.4   \n",
       "2019        9.9       8.8      10.5       6.8    10.8      4.6       8.6   \n",
       "\n",
       "Pays  Espagne  Estonie  Finlande  ...  Pays-Bas  Pologne  Portugal  Roumanie  \\\n",
       "Time                              ...                                          \n",
       "1995      7.6     12.4      11.6  ...      15.8     11.1       6.6       7.1   \n",
       "1996      7.4     13.0      11.4  ...      16.4     11.0       6.0       7.3   \n",
       "1997      7.7     12.8      12.0  ...      15.9     10.7       6.2       6.9   \n",
       "1998      7.9     11.3      11.5  ...      15.8      9.8       6.8       6.2   \n",
       "1999      8.5     10.8      11.2  ...      14.9      9.6       7.5       5.4   \n",
       "2000      8.8      9.9      10.9  ...      14.7      9.4       7.6       5.1   \n",
       "2001      8.7     10.1      11.6  ...      14.6      9.6       7.2       5.3   \n",
       "2002      9.0      9.9      11.8  ...      14.4      9.1       7.7       5.5   \n",
       "2003      9.1     10.5      13.0  ...      14.3      9.4       8.2       5.8   \n",
       "2004      9.3     11.5      12.1  ...      14.4      9.3       7.5       5.8   \n",
       "2005      9.5     13.5       9.7  ...      14.0      9.3       8.7       5.7   \n",
       "2006      9.2     12.3      10.8  ...      13.7      9.9       7.2       5.8   \n",
       "2007      9.3     14.9      12.1  ...      13.6     10.1       6.6       5.8   \n",
       "2008      8.4     12.4      10.0  ...      13.5      9.9       6.2       5.7   \n",
       "2009      7.5     10.0       6.9  ...      13.1      9.4       5.9       4.7   \n",
       "2010      7.2     12.7      10.5  ...      13.7     10.0       5.9       4.4   \n",
       "2011      7.1     12.6       9.0  ...      12.8      9.8       5.7       4.9   \n",
       "2012      7.0     12.3       7.5  ...      12.5      9.6       5.7       4.7   \n",
       "2013      6.5     14.1       8.7  ...      12.5      9.5       5.6       4.2   \n",
       "2014      6.5     14.9       7.4  ...      12.0      9.4       5.5       4.3   \n",
       "2015      6.7     11.9       7.1  ...      12.4      9.6       6.0       4.4   \n",
       "2016      6.5     13.0       7.8  ...      12.3      9.8       6.3       4.2   \n",
       "2017      6.8     14.7       7.6  ...      12.1     10.1       8.3       4.6   \n",
       "2018      6.7     15.0       9.2  ...      11.8     10.0       6.3       4.7   \n",
       "2019      6.3     10.7       7.4  ...      11.4     10.0       5.8       4.3   \n",
       "\n",
       "Pays  Slovaquie  Slovénie  Suisse  Suède  Tchéquie  \\\n",
       "Time                                                 \n",
       "1995        8.1       6.8     7.5    4.3      14.5   \n",
       "1996        8.0       6.8     7.3    4.5      14.8   \n",
       "1997        8.0       7.0     7.4    3.9      14.5   \n",
       "1998        7.7       6.7     7.8    3.8      13.9   \n",
       "1999        7.6       6.4     7.8    3.5      12.9   \n",
       "2000        7.2       6.2     8.8    3.2      13.9   \n",
       "2001        7.8       6.8     8.0    3.2      13.9   \n",
       "2002        7.4       6.3     7.5    3.2      13.6   \n",
       "2003        7.6       6.4     7.5    3.6      14.0   \n",
       "2004        7.7       6.5     7.5    4.2      14.1   \n",
       "2005        8.3       6.6     7.6    4.0      13.9   \n",
       "2006        7.8       6.7     7.6    2.9      14.2   \n",
       "2007        7.5       6.5     7.5    3.5      14.4   \n",
       "2008        7.8       7.0     7.4    3.1      13.5   \n",
       "2009        7.1       5.9     7.0    2.6      12.5   \n",
       "2010        7.3       6.0     7.2    3.0      12.8   \n",
       "2011        7.1       6.0     6.8    2.5      12.5   \n",
       "2012        6.5       5.8     6.8    2.1      12.1   \n",
       "2013        6.3       6.2     6.9    2.2      11.6   \n",
       "2014        6.3       8.3     6.5    2.0      11.4   \n",
       "2015        6.3       8.4     6.2    2.2      11.6   \n",
       "2016        6.4       8.9     6.2    1.7      11.8   \n",
       "2017        6.6       9.0     6.1    1.9      12.1   \n",
       "2018        6.7       9.0     6.0    1.9      12.7   \n",
       "2019        6.2       8.2     5.8    1.8      12.9   \n",
       "\n",
       "Pays  Union européenne - 27 pays (à partir de 2020)  \n",
       "Time                                                 \n",
       "1995                                           10.2  \n",
       "1996                                           10.3  \n",
       "1997                                           10.2  \n",
       "1998                                           10.0  \n",
       "1999                                            9.8  \n",
       "2000                                            9.9  \n",
       "2001                                            9.9  \n",
       "2002                                            9.9  \n",
       "2003                                           10.1  \n",
       "2004                                           10.0  \n",
       "2005                                            9.9  \n",
       "2006                                            9.9  \n",
       "2007                                            9.9  \n",
       "2008                                            9.5  \n",
       "2009                                            8.8  \n",
       "2010                                            9.0  \n",
       "2011                                            8.8  \n",
       "2012                                            8.6  \n",
       "2013                                            8.4  \n",
       "2014                                            8.1  \n",
       "2015                                            8.2  \n",
       "2016                                            8.2  \n",
       "2017                                            8.3  \n",
       "2018                                            8.1  \n",
       "2019                                            7.8  \n",
       "\n",
       "[25 rows x 31 columns]"
      ]
     },
     "execution_count": 73,
     "metadata": {},
     "output_type": "execute_result"
    }
   ],
   "source": [
    "T_HAB_clean_df_pivot = T_HAB_clean_df.pivot_table(values='Value', index=T_HAB_clean_df.index, columns='Pays')\n",
    "T_HAB_clean_df_pivot"
   ]
  },
  {
   "cell_type": "code",
   "execution_count": 74,
   "metadata": {},
   "outputs": [
    {
     "data": {
      "application/vnd.plotly.v1+json": {
       "config": {
        "plotlyServerURL": "https://plot.ly"
       },
       "data": [
        {
         "hovertemplate": "Pays=Allemagne<br>Time=%{x}<br>value=%{y}<extra></extra>",
         "legendgroup": "Allemagne",
         "line": {
          "color": "#636efa",
          "dash": "solid"
         },
         "marker": {
          "symbol": "circle"
         },
         "mode": "lines",
         "name": "Allemagne",
         "orientation": "v",
         "showlegend": true,
         "type": "scatter",
         "x": [
          1995,
          1996,
          1997,
          1998,
          1999,
          2000,
          2001,
          2002,
          2003,
          2004,
          2005,
          2006,
          2007,
          2008,
          2009,
          2010,
          2011,
          2012,
          2013,
          2014,
          2015,
          2016,
          2017,
          2018,
          2019
         ],
         "xaxis": "x",
         "y": [
          85.7,
          87.7,
          85,
          83,
          80.3,
          81,
          82,
          82.4,
          82.2,
          80.8,
          79,
          79.4,
          77.8,
          77,
          71.3,
          74.4,
          72.5,
          72.4,
          73.8,
          70.4,
          70.8,
          71.2,
          70.1,
          67.5,
          64
         ],
         "yaxis": "y"
        },
        {
         "hovertemplate": "Pays=Autriche<br>Time=%{x}<br>value=%{y}<extra></extra>",
         "legendgroup": "Autriche",
         "line": {
          "color": "#EF553B",
          "dash": "solid"
         },
         "marker": {
          "symbol": "circle"
         },
         "mode": "lines",
         "name": "Autriche",
         "orientation": "v",
         "showlegend": true,
         "type": "scatter",
         "x": [
          1995,
          1996,
          1997,
          1998,
          1999,
          2000,
          2001,
          2002,
          2003,
          2004,
          2005,
          2006,
          2007,
          2008,
          2009,
          2010,
          2011,
          2012,
          2013,
          2014,
          2015,
          2016,
          2017,
          2018,
          2019
         ],
         "xaxis": "x",
         "y": [
          100.2,
          109.1,
          96,
          97.8,
          92,
          97.2,
          98.7,
          108.7,
          130.7,
          124.2,
          124.1,
          129.2,
          125,
          126.1,
          115.2,
          120.2,
          116.5,
          113.4,
          115.2,
          110.1,
          113.9,
          115.9,
          118.3,
          113.3,
          116.4
         ],
         "yaxis": "y"
        },
        {
         "hovertemplate": "Pays=Belgique<br>Time=%{x}<br>value=%{y}<extra></extra>",
         "legendgroup": "Belgique",
         "line": {
          "color": "#00cc96",
          "dash": "solid"
         },
         "marker": {
          "symbol": "circle"
         },
         "mode": "lines",
         "name": "Belgique",
         "orientation": "v",
         "showlegend": true,
         "type": "scatter",
         "x": [
          1995,
          1996,
          1997,
          1998,
          1999,
          2000,
          2001,
          2002,
          2003,
          2004,
          2005,
          2006,
          2007,
          2008,
          2009,
          2010,
          2011,
          2012,
          2013,
          2014,
          2015,
          2016,
          2017,
          2018,
          2019
         ],
         "xaxis": "x",
         "y": [
          105.7,
          108.6,
          103.1,
          106.6,
          103.2,
          104.3,
          102.9,
          102.2,
          102.6,
          103.2,
          101,
          99.2,
          97,
          97.4,
          88.4,
          94,
          87.1,
          84.9,
          84.3,
          80.5,
          83.6,
          82.9,
          83.1,
          83.9,
          83
         ],
         "yaxis": "y"
        },
        {
         "hovertemplate": "Pays=Bulgarie<br>Time=%{x}<br>value=%{y}<extra></extra>",
         "legendgroup": "Bulgarie",
         "line": {
          "color": "#ab63fa",
          "dash": "solid"
         },
         "marker": {
          "symbol": "circle"
         },
         "mode": "lines",
         "name": "Bulgarie",
         "orientation": "v",
         "showlegend": true,
         "type": "scatter",
         "x": [
          1995,
          1996,
          1997,
          1998,
          1999,
          2000,
          2001,
          2002,
          2003,
          2004,
          2005,
          2006,
          2007,
          2008,
          2009,
          2010,
          2011,
          2012,
          2013,
          2014,
          2015,
          2016,
          2017,
          2018,
          2019
         ],
         "xaxis": "x",
         "y": [
          67.6,
          68.2,
          64,
          59.3,
          50.9,
          49.4,
          57.4,
          53.8,
          60.3,
          58.3,
          57.6,
          61.4,
          65.1,
          65.6,
          54.4,
          58.4,
          68.2,
          62.6,
          57.5,
          59.8,
          64.4,
          61.6,
          64.4,
          59.4,
          57.8
         ],
         "yaxis": "y"
        },
        {
         "hovertemplate": "Pays=Chypre<br>Time=%{x}<br>value=%{y}<extra></extra>",
         "legendgroup": "Chypre",
         "line": {
          "color": "#FFA15A",
          "dash": "solid"
         },
         "marker": {
          "symbol": "circle"
         },
         "mode": "lines",
         "name": "Chypre",
         "orientation": "v",
         "showlegend": true,
         "type": "scatter",
         "x": [
          1995,
          1996,
          1997,
          1998,
          1999,
          2000,
          2001,
          2002,
          2003,
          2004,
          2005,
          2006,
          2007,
          2008,
          2009,
          2010,
          2011,
          2012,
          2013,
          2014,
          2015,
          2016,
          2017,
          2018,
          2019
         ],
         "xaxis": "x",
         "y": [
          124.2,
          129.4,
          131,
          137.9,
          141.1,
          149.9,
          148.9,
          150.6,
          158,
          160,
          160.4,
          163.4,
          170.9,
          172.1,
          167.2,
          162.6,
          157.6,
          148.6,
          135.9,
          142.2,
          142.5,
          158.2,
          157.3,
          155.6,
          156.2
         ],
         "yaxis": "y"
        },
        {
         "hovertemplate": "Pays=Croatie<br>Time=%{x}<br>value=%{y}<extra></extra>",
         "legendgroup": "Croatie",
         "line": {
          "color": "#19d3f3",
          "dash": "solid"
         },
         "marker": {
          "symbol": "circle"
         },
         "mode": "lines",
         "name": "Croatie",
         "orientation": "v",
         "showlegend": true,
         "type": "scatter",
         "x": [
          1995,
          1996,
          1997,
          1998,
          1999,
          2000,
          2001,
          2002,
          2003,
          2004,
          2005,
          2006,
          2007,
          2008,
          2009,
          2010,
          2011,
          2012,
          2013,
          2014,
          2015,
          2016,
          2017,
          2018,
          2019
         ],
         "xaxis": "x",
         "y": [
          54.2,
          57.5,
          65.1,
          66.7,
          69.1,
          74.2,
          75.3,
          78.2,
          87.1,
          86.1,
          87.2,
          89.4,
          98.1,
          92.9,
          83.7,
          82.9,
          86.4,
          81.1,
          73.1,
          69.5,
          74,
          74.1,
          80.3,
          73.5,
          73.3
         ],
         "yaxis": "y"
        },
        {
         "hovertemplate": "Pays=Danemark<br>Time=%{x}<br>value=%{y}<extra></extra>",
         "legendgroup": "Danemark",
         "line": {
          "color": "#FF6692",
          "dash": "solid"
         },
         "marker": {
          "symbol": "circle"
         },
         "mode": "lines",
         "name": "Danemark",
         "orientation": "v",
         "showlegend": true,
         "type": "scatter",
         "x": [
          1995,
          1996,
          1997,
          1998,
          1999,
          2000,
          2001,
          2002,
          2003,
          2004,
          2005,
          2006,
          2007,
          2008,
          2009,
          2010,
          2011,
          2012,
          2013,
          2014,
          2015,
          2016,
          2017,
          2018,
          2019
         ],
         "xaxis": "x",
         "y": [
          107.8,
          123.7,
          112.1,
          106.9,
          104,
          98.7,
          99.6,
          99.8,
          106,
          98.5,
          93.1,
          103.3,
          98.1,
          91.8,
          86.7,
          85.9,
          79,
          72.4,
          74.2,
          70,
          65.6,
          69.7,
          66.8,
          69.1,
          62.9
         ],
         "yaxis": "y"
        },
        {
         "hovertemplate": "Pays=Espagne<br>Time=%{x}<br>value=%{y}<extra></extra>",
         "legendgroup": "Espagne",
         "line": {
          "color": "#B6E880",
          "dash": "solid"
         },
         "marker": {
          "symbol": "circle"
         },
         "mode": "lines",
         "name": "Espagne",
         "orientation": "v",
         "showlegend": true,
         "type": "scatter",
         "x": [
          1995,
          1996,
          1997,
          1998,
          1999,
          2000,
          2001,
          2002,
          2003,
          2004,
          2005,
          2006,
          2007,
          2008,
          2009,
          2010,
          2011,
          2012,
          2013,
          2014,
          2015,
          2016,
          2017,
          2018,
          2019
         ],
         "xaxis": "x",
         "y": [
          116.5,
          113.4,
          119.4,
          123,
          132.7,
          138.5,
          137.1,
          144.5,
          148,
          154.5,
          160.5,
          157.3,
          162.7,
          149.7,
          134.9,
          128.7,
          129.1,
          126.9,
          117,
          117.3,
          120.9,
          117.2,
          122.7,
          120.9,
          114.4
         ],
         "yaxis": "y"
        },
        {
         "hovertemplate": "Pays=Estonie<br>Time=%{x}<br>value=%{y}<extra></extra>",
         "legendgroup": "Estonie",
         "line": {
          "color": "#FF97FF",
          "dash": "solid"
         },
         "marker": {
          "symbol": "circle"
         },
         "mode": "lines",
         "name": "Estonie",
         "orientation": "v",
         "showlegend": true,
         "type": "scatter",
         "x": [
          1995,
          1996,
          1997,
          1998,
          1999,
          2000,
          2001,
          2002,
          2003,
          2004,
          2005,
          2006,
          2007,
          2008,
          2009,
          2010,
          2011,
          2012,
          2013,
          2014,
          2015,
          2016,
          2017,
          2018,
          2019
         ],
         "xaxis": "x",
         "y": [
          46.7,
          48.2,
          46.9,
          41.1,
          39.2,
          36.1,
          36.6,
          35.9,
          37.7,
          41,
          47.7,
          43.3,
          52.4,
          43.3,
          35,
          44.2,
          43.7,
          42.5,
          48.7,
          51.2,
          41,
          44.8,
          50.5,
          52,
          37.2
         ],
         "yaxis": "y"
        },
        {
         "hovertemplate": "Pays=Finlande<br>Time=%{x}<br>value=%{y}<extra></extra>",
         "legendgroup": "Finlande",
         "line": {
          "color": "#FECB52",
          "dash": "solid"
         },
         "marker": {
          "symbol": "circle"
         },
         "mode": "lines",
         "name": "Finlande",
         "orientation": "v",
         "showlegend": true,
         "type": "scatter",
         "x": [
          1995,
          1996,
          1997,
          1998,
          1999,
          2000,
          2001,
          2002,
          2003,
          2004,
          2005,
          2006,
          2007,
          2008,
          2009,
          2010,
          2011,
          2012,
          2013,
          2014,
          2015,
          2016,
          2017,
          2018,
          2019
         ],
         "xaxis": "x",
         "y": [
          101.2,
          99.4,
          105.3,
          101.1,
          98.9,
          95.8,
          102.3,
          104.2,
          115.8,
          108,
          86.4,
          96.7,
          109.4,
          90.4,
          63,
          96.3,
          83,
          69.1,
          80.8,
          69.2,
          66.7,
          73.4,
          71.1,
          86.1,
          69.8
         ],
         "yaxis": "y"
        },
        {
         "hovertemplate": "Pays=France<br>Time=%{x}<br>value=%{y}<extra></extra>",
         "legendgroup": "France",
         "line": {
          "color": "#636efa",
          "dash": "solid"
         },
         "marker": {
          "symbol": "circle"
         },
         "mode": "lines",
         "name": "France",
         "orientation": "v",
         "showlegend": true,
         "type": "scatter",
         "x": [
          1995,
          1996,
          1997,
          1998,
          1999,
          2000,
          2001,
          2002,
          2003,
          2004,
          2005,
          2006,
          2007,
          2008,
          2009,
          2010,
          2011,
          2012,
          2013,
          2014,
          2015,
          2016,
          2017,
          2018,
          2019
         ],
         "xaxis": "x",
         "y": [
          98.8,
          101.2,
          99.8,
          102.1,
          100.5,
          102.6,
          101.4,
          98.6,
          98.9,
          98.2,
          98.3,
          96.2,
          94.6,
          93.3,
          90.8,
          91.9,
          87.4,
          87.2,
          86.8,
          82.1,
          83.5,
          83.4,
          84.4,
          81.3,
          79.8
         ],
         "yaxis": "y"
        },
        {
         "hovertemplate": "Pays=Grèce<br>Time=%{x}<br>value=%{y}<extra></extra>",
         "legendgroup": "Grèce",
         "line": {
          "color": "#EF553B",
          "dash": "solid"
         },
         "marker": {
          "symbol": "circle"
         },
         "mode": "lines",
         "name": "Grèce",
         "orientation": "v",
         "showlegend": true,
         "type": "scatter",
         "x": [
          1995,
          1996,
          1997,
          1998,
          1999,
          2000,
          2001,
          2002,
          2003,
          2004,
          2005,
          2006,
          2007,
          2008,
          2009,
          2010,
          2011,
          2012,
          2013,
          2014,
          2015,
          2016,
          2017,
          2018,
          2019
         ],
         "xaxis": "x",
         "y": [
          105.2,
          108.7,
          113.7,
          119.4,
          119.1,
          122.6,
          123,
          122.6,
          127.2,
          128,
          131,
          127.3,
          131.8,
          127.2,
          119.9,
          113.9,
          111.1,
          107.7,
          99.9,
          98.4,
          91.3,
          88.2,
          92.4,
          88.8,
          83.1
         ],
         "yaxis": "y"
        },
        {
         "hovertemplate": "Pays=Hongrie<br>Time=%{x}<br>value=%{y}<extra></extra>",
         "legendgroup": "Hongrie",
         "line": {
          "color": "#00cc96",
          "dash": "solid"
         },
         "marker": {
          "symbol": "circle"
         },
         "mode": "lines",
         "name": "Hongrie",
         "orientation": "v",
         "showlegend": true,
         "type": "scatter",
         "x": [
          1995,
          1996,
          1997,
          1998,
          1999,
          2000,
          2001,
          2002,
          2003,
          2004,
          2005,
          2006,
          2007,
          2008,
          2009,
          2010,
          2011,
          2012,
          2013,
          2014,
          2015,
          2016,
          2017,
          2018,
          2019
         ],
         "xaxis": "x",
         "y": [
          77.4,
          83.9,
          82,
          80,
          82.6,
          80.5,
          80.9,
          79.5,
          80.2,
          80.2,
          77.5,
          78.5,
          76.2,
          71.8,
          66.6,
          67.2,
          65.7,
          60.9,
          58.9,
          57.9,
          60.7,
          62.8,
          64.8,
          65.8,
          64.5
         ],
         "yaxis": "y"
        },
        {
         "hovertemplate": "Pays=Irlande<br>Time=%{x}<br>value=%{y}<extra></extra>",
         "legendgroup": "Irlande",
         "line": {
          "color": "#ab63fa",
          "dash": "solid"
         },
         "marker": {
          "symbol": "circle"
         },
         "mode": "lines",
         "name": "Irlande",
         "orientation": "v",
         "showlegend": true,
         "type": "scatter",
         "x": [
          1995,
          1996,
          1997,
          1998,
          1999,
          2000,
          2001,
          2002,
          2003,
          2004,
          2005,
          2006,
          2007,
          2008,
          2009,
          2010,
          2011,
          2012,
          2013,
          2014,
          2015,
          2016,
          2017,
          2018,
          2019
         ],
         "xaxis": "x",
         "y": [
          108.2,
          111,
          112.6,
          116.6,
          119.2,
          125.7,
          131.8,
          128.4,
          129.5,
          125.4,
          129.9,
          130.2,
          127.5,
          125.1,
          114.1,
          116.3,
          107.8,
          107.2,
          107.5,
          109.3,
          113.1,
          115.6,
          118.2,
          116.5,
          111.5
         ],
         "yaxis": "y"
        },
        {
         "hovertemplate": "Pays=Islande<br>Time=%{x}<br>value=%{y}<extra></extra>",
         "legendgroup": "Islande",
         "line": {
          "color": "#FFA15A",
          "dash": "solid"
         },
         "marker": {
          "symbol": "circle"
         },
         "mode": "lines",
         "name": "Islande",
         "orientation": "v",
         "showlegend": true,
         "type": "scatter",
         "x": [
          1995,
          1996,
          1997,
          1998,
          1999,
          2000,
          2001,
          2002,
          2003,
          2004,
          2005,
          2006,
          2007,
          2008,
          2009,
          2010,
          2011,
          2012,
          2013,
          2014,
          2015,
          2016,
          2017,
          2018,
          2019
         ],
         "xaxis": "x",
         "y": [
          98.6,
          99.3,
          100.7,
          102.2,
          104.2,
          104.8,
          103.6,
          104.2,
          104,
          105.2,
          104.5,
          110.1,
          112.5,
          115.1,
          111.7,
          111,
          109.5,
          109.7,
          110,
          110.5,
          111.8,
          113.1,
          115.2,
          116.2,
          112.7
         ],
         "yaxis": "y"
        },
        {
         "hovertemplate": "Pays=Italie<br>Time=%{x}<br>value=%{y}<extra></extra>",
         "legendgroup": "Italie",
         "line": {
          "color": "#19d3f3",
          "dash": "solid"
         },
         "marker": {
          "symbol": "circle"
         },
         "mode": "lines",
         "name": "Italie",
         "orientation": "v",
         "showlegend": true,
         "type": "scatter",
         "x": [
          1995,
          1996,
          1997,
          1998,
          1999,
          2000,
          2001,
          2002,
          2003,
          2004,
          2005,
          2006,
          2007,
          2008,
          2009,
          2010,
          2011,
          2012,
          2013,
          2014,
          2015,
          2016,
          2017,
          2018,
          2019
         ],
         "xaxis": "x",
         "y": [
          99,
          97.7,
          100.8,
          103.7,
          103.1,
          104.4,
          102.8,
          102.9,
          108.3,
          108.2,
          108.3,
          106.2,
          109.6,
          103.6,
          92,
          93.1,
          92.2,
          90.1,
          80.5,
          76.2,
          78.2,
          78.4,
          81.5,
          77.9,
          74.9
         ],
         "yaxis": "y"
        },
        {
         "hovertemplate": "Pays=Lettonie<br>Time=%{x}<br>value=%{y}<extra></extra>",
         "legendgroup": "Lettonie",
         "line": {
          "color": "#FF6692",
          "dash": "solid"
         },
         "marker": {
          "symbol": "circle"
         },
         "mode": "lines",
         "name": "Lettonie",
         "orientation": "v",
         "showlegend": true,
         "type": "scatter",
         "x": [
          1995,
          1996,
          1997,
          1998,
          1999,
          2000,
          2001,
          2002,
          2003,
          2004,
          2005,
          2006,
          2007,
          2008,
          2009,
          2010,
          2011,
          2012,
          2013,
          2014,
          2015,
          2016,
          2017,
          2018,
          2019
         ],
         "xaxis": "x",
         "y": [
          -15.8,
          -16.4,
          -7.7,
          -4.5,
          16.5,
          -11.5,
          -10.6,
          1.7,
          6.1,
          32.9,
          38.4,
          36.5,
          43,
          37.3,
          53.6,
          74.6,
          65.9,
          54.8,
          63.5,
          90.3,
          81.4,
          68.4,
          60.6,
          82.6,
          75.8
         ],
         "yaxis": "y"
        },
        {
         "hovertemplate": "Pays=Lituanie<br>Time=%{x}<br>value=%{y}<extra></extra>",
         "legendgroup": "Lituanie",
         "line": {
          "color": "#B6E880",
          "dash": "solid"
         },
         "marker": {
          "symbol": "circle"
         },
         "mode": "lines",
         "name": "Lituanie",
         "orientation": "v",
         "showlegend": true,
         "type": "scatter",
         "x": [
          1995,
          1996,
          1997,
          1998,
          1999,
          2000,
          2001,
          2002,
          2003,
          2004,
          2005,
          2006,
          2007,
          2008,
          2009,
          2010,
          2011,
          2012,
          2013,
          2014,
          2015,
          2016,
          2017,
          2018,
          2019
         ],
         "xaxis": "x",
         "y": [
          41.6,
          57,
          53.1,
          37.5,
          32.5,
          23.5,
          30.6,
          33.7,
          35.8,
          38.7,
          43.2,
          44.9,
          45.7,
          41.9,
          29.3,
          24.5,
          25.6,
          26.8,
          25.5,
          27.5,
          29.6,
          31.5,
          33.1,
          32.8,
          35.8
         ],
         "yaxis": "y"
        },
        {
         "hovertemplate": "Pays=Luxembourg<br>Time=%{x}<br>value=%{y}<extra></extra>",
         "legendgroup": "Luxembourg",
         "line": {
          "color": "#FF97FF",
          "dash": "solid"
         },
         "marker": {
          "symbol": "circle"
         },
         "mode": "lines",
         "name": "Luxembourg",
         "orientation": "v",
         "showlegend": true,
         "type": "scatter",
         "x": [
          1995,
          1996,
          1997,
          1998,
          1999,
          2000,
          2001,
          2002,
          2003,
          2004,
          2005,
          2006,
          2007,
          2008,
          2009,
          2010,
          2011,
          2012,
          2013,
          2014,
          2015,
          2016,
          2017,
          2018,
          2019
         ],
         "xaxis": "x",
         "y": [
          76.2,
          76.8,
          72,
          67.5,
          71.1,
          75,
          79.5,
          86,
          90.1,
          101.3,
          103.7,
          102.5,
          99.4,
          98.5,
          94.1,
          101.1,
          98.3,
          95,
          89.6,
          87.5,
          85.4,
          84.1,
          88,
          92.6,
          92.7
         ],
         "yaxis": "y"
        },
        {
         "hovertemplate": "Pays=Malte<br>Time=%{x}<br>value=%{y}<extra></extra>",
         "legendgroup": "Malte",
         "line": {
          "color": "#FECB52",
          "dash": "solid"
         },
         "marker": {
          "symbol": "circle"
         },
         "mode": "lines",
         "name": "Malte",
         "orientation": "v",
         "showlegend": true,
         "type": "scatter",
         "x": [
          1995,
          1996,
          1997,
          1998,
          1999,
          2000,
          2001,
          2002,
          2003,
          2004,
          2005,
          2006,
          2007,
          2008,
          2009,
          2010,
          2011,
          2012,
          2013,
          2014,
          2015,
          2016,
          2017,
          2018,
          2019
         ],
         "xaxis": "x",
         "y": [
          108,
          112.3,
          113.5,
          111.8,
          115.2,
          112.4,
          115.1,
          116.2,
          126.2,
          122.5,
          116.4,
          118.4,
          122.3,
          120.4,
          113.1,
          117,
          117.4,
          124.4,
          113.8,
          115.7,
          91.9,
          81.4,
          89,
          89.9,
          96.2
         ],
         "yaxis": "y"
        },
        {
         "hovertemplate": "Pays=Norvège<br>Time=%{x}<br>value=%{y}<extra></extra>",
         "legendgroup": "Norvège",
         "line": {
          "color": "#636efa",
          "dash": "solid"
         },
         "marker": {
          "symbol": "circle"
         },
         "mode": "lines",
         "name": "Norvège",
         "orientation": "v",
         "showlegend": true,
         "type": "scatter",
         "x": [
          1995,
          1996,
          1997,
          1998,
          1999,
          2000,
          2001,
          2002,
          2003,
          2004,
          2005,
          2006,
          2007,
          2008,
          2009,
          2010,
          2011,
          2012,
          2013,
          2014,
          2015,
          2016,
          2017,
          2018,
          2019
         ],
         "xaxis": "x",
         "y": [
          87.9,
          98,
          101.8,
          96.9,
          96.1,
          90.7,
          88.8,
          83.2,
          80.6,
          82.7,
          87.6,
          83.1,
          87.1,
          80.3,
          65.9,
          80.4,
          75.4,
          83.8,
          82.7,
          92.1,
          103.8,
          99.3,
          94.3,
          92.8,
          83.2
         ],
         "yaxis": "y"
        },
        {
         "hovertemplate": "Pays=Pays-Bas<br>Time=%{x}<br>value=%{y}<extra></extra>",
         "legendgroup": "Pays-Bas",
         "line": {
          "color": "#EF553B",
          "dash": "solid"
         },
         "marker": {
          "symbol": "circle"
         },
         "mode": "lines",
         "name": "Pays-Bas",
         "orientation": "v",
         "showlegend": true,
         "type": "scatter",
         "x": [
          1995,
          1996,
          1997,
          1998,
          1999,
          2000,
          2001,
          2002,
          2003,
          2004,
          2005,
          2006,
          2007,
          2008,
          2009,
          2010,
          2011,
          2012,
          2013,
          2014,
          2015,
          2016,
          2017,
          2018,
          2019
         ],
         "xaxis": "x",
         "y": [
          105.5,
          110.3,
          107.1,
          107.5,
          101.8,
          101,
          101.2,
          100.4,
          100.7,
          101.5,
          99.1,
          97,
          96.3,
          96,
          93.3,
          98.4,
          92.3,
          90.3,
          90.6,
          87.3,
          90.6,
          90.9,
          89.9,
          88.1,
          85.3
         ],
         "yaxis": "y"
        },
        {
         "hovertemplate": "Pays=Pologne<br>Time=%{x}<br>value=%{y}<extra></extra>",
         "legendgroup": "Pologne",
         "line": {
          "color": "#00cc96",
          "dash": "solid"
         },
         "marker": {
          "symbol": "circle"
         },
         "mode": "lines",
         "name": "Pologne",
         "orientation": "v",
         "showlegend": true,
         "type": "scatter",
         "x": [
          1995,
          1996,
          1997,
          1998,
          1999,
          2000,
          2001,
          2002,
          2003,
          2004,
          2005,
          2006,
          2007,
          2008,
          2009,
          2010,
          2011,
          2012,
          2013,
          2014,
          2015,
          2016,
          2017,
          2018,
          2019
         ],
         "xaxis": "x",
         "y": [
          96,
          95.2,
          93,
          84.9,
          83,
          80.9,
          82.3,
          78.1,
          80.8,
          79.5,
          79.8,
          84.7,
          86.1,
          84.8,
          80.8,
          85.4,
          83.6,
          82.1,
          80.9,
          80,
          81.5,
          83.3,
          85.6,
          84.9,
          84.9
         ],
         "yaxis": "y"
        },
        {
         "hovertemplate": "Pays=Portugal<br>Time=%{x}<br>value=%{y}<extra></extra>",
         "legendgroup": "Portugal",
         "line": {
          "color": "#ab63fa",
          "dash": "solid"
         },
         "marker": {
          "symbol": "circle"
         },
         "mode": "lines",
         "name": "Portugal",
         "orientation": "v",
         "showlegend": true,
         "type": "scatter",
         "x": [
          1995,
          1996,
          1997,
          1998,
          1999,
          2000,
          2001,
          2002,
          2003,
          2004,
          2005,
          2006,
          2007,
          2008,
          2009,
          2010,
          2011,
          2012,
          2013,
          2014,
          2015,
          2016,
          2017,
          2018,
          2019
         ],
         "xaxis": "x",
         "y": [
          106.8,
          97.4,
          101.2,
          112,
          123.5,
          127.5,
          121.6,
          129.7,
          139.5,
          128.3,
          147.6,
          122.1,
          112.5,
          106.1,
          100.8,
          101.7,
          97.6,
          96.8,
          95.8,
          92.6,
          100.9,
          105.1,
          137.9,
          105,
          97.6
         ],
         "yaxis": "y"
        },
        {
         "hovertemplate": "Pays=Roumanie<br>Time=%{x}<br>value=%{y}<extra></extra>",
         "legendgroup": "Roumanie",
         "line": {
          "color": "#FFA15A",
          "dash": "solid"
         },
         "marker": {
          "symbol": "circle"
         },
         "mode": "lines",
         "name": "Roumanie",
         "orientation": "v",
         "showlegend": true,
         "type": "scatter",
         "x": [
          1995,
          1996,
          1997,
          1998,
          1999,
          2000,
          2001,
          2002,
          2003,
          2004,
          2005,
          2006,
          2007,
          2008,
          2009,
          2010,
          2011,
          2012,
          2013,
          2014,
          2015,
          2016,
          2017,
          2018,
          2019
         ],
         "xaxis": "x",
         "y": [
          66.7,
          68,
          64.5,
          57.3,
          50,
          47.2,
          48.2,
          49.7,
          52.1,
          51.4,
          50.1,
          51,
          50.1,
          48.1,
          39.7,
          37.1,
          41.1,
          38.7,
          35.1,
          35.2,
          35.8,
          34.6,
          37,
          38.2,
          34.8
         ],
         "yaxis": "y"
        },
        {
         "hovertemplate": "Pays=Slovaquie<br>Time=%{x}<br>value=%{y}<extra></extra>",
         "legendgroup": "Slovaquie",
         "line": {
          "color": "#19d3f3",
          "dash": "solid"
         },
         "marker": {
          "symbol": "circle"
         },
         "mode": "lines",
         "name": "Slovaquie",
         "orientation": "v",
         "showlegend": true,
         "type": "scatter",
         "x": [
          1995,
          1996,
          1997,
          1998,
          1999,
          2000,
          2001,
          2002,
          2003,
          2004,
          2005,
          2006,
          2007,
          2008,
          2009,
          2010,
          2011,
          2012,
          2013,
          2014,
          2015,
          2016,
          2017,
          2018,
          2019
         ],
         "xaxis": "x",
         "y": [
          67.7,
          67.5,
          67.6,
          64.9,
          63.9,
          60.9,
          65.6,
          62.6,
          63.6,
          64.7,
          70.2,
          65.7,
          63.5,
          65.8,
          59.5,
          61.7,
          60,
          54.9,
          53.1,
          53.1,
          53.7,
          54.2,
          56.1,
          57.5,
          53
         ],
         "yaxis": "y"
        },
        {
         "hovertemplate": "Pays=Slovénie<br>Time=%{x}<br>value=%{y}<extra></extra>",
         "legendgroup": "Slovénie",
         "line": {
          "color": "#FF6692",
          "dash": "solid"
         },
         "marker": {
          "symbol": "circle"
         },
         "mode": "lines",
         "name": "Slovénie",
         "orientation": "v",
         "showlegend": true,
         "type": "scatter",
         "x": [
          1995,
          1996,
          1997,
          1998,
          1999,
          2000,
          2001,
          2002,
          2003,
          2004,
          2005,
          2006,
          2007,
          2008,
          2009,
          2010,
          2011,
          2012,
          2013,
          2014,
          2015,
          2016,
          2017,
          2018,
          2019
         ],
         "xaxis": "x",
         "y": [
          95,
          95.3,
          97.8,
          94,
          89,
          86.6,
          95.3,
          89,
          90.3,
          90.6,
          92.3,
          94.5,
          92.8,
          99.7,
          84.9,
          86.9,
          87.2,
          83.8,
          89.6,
          120.5,
          122.6,
          129.8,
          131.5,
          130.8,
          119.9
         ],
         "yaxis": "y"
        },
        {
         "hovertemplate": "Pays=Suisse<br>Time=%{x}<br>value=%{y}<extra></extra>",
         "legendgroup": "Suisse",
         "line": {
          "color": "#B6E880",
          "dash": "solid"
         },
         "marker": {
          "symbol": "circle"
         },
         "mode": "lines",
         "name": "Suisse",
         "orientation": "v",
         "showlegend": true,
         "type": "scatter",
         "x": [
          1995,
          1996,
          1997,
          1998,
          1999,
          2000,
          2001,
          2002,
          2003,
          2004,
          2005,
          2006,
          2007,
          2008,
          2009,
          2010,
          2011,
          2012,
          2013,
          2014,
          2015,
          2016,
          2017,
          2018,
          2019
         ],
         "xaxis": "x",
         "y": [
          95.7,
          94.3,
          95.4,
          100.4,
          101.3,
          114.4,
          105.5,
          99.1,
          100.3,
          101.1,
          101.9,
          103.3,
          102.3,
          102.9,
          98.2,
          102.2,
          98.3,
          98.7,
          101.3,
          96.9,
          93,
          94,
          93.5,
          93.2,
          90.8
         ],
         "yaxis": "y"
        },
        {
         "hovertemplate": "Pays=Suède<br>Time=%{x}<br>value=%{y}<extra></extra>",
         "legendgroup": "Suède",
         "line": {
          "color": "#FF97FF",
          "dash": "solid"
         },
         "marker": {
          "symbol": "circle"
         },
         "mode": "lines",
         "name": "Suède",
         "orientation": "v",
         "showlegend": true,
         "type": "scatter",
         "x": [
          1995,
          1996,
          1997,
          1998,
          1999,
          2000,
          2001,
          2002,
          2003,
          2004,
          2005,
          2006,
          2007,
          2008,
          2009,
          2010,
          2011,
          2012,
          2013,
          2014,
          2015,
          2016,
          2017,
          2018,
          2019
         ],
         "xaxis": "x",
         "y": [
          106.3,
          111.1,
          95,
          93.3,
          86.2,
          77.9,
          77.8,
          80.1,
          88.3,
          105.3,
          100.6,
          72.7,
          88.9,
          79.8,
          67.1,
          78,
          66.1,
          56.1,
          57.6,
          53.3,
          59.1,
          46.3,
          52.1,
          54.6,
          50.2
         ],
         "yaxis": "y"
        },
        {
         "hovertemplate": "Pays=Tchéquie<br>Time=%{x}<br>value=%{y}<extra></extra>",
         "legendgroup": "Tchéquie",
         "line": {
          "color": "#FECB52",
          "dash": "solid"
         },
         "marker": {
          "symbol": "circle"
         },
         "mode": "lines",
         "name": "Tchéquie",
         "orientation": "v",
         "showlegend": true,
         "type": "scatter",
         "x": [
          1995,
          1996,
          1997,
          1998,
          1999,
          2000,
          2001,
          2002,
          2003,
          2004,
          2005,
          2006,
          2007,
          2008,
          2009,
          2010,
          2011,
          2012,
          2013,
          2014,
          2015,
          2016,
          2017,
          2018,
          2019
         ],
         "xaxis": "x",
         "y": [
          77.8,
          79.3,
          77.5,
          74.2,
          69.1,
          73.9,
          73.8,
          72,
          74.3,
          74.8,
          73.6,
          75.4,
          77.1,
          73,
          67.9,
          69.7,
          68.3,
          66,
          63.5,
          62.4,
          63.5,
          65,
          66.7,
          69.9,
          71.8
         ],
         "yaxis": "y"
        },
        {
         "hovertemplate": "Pays=Union européenne - 27 pays (à partir de 2020)<br>Time=%{x}<br>value=%{y}<extra></extra>",
         "legendgroup": "Union européenne - 27 pays (à partir de 2020)",
         "line": {
          "color": "#636efa",
          "dash": "solid"
         },
         "marker": {
          "symbol": "circle"
         },
         "mode": "lines",
         "name": "Union européenne - 27 pays (à partir de 2020)",
         "orientation": "v",
         "showlegend": true,
         "type": "scatter",
         "x": [
          1995,
          1996,
          1997,
          1998,
          1999,
          2000,
          2001,
          2002,
          2003,
          2004,
          2005,
          2006,
          2007,
          2008,
          2009,
          2010,
          2011,
          2012,
          2013,
          2014,
          2015,
          2016,
          2017,
          2018,
          2019
         ],
         "xaxis": "x",
         "y": [
          91.7,
          93.3,
          91.9,
          90.8,
          89.1,
          89.7,
          90.2,
          90.1,
          92.5,
          92.1,
          91.8,
          91.5,
          91.8,
          88.9,
          81.8,
          84.1,
          81.9,
          80.1,
          78.3,
          75.8,
          77.1,
          77.3,
          78.9,
          77,
          74.1
         ],
         "yaxis": "y"
        }
       ],
       "layout": {
        "legend": {
         "title": {
          "text": "Pays"
         },
         "tracegroupgap": 0
        },
        "margin": {
         "t": 60
        },
        "template": {
         "data": {
          "bar": [
           {
            "error_x": {
             "color": "#2a3f5f"
            },
            "error_y": {
             "color": "#2a3f5f"
            },
            "marker": {
             "line": {
              "color": "#E5ECF6",
              "width": 0.5
             },
             "pattern": {
              "fillmode": "overlay",
              "size": 10,
              "solidity": 0.2
             }
            },
            "type": "bar"
           }
          ],
          "barpolar": [
           {
            "marker": {
             "line": {
              "color": "#E5ECF6",
              "width": 0.5
             },
             "pattern": {
              "fillmode": "overlay",
              "size": 10,
              "solidity": 0.2
             }
            },
            "type": "barpolar"
           }
          ],
          "carpet": [
           {
            "aaxis": {
             "endlinecolor": "#2a3f5f",
             "gridcolor": "white",
             "linecolor": "white",
             "minorgridcolor": "white",
             "startlinecolor": "#2a3f5f"
            },
            "baxis": {
             "endlinecolor": "#2a3f5f",
             "gridcolor": "white",
             "linecolor": "white",
             "minorgridcolor": "white",
             "startlinecolor": "#2a3f5f"
            },
            "type": "carpet"
           }
          ],
          "choropleth": [
           {
            "colorbar": {
             "outlinewidth": 0,
             "ticks": ""
            },
            "type": "choropleth"
           }
          ],
          "contour": [
           {
            "colorbar": {
             "outlinewidth": 0,
             "ticks": ""
            },
            "colorscale": [
             [
              0,
              "#0d0887"
             ],
             [
              0.1111111111111111,
              "#46039f"
             ],
             [
              0.2222222222222222,
              "#7201a8"
             ],
             [
              0.3333333333333333,
              "#9c179e"
             ],
             [
              0.4444444444444444,
              "#bd3786"
             ],
             [
              0.5555555555555556,
              "#d8576b"
             ],
             [
              0.6666666666666666,
              "#ed7953"
             ],
             [
              0.7777777777777778,
              "#fb9f3a"
             ],
             [
              0.8888888888888888,
              "#fdca26"
             ],
             [
              1,
              "#f0f921"
             ]
            ],
            "type": "contour"
           }
          ],
          "contourcarpet": [
           {
            "colorbar": {
             "outlinewidth": 0,
             "ticks": ""
            },
            "type": "contourcarpet"
           }
          ],
          "heatmap": [
           {
            "colorbar": {
             "outlinewidth": 0,
             "ticks": ""
            },
            "colorscale": [
             [
              0,
              "#0d0887"
             ],
             [
              0.1111111111111111,
              "#46039f"
             ],
             [
              0.2222222222222222,
              "#7201a8"
             ],
             [
              0.3333333333333333,
              "#9c179e"
             ],
             [
              0.4444444444444444,
              "#bd3786"
             ],
             [
              0.5555555555555556,
              "#d8576b"
             ],
             [
              0.6666666666666666,
              "#ed7953"
             ],
             [
              0.7777777777777778,
              "#fb9f3a"
             ],
             [
              0.8888888888888888,
              "#fdca26"
             ],
             [
              1,
              "#f0f921"
             ]
            ],
            "type": "heatmap"
           }
          ],
          "heatmapgl": [
           {
            "colorbar": {
             "outlinewidth": 0,
             "ticks": ""
            },
            "colorscale": [
             [
              0,
              "#0d0887"
             ],
             [
              0.1111111111111111,
              "#46039f"
             ],
             [
              0.2222222222222222,
              "#7201a8"
             ],
             [
              0.3333333333333333,
              "#9c179e"
             ],
             [
              0.4444444444444444,
              "#bd3786"
             ],
             [
              0.5555555555555556,
              "#d8576b"
             ],
             [
              0.6666666666666666,
              "#ed7953"
             ],
             [
              0.7777777777777778,
              "#fb9f3a"
             ],
             [
              0.8888888888888888,
              "#fdca26"
             ],
             [
              1,
              "#f0f921"
             ]
            ],
            "type": "heatmapgl"
           }
          ],
          "histogram": [
           {
            "marker": {
             "pattern": {
              "fillmode": "overlay",
              "size": 10,
              "solidity": 0.2
             }
            },
            "type": "histogram"
           }
          ],
          "histogram2d": [
           {
            "colorbar": {
             "outlinewidth": 0,
             "ticks": ""
            },
            "colorscale": [
             [
              0,
              "#0d0887"
             ],
             [
              0.1111111111111111,
              "#46039f"
             ],
             [
              0.2222222222222222,
              "#7201a8"
             ],
             [
              0.3333333333333333,
              "#9c179e"
             ],
             [
              0.4444444444444444,
              "#bd3786"
             ],
             [
              0.5555555555555556,
              "#d8576b"
             ],
             [
              0.6666666666666666,
              "#ed7953"
             ],
             [
              0.7777777777777778,
              "#fb9f3a"
             ],
             [
              0.8888888888888888,
              "#fdca26"
             ],
             [
              1,
              "#f0f921"
             ]
            ],
            "type": "histogram2d"
           }
          ],
          "histogram2dcontour": [
           {
            "colorbar": {
             "outlinewidth": 0,
             "ticks": ""
            },
            "colorscale": [
             [
              0,
              "#0d0887"
             ],
             [
              0.1111111111111111,
              "#46039f"
             ],
             [
              0.2222222222222222,
              "#7201a8"
             ],
             [
              0.3333333333333333,
              "#9c179e"
             ],
             [
              0.4444444444444444,
              "#bd3786"
             ],
             [
              0.5555555555555556,
              "#d8576b"
             ],
             [
              0.6666666666666666,
              "#ed7953"
             ],
             [
              0.7777777777777778,
              "#fb9f3a"
             ],
             [
              0.8888888888888888,
              "#fdca26"
             ],
             [
              1,
              "#f0f921"
             ]
            ],
            "type": "histogram2dcontour"
           }
          ],
          "mesh3d": [
           {
            "colorbar": {
             "outlinewidth": 0,
             "ticks": ""
            },
            "type": "mesh3d"
           }
          ],
          "parcoords": [
           {
            "line": {
             "colorbar": {
              "outlinewidth": 0,
              "ticks": ""
             }
            },
            "type": "parcoords"
           }
          ],
          "pie": [
           {
            "automargin": true,
            "type": "pie"
           }
          ],
          "scatter": [
           {
            "fillpattern": {
             "fillmode": "overlay",
             "size": 10,
             "solidity": 0.2
            },
            "type": "scatter"
           }
          ],
          "scatter3d": [
           {
            "line": {
             "colorbar": {
              "outlinewidth": 0,
              "ticks": ""
             }
            },
            "marker": {
             "colorbar": {
              "outlinewidth": 0,
              "ticks": ""
             }
            },
            "type": "scatter3d"
           }
          ],
          "scattercarpet": [
           {
            "marker": {
             "colorbar": {
              "outlinewidth": 0,
              "ticks": ""
             }
            },
            "type": "scattercarpet"
           }
          ],
          "scattergeo": [
           {
            "marker": {
             "colorbar": {
              "outlinewidth": 0,
              "ticks": ""
             }
            },
            "type": "scattergeo"
           }
          ],
          "scattergl": [
           {
            "marker": {
             "colorbar": {
              "outlinewidth": 0,
              "ticks": ""
             }
            },
            "type": "scattergl"
           }
          ],
          "scattermapbox": [
           {
            "marker": {
             "colorbar": {
              "outlinewidth": 0,
              "ticks": ""
             }
            },
            "type": "scattermapbox"
           }
          ],
          "scatterpolar": [
           {
            "marker": {
             "colorbar": {
              "outlinewidth": 0,
              "ticks": ""
             }
            },
            "type": "scatterpolar"
           }
          ],
          "scatterpolargl": [
           {
            "marker": {
             "colorbar": {
              "outlinewidth": 0,
              "ticks": ""
             }
            },
            "type": "scatterpolargl"
           }
          ],
          "scatterternary": [
           {
            "marker": {
             "colorbar": {
              "outlinewidth": 0,
              "ticks": ""
             }
            },
            "type": "scatterternary"
           }
          ],
          "surface": [
           {
            "colorbar": {
             "outlinewidth": 0,
             "ticks": ""
            },
            "colorscale": [
             [
              0,
              "#0d0887"
             ],
             [
              0.1111111111111111,
              "#46039f"
             ],
             [
              0.2222222222222222,
              "#7201a8"
             ],
             [
              0.3333333333333333,
              "#9c179e"
             ],
             [
              0.4444444444444444,
              "#bd3786"
             ],
             [
              0.5555555555555556,
              "#d8576b"
             ],
             [
              0.6666666666666666,
              "#ed7953"
             ],
             [
              0.7777777777777778,
              "#fb9f3a"
             ],
             [
              0.8888888888888888,
              "#fdca26"
             ],
             [
              1,
              "#f0f921"
             ]
            ],
            "type": "surface"
           }
          ],
          "table": [
           {
            "cells": {
             "fill": {
              "color": "#EBF0F8"
             },
             "line": {
              "color": "white"
             }
            },
            "header": {
             "fill": {
              "color": "#C8D4E3"
             },
             "line": {
              "color": "white"
             }
            },
            "type": "table"
           }
          ]
         },
         "layout": {
          "annotationdefaults": {
           "arrowcolor": "#2a3f5f",
           "arrowhead": 0,
           "arrowwidth": 1
          },
          "autotypenumbers": "strict",
          "coloraxis": {
           "colorbar": {
            "outlinewidth": 0,
            "ticks": ""
           }
          },
          "colorscale": {
           "diverging": [
            [
             0,
             "#8e0152"
            ],
            [
             0.1,
             "#c51b7d"
            ],
            [
             0.2,
             "#de77ae"
            ],
            [
             0.3,
             "#f1b6da"
            ],
            [
             0.4,
             "#fde0ef"
            ],
            [
             0.5,
             "#f7f7f7"
            ],
            [
             0.6,
             "#e6f5d0"
            ],
            [
             0.7,
             "#b8e186"
            ],
            [
             0.8,
             "#7fbc41"
            ],
            [
             0.9,
             "#4d9221"
            ],
            [
             1,
             "#276419"
            ]
           ],
           "sequential": [
            [
             0,
             "#0d0887"
            ],
            [
             0.1111111111111111,
             "#46039f"
            ],
            [
             0.2222222222222222,
             "#7201a8"
            ],
            [
             0.3333333333333333,
             "#9c179e"
            ],
            [
             0.4444444444444444,
             "#bd3786"
            ],
            [
             0.5555555555555556,
             "#d8576b"
            ],
            [
             0.6666666666666666,
             "#ed7953"
            ],
            [
             0.7777777777777778,
             "#fb9f3a"
            ],
            [
             0.8888888888888888,
             "#fdca26"
            ],
            [
             1,
             "#f0f921"
            ]
           ],
           "sequentialminus": [
            [
             0,
             "#0d0887"
            ],
            [
             0.1111111111111111,
             "#46039f"
            ],
            [
             0.2222222222222222,
             "#7201a8"
            ],
            [
             0.3333333333333333,
             "#9c179e"
            ],
            [
             0.4444444444444444,
             "#bd3786"
            ],
            [
             0.5555555555555556,
             "#d8576b"
            ],
            [
             0.6666666666666666,
             "#ed7953"
            ],
            [
             0.7777777777777778,
             "#fb9f3a"
            ],
            [
             0.8888888888888888,
             "#fdca26"
            ],
            [
             1,
             "#f0f921"
            ]
           ]
          },
          "colorway": [
           "#636efa",
           "#EF553B",
           "#00cc96",
           "#ab63fa",
           "#FFA15A",
           "#19d3f3",
           "#FF6692",
           "#B6E880",
           "#FF97FF",
           "#FECB52"
          ],
          "font": {
           "color": "#2a3f5f"
          },
          "geo": {
           "bgcolor": "white",
           "lakecolor": "white",
           "landcolor": "#E5ECF6",
           "showlakes": true,
           "showland": true,
           "subunitcolor": "white"
          },
          "hoverlabel": {
           "align": "left"
          },
          "hovermode": "closest",
          "mapbox": {
           "style": "light"
          },
          "paper_bgcolor": "white",
          "plot_bgcolor": "#E5ECF6",
          "polar": {
           "angularaxis": {
            "gridcolor": "white",
            "linecolor": "white",
            "ticks": ""
           },
           "bgcolor": "#E5ECF6",
           "radialaxis": {
            "gridcolor": "white",
            "linecolor": "white",
            "ticks": ""
           }
          },
          "scene": {
           "xaxis": {
            "backgroundcolor": "#E5ECF6",
            "gridcolor": "white",
            "gridwidth": 2,
            "linecolor": "white",
            "showbackground": true,
            "ticks": "",
            "zerolinecolor": "white"
           },
           "yaxis": {
            "backgroundcolor": "#E5ECF6",
            "gridcolor": "white",
            "gridwidth": 2,
            "linecolor": "white",
            "showbackground": true,
            "ticks": "",
            "zerolinecolor": "white"
           },
           "zaxis": {
            "backgroundcolor": "#E5ECF6",
            "gridcolor": "white",
            "gridwidth": 2,
            "linecolor": "white",
            "showbackground": true,
            "ticks": "",
            "zerolinecolor": "white"
           }
          },
          "shapedefaults": {
           "line": {
            "color": "#2a3f5f"
           }
          },
          "ternary": {
           "aaxis": {
            "gridcolor": "white",
            "linecolor": "white",
            "ticks": ""
           },
           "baxis": {
            "gridcolor": "white",
            "linecolor": "white",
            "ticks": ""
           },
           "bgcolor": "#E5ECF6",
           "caxis": {
            "gridcolor": "white",
            "linecolor": "white",
            "ticks": ""
           }
          },
          "title": {
           "x": 0.05
          },
          "xaxis": {
           "automargin": true,
           "gridcolor": "white",
           "linecolor": "white",
           "ticks": "",
           "title": {
            "standoff": 15
           },
           "zerolinecolor": "white",
           "zerolinewidth": 2
          },
          "yaxis": {
           "automargin": true,
           "gridcolor": "white",
           "linecolor": "white",
           "ticks": "",
           "title": {
            "standoff": 15
           },
           "zerolinecolor": "white",
           "zerolinewidth": 2
          }
         }
        },
        "xaxis": {
         "anchor": "y",
         "domain": [
          0,
          1
         ],
         "title": {
          "text": "Time"
         }
        },
        "yaxis": {
         "anchor": "x",
         "domain": [
          0,
          1
         ],
         "title": {
          "text": "value"
         }
        }
       }
      }
     },
     "metadata": {},
     "output_type": "display_data"
    }
   ],
   "source": [
    "I90_clean_df_pivot.plot()"
   ]
  },
  {
   "cell_type": "code",
   "execution_count": 75,
   "metadata": {},
   "outputs": [
    {
     "data": {
      "application/vnd.plotly.v1+json": {
       "config": {
        "plotlyServerURL": "https://plot.ly"
       },
       "data": [
        {
         "hovertemplate": "Pays=Allemagne<br>Time=%{x}<br>value=%{y}<extra></extra>",
         "legendgroup": "Allemagne",
         "line": {
          "color": "#636efa",
          "dash": "solid"
         },
         "marker": {
          "symbol": "circle"
         },
         "mode": "lines",
         "name": "Allemagne",
         "orientation": "v",
         "showlegend": true,
         "type": "scatter",
         "x": [
          1995,
          1996,
          1997,
          1998,
          1999,
          2000,
          2001,
          2002,
          2003,
          2004,
          2005,
          2006,
          2007,
          2008,
          2009,
          2010,
          2011,
          2012,
          2013,
          2014,
          2015,
          2016,
          2017,
          2018,
          2019
         ],
         "xaxis": "x",
         "y": [
          13.5,
          13.8,
          13.3,
          13,
          12.6,
          12.7,
          12.8,
          12.8,
          12.8,
          12.6,
          12.3,
          12.4,
          12.2,
          12.1,
          11.2,
          11.7,
          11.6,
          11.6,
          11.8,
          11.2,
          11.1,
          11.1,
          10.9,
          10.5,
          9.9
         ],
         "yaxis": "y"
        },
        {
         "hovertemplate": "Pays=Autriche<br>Time=%{x}<br>value=%{y}<extra></extra>",
         "legendgroup": "Autriche",
         "line": {
          "color": "#EF553B",
          "dash": "solid"
         },
         "marker": {
          "symbol": "circle"
         },
         "mode": "lines",
         "name": "Autriche",
         "orientation": "v",
         "showlegend": true,
         "type": "scatter",
         "x": [
          1995,
          1996,
          1997,
          1998,
          1999,
          2000,
          2001,
          2002,
          2003,
          2004,
          2005,
          2006,
          2007,
          2008,
          2009,
          2010,
          2011,
          2012,
          2013,
          2014,
          2015,
          2016,
          2017,
          2018,
          2019
         ],
         "xaxis": "x",
         "y": [
          8.5,
          9.2,
          8.1,
          8.2,
          7.7,
          8.1,
          8.2,
          9,
          10.8,
          10.2,
          10.1,
          10.5,
          10.1,
          10.2,
          9.3,
          9.6,
          9.3,
          9,
          9.1,
          8.6,
          8.8,
          8.9,
          9,
          8.6,
          8.8
         ],
         "yaxis": "y"
        },
        {
         "hovertemplate": "Pays=Belgique<br>Time=%{x}<br>value=%{y}<extra></extra>",
         "legendgroup": "Belgique",
         "line": {
          "color": "#00cc96",
          "dash": "solid"
         },
         "marker": {
          "symbol": "circle"
         },
         "mode": "lines",
         "name": "Belgique",
         "orientation": "v",
         "showlegend": true,
         "type": "scatter",
         "x": [
          1995,
          1996,
          1997,
          1998,
          1999,
          2000,
          2001,
          2002,
          2003,
          2004,
          2005,
          2006,
          2007,
          2008,
          2009,
          2010,
          2011,
          2012,
          2013,
          2014,
          2015,
          2016,
          2017,
          2018,
          2019
         ],
         "xaxis": "x",
         "y": [
          15.2,
          15.6,
          14.7,
          15.2,
          14.7,
          14.8,
          14.6,
          14.4,
          14.4,
          14.4,
          14,
          13.7,
          13.3,
          13.2,
          11.9,
          12.5,
          11.5,
          11.1,
          11,
          10.4,
          10.8,
          10.6,
          10.6,
          10.7,
          10.5
         ],
         "yaxis": "y"
        },
        {
         "hovertemplate": "Pays=Bulgarie<br>Time=%{x}<br>value=%{y}<extra></extra>",
         "legendgroup": "Bulgarie",
         "line": {
          "color": "#ab63fa",
          "dash": "solid"
         },
         "marker": {
          "symbol": "circle"
         },
         "mode": "lines",
         "name": "Bulgarie",
         "orientation": "v",
         "showlegend": true,
         "type": "scatter",
         "x": [
          1995,
          1996,
          1997,
          1998,
          1999,
          2000,
          2001,
          2002,
          2003,
          2004,
          2005,
          2006,
          2007,
          2008,
          2009,
          2010,
          2011,
          2012,
          2013,
          2014,
          2015,
          2016,
          2017,
          2018,
          2019
         ],
         "xaxis": "x",
         "y": [
          6.6,
          6.6,
          6.3,
          5.9,
          5.1,
          4.9,
          5.8,
          5.6,
          6.3,
          6.2,
          6.1,
          6.6,
          7,
          7.1,
          6,
          6.4,
          7.6,
          7,
          6.5,
          6.7,
          7.3,
          7,
          7.4,
          6.9,
          6.8
         ],
         "yaxis": "y"
        },
        {
         "hovertemplate": "Pays=Chypre<br>Time=%{x}<br>value=%{y}<extra></extra>",
         "legendgroup": "Chypre",
         "line": {
          "color": "#FFA15A",
          "dash": "solid"
         },
         "marker": {
          "symbol": "circle"
         },
         "mode": "lines",
         "name": "Chypre",
         "orientation": "v",
         "showlegend": true,
         "type": "scatter",
         "x": [
          1995,
          1996,
          1997,
          1998,
          1999,
          2000,
          2001,
          2002,
          2003,
          2004,
          2005,
          2006,
          2007,
          2008,
          2009,
          2010,
          2011,
          2012,
          2013,
          2014,
          2015,
          2016,
          2017,
          2018,
          2019
         ],
         "xaxis": "x",
         "y": [
          11.6,
          11.9,
          11.9,
          12.4,
          12.5,
          13.1,
          12.9,
          12.9,
          13.4,
          13.4,
          13.2,
          13.2,
          13.6,
          13.3,
          12.6,
          11.9,
          11.3,
          10.5,
          9.6,
          10.1,
          10.2,
          11.3,
          11.1,
          10.9,
          10.8
         ],
         "yaxis": "y"
        },
        {
         "hovertemplate": "Pays=Croatie<br>Time=%{x}<br>value=%{y}<extra></extra>",
         "legendgroup": "Croatie",
         "line": {
          "color": "#19d3f3",
          "dash": "solid"
         },
         "marker": {
          "symbol": "circle"
         },
         "mode": "lines",
         "name": "Croatie",
         "orientation": "v",
         "showlegend": true,
         "type": "scatter",
         "x": [
          1995,
          1996,
          1997,
          1998,
          1999,
          2000,
          2001,
          2002,
          2003,
          2004,
          2005,
          2006,
          2007,
          2008,
          2009,
          2010,
          2011,
          2012,
          2013,
          2014,
          2015,
          2016,
          2017,
          2018,
          2019
         ],
         "xaxis": "x",
         "y": [
          3,
          3.2,
          3.7,
          3.7,
          3.9,
          4.2,
          4.5,
          4.6,
          5.1,
          5.1,
          5.1,
          5.3,
          5.8,
          5.5,
          4.9,
          4.9,
          5.1,
          4.8,
          4.4,
          4.2,
          4.5,
          4.5,
          4.9,
          4.6,
          4.6
         ],
         "yaxis": "y"
        },
        {
         "hovertemplate": "Pays=Danemark<br>Time=%{x}<br>value=%{y}<extra></extra>",
         "legendgroup": "Danemark",
         "line": {
          "color": "#FF6692",
          "dash": "solid"
         },
         "marker": {
          "symbol": "circle"
         },
         "mode": "lines",
         "name": "Danemark",
         "orientation": "v",
         "showlegend": true,
         "type": "scatter",
         "x": [
          1995,
          1996,
          1997,
          1998,
          1999,
          2000,
          2001,
          2002,
          2003,
          2004,
          2005,
          2006,
          2007,
          2008,
          2009,
          2010,
          2011,
          2012,
          2013,
          2014,
          2015,
          2016,
          2017,
          2018,
          2019
         ],
         "xaxis": "x",
         "y": [
          16.3,
          18.6,
          16.8,
          15.9,
          15.5,
          14.6,
          14.7,
          14.7,
          15.6,
          14.4,
          13.6,
          15,
          14.2,
          13.2,
          12.4,
          12.3,
          11.2,
          10.2,
          10.5,
          9.8,
          9.1,
          9.6,
          9.2,
          9.4,
          8.6
         ],
         "yaxis": "y"
        },
        {
         "hovertemplate": "Pays=Espagne<br>Time=%{x}<br>value=%{y}<extra></extra>",
         "legendgroup": "Espagne",
         "line": {
          "color": "#B6E880",
          "dash": "solid"
         },
         "marker": {
          "symbol": "circle"
         },
         "mode": "lines",
         "name": "Espagne",
         "orientation": "v",
         "showlegend": true,
         "type": "scatter",
         "x": [
          1995,
          1996,
          1997,
          1998,
          1999,
          2000,
          2001,
          2002,
          2003,
          2004,
          2005,
          2006,
          2007,
          2008,
          2009,
          2010,
          2011,
          2012,
          2013,
          2014,
          2015,
          2016,
          2017,
          2018,
          2019
         ],
         "xaxis": "x",
         "y": [
          7.6,
          7.4,
          7.7,
          7.9,
          8.5,
          8.8,
          8.7,
          9,
          9.1,
          9.3,
          9.5,
          9.2,
          9.3,
          8.4,
          7.5,
          7.2,
          7.1,
          7,
          6.5,
          6.5,
          6.7,
          6.5,
          6.8,
          6.7,
          6.3
         ],
         "yaxis": "y"
        },
        {
         "hovertemplate": "Pays=Estonie<br>Time=%{x}<br>value=%{y}<extra></extra>",
         "legendgroup": "Estonie",
         "line": {
          "color": "#FF97FF",
          "dash": "solid"
         },
         "marker": {
          "symbol": "circle"
         },
         "mode": "lines",
         "name": "Estonie",
         "orientation": "v",
         "showlegend": true,
         "type": "scatter",
         "x": [
          1995,
          1996,
          1997,
          1998,
          1999,
          2000,
          2001,
          2002,
          2003,
          2004,
          2005,
          2006,
          2007,
          2008,
          2009,
          2010,
          2011,
          2012,
          2013,
          2014,
          2015,
          2016,
          2017,
          2018,
          2019
         ],
         "xaxis": "x",
         "y": [
          12.4,
          13,
          12.8,
          11.3,
          10.8,
          9.9,
          10.1,
          9.9,
          10.5,
          11.5,
          13.5,
          12.3,
          14.9,
          12.4,
          10,
          12.7,
          12.6,
          12.3,
          14.1,
          14.9,
          11.9,
          13,
          14.7,
          15,
          10.7
         ],
         "yaxis": "y"
        },
        {
         "hovertemplate": "Pays=Finlande<br>Time=%{x}<br>value=%{y}<extra></extra>",
         "legendgroup": "Finlande",
         "line": {
          "color": "#FECB52",
          "dash": "solid"
         },
         "marker": {
          "symbol": "circle"
         },
         "mode": "lines",
         "name": "Finlande",
         "orientation": "v",
         "showlegend": true,
         "type": "scatter",
         "x": [
          1995,
          1996,
          1997,
          1998,
          1999,
          2000,
          2001,
          2002,
          2003,
          2004,
          2005,
          2006,
          2007,
          2008,
          2009,
          2010,
          2011,
          2012,
          2013,
          2014,
          2015,
          2016,
          2017,
          2018,
          2019
         ],
         "xaxis": "x",
         "y": [
          11.6,
          11.4,
          12,
          11.5,
          11.2,
          10.9,
          11.6,
          11.8,
          13,
          12.1,
          9.7,
          10.8,
          12.1,
          10,
          6.9,
          10.5,
          9,
          7.5,
          8.7,
          7.4,
          7.1,
          7.8,
          7.6,
          9.2,
          7.4
         ],
         "yaxis": "y"
        },
        {
         "hovertemplate": "Pays=France<br>Time=%{x}<br>value=%{y}<extra></extra>",
         "legendgroup": "France",
         "line": {
          "color": "#636efa",
          "dash": "solid"
         },
         "marker": {
          "symbol": "circle"
         },
         "mode": "lines",
         "name": "France",
         "orientation": "v",
         "showlegend": true,
         "type": "scatter",
         "x": [
          1995,
          1996,
          1997,
          1998,
          1999,
          2000,
          2001,
          2002,
          2003,
          2004,
          2005,
          2006,
          2007,
          2008,
          2009,
          2010,
          2011,
          2012,
          2013,
          2014,
          2015,
          2016,
          2017,
          2018,
          2019
         ],
         "xaxis": "x",
         "y": [
          8.8,
          9,
          8.9,
          9,
          8.9,
          9,
          8.8,
          8.5,
          8.5,
          8.3,
          8.3,
          8.1,
          7.9,
          7.7,
          7.5,
          7.5,
          7.1,
          7.1,
          7,
          6.6,
          6.7,
          6.6,
          6.7,
          6.4,
          6.3
         ],
         "yaxis": "y"
        },
        {
         "hovertemplate": "Pays=Grèce<br>Time=%{x}<br>value=%{y}<extra></extra>",
         "legendgroup": "Grèce",
         "line": {
          "color": "#EF553B",
          "dash": "solid"
         },
         "marker": {
          "symbol": "circle"
         },
         "mode": "lines",
         "name": "Grèce",
         "orientation": "v",
         "showlegend": true,
         "type": "scatter",
         "x": [
          1995,
          1996,
          1997,
          1998,
          1999,
          2000,
          2001,
          2002,
          2003,
          2004,
          2005,
          2006,
          2007,
          2008,
          2009,
          2010,
          2011,
          2012,
          2013,
          2014,
          2015,
          2016,
          2017,
          2018,
          2019
         ],
         "xaxis": "x",
         "y": [
          10.3,
          10.6,
          11.1,
          11.5,
          11.5,
          11.8,
          11.7,
          11.7,
          12.1,
          12.1,
          12.4,
          12,
          12.4,
          11.9,
          11.2,
          10.6,
          10.4,
          10.1,
          9.4,
          9.4,
          8.7,
          8.5,
          8.9,
          8.6,
          8
         ],
         "yaxis": "y"
        },
        {
         "hovertemplate": "Pays=Hongrie<br>Time=%{x}<br>value=%{y}<extra></extra>",
         "legendgroup": "Hongrie",
         "line": {
          "color": "#00cc96",
          "dash": "solid"
         },
         "marker": {
          "symbol": "circle"
         },
         "mode": "lines",
         "name": "Hongrie",
         "orientation": "v",
         "showlegend": true,
         "type": "scatter",
         "x": [
          1995,
          1996,
          1997,
          1998,
          1999,
          2000,
          2001,
          2002,
          2003,
          2004,
          2005,
          2006,
          2007,
          2008,
          2009,
          2010,
          2011,
          2012,
          2013,
          2014,
          2015,
          2016,
          2017,
          2018,
          2019
         ],
         "xaxis": "x",
         "y": [
          6.9,
          7.5,
          7.4,
          7.2,
          7.5,
          7.3,
          7.4,
          7.2,
          7.3,
          7.3,
          7.1,
          7.2,
          7,
          6.6,
          6.2,
          6.2,
          6.1,
          5.7,
          5.5,
          5.4,
          5.7,
          5.9,
          6.1,
          6.2,
          6.1
         ],
         "yaxis": "y"
        },
        {
         "hovertemplate": "Pays=Irlande<br>Time=%{x}<br>value=%{y}<extra></extra>",
         "legendgroup": "Irlande",
         "line": {
          "color": "#ab63fa",
          "dash": "solid"
         },
         "marker": {
          "symbol": "circle"
         },
         "mode": "lines",
         "name": "Irlande",
         "orientation": "v",
         "showlegend": true,
         "type": "scatter",
         "x": [
          1995,
          1996,
          1997,
          1998,
          1999,
          2000,
          2001,
          2002,
          2003,
          2004,
          2005,
          2006,
          2007,
          2008,
          2009,
          2010,
          2011,
          2012,
          2013,
          2014,
          2015,
          2016,
          2017,
          2018,
          2019
         ],
         "xaxis": "x",
         "y": [
          18.2,
          18.5,
          18.6,
          19,
          19.2,
          20,
          20.7,
          19.8,
          19.6,
          18.7,
          18.9,
          18.5,
          17.6,
          16.9,
          15.3,
          15.5,
          14.3,
          14.1,
          14.1,
          14.2,
          14.6,
          14.7,
          14.9,
          14.5,
          13.7
         ],
         "yaxis": "y"
        },
        {
         "hovertemplate": "Pays=Islande<br>Time=%{x}<br>value=%{y}<extra></extra>",
         "legendgroup": "Islande",
         "line": {
          "color": "#FFA15A",
          "dash": "solid"
         },
         "marker": {
          "symbol": "circle"
         },
         "mode": "lines",
         "name": "Islande",
         "orientation": "v",
         "showlegend": true,
         "type": "scatter",
         "x": [
          1995,
          1996,
          1997,
          1998,
          1999,
          2000,
          2001,
          2002,
          2003,
          2004,
          2005,
          2006,
          2007,
          2008,
          2009,
          2010,
          2011,
          2012,
          2013,
          2014,
          2015,
          2016,
          2017,
          2018,
          2019
         ],
         "xaxis": "x",
         "y": [
          48.3,
          48.4,
          48.7,
          48.8,
          49.2,
          48.8,
          47.6,
          47.5,
          47.1,
          47.2,
          46.1,
          47.4,
          47.3,
          47.5,
          45.9,
          45.7,
          45,
          44.8,
          44.5,
          44.2,
          44.3,
          44.2,
          43.9,
          43.2,
          40.9
         ],
         "yaxis": "y"
        },
        {
         "hovertemplate": "Pays=Italie<br>Time=%{x}<br>value=%{y}<extra></extra>",
         "legendgroup": "Italie",
         "line": {
          "color": "#19d3f3",
          "dash": "solid"
         },
         "marker": {
          "symbol": "circle"
         },
         "mode": "lines",
         "name": "Italie",
         "orientation": "v",
         "showlegend": true,
         "type": "scatter",
         "x": [
          1995,
          1996,
          1997,
          1998,
          1999,
          2000,
          2001,
          2002,
          2003,
          2004,
          2005,
          2006,
          2007,
          2008,
          2009,
          2010,
          2011,
          2012,
          2013,
          2014,
          2015,
          2016,
          2017,
          2018,
          2019
         ],
         "xaxis": "x",
         "y": [
          9,
          8.9,
          9.2,
          9.5,
          9.4,
          9.5,
          9.4,
          9.4,
          9.8,
          9.7,
          9.7,
          9.5,
          9.7,
          9.1,
          8.1,
          8.2,
          8.1,
          7.9,
          6.9,
          6.5,
          6.7,
          6.7,
          7,
          6.7,
          6.5
         ],
         "yaxis": "y"
        },
        {
         "hovertemplate": "Pays=Lettonie<br>Time=%{x}<br>value=%{y}<extra></extra>",
         "legendgroup": "Lettonie",
         "line": {
          "color": "#FF6692",
          "dash": "solid"
         },
         "marker": {
          "symbol": "circle"
         },
         "mode": "lines",
         "name": "Lettonie",
         "orientation": "v",
         "showlegend": true,
         "type": "scatter",
         "x": [
          1995,
          1996,
          1997,
          1998,
          1999,
          2000,
          2001,
          2002,
          2003,
          2004,
          2005,
          2006,
          2007,
          2008,
          2009,
          2010,
          2011,
          2012,
          2013,
          2014,
          2015,
          2016,
          2017,
          2018,
          2019
         ],
         "xaxis": "x",
         "y": [
          -0.9,
          -0.9,
          -0.4,
          -0.3,
          1,
          -0.7,
          -0.6,
          0.1,
          0.4,
          2,
          2.4,
          2.3,
          2.7,
          2.4,
          3.5,
          4.9,
          4.4,
          3.7,
          4.4,
          6.3,
          5.7,
          4.8,
          4.3,
          5.9,
          5.5
         ],
         "yaxis": "y"
        },
        {
         "hovertemplate": "Pays=Lituanie<br>Time=%{x}<br>value=%{y}<extra></extra>",
         "legendgroup": "Lituanie",
         "line": {
          "color": "#B6E880",
          "dash": "solid"
         },
         "marker": {
          "symbol": "circle"
         },
         "mode": "lines",
         "name": "Lituanie",
         "orientation": "v",
         "showlegend": true,
         "type": "scatter",
         "x": [
          1995,
          1996,
          1997,
          1998,
          1999,
          2000,
          2001,
          2002,
          2003,
          2004,
          2005,
          2006,
          2007,
          2008,
          2009,
          2010,
          2011,
          2012,
          2013,
          2014,
          2015,
          2016,
          2017,
          2018,
          2019
         ],
         "xaxis": "x",
         "y": [
          4.9,
          6.8,
          6.3,
          4.5,
          3.9,
          2.9,
          3.8,
          4.2,
          4.5,
          4.9,
          5.6,
          5.9,
          6,
          5.6,
          4,
          3.4,
          3.6,
          3.8,
          3.7,
          4,
          4.3,
          4.7,
          5,
          5,
          5.5
         ],
         "yaxis": "y"
        },
        {
         "hovertemplate": "Pays=Luxembourg<br>Time=%{x}<br>value=%{y}<extra></extra>",
         "legendgroup": "Luxembourg",
         "line": {
          "color": "#FF97FF",
          "dash": "solid"
         },
         "marker": {
          "symbol": "circle"
         },
         "mode": "lines",
         "name": "Luxembourg",
         "orientation": "v",
         "showlegend": true,
         "type": "scatter",
         "x": [
          1995,
          1996,
          1997,
          1998,
          1999,
          2000,
          2001,
          2002,
          2003,
          2004,
          2005,
          2006,
          2007,
          2008,
          2009,
          2010,
          2011,
          2012,
          2013,
          2014,
          2015,
          2016,
          2017,
          2018,
          2019
         ],
         "xaxis": "x",
         "y": [
          24.6,
          24.5,
          22.7,
          21,
          21.8,
          22.7,
          23.8,
          25.5,
          26.4,
          29.2,
          29.4,
          28.6,
          27.4,
          26.6,
          25,
          26.4,
          25,
          23.6,
          21.8,
          20.8,
          19.8,
          19.1,
          19.5,
          20.1,
          19.7
         ],
         "yaxis": "y"
        },
        {
         "hovertemplate": "Pays=Malte<br>Time=%{x}<br>value=%{y}<extra></extra>",
         "legendgroup": "Malte",
         "line": {
          "color": "#FECB52",
          "dash": "solid"
         },
         "marker": {
          "symbol": "circle"
         },
         "mode": "lines",
         "name": "Malte",
         "orientation": "v",
         "showlegend": true,
         "type": "scatter",
         "x": [
          1995,
          1996,
          1997,
          1998,
          1999,
          2000,
          2001,
          2002,
          2003,
          2004,
          2005,
          2006,
          2007,
          2008,
          2009,
          2010,
          2011,
          2012,
          2013,
          2014,
          2015,
          2016,
          2017,
          2018,
          2019
         ],
         "xaxis": "x",
         "y": [
          8,
          8.3,
          8.3,
          8.1,
          8.3,
          8.1,
          8.2,
          8.2,
          8.9,
          8.5,
          8.1,
          8.2,
          8.4,
          8.2,
          7.7,
          7.9,
          7.9,
          8.3,
          7.5,
          7.5,
          5.8,
          5,
          5.3,
          5.2,
          5.3
         ],
         "yaxis": "y"
        },
        {
         "hovertemplate": "Pays=Norvège<br>Time=%{x}<br>value=%{y}<extra></extra>",
         "legendgroup": "Norvège",
         "line": {
          "color": "#636efa",
          "dash": "solid"
         },
         "marker": {
          "symbol": "circle"
         },
         "mode": "lines",
         "name": "Norvège",
         "orientation": "v",
         "showlegend": true,
         "type": "scatter",
         "x": [
          1995,
          1996,
          1997,
          1998,
          1999,
          2000,
          2001,
          2002,
          2003,
          2004,
          2005,
          2006,
          2007,
          2008,
          2009,
          2010,
          2011,
          2012,
          2013,
          2014,
          2015,
          2016,
          2017,
          2018,
          2019
         ],
         "xaxis": "x",
         "y": [
          8.1,
          9,
          9.3,
          8.8,
          8.7,
          8.1,
          7.9,
          7.4,
          7.1,
          7.2,
          7.6,
          7.2,
          7.4,
          6.8,
          5.5,
          6.6,
          6.1,
          6.7,
          6.5,
          7.2,
          8,
          7.6,
          7.2,
          7,
          6.2
         ],
         "yaxis": "y"
        },
        {
         "hovertemplate": "Pays=Pays-Bas<br>Time=%{x}<br>value=%{y}<extra></extra>",
         "legendgroup": "Pays-Bas",
         "line": {
          "color": "#EF553B",
          "dash": "solid"
         },
         "marker": {
          "symbol": "circle"
         },
         "mode": "lines",
         "name": "Pays-Bas",
         "orientation": "v",
         "showlegend": true,
         "type": "scatter",
         "x": [
          1995,
          1996,
          1997,
          1998,
          1999,
          2000,
          2001,
          2002,
          2003,
          2004,
          2005,
          2006,
          2007,
          2008,
          2009,
          2010,
          2011,
          2012,
          2013,
          2014,
          2015,
          2016,
          2017,
          2018,
          2019
         ],
         "xaxis": "x",
         "y": [
          15.8,
          16.4,
          15.9,
          15.8,
          14.9,
          14.7,
          14.6,
          14.4,
          14.3,
          14.4,
          14,
          13.7,
          13.6,
          13.5,
          13.1,
          13.7,
          12.8,
          12.5,
          12.5,
          12,
          12.4,
          12.3,
          12.1,
          11.8,
          11.4
         ],
         "yaxis": "y"
        },
        {
         "hovertemplate": "Pays=Pologne<br>Time=%{x}<br>value=%{y}<extra></extra>",
         "legendgroup": "Pologne",
         "line": {
          "color": "#00cc96",
          "dash": "solid"
         },
         "marker": {
          "symbol": "circle"
         },
         "mode": "lines",
         "name": "Pologne",
         "orientation": "v",
         "showlegend": true,
         "type": "scatter",
         "x": [
          1995,
          1996,
          1997,
          1998,
          1999,
          2000,
          2001,
          2002,
          2003,
          2004,
          2005,
          2006,
          2007,
          2008,
          2009,
          2010,
          2011,
          2012,
          2013,
          2014,
          2015,
          2016,
          2017,
          2018,
          2019
         ],
         "xaxis": "x",
         "y": [
          11.1,
          11,
          10.7,
          9.8,
          9.6,
          9.4,
          9.6,
          9.1,
          9.4,
          9.3,
          9.3,
          9.9,
          10.1,
          9.9,
          9.4,
          10,
          9.8,
          9.6,
          9.5,
          9.4,
          9.6,
          9.8,
          10.1,
          10,
          10
         ],
         "yaxis": "y"
        },
        {
         "hovertemplate": "Pays=Portugal<br>Time=%{x}<br>value=%{y}<extra></extra>",
         "legendgroup": "Portugal",
         "line": {
          "color": "#ab63fa",
          "dash": "solid"
         },
         "marker": {
          "symbol": "circle"
         },
         "mode": "lines",
         "name": "Portugal",
         "orientation": "v",
         "showlegend": true,
         "type": "scatter",
         "x": [
          1995,
          1996,
          1997,
          1998,
          1999,
          2000,
          2001,
          2002,
          2003,
          2004,
          2005,
          2006,
          2007,
          2008,
          2009,
          2010,
          2011,
          2012,
          2013,
          2014,
          2015,
          2016,
          2017,
          2018,
          2019
         ],
         "xaxis": "x",
         "y": [
          6.6,
          6,
          6.2,
          6.8,
          7.5,
          7.6,
          7.2,
          7.7,
          8.2,
          7.5,
          8.7,
          7.2,
          6.6,
          6.2,
          5.9,
          5.9,
          5.7,
          5.7,
          5.6,
          5.5,
          6,
          6.3,
          8.3,
          6.3,
          5.8
         ],
         "yaxis": "y"
        },
        {
         "hovertemplate": "Pays=Roumanie<br>Time=%{x}<br>value=%{y}<extra></extra>",
         "legendgroup": "Roumanie",
         "line": {
          "color": "#FFA15A",
          "dash": "solid"
         },
         "marker": {
          "symbol": "circle"
         },
         "mode": "lines",
         "name": "Roumanie",
         "orientation": "v",
         "showlegend": true,
         "type": "scatter",
         "x": [
          1995,
          1996,
          1997,
          1998,
          1999,
          2000,
          2001,
          2002,
          2003,
          2004,
          2005,
          2006,
          2007,
          2008,
          2009,
          2010,
          2011,
          2012,
          2013,
          2014,
          2015,
          2016,
          2017,
          2018,
          2019
         ],
         "xaxis": "x",
         "y": [
          7.1,
          7.3,
          6.9,
          6.2,
          5.4,
          5.1,
          5.3,
          5.5,
          5.8,
          5.8,
          5.7,
          5.8,
          5.8,
          5.7,
          4.7,
          4.4,
          4.9,
          4.7,
          4.2,
          4.3,
          4.4,
          4.2,
          4.6,
          4.7,
          4.3
         ],
         "yaxis": "y"
        },
        {
         "hovertemplate": "Pays=Slovaquie<br>Time=%{x}<br>value=%{y}<extra></extra>",
         "legendgroup": "Slovaquie",
         "line": {
          "color": "#19d3f3",
          "dash": "solid"
         },
         "marker": {
          "symbol": "circle"
         },
         "mode": "lines",
         "name": "Slovaquie",
         "orientation": "v",
         "showlegend": true,
         "type": "scatter",
         "x": [
          1995,
          1996,
          1997,
          1998,
          1999,
          2000,
          2001,
          2002,
          2003,
          2004,
          2005,
          2006,
          2007,
          2008,
          2009,
          2010,
          2011,
          2012,
          2013,
          2014,
          2015,
          2016,
          2017,
          2018,
          2019
         ],
         "xaxis": "x",
         "y": [
          8.1,
          8,
          8,
          7.7,
          7.6,
          7.2,
          7.8,
          7.4,
          7.6,
          7.7,
          8.3,
          7.8,
          7.5,
          7.8,
          7.1,
          7.3,
          7.1,
          6.5,
          6.3,
          6.3,
          6.3,
          6.4,
          6.6,
          6.7,
          6.2
         ],
         "yaxis": "y"
        },
        {
         "hovertemplate": "Pays=Slovénie<br>Time=%{x}<br>value=%{y}<extra></extra>",
         "legendgroup": "Slovénie",
         "line": {
          "color": "#FF6692",
          "dash": "solid"
         },
         "marker": {
          "symbol": "circle"
         },
         "mode": "lines",
         "name": "Slovénie",
         "orientation": "v",
         "showlegend": true,
         "type": "scatter",
         "x": [
          1995,
          1996,
          1997,
          1998,
          1999,
          2000,
          2001,
          2002,
          2003,
          2004,
          2005,
          2006,
          2007,
          2008,
          2009,
          2010,
          2011,
          2012,
          2013,
          2014,
          2015,
          2016,
          2017,
          2018,
          2019
         ],
         "xaxis": "x",
         "y": [
          6.8,
          6.8,
          7,
          6.7,
          6.4,
          6.2,
          6.8,
          6.3,
          6.4,
          6.5,
          6.6,
          6.7,
          6.5,
          7,
          5.9,
          6,
          6,
          5.8,
          6.2,
          8.3,
          8.4,
          8.9,
          9,
          9,
          8.2
         ],
         "yaxis": "y"
        },
        {
         "hovertemplate": "Pays=Suisse<br>Time=%{x}<br>value=%{y}<extra></extra>",
         "legendgroup": "Suisse",
         "line": {
          "color": "#B6E880",
          "dash": "solid"
         },
         "marker": {
          "symbol": "circle"
         },
         "mode": "lines",
         "name": "Suisse",
         "orientation": "v",
         "showlegend": true,
         "type": "scatter",
         "x": [
          1995,
          1996,
          1997,
          1998,
          1999,
          2000,
          2001,
          2002,
          2003,
          2004,
          2005,
          2006,
          2007,
          2008,
          2009,
          2010,
          2011,
          2012,
          2013,
          2014,
          2015,
          2016,
          2017,
          2018,
          2019
         ],
         "xaxis": "x",
         "y": [
          7.5,
          7.3,
          7.4,
          7.8,
          7.8,
          8.8,
          8,
          7.5,
          7.5,
          7.5,
          7.6,
          7.6,
          7.5,
          7.4,
          7,
          7.2,
          6.8,
          6.8,
          6.9,
          6.5,
          6.2,
          6.2,
          6.1,
          6,
          5.8
         ],
         "yaxis": "y"
        },
        {
         "hovertemplate": "Pays=Suède<br>Time=%{x}<br>value=%{y}<extra></extra>",
         "legendgroup": "Suède",
         "line": {
          "color": "#FF97FF",
          "dash": "solid"
         },
         "marker": {
          "symbol": "circle"
         },
         "mode": "lines",
         "name": "Suède",
         "orientation": "v",
         "showlegend": true,
         "type": "scatter",
         "x": [
          1995,
          1996,
          1997,
          1998,
          1999,
          2000,
          2001,
          2002,
          2003,
          2004,
          2005,
          2006,
          2007,
          2008,
          2009,
          2010,
          2011,
          2012,
          2013,
          2014,
          2015,
          2016,
          2017,
          2018,
          2019
         ],
         "xaxis": "x",
         "y": [
          4.3,
          4.5,
          3.9,
          3.8,
          3.5,
          3.2,
          3.2,
          3.2,
          3.6,
          4.2,
          4,
          2.9,
          3.5,
          3.1,
          2.6,
          3,
          2.5,
          2.1,
          2.2,
          2,
          2.2,
          1.7,
          1.9,
          1.9,
          1.8
         ],
         "yaxis": "y"
        },
        {
         "hovertemplate": "Pays=Tchéquie<br>Time=%{x}<br>value=%{y}<extra></extra>",
         "legendgroup": "Tchéquie",
         "line": {
          "color": "#FECB52",
          "dash": "solid"
         },
         "marker": {
          "symbol": "circle"
         },
         "mode": "lines",
         "name": "Tchéquie",
         "orientation": "v",
         "showlegend": true,
         "type": "scatter",
         "x": [
          1995,
          1996,
          1997,
          1998,
          1999,
          2000,
          2001,
          2002,
          2003,
          2004,
          2005,
          2006,
          2007,
          2008,
          2009,
          2010,
          2011,
          2012,
          2013,
          2014,
          2015,
          2016,
          2017,
          2018,
          2019
         ],
         "xaxis": "x",
         "y": [
          14.5,
          14.8,
          14.5,
          13.9,
          12.9,
          13.9,
          13.9,
          13.6,
          14,
          14.1,
          13.9,
          14.2,
          14.4,
          13.5,
          12.5,
          12.8,
          12.5,
          12.1,
          11.6,
          11.4,
          11.6,
          11.8,
          12.1,
          12.7,
          12.9
         ],
         "yaxis": "y"
        },
        {
         "hovertemplate": "Pays=Union européenne - 27 pays (à partir de 2020)<br>Time=%{x}<br>value=%{y}<extra></extra>",
         "legendgroup": "Union européenne - 27 pays (à partir de 2020)",
         "line": {
          "color": "#636efa",
          "dash": "solid"
         },
         "marker": {
          "symbol": "circle"
         },
         "mode": "lines",
         "name": "Union européenne - 27 pays (à partir de 2020)",
         "orientation": "v",
         "showlegend": true,
         "type": "scatter",
         "x": [
          1995,
          1996,
          1997,
          1998,
          1999,
          2000,
          2001,
          2002,
          2003,
          2004,
          2005,
          2006,
          2007,
          2008,
          2009,
          2010,
          2011,
          2012,
          2013,
          2014,
          2015,
          2016,
          2017,
          2018,
          2019
         ],
         "xaxis": "x",
         "y": [
          10.2,
          10.3,
          10.2,
          10,
          9.8,
          9.9,
          9.9,
          9.9,
          10.1,
          10,
          9.9,
          9.9,
          9.9,
          9.5,
          8.8,
          9,
          8.8,
          8.6,
          8.4,
          8.1,
          8.2,
          8.2,
          8.3,
          8.1,
          7.8
         ],
         "yaxis": "y"
        }
       ],
       "layout": {
        "legend": {
         "title": {
          "text": "Pays"
         },
         "tracegroupgap": 0
        },
        "margin": {
         "t": 60
        },
        "template": {
         "data": {
          "bar": [
           {
            "error_x": {
             "color": "#2a3f5f"
            },
            "error_y": {
             "color": "#2a3f5f"
            },
            "marker": {
             "line": {
              "color": "#E5ECF6",
              "width": 0.5
             },
             "pattern": {
              "fillmode": "overlay",
              "size": 10,
              "solidity": 0.2
             }
            },
            "type": "bar"
           }
          ],
          "barpolar": [
           {
            "marker": {
             "line": {
              "color": "#E5ECF6",
              "width": 0.5
             },
             "pattern": {
              "fillmode": "overlay",
              "size": 10,
              "solidity": 0.2
             }
            },
            "type": "barpolar"
           }
          ],
          "carpet": [
           {
            "aaxis": {
             "endlinecolor": "#2a3f5f",
             "gridcolor": "white",
             "linecolor": "white",
             "minorgridcolor": "white",
             "startlinecolor": "#2a3f5f"
            },
            "baxis": {
             "endlinecolor": "#2a3f5f",
             "gridcolor": "white",
             "linecolor": "white",
             "minorgridcolor": "white",
             "startlinecolor": "#2a3f5f"
            },
            "type": "carpet"
           }
          ],
          "choropleth": [
           {
            "colorbar": {
             "outlinewidth": 0,
             "ticks": ""
            },
            "type": "choropleth"
           }
          ],
          "contour": [
           {
            "colorbar": {
             "outlinewidth": 0,
             "ticks": ""
            },
            "colorscale": [
             [
              0,
              "#0d0887"
             ],
             [
              0.1111111111111111,
              "#46039f"
             ],
             [
              0.2222222222222222,
              "#7201a8"
             ],
             [
              0.3333333333333333,
              "#9c179e"
             ],
             [
              0.4444444444444444,
              "#bd3786"
             ],
             [
              0.5555555555555556,
              "#d8576b"
             ],
             [
              0.6666666666666666,
              "#ed7953"
             ],
             [
              0.7777777777777778,
              "#fb9f3a"
             ],
             [
              0.8888888888888888,
              "#fdca26"
             ],
             [
              1,
              "#f0f921"
             ]
            ],
            "type": "contour"
           }
          ],
          "contourcarpet": [
           {
            "colorbar": {
             "outlinewidth": 0,
             "ticks": ""
            },
            "type": "contourcarpet"
           }
          ],
          "heatmap": [
           {
            "colorbar": {
             "outlinewidth": 0,
             "ticks": ""
            },
            "colorscale": [
             [
              0,
              "#0d0887"
             ],
             [
              0.1111111111111111,
              "#46039f"
             ],
             [
              0.2222222222222222,
              "#7201a8"
             ],
             [
              0.3333333333333333,
              "#9c179e"
             ],
             [
              0.4444444444444444,
              "#bd3786"
             ],
             [
              0.5555555555555556,
              "#d8576b"
             ],
             [
              0.6666666666666666,
              "#ed7953"
             ],
             [
              0.7777777777777778,
              "#fb9f3a"
             ],
             [
              0.8888888888888888,
              "#fdca26"
             ],
             [
              1,
              "#f0f921"
             ]
            ],
            "type": "heatmap"
           }
          ],
          "heatmapgl": [
           {
            "colorbar": {
             "outlinewidth": 0,
             "ticks": ""
            },
            "colorscale": [
             [
              0,
              "#0d0887"
             ],
             [
              0.1111111111111111,
              "#46039f"
             ],
             [
              0.2222222222222222,
              "#7201a8"
             ],
             [
              0.3333333333333333,
              "#9c179e"
             ],
             [
              0.4444444444444444,
              "#bd3786"
             ],
             [
              0.5555555555555556,
              "#d8576b"
             ],
             [
              0.6666666666666666,
              "#ed7953"
             ],
             [
              0.7777777777777778,
              "#fb9f3a"
             ],
             [
              0.8888888888888888,
              "#fdca26"
             ],
             [
              1,
              "#f0f921"
             ]
            ],
            "type": "heatmapgl"
           }
          ],
          "histogram": [
           {
            "marker": {
             "pattern": {
              "fillmode": "overlay",
              "size": 10,
              "solidity": 0.2
             }
            },
            "type": "histogram"
           }
          ],
          "histogram2d": [
           {
            "colorbar": {
             "outlinewidth": 0,
             "ticks": ""
            },
            "colorscale": [
             [
              0,
              "#0d0887"
             ],
             [
              0.1111111111111111,
              "#46039f"
             ],
             [
              0.2222222222222222,
              "#7201a8"
             ],
             [
              0.3333333333333333,
              "#9c179e"
             ],
             [
              0.4444444444444444,
              "#bd3786"
             ],
             [
              0.5555555555555556,
              "#d8576b"
             ],
             [
              0.6666666666666666,
              "#ed7953"
             ],
             [
              0.7777777777777778,
              "#fb9f3a"
             ],
             [
              0.8888888888888888,
              "#fdca26"
             ],
             [
              1,
              "#f0f921"
             ]
            ],
            "type": "histogram2d"
           }
          ],
          "histogram2dcontour": [
           {
            "colorbar": {
             "outlinewidth": 0,
             "ticks": ""
            },
            "colorscale": [
             [
              0,
              "#0d0887"
             ],
             [
              0.1111111111111111,
              "#46039f"
             ],
             [
              0.2222222222222222,
              "#7201a8"
             ],
             [
              0.3333333333333333,
              "#9c179e"
             ],
             [
              0.4444444444444444,
              "#bd3786"
             ],
             [
              0.5555555555555556,
              "#d8576b"
             ],
             [
              0.6666666666666666,
              "#ed7953"
             ],
             [
              0.7777777777777778,
              "#fb9f3a"
             ],
             [
              0.8888888888888888,
              "#fdca26"
             ],
             [
              1,
              "#f0f921"
             ]
            ],
            "type": "histogram2dcontour"
           }
          ],
          "mesh3d": [
           {
            "colorbar": {
             "outlinewidth": 0,
             "ticks": ""
            },
            "type": "mesh3d"
           }
          ],
          "parcoords": [
           {
            "line": {
             "colorbar": {
              "outlinewidth": 0,
              "ticks": ""
             }
            },
            "type": "parcoords"
           }
          ],
          "pie": [
           {
            "automargin": true,
            "type": "pie"
           }
          ],
          "scatter": [
           {
            "fillpattern": {
             "fillmode": "overlay",
             "size": 10,
             "solidity": 0.2
            },
            "type": "scatter"
           }
          ],
          "scatter3d": [
           {
            "line": {
             "colorbar": {
              "outlinewidth": 0,
              "ticks": ""
             }
            },
            "marker": {
             "colorbar": {
              "outlinewidth": 0,
              "ticks": ""
             }
            },
            "type": "scatter3d"
           }
          ],
          "scattercarpet": [
           {
            "marker": {
             "colorbar": {
              "outlinewidth": 0,
              "ticks": ""
             }
            },
            "type": "scattercarpet"
           }
          ],
          "scattergeo": [
           {
            "marker": {
             "colorbar": {
              "outlinewidth": 0,
              "ticks": ""
             }
            },
            "type": "scattergeo"
           }
          ],
          "scattergl": [
           {
            "marker": {
             "colorbar": {
              "outlinewidth": 0,
              "ticks": ""
             }
            },
            "type": "scattergl"
           }
          ],
          "scattermapbox": [
           {
            "marker": {
             "colorbar": {
              "outlinewidth": 0,
              "ticks": ""
             }
            },
            "type": "scattermapbox"
           }
          ],
          "scatterpolar": [
           {
            "marker": {
             "colorbar": {
              "outlinewidth": 0,
              "ticks": ""
             }
            },
            "type": "scatterpolar"
           }
          ],
          "scatterpolargl": [
           {
            "marker": {
             "colorbar": {
              "outlinewidth": 0,
              "ticks": ""
             }
            },
            "type": "scatterpolargl"
           }
          ],
          "scatterternary": [
           {
            "marker": {
             "colorbar": {
              "outlinewidth": 0,
              "ticks": ""
             }
            },
            "type": "scatterternary"
           }
          ],
          "surface": [
           {
            "colorbar": {
             "outlinewidth": 0,
             "ticks": ""
            },
            "colorscale": [
             [
              0,
              "#0d0887"
             ],
             [
              0.1111111111111111,
              "#46039f"
             ],
             [
              0.2222222222222222,
              "#7201a8"
             ],
             [
              0.3333333333333333,
              "#9c179e"
             ],
             [
              0.4444444444444444,
              "#bd3786"
             ],
             [
              0.5555555555555556,
              "#d8576b"
             ],
             [
              0.6666666666666666,
              "#ed7953"
             ],
             [
              0.7777777777777778,
              "#fb9f3a"
             ],
             [
              0.8888888888888888,
              "#fdca26"
             ],
             [
              1,
              "#f0f921"
             ]
            ],
            "type": "surface"
           }
          ],
          "table": [
           {
            "cells": {
             "fill": {
              "color": "#EBF0F8"
             },
             "line": {
              "color": "white"
             }
            },
            "header": {
             "fill": {
              "color": "#C8D4E3"
             },
             "line": {
              "color": "white"
             }
            },
            "type": "table"
           }
          ]
         },
         "layout": {
          "annotationdefaults": {
           "arrowcolor": "#2a3f5f",
           "arrowhead": 0,
           "arrowwidth": 1
          },
          "autotypenumbers": "strict",
          "coloraxis": {
           "colorbar": {
            "outlinewidth": 0,
            "ticks": ""
           }
          },
          "colorscale": {
           "diverging": [
            [
             0,
             "#8e0152"
            ],
            [
             0.1,
             "#c51b7d"
            ],
            [
             0.2,
             "#de77ae"
            ],
            [
             0.3,
             "#f1b6da"
            ],
            [
             0.4,
             "#fde0ef"
            ],
            [
             0.5,
             "#f7f7f7"
            ],
            [
             0.6,
             "#e6f5d0"
            ],
            [
             0.7,
             "#b8e186"
            ],
            [
             0.8,
             "#7fbc41"
            ],
            [
             0.9,
             "#4d9221"
            ],
            [
             1,
             "#276419"
            ]
           ],
           "sequential": [
            [
             0,
             "#0d0887"
            ],
            [
             0.1111111111111111,
             "#46039f"
            ],
            [
             0.2222222222222222,
             "#7201a8"
            ],
            [
             0.3333333333333333,
             "#9c179e"
            ],
            [
             0.4444444444444444,
             "#bd3786"
            ],
            [
             0.5555555555555556,
             "#d8576b"
            ],
            [
             0.6666666666666666,
             "#ed7953"
            ],
            [
             0.7777777777777778,
             "#fb9f3a"
            ],
            [
             0.8888888888888888,
             "#fdca26"
            ],
            [
             1,
             "#f0f921"
            ]
           ],
           "sequentialminus": [
            [
             0,
             "#0d0887"
            ],
            [
             0.1111111111111111,
             "#46039f"
            ],
            [
             0.2222222222222222,
             "#7201a8"
            ],
            [
             0.3333333333333333,
             "#9c179e"
            ],
            [
             0.4444444444444444,
             "#bd3786"
            ],
            [
             0.5555555555555556,
             "#d8576b"
            ],
            [
             0.6666666666666666,
             "#ed7953"
            ],
            [
             0.7777777777777778,
             "#fb9f3a"
            ],
            [
             0.8888888888888888,
             "#fdca26"
            ],
            [
             1,
             "#f0f921"
            ]
           ]
          },
          "colorway": [
           "#636efa",
           "#EF553B",
           "#00cc96",
           "#ab63fa",
           "#FFA15A",
           "#19d3f3",
           "#FF6692",
           "#B6E880",
           "#FF97FF",
           "#FECB52"
          ],
          "font": {
           "color": "#2a3f5f"
          },
          "geo": {
           "bgcolor": "white",
           "lakecolor": "white",
           "landcolor": "#E5ECF6",
           "showlakes": true,
           "showland": true,
           "subunitcolor": "white"
          },
          "hoverlabel": {
           "align": "left"
          },
          "hovermode": "closest",
          "mapbox": {
           "style": "light"
          },
          "paper_bgcolor": "white",
          "plot_bgcolor": "#E5ECF6",
          "polar": {
           "angularaxis": {
            "gridcolor": "white",
            "linecolor": "white",
            "ticks": ""
           },
           "bgcolor": "#E5ECF6",
           "radialaxis": {
            "gridcolor": "white",
            "linecolor": "white",
            "ticks": ""
           }
          },
          "scene": {
           "xaxis": {
            "backgroundcolor": "#E5ECF6",
            "gridcolor": "white",
            "gridwidth": 2,
            "linecolor": "white",
            "showbackground": true,
            "ticks": "",
            "zerolinecolor": "white"
           },
           "yaxis": {
            "backgroundcolor": "#E5ECF6",
            "gridcolor": "white",
            "gridwidth": 2,
            "linecolor": "white",
            "showbackground": true,
            "ticks": "",
            "zerolinecolor": "white"
           },
           "zaxis": {
            "backgroundcolor": "#E5ECF6",
            "gridcolor": "white",
            "gridwidth": 2,
            "linecolor": "white",
            "showbackground": true,
            "ticks": "",
            "zerolinecolor": "white"
           }
          },
          "shapedefaults": {
           "line": {
            "color": "#2a3f5f"
           }
          },
          "ternary": {
           "aaxis": {
            "gridcolor": "white",
            "linecolor": "white",
            "ticks": ""
           },
           "baxis": {
            "gridcolor": "white",
            "linecolor": "white",
            "ticks": ""
           },
           "bgcolor": "#E5ECF6",
           "caxis": {
            "gridcolor": "white",
            "linecolor": "white",
            "ticks": ""
           }
          },
          "title": {
           "x": 0.05
          },
          "xaxis": {
           "automargin": true,
           "gridcolor": "white",
           "linecolor": "white",
           "ticks": "",
           "title": {
            "standoff": 15
           },
           "zerolinecolor": "white",
           "zerolinewidth": 2
          },
          "yaxis": {
           "automargin": true,
           "gridcolor": "white",
           "linecolor": "white",
           "ticks": "",
           "title": {
            "standoff": 15
           },
           "zerolinecolor": "white",
           "zerolinewidth": 2
          }
         }
        },
        "xaxis": {
         "anchor": "y",
         "domain": [
          0,
          1
         ],
         "title": {
          "text": "Time"
         }
        },
        "yaxis": {
         "anchor": "x",
         "domain": [
          0,
          1
         ],
         "title": {
          "text": "value"
         }
        }
       }
      }
     },
     "metadata": {},
     "output_type": "display_data"
    }
   ],
   "source": [
    "T_HAB_clean_df_pivot.plot()"
   ]
  },
  {
   "cell_type": "markdown",
   "metadata": {},
   "source": [
    "Lecture des données sources :\n",
    "* `t2020_rt320_linear.csv` est la base de données récupérée [ici](https://ec.europa.eu/eurostat/databrowser/view/ten00135/default/table?lang=fr)"
   ]
  },
  {
   "cell_type": "code",
   "execution_count": 76,
   "metadata": {},
   "outputs": [
    {
     "data": {
      "text/html": [
       "<div>\n",
       "<style scoped>\n",
       "    .dataframe tbody tr th:only-of-type {\n",
       "        vertical-align: middle;\n",
       "    }\n",
       "\n",
       "    .dataframe tbody tr th {\n",
       "        vertical-align: top;\n",
       "    }\n",
       "\n",
       "    .dataframe thead th {\n",
       "        text-align: right;\n",
       "    }\n",
       "</style>\n",
       "<table border=\"1\" class=\"dataframe\">\n",
       "  <thead>\n",
       "    <tr style=\"text-align: right;\">\n",
       "      <th></th>\n",
       "      <th>DATAFLOW</th>\n",
       "      <th>LAST UPDATE</th>\n",
       "      <th>freq</th>\n",
       "      <th>tax</th>\n",
       "      <th>unit</th>\n",
       "      <th>geo</th>\n",
       "      <th>TIME_PERIOD</th>\n",
       "      <th>OBS_VALUE</th>\n",
       "      <th>OBS_FLAG</th>\n",
       "    </tr>\n",
       "  </thead>\n",
       "  <tbody>\n",
       "    <tr>\n",
       "      <th>0</th>\n",
       "      <td>ESTAT:T2020_RT320(1.0)</td>\n",
       "      <td>18/01/22 11:00:00</td>\n",
       "      <td>A</td>\n",
       "      <td>ENV</td>\n",
       "      <td>PC_GDP</td>\n",
       "      <td>Autriche</td>\n",
       "      <td>1995</td>\n",
       "      <td>2.16</td>\n",
       "      <td>NaN</td>\n",
       "    </tr>\n",
       "    <tr>\n",
       "      <th>1</th>\n",
       "      <td>ESTAT:T2020_RT320(1.0)</td>\n",
       "      <td>18/01/22 11:00:00</td>\n",
       "      <td>A</td>\n",
       "      <td>ENV</td>\n",
       "      <td>PC_GDP</td>\n",
       "      <td>Autriche</td>\n",
       "      <td>1996</td>\n",
       "      <td>2.17</td>\n",
       "      <td>NaN</td>\n",
       "    </tr>\n",
       "    <tr>\n",
       "      <th>2</th>\n",
       "      <td>ESTAT:T2020_RT320(1.0)</td>\n",
       "      <td>18/01/22 11:00:00</td>\n",
       "      <td>A</td>\n",
       "      <td>ENV</td>\n",
       "      <td>PC_GDP</td>\n",
       "      <td>Autriche</td>\n",
       "      <td>1997</td>\n",
       "      <td>2.35</td>\n",
       "      <td>NaN</td>\n",
       "    </tr>\n",
       "    <tr>\n",
       "      <th>3</th>\n",
       "      <td>ESTAT:T2020_RT320(1.0)</td>\n",
       "      <td>18/01/22 11:00:00</td>\n",
       "      <td>A</td>\n",
       "      <td>ENV</td>\n",
       "      <td>PC_GDP</td>\n",
       "      <td>Autriche</td>\n",
       "      <td>1998</td>\n",
       "      <td>2.30</td>\n",
       "      <td>NaN</td>\n",
       "    </tr>\n",
       "    <tr>\n",
       "      <th>4</th>\n",
       "      <td>ESTAT:T2020_RT320(1.0)</td>\n",
       "      <td>18/01/22 11:00:00</td>\n",
       "      <td>A</td>\n",
       "      <td>ENV</td>\n",
       "      <td>PC_GDP</td>\n",
       "      <td>Autriche</td>\n",
       "      <td>1999</td>\n",
       "      <td>2.31</td>\n",
       "      <td>NaN</td>\n",
       "    </tr>\n",
       "    <tr>\n",
       "      <th>...</th>\n",
       "      <td>...</td>\n",
       "      <td>...</td>\n",
       "      <td>...</td>\n",
       "      <td>...</td>\n",
       "      <td>...</td>\n",
       "      <td>...</td>\n",
       "      <td>...</td>\n",
       "      <td>...</td>\n",
       "      <td>...</td>\n",
       "    </tr>\n",
       "    <tr>\n",
       "      <th>1637</th>\n",
       "      <td>ESTAT:T2020_RT320(1.0)</td>\n",
       "      <td>18/01/22 11:00:00</td>\n",
       "      <td>A</td>\n",
       "      <td>ENV</td>\n",
       "      <td>PC_TSCO_X_ISCO</td>\n",
       "      <td>Slovaquie</td>\n",
       "      <td>2016</td>\n",
       "      <td>7.55</td>\n",
       "      <td>NaN</td>\n",
       "    </tr>\n",
       "    <tr>\n",
       "      <th>1638</th>\n",
       "      <td>ESTAT:T2020_RT320(1.0)</td>\n",
       "      <td>18/01/22 11:00:00</td>\n",
       "      <td>A</td>\n",
       "      <td>ENV</td>\n",
       "      <td>PC_TSCO_X_ISCO</td>\n",
       "      <td>Slovaquie</td>\n",
       "      <td>2017</td>\n",
       "      <td>7.51</td>\n",
       "      <td>NaN</td>\n",
       "    </tr>\n",
       "    <tr>\n",
       "      <th>1639</th>\n",
       "      <td>ESTAT:T2020_RT320(1.0)</td>\n",
       "      <td>18/01/22 11:00:00</td>\n",
       "      <td>A</td>\n",
       "      <td>ENV</td>\n",
       "      <td>PC_TSCO_X_ISCO</td>\n",
       "      <td>Slovaquie</td>\n",
       "      <td>2018</td>\n",
       "      <td>7.24</td>\n",
       "      <td>NaN</td>\n",
       "    </tr>\n",
       "    <tr>\n",
       "      <th>1640</th>\n",
       "      <td>ESTAT:T2020_RT320(1.0)</td>\n",
       "      <td>18/01/22 11:00:00</td>\n",
       "      <td>A</td>\n",
       "      <td>ENV</td>\n",
       "      <td>PC_TSCO_X_ISCO</td>\n",
       "      <td>Slovaquie</td>\n",
       "      <td>2019</td>\n",
       "      <td>6.95</td>\n",
       "      <td>NaN</td>\n",
       "    </tr>\n",
       "    <tr>\n",
       "      <th>1641</th>\n",
       "      <td>ESTAT:T2020_RT320(1.0)</td>\n",
       "      <td>18/01/22 11:00:00</td>\n",
       "      <td>A</td>\n",
       "      <td>ENV</td>\n",
       "      <td>PC_TSCO_X_ISCO</td>\n",
       "      <td>Slovaquie</td>\n",
       "      <td>2020</td>\n",
       "      <td>6.81</td>\n",
       "      <td>NaN</td>\n",
       "    </tr>\n",
       "  </tbody>\n",
       "</table>\n",
       "<p>1642 rows × 9 columns</p>\n",
       "</div>"
      ],
      "text/plain": [
       "                    DATAFLOW        LAST UPDATE freq  tax            unit  \\\n",
       "0     ESTAT:T2020_RT320(1.0)  18/01/22 11:00:00    A  ENV          PC_GDP   \n",
       "1     ESTAT:T2020_RT320(1.0)  18/01/22 11:00:00    A  ENV          PC_GDP   \n",
       "2     ESTAT:T2020_RT320(1.0)  18/01/22 11:00:00    A  ENV          PC_GDP   \n",
       "3     ESTAT:T2020_RT320(1.0)  18/01/22 11:00:00    A  ENV          PC_GDP   \n",
       "4     ESTAT:T2020_RT320(1.0)  18/01/22 11:00:00    A  ENV          PC_GDP   \n",
       "...                      ...                ...  ...  ...             ...   \n",
       "1637  ESTAT:T2020_RT320(1.0)  18/01/22 11:00:00    A  ENV  PC_TSCO_X_ISCO   \n",
       "1638  ESTAT:T2020_RT320(1.0)  18/01/22 11:00:00    A  ENV  PC_TSCO_X_ISCO   \n",
       "1639  ESTAT:T2020_RT320(1.0)  18/01/22 11:00:00    A  ENV  PC_TSCO_X_ISCO   \n",
       "1640  ESTAT:T2020_RT320(1.0)  18/01/22 11:00:00    A  ENV  PC_TSCO_X_ISCO   \n",
       "1641  ESTAT:T2020_RT320(1.0)  18/01/22 11:00:00    A  ENV  PC_TSCO_X_ISCO   \n",
       "\n",
       "            geo  TIME_PERIOD  OBS_VALUE  OBS_FLAG  \n",
       "0      Autriche         1995       2.16       NaN  \n",
       "1      Autriche         1996       2.17       NaN  \n",
       "2      Autriche         1997       2.35       NaN  \n",
       "3      Autriche         1998       2.30       NaN  \n",
       "4      Autriche         1999       2.31       NaN  \n",
       "...         ...          ...        ...       ...  \n",
       "1637  Slovaquie         2016       7.55       NaN  \n",
       "1638  Slovaquie         2017       7.51       NaN  \n",
       "1639  Slovaquie         2018       7.24       NaN  \n",
       "1640  Slovaquie         2019       6.95       NaN  \n",
       "1641  Slovaquie         2020       6.81       NaN  \n",
       "\n",
       "[1642 rows x 9 columns]"
      ]
     },
     "execution_count": 76,
     "metadata": {},
     "output_type": "execute_result"
    }
   ],
   "source": [
    "fisc_df = pd.read_csv(\"data/t2020_rt320_linear.csv\")\n",
    "fisc_df.replace(geoToCountry.to_dict(), inplace=True)\n",
    "fisc_df"
   ]
  },
  {
   "cell_type": "code",
   "execution_count": 77,
   "metadata": {},
   "outputs": [
    {
     "data": {
      "text/html": [
       "<div>\n",
       "<style scoped>\n",
       "    .dataframe tbody tr th:only-of-type {\n",
       "        vertical-align: middle;\n",
       "    }\n",
       "\n",
       "    .dataframe tbody tr th {\n",
       "        vertical-align: top;\n",
       "    }\n",
       "\n",
       "    .dataframe thead th {\n",
       "        text-align: right;\n",
       "    }\n",
       "</style>\n",
       "<table border=\"1\" class=\"dataframe\">\n",
       "  <thead>\n",
       "    <tr style=\"text-align: right;\">\n",
       "      <th></th>\n",
       "      <th>Pays</th>\n",
       "      <th>Value</th>\n",
       "    </tr>\n",
       "    <tr>\n",
       "      <th>Time</th>\n",
       "      <th></th>\n",
       "      <th></th>\n",
       "    </tr>\n",
       "  </thead>\n",
       "  <tbody>\n",
       "    <tr>\n",
       "      <th>1995</th>\n",
       "      <td>Autriche</td>\n",
       "      <td>2.16</td>\n",
       "    </tr>\n",
       "    <tr>\n",
       "      <th>1996</th>\n",
       "      <td>Autriche</td>\n",
       "      <td>2.17</td>\n",
       "    </tr>\n",
       "    <tr>\n",
       "      <th>1997</th>\n",
       "      <td>Autriche</td>\n",
       "      <td>2.35</td>\n",
       "    </tr>\n",
       "    <tr>\n",
       "      <th>1998</th>\n",
       "      <td>Autriche</td>\n",
       "      <td>2.30</td>\n",
       "    </tr>\n",
       "    <tr>\n",
       "      <th>1999</th>\n",
       "      <td>Autriche</td>\n",
       "      <td>2.31</td>\n",
       "    </tr>\n",
       "    <tr>\n",
       "      <th>...</th>\n",
       "      <td>...</td>\n",
       "      <td>...</td>\n",
       "    </tr>\n",
       "    <tr>\n",
       "      <th>2015</th>\n",
       "      <td>Slovaquie</td>\n",
       "      <td>2.50</td>\n",
       "    </tr>\n",
       "    <tr>\n",
       "      <th>2016</th>\n",
       "      <td>Slovaquie</td>\n",
       "      <td>2.49</td>\n",
       "    </tr>\n",
       "    <tr>\n",
       "      <th>2017</th>\n",
       "      <td>Slovaquie</td>\n",
       "      <td>2.54</td>\n",
       "    </tr>\n",
       "    <tr>\n",
       "      <th>2018</th>\n",
       "      <td>Slovaquie</td>\n",
       "      <td>2.46</td>\n",
       "    </tr>\n",
       "    <tr>\n",
       "      <th>2019</th>\n",
       "      <td>Slovaquie</td>\n",
       "      <td>2.39</td>\n",
       "    </tr>\n",
       "  </tbody>\n",
       "</table>\n",
       "<p>762 rows × 2 columns</p>\n",
       "</div>"
      ],
      "text/plain": [
       "           Pays  Value\n",
       "Time                  \n",
       "1995   Autriche   2.16\n",
       "1996   Autriche   2.17\n",
       "1997   Autriche   2.35\n",
       "1998   Autriche   2.30\n",
       "1999   Autriche   2.31\n",
       "...         ...    ...\n",
       "2015  Slovaquie   2.50\n",
       "2016  Slovaquie   2.49\n",
       "2017  Slovaquie   2.54\n",
       "2018  Slovaquie   2.46\n",
       "2019  Slovaquie   2.39\n",
       "\n",
       "[762 rows x 2 columns]"
      ]
     },
     "execution_count": 77,
     "metadata": {},
     "output_type": "execute_result"
    }
   ],
   "source": [
    "PC_GDP_df = fisc_df[fisc_df.unit == 'PC_GDP']\n",
    "PC_GDP_clean_df = pd.DataFrame(data={'Pays' : PC_GDP_df.geo, 'Value' : PC_GDP_df.OBS_VALUE, 'Time': PC_GDP_df.TIME_PERIOD})\n",
    "PC_GDP_clean_df.set_index('Time', inplace=True)\n",
    "PC_GDP_clean_df.drop([2020], inplace=True, axis=0)\n",
    "PC_GDP_clean_df = PC_GDP_clean_df[(PC_GDP_clean_df['Pays'] != 'LI') & (PC_GDP_clean_df['Pays'] != 'EA19')]\n",
    "PC_GDP_clean_df"
   ]
  },
  {
   "cell_type": "code",
   "execution_count": 78,
   "metadata": {},
   "outputs": [
    {
     "data": {
      "text/html": [
       "<div>\n",
       "<style scoped>\n",
       "    .dataframe tbody tr th:only-of-type {\n",
       "        vertical-align: middle;\n",
       "    }\n",
       "\n",
       "    .dataframe tbody tr th {\n",
       "        vertical-align: top;\n",
       "    }\n",
       "\n",
       "    .dataframe thead th {\n",
       "        text-align: right;\n",
       "    }\n",
       "</style>\n",
       "<table border=\"1\" class=\"dataframe\">\n",
       "  <thead>\n",
       "    <tr style=\"text-align: right;\">\n",
       "      <th>Pays</th>\n",
       "      <th>Allemagne</th>\n",
       "      <th>Autriche</th>\n",
       "      <th>Belgique</th>\n",
       "      <th>Bulgarie</th>\n",
       "      <th>Chypre</th>\n",
       "      <th>Croatie</th>\n",
       "      <th>Danemark</th>\n",
       "      <th>Espagne</th>\n",
       "      <th>Estonie</th>\n",
       "      <th>Finlande</th>\n",
       "      <th>...</th>\n",
       "      <th>Pays-Bas</th>\n",
       "      <th>Pologne</th>\n",
       "      <th>Portugal</th>\n",
       "      <th>Roumanie</th>\n",
       "      <th>Slovaquie</th>\n",
       "      <th>Slovénie</th>\n",
       "      <th>Suisse</th>\n",
       "      <th>Suède</th>\n",
       "      <th>Tchéquie</th>\n",
       "      <th>Union européenne - 27 pays (à partir de 2020)</th>\n",
       "    </tr>\n",
       "    <tr>\n",
       "      <th>Time</th>\n",
       "      <th></th>\n",
       "      <th></th>\n",
       "      <th></th>\n",
       "      <th></th>\n",
       "      <th></th>\n",
       "      <th></th>\n",
       "      <th></th>\n",
       "      <th></th>\n",
       "      <th></th>\n",
       "      <th></th>\n",
       "      <th></th>\n",
       "      <th></th>\n",
       "      <th></th>\n",
       "      <th></th>\n",
       "      <th></th>\n",
       "      <th></th>\n",
       "      <th></th>\n",
       "      <th></th>\n",
       "      <th></th>\n",
       "      <th></th>\n",
       "      <th></th>\n",
       "    </tr>\n",
       "  </thead>\n",
       "  <tbody>\n",
       "    <tr>\n",
       "      <th>1995</th>\n",
       "      <td>2.13</td>\n",
       "      <td>2.16</td>\n",
       "      <td>2.41</td>\n",
       "      <td>1.20</td>\n",
       "      <td>2.62</td>\n",
       "      <td>2.31</td>\n",
       "      <td>4.31</td>\n",
       "      <td>2.12</td>\n",
       "      <td>0.86</td>\n",
       "      <td>2.86</td>\n",
       "      <td>...</td>\n",
       "      <td>3.23</td>\n",
       "      <td>1.78</td>\n",
       "      <td>3.35</td>\n",
       "      <td>1.75</td>\n",
       "      <td>2.44</td>\n",
       "      <td>4.11</td>\n",
       "      <td>1.62</td>\n",
       "      <td>2.59</td>\n",
       "      <td>2.62</td>\n",
       "      <td>2.58</td>\n",
       "    </tr>\n",
       "    <tr>\n",
       "      <th>1996</th>\n",
       "      <td>2.15</td>\n",
       "      <td>2.17</td>\n",
       "      <td>2.66</td>\n",
       "      <td>0.81</td>\n",
       "      <td>2.54</td>\n",
       "      <td>2.29</td>\n",
       "      <td>4.54</td>\n",
       "      <td>2.10</td>\n",
       "      <td>1.40</td>\n",
       "      <td>3.03</td>\n",
       "      <td>...</td>\n",
       "      <td>3.42</td>\n",
       "      <td>1.87</td>\n",
       "      <td>3.39</td>\n",
       "      <td>1.74</td>\n",
       "      <td>2.21</td>\n",
       "      <td>4.28</td>\n",
       "      <td>1.58</td>\n",
       "      <td>2.91</td>\n",
       "      <td>2.44</td>\n",
       "      <td>2.64</td>\n",
       "    </tr>\n",
       "    <tr>\n",
       "      <th>1997</th>\n",
       "      <td>2.13</td>\n",
       "      <td>2.35</td>\n",
       "      <td>2.67</td>\n",
       "      <td>1.15</td>\n",
       "      <td>2.24</td>\n",
       "      <td>2.01</td>\n",
       "      <td>4.57</td>\n",
       "      <td>2.05</td>\n",
       "      <td>1.50</td>\n",
       "      <td>3.25</td>\n",
       "      <td>...</td>\n",
       "      <td>3.34</td>\n",
       "      <td>1.77</td>\n",
       "      <td>3.17</td>\n",
       "      <td>2.79</td>\n",
       "      <td>2.13</td>\n",
       "      <td>4.39</td>\n",
       "      <td>1.55</td>\n",
       "      <td>2.77</td>\n",
       "      <td>2.28</td>\n",
       "      <td>2.61</td>\n",
       "    </tr>\n",
       "    <tr>\n",
       "      <th>1998</th>\n",
       "      <td>2.09</td>\n",
       "      <td>2.30</td>\n",
       "      <td>2.59</td>\n",
       "      <td>2.34</td>\n",
       "      <td>2.29</td>\n",
       "      <td>2.16</td>\n",
       "      <td>5.26</td>\n",
       "      <td>2.21</td>\n",
       "      <td>1.88</td>\n",
       "      <td>3.23</td>\n",
       "      <td>...</td>\n",
       "      <td>3.37</td>\n",
       "      <td>1.88</td>\n",
       "      <td>3.34</td>\n",
       "      <td>3.05</td>\n",
       "      <td>2.00</td>\n",
       "      <td>4.95</td>\n",
       "      <td>1.52</td>\n",
       "      <td>2.80</td>\n",
       "      <td>2.17</td>\n",
       "      <td>2.62</td>\n",
       "    </tr>\n",
       "    <tr>\n",
       "      <th>1999</th>\n",
       "      <td>2.25</td>\n",
       "      <td>2.31</td>\n",
       "      <td>2.59</td>\n",
       "      <td>2.46</td>\n",
       "      <td>2.26</td>\n",
       "      <td>2.29</td>\n",
       "      <td>5.30</td>\n",
       "      <td>2.25</td>\n",
       "      <td>1.68</td>\n",
       "      <td>3.31</td>\n",
       "      <td>...</td>\n",
       "      <td>3.49</td>\n",
       "      <td>2.10</td>\n",
       "      <td>3.24</td>\n",
       "      <td>3.85</td>\n",
       "      <td>2.06</td>\n",
       "      <td>4.07</td>\n",
       "      <td>1.50</td>\n",
       "      <td>2.68</td>\n",
       "      <td>2.34</td>\n",
       "      <td>2.68</td>\n",
       "    </tr>\n",
       "    <tr>\n",
       "      <th>2000</th>\n",
       "      <td>2.35</td>\n",
       "      <td>2.42</td>\n",
       "      <td>2.41</td>\n",
       "      <td>2.78</td>\n",
       "      <td>2.47</td>\n",
       "      <td>2.79</td>\n",
       "      <td>4.84</td>\n",
       "      <td>2.13</td>\n",
       "      <td>1.69</td>\n",
       "      <td>3.05</td>\n",
       "      <td>...</td>\n",
       "      <td>3.47</td>\n",
       "      <td>2.14</td>\n",
       "      <td>2.60</td>\n",
       "      <td>3.40</td>\n",
       "      <td>2.28</td>\n",
       "      <td>2.89</td>\n",
       "      <td>1.47</td>\n",
       "      <td>2.60</td>\n",
       "      <td>2.25</td>\n",
       "      <td>2.57</td>\n",
       "    </tr>\n",
       "    <tr>\n",
       "      <th>2001</th>\n",
       "      <td>2.48</td>\n",
       "      <td>2.58</td>\n",
       "      <td>2.39</td>\n",
       "      <td>2.48</td>\n",
       "      <td>2.75</td>\n",
       "      <td>2.91</td>\n",
       "      <td>4.82</td>\n",
       "      <td>2.02</td>\n",
       "      <td>2.11</td>\n",
       "      <td>2.87</td>\n",
       "      <td>...</td>\n",
       "      <td>3.36</td>\n",
       "      <td>2.16</td>\n",
       "      <td>2.83</td>\n",
       "      <td>2.36</td>\n",
       "      <td>2.01</td>\n",
       "      <td>3.17</td>\n",
       "      <td>1.45</td>\n",
       "      <td>2.62</td>\n",
       "      <td>2.33</td>\n",
       "      <td>2.53</td>\n",
       "    </tr>\n",
       "    <tr>\n",
       "      <th>2002</th>\n",
       "      <td>2.48</td>\n",
       "      <td>2.63</td>\n",
       "      <td>2.34</td>\n",
       "      <td>2.36</td>\n",
       "      <td>2.71</td>\n",
       "      <td>3.48</td>\n",
       "      <td>5.00</td>\n",
       "      <td>2.01</td>\n",
       "      <td>1.98</td>\n",
       "      <td>2.97</td>\n",
       "      <td>...</td>\n",
       "      <td>3.24</td>\n",
       "      <td>2.46</td>\n",
       "      <td>2.99</td>\n",
       "      <td>2.12</td>\n",
       "      <td>2.23</td>\n",
       "      <td>3.20</td>\n",
       "      <td>1.43</td>\n",
       "      <td>2.69</td>\n",
       "      <td>2.27</td>\n",
       "      <td>2.55</td>\n",
       "    </tr>\n",
       "    <tr>\n",
       "      <th>2003</th>\n",
       "      <td>2.62</td>\n",
       "      <td>2.70</td>\n",
       "      <td>2.42</td>\n",
       "      <td>2.80</td>\n",
       "      <td>3.46</td>\n",
       "      <td>3.55</td>\n",
       "      <td>4.80</td>\n",
       "      <td>2.00</td>\n",
       "      <td>1.88</td>\n",
       "      <td>3.08</td>\n",
       "      <td>...</td>\n",
       "      <td>3.31</td>\n",
       "      <td>2.50</td>\n",
       "      <td>2.95</td>\n",
       "      <td>2.40</td>\n",
       "      <td>2.45</td>\n",
       "      <td>3.24</td>\n",
       "      <td>1.41</td>\n",
       "      <td>2.74</td>\n",
       "      <td>2.33</td>\n",
       "      <td>2.59</td>\n",
       "    </tr>\n",
       "    <tr>\n",
       "      <th>2004</th>\n",
       "      <td>2.50</td>\n",
       "      <td>2.67</td>\n",
       "      <td>2.53</td>\n",
       "      <td>3.00</td>\n",
       "      <td>3.63</td>\n",
       "      <td>3.42</td>\n",
       "      <td>4.99</td>\n",
       "      <td>1.96</td>\n",
       "      <td>2.09</td>\n",
       "      <td>3.12</td>\n",
       "      <td>...</td>\n",
       "      <td>3.42</td>\n",
       "      <td>2.73</td>\n",
       "      <td>2.95</td>\n",
       "      <td>2.38</td>\n",
       "      <td>2.50</td>\n",
       "      <td>3.25</td>\n",
       "      <td>1.39</td>\n",
       "      <td>2.71</td>\n",
       "      <td>2.42</td>\n",
       "      <td>2.57</td>\n",
       "    </tr>\n",
       "    <tr>\n",
       "      <th>2005</th>\n",
       "      <td>2.43</td>\n",
       "      <td>2.58</td>\n",
       "      <td>2.53</td>\n",
       "      <td>2.96</td>\n",
       "      <td>3.32</td>\n",
       "      <td>3.31</td>\n",
       "      <td>4.92</td>\n",
       "      <td>1.90</td>\n",
       "      <td>2.25</td>\n",
       "      <td>2.97</td>\n",
       "      <td>...</td>\n",
       "      <td>3.52</td>\n",
       "      <td>2.68</td>\n",
       "      <td>2.89</td>\n",
       "      <td>2.01</td>\n",
       "      <td>2.40</td>\n",
       "      <td>3.16</td>\n",
       "      <td>1.38</td>\n",
       "      <td>2.76</td>\n",
       "      <td>2.46</td>\n",
       "      <td>2.54</td>\n",
       "    </tr>\n",
       "    <tr>\n",
       "      <th>2006</th>\n",
       "      <td>2.35</td>\n",
       "      <td>2.43</td>\n",
       "      <td>2.36</td>\n",
       "      <td>2.78</td>\n",
       "      <td>3.09</td>\n",
       "      <td>3.23</td>\n",
       "      <td>4.68</td>\n",
       "      <td>1.83</td>\n",
       "      <td>2.18</td>\n",
       "      <td>2.91</td>\n",
       "      <td>...</td>\n",
       "      <td>3.59</td>\n",
       "      <td>2.66</td>\n",
       "      <td>2.79</td>\n",
       "      <td>1.94</td>\n",
       "      <td>2.30</td>\n",
       "      <td>2.97</td>\n",
       "      <td>1.37</td>\n",
       "      <td>2.66</td>\n",
       "      <td>2.37</td>\n",
       "      <td>2.47</td>\n",
       "    </tr>\n",
       "    <tr>\n",
       "      <th>2007</th>\n",
       "      <td>2.18</td>\n",
       "      <td>2.37</td>\n",
       "      <td>2.33</td>\n",
       "      <td>3.19</td>\n",
       "      <td>3.14</td>\n",
       "      <td>3.11</td>\n",
       "      <td>4.74</td>\n",
       "      <td>1.77</td>\n",
       "      <td>2.17</td>\n",
       "      <td>2.66</td>\n",
       "      <td>...</td>\n",
       "      <td>3.37</td>\n",
       "      <td>2.74</td>\n",
       "      <td>2.74</td>\n",
       "      <td>2.01</td>\n",
       "      <td>2.13</td>\n",
       "      <td>2.96</td>\n",
       "      <td>1.35</td>\n",
       "      <td>2.55</td>\n",
       "      <td>2.30</td>\n",
       "      <td>2.37</td>\n",
       "    </tr>\n",
       "    <tr>\n",
       "      <th>2008</th>\n",
       "      <td>2.17</td>\n",
       "      <td>2.35</td>\n",
       "      <td>2.30</td>\n",
       "      <td>3.28</td>\n",
       "      <td>3.02</td>\n",
       "      <td>2.84</td>\n",
       "      <td>4.17</td>\n",
       "      <td>1.64</td>\n",
       "      <td>2.30</td>\n",
       "      <td>2.59</td>\n",
       "      <td>...</td>\n",
       "      <td>3.44</td>\n",
       "      <td>2.79</td>\n",
       "      <td>2.50</td>\n",
       "      <td>1.70</td>\n",
       "      <td>2.06</td>\n",
       "      <td>2.95</td>\n",
       "      <td>1.31</td>\n",
       "      <td>2.64</td>\n",
       "      <td>2.25</td>\n",
       "      <td>2.30</td>\n",
       "    </tr>\n",
       "    <tr>\n",
       "      <th>2009</th>\n",
       "      <td>2.26</td>\n",
       "      <td>2.36</td>\n",
       "      <td>2.36</td>\n",
       "      <td>2.84</td>\n",
       "      <td>2.78</td>\n",
       "      <td>2.82</td>\n",
       "      <td>3.99</td>\n",
       "      <td>1.62</td>\n",
       "      <td>2.94</td>\n",
       "      <td>2.52</td>\n",
       "      <td>...</td>\n",
       "      <td>3.47</td>\n",
       "      <td>2.66</td>\n",
       "      <td>2.44</td>\n",
       "      <td>1.79</td>\n",
       "      <td>1.97</td>\n",
       "      <td>3.48</td>\n",
       "      <td>1.36</td>\n",
       "      <td>2.75</td>\n",
       "      <td>2.29</td>\n",
       "      <td>2.36</td>\n",
       "    </tr>\n",
       "    <tr>\n",
       "      <th>2010</th>\n",
       "      <td>2.15</td>\n",
       "      <td>2.34</td>\n",
       "      <td>2.45</td>\n",
       "      <td>2.75</td>\n",
       "      <td>2.75</td>\n",
       "      <td>3.01</td>\n",
       "      <td>4.02</td>\n",
       "      <td>1.65</td>\n",
       "      <td>2.93</td>\n",
       "      <td>2.67</td>\n",
       "      <td>...</td>\n",
       "      <td>3.49</td>\n",
       "      <td>2.71</td>\n",
       "      <td>2.43</td>\n",
       "      <td>2.11</td>\n",
       "      <td>2.07</td>\n",
       "      <td>3.61</td>\n",
       "      <td>1.38</td>\n",
       "      <td>2.66</td>\n",
       "      <td>2.27</td>\n",
       "      <td>2.36</td>\n",
       "    </tr>\n",
       "    <tr>\n",
       "      <th>2011</th>\n",
       "      <td>2.18</td>\n",
       "      <td>2.42</td>\n",
       "      <td>2.57</td>\n",
       "      <td>2.67</td>\n",
       "      <td>2.75</td>\n",
       "      <td>2.65</td>\n",
       "      <td>4.02</td>\n",
       "      <td>1.59</td>\n",
       "      <td>2.72</td>\n",
       "      <td>3.00</td>\n",
       "      <td>...</td>\n",
       "      <td>3.41</td>\n",
       "      <td>2.63</td>\n",
       "      <td>2.32</td>\n",
       "      <td>1.95</td>\n",
       "      <td>2.42</td>\n",
       "      <td>3.45</td>\n",
       "      <td>1.33</td>\n",
       "      <td>2.44</td>\n",
       "      <td>2.33</td>\n",
       "      <td>2.41</td>\n",
       "    </tr>\n",
       "    <tr>\n",
       "      <th>2012</th>\n",
       "      <td>2.12</td>\n",
       "      <td>2.41</td>\n",
       "      <td>2.52</td>\n",
       "      <td>2.65</td>\n",
       "      <td>2.58</td>\n",
       "      <td>2.53</td>\n",
       "      <td>3.97</td>\n",
       "      <td>1.58</td>\n",
       "      <td>2.73</td>\n",
       "      <td>2.96</td>\n",
       "      <td>...</td>\n",
       "      <td>3.24</td>\n",
       "      <td>2.59</td>\n",
       "      <td>2.19</td>\n",
       "      <td>2.01</td>\n",
       "      <td>2.38</td>\n",
       "      <td>3.83</td>\n",
       "      <td>1.34</td>\n",
       "      <td>2.40</td>\n",
       "      <td>2.22</td>\n",
       "      <td>2.44</td>\n",
       "    </tr>\n",
       "    <tr>\n",
       "      <th>2013</th>\n",
       "      <td>2.06</td>\n",
       "      <td>2.38</td>\n",
       "      <td>2.52</td>\n",
       "      <td>2.86</td>\n",
       "      <td>2.72</td>\n",
       "      <td>2.82</td>\n",
       "      <td>4.14</td>\n",
       "      <td>1.92</td>\n",
       "      <td>2.56</td>\n",
       "      <td>2.91</td>\n",
       "      <td>...</td>\n",
       "      <td>3.26</td>\n",
       "      <td>2.42</td>\n",
       "      <td>2.20</td>\n",
       "      <td>2.06</td>\n",
       "      <td>2.52</td>\n",
       "      <td>3.92</td>\n",
       "      <td>1.31</td>\n",
       "      <td>2.32</td>\n",
       "      <td>2.09</td>\n",
       "      <td>2.47</td>\n",
       "    </tr>\n",
       "    <tr>\n",
       "      <th>2014</th>\n",
       "      <td>1.99</td>\n",
       "      <td>2.39</td>\n",
       "      <td>2.54</td>\n",
       "      <td>2.84</td>\n",
       "      <td>3.06</td>\n",
       "      <td>3.14</td>\n",
       "      <td>4.00</td>\n",
       "      <td>1.87</td>\n",
       "      <td>2.66</td>\n",
       "      <td>2.88</td>\n",
       "      <td>...</td>\n",
       "      <td>3.31</td>\n",
       "      <td>2.58</td>\n",
       "      <td>2.27</td>\n",
       "      <td>2.38</td>\n",
       "      <td>2.54</td>\n",
       "      <td>3.86</td>\n",
       "      <td>1.31</td>\n",
       "      <td>2.17</td>\n",
       "      <td>2.12</td>\n",
       "      <td>2.47</td>\n",
       "    </tr>\n",
       "    <tr>\n",
       "      <th>2015</th>\n",
       "      <td>1.92</td>\n",
       "      <td>2.38</td>\n",
       "      <td>2.55</td>\n",
       "      <td>2.95</td>\n",
       "      <td>3.04</td>\n",
       "      <td>3.33</td>\n",
       "      <td>3.97</td>\n",
       "      <td>1.93</td>\n",
       "      <td>2.73</td>\n",
       "      <td>2.89</td>\n",
       "      <td>...</td>\n",
       "      <td>3.32</td>\n",
       "      <td>2.65</td>\n",
       "      <td>2.42</td>\n",
       "      <td>2.47</td>\n",
       "      <td>2.50</td>\n",
       "      <td>3.88</td>\n",
       "      <td>1.34</td>\n",
       "      <td>2.15</td>\n",
       "      <td>2.05</td>\n",
       "      <td>2.45</td>\n",
       "    </tr>\n",
       "    <tr>\n",
       "      <th>2016</th>\n",
       "      <td>1.86</td>\n",
       "      <td>2.34</td>\n",
       "      <td>2.67</td>\n",
       "      <td>2.98</td>\n",
       "      <td>2.93</td>\n",
       "      <td>3.44</td>\n",
       "      <td>3.91</td>\n",
       "      <td>1.87</td>\n",
       "      <td>2.97</td>\n",
       "      <td>3.08</td>\n",
       "      <td>...</td>\n",
       "      <td>3.35</td>\n",
       "      <td>2.71</td>\n",
       "      <td>2.58</td>\n",
       "      <td>2.40</td>\n",
       "      <td>2.49</td>\n",
       "      <td>3.88</td>\n",
       "      <td>1.36</td>\n",
       "      <td>2.22</td>\n",
       "      <td>2.10</td>\n",
       "      <td>2.47</td>\n",
       "    </tr>\n",
       "    <tr>\n",
       "      <th>2017</th>\n",
       "      <td>1.81</td>\n",
       "      <td>2.39</td>\n",
       "      <td>2.70</td>\n",
       "      <td>2.80</td>\n",
       "      <td>3.01</td>\n",
       "      <td>3.47</td>\n",
       "      <td>3.67</td>\n",
       "      <td>1.84</td>\n",
       "      <td>2.86</td>\n",
       "      <td>2.96</td>\n",
       "      <td>...</td>\n",
       "      <td>3.34</td>\n",
       "      <td>2.68</td>\n",
       "      <td>2.58</td>\n",
       "      <td>1.94</td>\n",
       "      <td>2.54</td>\n",
       "      <td>3.67</td>\n",
       "      <td>1.37</td>\n",
       "      <td>2.11</td>\n",
       "      <td>2.01</td>\n",
       "      <td>2.42</td>\n",
       "    </tr>\n",
       "    <tr>\n",
       "      <th>2018</th>\n",
       "      <td>1.77</td>\n",
       "      <td>2.28</td>\n",
       "      <td>2.70</td>\n",
       "      <td>2.62</td>\n",
       "      <td>2.93</td>\n",
       "      <td>3.52</td>\n",
       "      <td>3.62</td>\n",
       "      <td>1.83</td>\n",
       "      <td>2.75</td>\n",
       "      <td>2.93</td>\n",
       "      <td>...</td>\n",
       "      <td>3.34</td>\n",
       "      <td>2.71</td>\n",
       "      <td>2.57</td>\n",
       "      <td>1.97</td>\n",
       "      <td>2.46</td>\n",
       "      <td>3.40</td>\n",
       "      <td>1.38</td>\n",
       "      <td>2.09</td>\n",
       "      <td>1.96</td>\n",
       "      <td>2.40</td>\n",
       "    </tr>\n",
       "    <tr>\n",
       "      <th>2019</th>\n",
       "      <td>1.76</td>\n",
       "      <td>2.28</td>\n",
       "      <td>2.64</td>\n",
       "      <td>2.99</td>\n",
       "      <td>2.54</td>\n",
       "      <td>3.46</td>\n",
       "      <td>3.29</td>\n",
       "      <td>1.77</td>\n",
       "      <td>3.21</td>\n",
       "      <td>2.81</td>\n",
       "      <td>...</td>\n",
       "      <td>3.39</td>\n",
       "      <td>2.54</td>\n",
       "      <td>2.53</td>\n",
       "      <td>2.12</td>\n",
       "      <td>2.39</td>\n",
       "      <td>3.34</td>\n",
       "      <td>1.38</td>\n",
       "      <td>2.05</td>\n",
       "      <td>2.04</td>\n",
       "      <td>2.35</td>\n",
       "    </tr>\n",
       "  </tbody>\n",
       "</table>\n",
       "<p>25 rows × 31 columns</p>\n",
       "</div>"
      ],
      "text/plain": [
       "Pays  Allemagne  Autriche  Belgique  Bulgarie  Chypre  Croatie  Danemark  \\\n",
       "Time                                                                       \n",
       "1995       2.13      2.16      2.41      1.20    2.62     2.31      4.31   \n",
       "1996       2.15      2.17      2.66      0.81    2.54     2.29      4.54   \n",
       "1997       2.13      2.35      2.67      1.15    2.24     2.01      4.57   \n",
       "1998       2.09      2.30      2.59      2.34    2.29     2.16      5.26   \n",
       "1999       2.25      2.31      2.59      2.46    2.26     2.29      5.30   \n",
       "2000       2.35      2.42      2.41      2.78    2.47     2.79      4.84   \n",
       "2001       2.48      2.58      2.39      2.48    2.75     2.91      4.82   \n",
       "2002       2.48      2.63      2.34      2.36    2.71     3.48      5.00   \n",
       "2003       2.62      2.70      2.42      2.80    3.46     3.55      4.80   \n",
       "2004       2.50      2.67      2.53      3.00    3.63     3.42      4.99   \n",
       "2005       2.43      2.58      2.53      2.96    3.32     3.31      4.92   \n",
       "2006       2.35      2.43      2.36      2.78    3.09     3.23      4.68   \n",
       "2007       2.18      2.37      2.33      3.19    3.14     3.11      4.74   \n",
       "2008       2.17      2.35      2.30      3.28    3.02     2.84      4.17   \n",
       "2009       2.26      2.36      2.36      2.84    2.78     2.82      3.99   \n",
       "2010       2.15      2.34      2.45      2.75    2.75     3.01      4.02   \n",
       "2011       2.18      2.42      2.57      2.67    2.75     2.65      4.02   \n",
       "2012       2.12      2.41      2.52      2.65    2.58     2.53      3.97   \n",
       "2013       2.06      2.38      2.52      2.86    2.72     2.82      4.14   \n",
       "2014       1.99      2.39      2.54      2.84    3.06     3.14      4.00   \n",
       "2015       1.92      2.38      2.55      2.95    3.04     3.33      3.97   \n",
       "2016       1.86      2.34      2.67      2.98    2.93     3.44      3.91   \n",
       "2017       1.81      2.39      2.70      2.80    3.01     3.47      3.67   \n",
       "2018       1.77      2.28      2.70      2.62    2.93     3.52      3.62   \n",
       "2019       1.76      2.28      2.64      2.99    2.54     3.46      3.29   \n",
       "\n",
       "Pays  Espagne  Estonie  Finlande  ...  Pays-Bas  Pologne  Portugal  Roumanie  \\\n",
       "Time                              ...                                          \n",
       "1995     2.12     0.86      2.86  ...      3.23     1.78      3.35      1.75   \n",
       "1996     2.10     1.40      3.03  ...      3.42     1.87      3.39      1.74   \n",
       "1997     2.05     1.50      3.25  ...      3.34     1.77      3.17      2.79   \n",
       "1998     2.21     1.88      3.23  ...      3.37     1.88      3.34      3.05   \n",
       "1999     2.25     1.68      3.31  ...      3.49     2.10      3.24      3.85   \n",
       "2000     2.13     1.69      3.05  ...      3.47     2.14      2.60      3.40   \n",
       "2001     2.02     2.11      2.87  ...      3.36     2.16      2.83      2.36   \n",
       "2002     2.01     1.98      2.97  ...      3.24     2.46      2.99      2.12   \n",
       "2003     2.00     1.88      3.08  ...      3.31     2.50      2.95      2.40   \n",
       "2004     1.96     2.09      3.12  ...      3.42     2.73      2.95      2.38   \n",
       "2005     1.90     2.25      2.97  ...      3.52     2.68      2.89      2.01   \n",
       "2006     1.83     2.18      2.91  ...      3.59     2.66      2.79      1.94   \n",
       "2007     1.77     2.17      2.66  ...      3.37     2.74      2.74      2.01   \n",
       "2008     1.64     2.30      2.59  ...      3.44     2.79      2.50      1.70   \n",
       "2009     1.62     2.94      2.52  ...      3.47     2.66      2.44      1.79   \n",
       "2010     1.65     2.93      2.67  ...      3.49     2.71      2.43      2.11   \n",
       "2011     1.59     2.72      3.00  ...      3.41     2.63      2.32      1.95   \n",
       "2012     1.58     2.73      2.96  ...      3.24     2.59      2.19      2.01   \n",
       "2013     1.92     2.56      2.91  ...      3.26     2.42      2.20      2.06   \n",
       "2014     1.87     2.66      2.88  ...      3.31     2.58      2.27      2.38   \n",
       "2015     1.93     2.73      2.89  ...      3.32     2.65      2.42      2.47   \n",
       "2016     1.87     2.97      3.08  ...      3.35     2.71      2.58      2.40   \n",
       "2017     1.84     2.86      2.96  ...      3.34     2.68      2.58      1.94   \n",
       "2018     1.83     2.75      2.93  ...      3.34     2.71      2.57      1.97   \n",
       "2019     1.77     3.21      2.81  ...      3.39     2.54      2.53      2.12   \n",
       "\n",
       "Pays  Slovaquie  Slovénie  Suisse  Suède  Tchéquie  \\\n",
       "Time                                                 \n",
       "1995       2.44      4.11    1.62   2.59      2.62   \n",
       "1996       2.21      4.28    1.58   2.91      2.44   \n",
       "1997       2.13      4.39    1.55   2.77      2.28   \n",
       "1998       2.00      4.95    1.52   2.80      2.17   \n",
       "1999       2.06      4.07    1.50   2.68      2.34   \n",
       "2000       2.28      2.89    1.47   2.60      2.25   \n",
       "2001       2.01      3.17    1.45   2.62      2.33   \n",
       "2002       2.23      3.20    1.43   2.69      2.27   \n",
       "2003       2.45      3.24    1.41   2.74      2.33   \n",
       "2004       2.50      3.25    1.39   2.71      2.42   \n",
       "2005       2.40      3.16    1.38   2.76      2.46   \n",
       "2006       2.30      2.97    1.37   2.66      2.37   \n",
       "2007       2.13      2.96    1.35   2.55      2.30   \n",
       "2008       2.06      2.95    1.31   2.64      2.25   \n",
       "2009       1.97      3.48    1.36   2.75      2.29   \n",
       "2010       2.07      3.61    1.38   2.66      2.27   \n",
       "2011       2.42      3.45    1.33   2.44      2.33   \n",
       "2012       2.38      3.83    1.34   2.40      2.22   \n",
       "2013       2.52      3.92    1.31   2.32      2.09   \n",
       "2014       2.54      3.86    1.31   2.17      2.12   \n",
       "2015       2.50      3.88    1.34   2.15      2.05   \n",
       "2016       2.49      3.88    1.36   2.22      2.10   \n",
       "2017       2.54      3.67    1.37   2.11      2.01   \n",
       "2018       2.46      3.40    1.38   2.09      1.96   \n",
       "2019       2.39      3.34    1.38   2.05      2.04   \n",
       "\n",
       "Pays  Union européenne - 27 pays (à partir de 2020)  \n",
       "Time                                                 \n",
       "1995                                           2.58  \n",
       "1996                                           2.64  \n",
       "1997                                           2.61  \n",
       "1998                                           2.62  \n",
       "1999                                           2.68  \n",
       "2000                                           2.57  \n",
       "2001                                           2.53  \n",
       "2002                                           2.55  \n",
       "2003                                           2.59  \n",
       "2004                                           2.57  \n",
       "2005                                           2.54  \n",
       "2006                                           2.47  \n",
       "2007                                           2.37  \n",
       "2008                                           2.30  \n",
       "2009                                           2.36  \n",
       "2010                                           2.36  \n",
       "2011                                           2.41  \n",
       "2012                                           2.44  \n",
       "2013                                           2.47  \n",
       "2014                                           2.47  \n",
       "2015                                           2.45  \n",
       "2016                                           2.47  \n",
       "2017                                           2.42  \n",
       "2018                                           2.40  \n",
       "2019                                           2.35  \n",
       "\n",
       "[25 rows x 31 columns]"
      ]
     },
     "execution_count": 78,
     "metadata": {},
     "output_type": "execute_result"
    }
   ],
   "source": [
    "PC_GDP_clean_df_pivot = PC_GDP_clean_df.pivot_table(values='Value', index=PC_GDP_clean_df.index, columns='Pays')\n",
    "PC_GDP_clean_df_pivot['Suisse'].interpolate(method='spline', order=2, limit=13, limit_direction=\"both\", inplace=True)\n",
    "PC_GDP_clean_df_pivot['Suisse'] = PC_GDP_clean_df_pivot['Suisse'].round(2)\n",
    "PC_GDP_clean_df_pivot"
   ]
  },
  {
   "cell_type": "code",
   "execution_count": 79,
   "metadata": {},
   "outputs": [
    {
     "data": {
      "text/html": [
       "<div>\n",
       "<style scoped>\n",
       "    .dataframe tbody tr th:only-of-type {\n",
       "        vertical-align: middle;\n",
       "    }\n",
       "\n",
       "    .dataframe tbody tr th {\n",
       "        vertical-align: top;\n",
       "    }\n",
       "\n",
       "    .dataframe thead th {\n",
       "        text-align: right;\n",
       "    }\n",
       "</style>\n",
       "<table border=\"1\" class=\"dataframe\">\n",
       "  <thead>\n",
       "    <tr style=\"text-align: right;\">\n",
       "      <th>Pays</th>\n",
       "      <th>Allemagne</th>\n",
       "      <th>Autriche</th>\n",
       "      <th>Belgique</th>\n",
       "      <th>Bulgarie</th>\n",
       "      <th>Chypre</th>\n",
       "      <th>Croatie</th>\n",
       "      <th>Danemark</th>\n",
       "      <th>Espagne</th>\n",
       "      <th>Estonie</th>\n",
       "      <th>Finlande</th>\n",
       "      <th>...</th>\n",
       "      <th>Pays-Bas</th>\n",
       "      <th>Pologne</th>\n",
       "      <th>Portugal</th>\n",
       "      <th>Roumanie</th>\n",
       "      <th>Slovaquie</th>\n",
       "      <th>Slovénie</th>\n",
       "      <th>Suisse</th>\n",
       "      <th>Suède</th>\n",
       "      <th>Tchéquie</th>\n",
       "      <th>Union européenne - 27 pays (à partir de 2020)</th>\n",
       "    </tr>\n",
       "    <tr>\n",
       "      <th>Time</th>\n",
       "      <th></th>\n",
       "      <th></th>\n",
       "      <th></th>\n",
       "      <th></th>\n",
       "      <th></th>\n",
       "      <th></th>\n",
       "      <th></th>\n",
       "      <th></th>\n",
       "      <th></th>\n",
       "      <th></th>\n",
       "      <th></th>\n",
       "      <th></th>\n",
       "      <th></th>\n",
       "      <th></th>\n",
       "      <th></th>\n",
       "      <th></th>\n",
       "      <th></th>\n",
       "      <th></th>\n",
       "      <th></th>\n",
       "      <th></th>\n",
       "      <th></th>\n",
       "    </tr>\n",
       "  </thead>\n",
       "  <tbody>\n",
       "    <tr>\n",
       "      <th>1995</th>\n",
       "      <td>5.45</td>\n",
       "      <td>5.18</td>\n",
       "      <td>5.58</td>\n",
       "      <td>5.96</td>\n",
       "      <td>10.52</td>\n",
       "      <td>5.66</td>\n",
       "      <td>9.27</td>\n",
       "      <td>6.78</td>\n",
       "      <td>2.45</td>\n",
       "      <td>6.42</td>\n",
       "      <td>...</td>\n",
       "      <td>8.68</td>\n",
       "      <td>4.87</td>\n",
       "      <td>11.47</td>\n",
       "      <td>6.32</td>\n",
       "      <td>6.19</td>\n",
       "      <td>10.50</td>\n",
       "      <td>5.60</td>\n",
       "      <td>5.66</td>\n",
       "      <td>7.63</td>\n",
       "      <td>6.61</td>\n",
       "    </tr>\n",
       "    <tr>\n",
       "      <th>1996</th>\n",
       "      <td>5.47</td>\n",
       "      <td>5.04</td>\n",
       "      <td>6.07</td>\n",
       "      <td>3.80</td>\n",
       "      <td>10.38</td>\n",
       "      <td>5.54</td>\n",
       "      <td>9.71</td>\n",
       "      <td>6.76</td>\n",
       "      <td>4.13</td>\n",
       "      <td>6.63</td>\n",
       "      <td>...</td>\n",
       "      <td>9.16</td>\n",
       "      <td>5.10</td>\n",
       "      <td>11.36</td>\n",
       "      <td>6.72</td>\n",
       "      <td>5.74</td>\n",
       "      <td>11.21</td>\n",
       "      <td>5.56</td>\n",
       "      <td>6.08</td>\n",
       "      <td>7.39</td>\n",
       "      <td>6.65</td>\n",
       "    </tr>\n",
       "    <tr>\n",
       "      <th>1997</th>\n",
       "      <td>5.41</td>\n",
       "      <td>5.38</td>\n",
       "      <td>6.02</td>\n",
       "      <td>3.97</td>\n",
       "      <td>9.39</td>\n",
       "      <td>5.02</td>\n",
       "      <td>9.77</td>\n",
       "      <td>6.40</td>\n",
       "      <td>4.46</td>\n",
       "      <td>7.23</td>\n",
       "      <td>...</td>\n",
       "      <td>9.10</td>\n",
       "      <td>4.91</td>\n",
       "      <td>10.65</td>\n",
       "      <td>10.55</td>\n",
       "      <td>5.82</td>\n",
       "      <td>11.86</td>\n",
       "      <td>5.52</td>\n",
       "      <td>5.76</td>\n",
       "      <td>6.84</td>\n",
       "      <td>6.52</td>\n",
       "    </tr>\n",
       "    <tr>\n",
       "      <th>1998</th>\n",
       "      <td>5.30</td>\n",
       "      <td>5.26</td>\n",
       "      <td>5.78</td>\n",
       "      <td>7.70</td>\n",
       "      <td>9.10</td>\n",
       "      <td>5.25</td>\n",
       "      <td>11.12</td>\n",
       "      <td>6.75</td>\n",
       "      <td>5.60</td>\n",
       "      <td>7.20</td>\n",
       "      <td>...</td>\n",
       "      <td>9.32</td>\n",
       "      <td>5.33</td>\n",
       "      <td>11.12</td>\n",
       "      <td>10.52</td>\n",
       "      <td>5.53</td>\n",
       "      <td>13.08</td>\n",
       "      <td>5.48</td>\n",
       "      <td>5.79</td>\n",
       "      <td>6.74</td>\n",
       "      <td>6.57</td>\n",
       "    </tr>\n",
       "    <tr>\n",
       "      <th>1999</th>\n",
       "      <td>5.58</td>\n",
       "      <td>5.33</td>\n",
       "      <td>5.80</td>\n",
       "      <td>7.47</td>\n",
       "      <td>8.90</td>\n",
       "      <td>5.72</td>\n",
       "      <td>11.08</td>\n",
       "      <td>6.79</td>\n",
       "      <td>5.18</td>\n",
       "      <td>7.49</td>\n",
       "      <td>...</td>\n",
       "      <td>9.39</td>\n",
       "      <td>6.01</td>\n",
       "      <td>10.49</td>\n",
       "      <td>12.43</td>\n",
       "      <td>5.91</td>\n",
       "      <td>10.66</td>\n",
       "      <td>5.45</td>\n",
       "      <td>5.50</td>\n",
       "      <td>7.08</td>\n",
       "      <td>6.64</td>\n",
       "    </tr>\n",
       "    <tr>\n",
       "      <th>2000</th>\n",
       "      <td>5.83</td>\n",
       "      <td>5.68</td>\n",
       "      <td>5.43</td>\n",
       "      <td>8.17</td>\n",
       "      <td>9.05</td>\n",
       "      <td>7.18</td>\n",
       "      <td>10.32</td>\n",
       "      <td>6.44</td>\n",
       "      <td>5.44</td>\n",
       "      <td>6.67</td>\n",
       "      <td>...</td>\n",
       "      <td>9.42</td>\n",
       "      <td>6.51</td>\n",
       "      <td>8.41</td>\n",
       "      <td>11.23</td>\n",
       "      <td>6.74</td>\n",
       "      <td>7.67</td>\n",
       "      <td>5.41</td>\n",
       "      <td>5.35</td>\n",
       "      <td>6.94</td>\n",
       "      <td>6.44</td>\n",
       "    </tr>\n",
       "    <tr>\n",
       "      <th>2001</th>\n",
       "      <td>6.47</td>\n",
       "      <td>5.86</td>\n",
       "      <td>5.42</td>\n",
       "      <td>7.60</td>\n",
       "      <td>9.79</td>\n",
       "      <td>7.74</td>\n",
       "      <td>10.49</td>\n",
       "      <td>6.16</td>\n",
       "      <td>6.96</td>\n",
       "      <td>6.67</td>\n",
       "      <td>...</td>\n",
       "      <td>9.47</td>\n",
       "      <td>6.58</td>\n",
       "      <td>9.21</td>\n",
       "      <td>8.22</td>\n",
       "      <td>6.12</td>\n",
       "      <td>8.40</td>\n",
       "      <td>5.38</td>\n",
       "      <td>5.62</td>\n",
       "      <td>7.19</td>\n",
       "      <td>6.51</td>\n",
       "    </tr>\n",
       "    <tr>\n",
       "      <th>2002</th>\n",
       "      <td>6.56</td>\n",
       "      <td>6.13</td>\n",
       "      <td>5.28</td>\n",
       "      <td>7.74</td>\n",
       "      <td>9.69</td>\n",
       "      <td>9.31</td>\n",
       "      <td>11.01</td>\n",
       "      <td>6.06</td>\n",
       "      <td>6.38</td>\n",
       "      <td>6.86</td>\n",
       "      <td>...</td>\n",
       "      <td>9.25</td>\n",
       "      <td>7.45</td>\n",
       "      <td>9.60</td>\n",
       "      <td>7.54</td>\n",
       "      <td>6.79</td>\n",
       "      <td>8.37</td>\n",
       "      <td>5.35</td>\n",
       "      <td>5.98</td>\n",
       "      <td>6.81</td>\n",
       "      <td>6.62</td>\n",
       "    </tr>\n",
       "    <tr>\n",
       "      <th>2003</th>\n",
       "      <td>6.84</td>\n",
       "      <td>6.33</td>\n",
       "      <td>5.52</td>\n",
       "      <td>9.14</td>\n",
       "      <td>12.01</td>\n",
       "      <td>9.64</td>\n",
       "      <td>10.54</td>\n",
       "      <td>6.03</td>\n",
       "      <td>6.11</td>\n",
       "      <td>7.28</td>\n",
       "      <td>...</td>\n",
       "      <td>9.51</td>\n",
       "      <td>7.71</td>\n",
       "      <td>9.80</td>\n",
       "      <td>8.40</td>\n",
       "      <td>7.51</td>\n",
       "      <td>8.43</td>\n",
       "      <td>5.32</td>\n",
       "      <td>6.06</td>\n",
       "      <td>6.87</td>\n",
       "      <td>6.71</td>\n",
       "    </tr>\n",
       "    <tr>\n",
       "      <th>2004</th>\n",
       "      <td>6.68</td>\n",
       "      <td>6.33</td>\n",
       "      <td>5.77</td>\n",
       "      <td>9.56</td>\n",
       "      <td>12.32</td>\n",
       "      <td>9.49</td>\n",
       "      <td>10.75</td>\n",
       "      <td>5.74</td>\n",
       "      <td>6.73</td>\n",
       "      <td>7.47</td>\n",
       "      <td>...</td>\n",
       "      <td>9.84</td>\n",
       "      <td>8.56</td>\n",
       "      <td>9.75</td>\n",
       "      <td>8.59</td>\n",
       "      <td>7.92</td>\n",
       "      <td>8.45</td>\n",
       "      <td>5.29</td>\n",
       "      <td>5.95</td>\n",
       "      <td>7.02</td>\n",
       "      <td>6.71</td>\n",
       "    </tr>\n",
       "    <tr>\n",
       "      <th>2005</th>\n",
       "      <td>6.49</td>\n",
       "      <td>6.27</td>\n",
       "      <td>5.79</td>\n",
       "      <td>9.62</td>\n",
       "      <td>10.58</td>\n",
       "      <td>9.21</td>\n",
       "      <td>10.25</td>\n",
       "      <td>5.39</td>\n",
       "      <td>7.58</td>\n",
       "      <td>7.06</td>\n",
       "      <td>...</td>\n",
       "      <td>10.06</td>\n",
       "      <td>8.14</td>\n",
       "      <td>9.34</td>\n",
       "      <td>7.15</td>\n",
       "      <td>7.65</td>\n",
       "      <td>8.07</td>\n",
       "      <td>5.27</td>\n",
       "      <td>5.93</td>\n",
       "      <td>7.15</td>\n",
       "      <td>6.58</td>\n",
       "    </tr>\n",
       "    <tr>\n",
       "      <th>2006</th>\n",
       "      <td>6.26</td>\n",
       "      <td>6.00</td>\n",
       "      <td>5.40</td>\n",
       "      <td>9.12</td>\n",
       "      <td>9.63</td>\n",
       "      <td>8.85</td>\n",
       "      <td>10.07</td>\n",
       "      <td>5.08</td>\n",
       "      <td>7.17</td>\n",
       "      <td>6.91</td>\n",
       "      <td>...</td>\n",
       "      <td>9.96</td>\n",
       "      <td>7.92</td>\n",
       "      <td>8.89</td>\n",
       "      <td>6.76</td>\n",
       "      <td>7.84</td>\n",
       "      <td>7.67</td>\n",
       "      <td>5.24</td>\n",
       "      <td>5.78</td>\n",
       "      <td>6.95</td>\n",
       "      <td>6.35</td>\n",
       "    </tr>\n",
       "    <tr>\n",
       "      <th>2007</th>\n",
       "      <td>5.77</td>\n",
       "      <td>5.83</td>\n",
       "      <td>5.39</td>\n",
       "      <td>10.47</td>\n",
       "      <td>8.70</td>\n",
       "      <td>8.43</td>\n",
       "      <td>10.21</td>\n",
       "      <td>4.86</td>\n",
       "      <td>7.00</td>\n",
       "      <td>6.41</td>\n",
       "      <td>...</td>\n",
       "      <td>9.48</td>\n",
       "      <td>7.93</td>\n",
       "      <td>8.62</td>\n",
       "      <td>7.07</td>\n",
       "      <td>7.31</td>\n",
       "      <td>7.78</td>\n",
       "      <td>5.22</td>\n",
       "      <td>5.69</td>\n",
       "      <td>6.65</td>\n",
       "      <td>6.07</td>\n",
       "    </tr>\n",
       "    <tr>\n",
       "      <th>2008</th>\n",
       "      <td>5.69</td>\n",
       "      <td>5.66</td>\n",
       "      <td>5.22</td>\n",
       "      <td>10.75</td>\n",
       "      <td>8.69</td>\n",
       "      <td>7.72</td>\n",
       "      <td>9.32</td>\n",
       "      <td>5.09</td>\n",
       "      <td>7.37</td>\n",
       "      <td>6.30</td>\n",
       "      <td>...</td>\n",
       "      <td>9.56</td>\n",
       "      <td>8.14</td>\n",
       "      <td>7.89</td>\n",
       "      <td>6.33</td>\n",
       "      <td>7.12</td>\n",
       "      <td>7.87</td>\n",
       "      <td>5.06</td>\n",
       "      <td>6.00</td>\n",
       "      <td>6.72</td>\n",
       "      <td>5.98</td>\n",
       "    </tr>\n",
       "    <tr>\n",
       "      <th>2009</th>\n",
       "      <td>5.85</td>\n",
       "      <td>5.73</td>\n",
       "      <td>5.46</td>\n",
       "      <td>10.62</td>\n",
       "      <td>8.76</td>\n",
       "      <td>7.78</td>\n",
       "      <td>8.88</td>\n",
       "      <td>5.45</td>\n",
       "      <td>8.42</td>\n",
       "      <td>6.19</td>\n",
       "      <td>...</td>\n",
       "      <td>9.87</td>\n",
       "      <td>8.50</td>\n",
       "      <td>8.18</td>\n",
       "      <td>7.11</td>\n",
       "      <td>6.85</td>\n",
       "      <td>9.32</td>\n",
       "      <td>5.20</td>\n",
       "      <td>6.30</td>\n",
       "      <td>7.05</td>\n",
       "      <td>6.20</td>\n",
       "    </tr>\n",
       "    <tr>\n",
       "      <th>2010</th>\n",
       "      <td>5.77</td>\n",
       "      <td>5.68</td>\n",
       "      <td>5.61</td>\n",
       "      <td>10.81</td>\n",
       "      <td>8.67</td>\n",
       "      <td>8.41</td>\n",
       "      <td>8.92</td>\n",
       "      <td>5.25</td>\n",
       "      <td>8.82</td>\n",
       "      <td>6.57</td>\n",
       "      <td>...</td>\n",
       "      <td>9.83</td>\n",
       "      <td>8.66</td>\n",
       "      <td>8.00</td>\n",
       "      <td>8.00</td>\n",
       "      <td>7.43</td>\n",
       "      <td>9.49</td>\n",
       "      <td>5.38</td>\n",
       "      <td>6.21</td>\n",
       "      <td>6.89</td>\n",
       "      <td>6.23</td>\n",
       "    </tr>\n",
       "    <tr>\n",
       "      <th>2011</th>\n",
       "      <td>5.78</td>\n",
       "      <td>5.87</td>\n",
       "      <td>5.80</td>\n",
       "      <td>10.48</td>\n",
       "      <td>8.68</td>\n",
       "      <td>7.56</td>\n",
       "      <td>8.92</td>\n",
       "      <td>5.08</td>\n",
       "      <td>8.65</td>\n",
       "      <td>7.18</td>\n",
       "      <td>...</td>\n",
       "      <td>9.62</td>\n",
       "      <td>8.27</td>\n",
       "      <td>7.20</td>\n",
       "      <td>6.89</td>\n",
       "      <td>8.35</td>\n",
       "      <td>9.17</td>\n",
       "      <td>5.14</td>\n",
       "      <td>5.81</td>\n",
       "      <td>6.85</td>\n",
       "      <td>6.27</td>\n",
       "    </tr>\n",
       "    <tr>\n",
       "      <th>2012</th>\n",
       "      <td>5.53</td>\n",
       "      <td>5.75</td>\n",
       "      <td>5.56</td>\n",
       "      <td>10.15</td>\n",
       "      <td>8.15</td>\n",
       "      <td>7.10</td>\n",
       "      <td>8.67</td>\n",
       "      <td>4.88</td>\n",
       "      <td>8.61</td>\n",
       "      <td>6.98</td>\n",
       "      <td>...</td>\n",
       "      <td>9.12</td>\n",
       "      <td>8.06</td>\n",
       "      <td>6.91</td>\n",
       "      <td>7.21</td>\n",
       "      <td>8.28</td>\n",
       "      <td>10.11</td>\n",
       "      <td>5.17</td>\n",
       "      <td>5.69</td>\n",
       "      <td>6.43</td>\n",
       "      <td>6.22</td>\n",
       "    </tr>\n",
       "    <tr>\n",
       "      <th>2013</th>\n",
       "      <td>5.36</td>\n",
       "      <td>5.58</td>\n",
       "      <td>5.48</td>\n",
       "      <td>10.15</td>\n",
       "      <td>8.56</td>\n",
       "      <td>7.78</td>\n",
       "      <td>8.95</td>\n",
       "      <td>5.80</td>\n",
       "      <td>8.09</td>\n",
       "      <td>6.71</td>\n",
       "      <td>...</td>\n",
       "      <td>9.05</td>\n",
       "      <td>7.55</td>\n",
       "      <td>6.49</td>\n",
       "      <td>7.52</td>\n",
       "      <td>8.16</td>\n",
       "      <td>10.45</td>\n",
       "      <td>5.03</td>\n",
       "      <td>5.46</td>\n",
       "      <td>5.99</td>\n",
       "      <td>6.20</td>\n",
       "    </tr>\n",
       "    <tr>\n",
       "      <th>2014</th>\n",
       "      <td>5.20</td>\n",
       "      <td>5.59</td>\n",
       "      <td>5.57</td>\n",
       "      <td>9.99</td>\n",
       "      <td>9.09</td>\n",
       "      <td>8.63</td>\n",
       "      <td>8.17</td>\n",
       "      <td>5.52</td>\n",
       "      <td>8.27</td>\n",
       "      <td>6.62</td>\n",
       "      <td>...</td>\n",
       "      <td>8.93</td>\n",
       "      <td>8.05</td>\n",
       "      <td>6.65</td>\n",
       "      <td>8.66</td>\n",
       "      <td>7.98</td>\n",
       "      <td>10.31</td>\n",
       "      <td>5.06</td>\n",
       "      <td>5.16</td>\n",
       "      <td>6.21</td>\n",
       "      <td>6.20</td>\n",
       "    </tr>\n",
       "    <tr>\n",
       "      <th>2015</th>\n",
       "      <td>4.95</td>\n",
       "      <td>5.51</td>\n",
       "      <td>5.66</td>\n",
       "      <td>10.23</td>\n",
       "      <td>9.17</td>\n",
       "      <td>9.09</td>\n",
       "      <td>8.57</td>\n",
       "      <td>5.70</td>\n",
       "      <td>8.19</td>\n",
       "      <td>6.65</td>\n",
       "      <td>...</td>\n",
       "      <td>8.99</td>\n",
       "      <td>8.17</td>\n",
       "      <td>7.03</td>\n",
       "      <td>8.79</td>\n",
       "      <td>7.70</td>\n",
       "      <td>10.34</td>\n",
       "      <td>5.03</td>\n",
       "      <td>5.05</td>\n",
       "      <td>5.98</td>\n",
       "      <td>6.16</td>\n",
       "    </tr>\n",
       "    <tr>\n",
       "      <th>2016</th>\n",
       "      <td>4.76</td>\n",
       "      <td>5.61</td>\n",
       "      <td>6.03</td>\n",
       "      <td>10.20</td>\n",
       "      <td>9.05</td>\n",
       "      <td>9.29</td>\n",
       "      <td>8.55</td>\n",
       "      <td>5.54</td>\n",
       "      <td>8.85</td>\n",
       "      <td>7.05</td>\n",
       "      <td>...</td>\n",
       "      <td>8.73</td>\n",
       "      <td>8.11</td>\n",
       "      <td>7.59</td>\n",
       "      <td>9.27</td>\n",
       "      <td>7.55</td>\n",
       "      <td>10.31</td>\n",
       "      <td>5.11</td>\n",
       "      <td>5.03</td>\n",
       "      <td>5.99</td>\n",
       "      <td>6.21</td>\n",
       "    </tr>\n",
       "    <tr>\n",
       "      <th>2017</th>\n",
       "      <td>4.61</td>\n",
       "      <td>5.71</td>\n",
       "      <td>6.02</td>\n",
       "      <td>9.38</td>\n",
       "      <td>9.12</td>\n",
       "      <td>9.38</td>\n",
       "      <td>8.02</td>\n",
       "      <td>5.42</td>\n",
       "      <td>8.71</td>\n",
       "      <td>6.90</td>\n",
       "      <td>...</td>\n",
       "      <td>8.63</td>\n",
       "      <td>7.85</td>\n",
       "      <td>7.56</td>\n",
       "      <td>7.78</td>\n",
       "      <td>7.51</td>\n",
       "      <td>9.84</td>\n",
       "      <td>5.00</td>\n",
       "      <td>4.80</td>\n",
       "      <td>5.67</td>\n",
       "      <td>6.06</td>\n",
       "    </tr>\n",
       "    <tr>\n",
       "      <th>2018</th>\n",
       "      <td>4.45</td>\n",
       "      <td>5.39</td>\n",
       "      <td>6.02</td>\n",
       "      <td>8.81</td>\n",
       "      <td>8.80</td>\n",
       "      <td>9.36</td>\n",
       "      <td>8.15</td>\n",
       "      <td>5.28</td>\n",
       "      <td>8.31</td>\n",
       "      <td>6.92</td>\n",
       "      <td>...</td>\n",
       "      <td>8.62</td>\n",
       "      <td>7.70</td>\n",
       "      <td>7.41</td>\n",
       "      <td>7.59</td>\n",
       "      <td>7.24</td>\n",
       "      <td>9.08</td>\n",
       "      <td>5.15</td>\n",
       "      <td>4.76</td>\n",
       "      <td>5.44</td>\n",
       "      <td>5.99</td>\n",
       "    </tr>\n",
       "    <tr>\n",
       "      <th>2019</th>\n",
       "      <td>4.39</td>\n",
       "      <td>5.35</td>\n",
       "      <td>6.07</td>\n",
       "      <td>9.85</td>\n",
       "      <td>7.37</td>\n",
       "      <td>9.20</td>\n",
       "      <td>7.04</td>\n",
       "      <td>5.09</td>\n",
       "      <td>9.57</td>\n",
       "      <td>6.63</td>\n",
       "      <td>...</td>\n",
       "      <td>8.64</td>\n",
       "      <td>7.23</td>\n",
       "      <td>7.33</td>\n",
       "      <td>8.14</td>\n",
       "      <td>6.95</td>\n",
       "      <td>8.93</td>\n",
       "      <td>5.07</td>\n",
       "      <td>4.79</td>\n",
       "      <td>5.67</td>\n",
       "      <td>5.89</td>\n",
       "    </tr>\n",
       "  </tbody>\n",
       "</table>\n",
       "<p>25 rows × 31 columns</p>\n",
       "</div>"
      ],
      "text/plain": [
       "Pays  Allemagne  Autriche  Belgique  Bulgarie  Chypre  Croatie  Danemark  \\\n",
       "Time                                                                       \n",
       "1995       5.45      5.18      5.58      5.96   10.52     5.66      9.27   \n",
       "1996       5.47      5.04      6.07      3.80   10.38     5.54      9.71   \n",
       "1997       5.41      5.38      6.02      3.97    9.39     5.02      9.77   \n",
       "1998       5.30      5.26      5.78      7.70    9.10     5.25     11.12   \n",
       "1999       5.58      5.33      5.80      7.47    8.90     5.72     11.08   \n",
       "2000       5.83      5.68      5.43      8.17    9.05     7.18     10.32   \n",
       "2001       6.47      5.86      5.42      7.60    9.79     7.74     10.49   \n",
       "2002       6.56      6.13      5.28      7.74    9.69     9.31     11.01   \n",
       "2003       6.84      6.33      5.52      9.14   12.01     9.64     10.54   \n",
       "2004       6.68      6.33      5.77      9.56   12.32     9.49     10.75   \n",
       "2005       6.49      6.27      5.79      9.62   10.58     9.21     10.25   \n",
       "2006       6.26      6.00      5.40      9.12    9.63     8.85     10.07   \n",
       "2007       5.77      5.83      5.39     10.47    8.70     8.43     10.21   \n",
       "2008       5.69      5.66      5.22     10.75    8.69     7.72      9.32   \n",
       "2009       5.85      5.73      5.46     10.62    8.76     7.78      8.88   \n",
       "2010       5.77      5.68      5.61     10.81    8.67     8.41      8.92   \n",
       "2011       5.78      5.87      5.80     10.48    8.68     7.56      8.92   \n",
       "2012       5.53      5.75      5.56     10.15    8.15     7.10      8.67   \n",
       "2013       5.36      5.58      5.48     10.15    8.56     7.78      8.95   \n",
       "2014       5.20      5.59      5.57      9.99    9.09     8.63      8.17   \n",
       "2015       4.95      5.51      5.66     10.23    9.17     9.09      8.57   \n",
       "2016       4.76      5.61      6.03     10.20    9.05     9.29      8.55   \n",
       "2017       4.61      5.71      6.02      9.38    9.12     9.38      8.02   \n",
       "2018       4.45      5.39      6.02      8.81    8.80     9.36      8.15   \n",
       "2019       4.39      5.35      6.07      9.85    7.37     9.20      7.04   \n",
       "\n",
       "Pays  Espagne  Estonie  Finlande  ...  Pays-Bas  Pologne  Portugal  Roumanie  \\\n",
       "Time                              ...                                          \n",
       "1995     6.78     2.45      6.42  ...      8.68     4.87     11.47      6.32   \n",
       "1996     6.76     4.13      6.63  ...      9.16     5.10     11.36      6.72   \n",
       "1997     6.40     4.46      7.23  ...      9.10     4.91     10.65     10.55   \n",
       "1998     6.75     5.60      7.20  ...      9.32     5.33     11.12     10.52   \n",
       "1999     6.79     5.18      7.49  ...      9.39     6.01     10.49     12.43   \n",
       "2000     6.44     5.44      6.67  ...      9.42     6.51      8.41     11.23   \n",
       "2001     6.16     6.96      6.67  ...      9.47     6.58      9.21      8.22   \n",
       "2002     6.06     6.38      6.86  ...      9.25     7.45      9.60      7.54   \n",
       "2003     6.03     6.11      7.28  ...      9.51     7.71      9.80      8.40   \n",
       "2004     5.74     6.73      7.47  ...      9.84     8.56      9.75      8.59   \n",
       "2005     5.39     7.58      7.06  ...     10.06     8.14      9.34      7.15   \n",
       "2006     5.08     7.17      6.91  ...      9.96     7.92      8.89      6.76   \n",
       "2007     4.86     7.00      6.41  ...      9.48     7.93      8.62      7.07   \n",
       "2008     5.09     7.37      6.30  ...      9.56     8.14      7.89      6.33   \n",
       "2009     5.45     8.42      6.19  ...      9.87     8.50      8.18      7.11   \n",
       "2010     5.25     8.82      6.57  ...      9.83     8.66      8.00      8.00   \n",
       "2011     5.08     8.65      7.18  ...      9.62     8.27      7.20      6.89   \n",
       "2012     4.88     8.61      6.98  ...      9.12     8.06      6.91      7.21   \n",
       "2013     5.80     8.09      6.71  ...      9.05     7.55      6.49      7.52   \n",
       "2014     5.52     8.27      6.62  ...      8.93     8.05      6.65      8.66   \n",
       "2015     5.70     8.19      6.65  ...      8.99     8.17      7.03      8.79   \n",
       "2016     5.54     8.85      7.05  ...      8.73     8.11      7.59      9.27   \n",
       "2017     5.42     8.71      6.90  ...      8.63     7.85      7.56      7.78   \n",
       "2018     5.28     8.31      6.92  ...      8.62     7.70      7.41      7.59   \n",
       "2019     5.09     9.57      6.63  ...      8.64     7.23      7.33      8.14   \n",
       "\n",
       "Pays  Slovaquie  Slovénie  Suisse  Suède  Tchéquie  \\\n",
       "Time                                                 \n",
       "1995       6.19     10.50    5.60   5.66      7.63   \n",
       "1996       5.74     11.21    5.56   6.08      7.39   \n",
       "1997       5.82     11.86    5.52   5.76      6.84   \n",
       "1998       5.53     13.08    5.48   5.79      6.74   \n",
       "1999       5.91     10.66    5.45   5.50      7.08   \n",
       "2000       6.74      7.67    5.41   5.35      6.94   \n",
       "2001       6.12      8.40    5.38   5.62      7.19   \n",
       "2002       6.79      8.37    5.35   5.98      6.81   \n",
       "2003       7.51      8.43    5.32   6.06      6.87   \n",
       "2004       7.92      8.45    5.29   5.95      7.02   \n",
       "2005       7.65      8.07    5.27   5.93      7.15   \n",
       "2006       7.84      7.67    5.24   5.78      6.95   \n",
       "2007       7.31      7.78    5.22   5.69      6.65   \n",
       "2008       7.12      7.87    5.06   6.00      6.72   \n",
       "2009       6.85      9.32    5.20   6.30      7.05   \n",
       "2010       7.43      9.49    5.38   6.21      6.89   \n",
       "2011       8.35      9.17    5.14   5.81      6.85   \n",
       "2012       8.28     10.11    5.17   5.69      6.43   \n",
       "2013       8.16     10.45    5.03   5.46      5.99   \n",
       "2014       7.98     10.31    5.06   5.16      6.21   \n",
       "2015       7.70     10.34    5.03   5.05      5.98   \n",
       "2016       7.55     10.31    5.11   5.03      5.99   \n",
       "2017       7.51      9.84    5.00   4.80      5.67   \n",
       "2018       7.24      9.08    5.15   4.76      5.44   \n",
       "2019       6.95      8.93    5.07   4.79      5.67   \n",
       "\n",
       "Pays  Union européenne - 27 pays (à partir de 2020)  \n",
       "Time                                                 \n",
       "1995                                           6.61  \n",
       "1996                                           6.65  \n",
       "1997                                           6.52  \n",
       "1998                                           6.57  \n",
       "1999                                           6.64  \n",
       "2000                                           6.44  \n",
       "2001                                           6.51  \n",
       "2002                                           6.62  \n",
       "2003                                           6.71  \n",
       "2004                                           6.71  \n",
       "2005                                           6.58  \n",
       "2006                                           6.35  \n",
       "2007                                           6.07  \n",
       "2008                                           5.98  \n",
       "2009                                           6.20  \n",
       "2010                                           6.23  \n",
       "2011                                           6.27  \n",
       "2012                                           6.22  \n",
       "2013                                           6.20  \n",
       "2014                                           6.20  \n",
       "2015                                           6.16  \n",
       "2016                                           6.21  \n",
       "2017                                           6.06  \n",
       "2018                                           5.99  \n",
       "2019                                           5.89  \n",
       "\n",
       "[25 rows x 31 columns]"
      ]
     },
     "execution_count": 79,
     "metadata": {},
     "output_type": "execute_result"
    }
   ],
   "source": [
    "PC_TSCO_X_ISCO_df = fisc_df[fisc_df.unit == 'PC_TSCO_X_ISCO']\n",
    "PC_TSCO_X_ISCO_clean_df = pd.DataFrame(data={'Pays' : PC_TSCO_X_ISCO_df.geo, 'Value' : PC_TSCO_X_ISCO_df.OBS_VALUE, 'Time': PC_TSCO_X_ISCO_df.TIME_PERIOD})\n",
    "PC_TSCO_X_ISCO_clean_df.set_index('Time', inplace=True)\n",
    "PC_TSCO_X_ISCO_clean_df.drop([2020], inplace=True, axis=0)\n",
    "PC_TSCO_X_ISCO_clean_df = PC_TSCO_X_ISCO_clean_df[(PC_TSCO_X_ISCO_clean_df['Pays'] != 'EA19') ]\n",
    "PC_TSCO_X_ISCO_clean_df_pivot = PC_TSCO_X_ISCO_clean_df.pivot_table(values='Value', index=PC_TSCO_X_ISCO_clean_df.index, columns='Pays')\n",
    "PC_TSCO_X_ISCO_clean_df_pivot['Suisse'].interpolate(method='spline', order=2, limit=13, limit_direction=\"both\", inplace=True)\n",
    "PC_TSCO_X_ISCO_clean_df_pivot['Suisse'] = PC_TSCO_X_ISCO_clean_df_pivot['Suisse'].round(2)\n",
    "PC_TSCO_X_ISCO_clean_df_pivot"
   ]
  },
  {
   "cell_type": "code",
   "execution_count": 80,
   "metadata": {},
   "outputs": [
    {
     "data": {
      "application/vnd.plotly.v1+json": {
       "config": {
        "plotlyServerURL": "https://plot.ly"
       },
       "data": [
        {
         "hovertemplate": "Pays=Allemagne<br>Time=%{x}<br>value=%{y}<extra></extra>",
         "legendgroup": "Allemagne",
         "line": {
          "color": "#636efa",
          "dash": "solid"
         },
         "marker": {
          "symbol": "circle"
         },
         "mode": "lines",
         "name": "Allemagne",
         "orientation": "v",
         "showlegend": true,
         "type": "scatter",
         "x": [
          1995,
          1996,
          1997,
          1998,
          1999,
          2000,
          2001,
          2002,
          2003,
          2004,
          2005,
          2006,
          2007,
          2008,
          2009,
          2010,
          2011,
          2012,
          2013,
          2014,
          2015,
          2016,
          2017,
          2018,
          2019
         ],
         "xaxis": "x",
         "y": [
          2.13,
          2.15,
          2.13,
          2.09,
          2.25,
          2.35,
          2.48,
          2.48,
          2.62,
          2.5,
          2.43,
          2.35,
          2.18,
          2.17,
          2.26,
          2.15,
          2.18,
          2.12,
          2.06,
          1.99,
          1.92,
          1.86,
          1.81,
          1.77,
          1.76
         ],
         "yaxis": "y"
        },
        {
         "hovertemplate": "Pays=Autriche<br>Time=%{x}<br>value=%{y}<extra></extra>",
         "legendgroup": "Autriche",
         "line": {
          "color": "#EF553B",
          "dash": "solid"
         },
         "marker": {
          "symbol": "circle"
         },
         "mode": "lines",
         "name": "Autriche",
         "orientation": "v",
         "showlegend": true,
         "type": "scatter",
         "x": [
          1995,
          1996,
          1997,
          1998,
          1999,
          2000,
          2001,
          2002,
          2003,
          2004,
          2005,
          2006,
          2007,
          2008,
          2009,
          2010,
          2011,
          2012,
          2013,
          2014,
          2015,
          2016,
          2017,
          2018,
          2019
         ],
         "xaxis": "x",
         "y": [
          2.16,
          2.17,
          2.35,
          2.3,
          2.31,
          2.42,
          2.58,
          2.63,
          2.7,
          2.67,
          2.58,
          2.43,
          2.37,
          2.35,
          2.36,
          2.34,
          2.42,
          2.41,
          2.38,
          2.39,
          2.38,
          2.34,
          2.39,
          2.28,
          2.28
         ],
         "yaxis": "y"
        },
        {
         "hovertemplate": "Pays=Belgique<br>Time=%{x}<br>value=%{y}<extra></extra>",
         "legendgroup": "Belgique",
         "line": {
          "color": "#00cc96",
          "dash": "solid"
         },
         "marker": {
          "symbol": "circle"
         },
         "mode": "lines",
         "name": "Belgique",
         "orientation": "v",
         "showlegend": true,
         "type": "scatter",
         "x": [
          1995,
          1996,
          1997,
          1998,
          1999,
          2000,
          2001,
          2002,
          2003,
          2004,
          2005,
          2006,
          2007,
          2008,
          2009,
          2010,
          2011,
          2012,
          2013,
          2014,
          2015,
          2016,
          2017,
          2018,
          2019
         ],
         "xaxis": "x",
         "y": [
          2.41,
          2.66,
          2.67,
          2.59,
          2.59,
          2.41,
          2.39,
          2.34,
          2.42,
          2.53,
          2.53,
          2.36,
          2.33,
          2.3,
          2.36,
          2.45,
          2.57,
          2.52,
          2.52,
          2.54,
          2.55,
          2.67,
          2.7,
          2.7,
          2.64
         ],
         "yaxis": "y"
        },
        {
         "hovertemplate": "Pays=Bulgarie<br>Time=%{x}<br>value=%{y}<extra></extra>",
         "legendgroup": "Bulgarie",
         "line": {
          "color": "#ab63fa",
          "dash": "solid"
         },
         "marker": {
          "symbol": "circle"
         },
         "mode": "lines",
         "name": "Bulgarie",
         "orientation": "v",
         "showlegend": true,
         "type": "scatter",
         "x": [
          1995,
          1996,
          1997,
          1998,
          1999,
          2000,
          2001,
          2002,
          2003,
          2004,
          2005,
          2006,
          2007,
          2008,
          2009,
          2010,
          2011,
          2012,
          2013,
          2014,
          2015,
          2016,
          2017,
          2018,
          2019
         ],
         "xaxis": "x",
         "y": [
          1.2,
          0.81,
          1.15,
          2.34,
          2.46,
          2.78,
          2.48,
          2.36,
          2.8,
          3,
          2.96,
          2.78,
          3.19,
          3.28,
          2.84,
          2.75,
          2.67,
          2.65,
          2.86,
          2.84,
          2.95,
          2.98,
          2.8,
          2.62,
          2.99
         ],
         "yaxis": "y"
        },
        {
         "hovertemplate": "Pays=Chypre<br>Time=%{x}<br>value=%{y}<extra></extra>",
         "legendgroup": "Chypre",
         "line": {
          "color": "#FFA15A",
          "dash": "solid"
         },
         "marker": {
          "symbol": "circle"
         },
         "mode": "lines",
         "name": "Chypre",
         "orientation": "v",
         "showlegend": true,
         "type": "scatter",
         "x": [
          1995,
          1996,
          1997,
          1998,
          1999,
          2000,
          2001,
          2002,
          2003,
          2004,
          2005,
          2006,
          2007,
          2008,
          2009,
          2010,
          2011,
          2012,
          2013,
          2014,
          2015,
          2016,
          2017,
          2018,
          2019
         ],
         "xaxis": "x",
         "y": [
          2.62,
          2.54,
          2.24,
          2.29,
          2.26,
          2.47,
          2.75,
          2.71,
          3.46,
          3.63,
          3.32,
          3.09,
          3.14,
          3.02,
          2.78,
          2.75,
          2.75,
          2.58,
          2.72,
          3.06,
          3.04,
          2.93,
          3.01,
          2.93,
          2.54
         ],
         "yaxis": "y"
        },
        {
         "hovertemplate": "Pays=Croatie<br>Time=%{x}<br>value=%{y}<extra></extra>",
         "legendgroup": "Croatie",
         "line": {
          "color": "#19d3f3",
          "dash": "solid"
         },
         "marker": {
          "symbol": "circle"
         },
         "mode": "lines",
         "name": "Croatie",
         "orientation": "v",
         "showlegend": true,
         "type": "scatter",
         "x": [
          1995,
          1996,
          1997,
          1998,
          1999,
          2000,
          2001,
          2002,
          2003,
          2004,
          2005,
          2006,
          2007,
          2008,
          2009,
          2010,
          2011,
          2012,
          2013,
          2014,
          2015,
          2016,
          2017,
          2018,
          2019
         ],
         "xaxis": "x",
         "y": [
          2.31,
          2.29,
          2.01,
          2.16,
          2.29,
          2.79,
          2.91,
          3.48,
          3.55,
          3.42,
          3.31,
          3.23,
          3.11,
          2.84,
          2.82,
          3.01,
          2.65,
          2.53,
          2.82,
          3.14,
          3.33,
          3.44,
          3.47,
          3.52,
          3.46
         ],
         "yaxis": "y"
        },
        {
         "hovertemplate": "Pays=Danemark<br>Time=%{x}<br>value=%{y}<extra></extra>",
         "legendgroup": "Danemark",
         "line": {
          "color": "#FF6692",
          "dash": "solid"
         },
         "marker": {
          "symbol": "circle"
         },
         "mode": "lines",
         "name": "Danemark",
         "orientation": "v",
         "showlegend": true,
         "type": "scatter",
         "x": [
          1995,
          1996,
          1997,
          1998,
          1999,
          2000,
          2001,
          2002,
          2003,
          2004,
          2005,
          2006,
          2007,
          2008,
          2009,
          2010,
          2011,
          2012,
          2013,
          2014,
          2015,
          2016,
          2017,
          2018,
          2019
         ],
         "xaxis": "x",
         "y": [
          4.31,
          4.54,
          4.57,
          5.26,
          5.3,
          4.84,
          4.82,
          5,
          4.8,
          4.99,
          4.92,
          4.68,
          4.74,
          4.17,
          3.99,
          4.02,
          4.02,
          3.97,
          4.14,
          4,
          3.97,
          3.91,
          3.67,
          3.62,
          3.29
         ],
         "yaxis": "y"
        },
        {
         "hovertemplate": "Pays=Espagne<br>Time=%{x}<br>value=%{y}<extra></extra>",
         "legendgroup": "Espagne",
         "line": {
          "color": "#B6E880",
          "dash": "solid"
         },
         "marker": {
          "symbol": "circle"
         },
         "mode": "lines",
         "name": "Espagne",
         "orientation": "v",
         "showlegend": true,
         "type": "scatter",
         "x": [
          1995,
          1996,
          1997,
          1998,
          1999,
          2000,
          2001,
          2002,
          2003,
          2004,
          2005,
          2006,
          2007,
          2008,
          2009,
          2010,
          2011,
          2012,
          2013,
          2014,
          2015,
          2016,
          2017,
          2018,
          2019
         ],
         "xaxis": "x",
         "y": [
          2.12,
          2.1,
          2.05,
          2.21,
          2.25,
          2.13,
          2.02,
          2.01,
          2,
          1.96,
          1.9,
          1.83,
          1.77,
          1.64,
          1.62,
          1.65,
          1.59,
          1.58,
          1.92,
          1.87,
          1.93,
          1.87,
          1.84,
          1.83,
          1.77
         ],
         "yaxis": "y"
        },
        {
         "hovertemplate": "Pays=Estonie<br>Time=%{x}<br>value=%{y}<extra></extra>",
         "legendgroup": "Estonie",
         "line": {
          "color": "#FF97FF",
          "dash": "solid"
         },
         "marker": {
          "symbol": "circle"
         },
         "mode": "lines",
         "name": "Estonie",
         "orientation": "v",
         "showlegend": true,
         "type": "scatter",
         "x": [
          1995,
          1996,
          1997,
          1998,
          1999,
          2000,
          2001,
          2002,
          2003,
          2004,
          2005,
          2006,
          2007,
          2008,
          2009,
          2010,
          2011,
          2012,
          2013,
          2014,
          2015,
          2016,
          2017,
          2018,
          2019
         ],
         "xaxis": "x",
         "y": [
          0.86,
          1.4,
          1.5,
          1.88,
          1.68,
          1.69,
          2.11,
          1.98,
          1.88,
          2.09,
          2.25,
          2.18,
          2.17,
          2.3,
          2.94,
          2.93,
          2.72,
          2.73,
          2.56,
          2.66,
          2.73,
          2.97,
          2.86,
          2.75,
          3.21
         ],
         "yaxis": "y"
        },
        {
         "hovertemplate": "Pays=Finlande<br>Time=%{x}<br>value=%{y}<extra></extra>",
         "legendgroup": "Finlande",
         "line": {
          "color": "#FECB52",
          "dash": "solid"
         },
         "marker": {
          "symbol": "circle"
         },
         "mode": "lines",
         "name": "Finlande",
         "orientation": "v",
         "showlegend": true,
         "type": "scatter",
         "x": [
          1995,
          1996,
          1997,
          1998,
          1999,
          2000,
          2001,
          2002,
          2003,
          2004,
          2005,
          2006,
          2007,
          2008,
          2009,
          2010,
          2011,
          2012,
          2013,
          2014,
          2015,
          2016,
          2017,
          2018,
          2019
         ],
         "xaxis": "x",
         "y": [
          2.86,
          3.03,
          3.25,
          3.23,
          3.31,
          3.05,
          2.87,
          2.97,
          3.08,
          3.12,
          2.97,
          2.91,
          2.66,
          2.59,
          2.52,
          2.67,
          3,
          2.96,
          2.91,
          2.88,
          2.89,
          3.08,
          2.96,
          2.93,
          2.81
         ],
         "yaxis": "y"
        },
        {
         "hovertemplate": "Pays=France<br>Time=%{x}<br>value=%{y}<extra></extra>",
         "legendgroup": "France",
         "line": {
          "color": "#636efa",
          "dash": "solid"
         },
         "marker": {
          "symbol": "circle"
         },
         "mode": "lines",
         "name": "France",
         "orientation": "v",
         "showlegend": true,
         "type": "scatter",
         "x": [
          1995,
          1996,
          1997,
          1998,
          1999,
          2000,
          2001,
          2002,
          2003,
          2004,
          2005,
          2006,
          2007,
          2008,
          2009,
          2010,
          2011,
          2012,
          2013,
          2014,
          2015,
          2016,
          2017,
          2018,
          2019
         ],
         "xaxis": "x",
         "y": [
          2.51,
          2.56,
          2.45,
          2.44,
          2.37,
          2.17,
          1.96,
          2.05,
          1.98,
          2.07,
          2.01,
          1.96,
          1.88,
          1.84,
          1.87,
          1.89,
          1.92,
          1.96,
          2.03,
          2.03,
          2.16,
          2.24,
          2.31,
          2.37,
          2.31
         ],
         "yaxis": "y"
        },
        {
         "hovertemplate": "Pays=Grèce<br>Time=%{x}<br>value=%{y}<extra></extra>",
         "legendgroup": "Grèce",
         "line": {
          "color": "#EF553B",
          "dash": "solid"
         },
         "marker": {
          "symbol": "circle"
         },
         "mode": "lines",
         "name": "Grèce",
         "orientation": "v",
         "showlegend": true,
         "type": "scatter",
         "x": [
          1995,
          1996,
          1997,
          1998,
          1999,
          2000,
          2001,
          2002,
          2003,
          2004,
          2005,
          2006,
          2007,
          2008,
          2009,
          2010,
          2011,
          2012,
          2013,
          2014,
          2015,
          2016,
          2017,
          2018,
          2019
         ],
         "xaxis": "x",
         "y": [
          3.15,
          3.19,
          2.96,
          2.82,
          2.56,
          2.23,
          2.21,
          2.27,
          2.16,
          2.12,
          2.11,
          2.03,
          2.08,
          2.05,
          2.08,
          2.67,
          2.96,
          3.33,
          3.66,
          3.74,
          3.83,
          3.81,
          4.03,
          3.8,
          3.87
         ],
         "yaxis": "y"
        },
        {
         "hovertemplate": "Pays=Hongrie<br>Time=%{x}<br>value=%{y}<extra></extra>",
         "legendgroup": "Hongrie",
         "line": {
          "color": "#00cc96",
          "dash": "solid"
         },
         "marker": {
          "symbol": "circle"
         },
         "mode": "lines",
         "name": "Hongrie",
         "orientation": "v",
         "showlegend": true,
         "type": "scatter",
         "x": [
          1995,
          1996,
          1997,
          1998,
          1999,
          2000,
          2001,
          2002,
          2003,
          2004,
          2005,
          2006,
          2007,
          2008,
          2009,
          2010,
          2011,
          2012,
          2013,
          2014,
          2015,
          2016,
          2017,
          2018,
          2019
         ],
         "xaxis": "x",
         "y": [
          2.55,
          2.64,
          2.64,
          3.23,
          3.26,
          2.94,
          2.71,
          2.65,
          2.59,
          2.8,
          2.72,
          2.84,
          2.76,
          2.68,
          2.62,
          2.64,
          2.54,
          2.53,
          2.43,
          2.41,
          2.47,
          2.53,
          2.44,
          2.27,
          2.26
         ],
         "yaxis": "y"
        },
        {
         "hovertemplate": "Pays=Irlande<br>Time=%{x}<br>value=%{y}<extra></extra>",
         "legendgroup": "Irlande",
         "line": {
          "color": "#ab63fa",
          "dash": "solid"
         },
         "marker": {
          "symbol": "circle"
         },
         "mode": "lines",
         "name": "Irlande",
         "orientation": "v",
         "showlegend": true,
         "type": "scatter",
         "x": [
          1995,
          1996,
          1997,
          1998,
          1999,
          2000,
          2001,
          2002,
          2003,
          2004,
          2005,
          2006,
          2007,
          2008,
          2009,
          2010,
          2011,
          2012,
          2013,
          2014,
          2015,
          2016,
          2017,
          2018,
          2019
         ],
         "xaxis": "x",
         "y": [
          2.96,
          3.03,
          2.94,
          2.93,
          2.92,
          2.74,
          2.28,
          2.27,
          2.27,
          2.45,
          2.48,
          2.43,
          2.45,
          2.3,
          2.27,
          2.45,
          2.45,
          2.38,
          2.48,
          2.4,
          1.89,
          1.89,
          1.76,
          1.57,
          1.41
         ],
         "yaxis": "y"
        },
        {
         "hovertemplate": "Pays=Islande<br>Time=%{x}<br>value=%{y}<extra></extra>",
         "legendgroup": "Islande",
         "line": {
          "color": "#FFA15A",
          "dash": "solid"
         },
         "marker": {
          "symbol": "circle"
         },
         "mode": "lines",
         "name": "Islande",
         "orientation": "v",
         "showlegend": true,
         "type": "scatter",
         "x": [
          1995,
          1996,
          1997,
          1998,
          1999,
          2000,
          2001,
          2002,
          2003,
          2004,
          2005,
          2006,
          2007,
          2008,
          2009,
          2010,
          2011,
          2012,
          2013,
          2014,
          2015,
          2016,
          2017,
          2018,
          2019
         ],
         "xaxis": "x",
         "y": [
          2.32,
          2.44,
          2.41,
          3.52,
          3.68,
          3.43,
          2.82,
          2.67,
          2.93,
          3.02,
          3.25,
          2.94,
          2.82,
          2.17,
          1.99,
          2.26,
          2.27,
          2.34,
          2.2,
          2.17,
          2.16,
          2.08,
          2.2,
          2.11,
          1.99
         ],
         "yaxis": "y"
        },
        {
         "hovertemplate": "Pays=Italie<br>Time=%{x}<br>value=%{y}<extra></extra>",
         "legendgroup": "Italie",
         "line": {
          "color": "#19d3f3",
          "dash": "solid"
         },
         "marker": {
          "symbol": "circle"
         },
         "mode": "lines",
         "name": "Italie",
         "orientation": "v",
         "showlegend": true,
         "type": "scatter",
         "x": [
          1995,
          1996,
          1997,
          1998,
          1999,
          2000,
          2001,
          2002,
          2003,
          2004,
          2005,
          2006,
          2007,
          2008,
          2009,
          2010,
          2011,
          2012,
          2013,
          2014,
          2015,
          2016,
          2017,
          2018,
          2019
         ],
         "xaxis": "x",
         "y": [
          3.45,
          3.35,
          3.33,
          3.23,
          3.34,
          3.04,
          3.01,
          2.92,
          2.98,
          2.83,
          2.89,
          2.85,
          2.71,
          2.56,
          2.78,
          2.78,
          3.03,
          3.46,
          3.43,
          3.57,
          3.39,
          3.51,
          3.34,
          3.31,
          3.25
         ],
         "yaxis": "y"
        },
        {
         "hovertemplate": "Pays=Lettonie<br>Time=%{x}<br>value=%{y}<extra></extra>",
         "legendgroup": "Lettonie",
         "line": {
          "color": "#FF6692",
          "dash": "solid"
         },
         "marker": {
          "symbol": "circle"
         },
         "mode": "lines",
         "name": "Lettonie",
         "orientation": "v",
         "showlegend": true,
         "type": "scatter",
         "x": [
          1995,
          1996,
          1997,
          1998,
          1999,
          2000,
          2001,
          2002,
          2003,
          2004,
          2005,
          2006,
          2007,
          2008,
          2009,
          2010,
          2011,
          2012,
          2013,
          2014,
          2015,
          2016,
          2017,
          2018,
          2019
         ],
         "xaxis": "x",
         "y": [
          0.98,
          1.51,
          1.98,
          2.79,
          2.28,
          2.24,
          2.04,
          2.14,
          2.27,
          2.45,
          2.51,
          2.22,
          2.04,
          2.07,
          2.64,
          2.96,
          3.08,
          2.99,
          3.17,
          3.34,
          3.5,
          3.58,
          3.49,
          3.37,
          2.94
         ],
         "yaxis": "y"
        },
        {
         "hovertemplate": "Pays=Lituanie<br>Time=%{x}<br>value=%{y}<extra></extra>",
         "legendgroup": "Lituanie",
         "line": {
          "color": "#B6E880",
          "dash": "solid"
         },
         "marker": {
          "symbol": "circle"
         },
         "mode": "lines",
         "name": "Lituanie",
         "orientation": "v",
         "showlegend": true,
         "type": "scatter",
         "x": [
          1995,
          1996,
          1997,
          1998,
          1999,
          2000,
          2001,
          2002,
          2003,
          2004,
          2005,
          2006,
          2007,
          2008,
          2009,
          2010,
          2011,
          2012,
          2013,
          2014,
          2015,
          2016,
          2017,
          2018,
          2019
         ],
         "xaxis": "x",
         "y": [
          1.87,
          1.88,
          2.15,
          2.54,
          2.94,
          2.45,
          2.56,
          2.81,
          2.77,
          2.7,
          2.3,
          1.8,
          1.75,
          1.63,
          2.02,
          1.83,
          1.68,
          1.64,
          1.68,
          1.73,
          1.85,
          1.92,
          1.91,
          1.98,
          1.89
         ],
         "yaxis": "y"
        },
        {
         "hovertemplate": "Pays=Luxembourg<br>Time=%{x}<br>value=%{y}<extra></extra>",
         "legendgroup": "Luxembourg",
         "line": {
          "color": "#FF97FF",
          "dash": "solid"
         },
         "marker": {
          "symbol": "circle"
         },
         "mode": "lines",
         "name": "Luxembourg",
         "orientation": "v",
         "showlegend": true,
         "type": "scatter",
         "x": [
          1995,
          1996,
          1997,
          1998,
          1999,
          2000,
          2001,
          2002,
          2003,
          2004,
          2005,
          2006,
          2007,
          2008,
          2009,
          2010,
          2011,
          2012,
          2013,
          2014,
          2015,
          2016,
          2017,
          2018,
          2019
         ],
         "xaxis": "x",
         "y": [
          2.93,
          2.87,
          2.8,
          2.81,
          2.71,
          2.65,
          2.66,
          2.65,
          2.74,
          2.97,
          2.94,
          2.61,
          2.53,
          2.46,
          2.38,
          2.26,
          2.3,
          2.23,
          2.05,
          1.89,
          1.76,
          1.66,
          1.64,
          1.7,
          1.75
         ],
         "yaxis": "y"
        },
        {
         "hovertemplate": "Pays=Malte<br>Time=%{x}<br>value=%{y}<extra></extra>",
         "legendgroup": "Malte",
         "line": {
          "color": "#FECB52",
          "dash": "solid"
         },
         "marker": {
          "symbol": "circle"
         },
         "mode": "lines",
         "name": "Malte",
         "orientation": "v",
         "showlegend": true,
         "type": "scatter",
         "x": [
          1995,
          1996,
          1997,
          1998,
          1999,
          2000,
          2001,
          2002,
          2003,
          2004,
          2005,
          2006,
          2007,
          2008,
          2009,
          2010,
          2011,
          2012,
          2013,
          2014,
          2015,
          2016,
          2017,
          2018,
          2019
         ],
         "xaxis": "x",
         "y": [
          3.08,
          2.94,
          3.37,
          3.73,
          3.85,
          3.52,
          3.46,
          3.18,
          3.13,
          2.81,
          3.06,
          3.18,
          3.51,
          3.22,
          3.1,
          2.8,
          3.05,
          2.79,
          2.59,
          2.74,
          2.7,
          2.64,
          2.54,
          2.48,
          2.46
         ],
         "yaxis": "y"
        },
        {
         "hovertemplate": "Pays=Norvège<br>Time=%{x}<br>value=%{y}<extra></extra>",
         "legendgroup": "Norvège",
         "line": {
          "color": "#636efa",
          "dash": "solid"
         },
         "marker": {
          "symbol": "circle"
         },
         "mode": "lines",
         "name": "Norvège",
         "orientation": "v",
         "showlegend": true,
         "type": "scatter",
         "x": [
          1995,
          1996,
          1997,
          1998,
          1999,
          2000,
          2001,
          2002,
          2003,
          2004,
          2005,
          2006,
          2007,
          2008,
          2009,
          2010,
          2011,
          2012,
          2013,
          2014,
          2015,
          2016,
          2017,
          2018,
          2019
         ],
         "xaxis": "x",
         "y": [
          3.57,
          3.61,
          3.61,
          3.61,
          3.44,
          3.09,
          3.1,
          3.2,
          3.15,
          3.09,
          2.92,
          2.87,
          2.85,
          2.6,
          2.63,
          2.65,
          2.49,
          2.34,
          2.33,
          2.32,
          2.35,
          2.41,
          2.3,
          2.19,
          2.11
         ],
         "yaxis": "y"
        },
        {
         "hovertemplate": "Pays=Pays-Bas<br>Time=%{x}<br>value=%{y}<extra></extra>",
         "legendgroup": "Pays-Bas",
         "line": {
          "color": "#EF553B",
          "dash": "solid"
         },
         "marker": {
          "symbol": "circle"
         },
         "mode": "lines",
         "name": "Pays-Bas",
         "orientation": "v",
         "showlegend": true,
         "type": "scatter",
         "x": [
          1995,
          1996,
          1997,
          1998,
          1999,
          2000,
          2001,
          2002,
          2003,
          2004,
          2005,
          2006,
          2007,
          2008,
          2009,
          2010,
          2011,
          2012,
          2013,
          2014,
          2015,
          2016,
          2017,
          2018,
          2019
         ],
         "xaxis": "x",
         "y": [
          3.23,
          3.42,
          3.34,
          3.37,
          3.49,
          3.47,
          3.36,
          3.24,
          3.31,
          3.42,
          3.52,
          3.59,
          3.37,
          3.44,
          3.47,
          3.49,
          3.41,
          3.24,
          3.26,
          3.31,
          3.32,
          3.35,
          3.34,
          3.34,
          3.39
         ],
         "yaxis": "y"
        },
        {
         "hovertemplate": "Pays=Pologne<br>Time=%{x}<br>value=%{y}<extra></extra>",
         "legendgroup": "Pologne",
         "line": {
          "color": "#00cc96",
          "dash": "solid"
         },
         "marker": {
          "symbol": "circle"
         },
         "mode": "lines",
         "name": "Pologne",
         "orientation": "v",
         "showlegend": true,
         "type": "scatter",
         "x": [
          1995,
          1996,
          1997,
          1998,
          1999,
          2000,
          2001,
          2002,
          2003,
          2004,
          2005,
          2006,
          2007,
          2008,
          2009,
          2010,
          2011,
          2012,
          2013,
          2014,
          2015,
          2016,
          2017,
          2018,
          2019
         ],
         "xaxis": "x",
         "y": [
          1.78,
          1.87,
          1.77,
          1.88,
          2.1,
          2.14,
          2.16,
          2.46,
          2.5,
          2.73,
          2.68,
          2.66,
          2.74,
          2.79,
          2.66,
          2.71,
          2.63,
          2.59,
          2.42,
          2.58,
          2.65,
          2.71,
          2.68,
          2.71,
          2.54
         ],
         "yaxis": "y"
        },
        {
         "hovertemplate": "Pays=Portugal<br>Time=%{x}<br>value=%{y}<extra></extra>",
         "legendgroup": "Portugal",
         "line": {
          "color": "#ab63fa",
          "dash": "solid"
         },
         "marker": {
          "symbol": "circle"
         },
         "mode": "lines",
         "name": "Portugal",
         "orientation": "v",
         "showlegend": true,
         "type": "scatter",
         "x": [
          1995,
          1996,
          1997,
          1998,
          1999,
          2000,
          2001,
          2002,
          2003,
          2004,
          2005,
          2006,
          2007,
          2008,
          2009,
          2010,
          2011,
          2012,
          2013,
          2014,
          2015,
          2016,
          2017,
          2018,
          2019
         ],
         "xaxis": "x",
         "y": [
          3.35,
          3.39,
          3.17,
          3.34,
          3.24,
          2.6,
          2.83,
          2.99,
          2.95,
          2.95,
          2.89,
          2.79,
          2.74,
          2.5,
          2.44,
          2.43,
          2.32,
          2.19,
          2.2,
          2.27,
          2.42,
          2.58,
          2.58,
          2.57,
          2.53
         ],
         "yaxis": "y"
        },
        {
         "hovertemplate": "Pays=Roumanie<br>Time=%{x}<br>value=%{y}<extra></extra>",
         "legendgroup": "Roumanie",
         "line": {
          "color": "#FFA15A",
          "dash": "solid"
         },
         "marker": {
          "symbol": "circle"
         },
         "mode": "lines",
         "name": "Roumanie",
         "orientation": "v",
         "showlegend": true,
         "type": "scatter",
         "x": [
          1995,
          1996,
          1997,
          1998,
          1999,
          2000,
          2001,
          2002,
          2003,
          2004,
          2005,
          2006,
          2007,
          2008,
          2009,
          2010,
          2011,
          2012,
          2013,
          2014,
          2015,
          2016,
          2017,
          2018,
          2019
         ],
         "xaxis": "x",
         "y": [
          1.75,
          1.74,
          2.79,
          3.05,
          3.85,
          3.4,
          2.36,
          2.12,
          2.4,
          2.38,
          2.01,
          1.94,
          2.01,
          1.7,
          1.79,
          2.11,
          1.95,
          2.01,
          2.06,
          2.38,
          2.47,
          2.4,
          1.94,
          1.97,
          2.12
         ],
         "yaxis": "y"
        },
        {
         "hovertemplate": "Pays=Slovaquie<br>Time=%{x}<br>value=%{y}<extra></extra>",
         "legendgroup": "Slovaquie",
         "line": {
          "color": "#19d3f3",
          "dash": "solid"
         },
         "marker": {
          "symbol": "circle"
         },
         "mode": "lines",
         "name": "Slovaquie",
         "orientation": "v",
         "showlegend": true,
         "type": "scatter",
         "x": [
          1995,
          1996,
          1997,
          1998,
          1999,
          2000,
          2001,
          2002,
          2003,
          2004,
          2005,
          2006,
          2007,
          2008,
          2009,
          2010,
          2011,
          2012,
          2013,
          2014,
          2015,
          2016,
          2017,
          2018,
          2019
         ],
         "xaxis": "x",
         "y": [
          2.44,
          2.21,
          2.13,
          2,
          2.06,
          2.28,
          2.01,
          2.23,
          2.45,
          2.5,
          2.4,
          2.3,
          2.13,
          2.06,
          1.97,
          2.07,
          2.42,
          2.38,
          2.52,
          2.54,
          2.5,
          2.49,
          2.54,
          2.46,
          2.39
         ],
         "yaxis": "y"
        },
        {
         "hovertemplate": "Pays=Slovénie<br>Time=%{x}<br>value=%{y}<extra></extra>",
         "legendgroup": "Slovénie",
         "line": {
          "color": "#FF6692",
          "dash": "solid"
         },
         "marker": {
          "symbol": "circle"
         },
         "mode": "lines",
         "name": "Slovénie",
         "orientation": "v",
         "showlegend": true,
         "type": "scatter",
         "x": [
          1995,
          1996,
          1997,
          1998,
          1999,
          2000,
          2001,
          2002,
          2003,
          2004,
          2005,
          2006,
          2007,
          2008,
          2009,
          2010,
          2011,
          2012,
          2013,
          2014,
          2015,
          2016,
          2017,
          2018,
          2019
         ],
         "xaxis": "x",
         "y": [
          4.11,
          4.28,
          4.39,
          4.95,
          4.07,
          2.89,
          3.17,
          3.2,
          3.24,
          3.25,
          3.16,
          2.97,
          2.96,
          2.95,
          3.48,
          3.61,
          3.45,
          3.83,
          3.92,
          3.86,
          3.88,
          3.88,
          3.67,
          3.4,
          3.34
         ],
         "yaxis": "y"
        },
        {
         "hovertemplate": "Pays=Suisse<br>Time=%{x}<br>value=%{y}<extra></extra>",
         "legendgroup": "Suisse",
         "line": {
          "color": "#B6E880",
          "dash": "solid"
         },
         "marker": {
          "symbol": "circle"
         },
         "mode": "lines",
         "name": "Suisse",
         "orientation": "v",
         "showlegend": true,
         "type": "scatter",
         "x": [
          1995,
          1996,
          1997,
          1998,
          1999,
          2000,
          2001,
          2002,
          2003,
          2004,
          2005,
          2006,
          2007,
          2008,
          2009,
          2010,
          2011,
          2012,
          2013,
          2014,
          2015,
          2016,
          2017,
          2018,
          2019
         ],
         "xaxis": "x",
         "y": [
          1.62,
          1.58,
          1.55,
          1.52,
          1.5,
          1.47,
          1.45,
          1.43,
          1.41,
          1.39,
          1.38,
          1.37,
          1.35,
          1.31,
          1.36,
          1.38,
          1.33,
          1.34,
          1.31,
          1.31,
          1.34,
          1.36,
          1.37,
          1.38,
          1.38
         ],
         "yaxis": "y"
        },
        {
         "hovertemplate": "Pays=Suède<br>Time=%{x}<br>value=%{y}<extra></extra>",
         "legendgroup": "Suède",
         "line": {
          "color": "#FF97FF",
          "dash": "solid"
         },
         "marker": {
          "symbol": "circle"
         },
         "mode": "lines",
         "name": "Suède",
         "orientation": "v",
         "showlegend": true,
         "type": "scatter",
         "x": [
          1995,
          1996,
          1997,
          1998,
          1999,
          2000,
          2001,
          2002,
          2003,
          2004,
          2005,
          2006,
          2007,
          2008,
          2009,
          2010,
          2011,
          2012,
          2013,
          2014,
          2015,
          2016,
          2017,
          2018,
          2019
         ],
         "xaxis": "x",
         "y": [
          2.59,
          2.91,
          2.77,
          2.8,
          2.68,
          2.6,
          2.62,
          2.69,
          2.74,
          2.71,
          2.76,
          2.66,
          2.55,
          2.64,
          2.75,
          2.66,
          2.44,
          2.4,
          2.32,
          2.17,
          2.15,
          2.22,
          2.11,
          2.09,
          2.05
         ],
         "yaxis": "y"
        },
        {
         "hovertemplate": "Pays=Tchéquie<br>Time=%{x}<br>value=%{y}<extra></extra>",
         "legendgroup": "Tchéquie",
         "line": {
          "color": "#FECB52",
          "dash": "solid"
         },
         "marker": {
          "symbol": "circle"
         },
         "mode": "lines",
         "name": "Tchéquie",
         "orientation": "v",
         "showlegend": true,
         "type": "scatter",
         "x": [
          1995,
          1996,
          1997,
          1998,
          1999,
          2000,
          2001,
          2002,
          2003,
          2004,
          2005,
          2006,
          2007,
          2008,
          2009,
          2010,
          2011,
          2012,
          2013,
          2014,
          2015,
          2016,
          2017,
          2018,
          2019
         ],
         "xaxis": "x",
         "y": [
          2.62,
          2.44,
          2.28,
          2.17,
          2.34,
          2.25,
          2.33,
          2.27,
          2.33,
          2.42,
          2.46,
          2.37,
          2.3,
          2.25,
          2.29,
          2.27,
          2.33,
          2.22,
          2.09,
          2.12,
          2.05,
          2.1,
          2.01,
          1.96,
          2.04
         ],
         "yaxis": "y"
        },
        {
         "hovertemplate": "Pays=Union européenne - 27 pays (à partir de 2020)<br>Time=%{x}<br>value=%{y}<extra></extra>",
         "legendgroup": "Union européenne - 27 pays (à partir de 2020)",
         "line": {
          "color": "#636efa",
          "dash": "solid"
         },
         "marker": {
          "symbol": "circle"
         },
         "mode": "lines",
         "name": "Union européenne - 27 pays (à partir de 2020)",
         "orientation": "v",
         "showlegend": true,
         "type": "scatter",
         "x": [
          1995,
          1996,
          1997,
          1998,
          1999,
          2000,
          2001,
          2002,
          2003,
          2004,
          2005,
          2006,
          2007,
          2008,
          2009,
          2010,
          2011,
          2012,
          2013,
          2014,
          2015,
          2016,
          2017,
          2018,
          2019
         ],
         "xaxis": "x",
         "y": [
          2.58,
          2.64,
          2.61,
          2.62,
          2.68,
          2.57,
          2.53,
          2.55,
          2.59,
          2.57,
          2.54,
          2.47,
          2.37,
          2.3,
          2.36,
          2.36,
          2.41,
          2.44,
          2.47,
          2.47,
          2.45,
          2.47,
          2.42,
          2.4,
          2.35
         ],
         "yaxis": "y"
        }
       ],
       "layout": {
        "legend": {
         "title": {
          "text": "Pays"
         },
         "tracegroupgap": 0
        },
        "margin": {
         "t": 60
        },
        "template": {
         "data": {
          "bar": [
           {
            "error_x": {
             "color": "#2a3f5f"
            },
            "error_y": {
             "color": "#2a3f5f"
            },
            "marker": {
             "line": {
              "color": "#E5ECF6",
              "width": 0.5
             },
             "pattern": {
              "fillmode": "overlay",
              "size": 10,
              "solidity": 0.2
             }
            },
            "type": "bar"
           }
          ],
          "barpolar": [
           {
            "marker": {
             "line": {
              "color": "#E5ECF6",
              "width": 0.5
             },
             "pattern": {
              "fillmode": "overlay",
              "size": 10,
              "solidity": 0.2
             }
            },
            "type": "barpolar"
           }
          ],
          "carpet": [
           {
            "aaxis": {
             "endlinecolor": "#2a3f5f",
             "gridcolor": "white",
             "linecolor": "white",
             "minorgridcolor": "white",
             "startlinecolor": "#2a3f5f"
            },
            "baxis": {
             "endlinecolor": "#2a3f5f",
             "gridcolor": "white",
             "linecolor": "white",
             "minorgridcolor": "white",
             "startlinecolor": "#2a3f5f"
            },
            "type": "carpet"
           }
          ],
          "choropleth": [
           {
            "colorbar": {
             "outlinewidth": 0,
             "ticks": ""
            },
            "type": "choropleth"
           }
          ],
          "contour": [
           {
            "colorbar": {
             "outlinewidth": 0,
             "ticks": ""
            },
            "colorscale": [
             [
              0,
              "#0d0887"
             ],
             [
              0.1111111111111111,
              "#46039f"
             ],
             [
              0.2222222222222222,
              "#7201a8"
             ],
             [
              0.3333333333333333,
              "#9c179e"
             ],
             [
              0.4444444444444444,
              "#bd3786"
             ],
             [
              0.5555555555555556,
              "#d8576b"
             ],
             [
              0.6666666666666666,
              "#ed7953"
             ],
             [
              0.7777777777777778,
              "#fb9f3a"
             ],
             [
              0.8888888888888888,
              "#fdca26"
             ],
             [
              1,
              "#f0f921"
             ]
            ],
            "type": "contour"
           }
          ],
          "contourcarpet": [
           {
            "colorbar": {
             "outlinewidth": 0,
             "ticks": ""
            },
            "type": "contourcarpet"
           }
          ],
          "heatmap": [
           {
            "colorbar": {
             "outlinewidth": 0,
             "ticks": ""
            },
            "colorscale": [
             [
              0,
              "#0d0887"
             ],
             [
              0.1111111111111111,
              "#46039f"
             ],
             [
              0.2222222222222222,
              "#7201a8"
             ],
             [
              0.3333333333333333,
              "#9c179e"
             ],
             [
              0.4444444444444444,
              "#bd3786"
             ],
             [
              0.5555555555555556,
              "#d8576b"
             ],
             [
              0.6666666666666666,
              "#ed7953"
             ],
             [
              0.7777777777777778,
              "#fb9f3a"
             ],
             [
              0.8888888888888888,
              "#fdca26"
             ],
             [
              1,
              "#f0f921"
             ]
            ],
            "type": "heatmap"
           }
          ],
          "heatmapgl": [
           {
            "colorbar": {
             "outlinewidth": 0,
             "ticks": ""
            },
            "colorscale": [
             [
              0,
              "#0d0887"
             ],
             [
              0.1111111111111111,
              "#46039f"
             ],
             [
              0.2222222222222222,
              "#7201a8"
             ],
             [
              0.3333333333333333,
              "#9c179e"
             ],
             [
              0.4444444444444444,
              "#bd3786"
             ],
             [
              0.5555555555555556,
              "#d8576b"
             ],
             [
              0.6666666666666666,
              "#ed7953"
             ],
             [
              0.7777777777777778,
              "#fb9f3a"
             ],
             [
              0.8888888888888888,
              "#fdca26"
             ],
             [
              1,
              "#f0f921"
             ]
            ],
            "type": "heatmapgl"
           }
          ],
          "histogram": [
           {
            "marker": {
             "pattern": {
              "fillmode": "overlay",
              "size": 10,
              "solidity": 0.2
             }
            },
            "type": "histogram"
           }
          ],
          "histogram2d": [
           {
            "colorbar": {
             "outlinewidth": 0,
             "ticks": ""
            },
            "colorscale": [
             [
              0,
              "#0d0887"
             ],
             [
              0.1111111111111111,
              "#46039f"
             ],
             [
              0.2222222222222222,
              "#7201a8"
             ],
             [
              0.3333333333333333,
              "#9c179e"
             ],
             [
              0.4444444444444444,
              "#bd3786"
             ],
             [
              0.5555555555555556,
              "#d8576b"
             ],
             [
              0.6666666666666666,
              "#ed7953"
             ],
             [
              0.7777777777777778,
              "#fb9f3a"
             ],
             [
              0.8888888888888888,
              "#fdca26"
             ],
             [
              1,
              "#f0f921"
             ]
            ],
            "type": "histogram2d"
           }
          ],
          "histogram2dcontour": [
           {
            "colorbar": {
             "outlinewidth": 0,
             "ticks": ""
            },
            "colorscale": [
             [
              0,
              "#0d0887"
             ],
             [
              0.1111111111111111,
              "#46039f"
             ],
             [
              0.2222222222222222,
              "#7201a8"
             ],
             [
              0.3333333333333333,
              "#9c179e"
             ],
             [
              0.4444444444444444,
              "#bd3786"
             ],
             [
              0.5555555555555556,
              "#d8576b"
             ],
             [
              0.6666666666666666,
              "#ed7953"
             ],
             [
              0.7777777777777778,
              "#fb9f3a"
             ],
             [
              0.8888888888888888,
              "#fdca26"
             ],
             [
              1,
              "#f0f921"
             ]
            ],
            "type": "histogram2dcontour"
           }
          ],
          "mesh3d": [
           {
            "colorbar": {
             "outlinewidth": 0,
             "ticks": ""
            },
            "type": "mesh3d"
           }
          ],
          "parcoords": [
           {
            "line": {
             "colorbar": {
              "outlinewidth": 0,
              "ticks": ""
             }
            },
            "type": "parcoords"
           }
          ],
          "pie": [
           {
            "automargin": true,
            "type": "pie"
           }
          ],
          "scatter": [
           {
            "fillpattern": {
             "fillmode": "overlay",
             "size": 10,
             "solidity": 0.2
            },
            "type": "scatter"
           }
          ],
          "scatter3d": [
           {
            "line": {
             "colorbar": {
              "outlinewidth": 0,
              "ticks": ""
             }
            },
            "marker": {
             "colorbar": {
              "outlinewidth": 0,
              "ticks": ""
             }
            },
            "type": "scatter3d"
           }
          ],
          "scattercarpet": [
           {
            "marker": {
             "colorbar": {
              "outlinewidth": 0,
              "ticks": ""
             }
            },
            "type": "scattercarpet"
           }
          ],
          "scattergeo": [
           {
            "marker": {
             "colorbar": {
              "outlinewidth": 0,
              "ticks": ""
             }
            },
            "type": "scattergeo"
           }
          ],
          "scattergl": [
           {
            "marker": {
             "colorbar": {
              "outlinewidth": 0,
              "ticks": ""
             }
            },
            "type": "scattergl"
           }
          ],
          "scattermapbox": [
           {
            "marker": {
             "colorbar": {
              "outlinewidth": 0,
              "ticks": ""
             }
            },
            "type": "scattermapbox"
           }
          ],
          "scatterpolar": [
           {
            "marker": {
             "colorbar": {
              "outlinewidth": 0,
              "ticks": ""
             }
            },
            "type": "scatterpolar"
           }
          ],
          "scatterpolargl": [
           {
            "marker": {
             "colorbar": {
              "outlinewidth": 0,
              "ticks": ""
             }
            },
            "type": "scatterpolargl"
           }
          ],
          "scatterternary": [
           {
            "marker": {
             "colorbar": {
              "outlinewidth": 0,
              "ticks": ""
             }
            },
            "type": "scatterternary"
           }
          ],
          "surface": [
           {
            "colorbar": {
             "outlinewidth": 0,
             "ticks": ""
            },
            "colorscale": [
             [
              0,
              "#0d0887"
             ],
             [
              0.1111111111111111,
              "#46039f"
             ],
             [
              0.2222222222222222,
              "#7201a8"
             ],
             [
              0.3333333333333333,
              "#9c179e"
             ],
             [
              0.4444444444444444,
              "#bd3786"
             ],
             [
              0.5555555555555556,
              "#d8576b"
             ],
             [
              0.6666666666666666,
              "#ed7953"
             ],
             [
              0.7777777777777778,
              "#fb9f3a"
             ],
             [
              0.8888888888888888,
              "#fdca26"
             ],
             [
              1,
              "#f0f921"
             ]
            ],
            "type": "surface"
           }
          ],
          "table": [
           {
            "cells": {
             "fill": {
              "color": "#EBF0F8"
             },
             "line": {
              "color": "white"
             }
            },
            "header": {
             "fill": {
              "color": "#C8D4E3"
             },
             "line": {
              "color": "white"
             }
            },
            "type": "table"
           }
          ]
         },
         "layout": {
          "annotationdefaults": {
           "arrowcolor": "#2a3f5f",
           "arrowhead": 0,
           "arrowwidth": 1
          },
          "autotypenumbers": "strict",
          "coloraxis": {
           "colorbar": {
            "outlinewidth": 0,
            "ticks": ""
           }
          },
          "colorscale": {
           "diverging": [
            [
             0,
             "#8e0152"
            ],
            [
             0.1,
             "#c51b7d"
            ],
            [
             0.2,
             "#de77ae"
            ],
            [
             0.3,
             "#f1b6da"
            ],
            [
             0.4,
             "#fde0ef"
            ],
            [
             0.5,
             "#f7f7f7"
            ],
            [
             0.6,
             "#e6f5d0"
            ],
            [
             0.7,
             "#b8e186"
            ],
            [
             0.8,
             "#7fbc41"
            ],
            [
             0.9,
             "#4d9221"
            ],
            [
             1,
             "#276419"
            ]
           ],
           "sequential": [
            [
             0,
             "#0d0887"
            ],
            [
             0.1111111111111111,
             "#46039f"
            ],
            [
             0.2222222222222222,
             "#7201a8"
            ],
            [
             0.3333333333333333,
             "#9c179e"
            ],
            [
             0.4444444444444444,
             "#bd3786"
            ],
            [
             0.5555555555555556,
             "#d8576b"
            ],
            [
             0.6666666666666666,
             "#ed7953"
            ],
            [
             0.7777777777777778,
             "#fb9f3a"
            ],
            [
             0.8888888888888888,
             "#fdca26"
            ],
            [
             1,
             "#f0f921"
            ]
           ],
           "sequentialminus": [
            [
             0,
             "#0d0887"
            ],
            [
             0.1111111111111111,
             "#46039f"
            ],
            [
             0.2222222222222222,
             "#7201a8"
            ],
            [
             0.3333333333333333,
             "#9c179e"
            ],
            [
             0.4444444444444444,
             "#bd3786"
            ],
            [
             0.5555555555555556,
             "#d8576b"
            ],
            [
             0.6666666666666666,
             "#ed7953"
            ],
            [
             0.7777777777777778,
             "#fb9f3a"
            ],
            [
             0.8888888888888888,
             "#fdca26"
            ],
            [
             1,
             "#f0f921"
            ]
           ]
          },
          "colorway": [
           "#636efa",
           "#EF553B",
           "#00cc96",
           "#ab63fa",
           "#FFA15A",
           "#19d3f3",
           "#FF6692",
           "#B6E880",
           "#FF97FF",
           "#FECB52"
          ],
          "font": {
           "color": "#2a3f5f"
          },
          "geo": {
           "bgcolor": "white",
           "lakecolor": "white",
           "landcolor": "#E5ECF6",
           "showlakes": true,
           "showland": true,
           "subunitcolor": "white"
          },
          "hoverlabel": {
           "align": "left"
          },
          "hovermode": "closest",
          "mapbox": {
           "style": "light"
          },
          "paper_bgcolor": "white",
          "plot_bgcolor": "#E5ECF6",
          "polar": {
           "angularaxis": {
            "gridcolor": "white",
            "linecolor": "white",
            "ticks": ""
           },
           "bgcolor": "#E5ECF6",
           "radialaxis": {
            "gridcolor": "white",
            "linecolor": "white",
            "ticks": ""
           }
          },
          "scene": {
           "xaxis": {
            "backgroundcolor": "#E5ECF6",
            "gridcolor": "white",
            "gridwidth": 2,
            "linecolor": "white",
            "showbackground": true,
            "ticks": "",
            "zerolinecolor": "white"
           },
           "yaxis": {
            "backgroundcolor": "#E5ECF6",
            "gridcolor": "white",
            "gridwidth": 2,
            "linecolor": "white",
            "showbackground": true,
            "ticks": "",
            "zerolinecolor": "white"
           },
           "zaxis": {
            "backgroundcolor": "#E5ECF6",
            "gridcolor": "white",
            "gridwidth": 2,
            "linecolor": "white",
            "showbackground": true,
            "ticks": "",
            "zerolinecolor": "white"
           }
          },
          "shapedefaults": {
           "line": {
            "color": "#2a3f5f"
           }
          },
          "ternary": {
           "aaxis": {
            "gridcolor": "white",
            "linecolor": "white",
            "ticks": ""
           },
           "baxis": {
            "gridcolor": "white",
            "linecolor": "white",
            "ticks": ""
           },
           "bgcolor": "#E5ECF6",
           "caxis": {
            "gridcolor": "white",
            "linecolor": "white",
            "ticks": ""
           }
          },
          "title": {
           "x": 0.05
          },
          "xaxis": {
           "automargin": true,
           "gridcolor": "white",
           "linecolor": "white",
           "ticks": "",
           "title": {
            "standoff": 15
           },
           "zerolinecolor": "white",
           "zerolinewidth": 2
          },
          "yaxis": {
           "automargin": true,
           "gridcolor": "white",
           "linecolor": "white",
           "ticks": "",
           "title": {
            "standoff": 15
           },
           "zerolinecolor": "white",
           "zerolinewidth": 2
          }
         }
        },
        "xaxis": {
         "anchor": "y",
         "domain": [
          0,
          1
         ],
         "title": {
          "text": "Time"
         }
        },
        "yaxis": {
         "anchor": "x",
         "domain": [
          0,
          1
         ],
         "title": {
          "text": "value"
         }
        }
       }
      }
     },
     "metadata": {},
     "output_type": "display_data"
    }
   ],
   "source": [
    "PC_GDP_clean_df_pivot.plot()"
   ]
  },
  {
   "cell_type": "code",
   "execution_count": 81,
   "metadata": {},
   "outputs": [
    {
     "data": {
      "application/vnd.plotly.v1+json": {
       "config": {
        "plotlyServerURL": "https://plot.ly"
       },
       "data": [
        {
         "hovertemplate": "Pays=Allemagne<br>Time=%{x}<br>value=%{y}<extra></extra>",
         "legendgroup": "Allemagne",
         "line": {
          "color": "#636efa",
          "dash": "solid"
         },
         "marker": {
          "symbol": "circle"
         },
         "mode": "lines",
         "name": "Allemagne",
         "orientation": "v",
         "showlegend": true,
         "type": "scatter",
         "x": [
          1995,
          1996,
          1997,
          1998,
          1999,
          2000,
          2001,
          2002,
          2003,
          2004,
          2005,
          2006,
          2007,
          2008,
          2009,
          2010,
          2011,
          2012,
          2013,
          2014,
          2015,
          2016,
          2017,
          2018,
          2019
         ],
         "xaxis": "x",
         "y": [
          5.45,
          5.47,
          5.41,
          5.3,
          5.58,
          5.83,
          6.47,
          6.56,
          6.84,
          6.68,
          6.49,
          6.26,
          5.77,
          5.69,
          5.85,
          5.77,
          5.78,
          5.53,
          5.36,
          5.2,
          4.95,
          4.76,
          4.61,
          4.45,
          4.39
         ],
         "yaxis": "y"
        },
        {
         "hovertemplate": "Pays=Autriche<br>Time=%{x}<br>value=%{y}<extra></extra>",
         "legendgroup": "Autriche",
         "line": {
          "color": "#EF553B",
          "dash": "solid"
         },
         "marker": {
          "symbol": "circle"
         },
         "mode": "lines",
         "name": "Autriche",
         "orientation": "v",
         "showlegend": true,
         "type": "scatter",
         "x": [
          1995,
          1996,
          1997,
          1998,
          1999,
          2000,
          2001,
          2002,
          2003,
          2004,
          2005,
          2006,
          2007,
          2008,
          2009,
          2010,
          2011,
          2012,
          2013,
          2014,
          2015,
          2016,
          2017,
          2018,
          2019
         ],
         "xaxis": "x",
         "y": [
          5.18,
          5.04,
          5.38,
          5.26,
          5.33,
          5.68,
          5.86,
          6.13,
          6.33,
          6.33,
          6.27,
          6,
          5.83,
          5.66,
          5.73,
          5.68,
          5.87,
          5.75,
          5.58,
          5.59,
          5.51,
          5.61,
          5.71,
          5.39,
          5.35
         ],
         "yaxis": "y"
        },
        {
         "hovertemplate": "Pays=Belgique<br>Time=%{x}<br>value=%{y}<extra></extra>",
         "legendgroup": "Belgique",
         "line": {
          "color": "#00cc96",
          "dash": "solid"
         },
         "marker": {
          "symbol": "circle"
         },
         "mode": "lines",
         "name": "Belgique",
         "orientation": "v",
         "showlegend": true,
         "type": "scatter",
         "x": [
          1995,
          1996,
          1997,
          1998,
          1999,
          2000,
          2001,
          2002,
          2003,
          2004,
          2005,
          2006,
          2007,
          2008,
          2009,
          2010,
          2011,
          2012,
          2013,
          2014,
          2015,
          2016,
          2017,
          2018,
          2019
         ],
         "xaxis": "x",
         "y": [
          5.58,
          6.07,
          6.02,
          5.78,
          5.8,
          5.43,
          5.42,
          5.28,
          5.52,
          5.77,
          5.79,
          5.4,
          5.39,
          5.22,
          5.46,
          5.61,
          5.8,
          5.56,
          5.48,
          5.57,
          5.66,
          6.03,
          6.02,
          6.02,
          6.07
         ],
         "yaxis": "y"
        },
        {
         "hovertemplate": "Pays=Bulgarie<br>Time=%{x}<br>value=%{y}<extra></extra>",
         "legendgroup": "Bulgarie",
         "line": {
          "color": "#ab63fa",
          "dash": "solid"
         },
         "marker": {
          "symbol": "circle"
         },
         "mode": "lines",
         "name": "Bulgarie",
         "orientation": "v",
         "showlegend": true,
         "type": "scatter",
         "x": [
          1995,
          1996,
          1997,
          1998,
          1999,
          2000,
          2001,
          2002,
          2003,
          2004,
          2005,
          2006,
          2007,
          2008,
          2009,
          2010,
          2011,
          2012,
          2013,
          2014,
          2015,
          2016,
          2017,
          2018,
          2019
         ],
         "xaxis": "x",
         "y": [
          5.96,
          3.8,
          3.97,
          7.7,
          7.47,
          8.17,
          7.6,
          7.74,
          9.14,
          9.56,
          9.62,
          9.12,
          10.47,
          10.75,
          10.62,
          10.81,
          10.48,
          10.15,
          10.15,
          9.99,
          10.23,
          10.2,
          9.38,
          8.81,
          9.85
         ],
         "yaxis": "y"
        },
        {
         "hovertemplate": "Pays=Chypre<br>Time=%{x}<br>value=%{y}<extra></extra>",
         "legendgroup": "Chypre",
         "line": {
          "color": "#FFA15A",
          "dash": "solid"
         },
         "marker": {
          "symbol": "circle"
         },
         "mode": "lines",
         "name": "Chypre",
         "orientation": "v",
         "showlegend": true,
         "type": "scatter",
         "x": [
          1995,
          1996,
          1997,
          1998,
          1999,
          2000,
          2001,
          2002,
          2003,
          2004,
          2005,
          2006,
          2007,
          2008,
          2009,
          2010,
          2011,
          2012,
          2013,
          2014,
          2015,
          2016,
          2017,
          2018,
          2019
         ],
         "xaxis": "x",
         "y": [
          10.52,
          10.38,
          9.39,
          9.1,
          8.9,
          9.05,
          9.79,
          9.69,
          12.01,
          12.32,
          10.58,
          9.63,
          8.7,
          8.69,
          8.76,
          8.67,
          8.68,
          8.15,
          8.56,
          9.09,
          9.17,
          9.05,
          9.12,
          8.8,
          7.37
         ],
         "yaxis": "y"
        },
        {
         "hovertemplate": "Pays=Croatie<br>Time=%{x}<br>value=%{y}<extra></extra>",
         "legendgroup": "Croatie",
         "line": {
          "color": "#19d3f3",
          "dash": "solid"
         },
         "marker": {
          "symbol": "circle"
         },
         "mode": "lines",
         "name": "Croatie",
         "orientation": "v",
         "showlegend": true,
         "type": "scatter",
         "x": [
          1995,
          1996,
          1997,
          1998,
          1999,
          2000,
          2001,
          2002,
          2003,
          2004,
          2005,
          2006,
          2007,
          2008,
          2009,
          2010,
          2011,
          2012,
          2013,
          2014,
          2015,
          2016,
          2017,
          2018,
          2019
         ],
         "xaxis": "x",
         "y": [
          5.66,
          5.54,
          5.02,
          5.25,
          5.72,
          7.18,
          7.74,
          9.31,
          9.64,
          9.49,
          9.21,
          8.85,
          8.43,
          7.72,
          7.78,
          8.41,
          7.56,
          7.1,
          7.78,
          8.63,
          9.09,
          9.29,
          9.38,
          9.36,
          9.2
         ],
         "yaxis": "y"
        },
        {
         "hovertemplate": "Pays=Danemark<br>Time=%{x}<br>value=%{y}<extra></extra>",
         "legendgroup": "Danemark",
         "line": {
          "color": "#FF6692",
          "dash": "solid"
         },
         "marker": {
          "symbol": "circle"
         },
         "mode": "lines",
         "name": "Danemark",
         "orientation": "v",
         "showlegend": true,
         "type": "scatter",
         "x": [
          1995,
          1996,
          1997,
          1998,
          1999,
          2000,
          2001,
          2002,
          2003,
          2004,
          2005,
          2006,
          2007,
          2008,
          2009,
          2010,
          2011,
          2012,
          2013,
          2014,
          2015,
          2016,
          2017,
          2018,
          2019
         ],
         "xaxis": "x",
         "y": [
          9.27,
          9.71,
          9.77,
          11.12,
          11.08,
          10.32,
          10.49,
          11.01,
          10.54,
          10.75,
          10.25,
          10.07,
          10.21,
          9.32,
          8.88,
          8.92,
          8.92,
          8.67,
          8.95,
          8.17,
          8.57,
          8.55,
          8.02,
          8.15,
          7.04
         ],
         "yaxis": "y"
        },
        {
         "hovertemplate": "Pays=Espagne<br>Time=%{x}<br>value=%{y}<extra></extra>",
         "legendgroup": "Espagne",
         "line": {
          "color": "#B6E880",
          "dash": "solid"
         },
         "marker": {
          "symbol": "circle"
         },
         "mode": "lines",
         "name": "Espagne",
         "orientation": "v",
         "showlegend": true,
         "type": "scatter",
         "x": [
          1995,
          1996,
          1997,
          1998,
          1999,
          2000,
          2001,
          2002,
          2003,
          2004,
          2005,
          2006,
          2007,
          2008,
          2009,
          2010,
          2011,
          2012,
          2013,
          2014,
          2015,
          2016,
          2017,
          2018,
          2019
         ],
         "xaxis": "x",
         "y": [
          6.78,
          6.76,
          6.4,
          6.75,
          6.79,
          6.44,
          6.16,
          6.06,
          6.03,
          5.74,
          5.39,
          5.08,
          4.86,
          5.09,
          5.45,
          5.25,
          5.08,
          4.88,
          5.8,
          5.52,
          5.7,
          5.54,
          5.42,
          5.28,
          5.09
         ],
         "yaxis": "y"
        },
        {
         "hovertemplate": "Pays=Estonie<br>Time=%{x}<br>value=%{y}<extra></extra>",
         "legendgroup": "Estonie",
         "line": {
          "color": "#FF97FF",
          "dash": "solid"
         },
         "marker": {
          "symbol": "circle"
         },
         "mode": "lines",
         "name": "Estonie",
         "orientation": "v",
         "showlegend": true,
         "type": "scatter",
         "x": [
          1995,
          1996,
          1997,
          1998,
          1999,
          2000,
          2001,
          2002,
          2003,
          2004,
          2005,
          2006,
          2007,
          2008,
          2009,
          2010,
          2011,
          2012,
          2013,
          2014,
          2015,
          2016,
          2017,
          2018,
          2019
         ],
         "xaxis": "x",
         "y": [
          2.45,
          4.13,
          4.46,
          5.6,
          5.18,
          5.44,
          6.96,
          6.38,
          6.11,
          6.73,
          7.58,
          7.17,
          7,
          7.37,
          8.42,
          8.82,
          8.65,
          8.61,
          8.09,
          8.27,
          8.19,
          8.85,
          8.71,
          8.31,
          9.57
         ],
         "yaxis": "y"
        },
        {
         "hovertemplate": "Pays=Finlande<br>Time=%{x}<br>value=%{y}<extra></extra>",
         "legendgroup": "Finlande",
         "line": {
          "color": "#FECB52",
          "dash": "solid"
         },
         "marker": {
          "symbol": "circle"
         },
         "mode": "lines",
         "name": "Finlande",
         "orientation": "v",
         "showlegend": true,
         "type": "scatter",
         "x": [
          1995,
          1996,
          1997,
          1998,
          1999,
          2000,
          2001,
          2002,
          2003,
          2004,
          2005,
          2006,
          2007,
          2008,
          2009,
          2010,
          2011,
          2012,
          2013,
          2014,
          2015,
          2016,
          2017,
          2018,
          2019
         ],
         "xaxis": "x",
         "y": [
          6.42,
          6.63,
          7.23,
          7.2,
          7.49,
          6.67,
          6.67,
          6.86,
          7.28,
          7.47,
          7.06,
          6.91,
          6.41,
          6.3,
          6.19,
          6.57,
          7.18,
          6.98,
          6.71,
          6.62,
          6.65,
          7.05,
          6.9,
          6.92,
          6.63
         ],
         "yaxis": "y"
        },
        {
         "hovertemplate": "Pays=France<br>Time=%{x}<br>value=%{y}<extra></extra>",
         "legendgroup": "France",
         "line": {
          "color": "#636efa",
          "dash": "solid"
         },
         "marker": {
          "symbol": "circle"
         },
         "mode": "lines",
         "name": "France",
         "orientation": "v",
         "showlegend": true,
         "type": "scatter",
         "x": [
          1995,
          1996,
          1997,
          1998,
          1999,
          2000,
          2001,
          2002,
          2003,
          2004,
          2005,
          2006,
          2007,
          2008,
          2009,
          2010,
          2011,
          2012,
          2013,
          2014,
          2015,
          2016,
          2017,
          2018,
          2019
         ],
         "xaxis": "x",
         "y": [
          5.95,
          5.92,
          5.64,
          5.64,
          5.38,
          5.01,
          4.55,
          4.85,
          4.69,
          4.9,
          4.68,
          4.52,
          4.39,
          4.32,
          4.43,
          4.47,
          4.43,
          4.4,
          4.45,
          4.45,
          4.73,
          4.91,
          4.98,
          5.13,
          5.1
         ],
         "yaxis": "y"
        },
        {
         "hovertemplate": "Pays=Grèce<br>Time=%{x}<br>value=%{y}<extra></extra>",
         "legendgroup": "Grèce",
         "line": {
          "color": "#EF553B",
          "dash": "solid"
         },
         "marker": {
          "symbol": "circle"
         },
         "mode": "lines",
         "name": "Grèce",
         "orientation": "v",
         "showlegend": true,
         "type": "scatter",
         "x": [
          1995,
          1996,
          1997,
          1998,
          1999,
          2000,
          2001,
          2002,
          2003,
          2004,
          2005,
          2006,
          2007,
          2008,
          2009,
          2010,
          2011,
          2012,
          2013,
          2014,
          2015,
          2016,
          2017,
          2018,
          2019
         ],
         "xaxis": "x",
         "y": [
          11.11,
          11.2,
          10.01,
          9.16,
          8.06,
          6.68,
          6.91,
          6.85,
          6.84,
          6.97,
          6.63,
          6.55,
          6.54,
          6.46,
          6.77,
          8.26,
          8.64,
          9.15,
          10.2,
          10.29,
          10.46,
          9.82,
          10.24,
          9.49,
          9.79
         ],
         "yaxis": "y"
        },
        {
         "hovertemplate": "Pays=Hongrie<br>Time=%{x}<br>value=%{y}<extra></extra>",
         "legendgroup": "Hongrie",
         "line": {
          "color": "#00cc96",
          "dash": "solid"
         },
         "marker": {
          "symbol": "circle"
         },
         "mode": "lines",
         "name": "Hongrie",
         "orientation": "v",
         "showlegend": true,
         "type": "scatter",
         "x": [
          1995,
          1996,
          1997,
          1998,
          1999,
          2000,
          2001,
          2002,
          2003,
          2004,
          2005,
          2006,
          2007,
          2008,
          2009,
          2010,
          2011,
          2012,
          2013,
          2014,
          2015,
          2016,
          2017,
          2018,
          2019
         ],
         "xaxis": "x",
         "y": [
          6.33,
          6.69,
          6.97,
          8.55,
          8.48,
          7.5,
          7.12,
          7.09,
          6.94,
          7.58,
          7.45,
          7.79,
          7.03,
          6.82,
          6.74,
          7.17,
          7,
          6.49,
          6.32,
          6.26,
          6.37,
          6.47,
          6.43,
          6.16,
          6.22
         ],
         "yaxis": "y"
        },
        {
         "hovertemplate": "Pays=Irlande<br>Time=%{x}<br>value=%{y}<extra></extra>",
         "legendgroup": "Irlande",
         "line": {
          "color": "#ab63fa",
          "dash": "solid"
         },
         "marker": {
          "symbol": "circle"
         },
         "mode": "lines",
         "name": "Irlande",
         "orientation": "v",
         "showlegend": true,
         "type": "scatter",
         "x": [
          1995,
          1996,
          1997,
          1998,
          1999,
          2000,
          2001,
          2002,
          2003,
          2004,
          2005,
          2006,
          2007,
          2008,
          2009,
          2010,
          2011,
          2012,
          2013,
          2014,
          2015,
          2016,
          2017,
          2018,
          2019
         ],
         "xaxis": "x",
         "y": [
          9.22,
          9.37,
          9.28,
          9.45,
          9.39,
          8.92,
          7.95,
          8.16,
          7.95,
          8.3,
          8.25,
          7.72,
          7.93,
          7.92,
          8.05,
          8.81,
          8.78,
          8.43,
          8.61,
          8.34,
          8.15,
          8.02,
          7.78,
          7.01,
          6.41
         ],
         "yaxis": "y"
        },
        {
         "hovertemplate": "Pays=Islande<br>Time=%{x}<br>value=%{y}<extra></extra>",
         "legendgroup": "Islande",
         "line": {
          "color": "#FFA15A",
          "dash": "solid"
         },
         "marker": {
          "symbol": "circle"
         },
         "mode": "lines",
         "name": "Islande",
         "orientation": "v",
         "showlegend": true,
         "type": "scatter",
         "x": [
          1995,
          1996,
          1997,
          1998,
          1999,
          2000,
          2001,
          2002,
          2003,
          2004,
          2005,
          2006,
          2007,
          2008,
          2009,
          2010,
          2011,
          2012,
          2013,
          2014,
          2015,
          2016,
          2017,
          2018,
          2019
         ],
         "xaxis": "x",
         "y": [
          null,
          null,
          null,
          10.48,
          10.24,
          9.55,
          8.27,
          7.9,
          8.31,
          8.3,
          8.27,
          7.43,
          7.34,
          6.32,
          6.37,
          7.02,
          6.83,
          6.9,
          6.4,
          5.84,
          6.13,
          4.14,
          5.92,
          5.8,
          5.72
         ],
         "yaxis": "y"
        },
        {
         "hovertemplate": "Pays=Italie<br>Time=%{x}<br>value=%{y}<extra></extra>",
         "legendgroup": "Italie",
         "line": {
          "color": "#19d3f3",
          "dash": "solid"
         },
         "marker": {
          "symbol": "circle"
         },
         "mode": "lines",
         "name": "Italie",
         "orientation": "v",
         "showlegend": true,
         "type": "scatter",
         "x": [
          1995,
          1996,
          1997,
          1998,
          1999,
          2000,
          2001,
          2002,
          2003,
          2004,
          2005,
          2006,
          2007,
          2008,
          2009,
          2010,
          2011,
          2012,
          2013,
          2014,
          2015,
          2016,
          2017,
          2018,
          2019
         ],
         "xaxis": "x",
         "y": [
          8.94,
          8.31,
          7.93,
          7.93,
          8.19,
          7.64,
          7.57,
          7.4,
          7.51,
          7.25,
          7.43,
          7.14,
          6.57,
          6.22,
          6.7,
          6.73,
          7.36,
          8.03,
          7.93,
          8.32,
          7.92,
          8.33,
          7.99,
          7.94,
          7.7
         ],
         "yaxis": "y"
        },
        {
         "hovertemplate": "Pays=Lettonie<br>Time=%{x}<br>value=%{y}<extra></extra>",
         "legendgroup": "Lettonie",
         "line": {
          "color": "#FF6692",
          "dash": "solid"
         },
         "marker": {
          "symbol": "circle"
         },
         "mode": "lines",
         "name": "Lettonie",
         "orientation": "v",
         "showlegend": true,
         "type": "scatter",
         "x": [
          1995,
          1996,
          1997,
          1998,
          1999,
          2000,
          2001,
          2002,
          2003,
          2004,
          2005,
          2006,
          2007,
          2008,
          2009,
          2010,
          2011,
          2012,
          2013,
          2014,
          2015,
          2016,
          2017,
          2018,
          2019
         ],
         "xaxis": "x",
         "y": [
          3.23,
          5.12,
          6.42,
          8.77,
          7.32,
          7.67,
          7.16,
          7.69,
          8.28,
          8.9,
          9.03,
          7.76,
          7.22,
          7.43,
          9.62,
          10.47,
          10.56,
          10.28,
          10.81,
          11.28,
          11.75,
          11.66,
          11.23,
          10.87,
          9.58
         ],
         "yaxis": "y"
        },
        {
         "hovertemplate": "Pays=Lituanie<br>Time=%{x}<br>value=%{y}<extra></extra>",
         "legendgroup": "Lituanie",
         "line": {
          "color": "#B6E880",
          "dash": "solid"
         },
         "marker": {
          "symbol": "circle"
         },
         "mode": "lines",
         "name": "Lituanie",
         "orientation": "v",
         "showlegend": true,
         "type": "scatter",
         "x": [
          1995,
          1996,
          1997,
          1998,
          1999,
          2000,
          2001,
          2002,
          2003,
          2004,
          2005,
          2006,
          2007,
          2008,
          2009,
          2010,
          2011,
          2012,
          2013,
          2014,
          2015,
          2016,
          2017,
          2018,
          2019
         ],
         "xaxis": "x",
         "y": [
          6.78,
          6.88,
          6.87,
          7.77,
          9,
          7.95,
          8.72,
          9.68,
          9.68,
          9.3,
          7.85,
          5.97,
          5.82,
          5.34,
          6.68,
          6.46,
          6.2,
          6.09,
          6.23,
          6.31,
          6.4,
          6.48,
          6.49,
          6.58,
          6.23
         ],
         "yaxis": "y"
        },
        {
         "hovertemplate": "Pays=Luxembourg<br>Time=%{x}<br>value=%{y}<extra></extra>",
         "legendgroup": "Luxembourg",
         "line": {
          "color": "#FF97FF",
          "dash": "solid"
         },
         "marker": {
          "symbol": "circle"
         },
         "mode": "lines",
         "name": "Luxembourg",
         "orientation": "v",
         "showlegend": true,
         "type": "scatter",
         "x": [
          1995,
          1996,
          1997,
          1998,
          1999,
          2000,
          2001,
          2002,
          2003,
          2004,
          2005,
          2006,
          2007,
          2008,
          2009,
          2010,
          2011,
          2012,
          2013,
          2014,
          2015,
          2016,
          2017,
          2018,
          2019
         ],
         "xaxis": "x",
         "y": [
          8,
          7.77,
          7.52,
          7.43,
          7.31,
          7.09,
          7.09,
          7.05,
          7.28,
          8.17,
          7.84,
          7.36,
          7.05,
          7.01,
          6.55,
          6.32,
          6.34,
          6.12,
          5.66,
          5.23,
          5.05,
          4.67,
          4.45,
          4.33,
          4.42
         ],
         "yaxis": "y"
        },
        {
         "hovertemplate": "Pays=Malte<br>Time=%{x}<br>value=%{y}<extra></extra>",
         "legendgroup": "Malte",
         "line": {
          "color": "#FECB52",
          "dash": "solid"
         },
         "marker": {
          "symbol": "circle"
         },
         "mode": "lines",
         "name": "Malte",
         "orientation": "v",
         "showlegend": true,
         "type": "scatter",
         "x": [
          1995,
          1996,
          1997,
          1998,
          1999,
          2000,
          2001,
          2002,
          2003,
          2004,
          2005,
          2006,
          2007,
          2008,
          2009,
          2010,
          2011,
          2012,
          2013,
          2014,
          2015,
          2016,
          2017,
          2018,
          2019
         ],
         "xaxis": "x",
         "y": [
          11.71,
          12.14,
          12.8,
          15.38,
          14.55,
          13,
          12.17,
          10.85,
          10.7,
          9.42,
          9.72,
          9.97,
          10.75,
          10.16,
          9.74,
          9.04,
          9.61,
          8.85,
          8.24,
          8.7,
          9.12,
          8.59,
          8.4,
          8.2,
          8.25
         ],
         "yaxis": "y"
        },
        {
         "hovertemplate": "Pays=Norvège<br>Time=%{x}<br>value=%{y}<extra></extra>",
         "legendgroup": "Norvège",
         "line": {
          "color": "#636efa",
          "dash": "solid"
         },
         "marker": {
          "symbol": "circle"
         },
         "mode": "lines",
         "name": "Norvège",
         "orientation": "v",
         "showlegend": true,
         "type": "scatter",
         "x": [
          1995,
          1996,
          1997,
          1998,
          1999,
          2000,
          2001,
          2002,
          2003,
          2004,
          2005,
          2006,
          2007,
          2008,
          2009,
          2010,
          2011,
          2012,
          2013,
          2014,
          2015,
          2016,
          2017,
          2018,
          2019
         ],
         "xaxis": "x",
         "y": [
          8.79,
          8.81,
          8.84,
          8.8,
          8.33,
          7.4,
          7.37,
          7.56,
          7.56,
          7.31,
          6.84,
          6.72,
          6.77,
          6.28,
          6.38,
          6.32,
          5.92,
          5.62,
          5.84,
          5.97,
          6.09,
          6.18,
          5.9,
          5.54,
          5.24
         ],
         "yaxis": "y"
        },
        {
         "hovertemplate": "Pays=Pays-Bas<br>Time=%{x}<br>value=%{y}<extra></extra>",
         "legendgroup": "Pays-Bas",
         "line": {
          "color": "#EF553B",
          "dash": "solid"
         },
         "marker": {
          "symbol": "circle"
         },
         "mode": "lines",
         "name": "Pays-Bas",
         "orientation": "v",
         "showlegend": true,
         "type": "scatter",
         "x": [
          1995,
          1996,
          1997,
          1998,
          1999,
          2000,
          2001,
          2002,
          2003,
          2004,
          2005,
          2006,
          2007,
          2008,
          2009,
          2010,
          2011,
          2012,
          2013,
          2014,
          2015,
          2016,
          2017,
          2018,
          2019
         ],
         "xaxis": "x",
         "y": [
          8.68,
          9.16,
          9.1,
          9.32,
          9.39,
          9.42,
          9.47,
          9.25,
          9.51,
          9.84,
          10.06,
          9.96,
          9.48,
          9.56,
          9.87,
          9.83,
          9.62,
          9.12,
          9.05,
          8.93,
          8.99,
          8.73,
          8.63,
          8.62,
          8.64
         ],
         "yaxis": "y"
        },
        {
         "hovertemplate": "Pays=Pologne<br>Time=%{x}<br>value=%{y}<extra></extra>",
         "legendgroup": "Pologne",
         "line": {
          "color": "#00cc96",
          "dash": "solid"
         },
         "marker": {
          "symbol": "circle"
         },
         "mode": "lines",
         "name": "Pologne",
         "orientation": "v",
         "showlegend": true,
         "type": "scatter",
         "x": [
          1995,
          1996,
          1997,
          1998,
          1999,
          2000,
          2001,
          2002,
          2003,
          2004,
          2005,
          2006,
          2007,
          2008,
          2009,
          2010,
          2011,
          2012,
          2013,
          2014,
          2015,
          2016,
          2017,
          2018,
          2019
         ],
         "xaxis": "x",
         "y": [
          4.87,
          5.1,
          4.91,
          5.33,
          6.01,
          6.51,
          6.58,
          7.45,
          7.71,
          8.56,
          8.14,
          7.92,
          7.93,
          8.14,
          8.5,
          8.66,
          8.27,
          8.06,
          7.55,
          8.05,
          8.17,
          8.11,
          7.85,
          7.7,
          7.23
         ],
         "yaxis": "y"
        },
        {
         "hovertemplate": "Pays=Portugal<br>Time=%{x}<br>value=%{y}<extra></extra>",
         "legendgroup": "Portugal",
         "line": {
          "color": "#ab63fa",
          "dash": "solid"
         },
         "marker": {
          "symbol": "circle"
         },
         "mode": "lines",
         "name": "Portugal",
         "orientation": "v",
         "showlegend": true,
         "type": "scatter",
         "x": [
          1995,
          1996,
          1997,
          1998,
          1999,
          2000,
          2001,
          2002,
          2003,
          2004,
          2005,
          2006,
          2007,
          2008,
          2009,
          2010,
          2011,
          2012,
          2013,
          2014,
          2015,
          2016,
          2017,
          2018,
          2019
         ],
         "xaxis": "x",
         "y": [
          11.47,
          11.36,
          10.65,
          11.12,
          10.49,
          8.41,
          9.21,
          9.6,
          9.8,
          9.75,
          9.34,
          8.89,
          8.62,
          7.89,
          8.18,
          8,
          7.2,
          6.91,
          6.49,
          6.65,
          7.03,
          7.59,
          7.56,
          7.41,
          7.33
         ],
         "yaxis": "y"
        },
        {
         "hovertemplate": "Pays=Roumanie<br>Time=%{x}<br>value=%{y}<extra></extra>",
         "legendgroup": "Roumanie",
         "line": {
          "color": "#FFA15A",
          "dash": "solid"
         },
         "marker": {
          "symbol": "circle"
         },
         "mode": "lines",
         "name": "Roumanie",
         "orientation": "v",
         "showlegend": true,
         "type": "scatter",
         "x": [
          1995,
          1996,
          1997,
          1998,
          1999,
          2000,
          2001,
          2002,
          2003,
          2004,
          2005,
          2006,
          2007,
          2008,
          2009,
          2010,
          2011,
          2012,
          2013,
          2014,
          2015,
          2016,
          2017,
          2018,
          2019
         ],
         "xaxis": "x",
         "y": [
          6.32,
          6.72,
          10.55,
          10.52,
          12.43,
          11.23,
          8.22,
          7.54,
          8.4,
          8.59,
          7.15,
          6.76,
          7.07,
          6.33,
          7.11,
          8,
          6.89,
          7.21,
          7.52,
          8.66,
          8.79,
          9.27,
          7.78,
          7.59,
          8.14
         ],
         "yaxis": "y"
        },
        {
         "hovertemplate": "Pays=Slovaquie<br>Time=%{x}<br>value=%{y}<extra></extra>",
         "legendgroup": "Slovaquie",
         "line": {
          "color": "#19d3f3",
          "dash": "solid"
         },
         "marker": {
          "symbol": "circle"
         },
         "mode": "lines",
         "name": "Slovaquie",
         "orientation": "v",
         "showlegend": true,
         "type": "scatter",
         "x": [
          1995,
          1996,
          1997,
          1998,
          1999,
          2000,
          2001,
          2002,
          2003,
          2004,
          2005,
          2006,
          2007,
          2008,
          2009,
          2010,
          2011,
          2012,
          2013,
          2014,
          2015,
          2016,
          2017,
          2018,
          2019
         ],
         "xaxis": "x",
         "y": [
          6.19,
          5.74,
          5.82,
          5.53,
          5.91,
          6.74,
          6.12,
          6.79,
          7.51,
          7.92,
          7.65,
          7.84,
          7.31,
          7.12,
          6.85,
          7.43,
          8.35,
          8.28,
          8.16,
          7.98,
          7.7,
          7.55,
          7.51,
          7.24,
          6.95
         ],
         "yaxis": "y"
        },
        {
         "hovertemplate": "Pays=Slovénie<br>Time=%{x}<br>value=%{y}<extra></extra>",
         "legendgroup": "Slovénie",
         "line": {
          "color": "#FF6692",
          "dash": "solid"
         },
         "marker": {
          "symbol": "circle"
         },
         "mode": "lines",
         "name": "Slovénie",
         "orientation": "v",
         "showlegend": true,
         "type": "scatter",
         "x": [
          1995,
          1996,
          1997,
          1998,
          1999,
          2000,
          2001,
          2002,
          2003,
          2004,
          2005,
          2006,
          2007,
          2008,
          2009,
          2010,
          2011,
          2012,
          2013,
          2014,
          2015,
          2016,
          2017,
          2018,
          2019
         ],
         "xaxis": "x",
         "y": [
          10.5,
          11.21,
          11.86,
          13.08,
          10.66,
          7.67,
          8.4,
          8.37,
          8.43,
          8.45,
          8.07,
          7.67,
          7.78,
          7.87,
          9.32,
          9.49,
          9.17,
          10.11,
          10.45,
          10.31,
          10.34,
          10.31,
          9.84,
          9.08,
          8.93
         ],
         "yaxis": "y"
        },
        {
         "hovertemplate": "Pays=Suisse<br>Time=%{x}<br>value=%{y}<extra></extra>",
         "legendgroup": "Suisse",
         "line": {
          "color": "#B6E880",
          "dash": "solid"
         },
         "marker": {
          "symbol": "circle"
         },
         "mode": "lines",
         "name": "Suisse",
         "orientation": "v",
         "showlegend": true,
         "type": "scatter",
         "x": [
          1995,
          1996,
          1997,
          1998,
          1999,
          2000,
          2001,
          2002,
          2003,
          2004,
          2005,
          2006,
          2007,
          2008,
          2009,
          2010,
          2011,
          2012,
          2013,
          2014,
          2015,
          2016,
          2017,
          2018,
          2019
         ],
         "xaxis": "x",
         "y": [
          5.6,
          5.56,
          5.52,
          5.48,
          5.45,
          5.41,
          5.38,
          5.35,
          5.32,
          5.29,
          5.27,
          5.24,
          5.22,
          5.06,
          5.2,
          5.38,
          5.14,
          5.17,
          5.03,
          5.06,
          5.03,
          5.11,
          5,
          5.15,
          5.07
         ],
         "yaxis": "y"
        },
        {
         "hovertemplate": "Pays=Suède<br>Time=%{x}<br>value=%{y}<extra></extra>",
         "legendgroup": "Suède",
         "line": {
          "color": "#FF97FF",
          "dash": "solid"
         },
         "marker": {
          "symbol": "circle"
         },
         "mode": "lines",
         "name": "Suède",
         "orientation": "v",
         "showlegend": true,
         "type": "scatter",
         "x": [
          1995,
          1996,
          1997,
          1998,
          1999,
          2000,
          2001,
          2002,
          2003,
          2004,
          2005,
          2006,
          2007,
          2008,
          2009,
          2010,
          2011,
          2012,
          2013,
          2014,
          2015,
          2016,
          2017,
          2018,
          2019
         ],
         "xaxis": "x",
         "y": [
          5.66,
          6.08,
          5.76,
          5.79,
          5.5,
          5.35,
          5.62,
          5.98,
          6.06,
          5.95,
          5.93,
          5.78,
          5.69,
          6,
          6.3,
          6.21,
          5.81,
          5.69,
          5.46,
          5.16,
          5.05,
          5.03,
          4.8,
          4.76,
          4.79
         ],
         "yaxis": "y"
        },
        {
         "hovertemplate": "Pays=Tchéquie<br>Time=%{x}<br>value=%{y}<extra></extra>",
         "legendgroup": "Tchéquie",
         "line": {
          "color": "#FECB52",
          "dash": "solid"
         },
         "marker": {
          "symbol": "circle"
         },
         "mode": "lines",
         "name": "Tchéquie",
         "orientation": "v",
         "showlegend": true,
         "type": "scatter",
         "x": [
          1995,
          1996,
          1997,
          1998,
          1999,
          2000,
          2001,
          2002,
          2003,
          2004,
          2005,
          2006,
          2007,
          2008,
          2009,
          2010,
          2011,
          2012,
          2013,
          2014,
          2015,
          2016,
          2017,
          2018,
          2019
         ],
         "xaxis": "x",
         "y": [
          7.63,
          7.39,
          6.84,
          6.74,
          7.08,
          6.94,
          7.19,
          6.81,
          6.87,
          7.02,
          7.15,
          6.95,
          6.65,
          6.72,
          7.05,
          6.89,
          6.85,
          6.43,
          5.99,
          6.21,
          5.98,
          5.99,
          5.67,
          5.44,
          5.67
         ],
         "yaxis": "y"
        },
        {
         "hovertemplate": "Pays=Union européenne - 27 pays (à partir de 2020)<br>Time=%{x}<br>value=%{y}<extra></extra>",
         "legendgroup": "Union européenne - 27 pays (à partir de 2020)",
         "line": {
          "color": "#636efa",
          "dash": "solid"
         },
         "marker": {
          "symbol": "circle"
         },
         "mode": "lines",
         "name": "Union européenne - 27 pays (à partir de 2020)",
         "orientation": "v",
         "showlegend": true,
         "type": "scatter",
         "x": [
          1995,
          1996,
          1997,
          1998,
          1999,
          2000,
          2001,
          2002,
          2003,
          2004,
          2005,
          2006,
          2007,
          2008,
          2009,
          2010,
          2011,
          2012,
          2013,
          2014,
          2015,
          2016,
          2017,
          2018,
          2019
         ],
         "xaxis": "x",
         "y": [
          6.61,
          6.65,
          6.52,
          6.57,
          6.64,
          6.44,
          6.51,
          6.62,
          6.71,
          6.71,
          6.58,
          6.35,
          6.07,
          5.98,
          6.2,
          6.23,
          6.27,
          6.22,
          6.2,
          6.2,
          6.16,
          6.21,
          6.06,
          5.99,
          5.89
         ],
         "yaxis": "y"
        }
       ],
       "layout": {
        "legend": {
         "title": {
          "text": "Pays"
         },
         "tracegroupgap": 0
        },
        "margin": {
         "t": 60
        },
        "template": {
         "data": {
          "bar": [
           {
            "error_x": {
             "color": "#2a3f5f"
            },
            "error_y": {
             "color": "#2a3f5f"
            },
            "marker": {
             "line": {
              "color": "#E5ECF6",
              "width": 0.5
             },
             "pattern": {
              "fillmode": "overlay",
              "size": 10,
              "solidity": 0.2
             }
            },
            "type": "bar"
           }
          ],
          "barpolar": [
           {
            "marker": {
             "line": {
              "color": "#E5ECF6",
              "width": 0.5
             },
             "pattern": {
              "fillmode": "overlay",
              "size": 10,
              "solidity": 0.2
             }
            },
            "type": "barpolar"
           }
          ],
          "carpet": [
           {
            "aaxis": {
             "endlinecolor": "#2a3f5f",
             "gridcolor": "white",
             "linecolor": "white",
             "minorgridcolor": "white",
             "startlinecolor": "#2a3f5f"
            },
            "baxis": {
             "endlinecolor": "#2a3f5f",
             "gridcolor": "white",
             "linecolor": "white",
             "minorgridcolor": "white",
             "startlinecolor": "#2a3f5f"
            },
            "type": "carpet"
           }
          ],
          "choropleth": [
           {
            "colorbar": {
             "outlinewidth": 0,
             "ticks": ""
            },
            "type": "choropleth"
           }
          ],
          "contour": [
           {
            "colorbar": {
             "outlinewidth": 0,
             "ticks": ""
            },
            "colorscale": [
             [
              0,
              "#0d0887"
             ],
             [
              0.1111111111111111,
              "#46039f"
             ],
             [
              0.2222222222222222,
              "#7201a8"
             ],
             [
              0.3333333333333333,
              "#9c179e"
             ],
             [
              0.4444444444444444,
              "#bd3786"
             ],
             [
              0.5555555555555556,
              "#d8576b"
             ],
             [
              0.6666666666666666,
              "#ed7953"
             ],
             [
              0.7777777777777778,
              "#fb9f3a"
             ],
             [
              0.8888888888888888,
              "#fdca26"
             ],
             [
              1,
              "#f0f921"
             ]
            ],
            "type": "contour"
           }
          ],
          "contourcarpet": [
           {
            "colorbar": {
             "outlinewidth": 0,
             "ticks": ""
            },
            "type": "contourcarpet"
           }
          ],
          "heatmap": [
           {
            "colorbar": {
             "outlinewidth": 0,
             "ticks": ""
            },
            "colorscale": [
             [
              0,
              "#0d0887"
             ],
             [
              0.1111111111111111,
              "#46039f"
             ],
             [
              0.2222222222222222,
              "#7201a8"
             ],
             [
              0.3333333333333333,
              "#9c179e"
             ],
             [
              0.4444444444444444,
              "#bd3786"
             ],
             [
              0.5555555555555556,
              "#d8576b"
             ],
             [
              0.6666666666666666,
              "#ed7953"
             ],
             [
              0.7777777777777778,
              "#fb9f3a"
             ],
             [
              0.8888888888888888,
              "#fdca26"
             ],
             [
              1,
              "#f0f921"
             ]
            ],
            "type": "heatmap"
           }
          ],
          "heatmapgl": [
           {
            "colorbar": {
             "outlinewidth": 0,
             "ticks": ""
            },
            "colorscale": [
             [
              0,
              "#0d0887"
             ],
             [
              0.1111111111111111,
              "#46039f"
             ],
             [
              0.2222222222222222,
              "#7201a8"
             ],
             [
              0.3333333333333333,
              "#9c179e"
             ],
             [
              0.4444444444444444,
              "#bd3786"
             ],
             [
              0.5555555555555556,
              "#d8576b"
             ],
             [
              0.6666666666666666,
              "#ed7953"
             ],
             [
              0.7777777777777778,
              "#fb9f3a"
             ],
             [
              0.8888888888888888,
              "#fdca26"
             ],
             [
              1,
              "#f0f921"
             ]
            ],
            "type": "heatmapgl"
           }
          ],
          "histogram": [
           {
            "marker": {
             "pattern": {
              "fillmode": "overlay",
              "size": 10,
              "solidity": 0.2
             }
            },
            "type": "histogram"
           }
          ],
          "histogram2d": [
           {
            "colorbar": {
             "outlinewidth": 0,
             "ticks": ""
            },
            "colorscale": [
             [
              0,
              "#0d0887"
             ],
             [
              0.1111111111111111,
              "#46039f"
             ],
             [
              0.2222222222222222,
              "#7201a8"
             ],
             [
              0.3333333333333333,
              "#9c179e"
             ],
             [
              0.4444444444444444,
              "#bd3786"
             ],
             [
              0.5555555555555556,
              "#d8576b"
             ],
             [
              0.6666666666666666,
              "#ed7953"
             ],
             [
              0.7777777777777778,
              "#fb9f3a"
             ],
             [
              0.8888888888888888,
              "#fdca26"
             ],
             [
              1,
              "#f0f921"
             ]
            ],
            "type": "histogram2d"
           }
          ],
          "histogram2dcontour": [
           {
            "colorbar": {
             "outlinewidth": 0,
             "ticks": ""
            },
            "colorscale": [
             [
              0,
              "#0d0887"
             ],
             [
              0.1111111111111111,
              "#46039f"
             ],
             [
              0.2222222222222222,
              "#7201a8"
             ],
             [
              0.3333333333333333,
              "#9c179e"
             ],
             [
              0.4444444444444444,
              "#bd3786"
             ],
             [
              0.5555555555555556,
              "#d8576b"
             ],
             [
              0.6666666666666666,
              "#ed7953"
             ],
             [
              0.7777777777777778,
              "#fb9f3a"
             ],
             [
              0.8888888888888888,
              "#fdca26"
             ],
             [
              1,
              "#f0f921"
             ]
            ],
            "type": "histogram2dcontour"
           }
          ],
          "mesh3d": [
           {
            "colorbar": {
             "outlinewidth": 0,
             "ticks": ""
            },
            "type": "mesh3d"
           }
          ],
          "parcoords": [
           {
            "line": {
             "colorbar": {
              "outlinewidth": 0,
              "ticks": ""
             }
            },
            "type": "parcoords"
           }
          ],
          "pie": [
           {
            "automargin": true,
            "type": "pie"
           }
          ],
          "scatter": [
           {
            "fillpattern": {
             "fillmode": "overlay",
             "size": 10,
             "solidity": 0.2
            },
            "type": "scatter"
           }
          ],
          "scatter3d": [
           {
            "line": {
             "colorbar": {
              "outlinewidth": 0,
              "ticks": ""
             }
            },
            "marker": {
             "colorbar": {
              "outlinewidth": 0,
              "ticks": ""
             }
            },
            "type": "scatter3d"
           }
          ],
          "scattercarpet": [
           {
            "marker": {
             "colorbar": {
              "outlinewidth": 0,
              "ticks": ""
             }
            },
            "type": "scattercarpet"
           }
          ],
          "scattergeo": [
           {
            "marker": {
             "colorbar": {
              "outlinewidth": 0,
              "ticks": ""
             }
            },
            "type": "scattergeo"
           }
          ],
          "scattergl": [
           {
            "marker": {
             "colorbar": {
              "outlinewidth": 0,
              "ticks": ""
             }
            },
            "type": "scattergl"
           }
          ],
          "scattermapbox": [
           {
            "marker": {
             "colorbar": {
              "outlinewidth": 0,
              "ticks": ""
             }
            },
            "type": "scattermapbox"
           }
          ],
          "scatterpolar": [
           {
            "marker": {
             "colorbar": {
              "outlinewidth": 0,
              "ticks": ""
             }
            },
            "type": "scatterpolar"
           }
          ],
          "scatterpolargl": [
           {
            "marker": {
             "colorbar": {
              "outlinewidth": 0,
              "ticks": ""
             }
            },
            "type": "scatterpolargl"
           }
          ],
          "scatterternary": [
           {
            "marker": {
             "colorbar": {
              "outlinewidth": 0,
              "ticks": ""
             }
            },
            "type": "scatterternary"
           }
          ],
          "surface": [
           {
            "colorbar": {
             "outlinewidth": 0,
             "ticks": ""
            },
            "colorscale": [
             [
              0,
              "#0d0887"
             ],
             [
              0.1111111111111111,
              "#46039f"
             ],
             [
              0.2222222222222222,
              "#7201a8"
             ],
             [
              0.3333333333333333,
              "#9c179e"
             ],
             [
              0.4444444444444444,
              "#bd3786"
             ],
             [
              0.5555555555555556,
              "#d8576b"
             ],
             [
              0.6666666666666666,
              "#ed7953"
             ],
             [
              0.7777777777777778,
              "#fb9f3a"
             ],
             [
              0.8888888888888888,
              "#fdca26"
             ],
             [
              1,
              "#f0f921"
             ]
            ],
            "type": "surface"
           }
          ],
          "table": [
           {
            "cells": {
             "fill": {
              "color": "#EBF0F8"
             },
             "line": {
              "color": "white"
             }
            },
            "header": {
             "fill": {
              "color": "#C8D4E3"
             },
             "line": {
              "color": "white"
             }
            },
            "type": "table"
           }
          ]
         },
         "layout": {
          "annotationdefaults": {
           "arrowcolor": "#2a3f5f",
           "arrowhead": 0,
           "arrowwidth": 1
          },
          "autotypenumbers": "strict",
          "coloraxis": {
           "colorbar": {
            "outlinewidth": 0,
            "ticks": ""
           }
          },
          "colorscale": {
           "diverging": [
            [
             0,
             "#8e0152"
            ],
            [
             0.1,
             "#c51b7d"
            ],
            [
             0.2,
             "#de77ae"
            ],
            [
             0.3,
             "#f1b6da"
            ],
            [
             0.4,
             "#fde0ef"
            ],
            [
             0.5,
             "#f7f7f7"
            ],
            [
             0.6,
             "#e6f5d0"
            ],
            [
             0.7,
             "#b8e186"
            ],
            [
             0.8,
             "#7fbc41"
            ],
            [
             0.9,
             "#4d9221"
            ],
            [
             1,
             "#276419"
            ]
           ],
           "sequential": [
            [
             0,
             "#0d0887"
            ],
            [
             0.1111111111111111,
             "#46039f"
            ],
            [
             0.2222222222222222,
             "#7201a8"
            ],
            [
             0.3333333333333333,
             "#9c179e"
            ],
            [
             0.4444444444444444,
             "#bd3786"
            ],
            [
             0.5555555555555556,
             "#d8576b"
            ],
            [
             0.6666666666666666,
             "#ed7953"
            ],
            [
             0.7777777777777778,
             "#fb9f3a"
            ],
            [
             0.8888888888888888,
             "#fdca26"
            ],
            [
             1,
             "#f0f921"
            ]
           ],
           "sequentialminus": [
            [
             0,
             "#0d0887"
            ],
            [
             0.1111111111111111,
             "#46039f"
            ],
            [
             0.2222222222222222,
             "#7201a8"
            ],
            [
             0.3333333333333333,
             "#9c179e"
            ],
            [
             0.4444444444444444,
             "#bd3786"
            ],
            [
             0.5555555555555556,
             "#d8576b"
            ],
            [
             0.6666666666666666,
             "#ed7953"
            ],
            [
             0.7777777777777778,
             "#fb9f3a"
            ],
            [
             0.8888888888888888,
             "#fdca26"
            ],
            [
             1,
             "#f0f921"
            ]
           ]
          },
          "colorway": [
           "#636efa",
           "#EF553B",
           "#00cc96",
           "#ab63fa",
           "#FFA15A",
           "#19d3f3",
           "#FF6692",
           "#B6E880",
           "#FF97FF",
           "#FECB52"
          ],
          "font": {
           "color": "#2a3f5f"
          },
          "geo": {
           "bgcolor": "white",
           "lakecolor": "white",
           "landcolor": "#E5ECF6",
           "showlakes": true,
           "showland": true,
           "subunitcolor": "white"
          },
          "hoverlabel": {
           "align": "left"
          },
          "hovermode": "closest",
          "mapbox": {
           "style": "light"
          },
          "paper_bgcolor": "white",
          "plot_bgcolor": "#E5ECF6",
          "polar": {
           "angularaxis": {
            "gridcolor": "white",
            "linecolor": "white",
            "ticks": ""
           },
           "bgcolor": "#E5ECF6",
           "radialaxis": {
            "gridcolor": "white",
            "linecolor": "white",
            "ticks": ""
           }
          },
          "scene": {
           "xaxis": {
            "backgroundcolor": "#E5ECF6",
            "gridcolor": "white",
            "gridwidth": 2,
            "linecolor": "white",
            "showbackground": true,
            "ticks": "",
            "zerolinecolor": "white"
           },
           "yaxis": {
            "backgroundcolor": "#E5ECF6",
            "gridcolor": "white",
            "gridwidth": 2,
            "linecolor": "white",
            "showbackground": true,
            "ticks": "",
            "zerolinecolor": "white"
           },
           "zaxis": {
            "backgroundcolor": "#E5ECF6",
            "gridcolor": "white",
            "gridwidth": 2,
            "linecolor": "white",
            "showbackground": true,
            "ticks": "",
            "zerolinecolor": "white"
           }
          },
          "shapedefaults": {
           "line": {
            "color": "#2a3f5f"
           }
          },
          "ternary": {
           "aaxis": {
            "gridcolor": "white",
            "linecolor": "white",
            "ticks": ""
           },
           "baxis": {
            "gridcolor": "white",
            "linecolor": "white",
            "ticks": ""
           },
           "bgcolor": "#E5ECF6",
           "caxis": {
            "gridcolor": "white",
            "linecolor": "white",
            "ticks": ""
           }
          },
          "title": {
           "x": 0.05
          },
          "xaxis": {
           "automargin": true,
           "gridcolor": "white",
           "linecolor": "white",
           "ticks": "",
           "title": {
            "standoff": 15
           },
           "zerolinecolor": "white",
           "zerolinewidth": 2
          },
          "yaxis": {
           "automargin": true,
           "gridcolor": "white",
           "linecolor": "white",
           "ticks": "",
           "title": {
            "standoff": 15
           },
           "zerolinecolor": "white",
           "zerolinewidth": 2
          }
         }
        },
        "xaxis": {
         "anchor": "y",
         "domain": [
          0,
          1
         ],
         "title": {
          "text": "Time"
         }
        },
        "yaxis": {
         "anchor": "x",
         "domain": [
          0,
          1
         ],
         "title": {
          "text": "value"
         }
        }
       }
      }
     },
     "metadata": {},
     "output_type": "display_data"
    }
   ],
   "source": [
    "PC_TSCO_X_ISCO_clean_df_pivot.plot()"
   ]
  },
  {
   "cell_type": "code",
   "execution_count": 82,
   "metadata": {},
   "outputs": [
    {
     "data": {
      "text/plain": [
       "array(['Autriche', 'Belgique', 'Bulgarie', 'Suisse', 'Chypre', 'Tchéquie',\n",
       "       'Allemagne', 'Danemark', 'Estonie', 'Grèce', 'Espagne',\n",
       "       'Union européenne - 27 pays (à partir de 2020)', 'Finlande',\n",
       "       'France', 'Croatie', 'Hongrie', 'Irlande', 'Islande', 'Italie',\n",
       "       'Lituanie', 'Luxembourg', 'Lettonie', 'Malte', 'Pays-Bas',\n",
       "       'Norvège', 'Pologne', 'Portugal', 'Roumanie', 'Suède', 'Slovénie',\n",
       "       'Slovaquie'], dtype=object)"
      ]
     },
     "execution_count": 82,
     "metadata": {},
     "output_type": "execute_result"
    }
   ],
   "source": [
    "T_HAB_clean_df['Pays'].unique()"
   ]
  },
  {
   "cell_type": "code",
   "execution_count": 83,
   "metadata": {},
   "outputs": [
    {
     "name": "stderr",
     "output_type": "stream",
     "text": [
      "/tmp/ipykernel_99227/1668656389.py:1: SettingWithCopyWarning:\n",
      "\n",
      "\n",
      "A value is trying to be set on a copy of a slice from a DataFrame\n",
      "\n",
      "See the caveats in the documentation: https://pandas.pydata.org/pandas-docs/stable/user_guide/indexing.html#returning-a-view-versus-a-copy\n",
      "\n"
     ]
    },
    {
     "data": {
      "text/html": [
       "<div>\n",
       "<style scoped>\n",
       "    .dataframe tbody tr th:only-of-type {\n",
       "        vertical-align: middle;\n",
       "    }\n",
       "\n",
       "    .dataframe tbody tr th {\n",
       "        vertical-align: top;\n",
       "    }\n",
       "\n",
       "    .dataframe thead th {\n",
       "        text-align: right;\n",
       "    }\n",
       "</style>\n",
       "<table border=\"1\" class=\"dataframe\">\n",
       "  <thead>\n",
       "    <tr style=\"text-align: right;\">\n",
       "      <th></th>\n",
       "      <th>Pays</th>\n",
       "      <th>T_HAB</th>\n",
       "    </tr>\n",
       "    <tr>\n",
       "      <th>Time</th>\n",
       "      <th></th>\n",
       "      <th></th>\n",
       "    </tr>\n",
       "  </thead>\n",
       "  <tbody>\n",
       "    <tr>\n",
       "      <th>1995</th>\n",
       "      <td>Autriche</td>\n",
       "      <td>8.5</td>\n",
       "    </tr>\n",
       "    <tr>\n",
       "      <th>1996</th>\n",
       "      <td>Autriche</td>\n",
       "      <td>9.2</td>\n",
       "    </tr>\n",
       "    <tr>\n",
       "      <th>1997</th>\n",
       "      <td>Autriche</td>\n",
       "      <td>8.1</td>\n",
       "    </tr>\n",
       "    <tr>\n",
       "      <th>1998</th>\n",
       "      <td>Autriche</td>\n",
       "      <td>8.2</td>\n",
       "    </tr>\n",
       "    <tr>\n",
       "      <th>1999</th>\n",
       "      <td>Autriche</td>\n",
       "      <td>7.7</td>\n",
       "    </tr>\n",
       "    <tr>\n",
       "      <th>...</th>\n",
       "      <td>...</td>\n",
       "      <td>...</td>\n",
       "    </tr>\n",
       "    <tr>\n",
       "      <th>2015</th>\n",
       "      <td>Slovaquie</td>\n",
       "      <td>6.3</td>\n",
       "    </tr>\n",
       "    <tr>\n",
       "      <th>2016</th>\n",
       "      <td>Slovaquie</td>\n",
       "      <td>6.4</td>\n",
       "    </tr>\n",
       "    <tr>\n",
       "      <th>2017</th>\n",
       "      <td>Slovaquie</td>\n",
       "      <td>6.6</td>\n",
       "    </tr>\n",
       "    <tr>\n",
       "      <th>2018</th>\n",
       "      <td>Slovaquie</td>\n",
       "      <td>6.7</td>\n",
       "    </tr>\n",
       "    <tr>\n",
       "      <th>2019</th>\n",
       "      <td>Slovaquie</td>\n",
       "      <td>6.2</td>\n",
       "    </tr>\n",
       "  </tbody>\n",
       "</table>\n",
       "<p>775 rows × 2 columns</p>\n",
       "</div>"
      ],
      "text/plain": [
       "           Pays  T_HAB\n",
       "Time                  \n",
       "1995   Autriche    8.5\n",
       "1996   Autriche    9.2\n",
       "1997   Autriche    8.1\n",
       "1998   Autriche    8.2\n",
       "1999   Autriche    7.7\n",
       "...         ...    ...\n",
       "2015  Slovaquie    6.3\n",
       "2016  Slovaquie    6.4\n",
       "2017  Slovaquie    6.6\n",
       "2018  Slovaquie    6.7\n",
       "2019  Slovaquie    6.2\n",
       "\n",
       "[775 rows x 2 columns]"
      ]
     },
     "execution_count": 83,
     "metadata": {},
     "output_type": "execute_result"
    }
   ],
   "source": [
    "T_HAB_clean_df.rename(columns={'Value': \"T_HAB\"}, inplace=True)\n",
    "T_HAB_clean_df"
   ]
  },
  {
   "cell_type": "code",
   "execution_count": 84,
   "metadata": {},
   "outputs": [
    {
     "name": "stderr",
     "output_type": "stream",
     "text": [
      "/tmp/ipykernel_99227/2469792921.py:1: SettingWithCopyWarning:\n",
      "\n",
      "\n",
      "A value is trying to be set on a copy of a slice from a DataFrame\n",
      "\n",
      "See the caveats in the documentation: https://pandas.pydata.org/pandas-docs/stable/user_guide/indexing.html#returning-a-view-versus-a-copy\n",
      "\n"
     ]
    },
    {
     "data": {
      "text/html": [
       "<div>\n",
       "<style scoped>\n",
       "    .dataframe tbody tr th:only-of-type {\n",
       "        vertical-align: middle;\n",
       "    }\n",
       "\n",
       "    .dataframe tbody tr th {\n",
       "        vertical-align: top;\n",
       "    }\n",
       "\n",
       "    .dataframe thead th {\n",
       "        text-align: right;\n",
       "    }\n",
       "</style>\n",
       "<table border=\"1\" class=\"dataframe\">\n",
       "  <thead>\n",
       "    <tr style=\"text-align: right;\">\n",
       "      <th></th>\n",
       "      <th>Pays</th>\n",
       "      <th>I90</th>\n",
       "    </tr>\n",
       "    <tr>\n",
       "      <th>Time</th>\n",
       "      <th></th>\n",
       "      <th></th>\n",
       "    </tr>\n",
       "  </thead>\n",
       "  <tbody>\n",
       "    <tr>\n",
       "      <th>1995</th>\n",
       "      <td>Autriche</td>\n",
       "      <td>100.2</td>\n",
       "    </tr>\n",
       "    <tr>\n",
       "      <th>1996</th>\n",
       "      <td>Autriche</td>\n",
       "      <td>109.1</td>\n",
       "    </tr>\n",
       "    <tr>\n",
       "      <th>1997</th>\n",
       "      <td>Autriche</td>\n",
       "      <td>96.0</td>\n",
       "    </tr>\n",
       "    <tr>\n",
       "      <th>1998</th>\n",
       "      <td>Autriche</td>\n",
       "      <td>97.8</td>\n",
       "    </tr>\n",
       "    <tr>\n",
       "      <th>1999</th>\n",
       "      <td>Autriche</td>\n",
       "      <td>92.0</td>\n",
       "    </tr>\n",
       "    <tr>\n",
       "      <th>...</th>\n",
       "      <td>...</td>\n",
       "      <td>...</td>\n",
       "    </tr>\n",
       "    <tr>\n",
       "      <th>2015</th>\n",
       "      <td>Slovaquie</td>\n",
       "      <td>53.7</td>\n",
       "    </tr>\n",
       "    <tr>\n",
       "      <th>2016</th>\n",
       "      <td>Slovaquie</td>\n",
       "      <td>54.2</td>\n",
       "    </tr>\n",
       "    <tr>\n",
       "      <th>2017</th>\n",
       "      <td>Slovaquie</td>\n",
       "      <td>56.1</td>\n",
       "    </tr>\n",
       "    <tr>\n",
       "      <th>2018</th>\n",
       "      <td>Slovaquie</td>\n",
       "      <td>57.5</td>\n",
       "    </tr>\n",
       "    <tr>\n",
       "      <th>2019</th>\n",
       "      <td>Slovaquie</td>\n",
       "      <td>53.0</td>\n",
       "    </tr>\n",
       "  </tbody>\n",
       "</table>\n",
       "<p>775 rows × 2 columns</p>\n",
       "</div>"
      ],
      "text/plain": [
       "           Pays    I90\n",
       "Time                  \n",
       "1995   Autriche  100.2\n",
       "1996   Autriche  109.1\n",
       "1997   Autriche   96.0\n",
       "1998   Autriche   97.8\n",
       "1999   Autriche   92.0\n",
       "...         ...    ...\n",
       "2015  Slovaquie   53.7\n",
       "2016  Slovaquie   54.2\n",
       "2017  Slovaquie   56.1\n",
       "2018  Slovaquie   57.5\n",
       "2019  Slovaquie   53.0\n",
       "\n",
       "[775 rows x 2 columns]"
      ]
     },
     "execution_count": 84,
     "metadata": {},
     "output_type": "execute_result"
    }
   ],
   "source": [
    "I90_clean_df.rename(columns={'Value': \"I90\"}, inplace=True)\n",
    "I90_clean_df"
   ]
  },
  {
   "cell_type": "code",
   "execution_count": 85,
   "metadata": {},
   "outputs": [
    {
     "data": {
      "text/plain": [
       "array(['Autriche', 'Belgique', 'Bulgarie', 'Suisse', 'Chypre', 'Tchéquie',\n",
       "       'Allemagne', 'Danemark', 'Estonie', 'Grèce', 'Espagne',\n",
       "       'Union européenne - 27 pays (à partir de 2020)', 'Finlande',\n",
       "       'France', 'Croatie', 'Hongrie', 'Irlande', 'Islande', 'Italie',\n",
       "       'Lituanie', 'Luxembourg', 'Lettonie', 'Malte', 'Pays-Bas',\n",
       "       'Norvège', 'Pologne', 'Portugal', 'Roumanie', 'Suède', 'Slovénie',\n",
       "       'Slovaquie'], dtype=object)"
      ]
     },
     "execution_count": 85,
     "metadata": {},
     "output_type": "execute_result"
    }
   ],
   "source": [
    "PC_GDP_clean_df['Pays'].unique()"
   ]
  },
  {
   "cell_type": "code",
   "execution_count": 86,
   "metadata": {},
   "outputs": [
    {
     "data": {
      "text/html": [
       "<div>\n",
       "<style scoped>\n",
       "    .dataframe tbody tr th:only-of-type {\n",
       "        vertical-align: middle;\n",
       "    }\n",
       "\n",
       "    .dataframe tbody tr th {\n",
       "        vertical-align: top;\n",
       "    }\n",
       "\n",
       "    .dataframe thead th {\n",
       "        text-align: right;\n",
       "    }\n",
       "</style>\n",
       "<table border=\"1\" class=\"dataframe\">\n",
       "  <thead>\n",
       "    <tr style=\"text-align: right;\">\n",
       "      <th></th>\n",
       "      <th>Pays</th>\n",
       "      <th>PIB</th>\n",
       "    </tr>\n",
       "    <tr>\n",
       "      <th>Time</th>\n",
       "      <th></th>\n",
       "      <th></th>\n",
       "    </tr>\n",
       "  </thead>\n",
       "  <tbody>\n",
       "    <tr>\n",
       "      <th>1995</th>\n",
       "      <td>Autriche</td>\n",
       "      <td>2.16</td>\n",
       "    </tr>\n",
       "    <tr>\n",
       "      <th>1996</th>\n",
       "      <td>Autriche</td>\n",
       "      <td>2.17</td>\n",
       "    </tr>\n",
       "    <tr>\n",
       "      <th>1997</th>\n",
       "      <td>Autriche</td>\n",
       "      <td>2.35</td>\n",
       "    </tr>\n",
       "    <tr>\n",
       "      <th>1998</th>\n",
       "      <td>Autriche</td>\n",
       "      <td>2.30</td>\n",
       "    </tr>\n",
       "    <tr>\n",
       "      <th>1999</th>\n",
       "      <td>Autriche</td>\n",
       "      <td>2.31</td>\n",
       "    </tr>\n",
       "    <tr>\n",
       "      <th>...</th>\n",
       "      <td>...</td>\n",
       "      <td>...</td>\n",
       "    </tr>\n",
       "    <tr>\n",
       "      <th>2015</th>\n",
       "      <td>Slovaquie</td>\n",
       "      <td>2.50</td>\n",
       "    </tr>\n",
       "    <tr>\n",
       "      <th>2016</th>\n",
       "      <td>Slovaquie</td>\n",
       "      <td>2.49</td>\n",
       "    </tr>\n",
       "    <tr>\n",
       "      <th>2017</th>\n",
       "      <td>Slovaquie</td>\n",
       "      <td>2.54</td>\n",
       "    </tr>\n",
       "    <tr>\n",
       "      <th>2018</th>\n",
       "      <td>Slovaquie</td>\n",
       "      <td>2.46</td>\n",
       "    </tr>\n",
       "    <tr>\n",
       "      <th>2019</th>\n",
       "      <td>Slovaquie</td>\n",
       "      <td>2.39</td>\n",
       "    </tr>\n",
       "  </tbody>\n",
       "</table>\n",
       "<p>762 rows × 2 columns</p>\n",
       "</div>"
      ],
      "text/plain": [
       "           Pays   PIB\n",
       "Time                 \n",
       "1995   Autriche  2.16\n",
       "1996   Autriche  2.17\n",
       "1997   Autriche  2.35\n",
       "1998   Autriche  2.30\n",
       "1999   Autriche  2.31\n",
       "...         ...   ...\n",
       "2015  Slovaquie  2.50\n",
       "2016  Slovaquie  2.49\n",
       "2017  Slovaquie  2.54\n",
       "2018  Slovaquie  2.46\n",
       "2019  Slovaquie  2.39\n",
       "\n",
       "[762 rows x 2 columns]"
      ]
     },
     "execution_count": 86,
     "metadata": {},
     "output_type": "execute_result"
    }
   ],
   "source": [
    "PC_GDP_clean_df.rename(columns={'Value': \"PIB\"}, inplace=True)\n",
    "PC_GDP_clean_df"
   ]
  },
  {
   "cell_type": "code",
   "execution_count": 87,
   "metadata": {},
   "outputs": [
    {
     "data": {
      "text/plain": [
       "array(['Autriche', 'Belgique', 'Bulgarie', 'Suisse', 'Chypre', 'Tchéquie',\n",
       "       'Allemagne', 'Danemark', 'Estonie', 'Grèce', 'Espagne',\n",
       "       'Union européenne - 27 pays (à partir de 2020)', 'Finlande',\n",
       "       'France', 'Croatie', 'Hongrie', 'Irlande', 'Islande', 'Italie',\n",
       "       'Lituanie', 'Luxembourg', 'Lettonie', 'Malte', 'Pays-Bas',\n",
       "       'Norvège', 'Pologne', 'Portugal', 'Roumanie', 'Suède', 'Slovénie',\n",
       "       'Slovaquie'], dtype=object)"
      ]
     },
     "execution_count": 87,
     "metadata": {},
     "output_type": "execute_result"
    }
   ],
   "source": [
    "PC_TSCO_X_ISCO_clean_df['Pays'].unique()\n"
   ]
  },
  {
   "cell_type": "code",
   "execution_count": 88,
   "metadata": {},
   "outputs": [
    {
     "data": {
      "text/html": [
       "<div>\n",
       "<style scoped>\n",
       "    .dataframe tbody tr th:only-of-type {\n",
       "        vertical-align: middle;\n",
       "    }\n",
       "\n",
       "    .dataframe tbody tr th {\n",
       "        vertical-align: top;\n",
       "    }\n",
       "\n",
       "    .dataframe thead th {\n",
       "        text-align: right;\n",
       "    }\n",
       "</style>\n",
       "<table border=\"1\" class=\"dataframe\">\n",
       "  <thead>\n",
       "    <tr style=\"text-align: right;\">\n",
       "      <th></th>\n",
       "      <th>Pays</th>\n",
       "      <th>TAXES</th>\n",
       "    </tr>\n",
       "    <tr>\n",
       "      <th>Time</th>\n",
       "      <th></th>\n",
       "      <th></th>\n",
       "    </tr>\n",
       "  </thead>\n",
       "  <tbody>\n",
       "    <tr>\n",
       "      <th>1995</th>\n",
       "      <td>Autriche</td>\n",
       "      <td>5.18</td>\n",
       "    </tr>\n",
       "    <tr>\n",
       "      <th>1996</th>\n",
       "      <td>Autriche</td>\n",
       "      <td>5.04</td>\n",
       "    </tr>\n",
       "    <tr>\n",
       "      <th>1997</th>\n",
       "      <td>Autriche</td>\n",
       "      <td>5.38</td>\n",
       "    </tr>\n",
       "    <tr>\n",
       "      <th>1998</th>\n",
       "      <td>Autriche</td>\n",
       "      <td>5.26</td>\n",
       "    </tr>\n",
       "    <tr>\n",
       "      <th>1999</th>\n",
       "      <td>Autriche</td>\n",
       "      <td>5.33</td>\n",
       "    </tr>\n",
       "    <tr>\n",
       "      <th>...</th>\n",
       "      <td>...</td>\n",
       "      <td>...</td>\n",
       "    </tr>\n",
       "    <tr>\n",
       "      <th>2015</th>\n",
       "      <td>Slovaquie</td>\n",
       "      <td>7.70</td>\n",
       "    </tr>\n",
       "    <tr>\n",
       "      <th>2016</th>\n",
       "      <td>Slovaquie</td>\n",
       "      <td>7.55</td>\n",
       "    </tr>\n",
       "    <tr>\n",
       "      <th>2017</th>\n",
       "      <td>Slovaquie</td>\n",
       "      <td>7.51</td>\n",
       "    </tr>\n",
       "    <tr>\n",
       "      <th>2018</th>\n",
       "      <td>Slovaquie</td>\n",
       "      <td>7.24</td>\n",
       "    </tr>\n",
       "    <tr>\n",
       "      <th>2019</th>\n",
       "      <td>Slovaquie</td>\n",
       "      <td>6.95</td>\n",
       "    </tr>\n",
       "  </tbody>\n",
       "</table>\n",
       "<p>759 rows × 2 columns</p>\n",
       "</div>"
      ],
      "text/plain": [
       "           Pays  TAXES\n",
       "Time                  \n",
       "1995   Autriche   5.18\n",
       "1996   Autriche   5.04\n",
       "1997   Autriche   5.38\n",
       "1998   Autriche   5.26\n",
       "1999   Autriche   5.33\n",
       "...         ...    ...\n",
       "2015  Slovaquie   7.70\n",
       "2016  Slovaquie   7.55\n",
       "2017  Slovaquie   7.51\n",
       "2018  Slovaquie   7.24\n",
       "2019  Slovaquie   6.95\n",
       "\n",
       "[759 rows x 2 columns]"
      ]
     },
     "execution_count": 88,
     "metadata": {},
     "output_type": "execute_result"
    }
   ],
   "source": [
    "PC_TSCO_X_ISCO_clean_df.rename(columns={'Value': \"TAXES\"}, inplace=True)\n",
    "PC_TSCO_X_ISCO_clean_df"
   ]
  },
  {
   "cell_type": "code",
   "execution_count": 89,
   "metadata": {},
   "outputs": [],
   "source": [
    "combine_df = T_HAB_clean_df.merge(PC_GDP_clean_df, on=['Time', 'Pays'], how='left')\n",
    "combine_df = combine_df.merge(PC_TSCO_X_ISCO_clean_df, on=['Time', 'Pays'], how='left')\n",
    "combine_df = combine_df.merge(I90_clean_df, on=['Time', 'Pays'], how='left')\n",
    "combine_df['T_HAB'].where(combine_df.T_HAB > 0, other=0, inplace=True)\n",
    "combine_df['I90'].where(combine_df.I90 > 0, other=0, inplace=True)\n",
    "combine_df = combine_df.reset_index()"
   ]
  },
  {
   "cell_type": "code",
   "execution_count": 90,
   "metadata": {},
   "outputs": [
    {
     "data": {
      "application/vnd.plotly.v1+json": {
       "config": {
        "plotlyServerURL": "https://plot.ly"
       },
       "data": [
        {
         "hovertemplate": "<b>%{hovertext}</b><br><br>Time=2000<br>PIB=%{x}<br>TAXES=%{y}<br>T_HAB=%{marker.color}<extra></extra>",
         "hovertext": [
          "Autriche",
          "Belgique",
          "Bulgarie",
          "Suisse",
          "Chypre",
          "Tchéquie",
          "Allemagne",
          "Danemark",
          "Estonie",
          "Grèce",
          "Espagne",
          "Union européenne - 27 pays (à partir de 2020)",
          "Finlande",
          "France",
          "Croatie",
          "Hongrie",
          "Irlande",
          "Islande",
          "Italie",
          "Lituanie",
          "Luxembourg",
          "Lettonie",
          "Malte",
          "Pays-Bas",
          "Norvège",
          "Pologne",
          "Portugal",
          "Roumanie",
          "Suède",
          "Slovénie",
          "Slovaquie"
         ],
         "legendgroup": "",
         "marker": {
          "color": [
           8.1,
           14.8,
           4.9,
           8.8,
           13.1,
           13.9,
           12.7,
           14.6,
           9.9,
           11.8,
           8.8,
           9.9,
           10.9,
           9,
           4.2,
           7.3,
           20,
           48.8,
           9.5,
           2.9,
           22.7,
           0,
           8.1,
           14.7,
           8.1,
           9.4,
           7.6,
           5.1,
           3.2,
           6.2,
           7.2
          ],
          "coloraxis": "coloraxis",
          "size": [
           8.1,
           14.8,
           4.9,
           8.8,
           13.1,
           13.9,
           12.7,
           14.6,
           9.9,
           11.8,
           8.8,
           9.9,
           10.9,
           9,
           4.2,
           7.3,
           20,
           48.8,
           9.5,
           2.9,
           22.7,
           0,
           8.1,
           14.7,
           8.1,
           9.4,
           7.6,
           5.1,
           3.2,
           6.2,
           7.2
          ],
          "sizemode": "area",
          "sizeref": 0.0305,
          "symbol": "circle"
         },
         "mode": "markers",
         "name": "",
         "orientation": "v",
         "showlegend": false,
         "type": "scatter",
         "x": [
          2.42,
          2.41,
          2.78,
          null,
          2.47,
          2.25,
          2.35,
          4.84,
          1.69,
          2.23,
          2.13,
          2.57,
          3.05,
          2.17,
          2.79,
          2.94,
          2.74,
          3.43,
          3.04,
          2.45,
          2.65,
          2.24,
          3.52,
          3.47,
          3.09,
          2.14,
          2.6,
          3.4,
          2.6,
          2.89,
          2.28
         ],
         "xaxis": "x",
         "y": [
          5.68,
          5.43,
          8.17,
          null,
          9.05,
          6.94,
          5.83,
          10.32,
          5.44,
          6.68,
          6.44,
          6.44,
          6.67,
          5.01,
          7.18,
          7.5,
          8.92,
          9.55,
          7.64,
          7.95,
          7.09,
          7.67,
          13,
          9.42,
          7.4,
          6.51,
          8.41,
          11.23,
          5.35,
          7.67,
          6.74
         ],
         "yaxis": "y"
        }
       ],
       "layout": {
        "coloraxis": {
         "colorbar": {
          "title": {
           "text": "T_HAB"
          }
         },
         "colorscale": [
          [
           0,
           "#0d0887"
          ],
          [
           0.1111111111111111,
           "#46039f"
          ],
          [
           0.2222222222222222,
           "#7201a8"
          ],
          [
           0.3333333333333333,
           "#9c179e"
          ],
          [
           0.4444444444444444,
           "#bd3786"
          ],
          [
           0.5555555555555556,
           "#d8576b"
          ],
          [
           0.6666666666666666,
           "#ed7953"
          ],
          [
           0.7777777777777778,
           "#fb9f3a"
          ],
          [
           0.8888888888888888,
           "#fdca26"
          ],
          [
           1,
           "#f0f921"
          ]
         ]
        },
        "legend": {
         "itemsizing": "constant",
         "tracegroupgap": 0
        },
        "template": {
         "data": {
          "bar": [
           {
            "error_x": {
             "color": "#2a3f5f"
            },
            "error_y": {
             "color": "#2a3f5f"
            },
            "marker": {
             "line": {
              "color": "#E5ECF6",
              "width": 0.5
             },
             "pattern": {
              "fillmode": "overlay",
              "size": 10,
              "solidity": 0.2
             }
            },
            "type": "bar"
           }
          ],
          "barpolar": [
           {
            "marker": {
             "line": {
              "color": "#E5ECF6",
              "width": 0.5
             },
             "pattern": {
              "fillmode": "overlay",
              "size": 10,
              "solidity": 0.2
             }
            },
            "type": "barpolar"
           }
          ],
          "carpet": [
           {
            "aaxis": {
             "endlinecolor": "#2a3f5f",
             "gridcolor": "white",
             "linecolor": "white",
             "minorgridcolor": "white",
             "startlinecolor": "#2a3f5f"
            },
            "baxis": {
             "endlinecolor": "#2a3f5f",
             "gridcolor": "white",
             "linecolor": "white",
             "minorgridcolor": "white",
             "startlinecolor": "#2a3f5f"
            },
            "type": "carpet"
           }
          ],
          "choropleth": [
           {
            "colorbar": {
             "outlinewidth": 0,
             "ticks": ""
            },
            "type": "choropleth"
           }
          ],
          "contour": [
           {
            "colorbar": {
             "outlinewidth": 0,
             "ticks": ""
            },
            "colorscale": [
             [
              0,
              "#0d0887"
             ],
             [
              0.1111111111111111,
              "#46039f"
             ],
             [
              0.2222222222222222,
              "#7201a8"
             ],
             [
              0.3333333333333333,
              "#9c179e"
             ],
             [
              0.4444444444444444,
              "#bd3786"
             ],
             [
              0.5555555555555556,
              "#d8576b"
             ],
             [
              0.6666666666666666,
              "#ed7953"
             ],
             [
              0.7777777777777778,
              "#fb9f3a"
             ],
             [
              0.8888888888888888,
              "#fdca26"
             ],
             [
              1,
              "#f0f921"
             ]
            ],
            "type": "contour"
           }
          ],
          "contourcarpet": [
           {
            "colorbar": {
             "outlinewidth": 0,
             "ticks": ""
            },
            "type": "contourcarpet"
           }
          ],
          "heatmap": [
           {
            "colorbar": {
             "outlinewidth": 0,
             "ticks": ""
            },
            "colorscale": [
             [
              0,
              "#0d0887"
             ],
             [
              0.1111111111111111,
              "#46039f"
             ],
             [
              0.2222222222222222,
              "#7201a8"
             ],
             [
              0.3333333333333333,
              "#9c179e"
             ],
             [
              0.4444444444444444,
              "#bd3786"
             ],
             [
              0.5555555555555556,
              "#d8576b"
             ],
             [
              0.6666666666666666,
              "#ed7953"
             ],
             [
              0.7777777777777778,
              "#fb9f3a"
             ],
             [
              0.8888888888888888,
              "#fdca26"
             ],
             [
              1,
              "#f0f921"
             ]
            ],
            "type": "heatmap"
           }
          ],
          "heatmapgl": [
           {
            "colorbar": {
             "outlinewidth": 0,
             "ticks": ""
            },
            "colorscale": [
             [
              0,
              "#0d0887"
             ],
             [
              0.1111111111111111,
              "#46039f"
             ],
             [
              0.2222222222222222,
              "#7201a8"
             ],
             [
              0.3333333333333333,
              "#9c179e"
             ],
             [
              0.4444444444444444,
              "#bd3786"
             ],
             [
              0.5555555555555556,
              "#d8576b"
             ],
             [
              0.6666666666666666,
              "#ed7953"
             ],
             [
              0.7777777777777778,
              "#fb9f3a"
             ],
             [
              0.8888888888888888,
              "#fdca26"
             ],
             [
              1,
              "#f0f921"
             ]
            ],
            "type": "heatmapgl"
           }
          ],
          "histogram": [
           {
            "marker": {
             "pattern": {
              "fillmode": "overlay",
              "size": 10,
              "solidity": 0.2
             }
            },
            "type": "histogram"
           }
          ],
          "histogram2d": [
           {
            "colorbar": {
             "outlinewidth": 0,
             "ticks": ""
            },
            "colorscale": [
             [
              0,
              "#0d0887"
             ],
             [
              0.1111111111111111,
              "#46039f"
             ],
             [
              0.2222222222222222,
              "#7201a8"
             ],
             [
              0.3333333333333333,
              "#9c179e"
             ],
             [
              0.4444444444444444,
              "#bd3786"
             ],
             [
              0.5555555555555556,
              "#d8576b"
             ],
             [
              0.6666666666666666,
              "#ed7953"
             ],
             [
              0.7777777777777778,
              "#fb9f3a"
             ],
             [
              0.8888888888888888,
              "#fdca26"
             ],
             [
              1,
              "#f0f921"
             ]
            ],
            "type": "histogram2d"
           }
          ],
          "histogram2dcontour": [
           {
            "colorbar": {
             "outlinewidth": 0,
             "ticks": ""
            },
            "colorscale": [
             [
              0,
              "#0d0887"
             ],
             [
              0.1111111111111111,
              "#46039f"
             ],
             [
              0.2222222222222222,
              "#7201a8"
             ],
             [
              0.3333333333333333,
              "#9c179e"
             ],
             [
              0.4444444444444444,
              "#bd3786"
             ],
             [
              0.5555555555555556,
              "#d8576b"
             ],
             [
              0.6666666666666666,
              "#ed7953"
             ],
             [
              0.7777777777777778,
              "#fb9f3a"
             ],
             [
              0.8888888888888888,
              "#fdca26"
             ],
             [
              1,
              "#f0f921"
             ]
            ],
            "type": "histogram2dcontour"
           }
          ],
          "mesh3d": [
           {
            "colorbar": {
             "outlinewidth": 0,
             "ticks": ""
            },
            "type": "mesh3d"
           }
          ],
          "parcoords": [
           {
            "line": {
             "colorbar": {
              "outlinewidth": 0,
              "ticks": ""
             }
            },
            "type": "parcoords"
           }
          ],
          "pie": [
           {
            "automargin": true,
            "type": "pie"
           }
          ],
          "scatter": [
           {
            "fillpattern": {
             "fillmode": "overlay",
             "size": 10,
             "solidity": 0.2
            },
            "type": "scatter"
           }
          ],
          "scatter3d": [
           {
            "line": {
             "colorbar": {
              "outlinewidth": 0,
              "ticks": ""
             }
            },
            "marker": {
             "colorbar": {
              "outlinewidth": 0,
              "ticks": ""
             }
            },
            "type": "scatter3d"
           }
          ],
          "scattercarpet": [
           {
            "marker": {
             "colorbar": {
              "outlinewidth": 0,
              "ticks": ""
             }
            },
            "type": "scattercarpet"
           }
          ],
          "scattergeo": [
           {
            "marker": {
             "colorbar": {
              "outlinewidth": 0,
              "ticks": ""
             }
            },
            "type": "scattergeo"
           }
          ],
          "scattergl": [
           {
            "marker": {
             "colorbar": {
              "outlinewidth": 0,
              "ticks": ""
             }
            },
            "type": "scattergl"
           }
          ],
          "scattermapbox": [
           {
            "marker": {
             "colorbar": {
              "outlinewidth": 0,
              "ticks": ""
             }
            },
            "type": "scattermapbox"
           }
          ],
          "scatterpolar": [
           {
            "marker": {
             "colorbar": {
              "outlinewidth": 0,
              "ticks": ""
             }
            },
            "type": "scatterpolar"
           }
          ],
          "scatterpolargl": [
           {
            "marker": {
             "colorbar": {
              "outlinewidth": 0,
              "ticks": ""
             }
            },
            "type": "scatterpolargl"
           }
          ],
          "scatterternary": [
           {
            "marker": {
             "colorbar": {
              "outlinewidth": 0,
              "ticks": ""
             }
            },
            "type": "scatterternary"
           }
          ],
          "surface": [
           {
            "colorbar": {
             "outlinewidth": 0,
             "ticks": ""
            },
            "colorscale": [
             [
              0,
              "#0d0887"
             ],
             [
              0.1111111111111111,
              "#46039f"
             ],
             [
              0.2222222222222222,
              "#7201a8"
             ],
             [
              0.3333333333333333,
              "#9c179e"
             ],
             [
              0.4444444444444444,
              "#bd3786"
             ],
             [
              0.5555555555555556,
              "#d8576b"
             ],
             [
              0.6666666666666666,
              "#ed7953"
             ],
             [
              0.7777777777777778,
              "#fb9f3a"
             ],
             [
              0.8888888888888888,
              "#fdca26"
             ],
             [
              1,
              "#f0f921"
             ]
            ],
            "type": "surface"
           }
          ],
          "table": [
           {
            "cells": {
             "fill": {
              "color": "#EBF0F8"
             },
             "line": {
              "color": "white"
             }
            },
            "header": {
             "fill": {
              "color": "#C8D4E3"
             },
             "line": {
              "color": "white"
             }
            },
            "type": "table"
           }
          ]
         },
         "layout": {
          "annotationdefaults": {
           "arrowcolor": "#2a3f5f",
           "arrowhead": 0,
           "arrowwidth": 1
          },
          "autotypenumbers": "strict",
          "coloraxis": {
           "colorbar": {
            "outlinewidth": 0,
            "ticks": ""
           }
          },
          "colorscale": {
           "diverging": [
            [
             0,
             "#8e0152"
            ],
            [
             0.1,
             "#c51b7d"
            ],
            [
             0.2,
             "#de77ae"
            ],
            [
             0.3,
             "#f1b6da"
            ],
            [
             0.4,
             "#fde0ef"
            ],
            [
             0.5,
             "#f7f7f7"
            ],
            [
             0.6,
             "#e6f5d0"
            ],
            [
             0.7,
             "#b8e186"
            ],
            [
             0.8,
             "#7fbc41"
            ],
            [
             0.9,
             "#4d9221"
            ],
            [
             1,
             "#276419"
            ]
           ],
           "sequential": [
            [
             0,
             "#0d0887"
            ],
            [
             0.1111111111111111,
             "#46039f"
            ],
            [
             0.2222222222222222,
             "#7201a8"
            ],
            [
             0.3333333333333333,
             "#9c179e"
            ],
            [
             0.4444444444444444,
             "#bd3786"
            ],
            [
             0.5555555555555556,
             "#d8576b"
            ],
            [
             0.6666666666666666,
             "#ed7953"
            ],
            [
             0.7777777777777778,
             "#fb9f3a"
            ],
            [
             0.8888888888888888,
             "#fdca26"
            ],
            [
             1,
             "#f0f921"
            ]
           ],
           "sequentialminus": [
            [
             0,
             "#0d0887"
            ],
            [
             0.1111111111111111,
             "#46039f"
            ],
            [
             0.2222222222222222,
             "#7201a8"
            ],
            [
             0.3333333333333333,
             "#9c179e"
            ],
            [
             0.4444444444444444,
             "#bd3786"
            ],
            [
             0.5555555555555556,
             "#d8576b"
            ],
            [
             0.6666666666666666,
             "#ed7953"
            ],
            [
             0.7777777777777778,
             "#fb9f3a"
            ],
            [
             0.8888888888888888,
             "#fdca26"
            ],
            [
             1,
             "#f0f921"
            ]
           ]
          },
          "colorway": [
           "#636efa",
           "#EF553B",
           "#00cc96",
           "#ab63fa",
           "#FFA15A",
           "#19d3f3",
           "#FF6692",
           "#B6E880",
           "#FF97FF",
           "#FECB52"
          ],
          "font": {
           "color": "#2a3f5f"
          },
          "geo": {
           "bgcolor": "white",
           "lakecolor": "white",
           "landcolor": "#E5ECF6",
           "showlakes": true,
           "showland": true,
           "subunitcolor": "white"
          },
          "hoverlabel": {
           "align": "left"
          },
          "hovermode": "closest",
          "mapbox": {
           "style": "light"
          },
          "paper_bgcolor": "white",
          "plot_bgcolor": "#E5ECF6",
          "polar": {
           "angularaxis": {
            "gridcolor": "white",
            "linecolor": "white",
            "ticks": ""
           },
           "bgcolor": "#E5ECF6",
           "radialaxis": {
            "gridcolor": "white",
            "linecolor": "white",
            "ticks": ""
           }
          },
          "scene": {
           "xaxis": {
            "backgroundcolor": "#E5ECF6",
            "gridcolor": "white",
            "gridwidth": 2,
            "linecolor": "white",
            "showbackground": true,
            "ticks": "",
            "zerolinecolor": "white"
           },
           "yaxis": {
            "backgroundcolor": "#E5ECF6",
            "gridcolor": "white",
            "gridwidth": 2,
            "linecolor": "white",
            "showbackground": true,
            "ticks": "",
            "zerolinecolor": "white"
           },
           "zaxis": {
            "backgroundcolor": "#E5ECF6",
            "gridcolor": "white",
            "gridwidth": 2,
            "linecolor": "white",
            "showbackground": true,
            "ticks": "",
            "zerolinecolor": "white"
           }
          },
          "shapedefaults": {
           "line": {
            "color": "#2a3f5f"
           }
          },
          "ternary": {
           "aaxis": {
            "gridcolor": "white",
            "linecolor": "white",
            "ticks": ""
           },
           "baxis": {
            "gridcolor": "white",
            "linecolor": "white",
            "ticks": ""
           },
           "bgcolor": "#E5ECF6",
           "caxis": {
            "gridcolor": "white",
            "linecolor": "white",
            "ticks": ""
           }
          },
          "title": {
           "x": 0.05
          },
          "xaxis": {
           "automargin": true,
           "gridcolor": "white",
           "linecolor": "white",
           "ticks": "",
           "title": {
            "standoff": 15
           },
           "zerolinecolor": "white",
           "zerolinewidth": 2
          },
          "yaxis": {
           "automargin": true,
           "gridcolor": "white",
           "linecolor": "white",
           "ticks": "",
           "title": {
            "standoff": 15
           },
           "zerolinecolor": "white",
           "zerolinewidth": 2
          }
         }
        },
        "title": {
         "text": "PYBD"
        },
        "xaxis": {
         "anchor": "y",
         "domain": [
          0,
          1
         ],
         "title": {
          "text": "PIB"
         }
        },
        "yaxis": {
         "anchor": "x",
         "domain": [
          0,
          1
         ],
         "title": {
          "text": "TAXES"
         }
        }
       }
      }
     },
     "metadata": {},
     "output_type": "display_data"
    }
   ],
   "source": [
    "fig = px.scatter(combine_df[combine_df.Time == 2000], x='PIB', y='TAXES', color='T_HAB', hover_name='Pays', size='T_HAB', size_max=40, title='PYBD', animation_frame=\"Time\")\n",
    "fig"
   ]
  },
  {
   "cell_type": "code",
   "execution_count": 91,
   "metadata": {},
   "outputs": [
    {
     "data": {
      "application/vnd.plotly.v1+json": {
       "config": {
        "plotlyServerURL": "https://plot.ly"
       },
       "data": [
        {
         "hovertemplate": "<b>%{hovertext}</b><br><br>Time=2000<br>PIB=%{x}<br>TAXES=%{y}<br>I90=%{marker.color}<extra></extra>",
         "hovertext": [
          "Autriche",
          "Belgique",
          "Bulgarie",
          "Suisse",
          "Chypre",
          "Tchéquie",
          "Allemagne",
          "Danemark",
          "Estonie",
          "Grèce",
          "Espagne",
          "Union européenne - 27 pays (à partir de 2020)",
          "Finlande",
          "France",
          "Croatie",
          "Hongrie",
          "Irlande",
          "Islande",
          "Italie",
          "Lituanie",
          "Luxembourg",
          "Lettonie",
          "Malte",
          "Pays-Bas",
          "Norvège",
          "Pologne",
          "Portugal",
          "Roumanie",
          "Suède",
          "Slovénie",
          "Slovaquie"
         ],
         "legendgroup": "",
         "marker": {
          "color": [
           97.2,
           104.3,
           49.4,
           114.4,
           149.9,
           73.9,
           81,
           98.7,
           36.1,
           122.6,
           138.5,
           89.7,
           95.8,
           102.6,
           74.2,
           80.5,
           125.7,
           104.8,
           104.4,
           23.5,
           75,
           0,
           112.4,
           101,
           90.7,
           80.9,
           127.5,
           47.2,
           77.9,
           86.6,
           60.9
          ],
          "coloraxis": "coloraxis",
          "size": [
           97.2,
           104.3,
           49.4,
           114.4,
           149.9,
           73.9,
           81,
           98.7,
           36.1,
           122.6,
           138.5,
           89.7,
           95.8,
           102.6,
           74.2,
           80.5,
           125.7,
           104.8,
           104.4,
           23.5,
           75,
           0,
           112.4,
           101,
           90.7,
           80.9,
           127.5,
           47.2,
           77.9,
           86.6,
           60.9
          ],
          "sizemode": "area",
          "sizeref": 0.0936875,
          "symbol": "circle"
         },
         "mode": "markers",
         "name": "",
         "orientation": "v",
         "showlegend": false,
         "type": "scatter",
         "x": [
          2.42,
          2.41,
          2.78,
          null,
          2.47,
          2.25,
          2.35,
          4.84,
          1.69,
          2.23,
          2.13,
          2.57,
          3.05,
          2.17,
          2.79,
          2.94,
          2.74,
          3.43,
          3.04,
          2.45,
          2.65,
          2.24,
          3.52,
          3.47,
          3.09,
          2.14,
          2.6,
          3.4,
          2.6,
          2.89,
          2.28
         ],
         "xaxis": "x",
         "y": [
          5.68,
          5.43,
          8.17,
          null,
          9.05,
          6.94,
          5.83,
          10.32,
          5.44,
          6.68,
          6.44,
          6.44,
          6.67,
          5.01,
          7.18,
          7.5,
          8.92,
          9.55,
          7.64,
          7.95,
          7.09,
          7.67,
          13,
          9.42,
          7.4,
          6.51,
          8.41,
          11.23,
          5.35,
          7.67,
          6.74
         ],
         "yaxis": "y"
        }
       ],
       "layout": {
        "coloraxis": {
         "colorbar": {
          "title": {
           "text": "I90"
          }
         },
         "colorscale": [
          [
           0,
           "#0d0887"
          ],
          [
           0.1111111111111111,
           "#46039f"
          ],
          [
           0.2222222222222222,
           "#7201a8"
          ],
          [
           0.3333333333333333,
           "#9c179e"
          ],
          [
           0.4444444444444444,
           "#bd3786"
          ],
          [
           0.5555555555555556,
           "#d8576b"
          ],
          [
           0.6666666666666666,
           "#ed7953"
          ],
          [
           0.7777777777777778,
           "#fb9f3a"
          ],
          [
           0.8888888888888888,
           "#fdca26"
          ],
          [
           1,
           "#f0f921"
          ]
         ]
        },
        "legend": {
         "itemsizing": "constant",
         "tracegroupgap": 0
        },
        "template": {
         "data": {
          "bar": [
           {
            "error_x": {
             "color": "#2a3f5f"
            },
            "error_y": {
             "color": "#2a3f5f"
            },
            "marker": {
             "line": {
              "color": "#E5ECF6",
              "width": 0.5
             },
             "pattern": {
              "fillmode": "overlay",
              "size": 10,
              "solidity": 0.2
             }
            },
            "type": "bar"
           }
          ],
          "barpolar": [
           {
            "marker": {
             "line": {
              "color": "#E5ECF6",
              "width": 0.5
             },
             "pattern": {
              "fillmode": "overlay",
              "size": 10,
              "solidity": 0.2
             }
            },
            "type": "barpolar"
           }
          ],
          "carpet": [
           {
            "aaxis": {
             "endlinecolor": "#2a3f5f",
             "gridcolor": "white",
             "linecolor": "white",
             "minorgridcolor": "white",
             "startlinecolor": "#2a3f5f"
            },
            "baxis": {
             "endlinecolor": "#2a3f5f",
             "gridcolor": "white",
             "linecolor": "white",
             "minorgridcolor": "white",
             "startlinecolor": "#2a3f5f"
            },
            "type": "carpet"
           }
          ],
          "choropleth": [
           {
            "colorbar": {
             "outlinewidth": 0,
             "ticks": ""
            },
            "type": "choropleth"
           }
          ],
          "contour": [
           {
            "colorbar": {
             "outlinewidth": 0,
             "ticks": ""
            },
            "colorscale": [
             [
              0,
              "#0d0887"
             ],
             [
              0.1111111111111111,
              "#46039f"
             ],
             [
              0.2222222222222222,
              "#7201a8"
             ],
             [
              0.3333333333333333,
              "#9c179e"
             ],
             [
              0.4444444444444444,
              "#bd3786"
             ],
             [
              0.5555555555555556,
              "#d8576b"
             ],
             [
              0.6666666666666666,
              "#ed7953"
             ],
             [
              0.7777777777777778,
              "#fb9f3a"
             ],
             [
              0.8888888888888888,
              "#fdca26"
             ],
             [
              1,
              "#f0f921"
             ]
            ],
            "type": "contour"
           }
          ],
          "contourcarpet": [
           {
            "colorbar": {
             "outlinewidth": 0,
             "ticks": ""
            },
            "type": "contourcarpet"
           }
          ],
          "heatmap": [
           {
            "colorbar": {
             "outlinewidth": 0,
             "ticks": ""
            },
            "colorscale": [
             [
              0,
              "#0d0887"
             ],
             [
              0.1111111111111111,
              "#46039f"
             ],
             [
              0.2222222222222222,
              "#7201a8"
             ],
             [
              0.3333333333333333,
              "#9c179e"
             ],
             [
              0.4444444444444444,
              "#bd3786"
             ],
             [
              0.5555555555555556,
              "#d8576b"
             ],
             [
              0.6666666666666666,
              "#ed7953"
             ],
             [
              0.7777777777777778,
              "#fb9f3a"
             ],
             [
              0.8888888888888888,
              "#fdca26"
             ],
             [
              1,
              "#f0f921"
             ]
            ],
            "type": "heatmap"
           }
          ],
          "heatmapgl": [
           {
            "colorbar": {
             "outlinewidth": 0,
             "ticks": ""
            },
            "colorscale": [
             [
              0,
              "#0d0887"
             ],
             [
              0.1111111111111111,
              "#46039f"
             ],
             [
              0.2222222222222222,
              "#7201a8"
             ],
             [
              0.3333333333333333,
              "#9c179e"
             ],
             [
              0.4444444444444444,
              "#bd3786"
             ],
             [
              0.5555555555555556,
              "#d8576b"
             ],
             [
              0.6666666666666666,
              "#ed7953"
             ],
             [
              0.7777777777777778,
              "#fb9f3a"
             ],
             [
              0.8888888888888888,
              "#fdca26"
             ],
             [
              1,
              "#f0f921"
             ]
            ],
            "type": "heatmapgl"
           }
          ],
          "histogram": [
           {
            "marker": {
             "pattern": {
              "fillmode": "overlay",
              "size": 10,
              "solidity": 0.2
             }
            },
            "type": "histogram"
           }
          ],
          "histogram2d": [
           {
            "colorbar": {
             "outlinewidth": 0,
             "ticks": ""
            },
            "colorscale": [
             [
              0,
              "#0d0887"
             ],
             [
              0.1111111111111111,
              "#46039f"
             ],
             [
              0.2222222222222222,
              "#7201a8"
             ],
             [
              0.3333333333333333,
              "#9c179e"
             ],
             [
              0.4444444444444444,
              "#bd3786"
             ],
             [
              0.5555555555555556,
              "#d8576b"
             ],
             [
              0.6666666666666666,
              "#ed7953"
             ],
             [
              0.7777777777777778,
              "#fb9f3a"
             ],
             [
              0.8888888888888888,
              "#fdca26"
             ],
             [
              1,
              "#f0f921"
             ]
            ],
            "type": "histogram2d"
           }
          ],
          "histogram2dcontour": [
           {
            "colorbar": {
             "outlinewidth": 0,
             "ticks": ""
            },
            "colorscale": [
             [
              0,
              "#0d0887"
             ],
             [
              0.1111111111111111,
              "#46039f"
             ],
             [
              0.2222222222222222,
              "#7201a8"
             ],
             [
              0.3333333333333333,
              "#9c179e"
             ],
             [
              0.4444444444444444,
              "#bd3786"
             ],
             [
              0.5555555555555556,
              "#d8576b"
             ],
             [
              0.6666666666666666,
              "#ed7953"
             ],
             [
              0.7777777777777778,
              "#fb9f3a"
             ],
             [
              0.8888888888888888,
              "#fdca26"
             ],
             [
              1,
              "#f0f921"
             ]
            ],
            "type": "histogram2dcontour"
           }
          ],
          "mesh3d": [
           {
            "colorbar": {
             "outlinewidth": 0,
             "ticks": ""
            },
            "type": "mesh3d"
           }
          ],
          "parcoords": [
           {
            "line": {
             "colorbar": {
              "outlinewidth": 0,
              "ticks": ""
             }
            },
            "type": "parcoords"
           }
          ],
          "pie": [
           {
            "automargin": true,
            "type": "pie"
           }
          ],
          "scatter": [
           {
            "fillpattern": {
             "fillmode": "overlay",
             "size": 10,
             "solidity": 0.2
            },
            "type": "scatter"
           }
          ],
          "scatter3d": [
           {
            "line": {
             "colorbar": {
              "outlinewidth": 0,
              "ticks": ""
             }
            },
            "marker": {
             "colorbar": {
              "outlinewidth": 0,
              "ticks": ""
             }
            },
            "type": "scatter3d"
           }
          ],
          "scattercarpet": [
           {
            "marker": {
             "colorbar": {
              "outlinewidth": 0,
              "ticks": ""
             }
            },
            "type": "scattercarpet"
           }
          ],
          "scattergeo": [
           {
            "marker": {
             "colorbar": {
              "outlinewidth": 0,
              "ticks": ""
             }
            },
            "type": "scattergeo"
           }
          ],
          "scattergl": [
           {
            "marker": {
             "colorbar": {
              "outlinewidth": 0,
              "ticks": ""
             }
            },
            "type": "scattergl"
           }
          ],
          "scattermapbox": [
           {
            "marker": {
             "colorbar": {
              "outlinewidth": 0,
              "ticks": ""
             }
            },
            "type": "scattermapbox"
           }
          ],
          "scatterpolar": [
           {
            "marker": {
             "colorbar": {
              "outlinewidth": 0,
              "ticks": ""
             }
            },
            "type": "scatterpolar"
           }
          ],
          "scatterpolargl": [
           {
            "marker": {
             "colorbar": {
              "outlinewidth": 0,
              "ticks": ""
             }
            },
            "type": "scatterpolargl"
           }
          ],
          "scatterternary": [
           {
            "marker": {
             "colorbar": {
              "outlinewidth": 0,
              "ticks": ""
             }
            },
            "type": "scatterternary"
           }
          ],
          "surface": [
           {
            "colorbar": {
             "outlinewidth": 0,
             "ticks": ""
            },
            "colorscale": [
             [
              0,
              "#0d0887"
             ],
             [
              0.1111111111111111,
              "#46039f"
             ],
             [
              0.2222222222222222,
              "#7201a8"
             ],
             [
              0.3333333333333333,
              "#9c179e"
             ],
             [
              0.4444444444444444,
              "#bd3786"
             ],
             [
              0.5555555555555556,
              "#d8576b"
             ],
             [
              0.6666666666666666,
              "#ed7953"
             ],
             [
              0.7777777777777778,
              "#fb9f3a"
             ],
             [
              0.8888888888888888,
              "#fdca26"
             ],
             [
              1,
              "#f0f921"
             ]
            ],
            "type": "surface"
           }
          ],
          "table": [
           {
            "cells": {
             "fill": {
              "color": "#EBF0F8"
             },
             "line": {
              "color": "white"
             }
            },
            "header": {
             "fill": {
              "color": "#C8D4E3"
             },
             "line": {
              "color": "white"
             }
            },
            "type": "table"
           }
          ]
         },
         "layout": {
          "annotationdefaults": {
           "arrowcolor": "#2a3f5f",
           "arrowhead": 0,
           "arrowwidth": 1
          },
          "autotypenumbers": "strict",
          "coloraxis": {
           "colorbar": {
            "outlinewidth": 0,
            "ticks": ""
           }
          },
          "colorscale": {
           "diverging": [
            [
             0,
             "#8e0152"
            ],
            [
             0.1,
             "#c51b7d"
            ],
            [
             0.2,
             "#de77ae"
            ],
            [
             0.3,
             "#f1b6da"
            ],
            [
             0.4,
             "#fde0ef"
            ],
            [
             0.5,
             "#f7f7f7"
            ],
            [
             0.6,
             "#e6f5d0"
            ],
            [
             0.7,
             "#b8e186"
            ],
            [
             0.8,
             "#7fbc41"
            ],
            [
             0.9,
             "#4d9221"
            ],
            [
             1,
             "#276419"
            ]
           ],
           "sequential": [
            [
             0,
             "#0d0887"
            ],
            [
             0.1111111111111111,
             "#46039f"
            ],
            [
             0.2222222222222222,
             "#7201a8"
            ],
            [
             0.3333333333333333,
             "#9c179e"
            ],
            [
             0.4444444444444444,
             "#bd3786"
            ],
            [
             0.5555555555555556,
             "#d8576b"
            ],
            [
             0.6666666666666666,
             "#ed7953"
            ],
            [
             0.7777777777777778,
             "#fb9f3a"
            ],
            [
             0.8888888888888888,
             "#fdca26"
            ],
            [
             1,
             "#f0f921"
            ]
           ],
           "sequentialminus": [
            [
             0,
             "#0d0887"
            ],
            [
             0.1111111111111111,
             "#46039f"
            ],
            [
             0.2222222222222222,
             "#7201a8"
            ],
            [
             0.3333333333333333,
             "#9c179e"
            ],
            [
             0.4444444444444444,
             "#bd3786"
            ],
            [
             0.5555555555555556,
             "#d8576b"
            ],
            [
             0.6666666666666666,
             "#ed7953"
            ],
            [
             0.7777777777777778,
             "#fb9f3a"
            ],
            [
             0.8888888888888888,
             "#fdca26"
            ],
            [
             1,
             "#f0f921"
            ]
           ]
          },
          "colorway": [
           "#636efa",
           "#EF553B",
           "#00cc96",
           "#ab63fa",
           "#FFA15A",
           "#19d3f3",
           "#FF6692",
           "#B6E880",
           "#FF97FF",
           "#FECB52"
          ],
          "font": {
           "color": "#2a3f5f"
          },
          "geo": {
           "bgcolor": "white",
           "lakecolor": "white",
           "landcolor": "#E5ECF6",
           "showlakes": true,
           "showland": true,
           "subunitcolor": "white"
          },
          "hoverlabel": {
           "align": "left"
          },
          "hovermode": "closest",
          "mapbox": {
           "style": "light"
          },
          "paper_bgcolor": "white",
          "plot_bgcolor": "#E5ECF6",
          "polar": {
           "angularaxis": {
            "gridcolor": "white",
            "linecolor": "white",
            "ticks": ""
           },
           "bgcolor": "#E5ECF6",
           "radialaxis": {
            "gridcolor": "white",
            "linecolor": "white",
            "ticks": ""
           }
          },
          "scene": {
           "xaxis": {
            "backgroundcolor": "#E5ECF6",
            "gridcolor": "white",
            "gridwidth": 2,
            "linecolor": "white",
            "showbackground": true,
            "ticks": "",
            "zerolinecolor": "white"
           },
           "yaxis": {
            "backgroundcolor": "#E5ECF6",
            "gridcolor": "white",
            "gridwidth": 2,
            "linecolor": "white",
            "showbackground": true,
            "ticks": "",
            "zerolinecolor": "white"
           },
           "zaxis": {
            "backgroundcolor": "#E5ECF6",
            "gridcolor": "white",
            "gridwidth": 2,
            "linecolor": "white",
            "showbackground": true,
            "ticks": "",
            "zerolinecolor": "white"
           }
          },
          "shapedefaults": {
           "line": {
            "color": "#2a3f5f"
           }
          },
          "ternary": {
           "aaxis": {
            "gridcolor": "white",
            "linecolor": "white",
            "ticks": ""
           },
           "baxis": {
            "gridcolor": "white",
            "linecolor": "white",
            "ticks": ""
           },
           "bgcolor": "#E5ECF6",
           "caxis": {
            "gridcolor": "white",
            "linecolor": "white",
            "ticks": ""
           }
          },
          "title": {
           "x": 0.05
          },
          "xaxis": {
           "automargin": true,
           "gridcolor": "white",
           "linecolor": "white",
           "ticks": "",
           "title": {
            "standoff": 15
           },
           "zerolinecolor": "white",
           "zerolinewidth": 2
          },
          "yaxis": {
           "automargin": true,
           "gridcolor": "white",
           "linecolor": "white",
           "ticks": "",
           "title": {
            "standoff": 15
           },
           "zerolinecolor": "white",
           "zerolinewidth": 2
          }
         }
        },
        "title": {
         "text": "PYBD"
        },
        "xaxis": {
         "anchor": "y",
         "domain": [
          0,
          1
         ],
         "title": {
          "text": "PIB"
         }
        },
        "yaxis": {
         "anchor": "x",
         "domain": [
          0,
          1
         ],
         "title": {
          "text": "TAXES"
         }
        }
       }
      }
     },
     "metadata": {},
     "output_type": "display_data"
    }
   ],
   "source": [
    "fig = px.scatter(combine_df[combine_df.Time == 2000], x='PIB', y='TAXES', color='I90', hover_name='Pays', size='I90', size_max=40, title='PYBD', animation_frame=\"Time\")\n",
    "fig"
   ]
  },
  {
   "cell_type": "code",
   "execution_count": 33,
   "metadata": {},
   "outputs": [],
   "source": [
    "combine_df = combine_df.drop(combine_df[combine_df['Pays'] == 'Islande'].index)"
   ]
  },
  {
   "cell_type": "code",
   "execution_count": 34,
   "metadata": {},
   "outputs": [],
   "source": [
    "combine_df.to_csv(\"europeanEnvTaxesPIB.csv\")"
   ]
  },
  {
   "cell_type": "code",
   "execution_count": 34,
   "metadata": {},
   "outputs": [
    {
     "data": {
      "text/plain": [
       "['Autriche',\n",
       " 'Belgique',\n",
       " 'Bulgarie',\n",
       " 'Suisse',\n",
       " 'Chypre',\n",
       " 'Tchéquie',\n",
       " 'Allemagne',\n",
       " 'Danemark',\n",
       " 'Estonie',\n",
       " 'Grèce',\n",
       " 'Espagne',\n",
       " 'Union européenne - 27 pays (à partir de 2020)',\n",
       " 'Finlande',\n",
       " 'France',\n",
       " 'Croatie',\n",
       " 'Hongrie',\n",
       " 'Irlande',\n",
       " 'Islande',\n",
       " 'Italie',\n",
       " 'Lituanie',\n",
       " 'Luxembourg',\n",
       " 'Lettonie',\n",
       " 'Malte',\n",
       " 'Pays-Bas',\n",
       " 'Norvège',\n",
       " 'Pologne',\n",
       " 'Portugal',\n",
       " 'Roumanie',\n",
       " 'Suède',\n",
       " 'Slovénie',\n",
       " 'Slovaquie']"
      ]
     },
     "execution_count": 34,
     "metadata": {},
     "output_type": "execute_result"
    }
   ],
   "source": [
    "list(combine_df.Pays.unique())"
   ]
  },
  {
   "cell_type": "code",
   "execution_count": 35,
   "metadata": {},
   "outputs": [
    {
     "data": {
      "text/plain": [
       "array([1995, 1996, 1997, 1998, 1999, 2000, 2001, 2002, 2003, 2004, 2005,\n",
       "       2006, 2007, 2008, 2009, 2010, 2011, 2012, 2013, 2014, 2015, 2016,\n",
       "       2017, 2018, 2019, 1995, 1996, 1997, 1998, 1999, 2000, 2001, 2002,\n",
       "       2003, 2004, 2005, 2006, 2007, 2008, 2009, 2010, 2011, 2012, 2013,\n",
       "       2014, 2015, 2016, 2017, 2018, 2019, 1995, 1996, 1997, 1998, 1999,\n",
       "       2000, 2001, 2002, 2003, 2004, 2005, 2006, 2007, 2008, 2009, 2010,\n",
       "       2011, 2012, 2013, 2014, 2015, 2016, 2017, 2018, 2019, 1995, 1996,\n",
       "       1997, 1998, 1999, 2000, 2001, 2002, 2003, 2004, 2005, 2006, 2007,\n",
       "       2008, 2009, 2010, 2011, 2012, 2013, 2014, 2015, 2016, 2017, 2018,\n",
       "       2019, 1995, 1996, 1997, 1998, 1999, 2000, 2001, 2002, 2003, 2004,\n",
       "       2005, 2006, 2007, 2008, 2009, 2010, 2011, 2012, 2013, 2014, 2015,\n",
       "       2016, 2017, 2018, 2019, 1995, 1996, 1997, 1998, 1999, 2000, 2001,\n",
       "       2002, 2003, 2004, 2005, 2006, 2007, 2008, 2009, 2010, 2011, 2012,\n",
       "       2013, 2014, 2015, 2016, 2017, 2018, 2019, 1995, 1996, 1997, 1998,\n",
       "       1999, 2000, 2001, 2002, 2003, 2004, 2005, 2006, 2007, 2008, 2009,\n",
       "       2010, 2011, 2012, 2013, 2014, 2015, 2016, 2017, 2018, 2019, 1995,\n",
       "       1996, 1997, 1998, 1999, 2000, 2001, 2002, 2003, 2004, 2005, 2006,\n",
       "       2007, 2008, 2009, 2010, 2011, 2012, 2013, 2014, 2015, 2016, 2017,\n",
       "       2018, 2019, 1995, 1996, 1997, 1998, 1999, 2000, 2001, 2002, 2003,\n",
       "       2004, 2005, 2006, 2007, 2008, 2009, 2010, 2011, 2012, 2013, 2014,\n",
       "       2015, 2016, 2017, 2018, 2019, 1995, 1996, 1997, 1998, 1999, 2000,\n",
       "       2001, 2002, 2003, 2004, 2005, 2006, 2007, 2008, 2009, 2010, 2011,\n",
       "       2012, 2013, 2014, 2015, 2016, 2017, 2018, 2019, 1995, 1996, 1997,\n",
       "       1998, 1999, 2000, 2001, 2002, 2003, 2004, 2005, 2006, 2007, 2008,\n",
       "       2009, 2010, 2011, 2012, 2013, 2014, 2015, 2016, 2017, 2018, 2019,\n",
       "       1995, 1996, 1997, 1998, 1999, 2000, 2001, 2002, 2003, 2004, 2005,\n",
       "       2006, 2007, 2008, 2009, 2010, 2011, 2012, 2013, 2014, 2015, 2016,\n",
       "       2017, 2018, 2019, 1995, 1996, 1997, 1998, 1999, 2000, 2001, 2002,\n",
       "       2003, 2004, 2005, 2006, 2007, 2008, 2009, 2010, 2011, 2012, 2013,\n",
       "       2014, 2015, 2016, 2017, 2018, 2019, 1995, 1996, 1997, 1998, 1999,\n",
       "       2000, 2001, 2002, 2003, 2004, 2005, 2006, 2007, 2008, 2009, 2010,\n",
       "       2011, 2012, 2013, 2014, 2015, 2016, 2017, 2018, 2019, 1995, 1996,\n",
       "       1997, 1998, 1999, 2000, 2001, 2002, 2003, 2004, 2005, 2006, 2007,\n",
       "       2008, 2009, 2010, 2011, 2012, 2013, 2014, 2015, 2016, 2017, 2018,\n",
       "       2019, 1995, 1996, 1997, 1998, 1999, 2000, 2001, 2002, 2003, 2004,\n",
       "       2005, 2006, 2007, 2008, 2009, 2010, 2011, 2012, 2013, 2014, 2015,\n",
       "       2016, 2017, 2018, 2019, 1995, 1996, 1997, 1998, 1999, 2000, 2001,\n",
       "       2002, 2003, 2004, 2005, 2006, 2007, 2008, 2009, 2010, 2011, 2012,\n",
       "       2013, 2014, 2015, 2016, 2017, 2018, 2019, 1995, 1996, 1997, 1998,\n",
       "       1999, 2000, 2001, 2002, 2003, 2004, 2005, 2006, 2007, 2008, 2009,\n",
       "       2010, 2011, 2012, 2013, 2014, 2015, 2016, 2017, 2018, 2019, 1995,\n",
       "       1996, 1997, 1998, 1999, 2000, 2001, 2002, 2003, 2004, 2005, 2006,\n",
       "       2007, 2008, 2009, 2010, 2011, 2012, 2013, 2014, 2015, 2016, 2017,\n",
       "       2018, 2019, 1995, 1996, 1997, 1998, 1999, 2000, 2001, 2002, 2003,\n",
       "       2004, 2005, 2006, 2007, 2008, 2009, 2010, 2011, 2012, 2013, 2014,\n",
       "       2015, 2016, 2017, 2018, 2019, 1995, 1996, 1997, 1998, 1999, 2000,\n",
       "       2001, 2002, 2003, 2004, 2005, 2006, 2007, 2008, 2009, 2010, 2011,\n",
       "       2012, 2013, 2014, 2015, 2016, 2017, 2018, 2019, 1995, 1996, 1997,\n",
       "       1998, 1999, 2000, 2001, 2002, 2003, 2004, 2005, 2006, 2007, 2008,\n",
       "       2009, 2010, 2011, 2012, 2013, 2014, 2015, 2016, 2017, 2018, 2019,\n",
       "       1995, 1996, 1997, 1998, 1999, 2000, 2001, 2002, 2003, 2004, 2005,\n",
       "       2006, 2007, 2008, 2009, 2010, 2011, 2012, 2013, 2014, 2015, 2016,\n",
       "       2017, 2018, 2019, 1995, 1996, 1997, 1998, 1999, 2000, 2001, 2002,\n",
       "       2003, 2004, 2005, 2006, 2007, 2008, 2009, 2010, 2011, 2012, 2013,\n",
       "       2014, 2015, 2016, 2017, 2018, 2019, 1995, 1996, 1997, 1998, 1999,\n",
       "       2000, 2001, 2002, 2003, 2004, 2005, 2006, 2007, 2008, 2009, 2010,\n",
       "       2011, 2012, 2013, 2014, 2015, 2016, 2017, 2018, 2019, 1995, 1996,\n",
       "       1997, 1998, 1999, 2000, 2001, 2002, 2003, 2004, 2005, 2006, 2007,\n",
       "       2008, 2009, 2010, 2011, 2012, 2013, 2014, 2015, 2016, 2017, 2018,\n",
       "       2019, 1995, 1996, 1997, 1998, 1999, 2000, 2001, 2002, 2003, 2004,\n",
       "       2005, 2006, 2007, 2008, 2009, 2010, 2011, 2012, 2013, 2014, 2015,\n",
       "       2016, 2017, 2018, 2019, 1995, 1996, 1997, 1998, 1999, 2000, 2001,\n",
       "       2002, 2003, 2004, 2005, 2006, 2007, 2008, 2009, 2010, 2011, 2012,\n",
       "       2013, 2014, 2015, 2016, 2017, 2018, 2019, 1995, 1996, 1997, 1998,\n",
       "       1999, 2000, 2001, 2002, 2003, 2004, 2005, 2006, 2007, 2008, 2009,\n",
       "       2010, 2011, 2012, 2013, 2014, 2015, 2016, 2017, 2018, 2019, 1995,\n",
       "       1996, 1997, 1998, 1999, 2000, 2001, 2002, 2003, 2004, 2005, 2006,\n",
       "       2007, 2008, 2009, 2010, 2011, 2012, 2013, 2014, 2015, 2016, 2017,\n",
       "       2018, 2019, 1995, 1996, 1997, 1998, 1999, 2000, 2001, 2002, 2003,\n",
       "       2004, 2005, 2006, 2007, 2008, 2009, 2010, 2011, 2012, 2013, 2014,\n",
       "       2015, 2016, 2017, 2018, 2019])"
      ]
     },
     "execution_count": 35,
     "metadata": {},
     "output_type": "execute_result"
    }
   ],
   "source": [
    "combine_df.Time.values"
   ]
  },
  {
   "cell_type": "code",
   "execution_count": null,
   "metadata": {},
   "outputs": [],
   "source": []
  }
 ],
 "metadata": {
  "interpreter": {
   "hash": "e7370f93d1d0cde622a1f8e1c04877d8463912d04d973331ad4851f04de6915a"
  },
  "kernelspec": {
   "display_name": "Python 3.10.2 64-bit",
   "language": "python",
   "name": "python3"
  },
  "language_info": {
   "codemirror_mode": {
    "name": "ipython",
    "version": 3
   },
   "file_extension": ".py",
   "mimetype": "text/x-python",
   "name": "python",
   "nbconvert_exporter": "python",
   "pygments_lexer": "ipython3",
   "version": "3.10.4"
  },
  "orig_nbformat": 4
 },
 "nbformat": 4,
 "nbformat_minor": 2
}
