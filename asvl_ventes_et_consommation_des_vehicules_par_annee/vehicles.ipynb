{
 "cells": [
  {
   "cell_type": "code",
   "execution_count": 1,
   "metadata": {
    "pycharm": {
     "name": "#%%\n"
    }
   },
   "outputs": [],
   "source": [
    "import numpy as np\n",
    "import pandas as pd\n",
    "import matplotlib.pyplot as plt"
   ]
  },
  {
   "cell_type": "code",
   "execution_count": 2,
   "metadata": {
    "pycharm": {
     "name": "#%%\n"
    }
   },
   "outputs": [
    {
     "data": {
      "text/plain": "             Carrosserie                                    Marque + Modele  \\\n0      Coupé / cabriolet                         PORSCHE 718 BOXSTER SPYDER   \n1      Coupé / cabriolet                             PORSCHE 718 CAYMAN GT4   \n2      Coupé / cabriolet                                       FERRARI Roma   \n3      Coupé / cabriolet                                FERRARI Portofino M   \n4                Minibus       FORD TRANSIT CUSTOM 2.0 EcoBlue (130ch) BVM6   \n...                  ...                                                ...   \n10579      Tout-Terrains  KIA NIRO HEV 1.6 essence Gdi (105ch) ISG / Ele...   \n10580            Berline         SKODA OCTAVIA Berline 1.5 TGI (131ch) DSG7   \n10581              Break           SKODA OCTAVIA Combi 1.5 TGI (131ch) DSG7   \n10582            Berline                      SEAT LEON 5P TGI (130ch) DSG7   \n10583            Berline                      SEAT LEON SP TGI (130ch) DSG7   \n\n      Energie   BV Consommation Min Consommation Max Consommation  Unité  \\\n0          ES  M 6                -             11,1          L / 100 km   \n1          ES  M 6                -             11,1          L / 100 km   \n2          ES  D 8                -             11,2          L / 100 km   \n3          ES  D 8                -             11,3          L / 100 km   \n4          GO  M 6                -              9,9          L / 100 km   \n...       ...  ...              ...              ...                 ...   \n10579      EH  A 6              4,4              5,2          L / 100 km   \n10580      GN  A 7              5,5              6,8         m3 / 100 km   \n10581      GN  A 7              5,5              6,8         m3 / 100 km   \n10582      GN  A 7              5,5              7,0         m3 / 100 km   \n10583      GN  A 7              5,5              7,0         m3 / 100 km   \n\n      Rejets CO2 Min Rejets CO2 Classe Min Rejets CO2 Max  \\\n0                  -                     G            251   \n1                  -                     G            251   \n2                  -                     G            255   \n3                  -                     G            256   \n4                  -                     G            260   \n...              ...                   ...            ...   \n10579            100                     A            119   \n10580             98                     A            122   \n10581             98                     A            122   \n10582             99                     A            124   \n10583             99                     A            124   \n\n      Rejets CO2 Classe Max Malus (+)/  Bonus (-) Coût énergie Max.  \\\n0                         G                   NaN           15,17 €   \n1                         G                   NaN           15,17 €   \n2                         G                   NaN           15,35 €   \n3                         G                   NaN           15,49 €   \n4                         G                   NaN           14,77 €   \n...                     ...                   ...               ...   \n10579                     B           Jusqu'à 0 €            7,17 €   \n10580                     C       Jusqu'à 0 € (2)           13,74 €   \n10581                     C       Jusqu'à 0 € (2)           13,74 €   \n10582                     C       Jusqu'à 0 € (2)           14,02 €   \n10583                     C       Jusqu'à 0 € (2)           14,02 €   \n\n      Polluants: CO Polluants HC Polluants: Nox Polluants: HC + Nox  \\\n0        <= 0,15000   <= 0,02000     <= 0,01700                   -   \n1        <= 0,15000   <= 0,02000     <= 0,01700                   -   \n2        <= 0,19600   <= 0,02500     <= 0,01900                   -   \n3        <= 0,18700   <= 0,02700     <= 0,02100                   -   \n4        <= 0,15600            -     <= 0,06400          <= 0,08200   \n...             ...          ...            ...                 ...   \n10579    <= 0,16000   <= 0,02300     <= 0,00300                   -   \n10580    <= 0,15700   <= 0,02700     <= 0,01600               <= NC   \n10581    <= 0,15700   <= 0,02700     <= 0,01600               <= NC   \n10582    <= 0,14600   <= 0,02700     <= 0,01600               <= NC   \n10583    <= 0,14600   <= 0,02700     <= 0,01600               <= NC   \n\n      Polluants: Particules Norme Euro  \n0                   0,00000     EURO 6  \n1                   0,00000     EURO 6  \n2                   0,00000     EURO 6  \n3                   0,00000     EURO 6  \n4                   0,00100     EURO 6  \n...                     ...        ...  \n10579               0,00000     EURO 6  \n10580                    NC     EURO 6  \n10581                    NC     EURO 6  \n10582                    NC     EURO 6  \n10583                    NC     EURO 6  \n\n[10584 rows x 19 columns]",
      "text/html": "<div>\n<style scoped>\n    .dataframe tbody tr th:only-of-type {\n        vertical-align: middle;\n    }\n\n    .dataframe tbody tr th {\n        vertical-align: top;\n    }\n\n    .dataframe thead th {\n        text-align: right;\n    }\n</style>\n<table border=\"1\" class=\"dataframe\">\n  <thead>\n    <tr style=\"text-align: right;\">\n      <th></th>\n      <th>Carrosserie</th>\n      <th>Marque + Modele</th>\n      <th>Energie</th>\n      <th>BV</th>\n      <th>Consommation Min</th>\n      <th>Consommation Max</th>\n      <th>Consommation  Unité</th>\n      <th>Rejets CO2 Min</th>\n      <th>Rejets CO2 Classe Min</th>\n      <th>Rejets CO2 Max</th>\n      <th>Rejets CO2 Classe Max</th>\n      <th>Malus (+)/  Bonus (-)</th>\n      <th>Coût énergie Max.</th>\n      <th>Polluants: CO</th>\n      <th>Polluants HC</th>\n      <th>Polluants: Nox</th>\n      <th>Polluants: HC + Nox</th>\n      <th>Polluants: Particules</th>\n      <th>Norme Euro</th>\n    </tr>\n  </thead>\n  <tbody>\n    <tr>\n      <th>0</th>\n      <td>Coupé / cabriolet</td>\n      <td>PORSCHE 718 BOXSTER SPYDER</td>\n      <td>ES</td>\n      <td>M 6</td>\n      <td>-</td>\n      <td>11,1</td>\n      <td>L / 100 km</td>\n      <td>-</td>\n      <td>G</td>\n      <td>251</td>\n      <td>G</td>\n      <td>NaN</td>\n      <td>15,17 €</td>\n      <td>&lt;= 0,15000</td>\n      <td>&lt;= 0,02000</td>\n      <td>&lt;= 0,01700</td>\n      <td>-</td>\n      <td>0,00000</td>\n      <td>EURO 6</td>\n    </tr>\n    <tr>\n      <th>1</th>\n      <td>Coupé / cabriolet</td>\n      <td>PORSCHE 718 CAYMAN GT4</td>\n      <td>ES</td>\n      <td>M 6</td>\n      <td>-</td>\n      <td>11,1</td>\n      <td>L / 100 km</td>\n      <td>-</td>\n      <td>G</td>\n      <td>251</td>\n      <td>G</td>\n      <td>NaN</td>\n      <td>15,17 €</td>\n      <td>&lt;= 0,15000</td>\n      <td>&lt;= 0,02000</td>\n      <td>&lt;= 0,01700</td>\n      <td>-</td>\n      <td>0,00000</td>\n      <td>EURO 6</td>\n    </tr>\n    <tr>\n      <th>2</th>\n      <td>Coupé / cabriolet</td>\n      <td>FERRARI Roma</td>\n      <td>ES</td>\n      <td>D 8</td>\n      <td>-</td>\n      <td>11,2</td>\n      <td>L / 100 km</td>\n      <td>-</td>\n      <td>G</td>\n      <td>255</td>\n      <td>G</td>\n      <td>NaN</td>\n      <td>15,35 €</td>\n      <td>&lt;= 0,19600</td>\n      <td>&lt;= 0,02500</td>\n      <td>&lt;= 0,01900</td>\n      <td>-</td>\n      <td>0,00000</td>\n      <td>EURO 6</td>\n    </tr>\n    <tr>\n      <th>3</th>\n      <td>Coupé / cabriolet</td>\n      <td>FERRARI Portofino M</td>\n      <td>ES</td>\n      <td>D 8</td>\n      <td>-</td>\n      <td>11,3</td>\n      <td>L / 100 km</td>\n      <td>-</td>\n      <td>G</td>\n      <td>256</td>\n      <td>G</td>\n      <td>NaN</td>\n      <td>15,49 €</td>\n      <td>&lt;= 0,18700</td>\n      <td>&lt;= 0,02700</td>\n      <td>&lt;= 0,02100</td>\n      <td>-</td>\n      <td>0,00000</td>\n      <td>EURO 6</td>\n    </tr>\n    <tr>\n      <th>4</th>\n      <td>Minibus</td>\n      <td>FORD TRANSIT CUSTOM 2.0 EcoBlue (130ch) BVM6</td>\n      <td>GO</td>\n      <td>M 6</td>\n      <td>-</td>\n      <td>9,9</td>\n      <td>L / 100 km</td>\n      <td>-</td>\n      <td>G</td>\n      <td>260</td>\n      <td>G</td>\n      <td>NaN</td>\n      <td>14,77 €</td>\n      <td>&lt;= 0,15600</td>\n      <td>-</td>\n      <td>&lt;= 0,06400</td>\n      <td>&lt;= 0,08200</td>\n      <td>0,00100</td>\n      <td>EURO 6</td>\n    </tr>\n    <tr>\n      <th>...</th>\n      <td>...</td>\n      <td>...</td>\n      <td>...</td>\n      <td>...</td>\n      <td>...</td>\n      <td>...</td>\n      <td>...</td>\n      <td>...</td>\n      <td>...</td>\n      <td>...</td>\n      <td>...</td>\n      <td>...</td>\n      <td>...</td>\n      <td>...</td>\n      <td>...</td>\n      <td>...</td>\n      <td>...</td>\n      <td>...</td>\n      <td>...</td>\n    </tr>\n    <tr>\n      <th>10579</th>\n      <td>Tout-Terrains</td>\n      <td>KIA NIRO HEV 1.6 essence Gdi (105ch) ISG / Ele...</td>\n      <td>EH</td>\n      <td>A 6</td>\n      <td>4,4</td>\n      <td>5,2</td>\n      <td>L / 100 km</td>\n      <td>100</td>\n      <td>A</td>\n      <td>119</td>\n      <td>B</td>\n      <td>Jusqu'à 0 €</td>\n      <td>7,17 €</td>\n      <td>&lt;= 0,16000</td>\n      <td>&lt;= 0,02300</td>\n      <td>&lt;= 0,00300</td>\n      <td>-</td>\n      <td>0,00000</td>\n      <td>EURO 6</td>\n    </tr>\n    <tr>\n      <th>10580</th>\n      <td>Berline</td>\n      <td>SKODA OCTAVIA Berline 1.5 TGI (131ch) DSG7</td>\n      <td>GN</td>\n      <td>A 7</td>\n      <td>5,5</td>\n      <td>6,8</td>\n      <td>m3 / 100 km</td>\n      <td>98</td>\n      <td>A</td>\n      <td>122</td>\n      <td>C</td>\n      <td>Jusqu'à 0 € (2)</td>\n      <td>13,74 €</td>\n      <td>&lt;= 0,15700</td>\n      <td>&lt;= 0,02700</td>\n      <td>&lt;= 0,01600</td>\n      <td>&lt;= NC</td>\n      <td>NC</td>\n      <td>EURO 6</td>\n    </tr>\n    <tr>\n      <th>10581</th>\n      <td>Break</td>\n      <td>SKODA OCTAVIA Combi 1.5 TGI (131ch) DSG7</td>\n      <td>GN</td>\n      <td>A 7</td>\n      <td>5,5</td>\n      <td>6,8</td>\n      <td>m3 / 100 km</td>\n      <td>98</td>\n      <td>A</td>\n      <td>122</td>\n      <td>C</td>\n      <td>Jusqu'à 0 € (2)</td>\n      <td>13,74 €</td>\n      <td>&lt;= 0,15700</td>\n      <td>&lt;= 0,02700</td>\n      <td>&lt;= 0,01600</td>\n      <td>&lt;= NC</td>\n      <td>NC</td>\n      <td>EURO 6</td>\n    </tr>\n    <tr>\n      <th>10582</th>\n      <td>Berline</td>\n      <td>SEAT LEON 5P TGI (130ch) DSG7</td>\n      <td>GN</td>\n      <td>A 7</td>\n      <td>5,5</td>\n      <td>7,0</td>\n      <td>m3 / 100 km</td>\n      <td>99</td>\n      <td>A</td>\n      <td>124</td>\n      <td>C</td>\n      <td>Jusqu'à 0 € (2)</td>\n      <td>14,02 €</td>\n      <td>&lt;= 0,14600</td>\n      <td>&lt;= 0,02700</td>\n      <td>&lt;= 0,01600</td>\n      <td>&lt;= NC</td>\n      <td>NC</td>\n      <td>EURO 6</td>\n    </tr>\n    <tr>\n      <th>10583</th>\n      <td>Berline</td>\n      <td>SEAT LEON SP TGI (130ch) DSG7</td>\n      <td>GN</td>\n      <td>A 7</td>\n      <td>5,5</td>\n      <td>7,0</td>\n      <td>m3 / 100 km</td>\n      <td>99</td>\n      <td>A</td>\n      <td>124</td>\n      <td>C</td>\n      <td>Jusqu'à 0 € (2)</td>\n      <td>14,02 €</td>\n      <td>&lt;= 0,14600</td>\n      <td>&lt;= 0,02700</td>\n      <td>&lt;= 0,01600</td>\n      <td>&lt;= NC</td>\n      <td>NC</td>\n      <td>EURO 6</td>\n    </tr>\n  </tbody>\n</table>\n<p>10584 rows × 19 columns</p>\n</div>"
     },
     "execution_count": 2,
     "metadata": {},
     "output_type": "execute_result"
    }
   ],
   "source": [
    "df = pd.read_excel(\"data/carlabelling-28-04-2022-12-36-pandas-friendly.xlsx\")\n",
    "df"
   ]
  },
  {
   "cell_type": "code",
   "execution_count": 3,
   "metadata": {
    "pycharm": {
     "name": "#%%\n"
    }
   },
   "outputs": [],
   "source": [
    "df['Marque + Modele'] = df['Marque + Modele'].apply(lambda x: x.split(' ', 1))"
   ]
  },
  {
   "cell_type": "code",
   "execution_count": 4,
   "metadata": {
    "pycharm": {
     "name": "#%%\n"
    }
   },
   "outputs": [
    {
     "data": {
      "text/plain": "             Carrosserie                                    Marque + Modele  \\\n0      Coupé / cabriolet                      [PORSCHE, 718 BOXSTER SPYDER]   \n1      Coupé / cabriolet                          [PORSCHE, 718 CAYMAN GT4]   \n2      Coupé / cabriolet                                    [FERRARI, Roma]   \n3      Coupé / cabriolet                             [FERRARI, Portofino M]   \n4                Minibus    [FORD, TRANSIT CUSTOM 2.0 EcoBlue (130ch) BVM6]   \n...                  ...                                                ...   \n10579      Tout-Terrains  [KIA, NIRO HEV 1.6 essence Gdi (105ch) ISG / E...   \n10580            Berline      [SKODA, OCTAVIA Berline 1.5 TGI (131ch) DSG7]   \n10581              Break        [SKODA, OCTAVIA Combi 1.5 TGI (131ch) DSG7]   \n10582            Berline                   [SEAT, LEON 5P TGI (130ch) DSG7]   \n10583            Berline                   [SEAT, LEON SP TGI (130ch) DSG7]   \n\n      Energie   BV Consommation Min Consommation Max Consommation  Unité  \\\n0          ES  M 6                -             11,1          L / 100 km   \n1          ES  M 6                -             11,1          L / 100 km   \n2          ES  D 8                -             11,2          L / 100 km   \n3          ES  D 8                -             11,3          L / 100 km   \n4          GO  M 6                -              9,9          L / 100 km   \n...       ...  ...              ...              ...                 ...   \n10579      EH  A 6              4,4              5,2          L / 100 km   \n10580      GN  A 7              5,5              6,8         m3 / 100 km   \n10581      GN  A 7              5,5              6,8         m3 / 100 km   \n10582      GN  A 7              5,5              7,0         m3 / 100 km   \n10583      GN  A 7              5,5              7,0         m3 / 100 km   \n\n      Rejets CO2 Min Rejets CO2 Classe Min Rejets CO2 Max  \\\n0                  -                     G            251   \n1                  -                     G            251   \n2                  -                     G            255   \n3                  -                     G            256   \n4                  -                     G            260   \n...              ...                   ...            ...   \n10579            100                     A            119   \n10580             98                     A            122   \n10581             98                     A            122   \n10582             99                     A            124   \n10583             99                     A            124   \n\n      Rejets CO2 Classe Max Malus (+)/  Bonus (-) Coût énergie Max.  \\\n0                         G                   NaN           15,17 €   \n1                         G                   NaN           15,17 €   \n2                         G                   NaN           15,35 €   \n3                         G                   NaN           15,49 €   \n4                         G                   NaN           14,77 €   \n...                     ...                   ...               ...   \n10579                     B           Jusqu'à 0 €            7,17 €   \n10580                     C       Jusqu'à 0 € (2)           13,74 €   \n10581                     C       Jusqu'à 0 € (2)           13,74 €   \n10582                     C       Jusqu'à 0 € (2)           14,02 €   \n10583                     C       Jusqu'à 0 € (2)           14,02 €   \n\n      Polluants: CO Polluants HC Polluants: Nox Polluants: HC + Nox  \\\n0        <= 0,15000   <= 0,02000     <= 0,01700                   -   \n1        <= 0,15000   <= 0,02000     <= 0,01700                   -   \n2        <= 0,19600   <= 0,02500     <= 0,01900                   -   \n3        <= 0,18700   <= 0,02700     <= 0,02100                   -   \n4        <= 0,15600            -     <= 0,06400          <= 0,08200   \n...             ...          ...            ...                 ...   \n10579    <= 0,16000   <= 0,02300     <= 0,00300                   -   \n10580    <= 0,15700   <= 0,02700     <= 0,01600               <= NC   \n10581    <= 0,15700   <= 0,02700     <= 0,01600               <= NC   \n10582    <= 0,14600   <= 0,02700     <= 0,01600               <= NC   \n10583    <= 0,14600   <= 0,02700     <= 0,01600               <= NC   \n\n      Polluants: Particules Norme Euro  \n0                   0,00000     EURO 6  \n1                   0,00000     EURO 6  \n2                   0,00000     EURO 6  \n3                   0,00000     EURO 6  \n4                   0,00100     EURO 6  \n...                     ...        ...  \n10579               0,00000     EURO 6  \n10580                    NC     EURO 6  \n10581                    NC     EURO 6  \n10582                    NC     EURO 6  \n10583                    NC     EURO 6  \n\n[10584 rows x 19 columns]",
      "text/html": "<div>\n<style scoped>\n    .dataframe tbody tr th:only-of-type {\n        vertical-align: middle;\n    }\n\n    .dataframe tbody tr th {\n        vertical-align: top;\n    }\n\n    .dataframe thead th {\n        text-align: right;\n    }\n</style>\n<table border=\"1\" class=\"dataframe\">\n  <thead>\n    <tr style=\"text-align: right;\">\n      <th></th>\n      <th>Carrosserie</th>\n      <th>Marque + Modele</th>\n      <th>Energie</th>\n      <th>BV</th>\n      <th>Consommation Min</th>\n      <th>Consommation Max</th>\n      <th>Consommation  Unité</th>\n      <th>Rejets CO2 Min</th>\n      <th>Rejets CO2 Classe Min</th>\n      <th>Rejets CO2 Max</th>\n      <th>Rejets CO2 Classe Max</th>\n      <th>Malus (+)/  Bonus (-)</th>\n      <th>Coût énergie Max.</th>\n      <th>Polluants: CO</th>\n      <th>Polluants HC</th>\n      <th>Polluants: Nox</th>\n      <th>Polluants: HC + Nox</th>\n      <th>Polluants: Particules</th>\n      <th>Norme Euro</th>\n    </tr>\n  </thead>\n  <tbody>\n    <tr>\n      <th>0</th>\n      <td>Coupé / cabriolet</td>\n      <td>[PORSCHE, 718 BOXSTER SPYDER]</td>\n      <td>ES</td>\n      <td>M 6</td>\n      <td>-</td>\n      <td>11,1</td>\n      <td>L / 100 km</td>\n      <td>-</td>\n      <td>G</td>\n      <td>251</td>\n      <td>G</td>\n      <td>NaN</td>\n      <td>15,17 €</td>\n      <td>&lt;= 0,15000</td>\n      <td>&lt;= 0,02000</td>\n      <td>&lt;= 0,01700</td>\n      <td>-</td>\n      <td>0,00000</td>\n      <td>EURO 6</td>\n    </tr>\n    <tr>\n      <th>1</th>\n      <td>Coupé / cabriolet</td>\n      <td>[PORSCHE, 718 CAYMAN GT4]</td>\n      <td>ES</td>\n      <td>M 6</td>\n      <td>-</td>\n      <td>11,1</td>\n      <td>L / 100 km</td>\n      <td>-</td>\n      <td>G</td>\n      <td>251</td>\n      <td>G</td>\n      <td>NaN</td>\n      <td>15,17 €</td>\n      <td>&lt;= 0,15000</td>\n      <td>&lt;= 0,02000</td>\n      <td>&lt;= 0,01700</td>\n      <td>-</td>\n      <td>0,00000</td>\n      <td>EURO 6</td>\n    </tr>\n    <tr>\n      <th>2</th>\n      <td>Coupé / cabriolet</td>\n      <td>[FERRARI, Roma]</td>\n      <td>ES</td>\n      <td>D 8</td>\n      <td>-</td>\n      <td>11,2</td>\n      <td>L / 100 km</td>\n      <td>-</td>\n      <td>G</td>\n      <td>255</td>\n      <td>G</td>\n      <td>NaN</td>\n      <td>15,35 €</td>\n      <td>&lt;= 0,19600</td>\n      <td>&lt;= 0,02500</td>\n      <td>&lt;= 0,01900</td>\n      <td>-</td>\n      <td>0,00000</td>\n      <td>EURO 6</td>\n    </tr>\n    <tr>\n      <th>3</th>\n      <td>Coupé / cabriolet</td>\n      <td>[FERRARI, Portofino M]</td>\n      <td>ES</td>\n      <td>D 8</td>\n      <td>-</td>\n      <td>11,3</td>\n      <td>L / 100 km</td>\n      <td>-</td>\n      <td>G</td>\n      <td>256</td>\n      <td>G</td>\n      <td>NaN</td>\n      <td>15,49 €</td>\n      <td>&lt;= 0,18700</td>\n      <td>&lt;= 0,02700</td>\n      <td>&lt;= 0,02100</td>\n      <td>-</td>\n      <td>0,00000</td>\n      <td>EURO 6</td>\n    </tr>\n    <tr>\n      <th>4</th>\n      <td>Minibus</td>\n      <td>[FORD, TRANSIT CUSTOM 2.0 EcoBlue (130ch) BVM6]</td>\n      <td>GO</td>\n      <td>M 6</td>\n      <td>-</td>\n      <td>9,9</td>\n      <td>L / 100 km</td>\n      <td>-</td>\n      <td>G</td>\n      <td>260</td>\n      <td>G</td>\n      <td>NaN</td>\n      <td>14,77 €</td>\n      <td>&lt;= 0,15600</td>\n      <td>-</td>\n      <td>&lt;= 0,06400</td>\n      <td>&lt;= 0,08200</td>\n      <td>0,00100</td>\n      <td>EURO 6</td>\n    </tr>\n    <tr>\n      <th>...</th>\n      <td>...</td>\n      <td>...</td>\n      <td>...</td>\n      <td>...</td>\n      <td>...</td>\n      <td>...</td>\n      <td>...</td>\n      <td>...</td>\n      <td>...</td>\n      <td>...</td>\n      <td>...</td>\n      <td>...</td>\n      <td>...</td>\n      <td>...</td>\n      <td>...</td>\n      <td>...</td>\n      <td>...</td>\n      <td>...</td>\n      <td>...</td>\n    </tr>\n    <tr>\n      <th>10579</th>\n      <td>Tout-Terrains</td>\n      <td>[KIA, NIRO HEV 1.6 essence Gdi (105ch) ISG / E...</td>\n      <td>EH</td>\n      <td>A 6</td>\n      <td>4,4</td>\n      <td>5,2</td>\n      <td>L / 100 km</td>\n      <td>100</td>\n      <td>A</td>\n      <td>119</td>\n      <td>B</td>\n      <td>Jusqu'à 0 €</td>\n      <td>7,17 €</td>\n      <td>&lt;= 0,16000</td>\n      <td>&lt;= 0,02300</td>\n      <td>&lt;= 0,00300</td>\n      <td>-</td>\n      <td>0,00000</td>\n      <td>EURO 6</td>\n    </tr>\n    <tr>\n      <th>10580</th>\n      <td>Berline</td>\n      <td>[SKODA, OCTAVIA Berline 1.5 TGI (131ch) DSG7]</td>\n      <td>GN</td>\n      <td>A 7</td>\n      <td>5,5</td>\n      <td>6,8</td>\n      <td>m3 / 100 km</td>\n      <td>98</td>\n      <td>A</td>\n      <td>122</td>\n      <td>C</td>\n      <td>Jusqu'à 0 € (2)</td>\n      <td>13,74 €</td>\n      <td>&lt;= 0,15700</td>\n      <td>&lt;= 0,02700</td>\n      <td>&lt;= 0,01600</td>\n      <td>&lt;= NC</td>\n      <td>NC</td>\n      <td>EURO 6</td>\n    </tr>\n    <tr>\n      <th>10581</th>\n      <td>Break</td>\n      <td>[SKODA, OCTAVIA Combi 1.5 TGI (131ch) DSG7]</td>\n      <td>GN</td>\n      <td>A 7</td>\n      <td>5,5</td>\n      <td>6,8</td>\n      <td>m3 / 100 km</td>\n      <td>98</td>\n      <td>A</td>\n      <td>122</td>\n      <td>C</td>\n      <td>Jusqu'à 0 € (2)</td>\n      <td>13,74 €</td>\n      <td>&lt;= 0,15700</td>\n      <td>&lt;= 0,02700</td>\n      <td>&lt;= 0,01600</td>\n      <td>&lt;= NC</td>\n      <td>NC</td>\n      <td>EURO 6</td>\n    </tr>\n    <tr>\n      <th>10582</th>\n      <td>Berline</td>\n      <td>[SEAT, LEON 5P TGI (130ch) DSG7]</td>\n      <td>GN</td>\n      <td>A 7</td>\n      <td>5,5</td>\n      <td>7,0</td>\n      <td>m3 / 100 km</td>\n      <td>99</td>\n      <td>A</td>\n      <td>124</td>\n      <td>C</td>\n      <td>Jusqu'à 0 € (2)</td>\n      <td>14,02 €</td>\n      <td>&lt;= 0,14600</td>\n      <td>&lt;= 0,02700</td>\n      <td>&lt;= 0,01600</td>\n      <td>&lt;= NC</td>\n      <td>NC</td>\n      <td>EURO 6</td>\n    </tr>\n    <tr>\n      <th>10583</th>\n      <td>Berline</td>\n      <td>[SEAT, LEON SP TGI (130ch) DSG7]</td>\n      <td>GN</td>\n      <td>A 7</td>\n      <td>5,5</td>\n      <td>7,0</td>\n      <td>m3 / 100 km</td>\n      <td>99</td>\n      <td>A</td>\n      <td>124</td>\n      <td>C</td>\n      <td>Jusqu'à 0 € (2)</td>\n      <td>14,02 €</td>\n      <td>&lt;= 0,14600</td>\n      <td>&lt;= 0,02700</td>\n      <td>&lt;= 0,01600</td>\n      <td>&lt;= NC</td>\n      <td>NC</td>\n      <td>EURO 6</td>\n    </tr>\n  </tbody>\n</table>\n<p>10584 rows × 19 columns</p>\n</div>"
     },
     "execution_count": 4,
     "metadata": {},
     "output_type": "execute_result"
    }
   ],
   "source": [
    "df"
   ]
  },
  {
   "cell_type": "code",
   "execution_count": 5,
   "metadata": {
    "pycharm": {
     "name": "#%%\n"
    }
   },
   "outputs": [],
   "source": [
    "df['Marque'] = df['Marque + Modele'].apply(lambda x: x[0])\n",
    "df['Modele'] = df['Marque + Modele'].apply(lambda x: x[1])\n",
    "df: pd.DataFrame = df.drop(['Marque + Modele'], axis=1)"
   ]
  },
  {
   "cell_type": "code",
   "execution_count": 6,
   "metadata": {
    "pycharm": {
     "name": "#%%\n"
    }
   },
   "outputs": [
    {
     "data": {
      "text/plain": "             Carrosserie Energie   BV Consommation Min Consommation Max  \\\n0      Coupé / cabriolet      ES  M 6                -             11,1   \n1      Coupé / cabriolet      ES  M 6                -             11,1   \n2      Coupé / cabriolet      ES  D 8                -             11,2   \n3      Coupé / cabriolet      ES  D 8                -             11,3   \n4                Minibus      GO  M 6                -              9,9   \n...                  ...     ...  ...              ...              ...   \n10579      Tout-Terrains      EH  A 6              4,4              5,2   \n10580            Berline      GN  A 7              5,5              6,8   \n10581              Break      GN  A 7              5,5              6,8   \n10582            Berline      GN  A 7              5,5              7,0   \n10583            Berline      GN  A 7              5,5              7,0   \n\n      Consommation  Unité Rejets CO2 Min Rejets CO2 Classe Min Rejets CO2 Max  \\\n0              L / 100 km              -                     G            251   \n1              L / 100 km              -                     G            251   \n2              L / 100 km              -                     G            255   \n3              L / 100 km              -                     G            256   \n4              L / 100 km              -                     G            260   \n...                   ...            ...                   ...            ...   \n10579          L / 100 km            100                     A            119   \n10580         m3 / 100 km             98                     A            122   \n10581         m3 / 100 km             98                     A            122   \n10582         m3 / 100 km             99                     A            124   \n10583         m3 / 100 km             99                     A            124   \n\n      Rejets CO2 Classe Max Malus (+)/  Bonus (-) Coût énergie Max.  \\\n0                         G                   NaN           15,17 €   \n1                         G                   NaN           15,17 €   \n2                         G                   NaN           15,35 €   \n3                         G                   NaN           15,49 €   \n4                         G                   NaN           14,77 €   \n...                     ...                   ...               ...   \n10579                     B           Jusqu'à 0 €            7,17 €   \n10580                     C       Jusqu'à 0 € (2)           13,74 €   \n10581                     C       Jusqu'à 0 € (2)           13,74 €   \n10582                     C       Jusqu'à 0 € (2)           14,02 €   \n10583                     C       Jusqu'à 0 € (2)           14,02 €   \n\n      Polluants: CO Polluants HC Polluants: Nox Polluants: HC + Nox  \\\n0        <= 0,15000   <= 0,02000     <= 0,01700                   -   \n1        <= 0,15000   <= 0,02000     <= 0,01700                   -   \n2        <= 0,19600   <= 0,02500     <= 0,01900                   -   \n3        <= 0,18700   <= 0,02700     <= 0,02100                   -   \n4        <= 0,15600            -     <= 0,06400          <= 0,08200   \n...             ...          ...            ...                 ...   \n10579    <= 0,16000   <= 0,02300     <= 0,00300                   -   \n10580    <= 0,15700   <= 0,02700     <= 0,01600               <= NC   \n10581    <= 0,15700   <= 0,02700     <= 0,01600               <= NC   \n10582    <= 0,14600   <= 0,02700     <= 0,01600               <= NC   \n10583    <= 0,14600   <= 0,02700     <= 0,01600               <= NC   \n\n      Polluants: Particules Norme Euro   Marque  \\\n0                   0,00000     EURO 6  PORSCHE   \n1                   0,00000     EURO 6  PORSCHE   \n2                   0,00000     EURO 6  FERRARI   \n3                   0,00000     EURO 6  FERRARI   \n4                   0,00100     EURO 6     FORD   \n...                     ...        ...      ...   \n10579               0,00000     EURO 6      KIA   \n10580                    NC     EURO 6    SKODA   \n10581                    NC     EURO 6    SKODA   \n10582                    NC     EURO 6     SEAT   \n10583                    NC     EURO 6     SEAT   \n\n                                                  Modele  \n0                                     718 BOXSTER SPYDER  \n1                                         718 CAYMAN GT4  \n2                                                   Roma  \n3                                            Portofino M  \n4                TRANSIT CUSTOM 2.0 EcoBlue (130ch) BVM6  \n...                                                  ...  \n10579  NIRO HEV 1.6 essence Gdi (105ch) ISG / Electri...  \n10580               OCTAVIA Berline 1.5 TGI (131ch) DSG7  \n10581                 OCTAVIA Combi 1.5 TGI (131ch) DSG7  \n10582                           LEON 5P TGI (130ch) DSG7  \n10583                           LEON SP TGI (130ch) DSG7  \n\n[10584 rows x 20 columns]",
      "text/html": "<div>\n<style scoped>\n    .dataframe tbody tr th:only-of-type {\n        vertical-align: middle;\n    }\n\n    .dataframe tbody tr th {\n        vertical-align: top;\n    }\n\n    .dataframe thead th {\n        text-align: right;\n    }\n</style>\n<table border=\"1\" class=\"dataframe\">\n  <thead>\n    <tr style=\"text-align: right;\">\n      <th></th>\n      <th>Carrosserie</th>\n      <th>Energie</th>\n      <th>BV</th>\n      <th>Consommation Min</th>\n      <th>Consommation Max</th>\n      <th>Consommation  Unité</th>\n      <th>Rejets CO2 Min</th>\n      <th>Rejets CO2 Classe Min</th>\n      <th>Rejets CO2 Max</th>\n      <th>Rejets CO2 Classe Max</th>\n      <th>Malus (+)/  Bonus (-)</th>\n      <th>Coût énergie Max.</th>\n      <th>Polluants: CO</th>\n      <th>Polluants HC</th>\n      <th>Polluants: Nox</th>\n      <th>Polluants: HC + Nox</th>\n      <th>Polluants: Particules</th>\n      <th>Norme Euro</th>\n      <th>Marque</th>\n      <th>Modele</th>\n    </tr>\n  </thead>\n  <tbody>\n    <tr>\n      <th>0</th>\n      <td>Coupé / cabriolet</td>\n      <td>ES</td>\n      <td>M 6</td>\n      <td>-</td>\n      <td>11,1</td>\n      <td>L / 100 km</td>\n      <td>-</td>\n      <td>G</td>\n      <td>251</td>\n      <td>G</td>\n      <td>NaN</td>\n      <td>15,17 €</td>\n      <td>&lt;= 0,15000</td>\n      <td>&lt;= 0,02000</td>\n      <td>&lt;= 0,01700</td>\n      <td>-</td>\n      <td>0,00000</td>\n      <td>EURO 6</td>\n      <td>PORSCHE</td>\n      <td>718 BOXSTER SPYDER</td>\n    </tr>\n    <tr>\n      <th>1</th>\n      <td>Coupé / cabriolet</td>\n      <td>ES</td>\n      <td>M 6</td>\n      <td>-</td>\n      <td>11,1</td>\n      <td>L / 100 km</td>\n      <td>-</td>\n      <td>G</td>\n      <td>251</td>\n      <td>G</td>\n      <td>NaN</td>\n      <td>15,17 €</td>\n      <td>&lt;= 0,15000</td>\n      <td>&lt;= 0,02000</td>\n      <td>&lt;= 0,01700</td>\n      <td>-</td>\n      <td>0,00000</td>\n      <td>EURO 6</td>\n      <td>PORSCHE</td>\n      <td>718 CAYMAN GT4</td>\n    </tr>\n    <tr>\n      <th>2</th>\n      <td>Coupé / cabriolet</td>\n      <td>ES</td>\n      <td>D 8</td>\n      <td>-</td>\n      <td>11,2</td>\n      <td>L / 100 km</td>\n      <td>-</td>\n      <td>G</td>\n      <td>255</td>\n      <td>G</td>\n      <td>NaN</td>\n      <td>15,35 €</td>\n      <td>&lt;= 0,19600</td>\n      <td>&lt;= 0,02500</td>\n      <td>&lt;= 0,01900</td>\n      <td>-</td>\n      <td>0,00000</td>\n      <td>EURO 6</td>\n      <td>FERRARI</td>\n      <td>Roma</td>\n    </tr>\n    <tr>\n      <th>3</th>\n      <td>Coupé / cabriolet</td>\n      <td>ES</td>\n      <td>D 8</td>\n      <td>-</td>\n      <td>11,3</td>\n      <td>L / 100 km</td>\n      <td>-</td>\n      <td>G</td>\n      <td>256</td>\n      <td>G</td>\n      <td>NaN</td>\n      <td>15,49 €</td>\n      <td>&lt;= 0,18700</td>\n      <td>&lt;= 0,02700</td>\n      <td>&lt;= 0,02100</td>\n      <td>-</td>\n      <td>0,00000</td>\n      <td>EURO 6</td>\n      <td>FERRARI</td>\n      <td>Portofino M</td>\n    </tr>\n    <tr>\n      <th>4</th>\n      <td>Minibus</td>\n      <td>GO</td>\n      <td>M 6</td>\n      <td>-</td>\n      <td>9,9</td>\n      <td>L / 100 km</td>\n      <td>-</td>\n      <td>G</td>\n      <td>260</td>\n      <td>G</td>\n      <td>NaN</td>\n      <td>14,77 €</td>\n      <td>&lt;= 0,15600</td>\n      <td>-</td>\n      <td>&lt;= 0,06400</td>\n      <td>&lt;= 0,08200</td>\n      <td>0,00100</td>\n      <td>EURO 6</td>\n      <td>FORD</td>\n      <td>TRANSIT CUSTOM 2.0 EcoBlue (130ch) BVM6</td>\n    </tr>\n    <tr>\n      <th>...</th>\n      <td>...</td>\n      <td>...</td>\n      <td>...</td>\n      <td>...</td>\n      <td>...</td>\n      <td>...</td>\n      <td>...</td>\n      <td>...</td>\n      <td>...</td>\n      <td>...</td>\n      <td>...</td>\n      <td>...</td>\n      <td>...</td>\n      <td>...</td>\n      <td>...</td>\n      <td>...</td>\n      <td>...</td>\n      <td>...</td>\n      <td>...</td>\n      <td>...</td>\n    </tr>\n    <tr>\n      <th>10579</th>\n      <td>Tout-Terrains</td>\n      <td>EH</td>\n      <td>A 6</td>\n      <td>4,4</td>\n      <td>5,2</td>\n      <td>L / 100 km</td>\n      <td>100</td>\n      <td>A</td>\n      <td>119</td>\n      <td>B</td>\n      <td>Jusqu'à 0 €</td>\n      <td>7,17 €</td>\n      <td>&lt;= 0,16000</td>\n      <td>&lt;= 0,02300</td>\n      <td>&lt;= 0,00300</td>\n      <td>-</td>\n      <td>0,00000</td>\n      <td>EURO 6</td>\n      <td>KIA</td>\n      <td>NIRO HEV 1.6 essence Gdi (105ch) ISG / Electri...</td>\n    </tr>\n    <tr>\n      <th>10580</th>\n      <td>Berline</td>\n      <td>GN</td>\n      <td>A 7</td>\n      <td>5,5</td>\n      <td>6,8</td>\n      <td>m3 / 100 km</td>\n      <td>98</td>\n      <td>A</td>\n      <td>122</td>\n      <td>C</td>\n      <td>Jusqu'à 0 € (2)</td>\n      <td>13,74 €</td>\n      <td>&lt;= 0,15700</td>\n      <td>&lt;= 0,02700</td>\n      <td>&lt;= 0,01600</td>\n      <td>&lt;= NC</td>\n      <td>NC</td>\n      <td>EURO 6</td>\n      <td>SKODA</td>\n      <td>OCTAVIA Berline 1.5 TGI (131ch) DSG7</td>\n    </tr>\n    <tr>\n      <th>10581</th>\n      <td>Break</td>\n      <td>GN</td>\n      <td>A 7</td>\n      <td>5,5</td>\n      <td>6,8</td>\n      <td>m3 / 100 km</td>\n      <td>98</td>\n      <td>A</td>\n      <td>122</td>\n      <td>C</td>\n      <td>Jusqu'à 0 € (2)</td>\n      <td>13,74 €</td>\n      <td>&lt;= 0,15700</td>\n      <td>&lt;= 0,02700</td>\n      <td>&lt;= 0,01600</td>\n      <td>&lt;= NC</td>\n      <td>NC</td>\n      <td>EURO 6</td>\n      <td>SKODA</td>\n      <td>OCTAVIA Combi 1.5 TGI (131ch) DSG7</td>\n    </tr>\n    <tr>\n      <th>10582</th>\n      <td>Berline</td>\n      <td>GN</td>\n      <td>A 7</td>\n      <td>5,5</td>\n      <td>7,0</td>\n      <td>m3 / 100 km</td>\n      <td>99</td>\n      <td>A</td>\n      <td>124</td>\n      <td>C</td>\n      <td>Jusqu'à 0 € (2)</td>\n      <td>14,02 €</td>\n      <td>&lt;= 0,14600</td>\n      <td>&lt;= 0,02700</td>\n      <td>&lt;= 0,01600</td>\n      <td>&lt;= NC</td>\n      <td>NC</td>\n      <td>EURO 6</td>\n      <td>SEAT</td>\n      <td>LEON 5P TGI (130ch) DSG7</td>\n    </tr>\n    <tr>\n      <th>10583</th>\n      <td>Berline</td>\n      <td>GN</td>\n      <td>A 7</td>\n      <td>5,5</td>\n      <td>7,0</td>\n      <td>m3 / 100 km</td>\n      <td>99</td>\n      <td>A</td>\n      <td>124</td>\n      <td>C</td>\n      <td>Jusqu'à 0 € (2)</td>\n      <td>14,02 €</td>\n      <td>&lt;= 0,14600</td>\n      <td>&lt;= 0,02700</td>\n      <td>&lt;= 0,01600</td>\n      <td>&lt;= NC</td>\n      <td>NC</td>\n      <td>EURO 6</td>\n      <td>SEAT</td>\n      <td>LEON SP TGI (130ch) DSG7</td>\n    </tr>\n  </tbody>\n</table>\n<p>10584 rows × 20 columns</p>\n</div>"
     },
     "execution_count": 6,
     "metadata": {},
     "output_type": "execute_result"
    }
   ],
   "source": [
    "df\n"
   ]
  },
  {
   "cell_type": "code",
   "execution_count": 7,
   "metadata": {
    "pycharm": {
     "name": "#%%\n"
    }
   },
   "outputs": [
    {
     "data": {
      "text/plain": "Marque\nVOLKSWAGEN     4612\nSKODA          2594\nBMW             490\nMERCEDES        477\nFORD            218\nAUDI            190\nVOLVO           156\nPEUGEOT         150\nKIA             137\nFIAT            128\nCITROEN         124\nNISSAN          123\nPORSCHE         107\nTOYOTA           93\nRENAULT          86\nSEAT             82\nLAND             75\nOPEL             74\nMINI             72\nHYUNDAI          63\nSSANGYONG        58\nMAZDA            58\nALFA             43\nMASERATI         41\nJAGUAR           37\nJEEP             36\nDACIA            33\nCUPRA            29\nDS               26\nFERRARI          24\nSUZUKI           22\nSUBARU           19\nLAMBORGHINI      18\nSMART            18\nLEXUS            16\nROLLS            11\nHONDA            10\nTESLA             9\nMG                8\nBENTLEY           8\nMITSUBISHI        6\nALPINE            3\ndtype: int64"
     },
     "execution_count": 7,
     "metadata": {},
     "output_type": "execute_result"
    }
   ],
   "source": [
    "tmp: pd.DataFrame = df.groupby(\"Marque\").size()\n",
    "tmp.sort_values(ascending=False)"
   ]
  },
  {
   "cell_type": "markdown",
   "metadata": {
    "pycharm": {
     "name": "#%% md\n"
    }
   },
   "source": [
    "Simplifie et garde les valeurs les plus intéressantes"
   ]
  },
  {
   "cell_type": "code",
   "execution_count": 8,
   "metadata": {
    "pycharm": {
     "name": "#%%\n"
    }
   },
   "outputs": [
    {
     "data": {
      "text/plain": "             Carrosserie Energie   BV Consommation Min Consommation Max  \\\n0      Coupé / cabriolet      ES  M 6                -             11,1   \n1      Coupé / cabriolet      ES  M 6                -             11,1   \n2      Coupé / cabriolet      ES  D 8                -             11,2   \n3      Coupé / cabriolet      ES  D 8                -             11,3   \n4                Minibus      GO  M 6                -              9,9   \n...                  ...     ...  ...              ...              ...   \n10579      Tout-Terrains      EH  A 6              4,4              5,2   \n10580            Berline      GN  A 7              5,5              6,8   \n10581              Break      GN  A 7              5,5              6,8   \n10582            Berline      GN  A 7              5,5              7,0   \n10583            Berline      GN  A 7              5,5              7,0   \n\n      Consommation  Unité Rejets CO2 Min Rejets CO2 Classe Min Rejets CO2 Max  \\\n0              L / 100 km              -                     G            251   \n1              L / 100 km              -                     G            251   \n2              L / 100 km              -                     G            255   \n3              L / 100 km              -                     G            256   \n4              L / 100 km              -                     G            260   \n...                   ...            ...                   ...            ...   \n10579          L / 100 km            100                     A            119   \n10580         m3 / 100 km             98                     A            122   \n10581         m3 / 100 km             98                     A            122   \n10582         m3 / 100 km             99                     A            124   \n10583         m3 / 100 km             99                     A            124   \n\n      Rejets CO2 Classe Max Malus (+)/  Bonus (-) Coût énergie Max.  \\\n0                         G                   NaN           15,17 €   \n1                         G                   NaN           15,17 €   \n2                         G                   NaN           15,35 €   \n3                         G                   NaN           15,49 €   \n4                         G                   NaN           14,77 €   \n...                     ...                   ...               ...   \n10579                     B           Jusqu'à 0 €            7,17 €   \n10580                     C       Jusqu'à 0 € (2)           13,74 €   \n10581                     C       Jusqu'à 0 € (2)           13,74 €   \n10582                     C       Jusqu'à 0 € (2)           14,02 €   \n10583                     C       Jusqu'à 0 € (2)           14,02 €   \n\n      Polluants: CO Polluants HC Polluants: Nox Polluants: HC + Nox  \\\n0        <= 0,15000   <= 0,02000     <= 0,01700                   -   \n1        <= 0,15000   <= 0,02000     <= 0,01700                   -   \n2        <= 0,19600   <= 0,02500     <= 0,01900                   -   \n3        <= 0,18700   <= 0,02700     <= 0,02100                   -   \n4        <= 0,15600            -     <= 0,06400          <= 0,08200   \n...             ...          ...            ...                 ...   \n10579    <= 0,16000   <= 0,02300     <= 0,00300                   -   \n10580    <= 0,15700   <= 0,02700     <= 0,01600               <= NC   \n10581    <= 0,15700   <= 0,02700     <= 0,01600               <= NC   \n10582    <= 0,14600   <= 0,02700     <= 0,01600               <= NC   \n10583    <= 0,14600   <= 0,02700     <= 0,01600               <= NC   \n\n      Polluants: Particules Norme Euro   Marque  \\\n0                   0,00000     EURO 6  PORSCHE   \n1                   0,00000     EURO 6  PORSCHE   \n2                   0,00000     EURO 6  FERRARI   \n3                   0,00000     EURO 6  FERRARI   \n4                   0,00100     EURO 6     FORD   \n...                     ...        ...      ...   \n10579               0,00000     EURO 6      KIA   \n10580                    NC     EURO 6    SKODA   \n10581                    NC     EURO 6    SKODA   \n10582                    NC     EURO 6     SEAT   \n10583                    NC     EURO 6     SEAT   \n\n                                                  Modele  \n0                                     718 BOXSTER SPYDER  \n1                                         718 CAYMAN GT4  \n2                                                   Roma  \n3                                            Portofino M  \n4                TRANSIT CUSTOM 2.0 EcoBlue (130ch) BVM6  \n...                                                  ...  \n10579  NIRO HEV 1.6 essence Gdi (105ch) ISG / Electri...  \n10580               OCTAVIA Berline 1.5 TGI (131ch) DSG7  \n10581                 OCTAVIA Combi 1.5 TGI (131ch) DSG7  \n10582                           LEON 5P TGI (130ch) DSG7  \n10583                           LEON SP TGI (130ch) DSG7  \n\n[10584 rows x 20 columns]",
      "text/html": "<div>\n<style scoped>\n    .dataframe tbody tr th:only-of-type {\n        vertical-align: middle;\n    }\n\n    .dataframe tbody tr th {\n        vertical-align: top;\n    }\n\n    .dataframe thead th {\n        text-align: right;\n    }\n</style>\n<table border=\"1\" class=\"dataframe\">\n  <thead>\n    <tr style=\"text-align: right;\">\n      <th></th>\n      <th>Carrosserie</th>\n      <th>Energie</th>\n      <th>BV</th>\n      <th>Consommation Min</th>\n      <th>Consommation Max</th>\n      <th>Consommation  Unité</th>\n      <th>Rejets CO2 Min</th>\n      <th>Rejets CO2 Classe Min</th>\n      <th>Rejets CO2 Max</th>\n      <th>Rejets CO2 Classe Max</th>\n      <th>Malus (+)/  Bonus (-)</th>\n      <th>Coût énergie Max.</th>\n      <th>Polluants: CO</th>\n      <th>Polluants HC</th>\n      <th>Polluants: Nox</th>\n      <th>Polluants: HC + Nox</th>\n      <th>Polluants: Particules</th>\n      <th>Norme Euro</th>\n      <th>Marque</th>\n      <th>Modele</th>\n    </tr>\n  </thead>\n  <tbody>\n    <tr>\n      <th>0</th>\n      <td>Coupé / cabriolet</td>\n      <td>ES</td>\n      <td>M 6</td>\n      <td>-</td>\n      <td>11,1</td>\n      <td>L / 100 km</td>\n      <td>-</td>\n      <td>G</td>\n      <td>251</td>\n      <td>G</td>\n      <td>NaN</td>\n      <td>15,17 €</td>\n      <td>&lt;= 0,15000</td>\n      <td>&lt;= 0,02000</td>\n      <td>&lt;= 0,01700</td>\n      <td>-</td>\n      <td>0,00000</td>\n      <td>EURO 6</td>\n      <td>PORSCHE</td>\n      <td>718 BOXSTER SPYDER</td>\n    </tr>\n    <tr>\n      <th>1</th>\n      <td>Coupé / cabriolet</td>\n      <td>ES</td>\n      <td>M 6</td>\n      <td>-</td>\n      <td>11,1</td>\n      <td>L / 100 km</td>\n      <td>-</td>\n      <td>G</td>\n      <td>251</td>\n      <td>G</td>\n      <td>NaN</td>\n      <td>15,17 €</td>\n      <td>&lt;= 0,15000</td>\n      <td>&lt;= 0,02000</td>\n      <td>&lt;= 0,01700</td>\n      <td>-</td>\n      <td>0,00000</td>\n      <td>EURO 6</td>\n      <td>PORSCHE</td>\n      <td>718 CAYMAN GT4</td>\n    </tr>\n    <tr>\n      <th>2</th>\n      <td>Coupé / cabriolet</td>\n      <td>ES</td>\n      <td>D 8</td>\n      <td>-</td>\n      <td>11,2</td>\n      <td>L / 100 km</td>\n      <td>-</td>\n      <td>G</td>\n      <td>255</td>\n      <td>G</td>\n      <td>NaN</td>\n      <td>15,35 €</td>\n      <td>&lt;= 0,19600</td>\n      <td>&lt;= 0,02500</td>\n      <td>&lt;= 0,01900</td>\n      <td>-</td>\n      <td>0,00000</td>\n      <td>EURO 6</td>\n      <td>FERRARI</td>\n      <td>Roma</td>\n    </tr>\n    <tr>\n      <th>3</th>\n      <td>Coupé / cabriolet</td>\n      <td>ES</td>\n      <td>D 8</td>\n      <td>-</td>\n      <td>11,3</td>\n      <td>L / 100 km</td>\n      <td>-</td>\n      <td>G</td>\n      <td>256</td>\n      <td>G</td>\n      <td>NaN</td>\n      <td>15,49 €</td>\n      <td>&lt;= 0,18700</td>\n      <td>&lt;= 0,02700</td>\n      <td>&lt;= 0,02100</td>\n      <td>-</td>\n      <td>0,00000</td>\n      <td>EURO 6</td>\n      <td>FERRARI</td>\n      <td>Portofino M</td>\n    </tr>\n    <tr>\n      <th>4</th>\n      <td>Minibus</td>\n      <td>GO</td>\n      <td>M 6</td>\n      <td>-</td>\n      <td>9,9</td>\n      <td>L / 100 km</td>\n      <td>-</td>\n      <td>G</td>\n      <td>260</td>\n      <td>G</td>\n      <td>NaN</td>\n      <td>14,77 €</td>\n      <td>&lt;= 0,15600</td>\n      <td>-</td>\n      <td>&lt;= 0,06400</td>\n      <td>&lt;= 0,08200</td>\n      <td>0,00100</td>\n      <td>EURO 6</td>\n      <td>FORD</td>\n      <td>TRANSIT CUSTOM 2.0 EcoBlue (130ch) BVM6</td>\n    </tr>\n    <tr>\n      <th>...</th>\n      <td>...</td>\n      <td>...</td>\n      <td>...</td>\n      <td>...</td>\n      <td>...</td>\n      <td>...</td>\n      <td>...</td>\n      <td>...</td>\n      <td>...</td>\n      <td>...</td>\n      <td>...</td>\n      <td>...</td>\n      <td>...</td>\n      <td>...</td>\n      <td>...</td>\n      <td>...</td>\n      <td>...</td>\n      <td>...</td>\n      <td>...</td>\n      <td>...</td>\n    </tr>\n    <tr>\n      <th>10579</th>\n      <td>Tout-Terrains</td>\n      <td>EH</td>\n      <td>A 6</td>\n      <td>4,4</td>\n      <td>5,2</td>\n      <td>L / 100 km</td>\n      <td>100</td>\n      <td>A</td>\n      <td>119</td>\n      <td>B</td>\n      <td>Jusqu'à 0 €</td>\n      <td>7,17 €</td>\n      <td>&lt;= 0,16000</td>\n      <td>&lt;= 0,02300</td>\n      <td>&lt;= 0,00300</td>\n      <td>-</td>\n      <td>0,00000</td>\n      <td>EURO 6</td>\n      <td>KIA</td>\n      <td>NIRO HEV 1.6 essence Gdi (105ch) ISG / Electri...</td>\n    </tr>\n    <tr>\n      <th>10580</th>\n      <td>Berline</td>\n      <td>GN</td>\n      <td>A 7</td>\n      <td>5,5</td>\n      <td>6,8</td>\n      <td>m3 / 100 km</td>\n      <td>98</td>\n      <td>A</td>\n      <td>122</td>\n      <td>C</td>\n      <td>Jusqu'à 0 € (2)</td>\n      <td>13,74 €</td>\n      <td>&lt;= 0,15700</td>\n      <td>&lt;= 0,02700</td>\n      <td>&lt;= 0,01600</td>\n      <td>&lt;= NC</td>\n      <td>NC</td>\n      <td>EURO 6</td>\n      <td>SKODA</td>\n      <td>OCTAVIA Berline 1.5 TGI (131ch) DSG7</td>\n    </tr>\n    <tr>\n      <th>10581</th>\n      <td>Break</td>\n      <td>GN</td>\n      <td>A 7</td>\n      <td>5,5</td>\n      <td>6,8</td>\n      <td>m3 / 100 km</td>\n      <td>98</td>\n      <td>A</td>\n      <td>122</td>\n      <td>C</td>\n      <td>Jusqu'à 0 € (2)</td>\n      <td>13,74 €</td>\n      <td>&lt;= 0,15700</td>\n      <td>&lt;= 0,02700</td>\n      <td>&lt;= 0,01600</td>\n      <td>&lt;= NC</td>\n      <td>NC</td>\n      <td>EURO 6</td>\n      <td>SKODA</td>\n      <td>OCTAVIA Combi 1.5 TGI (131ch) DSG7</td>\n    </tr>\n    <tr>\n      <th>10582</th>\n      <td>Berline</td>\n      <td>GN</td>\n      <td>A 7</td>\n      <td>5,5</td>\n      <td>7,0</td>\n      <td>m3 / 100 km</td>\n      <td>99</td>\n      <td>A</td>\n      <td>124</td>\n      <td>C</td>\n      <td>Jusqu'à 0 € (2)</td>\n      <td>14,02 €</td>\n      <td>&lt;= 0,14600</td>\n      <td>&lt;= 0,02700</td>\n      <td>&lt;= 0,01600</td>\n      <td>&lt;= NC</td>\n      <td>NC</td>\n      <td>EURO 6</td>\n      <td>SEAT</td>\n      <td>LEON 5P TGI (130ch) DSG7</td>\n    </tr>\n    <tr>\n      <th>10583</th>\n      <td>Berline</td>\n      <td>GN</td>\n      <td>A 7</td>\n      <td>5,5</td>\n      <td>7,0</td>\n      <td>m3 / 100 km</td>\n      <td>99</td>\n      <td>A</td>\n      <td>124</td>\n      <td>C</td>\n      <td>Jusqu'à 0 € (2)</td>\n      <td>14,02 €</td>\n      <td>&lt;= 0,14600</td>\n      <td>&lt;= 0,02700</td>\n      <td>&lt;= 0,01600</td>\n      <td>&lt;= NC</td>\n      <td>NC</td>\n      <td>EURO 6</td>\n      <td>SEAT</td>\n      <td>LEON SP TGI (130ch) DSG7</td>\n    </tr>\n  </tbody>\n</table>\n<p>10584 rows × 20 columns</p>\n</div>"
     },
     "execution_count": 8,
     "metadata": {},
     "output_type": "execute_result"
    }
   ],
   "source": [
    "df"
   ]
  },
  {
   "cell_type": "code",
   "execution_count": 9,
   "metadata": {
    "pycharm": {
     "name": "#%%\n"
    }
   },
   "outputs": [],
   "source": [
    "df = df.drop([\"Malus (+)/  Bonus (-)\", \"Coût énergie Max.\", \"BV\", \"Carrosserie\", \"Norme Euro\", \"Consommation  Unité\"],\n",
    "             axis=True)"
   ]
  },
  {
   "cell_type": "code",
   "execution_count": 10,
   "metadata": {
    "pycharm": {
     "name": "#%%\n"
    }
   },
   "outputs": [],
   "source": [
    "df[\"Consommation Max\"] = pd.to_numeric(df[\"Consommation Max\"].str.replace(\",\", \".\"))\n",
    "df[\"Consommation Min\"] = pd.to_numeric(df[\"Consommation Min\"].str.replace(\"-\", '').str.replace(\",\", \".\")).fillna(\n",
    "\tdf[\"Consommation Max\"])\n",
    "#df[\"Rejets CO2 Min\"] = pd.to_numeric(df[\"Rejets CO2 Min\"].str.replace(\"-\",'').str.replace(\",\",\".\")).fillna(df[\"Rejets CO2 Max\"])\n"
   ]
  },
  {
   "cell_type": "code",
   "execution_count": 11,
   "metadata": {
    "pycharm": {
     "name": "#%%\n"
    }
   },
   "outputs": [],
   "source": [
    "df[\"Rejets CO2 Max\"] = pd.to_numeric(df[\"Rejets CO2 Max\"].replace({\"-\": \"0\"}))\n",
    "df[\"Rejets CO2 Min\"] = pd.to_numeric(df[\"Rejets CO2 Min\"].replace({\"-\": \"\"})).fillna(df[\"Rejets CO2 Max\"])"
   ]
  },
  {
   "cell_type": "code",
   "execution_count": 12,
   "metadata": {
    "pycharm": {
     "name": "#%%\n"
    }
   },
   "outputs": [],
   "source": [
    "df[\"Consommation\"] = (df[\"Consommation Min\"] + df[\"Consommation Max\"]) / 2\n",
    "df[\"Rejets CO2\"] = (df[\"Rejets CO2 Min\"] + df[\"Rejets CO2 Max\"]) / 2"
   ]
  },
  {
   "cell_type": "code",
   "execution_count": 13,
   "metadata": {
    "pycharm": {
     "name": "#%%\n"
    }
   },
   "outputs": [],
   "source": [
    "def get_co2_class(rejets: float):\n",
    "\tif rejets <= 100:\n",
    "\t\treturn \"A\"\n",
    "\telif rejets <= 120:\n",
    "\t\treturn \"B\"\n",
    "\telif rejets <= 140:\n",
    "\t\treturn \"C\"\n",
    "\telif rejets <= 160:\n",
    "\t\treturn \"D\"\n",
    "\telif rejets <= 200:\n",
    "\t\treturn \"E\"\n",
    "\telif rejets <= 250:\n",
    "\t\treturn \"F\"\n",
    "\telse:\n",
    "\t\treturn \"G\"\n",
    "df[\"Rejets CO2 Classe\"] = df[\"Rejets CO2\"].map(lambda x: get_co2_class(x))"
   ]
  },
  {
   "cell_type": "code",
   "execution_count": 14,
   "metadata": {
    "pycharm": {
     "name": "#%%\n"
    }
   },
   "outputs": [
    {
     "data": {
      "text/plain": "Energie                   object\nConsommation Min         float64\nConsommation Max         float64\nRejets CO2 Min           float64\nRejets CO2 Classe Min     object\nRejets CO2 Max             int64\nRejets CO2 Classe Max     object\nPolluants: CO             object\nPolluants HC              object\nPolluants: Nox            object\nPolluants: HC + Nox       object\nPolluants: Particules     object\nMarque                    object\nModele                    object\nConsommation             float64\nRejets CO2               float64\nRejets CO2 Classe         object\ndtype: object"
     },
     "execution_count": 14,
     "metadata": {},
     "output_type": "execute_result"
    }
   ],
   "source": [
    "df.dtypes"
   ]
  },
  {
   "cell_type": "code",
   "execution_count": 15,
   "metadata": {
    "pycharm": {
     "name": "#%%\n"
    }
   },
   "outputs": [
    {
     "data": {
      "text/plain": "      Energie  Consommation Min  Consommation Max  Rejets CO2 Min  \\\n0          ES              11.1              11.1           251.0   \n1          ES              11.1              11.1           251.0   \n2          ES              11.2              11.2           255.0   \n3          ES              11.3              11.3           256.0   \n4          GO               9.9               9.9           260.0   \n...       ...               ...               ...             ...   \n10579      EH               4.4               5.2           100.0   \n10580      GN               5.5               6.8            98.0   \n10581      GN               5.5               6.8            98.0   \n10582      GN               5.5               7.0            99.0   \n10583      GN               5.5               7.0            99.0   \n\n      Rejets CO2 Classe Min  Rejets CO2 Max Rejets CO2 Classe Max  \\\n0                         G             251                     G   \n1                         G             251                     G   \n2                         G             255                     G   \n3                         G             256                     G   \n4                         G             260                     G   \n...                     ...             ...                   ...   \n10579                     A             119                     B   \n10580                     A             122                     C   \n10581                     A             122                     C   \n10582                     A             124                     C   \n10583                     A             124                     C   \n\n      Polluants: CO Polluants HC Polluants: Nox Polluants: HC + Nox  \\\n0        <= 0,15000   <= 0,02000     <= 0,01700                   -   \n1        <= 0,15000   <= 0,02000     <= 0,01700                   -   \n2        <= 0,19600   <= 0,02500     <= 0,01900                   -   \n3        <= 0,18700   <= 0,02700     <= 0,02100                   -   \n4        <= 0,15600            -     <= 0,06400          <= 0,08200   \n...             ...          ...            ...                 ...   \n10579    <= 0,16000   <= 0,02300     <= 0,00300                   -   \n10580    <= 0,15700   <= 0,02700     <= 0,01600               <= NC   \n10581    <= 0,15700   <= 0,02700     <= 0,01600               <= NC   \n10582    <= 0,14600   <= 0,02700     <= 0,01600               <= NC   \n10583    <= 0,14600   <= 0,02700     <= 0,01600               <= NC   \n\n      Polluants: Particules   Marque  \\\n0                   0,00000  PORSCHE   \n1                   0,00000  PORSCHE   \n2                   0,00000  FERRARI   \n3                   0,00000  FERRARI   \n4                   0,00100     FORD   \n...                     ...      ...   \n10579               0,00000      KIA   \n10580                    NC    SKODA   \n10581                    NC    SKODA   \n10582                    NC     SEAT   \n10583                    NC     SEAT   \n\n                                                  Modele  Consommation  \\\n0                                     718 BOXSTER SPYDER         11.10   \n1                                         718 CAYMAN GT4         11.10   \n2                                                   Roma         11.20   \n3                                            Portofino M         11.30   \n4                TRANSIT CUSTOM 2.0 EcoBlue (130ch) BVM6          9.90   \n...                                                  ...           ...   \n10579  NIRO HEV 1.6 essence Gdi (105ch) ISG / Electri...          4.80   \n10580               OCTAVIA Berline 1.5 TGI (131ch) DSG7          6.15   \n10581                 OCTAVIA Combi 1.5 TGI (131ch) DSG7          6.15   \n10582                           LEON 5P TGI (130ch) DSG7          6.25   \n10583                           LEON SP TGI (130ch) DSG7          6.25   \n\n       Rejets CO2 Rejets CO2 Classe  \n0           251.0                 G  \n1           251.0                 G  \n2           255.0                 G  \n3           256.0                 G  \n4           260.0                 G  \n...           ...               ...  \n10579       109.5                 B  \n10580       110.0                 B  \n10581       110.0                 B  \n10582       111.5                 B  \n10583       111.5                 B  \n\n[10584 rows x 17 columns]",
      "text/html": "<div>\n<style scoped>\n    .dataframe tbody tr th:only-of-type {\n        vertical-align: middle;\n    }\n\n    .dataframe tbody tr th {\n        vertical-align: top;\n    }\n\n    .dataframe thead th {\n        text-align: right;\n    }\n</style>\n<table border=\"1\" class=\"dataframe\">\n  <thead>\n    <tr style=\"text-align: right;\">\n      <th></th>\n      <th>Energie</th>\n      <th>Consommation Min</th>\n      <th>Consommation Max</th>\n      <th>Rejets CO2 Min</th>\n      <th>Rejets CO2 Classe Min</th>\n      <th>Rejets CO2 Max</th>\n      <th>Rejets CO2 Classe Max</th>\n      <th>Polluants: CO</th>\n      <th>Polluants HC</th>\n      <th>Polluants: Nox</th>\n      <th>Polluants: HC + Nox</th>\n      <th>Polluants: Particules</th>\n      <th>Marque</th>\n      <th>Modele</th>\n      <th>Consommation</th>\n      <th>Rejets CO2</th>\n      <th>Rejets CO2 Classe</th>\n    </tr>\n  </thead>\n  <tbody>\n    <tr>\n      <th>0</th>\n      <td>ES</td>\n      <td>11.1</td>\n      <td>11.1</td>\n      <td>251.0</td>\n      <td>G</td>\n      <td>251</td>\n      <td>G</td>\n      <td>&lt;= 0,15000</td>\n      <td>&lt;= 0,02000</td>\n      <td>&lt;= 0,01700</td>\n      <td>-</td>\n      <td>0,00000</td>\n      <td>PORSCHE</td>\n      <td>718 BOXSTER SPYDER</td>\n      <td>11.10</td>\n      <td>251.0</td>\n      <td>G</td>\n    </tr>\n    <tr>\n      <th>1</th>\n      <td>ES</td>\n      <td>11.1</td>\n      <td>11.1</td>\n      <td>251.0</td>\n      <td>G</td>\n      <td>251</td>\n      <td>G</td>\n      <td>&lt;= 0,15000</td>\n      <td>&lt;= 0,02000</td>\n      <td>&lt;= 0,01700</td>\n      <td>-</td>\n      <td>0,00000</td>\n      <td>PORSCHE</td>\n      <td>718 CAYMAN GT4</td>\n      <td>11.10</td>\n      <td>251.0</td>\n      <td>G</td>\n    </tr>\n    <tr>\n      <th>2</th>\n      <td>ES</td>\n      <td>11.2</td>\n      <td>11.2</td>\n      <td>255.0</td>\n      <td>G</td>\n      <td>255</td>\n      <td>G</td>\n      <td>&lt;= 0,19600</td>\n      <td>&lt;= 0,02500</td>\n      <td>&lt;= 0,01900</td>\n      <td>-</td>\n      <td>0,00000</td>\n      <td>FERRARI</td>\n      <td>Roma</td>\n      <td>11.20</td>\n      <td>255.0</td>\n      <td>G</td>\n    </tr>\n    <tr>\n      <th>3</th>\n      <td>ES</td>\n      <td>11.3</td>\n      <td>11.3</td>\n      <td>256.0</td>\n      <td>G</td>\n      <td>256</td>\n      <td>G</td>\n      <td>&lt;= 0,18700</td>\n      <td>&lt;= 0,02700</td>\n      <td>&lt;= 0,02100</td>\n      <td>-</td>\n      <td>0,00000</td>\n      <td>FERRARI</td>\n      <td>Portofino M</td>\n      <td>11.30</td>\n      <td>256.0</td>\n      <td>G</td>\n    </tr>\n    <tr>\n      <th>4</th>\n      <td>GO</td>\n      <td>9.9</td>\n      <td>9.9</td>\n      <td>260.0</td>\n      <td>G</td>\n      <td>260</td>\n      <td>G</td>\n      <td>&lt;= 0,15600</td>\n      <td>-</td>\n      <td>&lt;= 0,06400</td>\n      <td>&lt;= 0,08200</td>\n      <td>0,00100</td>\n      <td>FORD</td>\n      <td>TRANSIT CUSTOM 2.0 EcoBlue (130ch) BVM6</td>\n      <td>9.90</td>\n      <td>260.0</td>\n      <td>G</td>\n    </tr>\n    <tr>\n      <th>...</th>\n      <td>...</td>\n      <td>...</td>\n      <td>...</td>\n      <td>...</td>\n      <td>...</td>\n      <td>...</td>\n      <td>...</td>\n      <td>...</td>\n      <td>...</td>\n      <td>...</td>\n      <td>...</td>\n      <td>...</td>\n      <td>...</td>\n      <td>...</td>\n      <td>...</td>\n      <td>...</td>\n      <td>...</td>\n    </tr>\n    <tr>\n      <th>10579</th>\n      <td>EH</td>\n      <td>4.4</td>\n      <td>5.2</td>\n      <td>100.0</td>\n      <td>A</td>\n      <td>119</td>\n      <td>B</td>\n      <td>&lt;= 0,16000</td>\n      <td>&lt;= 0,02300</td>\n      <td>&lt;= 0,00300</td>\n      <td>-</td>\n      <td>0,00000</td>\n      <td>KIA</td>\n      <td>NIRO HEV 1.6 essence Gdi (105ch) ISG / Electri...</td>\n      <td>4.80</td>\n      <td>109.5</td>\n      <td>B</td>\n    </tr>\n    <tr>\n      <th>10580</th>\n      <td>GN</td>\n      <td>5.5</td>\n      <td>6.8</td>\n      <td>98.0</td>\n      <td>A</td>\n      <td>122</td>\n      <td>C</td>\n      <td>&lt;= 0,15700</td>\n      <td>&lt;= 0,02700</td>\n      <td>&lt;= 0,01600</td>\n      <td>&lt;= NC</td>\n      <td>NC</td>\n      <td>SKODA</td>\n      <td>OCTAVIA Berline 1.5 TGI (131ch) DSG7</td>\n      <td>6.15</td>\n      <td>110.0</td>\n      <td>B</td>\n    </tr>\n    <tr>\n      <th>10581</th>\n      <td>GN</td>\n      <td>5.5</td>\n      <td>6.8</td>\n      <td>98.0</td>\n      <td>A</td>\n      <td>122</td>\n      <td>C</td>\n      <td>&lt;= 0,15700</td>\n      <td>&lt;= 0,02700</td>\n      <td>&lt;= 0,01600</td>\n      <td>&lt;= NC</td>\n      <td>NC</td>\n      <td>SKODA</td>\n      <td>OCTAVIA Combi 1.5 TGI (131ch) DSG7</td>\n      <td>6.15</td>\n      <td>110.0</td>\n      <td>B</td>\n    </tr>\n    <tr>\n      <th>10582</th>\n      <td>GN</td>\n      <td>5.5</td>\n      <td>7.0</td>\n      <td>99.0</td>\n      <td>A</td>\n      <td>124</td>\n      <td>C</td>\n      <td>&lt;= 0,14600</td>\n      <td>&lt;= 0,02700</td>\n      <td>&lt;= 0,01600</td>\n      <td>&lt;= NC</td>\n      <td>NC</td>\n      <td>SEAT</td>\n      <td>LEON 5P TGI (130ch) DSG7</td>\n      <td>6.25</td>\n      <td>111.5</td>\n      <td>B</td>\n    </tr>\n    <tr>\n      <th>10583</th>\n      <td>GN</td>\n      <td>5.5</td>\n      <td>7.0</td>\n      <td>99.0</td>\n      <td>A</td>\n      <td>124</td>\n      <td>C</td>\n      <td>&lt;= 0,14600</td>\n      <td>&lt;= 0,02700</td>\n      <td>&lt;= 0,01600</td>\n      <td>&lt;= NC</td>\n      <td>NC</td>\n      <td>SEAT</td>\n      <td>LEON SP TGI (130ch) DSG7</td>\n      <td>6.25</td>\n      <td>111.5</td>\n      <td>B</td>\n    </tr>\n  </tbody>\n</table>\n<p>10584 rows × 17 columns</p>\n</div>"
     },
     "execution_count": 15,
     "metadata": {},
     "output_type": "execute_result"
    }
   ],
   "source": [
    "df"
   ]
  },
  {
   "cell_type": "code",
   "execution_count": 16,
   "metadata": {
    "pycharm": {
     "name": "#%%\n"
    }
   },
   "outputs": [],
   "source": [
    "df = df.drop(columns=[\"Consommation Min\",\"Consommation Max\",\"Rejets CO2 Min\",\"Rejets CO2 Max\",\"Rejets CO2 Classe Min\",\"Rejets CO2 Classe Max\",\"Rejets CO2 Classe Max\"])"
   ]
  },
  {
   "cell_type": "code",
   "execution_count": 17,
   "metadata": {
    "pycharm": {
     "name": "#%%\n"
    }
   },
   "outputs": [
    {
     "data": {
      "text/plain": "                                                  Modele      Marque Energie  \\\n9902                 e-tron Sportback 55 (408ch) quattro        AUDI      EL   \n9903                 e-tron Sportback 50 (313ch) quattro        AUDI      EL   \n9904          e-tron S Sportback (503ch) e-quattro sport        AUDI      EL   \n9905                           e-tron 55 (408ch) quattro        AUDI      EL   \n9906                           e-tron 50 (313ch) quattro        AUDI      EL   \n...                                                  ...         ...     ...   \n10147  e-up! (61kW/83ch) transmission pour entraineme...  VOLKSWAGEN      EL   \n10148  e-up! (61kW/83ch) transmission pour entraineme...  VOLKSWAGEN      EL   \n10149  e-up! (61kW/83ch) transmission pour entraineme...  VOLKSWAGEN      EL   \n10150                                    C40 TWIN ENGINE       VOLVO      EL   \n10151                                   XC40 TWIN ENGINE       VOLVO      EL   \n\n       Consommation  Rejets CO2 Rejets CO2 Classe  \n9902            NaN         0.0                 A  \n9903            NaN         0.0                 A  \n9904            NaN         0.0                 A  \n9905            NaN         0.0                 A  \n9906            NaN         0.0                 A  \n...             ...         ...               ...  \n10147           NaN         0.0                 A  \n10148           NaN         0.0                 A  \n10149           NaN         0.0                 A  \n10150           NaN         0.0                 A  \n10151           NaN         0.0                 A  \n\n[250 rows x 6 columns]",
      "text/html": "<div>\n<style scoped>\n    .dataframe tbody tr th:only-of-type {\n        vertical-align: middle;\n    }\n\n    .dataframe tbody tr th {\n        vertical-align: top;\n    }\n\n    .dataframe thead th {\n        text-align: right;\n    }\n</style>\n<table border=\"1\" class=\"dataframe\">\n  <thead>\n    <tr style=\"text-align: right;\">\n      <th></th>\n      <th>Modele</th>\n      <th>Marque</th>\n      <th>Energie</th>\n      <th>Consommation</th>\n      <th>Rejets CO2</th>\n      <th>Rejets CO2 Classe</th>\n    </tr>\n  </thead>\n  <tbody>\n    <tr>\n      <th>9902</th>\n      <td>e-tron Sportback 55 (408ch) quattro</td>\n      <td>AUDI</td>\n      <td>EL</td>\n      <td>NaN</td>\n      <td>0.0</td>\n      <td>A</td>\n    </tr>\n    <tr>\n      <th>9903</th>\n      <td>e-tron Sportback 50 (313ch) quattro</td>\n      <td>AUDI</td>\n      <td>EL</td>\n      <td>NaN</td>\n      <td>0.0</td>\n      <td>A</td>\n    </tr>\n    <tr>\n      <th>9904</th>\n      <td>e-tron S Sportback (503ch) e-quattro sport</td>\n      <td>AUDI</td>\n      <td>EL</td>\n      <td>NaN</td>\n      <td>0.0</td>\n      <td>A</td>\n    </tr>\n    <tr>\n      <th>9905</th>\n      <td>e-tron 55 (408ch) quattro</td>\n      <td>AUDI</td>\n      <td>EL</td>\n      <td>NaN</td>\n      <td>0.0</td>\n      <td>A</td>\n    </tr>\n    <tr>\n      <th>9906</th>\n      <td>e-tron 50 (313ch) quattro</td>\n      <td>AUDI</td>\n      <td>EL</td>\n      <td>NaN</td>\n      <td>0.0</td>\n      <td>A</td>\n    </tr>\n    <tr>\n      <th>...</th>\n      <td>...</td>\n      <td>...</td>\n      <td>...</td>\n      <td>...</td>\n      <td>...</td>\n      <td>...</td>\n    </tr>\n    <tr>\n      <th>10147</th>\n      <td>e-up! (61kW/83ch) transmission pour entraineme...</td>\n      <td>VOLKSWAGEN</td>\n      <td>EL</td>\n      <td>NaN</td>\n      <td>0.0</td>\n      <td>A</td>\n    </tr>\n    <tr>\n      <th>10148</th>\n      <td>e-up! (61kW/83ch) transmission pour entraineme...</td>\n      <td>VOLKSWAGEN</td>\n      <td>EL</td>\n      <td>NaN</td>\n      <td>0.0</td>\n      <td>A</td>\n    </tr>\n    <tr>\n      <th>10149</th>\n      <td>e-up! (61kW/83ch) transmission pour entraineme...</td>\n      <td>VOLKSWAGEN</td>\n      <td>EL</td>\n      <td>NaN</td>\n      <td>0.0</td>\n      <td>A</td>\n    </tr>\n    <tr>\n      <th>10150</th>\n      <td>C40 TWIN ENGINE</td>\n      <td>VOLVO</td>\n      <td>EL</td>\n      <td>NaN</td>\n      <td>0.0</td>\n      <td>A</td>\n    </tr>\n    <tr>\n      <th>10151</th>\n      <td>XC40 TWIN ENGINE</td>\n      <td>VOLVO</td>\n      <td>EL</td>\n      <td>NaN</td>\n      <td>0.0</td>\n      <td>A</td>\n    </tr>\n  </tbody>\n</table>\n<p>250 rows × 6 columns</p>\n</div>"
     },
     "execution_count": 17,
     "metadata": {},
     "output_type": "execute_result"
    }
   ],
   "source": [
    "df_resume_pollution = df[[\"Modele\",\"Marque\",\"Energie\",\"Consommation\",\"Rejets CO2\",\"Rejets CO2 Classe\"]]\n",
    "df_resume_pollution[df_resume_pollution[\"Consommation\"].isna()]\n"
   ]
  },
  {
   "cell_type": "code",
   "execution_count": 20,
   "metadata": {
    "pycharm": {
     "name": "#%%\n"
    }
   },
   "outputs": [
    {
     "name": "stderr",
     "output_type": "stream",
     "text": [
      "/tmp/ipykernel_31561/1167030620.py:1: SettingWithCopyWarning: \n",
      "A value is trying to be set on a copy of a slice from a DataFrame.\n",
      "Try using .loc[row_indexer,col_indexer] = value instead\n",
      "\n",
      "See the caveats in the documentation: https://pandas.pydata.org/pandas-docs/stable/user_guide/indexing.html#returning-a-view-versus-a-copy\n",
      "  df_resume_pollution[\"Consommation\"] = df_resume_pollution[\"Consommation\"].fillna(0)\n"
     ]
    }
   ],
   "source": [
    "df_resume_pollution[\"Consommation\"] = df_resume_pollution[\"Consommation\"].fillna(0)\n",
    "df_resume_pollution.isna().sum()\n",
    "\n",
    "df_resume_pollution.to_csv('data/analyse_ADEME.csv',index=False, header=True)"
   ]
  },
  {
   "cell_type": "markdown",
   "metadata": {
    "pycharm": {
     "name": "#%% md\n"
    }
   },
   "source": [
    "## Affichage et statistique globale sur le dataset"
   ]
  },
  {
   "cell_type": "code",
   "execution_count": 26,
   "metadata": {
    "pycharm": {
     "name": "#%%\n"
    }
   },
   "outputs": [
    {
     "data": {
      "text/plain": "               mean  median        std  size\nEnergie                                     \nGH       171.170863  166.50  33.967315   278\nES       161.433904  152.00  38.959770  4728\nGO       157.342399  148.50  31.898042  4394\nEH       152.114625  141.25  43.193379   506\nES/GP    130.250000  130.25  10.253048     2\nFE       129.500000  129.75   2.345208     4\nGP/ES    118.000000  116.50   8.093207     7\nGN       104.762500  103.50   2.201362    40\nEE        41.906425   37.50  21.625707   358\nGL        36.058824   36.50  10.310617    17\nEL         0.000000    0.00   0.000000   250",
      "text/html": "<div>\n<style scoped>\n    .dataframe tbody tr th:only-of-type {\n        vertical-align: middle;\n    }\n\n    .dataframe tbody tr th {\n        vertical-align: top;\n    }\n\n    .dataframe thead th {\n        text-align: right;\n    }\n</style>\n<table border=\"1\" class=\"dataframe\">\n  <thead>\n    <tr style=\"text-align: right;\">\n      <th></th>\n      <th>mean</th>\n      <th>median</th>\n      <th>std</th>\n      <th>size</th>\n    </tr>\n    <tr>\n      <th>Energie</th>\n      <th></th>\n      <th></th>\n      <th></th>\n      <th></th>\n    </tr>\n  </thead>\n  <tbody>\n    <tr>\n      <th>GH</th>\n      <td>171.170863</td>\n      <td>166.50</td>\n      <td>33.967315</td>\n      <td>278</td>\n    </tr>\n    <tr>\n      <th>ES</th>\n      <td>161.433904</td>\n      <td>152.00</td>\n      <td>38.959770</td>\n      <td>4728</td>\n    </tr>\n    <tr>\n      <th>GO</th>\n      <td>157.342399</td>\n      <td>148.50</td>\n      <td>31.898042</td>\n      <td>4394</td>\n    </tr>\n    <tr>\n      <th>EH</th>\n      <td>152.114625</td>\n      <td>141.25</td>\n      <td>43.193379</td>\n      <td>506</td>\n    </tr>\n    <tr>\n      <th>ES/GP</th>\n      <td>130.250000</td>\n      <td>130.25</td>\n      <td>10.253048</td>\n      <td>2</td>\n    </tr>\n    <tr>\n      <th>FE</th>\n      <td>129.500000</td>\n      <td>129.75</td>\n      <td>2.345208</td>\n      <td>4</td>\n    </tr>\n    <tr>\n      <th>GP/ES</th>\n      <td>118.000000</td>\n      <td>116.50</td>\n      <td>8.093207</td>\n      <td>7</td>\n    </tr>\n    <tr>\n      <th>GN</th>\n      <td>104.762500</td>\n      <td>103.50</td>\n      <td>2.201362</td>\n      <td>40</td>\n    </tr>\n    <tr>\n      <th>EE</th>\n      <td>41.906425</td>\n      <td>37.50</td>\n      <td>21.625707</td>\n      <td>358</td>\n    </tr>\n    <tr>\n      <th>GL</th>\n      <td>36.058824</td>\n      <td>36.50</td>\n      <td>10.310617</td>\n      <td>17</td>\n    </tr>\n    <tr>\n      <th>EL</th>\n      <td>0.000000</td>\n      <td>0.00</td>\n      <td>0.000000</td>\n      <td>250</td>\n    </tr>\n  </tbody>\n</table>\n</div>"
     },
     "execution_count": 26,
     "metadata": {},
     "output_type": "execute_result"
    }
   ],
   "source": [
    "tmp = df_resume_pollution[[\"Energie\",\"Rejets CO2\"]].groupby(\"Energie\").agg([np.mean,np.median,np.std,np.size])[\"Rejets CO2\"]\n",
    "tmp.sort_values(by=[\"mean\",\"median\"],ascending=False)"
   ]
  },
  {
   "cell_type": "markdown",
   "metadata": {
    "pycharm": {
     "name": "#%% md\n"
    }
   },
   "source": [
    "**ES** : essence sans plomb 95\n",
    "**EH** : hybride essence / électrique (non rechargeable)\n",
    "**EE** : hybride essence / électrique (rechargeable)\n",
    "\n",
    "**FE** : véhicule E85 (ou superéthanol-E85)\n",
    "\n",
    "**GO** : gazole\n",
    "**GH** : hybride gazole / électrique (non rechargeable)\n",
    "**GL** : hybride gazole / électrique (rechargeable)\n",
    "\n",
    "**EL** : électrique\n",
    "**H2** : hydrogène\n",
    "\n",
    "**ES / GP** : bicarburation essence / Gaz de Pétrole Liquéfié - GPL (données consommations essence)\n",
    "**GP / ES** : bicarburation essence / Gaz de Pétrole Liquéfié - GPL (données consommations GPL)\n",
    "\n",
    "**ES / GN** : bicarburation essence / Gaz Naturel Véhicule - GNV (données consommations essence)\n",
    "**GN / ES** : bicarburation essence / Gaz Naturel Véhicule - GNV (données consommations GNV)\n",
    "**GN** : monocarburation Gaz Naturel Véhicule – GNV (données consommations GNV)"
   ]
  },
  {
   "cell_type": "code",
   "execution_count": 27,
   "metadata": {
    "pycharm": {
     "name": "#%%\n"
    }
   },
   "outputs": [],
   "source": [
    "#df_resume_pollution[df_resume_pollution[\"Energie\"] == [\"GH\",\"EH\"]]"
   ]
  },
  {
   "cell_type": "markdown",
   "source": [
    "On supprime les energies \"Doubles\""
   ],
   "metadata": {
    "collapsed": false,
    "pycharm": {
     "name": "#%% md\n"
    }
   }
  },
  {
   "cell_type": "code",
   "execution_count": 28,
   "metadata": {
    "pycharm": {
     "name": "#%%\n"
    }
   },
   "outputs": [],
   "source": [
    "#df_resume_pollution[\"Energie\"] = df_resume_pollution[\"Energie\"].replace(\"SSE\",\"GO\")\n",
    "#df_resume_pollution.to_csv(index=False, header=True)"
   ]
  },
  {
   "cell_type": "markdown",
   "source": [
    "### Préparation des données de l'ADEME sur la consommation des véhicules.\n",
    "\n",
    "Comme dans ces données la marque et le modèle de voiture sont fusionnés on les sépare pour avoir d'un côté la marque, de l'autre le nom du modèle."
   ],
   "metadata": {
    "collapsed": false,
    "pycharm": {
     "name": "#%% md\n"
    }
   }
  },
  {
   "cell_type": "code",
   "execution_count": 29,
   "outputs": [],
   "source": [
    "dfConsommation = pd.read_csv(\"data/analyse_ADEME.csv\")\n",
    "dfConsommation['Marque'] = dfConsommation['Marque'].apply(str.lower)\n",
    "dfConsommation['Modele'] = dfConsommation['Modele'].apply(str.lower)\n",
    "dfConsommation['Modele'] = dfConsommation['Modele'].apply(lambda x: x.split(' '))"
   ],
   "metadata": {
    "collapsed": false,
    "pycharm": {
     "name": "#%%\n"
    }
   }
  },
  {
   "cell_type": "markdown",
   "source": [
    "### Préparation des données de l'ADEME sur la consommation des véhicules."
   ],
   "metadata": {
    "collapsed": false,
    "pycharm": {
     "name": "#%% md\n"
    }
   }
  },
  {
   "cell_type": "code",
   "execution_count": 31,
   "outputs": [],
   "source": [
    "dfSalesTotal = pd.read_csv(\"data/Ventes-par-année.csv\", index_col='Année')"
   ],
   "metadata": {
    "collapsed": false,
    "pycharm": {
     "name": "#%%\n"
    }
   }
  },
  {
   "cell_type": "markdown",
   "source": [
    "### Création des Pandas pour la combinaison\n",
    "\n",
    "On la fonction dfpreparator pour importer les informations sur la vente de voitures de cahque année (source : Wikipédia via les données du CCFA)\n",
    "On applique la même séparation Marque/Modèle que pour le dataframe de consommation des véhicules.\n",
    "On calcule également les parts de marché manquantes par modèle.\n",
    "\n",
    "Ensuite on combine (merge) les dataframes de vente de voiture et de leur consommation. dans l'idéal on aimerait combiner par les modèles mais cela est trop compliqué, donc on combine via les marques avant de filtrer plus tard.\n",
    "\n",
    "Pour cela on est obligés d'itérer sur le dataframe pour comparer deux colonnes entre elles pour voir si les noms de modèles provenant du dataframe de l'Ademe sur la consommation correspond à un nom de modèle provenant du dataframe du CCFA, ne serait-ce qu'un peu. De plus pour un même modèle il y a plusieurs consommations possibles, on décide donc de prendre la médiane pour la consommation."
   ],
   "metadata": {
    "collapsed": false,
    "pycharm": {
     "name": "#%% md\n"
    }
   }
  },
  {
   "cell_type": "code",
   "execution_count": 33,
   "outputs": [],
   "source": [
    "##Comme les db ont par défaut la marque et le modèle collés on rectifie ça pour faciliter les choses\n",
    "def dfpreperator(dfsales : pd.DataFrame, year : int, dfsalestotal : pd.DataFrame, dfconsommation : pd.DataFrame):\n",
    "\n",
    "    dfsales['Modele'] = dfsales['Modele'].apply(str.lower)\n",
    "    dfsales['Modele'] = dfsales['Modele'].apply(lambda x: x.split(' '))\n",
    "    dfsales['Marque'] = dfsales['Modele'].apply(lambda x: x[0])\n",
    "    dfsales['Modele'] = dfsales['Modele'].apply(lambda x: x[1])\n",
    "\n",
    "    dfsales['Part de marché'] = (dfsales['Ventes'] / dfSalesTotal.at[year,'Ventes totales']) * 100\n",
    "\n",
    "    dfcombination = pd.merge(dfsales, dfConsommation, how='inner', left_on=['Marque'], right_on=['Marque'])\n",
    "\n",
    "    for index,row in dfcombination.iterrows():\n",
    "        if(not row['Modele_x'] in row['Modele_y']):\n",
    "            dfcombination = dfcombination.drop(index)\n",
    "    dfcombination = dfcombination.groupby(['Modele_x','Marque']).median()\n",
    "\n",
    "\n",
    "    return (dfsales,dfcombination)\n",
    "\n",
    "(dfSales2017,dfcombination2017) = dfpreperator(pd.read_csv(\"data/Ventes2017.csv\"),2017, dfSalesTotal, dfConsommation)\n",
    "(dfSales2018,dfcombination2018) = dfpreperator(pd.read_csv(\"data/Ventes2018.csv\"),2018, dfSalesTotal, dfConsommation)\n",
    "(dfSales2019,dfcombination2019) = dfpreperator(pd.read_csv(\"data/Ventes2019.csv\"),2019, dfSalesTotal, dfConsommation)\n",
    "(dfSales2020,dfcombination2020) = dfpreperator(pd.read_csv(\"data/Ventes2020.csv\"),2020, dfSalesTotal, dfConsommation)\n",
    "(dfSales2021,dfcombination2021) = dfpreperator(pd.read_csv(\"data/Ventes2021.csv\"),2021, dfSalesTotal, dfConsommation)"
   ],
   "metadata": {
    "collapsed": false,
    "pycharm": {
     "name": "#%%\n"
    }
   }
  },
  {
   "cell_type": "markdown",
   "source": [
    "Exemples de ce à quoi ressemblent le dataframe obtenu qui nous intéresse. :"
   ],
   "metadata": {
    "collapsed": false,
    "pycharm": {
     "name": "#%% md\n"
    }
   }
  },
  {
   "cell_type": "code",
   "execution_count": 34,
   "outputs": [
    {
     "data": {
      "text/plain": "                      Ventes  Part de marché  Consommation  Rejets CO2\nModele_x Marque                                                       \n208      peugeot     88013.0        5.305171         5.450      123.00\nclio     renault     85247.0        5.138445         5.600      125.25\nsandero  dacia       77054.0        4.644594         5.850      123.00\n2008     peugeot     75478.0        4.549597         5.775      130.00\ncaptur   renault     52605.0        3.170878         6.050      135.50\n3008     peugeot     50488.0        3.043272         5.750      147.00\nyaris    toyota      32302.0        1.947072         4.800      109.00\nduster   dacia       31060.0        1.872208         6.325      141.50\ntwingo   renault     29111.0        1.754728         2.600       59.25\n500      fiat        25182.0        1.517899         5.725      130.75\nmodel    tesla       24911.0        1.501564         0.000        0.00\npolo     volkswagen  23882.0        1.439538         5.650      128.00\nzoe      renault     23575.0        1.421033         0.000        0.00\n308      peugeot     21524.0        1.297405         5.625      127.25\n5008     peugeot     21408.0        1.290413         6.500      151.50\nt-roc    volkswagen  18145.0        1.093729         6.450      154.50\narkana   renault     17977.0        1.083602         5.950      134.25\ntucson   hyundai     17977.0        1.083602         5.700      141.50\ncorolla  toyota      16867.0        1.016694         4.750      107.00\npuma     ford        16176.0        0.975043         6.050      134.00\ncorsa    opel        15870.0        0.956598         5.450      123.00\ntiguan   volkswagen  14747.0        0.888907         6.550      165.00\nc-hr     toyota      14566.0        0.877997         5.300      119.25\ngolf     volkswagen  14005.0        0.844181         5.400      130.00",
      "text/html": "<div>\n<style scoped>\n    .dataframe tbody tr th:only-of-type {\n        vertical-align: middle;\n    }\n\n    .dataframe tbody tr th {\n        vertical-align: top;\n    }\n\n    .dataframe thead th {\n        text-align: right;\n    }\n</style>\n<table border=\"1\" class=\"dataframe\">\n  <thead>\n    <tr style=\"text-align: right;\">\n      <th></th>\n      <th></th>\n      <th>Ventes</th>\n      <th>Part de marché</th>\n      <th>Consommation</th>\n      <th>Rejets CO2</th>\n    </tr>\n    <tr>\n      <th>Modele_x</th>\n      <th>Marque</th>\n      <th></th>\n      <th></th>\n      <th></th>\n      <th></th>\n    </tr>\n  </thead>\n  <tbody>\n    <tr>\n      <th>208</th>\n      <th>peugeot</th>\n      <td>88013.0</td>\n      <td>5.305171</td>\n      <td>5.450</td>\n      <td>123.00</td>\n    </tr>\n    <tr>\n      <th>clio</th>\n      <th>renault</th>\n      <td>85247.0</td>\n      <td>5.138445</td>\n      <td>5.600</td>\n      <td>125.25</td>\n    </tr>\n    <tr>\n      <th>sandero</th>\n      <th>dacia</th>\n      <td>77054.0</td>\n      <td>4.644594</td>\n      <td>5.850</td>\n      <td>123.00</td>\n    </tr>\n    <tr>\n      <th>2008</th>\n      <th>peugeot</th>\n      <td>75478.0</td>\n      <td>4.549597</td>\n      <td>5.775</td>\n      <td>130.00</td>\n    </tr>\n    <tr>\n      <th>captur</th>\n      <th>renault</th>\n      <td>52605.0</td>\n      <td>3.170878</td>\n      <td>6.050</td>\n      <td>135.50</td>\n    </tr>\n    <tr>\n      <th>3008</th>\n      <th>peugeot</th>\n      <td>50488.0</td>\n      <td>3.043272</td>\n      <td>5.750</td>\n      <td>147.00</td>\n    </tr>\n    <tr>\n      <th>yaris</th>\n      <th>toyota</th>\n      <td>32302.0</td>\n      <td>1.947072</td>\n      <td>4.800</td>\n      <td>109.00</td>\n    </tr>\n    <tr>\n      <th>duster</th>\n      <th>dacia</th>\n      <td>31060.0</td>\n      <td>1.872208</td>\n      <td>6.325</td>\n      <td>141.50</td>\n    </tr>\n    <tr>\n      <th>twingo</th>\n      <th>renault</th>\n      <td>29111.0</td>\n      <td>1.754728</td>\n      <td>2.600</td>\n      <td>59.25</td>\n    </tr>\n    <tr>\n      <th>500</th>\n      <th>fiat</th>\n      <td>25182.0</td>\n      <td>1.517899</td>\n      <td>5.725</td>\n      <td>130.75</td>\n    </tr>\n    <tr>\n      <th>model</th>\n      <th>tesla</th>\n      <td>24911.0</td>\n      <td>1.501564</td>\n      <td>0.000</td>\n      <td>0.00</td>\n    </tr>\n    <tr>\n      <th>polo</th>\n      <th>volkswagen</th>\n      <td>23882.0</td>\n      <td>1.439538</td>\n      <td>5.650</td>\n      <td>128.00</td>\n    </tr>\n    <tr>\n      <th>zoe</th>\n      <th>renault</th>\n      <td>23575.0</td>\n      <td>1.421033</td>\n      <td>0.000</td>\n      <td>0.00</td>\n    </tr>\n    <tr>\n      <th>308</th>\n      <th>peugeot</th>\n      <td>21524.0</td>\n      <td>1.297405</td>\n      <td>5.625</td>\n      <td>127.25</td>\n    </tr>\n    <tr>\n      <th>5008</th>\n      <th>peugeot</th>\n      <td>21408.0</td>\n      <td>1.290413</td>\n      <td>6.500</td>\n      <td>151.50</td>\n    </tr>\n    <tr>\n      <th>t-roc</th>\n      <th>volkswagen</th>\n      <td>18145.0</td>\n      <td>1.093729</td>\n      <td>6.450</td>\n      <td>154.50</td>\n    </tr>\n    <tr>\n      <th>arkana</th>\n      <th>renault</th>\n      <td>17977.0</td>\n      <td>1.083602</td>\n      <td>5.950</td>\n      <td>134.25</td>\n    </tr>\n    <tr>\n      <th>tucson</th>\n      <th>hyundai</th>\n      <td>17977.0</td>\n      <td>1.083602</td>\n      <td>5.700</td>\n      <td>141.50</td>\n    </tr>\n    <tr>\n      <th>corolla</th>\n      <th>toyota</th>\n      <td>16867.0</td>\n      <td>1.016694</td>\n      <td>4.750</td>\n      <td>107.00</td>\n    </tr>\n    <tr>\n      <th>puma</th>\n      <th>ford</th>\n      <td>16176.0</td>\n      <td>0.975043</td>\n      <td>6.050</td>\n      <td>134.00</td>\n    </tr>\n    <tr>\n      <th>corsa</th>\n      <th>opel</th>\n      <td>15870.0</td>\n      <td>0.956598</td>\n      <td>5.450</td>\n      <td>123.00</td>\n    </tr>\n    <tr>\n      <th>tiguan</th>\n      <th>volkswagen</th>\n      <td>14747.0</td>\n      <td>0.888907</td>\n      <td>6.550</td>\n      <td>165.00</td>\n    </tr>\n    <tr>\n      <th>c-hr</th>\n      <th>toyota</th>\n      <td>14566.0</td>\n      <td>0.877997</td>\n      <td>5.300</td>\n      <td>119.25</td>\n    </tr>\n    <tr>\n      <th>golf</th>\n      <th>volkswagen</th>\n      <td>14005.0</td>\n      <td>0.844181</td>\n      <td>5.400</td>\n      <td>130.00</td>\n    </tr>\n  </tbody>\n</table>\n</div>"
     },
     "execution_count": 34,
     "metadata": {},
     "output_type": "execute_result"
    }
   ],
   "source": [
    "dfcombination2021.sort_values('Part de marché', ascending=False)"
   ],
   "metadata": {
    "collapsed": false,
    "pycharm": {
     "name": "#%%\n"
    }
   }
  },
  {
   "cell_type": "markdown",
   "source": [
    "### Analyse :\n",
    "\n",
    "Commençons par voir notre objectif initial : est-ce que au fil des années les français achètent plus de voitures polluantes ou bien cette courbe va-t-elle à la baisse ? Pour celà pondérons les rejets de CO2 de chaque véhicule pour chaque année en fonction de ses parts de marché français et traçons une courbe pour voir cela"
   ],
   "metadata": {
    "collapsed": false,
    "pycharm": {
     "name": "#%% md\n"
    }
   }
  },
  {
   "cell_type": "code",
   "execution_count": 35,
   "outputs": [
    {
     "data": {
      "text/plain": "<Figure size 432x288 with 1 Axes>",
      "image/png": "[encoded data removed]"
     },
     "metadata": {
      "needs_background": "light"
     },
     "output_type": "display_data"
    }
   ],
   "source": [
    "years = [2017,2018,2019,2020,2021]\n",
    "\n",
    "def ponderationofco2(dfcombination : pd.DataFrame):\n",
    "    dfcombination['CO2 * ventes'] = dfcombination['Rejets CO2'] * dfcombination['Part de marché'] / dfcombination2021.sum()['Part de marché']\n",
    "\n",
    "    return dfcombination\n",
    "\n",
    "ponderationofco22021 = ponderationofco2(dfcombination2021)\n",
    "ponderationofco22020 = ponderationofco2(dfcombination2020)\n",
    "ponderationofco22019 = ponderationofco2(dfcombination2019)\n",
    "ponderationofco22018 = ponderationofco2(dfcombination2018)\n",
    "ponderationofco22017 = ponderationofco2(dfcombination2017)\n",
    "\n",
    "Co2ventes2021 = dfcombination2021.sum()['CO2 * ventes']\n",
    "Co2ventes2020 = dfcombination2020.sum()['CO2 * ventes']\n",
    "Co2ventes2019 = dfcombination2019.sum()['CO2 * ventes']\n",
    "Co2ventes2018 = dfcombination2018.sum()['CO2 * ventes']\n",
    "Co2ventes2017 = dfcombination2017.sum()['CO2 * ventes']\n",
    "\n",
    "y = [Co2ventes2017,Co2ventes2018,Co2ventes2019,Co2ventes2020,Co2ventes2021]\n",
    "\n",
    "plt.plot(years, y)\n",
    "plt.show()"
   ],
   "metadata": {
    "collapsed": false,
    "pycharm": {
     "name": "#%%\n"
    }
   }
  },
  {
   "cell_type": "markdown",
   "source": [
    "On peut donc voir que, d'après nos données, les Français achètent globalement des voitures de plus en plus polluantes entre 2017 et 2020 mais cette tendance est à la baisse entre 2020 et 2021. Une belle perspective pour l'avenir."
   ],
   "metadata": {
    "collapsed": false,
    "pycharm": {
     "name": "#%% md\n"
    }
   }
  },
  {
   "cell_type": "markdown",
   "source": [
    "### Critique des résultats :\n",
    "\n",
    "On pourrait critiquer ces résultats sur plusieurs points.\n",
    "\n",
    "Tout d'abord, si les sources des données semblent fiables (L'ADEME et le CCFA sont des organismes reconnus), l'extraction des données pourrait être incomplète. Pour plus de simplicité nous nous sommes limités aux voitures légères. Les voitures industrielles et utilitaires sont donc exclus.\n",
    "\n",
    "En outre pour fusionner les deux databases nous avons été contraints de faire des sacrifices dans leurs données. Nous avons dit dans la partie sur la création du panda issu de la fusion des databases qu'il y avait des difficultés pour cette fusion. En effet à un modèle cité dans la base du CCFA pouvait correspondre plusieurs modèles dans la base de l'ADEME, et donc plusieurs consommations potentielles (surtout aujourd'hui maintenant que les véhicules sont plus souvent hybrides). C'est pourquoi lorsqu'une hésitation du genre avait lieu, nous faisions une médiane du rejet CO2 des dits modèles. CEla pourrait perturber les résultats. Enfin les bases de données du CCFA sont incomplètes. En les utilisant on arrive globalement à un total de 50 % (variable selon les années) de parts du marché français, ce qui omet la moitié des véhicules en circulation. Il est à noter qu'à l'origine nous voulions utiliser la base de données de la SIV auto, plus complète que celle du CCFA, mais nous nous sommes heurtés à de trop grandes difficultés administratives."
   ],
   "metadata": {
    "collapsed": false,
    "pycharm": {
     "name": "#%% md\n"
    }
   }
  }
 ],
 "metadata": {
  "kernelspec": {
   "display_name": "Python 3 (ipykernel)",
   "language": "python",
   "name": "python3"
  },
  "language_info": {
   "codemirror_mode": {
    "name": "ipython",
    "version": 3
   },
   "file_extension": ".py",
   "mimetype": "text/x-python",
   "name": "python",
   "nbconvert_exporter": "python",
   "pygments_lexer": "ipython3",
   "version": "3.10.4"
  }
 },
 "nbformat": 4,
 "nbformat_minor": 1
}