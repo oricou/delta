{
 "cells": [
  {
   "cell_type": "markdown",
   "id": "d56dd8d0-0e62-41e0-ac7d-fcf3719fec39",
   "metadata": {},
   "source": [
    "# 2019 Airline Delays w/Weather and Airport Detail"
   ]
  },
  {
   "cell_type": "markdown",
   "id": "be4e0c1a-713f-4339-b0d5-d657f35cd074",
   "metadata": {},
   "source": [
    "## Importation of all the packages we will use for this project"
   ]
  },
  {
   "cell_type": "code",
   "execution_count": 1,
   "id": "f099d807-e9c2-4e4e-aa12-3b62ba88967c",
   "metadata": {},
   "outputs": [],
   "source": [
    "import numpy as np\n",
    "import pandas as pd"
   ]
  },
  {
   "cell_type": "markdown",
   "id": "2e052dd0-dec1-4f93-8682-df009a7791e9",
   "metadata": {},
   "source": [
    "## Preparation of the data"
   ]
  },
  {
   "cell_type": "markdown",
   "id": "47f1152f-9cb2-4656-95ac-1d6ba845a5a6",
   "metadata": {},
   "source": [
    "> All the data required can be found at this link: https://www.kaggle.com/code/threnjen/dataset-cleanup-how-the-train-test-sets-were-made/data?select=raw_data"
   ]
  },
  {
   "cell_type": "markdown",
   "id": "606ffbdc-891d-4dcc-849d-25deac742ccd",
   "metadata": {},
   "source": [
    "#### Concatenation of the 12 files representing each month in one dataframe"
   ]
  },
  {
   "cell_type": "code",
   "execution_count": 2,
   "id": "3199a483-5d04-45f3-93d1-686792554351",
   "metadata": {},
   "outputs": [
    {
     "name": "stdout",
     "output_type": "stream",
     "text": [
      "> reading from raw_data/ONTIME_REPORTING_01.csv\n",
      "> reading from raw_data/ONTIME_REPORTING_02.csv\n",
      "> reading from raw_data/ONTIME_REPORTING_03.csv\n",
      "> reading from raw_data/ONTIME_REPORTING_04.csv\n",
      "> reading from raw_data/ONTIME_REPORTING_05.csv\n",
      "> reading from raw_data/ONTIME_REPORTING_06.csv\n",
      "> reading from raw_data/ONTIME_REPORTING_07.csv\n",
      "> reading from raw_data/ONTIME_REPORTING_08.csv\n",
      "> reading from raw_data/ONTIME_REPORTING_09.csv\n",
      "> reading from raw_data/ONTIME_REPORTING_10.csv\n",
      "> reading from raw_data/ONTIME_REPORTING_11.csv\n",
      "> reading from raw_data/ONTIME_REPORTING_12.csv\n"
     ]
    }
   ],
   "source": [
    "src_path = 'raw_data/ONTIME_REPORTING_'\n",
    "data = pd.DataFrame()\n",
    "\n",
    "for i in range(1, 13):\n",
    "    end_path = ('0' + str(i) if i < 10 else str(i)) + '.csv'\n",
    "    print('> reading from', src_path + end_path)\n",
    "    df = pd.read_csv(src_path + end_path)\n",
    "    data = pd.concat([data, df])"
   ]
  },
  {
   "cell_type": "code",
   "execution_count": 3,
   "id": "e6128f46-ee63-457a-8285-9363ec041fb7",
   "metadata": {},
   "outputs": [
    {
     "data": {
      "text/html": [
       "<div>\n",
       "<style scoped>\n",
       "    .dataframe tbody tr th:only-of-type {\n",
       "        vertical-align: middle;\n",
       "    }\n",
       "\n",
       "    .dataframe tbody tr th {\n",
       "        vertical-align: top;\n",
       "    }\n",
       "\n",
       "    .dataframe thead th {\n",
       "        text-align: right;\n",
       "    }\n",
       "</style>\n",
       "<table border=\"1\" class=\"dataframe\">\n",
       "  <thead>\n",
       "    <tr style=\"text-align: right;\">\n",
       "      <th></th>\n",
       "      <th>MONTH</th>\n",
       "      <th>DAY_OF_MONTH</th>\n",
       "      <th>DAY_OF_WEEK</th>\n",
       "      <th>OP_UNIQUE_CARRIER</th>\n",
       "      <th>TAIL_NUM</th>\n",
       "      <th>OP_CARRIER_FL_NUM</th>\n",
       "      <th>ORIGIN_AIRPORT_ID</th>\n",
       "      <th>ORIGIN</th>\n",
       "      <th>ORIGIN_CITY_NAME</th>\n",
       "      <th>DEST_AIRPORT_ID</th>\n",
       "      <th>...</th>\n",
       "      <th>CRS_ELAPSED_TIME</th>\n",
       "      <th>ACTUAL_ELAPSED_TIME</th>\n",
       "      <th>DISTANCE</th>\n",
       "      <th>DISTANCE_GROUP</th>\n",
       "      <th>CARRIER_DELAY</th>\n",
       "      <th>WEATHER_DELAY</th>\n",
       "      <th>NAS_DELAY</th>\n",
       "      <th>SECURITY_DELAY</th>\n",
       "      <th>LATE_AIRCRAFT_DELAY</th>\n",
       "      <th>Unnamed: 32</th>\n",
       "    </tr>\n",
       "  </thead>\n",
       "  <tbody>\n",
       "    <tr>\n",
       "      <th>0</th>\n",
       "      <td>1</td>\n",
       "      <td>6</td>\n",
       "      <td>7</td>\n",
       "      <td>9E</td>\n",
       "      <td>N8694A</td>\n",
       "      <td>3280</td>\n",
       "      <td>10397</td>\n",
       "      <td>ATL</td>\n",
       "      <td>Atlanta, GA</td>\n",
       "      <td>11150</td>\n",
       "      <td>...</td>\n",
       "      <td>47.0</td>\n",
       "      <td>37.0</td>\n",
       "      <td>83.0</td>\n",
       "      <td>1</td>\n",
       "      <td>NaN</td>\n",
       "      <td>NaN</td>\n",
       "      <td>NaN</td>\n",
       "      <td>NaN</td>\n",
       "      <td>NaN</td>\n",
       "      <td>NaN</td>\n",
       "    </tr>\n",
       "    <tr>\n",
       "      <th>1</th>\n",
       "      <td>1</td>\n",
       "      <td>7</td>\n",
       "      <td>1</td>\n",
       "      <td>9E</td>\n",
       "      <td>N8970D</td>\n",
       "      <td>3280</td>\n",
       "      <td>10397</td>\n",
       "      <td>ATL</td>\n",
       "      <td>Atlanta, GA</td>\n",
       "      <td>11150</td>\n",
       "      <td>...</td>\n",
       "      <td>47.0</td>\n",
       "      <td>32.0</td>\n",
       "      <td>83.0</td>\n",
       "      <td>1</td>\n",
       "      <td>NaN</td>\n",
       "      <td>NaN</td>\n",
       "      <td>NaN</td>\n",
       "      <td>NaN</td>\n",
       "      <td>NaN</td>\n",
       "      <td>NaN</td>\n",
       "    </tr>\n",
       "    <tr>\n",
       "      <th>2</th>\n",
       "      <td>1</td>\n",
       "      <td>8</td>\n",
       "      <td>2</td>\n",
       "      <td>9E</td>\n",
       "      <td>N820AY</td>\n",
       "      <td>3280</td>\n",
       "      <td>10397</td>\n",
       "      <td>ATL</td>\n",
       "      <td>Atlanta, GA</td>\n",
       "      <td>11150</td>\n",
       "      <td>...</td>\n",
       "      <td>47.0</td>\n",
       "      <td>39.0</td>\n",
       "      <td>83.0</td>\n",
       "      <td>1</td>\n",
       "      <td>NaN</td>\n",
       "      <td>NaN</td>\n",
       "      <td>NaN</td>\n",
       "      <td>NaN</td>\n",
       "      <td>NaN</td>\n",
       "      <td>NaN</td>\n",
       "    </tr>\n",
       "    <tr>\n",
       "      <th>3</th>\n",
       "      <td>1</td>\n",
       "      <td>9</td>\n",
       "      <td>3</td>\n",
       "      <td>9E</td>\n",
       "      <td>N840AY</td>\n",
       "      <td>3280</td>\n",
       "      <td>10397</td>\n",
       "      <td>ATL</td>\n",
       "      <td>Atlanta, GA</td>\n",
       "      <td>11150</td>\n",
       "      <td>...</td>\n",
       "      <td>47.0</td>\n",
       "      <td>37.0</td>\n",
       "      <td>83.0</td>\n",
       "      <td>1</td>\n",
       "      <td>NaN</td>\n",
       "      <td>NaN</td>\n",
       "      <td>NaN</td>\n",
       "      <td>NaN</td>\n",
       "      <td>NaN</td>\n",
       "      <td>NaN</td>\n",
       "    </tr>\n",
       "    <tr>\n",
       "      <th>4</th>\n",
       "      <td>1</td>\n",
       "      <td>10</td>\n",
       "      <td>4</td>\n",
       "      <td>9E</td>\n",
       "      <td>N8969A</td>\n",
       "      <td>3280</td>\n",
       "      <td>10397</td>\n",
       "      <td>ATL</td>\n",
       "      <td>Atlanta, GA</td>\n",
       "      <td>11150</td>\n",
       "      <td>...</td>\n",
       "      <td>47.0</td>\n",
       "      <td>41.0</td>\n",
       "      <td>83.0</td>\n",
       "      <td>1</td>\n",
       "      <td>NaN</td>\n",
       "      <td>NaN</td>\n",
       "      <td>NaN</td>\n",
       "      <td>NaN</td>\n",
       "      <td>NaN</td>\n",
       "      <td>NaN</td>\n",
       "    </tr>\n",
       "  </tbody>\n",
       "</table>\n",
       "<p>5 rows × 33 columns</p>\n",
       "</div>"
      ],
      "text/plain": [
       "   MONTH  DAY_OF_MONTH  DAY_OF_WEEK OP_UNIQUE_CARRIER TAIL_NUM  \\\n",
       "0      1             6            7                9E   N8694A   \n",
       "1      1             7            1                9E   N8970D   \n",
       "2      1             8            2                9E   N820AY   \n",
       "3      1             9            3                9E   N840AY   \n",
       "4      1            10            4                9E   N8969A   \n",
       "\n",
       "   OP_CARRIER_FL_NUM  ORIGIN_AIRPORT_ID ORIGIN ORIGIN_CITY_NAME  \\\n",
       "0               3280              10397    ATL      Atlanta, GA   \n",
       "1               3280              10397    ATL      Atlanta, GA   \n",
       "2               3280              10397    ATL      Atlanta, GA   \n",
       "3               3280              10397    ATL      Atlanta, GA   \n",
       "4               3280              10397    ATL      Atlanta, GA   \n",
       "\n",
       "   DEST_AIRPORT_ID  ... CRS_ELAPSED_TIME ACTUAL_ELAPSED_TIME  DISTANCE  \\\n",
       "0            11150  ...             47.0                37.0      83.0   \n",
       "1            11150  ...             47.0                32.0      83.0   \n",
       "2            11150  ...             47.0                39.0      83.0   \n",
       "3            11150  ...             47.0                37.0      83.0   \n",
       "4            11150  ...             47.0                41.0      83.0   \n",
       "\n",
       "   DISTANCE_GROUP  CARRIER_DELAY  WEATHER_DELAY NAS_DELAY  SECURITY_DELAY  \\\n",
       "0               1            NaN            NaN       NaN             NaN   \n",
       "1               1            NaN            NaN       NaN             NaN   \n",
       "2               1            NaN            NaN       NaN             NaN   \n",
       "3               1            NaN            NaN       NaN             NaN   \n",
       "4               1            NaN            NaN       NaN             NaN   \n",
       "\n",
       "   LATE_AIRCRAFT_DELAY  Unnamed: 32  \n",
       "0                  NaN          NaN  \n",
       "1                  NaN          NaN  \n",
       "2                  NaN          NaN  \n",
       "3                  NaN          NaN  \n",
       "4                  NaN          NaN  \n",
       "\n",
       "[5 rows x 33 columns]"
      ]
     },
     "execution_count": 3,
     "metadata": {},
     "output_type": "execute_result"
    }
   ],
   "source": [
    "data.head()"
   ]
  },
  {
   "cell_type": "markdown",
   "id": "65211ed9-fe5e-40fa-8953-1df877932698",
   "metadata": {},
   "source": [
    "#### Keeping only the usefull data for our study"
   ]
  },
  {
   "cell_type": "code",
   "execution_count": 4,
   "id": "b2972651-1402-4e58-8c18-8f1f57c8b2ec",
   "metadata": {},
   "outputs": [],
   "source": [
    "data = data[['MONTH', 'DAY_OF_MONTH', 'ORIGIN_CITY_NAME', 'DEP_DELAY_NEW', 'CANCELLED']]\n",
    "data = data.rename(columns={'ORIGIN_CITY_NAME':'STATE_NAME'})"
   ]
  },
  {
   "cell_type": "code",
   "execution_count": 5,
   "id": "5d2ade67-645c-49d0-b822-412b90172279",
   "metadata": {},
   "outputs": [],
   "source": [
    "def cutStateName(df):\n",
    "    infos = df['STATE_NAME'].split(', ')\n",
    "    return infos[1]"
   ]
  },
  {
   "cell_type": "code",
   "execution_count": 6,
   "id": "2c1e8ce4-c3ae-4bd4-91c8-24b41ef17f2f",
   "metadata": {},
   "outputs": [],
   "source": [
    "data['STATE_NAME'] = data.apply(cutStateName, axis=1)"
   ]
  },
  {
   "cell_type": "code",
   "execution_count": 7,
   "id": "4417f910-8610-4471-b63b-19e284b7fac7",
   "metadata": {},
   "outputs": [
    {
     "data": {
      "text/html": [
       "<div>\n",
       "<style scoped>\n",
       "    .dataframe tbody tr th:only-of-type {\n",
       "        vertical-align: middle;\n",
       "    }\n",
       "\n",
       "    .dataframe tbody tr th {\n",
       "        vertical-align: top;\n",
       "    }\n",
       "\n",
       "    .dataframe thead th {\n",
       "        text-align: right;\n",
       "    }\n",
       "</style>\n",
       "<table border=\"1\" class=\"dataframe\">\n",
       "  <thead>\n",
       "    <tr style=\"text-align: right;\">\n",
       "      <th></th>\n",
       "      <th>MONTH</th>\n",
       "      <th>DAY_OF_MONTH</th>\n",
       "      <th>STATE_NAME</th>\n",
       "      <th>DEP_DELAY_NEW</th>\n",
       "      <th>CANCELLED</th>\n",
       "    </tr>\n",
       "  </thead>\n",
       "  <tbody>\n",
       "    <tr>\n",
       "      <th>0</th>\n",
       "      <td>1</td>\n",
       "      <td>6</td>\n",
       "      <td>GA</td>\n",
       "      <td>0.0</td>\n",
       "      <td>0.0</td>\n",
       "    </tr>\n",
       "    <tr>\n",
       "      <th>1</th>\n",
       "      <td>1</td>\n",
       "      <td>7</td>\n",
       "      <td>GA</td>\n",
       "      <td>0.0</td>\n",
       "      <td>0.0</td>\n",
       "    </tr>\n",
       "    <tr>\n",
       "      <th>2</th>\n",
       "      <td>1</td>\n",
       "      <td>8</td>\n",
       "      <td>GA</td>\n",
       "      <td>0.0</td>\n",
       "      <td>0.0</td>\n",
       "    </tr>\n",
       "    <tr>\n",
       "      <th>3</th>\n",
       "      <td>1</td>\n",
       "      <td>9</td>\n",
       "      <td>GA</td>\n",
       "      <td>0.0</td>\n",
       "      <td>0.0</td>\n",
       "    </tr>\n",
       "    <tr>\n",
       "      <th>4</th>\n",
       "      <td>1</td>\n",
       "      <td>10</td>\n",
       "      <td>GA</td>\n",
       "      <td>0.0</td>\n",
       "      <td>0.0</td>\n",
       "    </tr>\n",
       "  </tbody>\n",
       "</table>\n",
       "</div>"
      ],
      "text/plain": [
       "   MONTH  DAY_OF_MONTH STATE_NAME  DEP_DELAY_NEW  CANCELLED\n",
       "0      1             6         GA            0.0        0.0\n",
       "1      1             7         GA            0.0        0.0\n",
       "2      1             8         GA            0.0        0.0\n",
       "3      1             9         GA            0.0        0.0\n",
       "4      1            10         GA            0.0        0.0"
      ]
     },
     "execution_count": 7,
     "metadata": {},
     "output_type": "execute_result"
    }
   ],
   "source": [
    "data.head()"
   ]
  },
  {
   "cell_type": "markdown",
   "id": "6a3bf0ba-aea7-497f-834c-f29ceeca9475",
   "metadata": {},
   "source": [
    "#### Exporting the data into 2 files"
   ]
  },
  {
   "cell_type": "code",
   "execution_count": 9,
   "id": "c12ab848-389f-4cec-9ef6-c9394c5c4f84",
   "metadata": {},
   "outputs": [],
   "source": [
    "for i, df_i in enumerate(np.array_split(data, 2)):\n",
    "    df_i.to_csv('flights{id}.csv'.format(id=i), index=False)"
   ]
  }
 ],
 "metadata": {
  "kernelspec": {
   "display_name": "Python 3 (ipykernel)",
   "language": "python",
   "name": "python3"
  },
  "language_info": {
   "codemirror_mode": {
    "name": "ipython",
    "version": 3
   },
   "file_extension": ".py",
   "mimetype": "text/x-python",
   "name": "python",
   "nbconvert_exporter": "python",
   "pygments_lexer": "ipython3",
   "version": "3.8.8"
  }
 },
 "nbformat": 4,
 "nbformat_minor": 5
}
