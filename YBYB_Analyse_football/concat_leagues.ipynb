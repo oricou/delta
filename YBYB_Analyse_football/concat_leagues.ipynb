{
 "cells": [
  {
   "cell_type": "code",
   "execution_count": 4,
   "id": "baeefae0",
   "metadata": {},
   "outputs": [
    {
     "name": "stdout",
     "output_type": "stream",
     "text": [
      "False\n"
     ]
    }
   ],
   "source": [
    "import pandas as pd\n",
    "\n",
    "liga = pd.read_csv('data/concat_years_age/liga.csv')\n",
    "PL = pd.read_csv('data/concat_years_age/PL.csv')\n",
    "serieA= pd.read_csv('data/concat_years_age/serieA.csv')\n",
    "ligue1 = pd.read_csv('data/concat_years_age/ligue1.csv')\n",
    "bundesliga = pd.read_csv('data/concat_years_age/bundesliga.csv')\n",
    "\n",
    "leagues = pd.concat([liga, PL, serieA, ligue1, bundesliga], axis=0)\n",
    "#leagues_clean = leagues.drop([\"Unnamed: 14\",\"xG\",\"xGA\",\"xGD\",\"xGD/90\",\"Pts/G\"], axis=1)\n",
    "list_league_name = []\n",
    "\n",
    "for x in range (340):\n",
    "    list_league_name.append(\"liga\")\n",
    "for y in range (340):\n",
    "    list_league_name.append(\"PL\")\n",
    "for z in range (340):\n",
    "    list_league_name.append(\"serieA\")\n",
    "for a in range (340):\n",
    "    list_league_name.append(\"ligue1\")\n",
    "for b in range (306):\n",
    "    list_league_name.append(\"bundesliga\")\n",
    "\n",
    "leagues['league'] = list_league_name\n",
    "leagues = leagues.astype({'Market Value':'float'})\n",
    "#leagues['Market Value'] = leagues['Market Value'].astype(float)\n",
    "\n",
    "leagues.to_csv(\"data/concat_leagues/leagues.csv\")\n",
    "#leagues_clean.drop([\"Unnamed: 0\"], axis=1).to_csv(\"data/concat_leagues/leagues.csv\")"
   ]
  },
  {
   "cell_type": "code",
   "execution_count": null,
   "id": "55836e02",
   "metadata": {},
   "outputs": [],
   "source": []
  }
 ],
 "metadata": {
  "kernelspec": {
   "display_name": "Python 3 (ipykernel)",
   "language": "python",
   "name": "python3"
  },
  "language_info": {
   "codemirror_mode": {
    "name": "ipython",
    "version": 3
   },
   "file_extension": ".py",
   "mimetype": "text/x-python",
   "name": "python",
   "nbconvert_exporter": "python",
   "pygments_lexer": "ipython3",
   "version": "3.9.5"
  }
 },
 "nbformat": 4,
 "nbformat_minor": 5
}
