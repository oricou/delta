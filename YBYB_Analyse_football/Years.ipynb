{
 "cells": [
  {
   "cell_type": "code",
   "execution_count": 84,
   "id": "282b1637",
   "metadata": {},
   "outputs": [],
   "source": [
    "import pandas as pd\n",
    "\n",
    "list_years = ['2004-05', '2005-06', '2006-07', '2007-08', '2008-09', '2009-10', '2010-11', '2011-12', '2012-13',\n",
    "         '2013-14', '2014-15', '2015-16', '2016-17', '2017-18', '2018-19', '2019-20', '2020-21']\n",
    "\n",
    "liga = pd.read_csv('data/concat/liga.csv')\n",
    "PL = pd.read_csv('data/concat/PL.csv')\n",
    "serieA = pd.read_csv('data/concat/serieA.csv')\n",
    "ligue1 = pd.read_csv('data/concat/ligue1.csv')\n",
    "bundesliga = pd.read_csv('data/concat/bundeshliga.csv')\n",
    "\n",
    "list = []\n",
    "list_bundes = []\n",
    "\n",
    "for y in range(17):\n",
    "    for i in range(20):\n",
    "        list.append(list_years[y])\n",
    "    for i in range(18):\n",
    "        list_bundes.append(list_years[y])\n",
    "\n",
    "liga['Years'] = list\n",
    "PL['Years'] = list\n",
    "serieA['Years'] = list\n",
    "ligue1['Years'] = list\n",
    "bundesliga['Years'] = list_bundes\n",
    "\n",
    "liga.to_csv('data/concat_years/liga.csv', index=False)\n",
    "PL.to_csv('data/concat_years/PL.csv', index=False)\n",
    "serieA.to_csv('data/concat_years/serieA.csv', index=False)\n",
    "ligue1.to_csv('data/concat_years/ligue1.csv', index=False)\n",
    "bundesliga.to_csv('data/concat_years/bundesliga.csv', index=False)"
   ]
  },
  {
   "cell_type": "code",
   "execution_count": null,
   "id": "499fa578",
   "metadata": {},
   "outputs": [],
   "source": []
  }
 ],
 "metadata": {
  "kernelspec": {
   "display_name": "Python 3 (ipykernel)",
   "language": "python",
   "name": "python3"
  },
  "language_info": {
   "codemirror_mode": {
    "name": "ipython",
    "version": 3
   },
   "file_extension": ".py",
   "mimetype": "text/x-python",
   "name": "python",
   "nbconvert_exporter": "python",
   "pygments_lexer": "ipython3",
   "version": "3.10.2"
  }
 },
 "nbformat": 4,
 "nbformat_minor": 5
}
