{
 "cells": [
  {
   "cell_type": "code",
   "execution_count": 1,
   "metadata": {
    "scrolled": true
   },
   "outputs": [],
   "source": [
    "import pandas as pd\n",
    "\n",
    "#Nous allons lire la donnée de l'age des joueurs de la Premier League en 2004 et créer un nouveau fichier csv contenant deux collones:\n",
    "#La premiere colonne correspond au club\n",
    "#La deuxieme colonne correpond à l'age moyen des joueurs du club\n",
    "\n",
    "PL2004Age = pd.read_csv('data/AgesJoueurs/2004/english_premier_league.csv')\n",
    "PL2004Age.groupby('club_name')[['age']].mean().to_csv('data/AverageAge/2004/Avg_PL2004Age.csv')\n",
    "\n",
    "liga2004Age = pd.read_csv('data/AgesJoueurs/2004/spanish_primera_division.csv')\n",
    "liga2004Age.groupby('club_name')['age'].mean().to_csv('data/AverageAge/2004/Avg_liga2004Age.csv')\n",
    "\n",
    "ligue1_2004Age = pd.read_csv('data/AgesJoueurs/2004/french_ligue_1.csv')\n",
    "ligue1_2004Age.groupby('club_name')['age'].mean().to_csv('data/AverageAge/2004/Avg_ligue1_2004Age.csv')\n",
    "\n",
    "bundeshliga2004Age = pd.read_csv('data/AgesJoueurs/2004/german_bundesliga_1.csv')\n",
    "bundeshliga2004Age.groupby('club_name')['age'].mean().to_csv('data/AverageAge/2004/Avg_bundeshliga2004Age.csv')\n",
    "\n",
    "serieA2004Age = pd.read_csv('data/AgesJoueurs/2004/italian_serie_a.csv')\n",
    "serieA2004Age.groupby('club_name')['age'].mean().to_csv('data/AverageAge/2004/Avg_serieA2004Age.csv')"
   ]
  },
  {
   "cell_type": "code",
   "execution_count": 2,
   "metadata": {},
   "outputs": [],
   "source": [
    "PL2005Age = pd.read_csv('data/AgesJoueurs/2005/english_premier_league.csv')\n",
    "PL2005Age.groupby('club_name')[['age']].mean().to_csv('data/AverageAge/2005/Avg_PL2005Age.csv')\n",
    "\n",
    "\n",
    "liga2005Age = pd.read_csv('data/AgesJoueurs/2005/spanish_primera_division.csv')\n",
    "liga2005Age.groupby('club_name')['age'].mean().to_csv('data/AverageAge/2005/Avg_liga2005Age.csv')\n",
    "\n",
    "ligue1_2005Age = pd.read_csv('data/AgesJoueurs/2005/french_ligue_1.csv')\n",
    "ligue1_2005Age.groupby('club_name')['age'].mean().to_csv('data/AverageAge/2005/Avg_ligue1_2005Age.csv')\n",
    "\n",
    "bundeshliga2005Age = pd.read_csv('data/AgesJoueurs/2005/german_bundesliga_1.csv')\n",
    "bundeshliga2005Age.groupby('club_name')['age'].mean().to_csv('data/AverageAge/2005/Avg_bundeshliga2005Age.csv')\n",
    "\n",
    "serieA2005Age = pd.read_csv('data/AgesJoueurs/2005/italian_serie_a.csv')\n",
    "serieA2005Age.groupby('club_name')['age'].mean().to_csv('data/AverageAge/2005/Avg_serieA2005Age.csv')"
   ]
  },
  {
   "cell_type": "code",
   "execution_count": 3,
   "metadata": {},
   "outputs": [],
   "source": [
    "\n",
    "PL2006Age = pd.read_csv('data/AgesJoueurs/2006/english_premier_league.csv')\n",
    "PL2006Age.groupby('club_name')[['age']].mean().to_csv('data/AverageAge/2006/Avg_PL2006Age.csv')\n",
    "\n",
    "\n",
    "liga2006Age = pd.read_csv('data/AgesJoueurs/2006/spanish_primera_division.csv')\n",
    "liga2006Age.groupby('club_name')['age'].mean().to_csv('data/AverageAge/2006/Avg_liga2006Age.csv')\n",
    "\n",
    "ligue1_2006Age = pd.read_csv('data/AgesJoueurs/2006/french_ligue_1.csv')\n",
    "ligue1_2006Age.groupby('club_name')['age'].mean().to_csv('data/AverageAge/2006/Avg_ligue1_2006Age.csv')\n",
    "\n",
    "bundeshliga2006Age = pd.read_csv('data/AgesJoueurs/2006/german_bundesliga_1.csv')\n",
    "bundeshliga2006Age.groupby('club_name')['age'].mean().to_csv('data/AverageAge/2006/Avg_bundeshliga2006Age.csv')\n",
    "\n",
    "serieA2006Age = pd.read_csv('data/AgesJoueurs/2006/italian_serie_a.csv')\n",
    "serieA2006Age.groupby('club_name')['age'].mean().to_csv('data/AverageAge/2006/Avg_serieA2006Age.csv')"
   ]
  },
  {
   "cell_type": "code",
   "execution_count": 4,
   "metadata": {},
   "outputs": [],
   "source": [
    "PL2007Age = pd.read_csv('data/AgesJoueurs/2007/english_premier_league.csv')\n",
    "PL2007Age.groupby('club_name')[['age']].mean().to_csv('data/AverageAge/2007/Avg_PL2007Age.csv')\n",
    "\n",
    "\n",
    "liga2007Age = pd.read_csv('data/AgesJoueurs/2007/spanish_primera_division.csv')\n",
    "liga2007Age.groupby('club_name')['age'].mean().to_csv('data/AverageAge/2007/Avg_liga2007Age.csv')\n",
    "\n",
    "ligue1_2007Age = pd.read_csv('data/AgesJoueurs/2007/french_ligue_1.csv')\n",
    "ligue1_2007Age.groupby('club_name')['age'].mean().to_csv('data/AverageAge/2007/Avg_ligue1_2007Age.csv')\n",
    "\n",
    "bundeshliga2007Age = pd.read_csv('data/AgesJoueurs/2007/german_bundesliga_1.csv')\n",
    "bundeshliga2007Age.groupby('club_name')['age'].mean().to_csv('data/AverageAge/2007/Avg_bundeshliga2007Age.csv')\n",
    "\n",
    "serieA2007Age = pd.read_csv('data/AgesJoueurs/2007/italian_serie_a.csv')\n",
    "serieA2007Age.groupby('club_name')['age'].mean().to_csv('data/AverageAge/2007/Avg_serieA2007Age.csv')"
   ]
  },
  {
   "cell_type": "code",
   "execution_count": 5,
   "metadata": {},
   "outputs": [],
   "source": [
    "PL2008Age = pd.read_csv('data/AgesJoueurs/2008/english_premier_league.csv')\n",
    "PL2008Age.groupby('club_name')[['age']].mean().to_csv('data/AverageAge/2008/Avg_PL2008Age.csv')\n",
    "\n",
    "\n",
    "liga2008Age = pd.read_csv('data/AgesJoueurs/2008/spanish_primera_division.csv')\n",
    "liga2008Age.groupby('club_name')['age'].mean().to_csv('data/AverageAge/2008/Avg_liga2008Age.csv')\n",
    "\n",
    "ligue1_2008Age = pd.read_csv('data/AgesJoueurs/2008/french_ligue_1.csv')\n",
    "ligue1_2008Age.groupby('club_name')['age'].mean().to_csv('data/AverageAge/2008/Avg_ligue1_2008Age.csv')\n",
    "\n",
    "bundeshliga2008Age = pd.read_csv('data/AgesJoueurs/2008/german_bundesliga_1.csv')\n",
    "bundeshliga2008Age.groupby('club_name')['age'].mean().to_csv('data/AverageAge/2008/Avg_bundeshliga2008Age.csv')\n",
    "\n",
    "serieA2008Age = pd.read_csv('data/AgesJoueurs/2008/italian_serie_a.csv')\n",
    "serieA2008Age.groupby('club_name')['age'].mean().to_csv('data/AverageAge/2008/Avg_serieA2008Age.csv')\n"
   ]
  },
  {
   "cell_type": "code",
   "execution_count": 6,
   "metadata": {},
   "outputs": [],
   "source": [
    "PL2009Age = pd.read_csv('data/AgesJoueurs/2009/english_premier_league.csv')\n",
    "PL2009Age.groupby('club_name')[['age']].mean().to_csv('data/AverageAge/2009/Avg_PL2009Age.csv')\n",
    "\n",
    "\n",
    "liga2009Age = pd.read_csv('data/AgesJoueurs/2009/spanish_primera_division.csv')\n",
    "liga2009Age.groupby('club_name')['age'].mean().to_csv('data/AverageAge/2009/Avg_liga2009Age.csv')\n",
    "\n",
    "ligue1_2009Age = pd.read_csv('data/AgesJoueurs/2009/french_ligue_1.csv')\n",
    "ligue1_2009Age.groupby('club_name')['age'].mean().to_csv('data/AverageAge/2009/Avg_ligue1_2009Age.csv')\n",
    "\n",
    "bundeshliga2009Age = pd.read_csv('data/AgesJoueurs/2009/german_bundesliga_1.csv')\n",
    "bundeshliga2009Age.groupby('club_name')['age'].mean().to_csv('data/AverageAge/2009/Avg_bundeshliga2009Age.csv')\n",
    "\n",
    "serieA2009Age = pd.read_csv('data/AgesJoueurs/2009/italian_serie_a.csv')\n",
    "serieA2009Age.groupby('club_name')['age'].mean().to_csv('data/AverageAge/2009/Avg_serieA2009Age.csv')"
   ]
  },
  {
   "cell_type": "code",
   "execution_count": 7,
   "metadata": {},
   "outputs": [],
   "source": [
    "PL2010Age = pd.read_csv('data/AgesJoueurs/2010/english_premier_league.csv')\n",
    "PL2010Age.groupby('club_name')[['age']].mean().to_csv('data/AverageAge/2010/Avg_PL2010Age.csv')\n",
    "\n",
    "\n",
    "liga2010Age = pd.read_csv('data/AgesJoueurs/2010/spanish_primera_division.csv')\n",
    "liga2010Age.groupby('club_name')['age'].mean().to_csv('data/AverageAge/2010/Avg_liga2010Age.csv')\n",
    "\n",
    "ligue1_2010Age = pd.read_csv('data/AgesJoueurs/2010/french_ligue_1.csv')\n",
    "ligue1_2010Age.groupby('club_name')['age'].mean().to_csv('data/AverageAge/2010/Avg_ligue1_2010Age.csv')\n",
    "\n",
    "bundeshliga2010Age = pd.read_csv('data/AgesJoueurs/2010/german_bundesliga_1.csv')\n",
    "bundeshliga2010Age.groupby('club_name')['age'].mean().to_csv('data/AverageAge/2010/Avg_bundeshliga2010Age.csv')\n",
    "\n",
    "serieA2010Age = pd.read_csv('data/AgesJoueurs/2010/italian_serie_a.csv')\n",
    "serieA2010Age.groupby('club_name')['age'].mean().to_csv('data/AverageAge/2010/Avg_serieA2010Age.csv')\n",
    "\n"
   ]
  },
  {
   "cell_type": "code",
   "execution_count": 8,
   "metadata": {},
   "outputs": [],
   "source": [
    "PL2011Age = pd.read_csv('data/AgesJoueurs/2011/english_premier_league.csv')\n",
    "PL2011Age.groupby('club_name')[['age']].mean().to_csv('data/AverageAge/2011/Avg_PL2011Age.csv')\n",
    "\n",
    "liga2011Age = pd.read_csv('data/AgesJoueurs/2011/spanish_primera_division.csv')\n",
    "liga2011Age.groupby('club_name')['age'].mean().to_csv('data/AverageAge/2011/Avg_liga2011Age.csv')\n",
    "\n",
    "ligue1_2011Age = pd.read_csv('data/AgesJoueurs/2011/french_ligue_1.csv')\n",
    "ligue1_2011Age.groupby('club_name')['age'].mean().to_csv('data/AverageAge/2011/Avg_ligue1_2011Age.csv')\n",
    "\n",
    "bundeshliga2011Age = pd.read_csv('data/AgesJoueurs/2011/german_bundesliga_1.csv')\n",
    "bundeshliga2011Age.groupby('club_name')['age'].mean().to_csv('data/AverageAge/2011/Avg_bundeshliga2011Age.csv')\n",
    "\n",
    "serieA2011Age = pd.read_csv('data/AgesJoueurs/2011/italian_serie_a.csv')\n",
    "serieA2011Age.groupby('club_name')['age'].mean().to_csv('data/AverageAge/2011/Avg_serieA2011Age.csv')"
   ]
  },
  {
   "cell_type": "code",
   "execution_count": 9,
   "metadata": {
    "scrolled": true
   },
   "outputs": [],
   "source": [
    "\n",
    "PL2012Age = pd.read_csv('data/AgesJoueurs/2012/english_premier_league.csv')\n",
    "PL2012Age.groupby('club_name')[['age']].mean().to_csv('data/AverageAge/2012/Avg_PL2012Age.csv')\n",
    "\n",
    "liga2012Age = pd.read_csv('data/AgesJoueurs/2012/spanish_primera_division.csv')\n",
    "liga2012Age.groupby('club_name')['age'].mean().to_csv('data/AverageAge/2012/Avg_liga2012Age.csv')\n",
    "\n",
    "ligue1_2012Age = pd.read_csv('data/AgesJoueurs/2012/french_ligue_1.csv')\n",
    "ligue1_2012Age.groupby('club_name')['age'].mean().to_csv('data/AverageAge/2012/Avg_ligue1_2012Age.csv')\n",
    "\n",
    "bundeshliga2012Age = pd.read_csv('data/AgesJoueurs/2012/german_bundesliga_1.csv')\n",
    "bundeshliga2012Age.groupby('club_name')['age'].mean().to_csv('data/AverageAge/2012/Avg_bundeshliga2012Age.csv')\n",
    "\n",
    "serieA2012Age = pd.read_csv('data/AgesJoueurs/2012/italian_serie_a.csv')\n",
    "serieA2012Age.groupby('club_name')['age'].mean().to_csv('data/AverageAge/2012/Avg_serieA2012Age.csv')"
   ]
  },
  {
   "cell_type": "code",
   "execution_count": 10,
   "metadata": {},
   "outputs": [],
   "source": [
    "PL2013Age = pd.read_csv('data/AgesJoueurs/2013/english_premier_league.csv')\n",
    "PL2013Age.groupby('club_name')[['age']].mean().to_csv('data/AverageAge/2013/Avg_PL2013Age.csv')\n",
    "\n",
    "liga2013Age = pd.read_csv('data/AgesJoueurs/2013/spanish_primera_division.csv')\n",
    "liga2013Age.groupby('club_name')['age'].mean().to_csv('data/AverageAge/2013/Avg_liga2013Age.csv')\n",
    "\n",
    "ligue1_2013Age = pd.read_csv('data/AgesJoueurs/2013/french_ligue_1.csv')\n",
    "ligue1_2013Age.groupby('club_name')['age'].mean().to_csv('data/AverageAge/2013/Avg_ligue1_2013Age.csv')\n",
    "\n",
    "bundeshliga2013Age = pd.read_csv('data/AgesJoueurs/2013/german_bundesliga_1.csv')\n",
    "bundeshliga2013Age.groupby('club_name')['age'].mean().to_csv('data/AverageAge/2013/Avg_bundeshliga2013Age.csv')\n",
    "\n",
    "serieA2013Age = pd.read_csv('data/AgesJoueurs/2013/italian_serie_a.csv')\n",
    "serieA2013Age.groupby('club_name')['age'].mean().to_csv('data/AverageAge/2013/Avg_serieA2013Age.csv')"
   ]
  },
  {
   "cell_type": "code",
   "execution_count": 11,
   "metadata": {},
   "outputs": [],
   "source": [
    "PL2014Age = pd.read_csv('data/AgesJoueurs/2014/english_premier_league.csv')\n",
    "PL2014Age.groupby('club_name')[['age']].mean().to_csv('data/AverageAge/2014/Avg_PL2014Age.csv')\n",
    "\n",
    "liga2014Age = pd.read_csv('data/AgesJoueurs/2014/spanish_primera_division.csv')\n",
    "liga2014Age.groupby('club_name')['age'].mean().to_csv('data/AverageAge/2014/Avg_liga2014Age.csv')\n",
    "\n",
    "ligue1_2014Age = pd.read_csv('data/AgesJoueurs/2014/french_ligue_1.csv')\n",
    "ligue1_2014Age.groupby('club_name')['age'].mean().to_csv('data/AverageAge/2014/Avg_ligue1_2014Age.csv')\n",
    "\n",
    "bundeshliga2014Age = pd.read_csv('data/AgesJoueurs/2014/german_bundesliga_1.csv')\n",
    "bundeshliga2014Age.groupby('club_name')['age'].mean().to_csv('data/AverageAge/2014/Avg_bundeshliga2014Age.csv')\n",
    "\n",
    "serieA2014Age = pd.read_csv('data/AgesJoueurs/2014/italian_serie_a.csv')\n",
    "serieA2014Age.groupby('club_name')['age'].mean().to_csv('data/AverageAge/2014/Avg_serieA2014Age.csv')"
   ]
  },
  {
   "cell_type": "code",
   "execution_count": 12,
   "metadata": {},
   "outputs": [],
   "source": [
    "PL2015Age = pd.read_csv('data/AgesJoueurs/2015/english_premier_league.csv')\n",
    "PL2015Age.groupby('club_name')[['age']].mean().to_csv('data/AverageAge/2015/Avg_PL2015Age.csv')\n",
    "\n",
    "liga2015Age = pd.read_csv('data/AgesJoueurs/2015/spanish_primera_division.csv')\n",
    "liga2015Age.groupby('club_name')['age'].mean().to_csv('data/AverageAge/2015/Avg_liga2015Age.csv')\n",
    "\n",
    "ligue1_2015Age = pd.read_csv('data/AgesJoueurs/2015/french_ligue_1.csv')\n",
    "ligue1_2015Age.groupby('club_name')['age'].mean().to_csv('data/AverageAge/2015/Avg_ligue1_2015Age.csv')\n",
    "\n",
    "bundeshliga2015Age = pd.read_csv('data/AgesJoueurs/2015/german_bundesliga_1.csv')\n",
    "bundeshliga2015Age.groupby('club_name')['age'].mean().to_csv('data/AverageAge/2015/Avg_bundeshliga2015Age.csv')\n",
    "\n",
    "serieA2015Age = pd.read_csv('data/AgesJoueurs/2015/italian_serie_a.csv')\n",
    "serieA2015Age.groupby('club_name')['age'].mean().to_csv('data/AverageAge/2015/Avg_serieA2015Age.csv')"
   ]
  },
  {
   "cell_type": "code",
   "execution_count": 13,
   "metadata": {},
   "outputs": [],
   "source": [
    "PL2016Age = pd.read_csv('data/AgesJoueurs/2016/english_premier_league.csv')\n",
    "PL2016Age.groupby('club_name')[['age']].mean().to_csv('data/AverageAge/2016/Avg_PL2016Age.csv')\n",
    "\n",
    "liga2016Age = pd.read_csv('data/AgesJoueurs/2016/spanish_primera_division.csv')\n",
    "liga2016Age.groupby('club_name')['age'].mean().to_csv('data/AverageAge/2016/Avg_liga2016Age.csv')\n",
    "\n",
    "ligue1_2016Age = pd.read_csv('data/AgesJoueurs/2016/french_ligue_1.csv')\n",
    "ligue1_2016Age.groupby('club_name')['age'].mean().to_csv('data/AverageAge/2016/Avg_ligue1_2016Age.csv')\n",
    "\n",
    "bundeshliga2016Age = pd.read_csv('data/AgesJoueurs/2016/german_bundesliga_1.csv')\n",
    "bundeshliga2016Age.groupby('club_name')['age'].mean().to_csv('data/AverageAge/2016/Avg_bundeshliga2016Age.csv')\n",
    "\n",
    "serieA2016Age = pd.read_csv('data/AgesJoueurs/2016/italian_serie_a.csv')\n",
    "serieA2016Age.groupby('club_name')['age'].mean().to_csv('data/AverageAge/2016/Avg_serieA2016Age.csv')"
   ]
  },
  {
   "cell_type": "code",
   "execution_count": 14,
   "metadata": {},
   "outputs": [],
   "source": [
    "PL2017Age = pd.read_csv('data/AgesJoueurs/2017/english_premier_league.csv')\n",
    "PL2017Age.groupby('club_name')[['age']].mean().to_csv('data/AverageAge/2017/Avg_PL2017Age.csv')\n",
    "\n",
    "liga2017Age = pd.read_csv('data/AgesJoueurs/2017/spanish_primera_division.csv')\n",
    "liga2017Age.groupby('club_name')['age'].mean().to_csv('data/AverageAge/2017/Avg_liga2017Age.csv')\n",
    "\n",
    "ligue1_2017Age = pd.read_csv('data/AgesJoueurs/2017/french_ligue_1.csv')\n",
    "ligue1_2017Age.groupby('club_name')['age'].mean().to_csv('data/AverageAge/2017/Avg_ligue1_2017Age.csv')\n",
    "\n",
    "bundeshliga2017Age = pd.read_csv('data/AgesJoueurs/2017/german_bundesliga_1.csv')\n",
    "bundeshliga2017Age.groupby('club_name')['age'].mean().to_csv('data/AverageAge/2017/Avg_bundeshliga2017Age.csv')\n",
    "\n",
    "serieA2017Age = pd.read_csv('data/AgesJoueurs/2017/italian_serie_a.csv')\n",
    "serieA2017Age.groupby('club_name')['age'].mean().to_csv('data/AverageAge/2017/Avg_serieA2017Age.csv')"
   ]
  },
  {
   "cell_type": "code",
   "execution_count": 15,
   "metadata": {},
   "outputs": [],
   "source": [
    "PL2018Age = pd.read_csv('data/AgesJoueurs/2018/english_premier_league.csv')\n",
    "PL2018Age.groupby('club_name')[['age']].mean().to_csv('data/AverageAge/2018/Avg_PL2018Age.csv')\n",
    "\n",
    "liga2018Age = pd.read_csv('data/AgesJoueurs/2018/spanish_primera_division.csv')\n",
    "liga2018Age.groupby('club_name')['age'].mean().to_csv('data/AverageAge/2018/Avg_liga2018Age.csv')\n",
    "\n",
    "ligue1_2018Age = pd.read_csv('data/AgesJoueurs/2018/french_ligue_1.csv')\n",
    "ligue1_2018Age.groupby('club_name')['age'].mean().to_csv('data/AverageAge/2018/Avg_ligue1_2018Age.csv')\n",
    "\n",
    "bundeshliga2018Age = pd.read_csv('data/AgesJoueurs/2018/german_bundesliga_1.csv')\n",
    "bundeshliga2018Age.groupby('club_name')['age'].mean().to_csv('data/AverageAge/2018/Avg_bundeshliga2018Age.csv')\n",
    "\n",
    "serieA2018Age = pd.read_csv('data/AgesJoueurs/2018/italian_serie_a.csv')\n",
    "serieA2018Age.groupby('club_name')['age'].mean().to_csv('data/AverageAge/2018/Avg_serieA2018Age.csv')"
   ]
  },
  {
   "cell_type": "code",
   "execution_count": 16,
   "metadata": {},
   "outputs": [],
   "source": [
    "PL2019Age = pd.read_csv('data/AgesJoueurs/2019/english_premier_league.csv')\n",
    "PL2019Age.groupby('club_name')[['age']].mean().to_csv('data/AverageAge/2019/Avg_PL2019Age.csv')\n",
    "\n",
    "liga2019Age = pd.read_csv('data/AgesJoueurs/2019/spanish_primera_division.csv')\n",
    "liga2019Age.groupby('club_name')['age'].mean().to_csv('data/AverageAge/2019/Avg_liga2019Age.csv')\n",
    "\n",
    "ligue1_2019Age = pd.read_csv('data/AgesJoueurs/2019/french_ligue_1.csv')\n",
    "ligue1_2019Age.groupby('club_name')['age'].mean().to_csv('data/AverageAge/2019/Avg_ligue1_2019Age.csv')\n",
    "\n",
    "bundeshliga2019Age = pd.read_csv('data/AgesJoueurs/2019/german_bundesliga_1.csv')\n",
    "bundeshliga2019Age.groupby('club_name')['age'].mean().to_csv('data/AverageAge/2019/Avg_bundeshliga2019Age.csv')\n",
    "\n",
    "serieA2019Age = pd.read_csv('data/AgesJoueurs/2019/italian_serie_a.csv')\n",
    "serieA2019Age.groupby('club_name')['age'].mean().to_csv('data/AverageAge/2019/Avg_serieA2019Age.csv')"
   ]
  },
  {
   "cell_type": "code",
   "execution_count": 17,
   "metadata": {},
   "outputs": [],
   "source": [
    "PL2020Age = pd.read_csv('data/AgesJoueurs/2020/english_premier_league.csv')\n",
    "PL2020Age.groupby('club_name')[['age']].mean().to_csv('data/AverageAge/2020/Avg_PL2020Age.csv')\n",
    "\n",
    "liga2020Age = pd.read_csv('data/AgesJoueurs/2020/spanish_primera_division.csv')\n",
    "liga2020Age.groupby('club_name')['age'].mean().to_csv('data/AverageAge/2020/Avg_liga2020Age.csv')\n",
    "\n",
    "ligue1_2020Age = pd.read_csv('data/AgesJoueurs/2020/french_ligue_1.csv')\n",
    "ligue1_2020Age.groupby('club_name')['age'].mean().to_csv('data/AverageAge/2020/Avg_ligue1_2020Age.csv')\n",
    "\n",
    "bundeshliga2020Age = pd.read_csv('data/AgesJoueurs/2020/german_bundesliga_1.csv')\n",
    "bundeshliga2020Age.groupby('club_name')['age'].mean().to_csv('data/AverageAge/2020/Avg_bundeshliga2020Age.csv')\n",
    "\n",
    "serieA2020Age = pd.read_csv('data/AgesJoueurs/2020/italian_serie_a.csv')\n",
    "serieA2020Age.groupby('club_name')['age'].mean().to_csv('data/AverageAge/2020/Avg_serieA2020Age.csv')"
   ]
  },
  {
   "cell_type": "code",
   "execution_count": null,
   "metadata": {},
   "outputs": [],
   "source": []
  }
 ],
 "metadata": {
  "kernelspec": {
   "display_name": "Python 3",
   "language": "python",
   "name": "python3"
  },
  "language_info": {
   "codemirror_mode": {
    "name": "ipython",
    "version": 3
   },
   "file_extension": ".py",
   "mimetype": "text/x-python",
   "name": "python",
   "nbconvert_exporter": "python",
   "pygments_lexer": "ipython3",
   "version": "3.8.10"
  }
 },
 "nbformat": 4,
 "nbformat_minor": 5
}
