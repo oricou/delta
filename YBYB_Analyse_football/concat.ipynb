{
 "cells": [
  {
   "cell_type": "code",
   "execution_count": 13,
   "metadata": {},
   "outputs": [],
   "source": [
    "import pandas as pd\n",
    "\n",
    "liga0405Rk = pd.read_excel('data/liga/liga0405.xls')\n",
    "liga0506Rk = pd.read_excel('data/liga/liga0506.xls')\n",
    "liga0607Rk = pd.read_excel('data/liga/liga0607.xls')\n",
    "liga0708Rk = pd.read_excel('data/liga/liga0708.xls')\n",
    "liga0809Rk = pd.read_excel('data/liga/liga0809.xls')\n",
    "liga0910Rk = pd.read_excel('data/liga/liga0910.xls')\n",
    "liga1011Rk = pd.read_excel('data/liga/liga1011.xls')\n",
    "liga1112Rk = pd.read_excel('data/liga/liga1112.xls')\n",
    "liga1213Rk = pd.read_excel('data/liga/liga1213.xls')\n",
    "liga1314Rk = pd.read_excel('data/liga/liga1314.xls')\n",
    "liga1415Rk = pd.read_excel('data/liga/liga1415.xls')\n",
    "liga1516Rk = pd.read_excel('data/liga/liga1516.xls')\n",
    "liga1617Rk = pd.read_excel('data/liga/liga1617.xls')\n",
    "liga1718Rk = pd.read_excel('data/liga/liga1718.xls')\n",
    "liga1819Rk = pd.read_excel('data/liga/liga1819.xls')\n",
    "liga1920Rk = pd.read_excel('data/liga/liga1920.xls')\n",
    "liga2021Rk = pd.read_excel('data/liga/liga2021.xls')\n",
    "\n",
    "concat  = pd.concat([liga0405Rk, liga0506Rk, liga0607Rk, liga0708Rk, liga0809Rk, liga0910Rk, liga1011Rk, liga1112Rk, liga1213Rk, liga1314Rk, liga1415Rk, liga1516Rk, liga1617Rk, liga1718Rk, liga1819Rk, liga1920Rk, liga2021Rk], axis=0).to_csv(\"data/concat/liga.csv\")"
   ]
  },
  {
   "cell_type": "code",
   "execution_count": 12,
   "metadata": {},
   "outputs": [],
   "source": [
    "PL0405Rk = pd.read_excel('data/PL/PL0405.xls')\n",
    "PL0506Rk = pd.read_excel('data/PL/PL0506.xls')\n",
    "PL0607Rk = pd.read_excel('data/PL/PL0607.xls')\n",
    "PL0708Rk = pd.read_excel('data/PL/PL0708.xls')\n",
    "PL0809Rk = pd.read_excel('data/PL/PL0809.xls')\n",
    "PL0910Rk = pd.read_excel('data/PL/PL0910.xls')\n",
    "PL1011Rk = pd.read_excel('data/PL/PL1011.xls')\n",
    "PL1112Rk = pd.read_excel('data/PL/PL1112.xls')\n",
    "PL1213Rk = pd.read_excel('data/PL/PL1213.xls')\n",
    "PL1314Rk = pd.read_excel('data/PL/PL1314.xls')\n",
    "PL1415Rk = pd.read_excel('data/PL/PL1415.xls')\n",
    "PL1516Rk = pd.read_excel('data/PL/PL1516.xls')\n",
    "PL1617Rk = pd.read_excel('data/PL/PL1617.xls')\n",
    "PL1718Rk = pd.read_excel('data/PL/PL1718.xls')\n",
    "PL1819Rk = pd.read_excel('data/PL/PL1819.xls')\n",
    "PL1920Rk = pd.read_excel('data/PL/PL1920.xls')\n",
    "PL2021Rk = pd.read_excel('data/PL/PL2021.xls')\n",
    "\n",
    "concat  = pd.concat([PL0405Rk, PL0506Rk, PL0607Rk, PL0708Rk, PL0809Rk, PL0910Rk, PL1011Rk,PL1112Rk, PL1213Rk, PL1314Rk, PL1415Rk, PL1516Rk, PL1617Rk, PL1718Rk, PL1819Rk, PL1920Rk, PL2021Rk], axis=0).to_csv(\"data/concat/PL.csv\")"
   ]
  },
  {
   "cell_type": "code",
   "execution_count": 11,
   "metadata": {},
   "outputs": [],
   "source": [
    "serieA0405Rk = pd.read_excel('data/serieA/serieA0405.xls')\n",
    "serieA0506Rk = pd.read_excel('data/serieA/serieA0506.xls')\n",
    "serieA0607Rk = pd.read_excel('data/serieA/serieA0607.xls')\n",
    "serieA0708Rk = pd.read_excel('data/serieA/serieA0708.xls')\n",
    "serieA0809Rk = pd.read_excel('data/serieA/serieA0809.xls')\n",
    "serieA0910Rk = pd.read_excel('data/serieA/serieA0910.xls')\n",
    "serieA1011Rk = pd.read_excel('data/serieA/serieA1011.xls')\n",
    "serieA1112Rk = pd.read_excel('data/serieA/serieA1112.xls')\n",
    "serieA1213Rk = pd.read_excel('data/serieA/serieA1213.xls')\n",
    "serieA1314Rk = pd.read_excel('data/serieA/serieA1314.xls')\n",
    "serieA1415Rk = pd.read_excel('data/serieA/serieA1415.xls')\n",
    "serieA1516Rk = pd.read_excel('data/serieA/serieA1516.xls')\n",
    "serieA1617Rk = pd.read_excel('data/serieA/serieA1617.xls')\n",
    "serieA1718Rk = pd.read_excel('data/serieA/serieA1718.xls')\n",
    "serieA1819Rk = pd.read_excel('data/serieA/serieA1819.xls')\n",
    "serieA1920Rk = pd.read_excel('data/serieA/serieA1920.xls')\n",
    "serieA2021Rk = pd.read_excel('data/serieA/serieA2021.xls')\n",
    "\n",
    "concat  = pd.concat([serieA0405Rk, serieA0506Rk, serieA0607Rk, serieA0708Rk, serieA0809Rk, serieA0910Rk, serieA1011Rk, serieA1112Rk, serieA1213Rk, serieA1314Rk, serieA1415Rk, serieA1516Rk, serieA1617Rk, serieA1718Rk, serieA1819Rk, serieA1920Rk, serieA2021Rk], axis=0).to_csv(\"data/concat/serieA.csv\")"
   ]
  },
  {
   "cell_type": "code",
   "execution_count": 9,
   "metadata": {},
   "outputs": [],
   "source": [
    "bundeshliga0405Rk = pd.read_excel('data/bundesliga/bundeshliga0405.xls')\n",
    "bundeshliga0506Rk = pd.read_excel('data/bundesliga/bundeshliga0506.xls')\n",
    "bundeshliga0607Rk = pd.read_excel('data/bundesliga/bundeshliga0607.xls')\n",
    "bundeshliga0708Rk = pd.read_excel('data/bundesliga/bundeshliga0708.xls')\n",
    "bundeshliga0809Rk = pd.read_excel('data/bundesliga/bundeshliga0809.xls')\n",
    "bundeshliga0910Rk = pd.read_excel('data/bundesliga/bundeshliga0910.xls')\n",
    "bundeshliga1011Rk = pd.read_excel('data/bundesliga/bundeshliga1011.xls')\n",
    "bundeshliga1112Rk = pd.read_excel('data/bundesliga/bundeshliga1112.xls')\n",
    "bundeshliga1213Rk = pd.read_excel('data/bundesliga/bundeshliga1213.xls')\n",
    "bundeshliga1314Rk = pd.read_excel('data/bundesliga/bundeshliga1314.xls')\n",
    "bundeshliga1415Rk = pd.read_excel('data/bundesliga/bundeshliga1415.xls')\n",
    "bundeshliga1516Rk = pd.read_excel('data/bundesliga/bundeshliga1516.xls')\n",
    "bundeshliga1617Rk = pd.read_excel('data/bundesliga/bundeshliga1617.xls')\n",
    "bundeshliga1718Rk = pd.read_excel('data/bundesliga/bundeshliga1718.xls')\n",
    "bundeshliga1819Rk = pd.read_excel('data/bundesliga/bundeshliga1819.xls')\n",
    "bundeshliga1920Rk = pd.read_excel('data/bundesliga/bundeshliga1920.xls')\n",
    "bundeshliga2021Rk = pd.read_excel('data/bundesliga/bundeshliga2021.xls')\n",
    "\n",
    "concat  = pd.concat([bundeshliga0405Rk, bundeshliga0506Rk, bundeshliga0607Rk, bundeshliga0708Rk, bundeshliga0809Rk, \n",
    "                     bundeshliga0910Rk, bundeshliga1011Rk, bundeshliga1112Rk, bundeshliga1213Rk, bundeshliga1314Rk, \n",
    "                     bundeshliga1415Rk, bundeshliga1516Rk, bundeshliga1617Rk, bundeshliga1718Rk, bundeshliga1819Rk, \n",
    "                     bundeshliga1920Rk, bundeshliga2021Rk], axis=0).to_csv(\"data/concat/bundeshliga.csv\")"
   ]
  },
  {
   "cell_type": "code",
   "execution_count": 14,
   "metadata": {},
   "outputs": [],
   "source": [
    "ligue10405Rk = pd.read_excel('data/ligue1/ligue10405.xls')\n",
    "ligue10506Rk = pd.read_excel('data/ligue1/ligue10506.xls')\n",
    "ligue10607Rk = pd.read_excel('data/ligue1/ligue10607.xls')\n",
    "ligue10708Rk = pd.read_excel('data/ligue1/ligue10708.xls')\n",
    "ligue10809Rk = pd.read_excel('data/ligue1/ligue10809.xls')\n",
    "ligue10910Rk = pd.read_excel('data/ligue1/ligue10910.xls')\n",
    "ligue11011Rk = pd.read_excel('data/ligue1/ligue11011.xls')\n",
    "ligue11112Rk = pd.read_excel('data/ligue1/ligue11112.xls')\n",
    "ligue11213Rk = pd.read_excel('data/ligue1/ligue11213.xls')\n",
    "ligue11314Rk = pd.read_excel('data/ligue1/ligue11314.xls')\n",
    "ligue11415Rk = pd.read_excel('data/ligue1/ligue11415.xls')\n",
    "ligue11516Rk = pd.read_excel('data/ligue1/ligue11516.xls')\n",
    "ligue11617Rk = pd.read_excel('data/ligue1/ligue11617.xls')\n",
    "ligue11718Rk = pd.read_excel('data/ligue1/ligue11718.xls')\n",
    "ligue11819Rk = pd.read_excel('data/ligue1/ligue11819.xls')\n",
    "ligue11920Rk = pd.read_excel('data/ligue1/ligue11920.xls')\n",
    "ligue12021Rk = pd.read_excel('data/ligue1/ligue12021.xls')\n",
    "\n",
    "concat  = pd.concat([ligue10405Rk, ligue10506Rk, ligue10607Rk, ligue10708Rk, ligue10809Rk, \n",
    "                     ligue10910Rk, ligue11011Rk, ligue11112Rk, ligue11213Rk , ligue11314Rk, \n",
    "                     ligue11415Rk, ligue11516Rk, ligue11617Rk, ligue11718Rk, ligue11819Rk, \n",
    "                     ligue11920Rk, ligue12021Rk], axis=0).to_csv(\"data/concat/ligue1.csv\")"
   ]
  }
 ],
 "metadata": {
  "kernelspec": {
   "display_name": "Python 3 (ipykernel)",
   "language": "python",
   "name": "python3"
  },
  "language_info": {
   "codemirror_mode": {
    "name": "ipython",
    "version": 3
   },
   "file_extension": ".py",
   "mimetype": "text/x-python",
   "name": "python",
   "nbconvert_exporter": "python",
   "pygments_lexer": "ipython3",
   "version": "3.10.2"
  }
 },
 "nbformat": 4,
 "nbformat_minor": 4
}
