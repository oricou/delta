{
 "cells": [
  {
   "cell_type": "markdown",
   "metadata": {
    "pycharm": {
     "name": "#%% md\n"
    }
   },
   "source": [
    "# PYBD - Top 100 Billboard USA"
   ]
  },
  {
   "cell_type": "code",
   "execution_count": 1,
   "metadata": {
    "pycharm": {
     "name": "#%%\n"
    }
   },
   "outputs": [],
   "source": [
    "from collections import Counter\n",
    "\n",
    "from matplotlib import pyplot as plt\n",
    "import numpy as np\n",
    "import pandas as pd\n",
    "import plotly.express as px\n",
    "import plotly.graph_objects as go\n",
    "import seaborn as sns"
   ]
  },
  {
   "cell_type": "markdown",
   "metadata": {
    "pycharm": {
     "name": "#%% md\n"
    }
   },
   "source": [
    "## Importing the data and setting up dtypes"
   ]
  },
  {
   "cell_type": "code",
   "execution_count": 2,
   "metadata": {
    "pycharm": {
     "name": "#%%\n"
    }
   },
   "outputs": [],
   "source": [
    "df = pd.read_csv('data/top_100_billboard_usa.csv')\n",
    "df[\"date\"] = pd.to_datetime(df[\"date\"])"
   ]
  },
  {
   "cell_type": "code",
   "execution_count": 3,
   "metadata": {
    "pycharm": {
     "name": "#%%\n"
    }
   },
   "outputs": [
    {
     "data": {
      "text/plain": [
       "['date', 'rank', 'song', 'artist', 'last-week', 'peak-rank', 'weeks-on-board']"
      ]
     },
     "execution_count": 3,
     "metadata": {},
     "output_type": "execute_result"
    }
   ],
   "source": [
    "list(df.columns)"
   ]
  },
  {
   "cell_type": "code",
   "execution_count": 4,
   "metadata": {
    "pycharm": {
     "name": "#%%\n"
    }
   },
   "outputs": [
    {
     "data": {
      "text/html": [
       "<div>\n",
       "<style scoped>\n",
       "    .dataframe tbody tr th:only-of-type {\n",
       "        vertical-align: middle;\n",
       "    }\n",
       "\n",
       "    .dataframe tbody tr th {\n",
       "        vertical-align: top;\n",
       "    }\n",
       "\n",
       "    .dataframe thead th {\n",
       "        text-align: right;\n",
       "    }\n",
       "</style>\n",
       "<table border=\"1\" class=\"dataframe\">\n",
       "  <thead>\n",
       "    <tr style=\"text-align: right;\">\n",
       "      <th></th>\n",
       "      <th>date</th>\n",
       "      <th>rank</th>\n",
       "      <th>song</th>\n",
       "      <th>artist</th>\n",
       "      <th>last-week</th>\n",
       "      <th>peak-rank</th>\n",
       "      <th>weeks-on-board</th>\n",
       "    </tr>\n",
       "  </thead>\n",
       "  <tbody>\n",
       "    <tr>\n",
       "      <th>0</th>\n",
       "      <td>2021-11-06</td>\n",
       "      <td>1</td>\n",
       "      <td>Easy On Me</td>\n",
       "      <td>Adele</td>\n",
       "      <td>1.0</td>\n",
       "      <td>1</td>\n",
       "      <td>3</td>\n",
       "    </tr>\n",
       "    <tr>\n",
       "      <th>1</th>\n",
       "      <td>2021-11-06</td>\n",
       "      <td>2</td>\n",
       "      <td>Stay</td>\n",
       "      <td>The Kid LAROI &amp; Justin Bieber</td>\n",
       "      <td>2.0</td>\n",
       "      <td>1</td>\n",
       "      <td>16</td>\n",
       "    </tr>\n",
       "    <tr>\n",
       "      <th>2</th>\n",
       "      <td>2021-11-06</td>\n",
       "      <td>3</td>\n",
       "      <td>Industry Baby</td>\n",
       "      <td>Lil Nas X &amp; Jack Harlow</td>\n",
       "      <td>3.0</td>\n",
       "      <td>1</td>\n",
       "      <td>14</td>\n",
       "    </tr>\n",
       "    <tr>\n",
       "      <th>3</th>\n",
       "      <td>2021-11-06</td>\n",
       "      <td>4</td>\n",
       "      <td>Fancy Like</td>\n",
       "      <td>Walker Hayes</td>\n",
       "      <td>4.0</td>\n",
       "      <td>3</td>\n",
       "      <td>19</td>\n",
       "    </tr>\n",
       "    <tr>\n",
       "      <th>4</th>\n",
       "      <td>2021-11-06</td>\n",
       "      <td>5</td>\n",
       "      <td>Bad Habits</td>\n",
       "      <td>Ed Sheeran</td>\n",
       "      <td>5.0</td>\n",
       "      <td>2</td>\n",
       "      <td>18</td>\n",
       "    </tr>\n",
       "    <tr>\n",
       "      <th>...</th>\n",
       "      <td>...</td>\n",
       "      <td>...</td>\n",
       "      <td>...</td>\n",
       "      <td>...</td>\n",
       "      <td>...</td>\n",
       "      <td>...</td>\n",
       "      <td>...</td>\n",
       "    </tr>\n",
       "    <tr>\n",
       "      <th>330082</th>\n",
       "      <td>1958-08-04</td>\n",
       "      <td>96</td>\n",
       "      <td>Over And Over</td>\n",
       "      <td>Thurston Harris</td>\n",
       "      <td>NaN</td>\n",
       "      <td>96</td>\n",
       "      <td>1</td>\n",
       "    </tr>\n",
       "    <tr>\n",
       "      <th>330083</th>\n",
       "      <td>1958-08-04</td>\n",
       "      <td>97</td>\n",
       "      <td>I Believe In You</td>\n",
       "      <td>Robert &amp; Johnny</td>\n",
       "      <td>NaN</td>\n",
       "      <td>97</td>\n",
       "      <td>1</td>\n",
       "    </tr>\n",
       "    <tr>\n",
       "      <th>330084</th>\n",
       "      <td>1958-08-04</td>\n",
       "      <td>98</td>\n",
       "      <td>Little Serenade</td>\n",
       "      <td>The Ames Brothers</td>\n",
       "      <td>NaN</td>\n",
       "      <td>98</td>\n",
       "      <td>1</td>\n",
       "    </tr>\n",
       "    <tr>\n",
       "      <th>330085</th>\n",
       "      <td>1958-08-04</td>\n",
       "      <td>99</td>\n",
       "      <td>I'll Get By (As Long As I Have You)</td>\n",
       "      <td>Billy Williams</td>\n",
       "      <td>NaN</td>\n",
       "      <td>99</td>\n",
       "      <td>1</td>\n",
       "    </tr>\n",
       "    <tr>\n",
       "      <th>330086</th>\n",
       "      <td>1958-08-04</td>\n",
       "      <td>100</td>\n",
       "      <td>Judy</td>\n",
       "      <td>Frankie Vaughan</td>\n",
       "      <td>NaN</td>\n",
       "      <td>100</td>\n",
       "      <td>1</td>\n",
       "    </tr>\n",
       "  </tbody>\n",
       "</table>\n",
       "<p>330087 rows × 7 columns</p>\n",
       "</div>"
      ],
      "text/plain": [
       "             date  rank                                 song  \\\n",
       "0      2021-11-06     1                           Easy On Me   \n",
       "1      2021-11-06     2                                 Stay   \n",
       "2      2021-11-06     3                        Industry Baby   \n",
       "3      2021-11-06     4                           Fancy Like   \n",
       "4      2021-11-06     5                           Bad Habits   \n",
       "...           ...   ...                                  ...   \n",
       "330082 1958-08-04    96                        Over And Over   \n",
       "330083 1958-08-04    97                     I Believe In You   \n",
       "330084 1958-08-04    98                      Little Serenade   \n",
       "330085 1958-08-04    99  I'll Get By (As Long As I Have You)   \n",
       "330086 1958-08-04   100                                 Judy   \n",
       "\n",
       "                               artist  last-week  peak-rank  weeks-on-board  \n",
       "0                               Adele        1.0          1               3  \n",
       "1       The Kid LAROI & Justin Bieber        2.0          1              16  \n",
       "2             Lil Nas X & Jack Harlow        3.0          1              14  \n",
       "3                        Walker Hayes        4.0          3              19  \n",
       "4                          Ed Sheeran        5.0          2              18  \n",
       "...                               ...        ...        ...             ...  \n",
       "330082                Thurston Harris        NaN         96               1  \n",
       "330083                Robert & Johnny        NaN         97               1  \n",
       "330084              The Ames Brothers        NaN         98               1  \n",
       "330085                 Billy Williams        NaN         99               1  \n",
       "330086                Frankie Vaughan        NaN        100               1  \n",
       "\n",
       "[330087 rows x 7 columns]"
      ]
     },
     "execution_count": 4,
     "metadata": {},
     "output_type": "execute_result"
    }
   ],
   "source": [
    "df"
   ]
  },
  {
   "cell_type": "code",
   "execution_count": 5,
   "metadata": {
    "pycharm": {
     "name": "#%%\n"
    }
   },
   "outputs": [
    {
     "data": {
      "text/plain": [
       "330087"
      ]
     },
     "execution_count": 5,
     "metadata": {},
     "output_type": "execute_result"
    }
   ],
   "source": [
    "len(df)"
   ]
  },
  {
   "cell_type": "markdown",
   "metadata": {
    "pycharm": {
     "name": "#%% md\n"
    }
   },
   "source": [
    "## Tools"
   ]
  },
  {
   "cell_type": "code",
   "execution_count": 6,
   "metadata": {
    "pycharm": {
     "name": "#%%\n"
    }
   },
   "outputs": [],
   "source": [
    "def to_year_df(df: pd.DataFrame):\n",
    "    df = df.copy()\n",
    "    df[\"date\"] = df[\"date\"].dt.year\n",
    "    return df"
   ]
  },
  {
   "cell_type": "code",
   "execution_count": 7,
   "metadata": {
    "pycharm": {
     "name": "#%%\n"
    }
   },
   "outputs": [],
   "source": [
    "def to_decade(year):\n",
    "    decade = year//10 * 10\n",
    "    return decade"
   ]
  },
  {
   "cell_type": "code",
   "execution_count": 8,
   "metadata": {
    "pycharm": {
     "name": "#%%\n"
    }
   },
   "outputs": [],
   "source": [
    "def to_decade_df(df: pd.DataFrame):\n",
    "    df = df.copy()\n",
    "    df[\"date\"] = df[\"date\"].dt.year.apply(to_decade)\n",
    "    return df"
   ]
  },
  {
   "cell_type": "markdown",
   "metadata": {
    "pycharm": {
     "name": "#%% md\n"
    }
   },
   "source": [
    "## Data exploration"
   ]
  },
  {
   "cell_type": "code",
   "execution_count": 9,
   "metadata": {
    "pycharm": {
     "name": "#%%\n"
    }
   },
   "outputs": [
    {
     "name": "stdout",
     "output_type": "stream",
     "text": [
      "Number of artists: 10205\n"
     ]
    }
   ],
   "source": [
    "print(f\"Number of artists: {len(df['artist'].unique())}\")"
   ]
  },
  {
   "cell_type": "code",
   "execution_count": 10,
   "metadata": {
    "pycharm": {
     "name": "#%%\n"
    }
   },
   "outputs": [
    {
     "name": "stdout",
     "output_type": "stream",
     "text": [
      "Timescale of the dataset (approximately, in years): 63\n"
     ]
    }
   ],
   "source": [
    "nb_year = df.date.max().year - df.date.min().year\n",
    "print(f\"Timescale of the dataset (approximately, in years): {nb_year}\")"
   ]
  },
  {
   "cell_type": "code",
   "execution_count": 11,
   "metadata": {
    "pycharm": {
     "name": "#%%\n"
    }
   },
   "outputs": [
    {
     "name": "stdout",
     "output_type": "stream",
     "text": [
      "Number of distinct artists in the top 100 each week between 1958 and 2021 (63 years):\n",
      "  10205 with 24620 musics for 330087 entries\n"
     ]
    }
   ],
   "source": [
    "df_date_year = df[\"date\"].dt.year.unique()\n",
    "mini = df_date_year.min()\n",
    "maxi = df_date_year.max()\n",
    "artistes_distincts = len(df[\"artist\"].unique())\n",
    "unique_songs = len(df[\"song\"].unique())\n",
    "print(f\"Number of distinct artists in the top 100 each week between {mini} and {maxi} ({maxi - mini} years):\")\n",
    "print(f\"  {artistes_distincts} with {unique_songs} musics for {len(df)} entries\")"
   ]
  },
  {
   "cell_type": "code",
   "execution_count": 12,
   "metadata": {
    "pycharm": {
     "name": "#%%\n"
    }
   },
   "outputs": [
    {
     "name": "stdout",
     "output_type": "stream",
     "text": [
      "Number of songs: 29681\n"
     ]
    }
   ],
   "source": [
    "print(f'Number of songs: {len(df.groupby([\"artist\", \"song\"]))}')"
   ]
  },
  {
   "cell_type": "code",
   "execution_count": 13,
   "metadata": {
    "pycharm": {
     "name": "#%%\n"
    }
   },
   "outputs": [
    {
     "name": "stdout",
     "output_type": "stream",
     "text": [
      "There is 161.984126984127 new artists each year\n"
     ]
    }
   ],
   "source": [
    "print(f\"There is {artistes_distincts / (maxi - mini)} new artists each year\")"
   ]
  },
  {
   "cell_type": "code",
   "execution_count": 14,
   "metadata": {
    "pycharm": {
     "name": "#%%\n"
    }
   },
   "outputs": [
    {
     "data": {
      "image/png": "[encoded data removed]",
      "text/plain": [
       "<Figure size 432x288 with 1 Axes>"
      ]
     },
     "metadata": {
      "needs_background": "light"
     },
     "output_type": "display_data"
    }
   ],
   "source": [
    "to_year_df(df)[[\"date\", \"artist\"]].groupby([\"date\", \"artist\"], as_index=False).first().groupby(\"date\").count().plot()\n",
    "plt.title(\"Number of new artist in the billboard each year\")\n",
    "plt.show()"
   ]
  },
  {
   "cell_type": "code",
   "execution_count": 15,
   "metadata": {
    "pycharm": {
     "name": "#%%\n"
    }
   },
   "outputs": [
    {
     "data": {
      "image/png": "[encoded data removed]",
      "text/plain": [
       "<Figure size 432x288 with 1 Axes>"
      ]
     },
     "metadata": {
      "needs_background": "light"
     },
     "output_type": "display_data"
    }
   ],
   "source": [
    "to_decade_df(df)[[\"date\", \"artist\"]].groupby([\"date\", \"artist\"], as_index=False).first().groupby(\"date\").count().plot.bar()\n",
    "plt.title(\"Number of new artist in the billboard each decade\")\n",
    "plt.show() # Lows in 2020 and 1950 are because the decade was/is not complete"
   ]
  },
  {
   "cell_type": "code",
   "execution_count": 16,
   "metadata": {
    "pycharm": {
     "name": "#%%\n"
    }
   },
   "outputs": [
    {
     "data": {
      "text/plain": [
       "song                      artist                      \n",
       "Blinding Lights           The Weeknd                      90\n",
       "Radioactive               Imagine Dragons                 87\n",
       "Sail                      AWOLNATION                      79\n",
       "I'm Yours                 Jason Mraz                      76\n",
       "How Do I Live             LeAnn Rimes                     69\n",
       "                                                          ..\n",
       "I Won't Give Up           Jana Kramer                      1\n",
       "I Won't Back Down         Blake Shelton & Dia Frampton     1\n",
       "I Will Always Love You    Glee Cast                        1\n",
       "I Who Have Nothing        Jordin Sparks                    1\n",
       "Trap This Way (This Way)  Lil Uzi Vert                     1\n",
       "Length: 29681, dtype: int64"
      ]
     },
     "execution_count": 16,
     "metadata": {},
     "output_type": "execute_result"
    }
   ],
   "source": [
    "songdf = df[['song', \"artist\"]].value_counts()\n",
    "songdf # Songs that appear the most in the billboard"
   ]
  },
  {
   "cell_type": "code",
   "execution_count": 17,
   "metadata": {
    "pycharm": {
     "name": "#%%\n"
    }
   },
   "outputs": [
    {
     "data": {
      "text/html": [
       "<div>\n",
       "<style scoped>\n",
       "    .dataframe tbody tr th:only-of-type {\n",
       "        vertical-align: middle;\n",
       "    }\n",
       "\n",
       "    .dataframe tbody tr th {\n",
       "        vertical-align: top;\n",
       "    }\n",
       "\n",
       "    .dataframe thead th {\n",
       "        text-align: right;\n",
       "    }\n",
       "</style>\n",
       "<table border=\"1\" class=\"dataframe\">\n",
       "  <thead>\n",
       "    <tr style=\"text-align: right;\">\n",
       "      <th></th>\n",
       "      <th>artist</th>\n",
       "    </tr>\n",
       "    <tr>\n",
       "      <th>song</th>\n",
       "      <th></th>\n",
       "    </tr>\n",
       "  </thead>\n",
       "  <tbody>\n",
       "    <tr>\n",
       "      <th>Hold On</th>\n",
       "      <td>17</td>\n",
       "    </tr>\n",
       "    <tr>\n",
       "      <th>You</th>\n",
       "      <td>15</td>\n",
       "    </tr>\n",
       "    <tr>\n",
       "      <th>Stay</th>\n",
       "      <td>15</td>\n",
       "    </tr>\n",
       "    <tr>\n",
       "      <th>Forever</th>\n",
       "      <td>14</td>\n",
       "    </tr>\n",
       "    <tr>\n",
       "      <th>Angel</th>\n",
       "      <td>14</td>\n",
       "    </tr>\n",
       "    <tr>\n",
       "      <th>...</th>\n",
       "      <td>...</td>\n",
       "    </tr>\n",
       "    <tr>\n",
       "      <th>I Can Never Go Home Anymore</th>\n",
       "      <td>1</td>\n",
       "    </tr>\n",
       "    <tr>\n",
       "      <th>I Can Make It Thru The Days (But Oh Those Lonely Nights)</th>\n",
       "      <td>1</td>\n",
       "    </tr>\n",
       "    <tr>\n",
       "      <th>I Can Make It Better</th>\n",
       "      <td>1</td>\n",
       "    </tr>\n",
       "    <tr>\n",
       "      <th>I Can Love You Like That</th>\n",
       "      <td>1</td>\n",
       "    </tr>\n",
       "    <tr>\n",
       "      <th>¿Dònde Està Santa Claus? (Where Is Santa Claus?)</th>\n",
       "      <td>1</td>\n",
       "    </tr>\n",
       "  </tbody>\n",
       "</table>\n",
       "<p>24620 rows × 1 columns</p>\n",
       "</div>"
      ],
      "text/plain": [
       "                                                    artist\n",
       "song                                                      \n",
       "Hold On                                                 17\n",
       "You                                                     15\n",
       "Stay                                                    15\n",
       "Forever                                                 14\n",
       "Angel                                                   14\n",
       "...                                                    ...\n",
       "I Can Never Go Home Anymore                              1\n",
       "I Can Make It Thru The Days (But Oh Those Lonel...       1\n",
       "I Can Make It Better                                     1\n",
       "I Can Love You Like That                                 1\n",
       "¿Dònde Està Santa Claus? (Where Is Santa Claus?)         1\n",
       "\n",
       "[24620 rows x 1 columns]"
      ]
     },
     "execution_count": 17,
     "metadata": {},
     "output_type": "execute_result"
    }
   ],
   "source": [
    "df[[\"artist\", \"song\"]].groupby([\"artist\",\"song\"], as_index=False).first().groupby([\"song\"], as_index=True).count().sort_values(by=\"artist\", ascending=False)\n",
    "# Song titles that are most used by artists"
   ]
  },
  {
   "cell_type": "code",
   "execution_count": 18,
   "metadata": {
    "pycharm": {
     "name": "#%%\n"
    }
   },
   "outputs": [
    {
     "data": {
      "text/plain": [
       "artist\n",
       "Glee Cast                                                                    183\n",
       "Taylor Swift                                                                 120\n",
       "Drake                                                                        108\n",
       "The Beatles                                                                   65\n",
       "Aretha Franklin                                                               64\n",
       "                                                                            ... \n",
       "Jibbs Featuring Chamillionaire                                                 1\n",
       "Jibbs                                                                          1\n",
       "Jhene Aiko Featuring Swae Lee Or Rae Sremmurd                                  1\n",
       "Jhene Aiko Featuring H.E.R.                                                    1\n",
       "will.i.am Featuring Miley Cyrus, French Montana, Wiz Khalifa & DJ Mustard      1\n",
       "Name: song, Length: 10205, dtype: int64"
      ]
     },
     "execution_count": 18,
     "metadata": {},
     "output_type": "execute_result"
    }
   ],
   "source": [
    "df.groupby([\"artist\",\"song\"], as_index=False).first().groupby(\"artist\")[\"song\"].count().sort_values(ascending=False)\n",
    "# Artists that have the most songs in the billboard"
   ]
  },
  {
   "cell_type": "code",
   "execution_count": 19,
   "metadata": {
    "pycharm": {
     "name": "#%%\n"
    }
   },
   "outputs": [
    {
     "data": {
      "text/plain": [
       "artist                                             song                  \n",
       "Lil Nas X Featuring Billy Ray Cyrus                Old Town Road             19\n",
       "Luis Fonsi & Daddy Yankee Featuring Justin Bieber  Despacito                 16\n",
       "Mariah Carey & Boyz II Men                         One Sweet Day             16\n",
       "Mariah Carey                                       We Belong Together        14\n",
       "Whitney Houston                                    I Will Always Love You    14\n",
       "                                                                             ..\n",
       "Ringo Starr                                        Photograph                 1\n",
       "Rihanna Featuring Drake                            What's My Name?            1\n",
       "Glen Campbell                                      Southern Nights            1\n",
       "Rihanna Featuring Britney Spears                   S&M                        1\n",
       "matchbox twenty                                    Bent                       1\n",
       "Length: 1131, dtype: int64"
      ]
     },
     "execution_count": 19,
     "metadata": {},
     "output_type": "execute_result"
    }
   ],
   "source": [
    "df[df['rank']==1][['artist', 'song']].value_counts()\n",
    "# Songs that have been the longest in rank 1 of the billboard"
   ]
  },
  {
   "cell_type": "code",
   "execution_count": 20,
   "metadata": {
    "pycharm": {
     "name": "#%%\n"
    }
   },
   "outputs": [
    {
     "data": {
      "text/plain": [
       "Mariah Carey                                          233\n",
       "Madonna                                               213\n",
       "The Beatles                                           203\n",
       "Whitney Houston                                       161\n",
       "Bruno Mars                                            150\n",
       "                                                     ... \n",
       "Ariana Grande & Social House                            1\n",
       "Post Malone Featuring Ozzy Osbourne & Travis Scott      1\n",
       "Doja Cat                                                1\n",
       "Case & Joe                                              1\n",
       "Tony Camillo's Bazuka                                   1\n",
       "Name: artist, Length: 2487, dtype: int64"
      ]
     },
     "execution_count": 20,
     "metadata": {},
     "output_type": "execute_result"
    }
   ],
   "source": [
    "df_10 = df[df[\"rank\"] <= 10].copy()\n",
    "df_10[\"artist\"].value_counts()\n",
    "# Top 10 artists in the billboard"
   ]
  },
  {
   "cell_type": "code",
   "execution_count": 21,
   "metadata": {
    "pycharm": {
     "name": "#%%\n"
    }
   },
   "outputs": [
    {
     "data": {
      "text/html": [
       "<div>\n",
       "<style scoped>\n",
       "    .dataframe tbody tr th:only-of-type {\n",
       "        vertical-align: middle;\n",
       "    }\n",
       "\n",
       "    .dataframe tbody tr th {\n",
       "        vertical-align: top;\n",
       "    }\n",
       "\n",
       "    .dataframe thead th {\n",
       "        text-align: right;\n",
       "    }\n",
       "</style>\n",
       "<table border=\"1\" class=\"dataframe\">\n",
       "  <thead>\n",
       "    <tr style=\"text-align: right;\">\n",
       "      <th></th>\n",
       "      <th>word</th>\n",
       "      <th>count</th>\n",
       "    </tr>\n",
       "  </thead>\n",
       "  <tbody>\n",
       "    <tr>\n",
       "      <th>0</th>\n",
       "      <td>The</td>\n",
       "      <td>39638</td>\n",
       "    </tr>\n",
       "    <tr>\n",
       "      <th>1</th>\n",
       "      <td>You</td>\n",
       "      <td>34113</td>\n",
       "    </tr>\n",
       "    <tr>\n",
       "      <th>2</th>\n",
       "      <td>I</td>\n",
       "      <td>25289</td>\n",
       "    </tr>\n",
       "    <tr>\n",
       "      <th>3</th>\n",
       "      <td>Love</td>\n",
       "      <td>23953</td>\n",
       "    </tr>\n",
       "    <tr>\n",
       "      <th>4</th>\n",
       "      <td>Me</td>\n",
       "      <td>21005</td>\n",
       "    </tr>\n",
       "    <tr>\n",
       "      <th>...</th>\n",
       "      <td>...</td>\n",
       "      <td>...</td>\n",
       "    </tr>\n",
       "    <tr>\n",
       "      <th>11944</th>\n",
       "      <td>Pickle</td>\n",
       "      <td>1</td>\n",
       "    </tr>\n",
       "    <tr>\n",
       "      <th>11945</th>\n",
       "      <td>Midnighter</td>\n",
       "      <td>1</td>\n",
       "    </tr>\n",
       "    <tr>\n",
       "      <th>11946</th>\n",
       "      <td>Barbecue</td>\n",
       "      <td>1</td>\n",
       "    </tr>\n",
       "    <tr>\n",
       "      <th>11947</th>\n",
       "      <td>Op</td>\n",
       "      <td>1</td>\n",
       "    </tr>\n",
       "    <tr>\n",
       "      <th>11948</th>\n",
       "      <td>(As</td>\n",
       "      <td>1</td>\n",
       "    </tr>\n",
       "  </tbody>\n",
       "</table>\n",
       "<p>11949 rows × 2 columns</p>\n",
       "</div>"
      ],
      "text/plain": [
       "             word  count\n",
       "0             The  39638\n",
       "1             You  34113\n",
       "2               I  25289\n",
       "3            Love  23953\n",
       "4              Me  21005\n",
       "...           ...    ...\n",
       "11944      Pickle      1\n",
       "11945  Midnighter      1\n",
       "11946    Barbecue      1\n",
       "11947          Op      1\n",
       "11948         (As      1\n",
       "\n",
       "[11949 rows x 2 columns]"
      ]
     },
     "execution_count": 21,
     "metadata": {},
     "output_type": "execute_result"
    }
   ],
   "source": [
    "counter = Counter(\" \".join(df[\"song\"]).split()).most_common()\n",
    "pd.DataFrame.from_records(counter, columns=[\"word\", \"count\"])\n",
    "# Most common words in the billboard"
   ]
  },
  {
   "cell_type": "code",
   "execution_count": 22,
   "metadata": {
    "pycharm": {
     "name": "#%%\n"
    }
   },
   "outputs": [
    {
     "data": {
      "image/png": "[encoded data removed]",
      "text/plain": [
       "<Figure size 1440x720 with 1 Axes>"
      ]
     },
     "metadata": {
      "needs_background": "light"
     },
     "output_type": "display_data"
    }
   ],
   "source": [
    "max_weeks_on_board = df.groupby(by=[\"artist\", \"song\"])[\"weeks-on-board\"].max().value_counts()\n",
    "max_weeks_on_board.reindex(list(range(1,max_weeks_on_board.index.max()+1)),fill_value=0).plot.bar(figsize=(20, 10))\n",
    "plt.title(\"Count of the max value of weeks-on-board for each song\")\n",
    "plt.show()"
   ]
  },
  {
   "cell_type": "code",
   "execution_count": 23,
   "metadata": {
    "pycharm": {
     "name": "#%%\n"
    }
   },
   "outputs": [
    {
     "data": {
      "image/png": "[encoded data removed]",
      "text/plain": [
       "<Figure size 1440x720 with 1 Axes>"
      ]
     },
     "metadata": {
      "needs_background": "light"
     },
     "output_type": "display_data"
    }
   ],
   "source": [
    "# https://www.insider.com/every-no-1-song-debut-billboard-hot-100\n",
    "df_high = df[(df[\"rank\"] == 1) & (df[\"last-week\"].isnull()) & (df[\"weeks-on-board\"] == 1) & (df[\"date\"] != \"1958-08-04 00:00:00\")]\n",
    "df_high[\"date\"].dt.year.value_counts().sort_index().reindex(range(df.date.dt.year.min(), df.date.dt.year.max() + 1)).plot.bar(figsize=(20,10))\n",
    "plt.title(\"Meteoric entries in the billboard\")\n",
    "plt.show()"
   ]
  },
  {
   "cell_type": "code",
   "execution_count": 24,
   "metadata": {
    "pycharm": {
     "name": "#%%\n"
    }
   },
   "outputs": [
    {
     "data": {
      "image/png": "[encoded data removed]",
      "text/plain": [
       "<Figure size 1304x2376 with 64 Axes>"
      ]
     },
     "metadata": {
      "needs_background": "light"
     },
     "output_type": "display_data"
    }
   ],
   "source": [
    "tmp_year_list = []\n",
    "for year in sorted(df.date.dt.year.unique(), reverse=False):\n",
    "    df_tmp = df[df[\"date\"].dt.year == year]\n",
    "    max_weeks_on_board_count = df_tmp.groupby(by=[\"artist\", \"song\"])[\"weeks-on-board\"].max().value_counts()\n",
    "    max_weeks_on_board_count = max_weeks_on_board_count.reindex(\n",
    "                list(range(1, max_weeks_on_board_count.index.max() + 1)),\n",
    "                fill_value=0\n",
    "            )\n",
    "\n",
    "    for week, count in max_weeks_on_board_count.items():\n",
    "        tmp_year_list.append((year, week, count))\n",
    "\n",
    "weeks_on_board_year = pd.DataFrame(data=tmp_year_list, columns=[\"year\", \"week\", \"count\"])\n",
    "weeks_on_board_year = weeks_on_board_year.sort_values([\"year\", \"week\"], ascending=True)\n",
    "sns.FacetGrid(weeks_on_board_year, col=\"year\", col_wrap=6, xlim=[0,60]).map(plt.bar, \"week\", \"count\").add_legend()\n",
    "plt.show()"
   ]
  },
  {
   "cell_type": "code",
   "execution_count": 25,
   "metadata": {
    "pycharm": {
     "name": "#%%\n"
    }
   },
   "outputs": [],
   "source": [
    "def show_music_of_artist(df, artist):\n",
    "    \"\"\"\n",
    "    Plots may not display if the notebook is not trusted\n",
    "    \"\"\"\n",
    "    df_selected_artist = df[df[\"artist\"] == artist]\n",
    "    fig = go.Figure()\n",
    "\n",
    "    fig.update_yaxes(range=[100, 0])\n",
    "    fig.update_layout(\n",
    "        #title=f\"Songs ranking by {artist}\",\n",
    "        height=800,\n",
    "        xaxis_title=\"Date\",\n",
    "        yaxis_title=\"Classement\",\n",
    "        legend={\n",
    "            \"font\": {\"size\": 7},\n",
    "        }\n",
    "    )\n",
    "    \n",
    "    for song in df_selected_artist[\"song\"].unique():\n",
    "        filtered_song_df = df_selected_artist[df_selected_artist[\"song\"] == song].copy()\n",
    "        tmp = go.Scatter()\n",
    "        fig.add_scatter(\n",
    "            x=filtered_song_df[\"date\"],\n",
    "            y=filtered_song_df[\"rank\"],\n",
    "            name=song,\n",
    "            mode='lines+markers',\n",
    "\n",
    "        )\n",
    "\n",
    "    return fig"
   ]
  },
  {
   "cell_type": "code",
   "execution_count": 26,
   "metadata": {
    "pycharm": {
     "name": "#%%\n"
    }
   },
   "outputs": [
    {
     "data": {
      "application/vnd.plotly.v1+json": {
       "config": {
        "plotlyServerURL": "https://plot.ly"
       },
       "data": [
        {
         "mode": "lines+markers",
         "name": "Thriller",
         "type": "scatter",
         "x": [
          "2020-11-14T00:00:00",
          "2019-11-09T00:00:00",
          "2018-11-10T00:00:00",
          "2015-11-21T00:00:00",
          "2014-11-15T00:00:00",
          "2013-11-16T00:00:00",
          "1984-05-12T00:00:00",
          "1984-05-05T00:00:00",
          "1984-04-28T00:00:00",
          "1984-04-21T00:00:00",
          "1984-04-14T00:00:00",
          "1984-04-07T00:00:00",
          "1984-03-31T00:00:00",
          "1984-03-24T00:00:00",
          "1984-03-17T00:00:00",
          "1984-03-10T00:00:00",
          "1984-03-03T00:00:00",
          "1984-02-25T00:00:00",
          "1984-02-18T00:00:00",
          "1984-02-11T00:00:00"
         ],
         "y": [
          48,
          44,
          31,
          45,
          35,
          42,
          99,
          96,
          77,
          69,
          47,
          23,
          15,
          11,
          6,
          4,
          4,
          5,
          7,
          20
         ]
        },
        {
         "mode": "lines+markers",
         "name": "Billie Jean",
         "type": "scatter",
         "x": [
          "2014-06-07T00:00:00",
          "1983-07-02T00:00:00",
          "1983-06-25T00:00:00",
          "1983-06-18T00:00:00",
          "1983-06-11T00:00:00",
          "1983-06-04T00:00:00",
          "1983-05-28T00:00:00",
          "1983-05-21T00:00:00",
          "1983-05-14T00:00:00",
          "1983-05-07T00:00:00",
          "1983-04-30T00:00:00",
          "1983-04-23T00:00:00",
          "1983-04-16T00:00:00",
          "1983-04-09T00:00:00",
          "1983-04-02T00:00:00",
          "1983-03-26T00:00:00",
          "1983-03-19T00:00:00",
          "1983-03-12T00:00:00",
          "1983-03-05T00:00:00",
          "1983-02-26T00:00:00",
          "1983-02-19T00:00:00",
          "1983-02-12T00:00:00",
          "1983-02-05T00:00:00",
          "1983-01-29T00:00:00",
          "1983-01-22T00:00:00"
         ],
         "y": [
          14,
          98,
          73,
          70,
          65,
          58,
          42,
          29,
          24,
          14,
          7,
          5,
          1,
          1,
          1,
          1,
          1,
          1,
          1,
          4,
          6,
          23,
          27,
          37,
          47
         ]
        },
        {
         "mode": "lines+markers",
         "name": "Slave To The Rhythm",
         "type": "scatter",
         "x": [
          "2014-06-07T00:00:00"
         ],
         "y": [
          45
         ]
        },
        {
         "mode": "lines+markers",
         "name": "One More Chance",
         "type": "scatter",
         "x": [
          "2004-01-03T00:00:00",
          "2003-12-27T00:00:00",
          "2003-12-20T00:00:00",
          "2003-12-13T00:00:00",
          "2003-12-06T00:00:00"
         ],
         "y": [
          100,
          100,
          98,
          83,
          95
         ]
        },
        {
         "mode": "lines+markers",
         "name": "Butterflies",
         "type": "scatter",
         "x": [
          "2002-03-30T00:00:00",
          "2002-03-23T00:00:00",
          "2002-03-16T00:00:00",
          "2002-03-09T00:00:00",
          "2002-03-02T00:00:00",
          "2002-02-23T00:00:00",
          "2002-02-16T00:00:00",
          "2002-02-09T00:00:00",
          "2002-02-02T00:00:00",
          "2002-01-26T00:00:00",
          "2002-01-19T00:00:00",
          "2002-01-12T00:00:00",
          "2002-01-05T00:00:00",
          "2001-12-29T00:00:00",
          "2001-12-22T00:00:00",
          "2001-12-15T00:00:00",
          "2001-12-08T00:00:00",
          "2001-12-01T00:00:00",
          "2001-11-24T00:00:00",
          "2001-11-17T00:00:00"
         ],
         "y": [
          54,
          52,
          34,
          35,
          29,
          21,
          17,
          15,
          14,
          14,
          16,
          17,
          19,
          21,
          26,
          30,
          32,
          33,
          49,
          60
         ]
        },
        {
         "mode": "lines+markers",
         "name": "You Rock My World",
         "type": "scatter",
         "x": [
          "2002-01-19T00:00:00",
          "2002-01-12T00:00:00",
          "2002-01-05T00:00:00",
          "2001-12-29T00:00:00",
          "2001-12-22T00:00:00",
          "2001-12-15T00:00:00",
          "2001-12-08T00:00:00",
          "2001-12-01T00:00:00",
          "2001-11-24T00:00:00",
          "2001-11-17T00:00:00",
          "2001-11-10T00:00:00",
          "2001-11-03T00:00:00",
          "2001-10-27T00:00:00",
          "2001-10-20T00:00:00",
          "2001-10-13T00:00:00",
          "2001-10-06T00:00:00",
          "2001-09-29T00:00:00",
          "2001-09-22T00:00:00",
          "2001-09-15T00:00:00",
          "2001-09-08T00:00:00"
         ],
         "y": [
          92,
          91,
          98,
          90,
          87,
          83,
          83,
          80,
          77,
          64,
          57,
          51,
          29,
          22,
          13,
          12,
          14,
          10,
          11,
          34
         ]
        },
        {
         "mode": "lines+markers",
         "name": "Stranger In Moscow",
         "type": "scatter",
         "x": [
          "1997-08-30T00:00:00",
          "1997-08-23T00:00:00"
         ],
         "y": [
          97,
          91
         ]
        },
        {
         "mode": "lines+markers",
         "name": "Blood On The Dance Floor",
         "type": "scatter",
         "x": [
          "1997-07-19T00:00:00",
          "1997-07-12T00:00:00",
          "1997-07-05T00:00:00",
          "1997-06-28T00:00:00",
          "1997-06-21T00:00:00",
          "1997-06-14T00:00:00",
          "1997-06-07T00:00:00",
          "1997-05-31T00:00:00",
          "1997-05-24T00:00:00",
          "1997-05-17T00:00:00",
          "1997-05-10T00:00:00"
         ],
         "y": [
          96,
          93,
          91,
          86,
          72,
          68,
          59,
          57,
          48,
          44,
          42
         ]
        },
        {
         "mode": "lines+markers",
         "name": "They Don't Care About Us",
         "type": "scatter",
         "x": [
          "1996-08-31T00:00:00",
          "1996-08-24T00:00:00",
          "1996-08-17T00:00:00",
          "1996-08-10T00:00:00",
          "1996-08-03T00:00:00",
          "1996-07-27T00:00:00",
          "1996-07-20T00:00:00",
          "1996-07-13T00:00:00",
          "1996-07-06T00:00:00",
          "1996-06-29T00:00:00",
          "1996-06-22T00:00:00",
          "1996-06-15T00:00:00",
          "1996-06-08T00:00:00"
         ],
         "y": [
          97,
          89,
          86,
          72,
          65,
          58,
          45,
          44,
          38,
          30,
          30,
          30,
          30
         ]
        },
        {
         "mode": "lines+markers",
         "name": "You Are Not Alone",
         "type": "scatter",
         "x": [
          "1996-01-13T00:00:00",
          "1996-01-06T00:00:00",
          "1995-12-30T00:00:00",
          "1995-12-23T00:00:00",
          "1995-12-16T00:00:00",
          "1995-12-09T00:00:00",
          "1995-12-02T00:00:00",
          "1995-11-25T00:00:00",
          "1995-11-18T00:00:00",
          "1995-11-11T00:00:00",
          "1995-11-04T00:00:00",
          "1995-10-28T00:00:00",
          "1995-10-21T00:00:00",
          "1995-10-14T00:00:00",
          "1995-10-07T00:00:00",
          "1995-09-30T00:00:00",
          "1995-09-23T00:00:00",
          "1995-09-16T00:00:00",
          "1995-09-09T00:00:00",
          "1995-09-02T00:00:00"
         ],
         "y": [
          59,
          56,
          57,
          54,
          51,
          42,
          36,
          28,
          19,
          13,
          8,
          5,
          5,
          3,
          3,
          3,
          2,
          2,
          2,
          1
         ]
        },
        {
         "mode": "lines+markers",
         "name": "Will You Be There",
         "type": "scatter",
         "x": [
          "1993-11-27T00:00:00",
          "1993-11-20T00:00:00",
          "1993-11-13T00:00:00",
          "1993-11-06T00:00:00",
          "1993-10-30T00:00:00",
          "1993-10-23T00:00:00",
          "1993-10-16T00:00:00",
          "1993-10-09T00:00:00",
          "1993-10-02T00:00:00",
          "1993-09-25T00:00:00",
          "1993-09-18T00:00:00",
          "1993-09-11T00:00:00",
          "1993-09-04T00:00:00",
          "1993-08-28T00:00:00",
          "1993-08-21T00:00:00",
          "1993-08-14T00:00:00",
          "1993-08-07T00:00:00",
          "1993-07-31T00:00:00",
          "1993-07-24T00:00:00",
          "1993-07-17T00:00:00"
         ],
         "y": [
          60,
          53,
          46,
          40,
          32,
          26,
          17,
          8,
          7,
          7,
          8,
          7,
          8,
          12,
          14,
          24,
          27,
          36,
          45,
          63
         ]
        },
        {
         "mode": "lines+markers",
         "name": "Who Is It",
         "type": "scatter",
         "x": [
          "1993-08-07T00:00:00",
          "1993-07-31T00:00:00",
          "1993-07-24T00:00:00",
          "1993-07-17T00:00:00",
          "1993-07-10T00:00:00",
          "1993-07-03T00:00:00",
          "1993-06-26T00:00:00",
          "1993-06-19T00:00:00",
          "1993-06-12T00:00:00",
          "1993-06-05T00:00:00",
          "1993-05-29T00:00:00",
          "1993-05-22T00:00:00",
          "1993-05-15T00:00:00",
          "1993-05-08T00:00:00",
          "1993-05-01T00:00:00",
          "1993-04-24T00:00:00",
          "1993-04-17T00:00:00",
          "1993-04-10T00:00:00"
         ],
         "y": [
          99,
          91,
          81,
          72,
          70,
          61,
          50,
          39,
          32,
          21,
          18,
          14,
          14,
          15,
          18,
          25,
          33,
          44
         ]
        },
        {
         "mode": "lines+markers",
         "name": "Heal The World",
         "type": "scatter",
         "x": [
          "1993-04-24T00:00:00",
          "1993-04-17T00:00:00",
          "1993-04-10T00:00:00",
          "1993-04-03T00:00:00",
          "1993-03-27T00:00:00",
          "1993-03-20T00:00:00",
          "1993-03-13T00:00:00",
          "1993-03-06T00:00:00",
          "1993-02-27T00:00:00",
          "1993-02-20T00:00:00",
          "1993-02-13T00:00:00",
          "1993-02-06T00:00:00",
          "1993-01-30T00:00:00",
          "1993-01-23T00:00:00",
          "1993-01-16T00:00:00",
          "1993-01-09T00:00:00",
          "1993-01-02T00:00:00",
          "1992-12-26T00:00:00",
          "1992-12-19T00:00:00",
          "1992-12-12T00:00:00"
         ],
         "y": [
          42,
          39,
          35,
          32,
          29,
          27,
          28,
          34,
          36,
          54,
          65,
          56,
          52,
          53,
          54,
          54,
          54,
          54,
          62,
          74
         ]
        },
        {
         "mode": "lines+markers",
         "name": "Jam",
         "type": "scatter",
         "x": [
          "1992-10-10T00:00:00",
          "1992-10-03T00:00:00",
          "1992-09-26T00:00:00",
          "1992-09-19T00:00:00",
          "1992-09-12T00:00:00",
          "1992-09-05T00:00:00",
          "1992-08-29T00:00:00",
          "1992-08-22T00:00:00",
          "1992-08-15T00:00:00",
          "1992-08-08T00:00:00",
          "1992-08-01T00:00:00",
          "1992-07-25T00:00:00",
          "1992-07-18T00:00:00",
          "1992-07-11T00:00:00"
         ],
         "y": [
          96,
          87,
          73,
          59,
          39,
          29,
          28,
          26,
          26,
          26,
          27,
          31,
          35,
          64
         ]
        },
        {
         "mode": "lines+markers",
         "name": "In The Closet",
         "type": "scatter",
         "x": [
          "1992-09-05T00:00:00",
          "1992-08-29T00:00:00",
          "1992-08-22T00:00:00",
          "1992-08-15T00:00:00",
          "1992-08-08T00:00:00",
          "1992-08-01T00:00:00",
          "1992-07-25T00:00:00",
          "1992-07-18T00:00:00",
          "1992-07-11T00:00:00",
          "1992-07-04T00:00:00",
          "1992-06-27T00:00:00",
          "1992-06-20T00:00:00",
          "1992-06-13T00:00:00",
          "1992-06-06T00:00:00",
          "1992-05-30T00:00:00",
          "1992-05-23T00:00:00",
          "1992-05-16T00:00:00",
          "1992-05-09T00:00:00",
          "1992-05-02T00:00:00",
          "1992-04-25T00:00:00"
         ],
         "y": [
          100,
          90,
          88,
          79,
          68,
          65,
          56,
          44,
          35,
          22,
          15,
          12,
          9,
          8,
          6,
          10,
          12,
          14,
          26,
          46
         ]
        },
        {
         "mode": "lines+markers",
         "name": "Remember The Time",
         "type": "scatter",
         "x": [
          "1992-06-06T00:00:00",
          "1992-05-30T00:00:00",
          "1992-05-23T00:00:00",
          "1992-05-16T00:00:00",
          "1992-05-09T00:00:00",
          "1992-05-02T00:00:00",
          "1992-04-25T00:00:00",
          "1992-04-18T00:00:00",
          "1992-04-11T00:00:00",
          "1992-04-04T00:00:00",
          "1992-03-28T00:00:00",
          "1992-03-21T00:00:00",
          "1992-03-14T00:00:00",
          "1992-03-07T00:00:00",
          "1992-02-29T00:00:00",
          "1992-02-22T00:00:00",
          "1992-02-15T00:00:00",
          "1992-02-08T00:00:00",
          "1992-02-01T00:00:00",
          "1992-01-25T00:00:00"
         ],
         "y": [
          52,
          49,
          45,
          34,
          27,
          23,
          16,
          11,
          4,
          3,
          3,
          4,
          3,
          3,
          4,
          5,
          8,
          13,
          20,
          53
         ]
        },
        {
         "mode": "lines+markers",
         "name": "Black Or White",
         "type": "scatter",
         "x": [
          "1992-04-04T00:00:00",
          "1992-03-28T00:00:00",
          "1992-03-21T00:00:00",
          "1992-03-14T00:00:00",
          "1992-03-07T00:00:00",
          "1992-02-29T00:00:00",
          "1992-02-22T00:00:00",
          "1992-02-15T00:00:00",
          "1992-02-08T00:00:00",
          "1992-02-01T00:00:00",
          "1992-01-25T00:00:00",
          "1992-01-18T00:00:00",
          "1992-01-11T00:00:00",
          "1992-01-04T00:00:00",
          "1991-12-28T00:00:00",
          "1991-12-21T00:00:00",
          "1991-12-14T00:00:00",
          "1991-12-07T00:00:00",
          "1991-11-30T00:00:00",
          "1991-11-23T00:00:00"
         ],
         "y": [
          83,
          75,
          71,
          61,
          52,
          35,
          29,
          20,
          15,
          9,
          4,
          1,
          1,
          1,
          1,
          1,
          1,
          1,
          3,
          35
         ]
        },
        {
         "mode": "lines+markers",
         "name": "Smooth Criminal",
         "type": "scatter",
         "x": [
          "1989-02-18T00:00:00",
          "1989-02-11T00:00:00",
          "1989-02-04T00:00:00",
          "1989-01-28T00:00:00",
          "1989-01-21T00:00:00",
          "1989-01-14T00:00:00",
          "1989-01-07T00:00:00",
          "1988-12-31T00:00:00",
          "1988-12-24T00:00:00",
          "1988-12-17T00:00:00",
          "1988-12-10T00:00:00",
          "1988-12-03T00:00:00",
          "1988-11-26T00:00:00",
          "1988-11-19T00:00:00",
          "1988-11-12T00:00:00"
         ],
         "y": [
          80,
          51,
          31,
          15,
          7,
          7,
          10,
          13,
          13,
          20,
          25,
          32,
          38,
          49,
          66
         ]
        },
        {
         "mode": "lines+markers",
         "name": "Another Part Of Me",
         "type": "scatter",
         "x": [
          "1988-10-15T00:00:00",
          "1988-10-08T00:00:00",
          "1988-10-01T00:00:00",
          "1988-09-24T00:00:00",
          "1988-09-17T00:00:00",
          "1988-09-10T00:00:00",
          "1988-09-03T00:00:00",
          "1988-08-27T00:00:00",
          "1988-08-20T00:00:00",
          "1988-08-13T00:00:00",
          "1988-08-06T00:00:00",
          "1988-07-30T00:00:00",
          "1988-07-23T00:00:00"
         ],
         "y": [
          96,
          83,
          45,
          30,
          12,
          11,
          12,
          17,
          20,
          25,
          31,
          43,
          54
         ]
        },
        {
         "mode": "lines+markers",
         "name": "Dirty Diana",
         "type": "scatter",
         "x": [
          "1988-08-06T00:00:00",
          "1988-07-30T00:00:00",
          "1988-07-23T00:00:00",
          "1988-07-16T00:00:00",
          "1988-07-09T00:00:00",
          "1988-07-02T00:00:00",
          "1988-06-25T00:00:00",
          "1988-06-18T00:00:00",
          "1988-06-11T00:00:00",
          "1988-06-04T00:00:00",
          "1988-05-28T00:00:00",
          "1988-05-21T00:00:00",
          "1988-05-14T00:00:00",
          "1988-05-07T00:00:00"
         ],
         "y": [
          77,
          51,
          30,
          15,
          5,
          1,
          2,
          4,
          8,
          12,
          17,
          29,
          40,
          53
         ]
        },
        {
         "mode": "lines+markers",
         "name": "Man In The Mirror",
         "type": "scatter",
         "x": [
          "1988-05-28T00:00:00",
          "1988-05-21T00:00:00",
          "1988-05-14T00:00:00",
          "1988-05-07T00:00:00",
          "1988-04-30T00:00:00",
          "1988-04-23T00:00:00",
          "1988-04-16T00:00:00",
          "1988-04-09T00:00:00",
          "1988-04-02T00:00:00",
          "1988-03-26T00:00:00",
          "1988-03-19T00:00:00",
          "1988-03-12T00:00:00",
          "1988-03-05T00:00:00",
          "1988-02-27T00:00:00",
          "1988-02-20T00:00:00",
          "1988-02-13T00:00:00",
          "1988-02-06T00:00:00"
         ],
         "y": [
          97,
          71,
          52,
          31,
          19,
          11,
          4,
          2,
          1,
          1,
          4,
          7,
          9,
          17,
          27,
          36,
          48
         ]
        },
        {
         "mode": "lines+markers",
         "name": "The Way You Make Me Feel",
         "type": "scatter",
         "x": [
          "1988-03-19T00:00:00",
          "1988-03-12T00:00:00",
          "1988-03-05T00:00:00",
          "1988-02-27T00:00:00",
          "1988-02-20T00:00:00",
          "1988-02-13T00:00:00",
          "1988-02-06T00:00:00",
          "1988-01-30T00:00:00",
          "1988-01-23T00:00:00",
          "1988-01-16T00:00:00",
          "1988-01-09T00:00:00",
          "1988-01-02T00:00:00",
          "1987-12-26T00:00:00",
          "1987-12-19T00:00:00",
          "1987-12-12T00:00:00",
          "1987-12-05T00:00:00",
          "1987-11-28T00:00:00",
          "1987-11-21T00:00:00"
         ],
         "y": [
          98,
          88,
          72,
          52,
          37,
          24,
          12,
          4,
          1,
          3,
          5,
          7,
          7,
          11,
          17,
          29,
          35,
          44
         ]
        },
        {
         "mode": "lines+markers",
         "name": "Bad",
         "type": "scatter",
         "x": [
          "1987-12-19T00:00:00",
          "1987-12-12T00:00:00",
          "1987-12-05T00:00:00",
          "1987-11-28T00:00:00",
          "1987-11-21T00:00:00",
          "1987-11-14T00:00:00",
          "1987-11-07T00:00:00",
          "1987-10-31T00:00:00",
          "1987-10-24T00:00:00",
          "1987-10-17T00:00:00",
          "1987-10-10T00:00:00",
          "1987-10-03T00:00:00",
          "1987-09-26T00:00:00",
          "1987-09-19T00:00:00"
         ],
         "y": [
          100,
          71,
          55,
          37,
          24,
          11,
          5,
          1,
          1,
          4,
          8,
          16,
          29,
          40
         ]
        },
        {
         "mode": "lines+markers",
         "name": "Farewell My Summer Love",
         "type": "scatter",
         "x": [
          "1984-08-11T00:00:00",
          "1984-08-04T00:00:00",
          "1984-07-28T00:00:00",
          "1984-07-21T00:00:00",
          "1984-07-14T00:00:00",
          "1984-07-07T00:00:00",
          "1984-06-30T00:00:00",
          "1984-06-23T00:00:00",
          "1984-06-16T00:00:00",
          "1984-06-09T00:00:00",
          "1984-06-02T00:00:00",
          "1984-05-26T00:00:00"
         ],
         "y": [
          81,
          68,
          65,
          59,
          55,
          38,
          38,
          40,
          43,
          51,
          58,
          81
         ]
        },
        {
         "mode": "lines+markers",
         "name": "P.Y.T. (Pretty Young Thing)",
         "type": "scatter",
         "x": [
          "1984-01-21T00:00:00",
          "1984-01-14T00:00:00",
          "1984-01-07T00:00:00",
          "1983-12-31T00:00:00",
          "1983-12-24T00:00:00",
          "1983-12-17T00:00:00",
          "1983-12-10T00:00:00",
          "1983-12-03T00:00:00",
          "1983-11-26T00:00:00",
          "1983-11-19T00:00:00",
          "1983-11-12T00:00:00",
          "1983-11-05T00:00:00",
          "1983-10-29T00:00:00",
          "1983-10-22T00:00:00",
          "1983-10-15T00:00:00",
          "1983-10-08T00:00:00"
         ],
         "y": [
          75,
          71,
          64,
          47,
          47,
          36,
          20,
          12,
          10,
          13,
          18,
          20,
          23,
          32,
          55,
          75
         ]
        },
        {
         "mode": "lines+markers",
         "name": "Human Nature",
         "type": "scatter",
         "x": [
          "1983-10-22T00:00:00",
          "1983-10-15T00:00:00",
          "1983-10-08T00:00:00",
          "1983-10-01T00:00:00",
          "1983-09-24T00:00:00",
          "1983-09-17T00:00:00",
          "1983-09-10T00:00:00",
          "1983-09-03T00:00:00",
          "1983-08-27T00:00:00",
          "1983-08-20T00:00:00",
          "1983-08-13T00:00:00",
          "1983-08-06T00:00:00",
          "1983-07-30T00:00:00",
          "1983-07-23T00:00:00"
         ],
         "y": [
          87,
          61,
          24,
          15,
          7,
          7,
          9,
          10,
          13,
          15,
          23,
          27,
          35,
          48
         ]
        },
        {
         "mode": "lines+markers",
         "name": "Wanna Be Startin' Somethin'",
         "type": "scatter",
         "x": [
          "1983-09-03T00:00:00",
          "1983-08-27T00:00:00",
          "1983-08-20T00:00:00",
          "1983-08-13T00:00:00",
          "1983-08-06T00:00:00",
          "1983-07-30T00:00:00",
          "1983-07-23T00:00:00",
          "1983-07-16T00:00:00",
          "1983-07-09T00:00:00",
          "1983-07-02T00:00:00",
          "1983-06-25T00:00:00",
          "1983-06-18T00:00:00",
          "1983-06-11T00:00:00",
          "1983-06-04T00:00:00",
          "1983-05-28T00:00:00"
         ],
         "y": [
          89,
          66,
          46,
          17,
          10,
          7,
          5,
          5,
          6,
          9,
          15,
          17,
          19,
          22,
          41
         ]
        },
        {
         "mode": "lines+markers",
         "name": "Beat It",
         "type": "scatter",
         "x": [
          "1983-08-13T00:00:00",
          "1983-08-06T00:00:00",
          "1983-07-30T00:00:00",
          "1983-07-23T00:00:00",
          "1983-07-16T00:00:00",
          "1983-07-09T00:00:00",
          "1983-07-02T00:00:00",
          "1983-06-25T00:00:00",
          "1983-06-18T00:00:00",
          "1983-06-11T00:00:00",
          "1983-06-04T00:00:00",
          "1983-05-28T00:00:00",
          "1983-05-21T00:00:00",
          "1983-05-14T00:00:00",
          "1983-05-07T00:00:00",
          "1983-04-30T00:00:00",
          "1983-04-23T00:00:00",
          "1983-04-16T00:00:00",
          "1983-04-09T00:00:00",
          "1983-04-02T00:00:00",
          "1983-03-26T00:00:00",
          "1983-03-19T00:00:00",
          "1983-03-12T00:00:00",
          "1983-03-05T00:00:00",
          "1983-02-26T00:00:00"
         ],
         "y": [
          99,
          87,
          74,
          53,
          33,
          24,
          16,
          11,
          11,
          6,
          6,
          3,
          2,
          1,
          1,
          1,
          2,
          5,
          10,
          14,
          15,
          24,
          44,
          65,
          78
         ]
        },
        {
         "mode": "lines+markers",
         "name": "One Day In Your Life",
         "type": "scatter",
         "x": [
          "1981-05-30T00:00:00",
          "1981-05-23T00:00:00",
          "1981-05-16T00:00:00",
          "1981-05-09T00:00:00",
          "1981-05-02T00:00:00",
          "1981-04-25T00:00:00",
          "1981-04-18T00:00:00"
         ],
         "y": [
          97,
          68,
          55,
          58,
          62,
          70,
          81
         ]
        },
        {
         "mode": "lines+markers",
         "name": "She's Out Of My Life",
         "type": "scatter",
         "x": [
          "1980-08-02T00:00:00",
          "1980-07-26T00:00:00",
          "1980-07-19T00:00:00",
          "1980-07-12T00:00:00",
          "1980-07-05T00:00:00",
          "1980-06-28T00:00:00",
          "1980-06-21T00:00:00",
          "1980-06-14T00:00:00",
          "1980-06-07T00:00:00",
          "1980-05-31T00:00:00",
          "1980-05-24T00:00:00",
          "1980-05-17T00:00:00",
          "1980-05-10T00:00:00",
          "1980-05-03T00:00:00",
          "1980-04-26T00:00:00",
          "1980-04-19T00:00:00"
         ],
         "y": [
          96,
          54,
          35,
          24,
          13,
          10,
          10,
          11,
          12,
          17,
          19,
          26,
          30,
          41,
          49,
          57
         ]
        },
        {
         "mode": "lines+markers",
         "name": "Off The Wall",
         "type": "scatter",
         "x": [
          "1980-06-07T00:00:00",
          "1980-05-31T00:00:00",
          "1980-05-24T00:00:00",
          "1980-05-17T00:00:00",
          "1980-05-10T00:00:00",
          "1980-05-03T00:00:00",
          "1980-04-26T00:00:00",
          "1980-04-19T00:00:00",
          "1980-04-12T00:00:00",
          "1980-04-05T00:00:00",
          "1980-03-29T00:00:00",
          "1980-03-22T00:00:00",
          "1980-03-15T00:00:00",
          "1980-03-08T00:00:00",
          "1980-03-01T00:00:00",
          "1980-02-23T00:00:00",
          "1980-02-16T00:00:00"
         ],
         "y": [
          100,
          98,
          100,
          70,
          59,
          30,
          16,
          10,
          10,
          12,
          14,
          17,
          20,
          29,
          33,
          37,
          53
         ]
        },
        {
         "mode": "lines+markers",
         "name": "Rock With You",
         "type": "scatter",
         "x": [
          "1980-04-12T00:00:00",
          "1980-04-05T00:00:00",
          "1980-03-29T00:00:00",
          "1980-03-22T00:00:00",
          "1980-03-15T00:00:00",
          "1980-03-08T00:00:00",
          "1980-03-01T00:00:00",
          "1980-02-23T00:00:00",
          "1980-02-16T00:00:00",
          "1980-02-09T00:00:00",
          "1980-02-02T00:00:00",
          "1980-01-26T00:00:00",
          "1980-01-19T00:00:00",
          "1980-01-12T00:00:00",
          "1980-01-05T00:00:00",
          "1979-12-29T00:00:00",
          "1979-12-22T00:00:00",
          "1979-12-15T00:00:00",
          "1979-12-08T00:00:00",
          "1979-12-01T00:00:00",
          "1979-11-24T00:00:00",
          "1979-11-17T00:00:00",
          "1979-11-10T00:00:00",
          "1979-11-03T00:00:00"
         ],
         "y": [
          96,
          54,
          38,
          30,
          27,
          14,
          8,
          5,
          5,
          1,
          1,
          1,
          1,
          2,
          3,
          11,
          11,
          12,
          21,
          29,
          35,
          59,
          64,
          76
         ]
        },
        {
         "mode": "lines+markers",
         "name": "Don't Stop 'til You Get Enough",
         "type": "scatter",
         "x": [
          "1979-12-15T00:00:00",
          "1979-12-08T00:00:00",
          "1979-12-01T00:00:00",
          "1979-11-24T00:00:00",
          "1979-11-17T00:00:00",
          "1979-11-10T00:00:00",
          "1979-11-03T00:00:00",
          "1979-10-27T00:00:00",
          "1979-10-20T00:00:00",
          "1979-10-13T00:00:00",
          "1979-10-06T00:00:00",
          "1979-09-29T00:00:00",
          "1979-09-22T00:00:00",
          "1979-09-15T00:00:00",
          "1979-09-08T00:00:00",
          "1979-09-01T00:00:00",
          "1979-08-25T00:00:00",
          "1979-08-18T00:00:00",
          "1979-08-11T00:00:00",
          "1979-08-04T00:00:00",
          "1979-07-28T00:00:00"
         ],
         "y": [
          98,
          84,
          64,
          47,
          13,
          12,
          6,
          3,
          2,
          1,
          2,
          4,
          12,
          28,
          32,
          35,
          54,
          64,
          73,
          77,
          87
         ]
        },
        {
         "mode": "lines+markers",
         "name": "You Can't Win (Part 1)",
         "type": "scatter",
         "x": [
          "1979-03-10T00:00:00",
          "1979-03-03T00:00:00",
          "1979-02-24T00:00:00"
         ],
         "y": [
          95,
          81,
          83
         ]
        },
        {
         "mode": "lines+markers",
         "name": "Just A Little Bit Of You",
         "type": "scatter",
         "x": [
          "1975-08-23T00:00:00",
          "1975-08-16T00:00:00",
          "1975-08-09T00:00:00",
          "1975-08-02T00:00:00",
          "1975-07-26T00:00:00",
          "1975-07-19T00:00:00",
          "1975-07-12T00:00:00",
          "1975-07-05T00:00:00",
          "1975-06-28T00:00:00",
          "1975-06-21T00:00:00",
          "1975-06-14T00:00:00",
          "1975-06-07T00:00:00"
         ],
         "y": [
          51,
          23,
          23,
          26,
          30,
          34,
          38,
          49,
          59,
          69,
          79,
          90
         ]
        },
        {
         "mode": "lines+markers",
         "name": "We're Almost There",
         "type": "scatter",
         "x": [
          "1975-04-19T00:00:00",
          "1975-04-12T00:00:00",
          "1975-04-05T00:00:00",
          "1975-03-29T00:00:00",
          "1975-03-22T00:00:00",
          "1975-03-15T00:00:00",
          "1975-03-08T00:00:00",
          "1975-03-01T00:00:00"
         ],
         "y": [
          73,
          57,
          54,
          58,
          58,
          68,
          78,
          89
         ]
        },
        {
         "mode": "lines+markers",
         "name": "With A Child's Heart",
         "type": "scatter",
         "x": [
          "1973-06-16T00:00:00",
          "1973-06-09T00:00:00",
          "1973-06-02T00:00:00",
          "1973-05-26T00:00:00",
          "1973-05-19T00:00:00",
          "1973-05-12T00:00:00",
          "1973-05-05T00:00:00"
         ],
         "y": [
          56,
          55,
          50,
          51,
          55,
          71,
          84
         ]
        },
        {
         "mode": "lines+markers",
         "name": "Ben",
         "type": "scatter",
         "x": [
          "1972-11-18T00:00:00",
          "1972-11-11T00:00:00",
          "1972-11-04T00:00:00",
          "1972-10-28T00:00:00",
          "1972-10-21T00:00:00",
          "1972-10-14T00:00:00",
          "1972-10-07T00:00:00",
          "1972-09-30T00:00:00",
          "1972-09-23T00:00:00",
          "1972-09-16T00:00:00",
          "1972-09-09T00:00:00",
          "1972-09-02T00:00:00",
          "1972-08-26T00:00:00",
          "1972-08-19T00:00:00",
          "1972-08-12T00:00:00",
          "1972-08-05T00:00:00"
         ],
         "y": [
          35,
          17,
          10,
          8,
          6,
          1,
          2,
          5,
          6,
          13,
          26,
          43,
          51,
          61,
          75,
          85
         ]
        },
        {
         "mode": "lines+markers",
         "name": "I Wanna Be Where You Are",
         "type": "scatter",
         "x": [
          "1972-08-05T00:00:00",
          "1972-07-29T00:00:00",
          "1972-07-22T00:00:00",
          "1972-07-15T00:00:00",
          "1972-07-08T00:00:00",
          "1972-07-01T00:00:00",
          "1972-06-24T00:00:00",
          "1972-06-17T00:00:00",
          "1972-06-10T00:00:00",
          "1972-06-03T00:00:00",
          "1972-05-27T00:00:00"
         ],
         "y": [
          37,
          24,
          16,
          16,
          18,
          21,
          27,
          33,
          38,
          49,
          59
         ]
        },
        {
         "mode": "lines+markers",
         "name": "Rockin' Robin",
         "type": "scatter",
         "x": [
          "1972-06-03T00:00:00",
          "1972-05-27T00:00:00",
          "1972-05-20T00:00:00",
          "1972-05-13T00:00:00",
          "1972-05-06T00:00:00",
          "1972-04-29T00:00:00",
          "1972-04-22T00:00:00",
          "1972-04-15T00:00:00",
          "1972-04-08T00:00:00",
          "1972-04-01T00:00:00",
          "1972-03-25T00:00:00",
          "1972-03-18T00:00:00",
          "1972-03-11T00:00:00"
         ],
         "y": [
          48,
          26,
          6,
          5,
          4,
          2,
          2,
          4,
          5,
          9,
          14,
          33,
          68
         ]
        },
        {
         "mode": "lines+markers",
         "name": "Got To Be There",
         "type": "scatter",
         "x": [
          "1972-01-29T00:00:00",
          "1972-01-22T00:00:00",
          "1972-01-15T00:00:00",
          "1972-01-08T00:00:00",
          "1972-01-01T00:00:00",
          "1971-12-25T00:00:00",
          "1971-12-18T00:00:00",
          "1971-12-11T00:00:00",
          "1971-12-04T00:00:00",
          "1971-11-27T00:00:00",
          "1971-11-20T00:00:00",
          "1971-11-13T00:00:00",
          "1971-11-06T00:00:00",
          "1971-10-30T00:00:00"
         ],
         "y": [
          31,
          15,
          8,
          5,
          5,
          5,
          5,
          4,
          6,
          7,
          9,
          13,
          39,
          89
         ]
        }
       ],
       "layout": {
        "height": 800,
        "legend": {
         "font": {
          "size": 7
         }
        },
        "template": {
         "data": {
          "bar": [
           {
            "error_x": {
             "color": "#2a3f5f"
            },
            "error_y": {
             "color": "#2a3f5f"
            },
            "marker": {
             "line": {
              "color": "#E5ECF6",
              "width": 0.5
             },
             "pattern": {
              "fillmode": "overlay",
              "size": 10,
              "solidity": 0.2
             }
            },
            "type": "bar"
           }
          ],
          "barpolar": [
           {
            "marker": {
             "line": {
              "color": "#E5ECF6",
              "width": 0.5
             },
             "pattern": {
              "fillmode": "overlay",
              "size": 10,
              "solidity": 0.2
             }
            },
            "type": "barpolar"
           }
          ],
          "carpet": [
           {
            "aaxis": {
             "endlinecolor": "#2a3f5f",
             "gridcolor": "white",
             "linecolor": "white",
             "minorgridcolor": "white",
             "startlinecolor": "#2a3f5f"
            },
            "baxis": {
             "endlinecolor": "#2a3f5f",
             "gridcolor": "white",
             "linecolor": "white",
             "minorgridcolor": "white",
             "startlinecolor": "#2a3f5f"
            },
            "type": "carpet"
           }
          ],
          "choropleth": [
           {
            "colorbar": {
             "outlinewidth": 0,
             "ticks": ""
            },
            "type": "choropleth"
           }
          ],
          "contour": [
           {
            "colorbar": {
             "outlinewidth": 0,
             "ticks": ""
            },
            "colorscale": [
             [
              0,
              "#0d0887"
             ],
             [
              0.1111111111111111,
              "#46039f"
             ],
             [
              0.2222222222222222,
              "#7201a8"
             ],
             [
              0.3333333333333333,
              "#9c179e"
             ],
             [
              0.4444444444444444,
              "#bd3786"
             ],
             [
              0.5555555555555556,
              "#d8576b"
             ],
             [
              0.6666666666666666,
              "#ed7953"
             ],
             [
              0.7777777777777778,
              "#fb9f3a"
             ],
             [
              0.8888888888888888,
              "#fdca26"
             ],
             [
              1,
              "#f0f921"
             ]
            ],
            "type": "contour"
           }
          ],
          "contourcarpet": [
           {
            "colorbar": {
             "outlinewidth": 0,
             "ticks": ""
            },
            "type": "contourcarpet"
           }
          ],
          "heatmap": [
           {
            "colorbar": {
             "outlinewidth": 0,
             "ticks": ""
            },
            "colorscale": [
             [
              0,
              "#0d0887"
             ],
             [
              0.1111111111111111,
              "#46039f"
             ],
             [
              0.2222222222222222,
              "#7201a8"
             ],
             [
              0.3333333333333333,
              "#9c179e"
             ],
             [
              0.4444444444444444,
              "#bd3786"
             ],
             [
              0.5555555555555556,
              "#d8576b"
             ],
             [
              0.6666666666666666,
              "#ed7953"
             ],
             [
              0.7777777777777778,
              "#fb9f3a"
             ],
             [
              0.8888888888888888,
              "#fdca26"
             ],
             [
              1,
              "#f0f921"
             ]
            ],
            "type": "heatmap"
           }
          ],
          "heatmapgl": [
           {
            "colorbar": {
             "outlinewidth": 0,
             "ticks": ""
            },
            "colorscale": [
             [
              0,
              "#0d0887"
             ],
             [
              0.1111111111111111,
              "#46039f"
             ],
             [
              0.2222222222222222,
              "#7201a8"
             ],
             [
              0.3333333333333333,
              "#9c179e"
             ],
             [
              0.4444444444444444,
              "#bd3786"
             ],
             [
              0.5555555555555556,
              "#d8576b"
             ],
             [
              0.6666666666666666,
              "#ed7953"
             ],
             [
              0.7777777777777778,
              "#fb9f3a"
             ],
             [
              0.8888888888888888,
              "#fdca26"
             ],
             [
              1,
              "#f0f921"
             ]
            ],
            "type": "heatmapgl"
           }
          ],
          "histogram": [
           {
            "marker": {
             "pattern": {
              "fillmode": "overlay",
              "size": 10,
              "solidity": 0.2
             }
            },
            "type": "histogram"
           }
          ],
          "histogram2d": [
           {
            "colorbar": {
             "outlinewidth": 0,
             "ticks": ""
            },
            "colorscale": [
             [
              0,
              "#0d0887"
             ],
             [
              0.1111111111111111,
              "#46039f"
             ],
             [
              0.2222222222222222,
              "#7201a8"
             ],
             [
              0.3333333333333333,
              "#9c179e"
             ],
             [
              0.4444444444444444,
              "#bd3786"
             ],
             [
              0.5555555555555556,
              "#d8576b"
             ],
             [
              0.6666666666666666,
              "#ed7953"
             ],
             [
              0.7777777777777778,
              "#fb9f3a"
             ],
             [
              0.8888888888888888,
              "#fdca26"
             ],
             [
              1,
              "#f0f921"
             ]
            ],
            "type": "histogram2d"
           }
          ],
          "histogram2dcontour": [
           {
            "colorbar": {
             "outlinewidth": 0,
             "ticks": ""
            },
            "colorscale": [
             [
              0,
              "#0d0887"
             ],
             [
              0.1111111111111111,
              "#46039f"
             ],
             [
              0.2222222222222222,
              "#7201a8"
             ],
             [
              0.3333333333333333,
              "#9c179e"
             ],
             [
              0.4444444444444444,
              "#bd3786"
             ],
             [
              0.5555555555555556,
              "#d8576b"
             ],
             [
              0.6666666666666666,
              "#ed7953"
             ],
             [
              0.7777777777777778,
              "#fb9f3a"
             ],
             [
              0.8888888888888888,
              "#fdca26"
             ],
             [
              1,
              "#f0f921"
             ]
            ],
            "type": "histogram2dcontour"
           }
          ],
          "mesh3d": [
           {
            "colorbar": {
             "outlinewidth": 0,
             "ticks": ""
            },
            "type": "mesh3d"
           }
          ],
          "parcoords": [
           {
            "line": {
             "colorbar": {
              "outlinewidth": 0,
              "ticks": ""
             }
            },
            "type": "parcoords"
           }
          ],
          "pie": [
           {
            "automargin": true,
            "type": "pie"
           }
          ],
          "scatter": [
           {
            "fillpattern": {
             "fillmode": "overlay",
             "size": 10,
             "solidity": 0.2
            },
            "type": "scatter"
           }
          ],
          "scatter3d": [
           {
            "line": {
             "colorbar": {
              "outlinewidth": 0,
              "ticks": ""
             }
            },
            "marker": {
             "colorbar": {
              "outlinewidth": 0,
              "ticks": ""
             }
            },
            "type": "scatter3d"
           }
          ],
          "scattercarpet": [
           {
            "marker": {
             "colorbar": {
              "outlinewidth": 0,
              "ticks": ""
             }
            },
            "type": "scattercarpet"
           }
          ],
          "scattergeo": [
           {
            "marker": {
             "colorbar": {
              "outlinewidth": 0,
              "ticks": ""
             }
            },
            "type": "scattergeo"
           }
          ],
          "scattergl": [
           {
            "marker": {
             "colorbar": {
              "outlinewidth": 0,
              "ticks": ""
             }
            },
            "type": "scattergl"
           }
          ],
          "scattermapbox": [
           {
            "marker": {
             "colorbar": {
              "outlinewidth": 0,
              "ticks": ""
             }
            },
            "type": "scattermapbox"
           }
          ],
          "scatterpolar": [
           {
            "marker": {
             "colorbar": {
              "outlinewidth": 0,
              "ticks": ""
             }
            },
            "type": "scatterpolar"
           }
          ],
          "scatterpolargl": [
           {
            "marker": {
             "colorbar": {
              "outlinewidth": 0,
              "ticks": ""
             }
            },
            "type": "scatterpolargl"
           }
          ],
          "scatterternary": [
           {
            "marker": {
             "colorbar": {
              "outlinewidth": 0,
              "ticks": ""
             }
            },
            "type": "scatterternary"
           }
          ],
          "surface": [
           {
            "colorbar": {
             "outlinewidth": 0,
             "ticks": ""
            },
            "colorscale": [
             [
              0,
              "#0d0887"
             ],
             [
              0.1111111111111111,
              "#46039f"
             ],
             [
              0.2222222222222222,
              "#7201a8"
             ],
             [
              0.3333333333333333,
              "#9c179e"
             ],
             [
              0.4444444444444444,
              "#bd3786"
             ],
             [
              0.5555555555555556,
              "#d8576b"
             ],
             [
              0.6666666666666666,
              "#ed7953"
             ],
             [
              0.7777777777777778,
              "#fb9f3a"
             ],
             [
              0.8888888888888888,
              "#fdca26"
             ],
             [
              1,
              "#f0f921"
             ]
            ],
            "type": "surface"
           }
          ],
          "table": [
           {
            "cells": {
             "fill": {
              "color": "#EBF0F8"
             },
             "line": {
              "color": "white"
             }
            },
            "header": {
             "fill": {
              "color": "#C8D4E3"
             },
             "line": {
              "color": "white"
             }
            },
            "type": "table"
           }
          ]
         },
         "layout": {
          "annotationdefaults": {
           "arrowcolor": "#2a3f5f",
           "arrowhead": 0,
           "arrowwidth": 1
          },
          "autotypenumbers": "strict",
          "coloraxis": {
           "colorbar": {
            "outlinewidth": 0,
            "ticks": ""
           }
          },
          "colorscale": {
           "diverging": [
            [
             0,
             "#8e0152"
            ],
            [
             0.1,
             "#c51b7d"
            ],
            [
             0.2,
             "#de77ae"
            ],
            [
             0.3,
             "#f1b6da"
            ],
            [
             0.4,
             "#fde0ef"
            ],
            [
             0.5,
             "#f7f7f7"
            ],
            [
             0.6,
             "#e6f5d0"
            ],
            [
             0.7,
             "#b8e186"
            ],
            [
             0.8,
             "#7fbc41"
            ],
            [
             0.9,
             "#4d9221"
            ],
            [
             1,
             "#276419"
            ]
           ],
           "sequential": [
            [
             0,
             "#0d0887"
            ],
            [
             0.1111111111111111,
             "#46039f"
            ],
            [
             0.2222222222222222,
             "#7201a8"
            ],
            [
             0.3333333333333333,
             "#9c179e"
            ],
            [
             0.4444444444444444,
             "#bd3786"
            ],
            [
             0.5555555555555556,
             "#d8576b"
            ],
            [
             0.6666666666666666,
             "#ed7953"
            ],
            [
             0.7777777777777778,
             "#fb9f3a"
            ],
            [
             0.8888888888888888,
             "#fdca26"
            ],
            [
             1,
             "#f0f921"
            ]
           ],
           "sequentialminus": [
            [
             0,
             "#0d0887"
            ],
            [
             0.1111111111111111,
             "#46039f"
            ],
            [
             0.2222222222222222,
             "#7201a8"
            ],
            [
             0.3333333333333333,
             "#9c179e"
            ],
            [
             0.4444444444444444,
             "#bd3786"
            ],
            [
             0.5555555555555556,
             "#d8576b"
            ],
            [
             0.6666666666666666,
             "#ed7953"
            ],
            [
             0.7777777777777778,
             "#fb9f3a"
            ],
            [
             0.8888888888888888,
             "#fdca26"
            ],
            [
             1,
             "#f0f921"
            ]
           ]
          },
          "colorway": [
           "#636efa",
           "#EF553B",
           "#00cc96",
           "#ab63fa",
           "#FFA15A",
           "#19d3f3",
           "#FF6692",
           "#B6E880",
           "#FF97FF",
           "#FECB52"
          ],
          "font": {
           "color": "#2a3f5f"
          },
          "geo": {
           "bgcolor": "white",
           "lakecolor": "white",
           "landcolor": "#E5ECF6",
           "showlakes": true,
           "showland": true,
           "subunitcolor": "white"
          },
          "hoverlabel": {
           "align": "left"
          },
          "hovermode": "closest",
          "mapbox": {
           "style": "light"
          },
          "paper_bgcolor": "white",
          "plot_bgcolor": "#E5ECF6",
          "polar": {
           "angularaxis": {
            "gridcolor": "white",
            "linecolor": "white",
            "ticks": ""
           },
           "bgcolor": "#E5ECF6",
           "radialaxis": {
            "gridcolor": "white",
            "linecolor": "white",
            "ticks": ""
           }
          },
          "scene": {
           "xaxis": {
            "backgroundcolor": "#E5ECF6",
            "gridcolor": "white",
            "gridwidth": 2,
            "linecolor": "white",
            "showbackground": true,
            "ticks": "",
            "zerolinecolor": "white"
           },
           "yaxis": {
            "backgroundcolor": "#E5ECF6",
            "gridcolor": "white",
            "gridwidth": 2,
            "linecolor": "white",
            "showbackground": true,
            "ticks": "",
            "zerolinecolor": "white"
           },
           "zaxis": {
            "backgroundcolor": "#E5ECF6",
            "gridcolor": "white",
            "gridwidth": 2,
            "linecolor": "white",
            "showbackground": true,
            "ticks": "",
            "zerolinecolor": "white"
           }
          },
          "shapedefaults": {
           "line": {
            "color": "#2a3f5f"
           }
          },
          "ternary": {
           "aaxis": {
            "gridcolor": "white",
            "linecolor": "white",
            "ticks": ""
           },
           "baxis": {
            "gridcolor": "white",
            "linecolor": "white",
            "ticks": ""
           },
           "bgcolor": "#E5ECF6",
           "caxis": {
            "gridcolor": "white",
            "linecolor": "white",
            "ticks": ""
           }
          },
          "title": {
           "x": 0.05
          },
          "xaxis": {
           "automargin": true,
           "gridcolor": "white",
           "linecolor": "white",
           "ticks": "",
           "title": {
            "standoff": 15
           },
           "zerolinecolor": "white",
           "zerolinewidth": 2
          },
          "yaxis": {
           "automargin": true,
           "gridcolor": "white",
           "linecolor": "white",
           "ticks": "",
           "title": {
            "standoff": 15
           },
           "zerolinecolor": "white",
           "zerolinewidth": 2
          }
         }
        },
        "xaxis": {
         "title": {
          "text": "Date"
         }
        },
        "yaxis": {
         "range": [
          100,
          0
         ],
         "title": {
          "text": "Classement"
         }
        }
       }
      }
     },
     "metadata": {},
     "output_type": "display_data"
    }
   ],
   "source": [
    "show_music_of_artist(df, \"Michael Jackson\")"
   ]
  },
  {
   "cell_type": "code",
   "execution_count": 27,
   "metadata": {
    "pycharm": {
     "name": "#%%\n"
    }
   },
   "outputs": [
    {
     "data": {
      "application/vnd.plotly.v1+json": {
       "config": {
        "plotlyServerURL": "https://plot.ly"
       },
       "data": [
        {
         "mode": "lines+markers",
         "name": "Take My Breath",
         "type": "scatter",
         "x": [
          "2021-11-06T00:00:00",
          "2021-10-30T00:00:00",
          "2021-10-23T00:00:00",
          "2021-10-16T00:00:00",
          "2021-10-09T00:00:00",
          "2021-10-02T00:00:00",
          "2021-09-25T00:00:00",
          "2021-09-18T00:00:00",
          "2021-09-11T00:00:00",
          "2021-09-04T00:00:00",
          "2021-08-28T00:00:00",
          "2021-08-21T00:00:00"
         ],
         "y": [
          32,
          27,
          24,
          22,
          22,
          21,
          23,
          37,
          25,
          16,
          13,
          6
         ]
        },
        {
         "mode": "lines+markers",
         "name": "Blinding Lights",
         "type": "scatter",
         "x": [
          "2021-09-04T00:00:00",
          "2021-08-28T00:00:00",
          "2021-08-21T00:00:00",
          "2021-08-14T00:00:00",
          "2021-08-07T00:00:00",
          "2021-07-31T00:00:00",
          "2021-07-24T00:00:00",
          "2021-07-17T00:00:00",
          "2021-07-10T00:00:00",
          "2021-07-03T00:00:00",
          "2021-06-26T00:00:00",
          "2021-06-19T00:00:00",
          "2021-06-12T00:00:00",
          "2021-06-05T00:00:00",
          "2021-05-29T00:00:00",
          "2021-05-22T00:00:00",
          "2021-05-15T00:00:00",
          "2021-05-08T00:00:00",
          "2021-05-01T00:00:00",
          "2021-04-24T00:00:00",
          "2021-04-17T00:00:00",
          "2021-04-10T00:00:00",
          "2021-04-03T00:00:00",
          "2021-03-27T00:00:00",
          "2021-03-20T00:00:00",
          "2021-03-13T00:00:00",
          "2021-03-06T00:00:00",
          "2021-02-27T00:00:00",
          "2021-02-20T00:00:00",
          "2021-02-13T00:00:00",
          "2021-02-06T00:00:00",
          "2021-01-30T00:00:00",
          "2021-01-23T00:00:00",
          "2021-01-16T00:00:00",
          "2021-01-09T00:00:00",
          "2020-12-26T00:00:00",
          "2020-12-19T00:00:00",
          "2020-12-12T00:00:00",
          "2020-12-05T00:00:00",
          "2020-11-28T00:00:00",
          "2020-11-21T00:00:00",
          "2020-11-14T00:00:00",
          "2020-11-07T00:00:00",
          "2020-10-31T00:00:00",
          "2020-10-24T00:00:00",
          "2020-10-17T00:00:00",
          "2020-10-10T00:00:00",
          "2020-10-03T00:00:00",
          "2020-09-26T00:00:00",
          "2020-09-19T00:00:00",
          "2020-09-12T00:00:00",
          "2020-09-05T00:00:00",
          "2020-08-29T00:00:00",
          "2020-08-22T00:00:00",
          "2020-08-15T00:00:00",
          "2020-08-08T00:00:00",
          "2020-08-01T00:00:00",
          "2020-07-25T00:00:00",
          "2020-07-18T00:00:00",
          "2020-07-11T00:00:00",
          "2020-07-04T00:00:00",
          "2020-06-27T00:00:00",
          "2020-06-20T00:00:00",
          "2020-06-13T00:00:00",
          "2020-06-06T00:00:00",
          "2020-05-30T00:00:00",
          "2020-05-23T00:00:00",
          "2020-05-16T00:00:00",
          "2020-05-09T00:00:00",
          "2020-05-02T00:00:00",
          "2020-04-25T00:00:00",
          "2020-04-18T00:00:00",
          "2020-04-11T00:00:00",
          "2020-04-04T00:00:00",
          "2020-03-28T00:00:00",
          "2020-03-21T00:00:00",
          "2020-03-14T00:00:00",
          "2020-03-07T00:00:00",
          "2020-02-29T00:00:00",
          "2020-02-22T00:00:00",
          "2020-02-15T00:00:00",
          "2020-02-08T00:00:00",
          "2020-02-01T00:00:00",
          "2020-01-25T00:00:00",
          "2020-01-18T00:00:00",
          "2020-01-11T00:00:00",
          "2020-01-04T00:00:00",
          "2019-12-28T00:00:00",
          "2019-12-21T00:00:00",
          "2019-12-14T00:00:00"
         ],
         "y": [
          20,
          21,
          18,
          16,
          17,
          17,
          17,
          15,
          18,
          15,
          17,
          15,
          17,
          22,
          23,
          12,
          11,
          11,
          13,
          11,
          9,
          8,
          6,
          6,
          8,
          3,
          5,
          4,
          3,
          3,
          3,
          4,
          4,
          3,
          3,
          18,
          7,
          11,
          9,
          7,
          5,
          4,
          5,
          4,
          4,
          6,
          6,
          7,
          5,
          5,
          5,
          5,
          4,
          3,
          4,
          5,
          4,
          4,
          2,
          3,
          3,
          5,
          3,
          3,
          4,
          3,
          4,
          3,
          2,
          1,
          1,
          2,
          1,
          1,
          2,
          4,
          7,
          8,
          10,
          12,
          15,
          18,
          21,
          32,
          39,
          59,
          72,
          63,
          52,
          11
         ]
        },
        {
         "mode": "lines+markers",
         "name": "Save Your Tears",
         "type": "scatter",
         "x": [
          "2021-05-01T00:00:00",
          "2021-04-24T00:00:00",
          "2021-04-17T00:00:00",
          "2021-04-10T00:00:00",
          "2021-04-03T00:00:00",
          "2021-03-27T00:00:00",
          "2021-03-20T00:00:00",
          "2021-03-13T00:00:00",
          "2021-03-06T00:00:00",
          "2021-02-27T00:00:00",
          "2021-02-20T00:00:00",
          "2021-02-13T00:00:00",
          "2021-02-06T00:00:00",
          "2021-01-30T00:00:00",
          "2021-01-23T00:00:00",
          "2021-01-16T00:00:00",
          "2021-01-09T00:00:00",
          "2020-04-11T00:00:00",
          "2020-04-04T00:00:00"
         ],
         "y": [
          6,
          5,
          6,
          6,
          5,
          5,
          7,
          6,
          6,
          6,
          4,
          8,
          14,
          20,
          21,
          46,
          95,
          85,
          41
         ]
        },
        {
         "mode": "lines+markers",
         "name": "In Your Eyes",
         "type": "scatter",
         "x": [
          "2020-07-11T00:00:00",
          "2020-07-04T00:00:00",
          "2020-06-27T00:00:00",
          "2020-06-20T00:00:00",
          "2020-06-13T00:00:00",
          "2020-06-06T00:00:00",
          "2020-05-30T00:00:00",
          "2020-05-23T00:00:00",
          "2020-05-16T00:00:00",
          "2020-05-09T00:00:00",
          "2020-05-02T00:00:00",
          "2020-04-25T00:00:00",
          "2020-04-18T00:00:00",
          "2020-04-11T00:00:00",
          "2020-04-04T00:00:00"
         ],
         "y": [
          89,
          80,
          67,
          54,
          53,
          32,
          58,
          54,
          62,
          51,
          55,
          45,
          47,
          42,
          16
         ]
        },
        {
         "mode": "lines+markers",
         "name": "Heartless",
         "type": "scatter",
         "x": [
          "2020-05-09T00:00:00",
          "2020-05-02T00:00:00",
          "2020-04-25T00:00:00",
          "2020-04-18T00:00:00",
          "2020-04-11T00:00:00",
          "2020-04-04T00:00:00",
          "2020-03-28T00:00:00",
          "2020-03-21T00:00:00",
          "2020-03-14T00:00:00",
          "2020-03-07T00:00:00",
          "2020-02-29T00:00:00",
          "2020-02-22T00:00:00",
          "2020-02-15T00:00:00",
          "2020-02-08T00:00:00",
          "2020-02-01T00:00:00",
          "2020-01-25T00:00:00",
          "2020-01-18T00:00:00",
          "2020-01-11T00:00:00",
          "2020-01-04T00:00:00",
          "2019-12-28T00:00:00",
          "2019-12-21T00:00:00",
          "2019-12-14T00:00:00",
          "2019-12-07T00:00:00"
         ],
         "y": [
          37,
          28,
          21,
          19,
          12,
          4,
          16,
          21,
          17,
          13,
          14,
          17,
          17,
          19,
          19,
          18,
          17,
          20,
          39,
          26,
          17,
          1,
          32
         ]
        },
        {
         "mode": "lines+markers",
         "name": "After Hours",
         "type": "scatter",
         "x": [
          "2020-04-18T00:00:00",
          "2020-04-11T00:00:00",
          "2020-04-04T00:00:00",
          "2020-03-21T00:00:00",
          "2020-03-14T00:00:00",
          "2020-03-07T00:00:00",
          "2020-02-29T00:00:00"
         ],
         "y": [
          90,
          61,
          22,
          100,
          66,
          20,
          77
         ]
        },
        {
         "mode": "lines+markers",
         "name": "Alone Again",
         "type": "scatter",
         "x": [
          "2020-04-04T00:00:00"
         ],
         "y": [
          21
         ]
        },
        {
         "mode": "lines+markers",
         "name": "Scared To Live",
         "type": "scatter",
         "x": [
          "2020-04-04T00:00:00"
         ],
         "y": [
          24
         ]
        },
        {
         "mode": "lines+markers",
         "name": "Hardest To Love",
         "type": "scatter",
         "x": [
          "2020-04-04T00:00:00"
         ],
         "y": [
          25
         ]
        },
        {
         "mode": "lines+markers",
         "name": "Too Late",
         "type": "scatter",
         "x": [
          "2020-04-04T00:00:00"
         ],
         "y": [
          28
         ]
        },
        {
         "mode": "lines+markers",
         "name": "Snowchild",
         "type": "scatter",
         "x": [
          "2020-04-04T00:00:00"
         ],
         "y": [
          32
         ]
        },
        {
         "mode": "lines+markers",
         "name": "Escape From LA",
         "type": "scatter",
         "x": [
          "2020-04-04T00:00:00"
         ],
         "y": [
          39
         ]
        },
        {
         "mode": "lines+markers",
         "name": "Faith",
         "type": "scatter",
         "x": [
          "2020-04-04T00:00:00"
         ],
         "y": [
          45
         ]
        },
        {
         "mode": "lines+markers",
         "name": "Repeat After Me (Interlude)",
         "type": "scatter",
         "x": [
          "2020-04-04T00:00:00"
         ],
         "y": [
          69
         ]
        },
        {
         "mode": "lines+markers",
         "name": "Until I Bleed Out",
         "type": "scatter",
         "x": [
          "2020-04-04T00:00:00"
         ],
         "y": [
          80
         ]
        },
        {
         "mode": "lines+markers",
         "name": "Call Out My Name",
         "type": "scatter",
         "x": [
          "2018-08-11T00:00:00",
          "2018-08-04T00:00:00",
          "2018-07-28T00:00:00",
          "2018-07-21T00:00:00",
          "2018-07-14T00:00:00",
          "2018-07-07T00:00:00",
          "2018-06-30T00:00:00",
          "2018-06-23T00:00:00",
          "2018-06-16T00:00:00",
          "2018-06-09T00:00:00",
          "2018-06-02T00:00:00",
          "2018-05-26T00:00:00",
          "2018-05-19T00:00:00",
          "2018-05-12T00:00:00",
          "2018-05-05T00:00:00",
          "2018-04-28T00:00:00",
          "2018-04-21T00:00:00",
          "2018-04-14T00:00:00"
         ],
         "y": [
          95,
          89,
          95,
          95,
          90,
          78,
          73,
          54,
          52,
          40,
          30,
          32,
          29,
          32,
          19,
          17,
          20,
          4
         ]
        },
        {
         "mode": "lines+markers",
         "name": "Wasted Times",
         "type": "scatter",
         "x": [
          "2018-04-28T00:00:00",
          "2018-04-21T00:00:00",
          "2018-04-14T00:00:00"
         ],
         "y": [
          76,
          63,
          27
         ]
        },
        {
         "mode": "lines+markers",
         "name": "Try Me",
         "type": "scatter",
         "x": [
          "2018-04-21T00:00:00",
          "2018-04-14T00:00:00"
         ],
         "y": [
          74,
          26
         ]
        },
        {
         "mode": "lines+markers",
         "name": "Privilege",
         "type": "scatter",
         "x": [
          "2018-04-14T00:00:00"
         ],
         "y": [
          52
         ]
        },
        {
         "mode": "lines+markers",
         "name": "Reminder",
         "type": "scatter",
         "x": [
          "2017-09-23T00:00:00",
          "2017-09-09T00:00:00",
          "2017-09-02T00:00:00",
          "2017-08-26T00:00:00",
          "2017-08-19T00:00:00",
          "2017-08-12T00:00:00",
          "2017-08-05T00:00:00",
          "2017-07-29T00:00:00",
          "2017-07-22T00:00:00",
          "2017-07-15T00:00:00",
          "2017-07-08T00:00:00",
          "2017-07-01T00:00:00",
          "2017-03-11T00:00:00",
          "2017-01-07T00:00:00",
          "2016-12-31T00:00:00",
          "2016-12-24T00:00:00",
          "2016-12-17T00:00:00"
         ],
         "y": [
          99,
          87,
          76,
          65,
          73,
          100,
          90,
          99,
          91,
          93,
          87,
          97,
          77,
          95,
          78,
          50,
          31
         ]
        },
        {
         "mode": "lines+markers",
         "name": "Party Monster",
         "type": "scatter",
         "x": [
          "2017-04-15T00:00:00",
          "2017-04-08T00:00:00",
          "2017-04-01T00:00:00",
          "2017-03-25T00:00:00",
          "2017-03-18T00:00:00",
          "2017-03-11T00:00:00",
          "2017-03-04T00:00:00",
          "2017-02-25T00:00:00",
          "2017-02-18T00:00:00",
          "2017-02-11T00:00:00",
          "2017-02-04T00:00:00",
          "2017-01-28T00:00:00",
          "2017-01-21T00:00:00",
          "2017-01-14T00:00:00",
          "2017-01-07T00:00:00",
          "2016-12-31T00:00:00",
          "2016-12-24T00:00:00",
          "2016-12-17T00:00:00",
          "2016-12-10T00:00:00"
         ],
         "y": [
          98,
          99,
          77,
          76,
          67,
          64,
          58,
          60,
          55,
          50,
          36,
          47,
          49,
          53,
          49,
          53,
          29,
          16,
          39
         ]
        },
        {
         "mode": "lines+markers",
         "name": "Six Feet Under",
         "type": "scatter",
         "x": [
          "2017-01-07T00:00:00",
          "2016-12-31T00:00:00",
          "2016-12-24T00:00:00",
          "2016-12-17T00:00:00"
         ],
         "y": [
          94,
          81,
          55,
          34
         ]
        },
        {
         "mode": "lines+markers",
         "name": "Die For You",
         "type": "scatter",
         "x": [
          "2016-12-31T00:00:00",
          "2016-12-24T00:00:00",
          "2016-12-17T00:00:00"
         ],
         "y": [
          93,
          71,
          43
         ]
        },
        {
         "mode": "lines+markers",
         "name": "Secrets",
         "type": "scatter",
         "x": [
          "2016-12-24T00:00:00",
          "2016-12-17T00:00:00"
         ],
         "y": [
          66,
          47
         ]
        },
        {
         "mode": "lines+markers",
         "name": "True Colors",
         "type": "scatter",
         "x": [
          "2016-12-24T00:00:00",
          "2016-12-17T00:00:00"
         ],
         "y": [
          78,
          48
         ]
        },
        {
         "mode": "lines+markers",
         "name": "Rockin'",
         "type": "scatter",
         "x": [
          "2016-12-24T00:00:00",
          "2016-12-17T00:00:00"
         ],
         "y": [
          82,
          44
         ]
        },
        {
         "mode": "lines+markers",
         "name": "False Alarm",
         "type": "scatter",
         "x": [
          "2016-12-24T00:00:00",
          "2016-12-17T00:00:00",
          "2016-11-05T00:00:00",
          "2016-10-22T00:00:00"
         ],
         "y": [
          86,
          55,
          68,
          63
         ]
        },
        {
         "mode": "lines+markers",
         "name": "Attention",
         "type": "scatter",
         "x": [
          "2016-12-24T00:00:00",
          "2016-12-17T00:00:00"
         ],
         "y": [
          96,
          67
         ]
        },
        {
         "mode": "lines+markers",
         "name": "Ordinary Life",
         "type": "scatter",
         "x": [
          "2016-12-24T00:00:00",
          "2016-12-17T00:00:00"
         ],
         "y": [
          97,
          72
         ]
        },
        {
         "mode": "lines+markers",
         "name": "Nothing Without You",
         "type": "scatter",
         "x": [
          "2016-12-17T00:00:00"
         ],
         "y": [
          68
         ]
        },
        {
         "mode": "lines+markers",
         "name": "A Lonely Night",
         "type": "scatter",
         "x": [
          "2016-12-17T00:00:00"
         ],
         "y": [
          69
         ]
        },
        {
         "mode": "lines+markers",
         "name": "Love To Lay",
         "type": "scatter",
         "x": [
          "2016-12-17T00:00:00"
         ],
         "y": [
          71
         ]
        },
        {
         "mode": "lines+markers",
         "name": "Acquainted",
         "type": "scatter",
         "x": [
          "2016-05-14T00:00:00",
          "2016-05-07T00:00:00",
          "2016-04-30T00:00:00",
          "2016-04-23T00:00:00",
          "2016-04-16T00:00:00",
          "2016-04-09T00:00:00",
          "2016-04-02T00:00:00",
          "2016-03-26T00:00:00",
          "2016-03-19T00:00:00",
          "2016-03-12T00:00:00",
          "2016-03-05T00:00:00",
          "2016-02-27T00:00:00",
          "2016-02-20T00:00:00",
          "2016-02-13T00:00:00",
          "2016-02-06T00:00:00",
          "2015-10-03T00:00:00",
          "2015-09-26T00:00:00",
          "2015-09-19T00:00:00"
         ],
         "y": [
          92,
          75,
          72,
          77,
          70,
          73,
          76,
          77,
          75,
          76,
          82,
          95,
          98,
          99,
          100,
          77,
          72,
          60
         ]
        },
        {
         "mode": "lines+markers",
         "name": "The Hills",
         "type": "scatter",
         "x": [
          "2016-05-07T00:00:00",
          "2016-04-30T00:00:00",
          "2016-04-23T00:00:00",
          "2016-04-16T00:00:00",
          "2016-04-09T00:00:00",
          "2016-04-02T00:00:00",
          "2016-03-26T00:00:00",
          "2016-03-19T00:00:00",
          "2016-03-12T00:00:00",
          "2016-03-05T00:00:00",
          "2016-02-27T00:00:00",
          "2016-02-20T00:00:00",
          "2016-02-13T00:00:00",
          "2016-02-06T00:00:00",
          "2016-01-30T00:00:00",
          "2016-01-23T00:00:00",
          "2016-01-16T00:00:00",
          "2016-01-09T00:00:00",
          "2016-01-02T00:00:00",
          "2015-12-26T00:00:00",
          "2015-12-19T00:00:00",
          "2015-12-12T00:00:00",
          "2015-12-05T00:00:00",
          "2015-11-28T00:00:00",
          "2015-11-21T00:00:00",
          "2015-11-14T00:00:00",
          "2015-11-07T00:00:00",
          "2015-10-31T00:00:00",
          "2015-10-24T00:00:00",
          "2015-10-17T00:00:00",
          "2015-10-10T00:00:00",
          "2015-10-03T00:00:00",
          "2015-09-26T00:00:00",
          "2015-09-19T00:00:00",
          "2015-09-12T00:00:00",
          "2015-09-05T00:00:00",
          "2015-08-29T00:00:00",
          "2015-08-22T00:00:00",
          "2015-08-15T00:00:00",
          "2015-08-08T00:00:00",
          "2015-08-01T00:00:00",
          "2015-07-25T00:00:00",
          "2015-07-18T00:00:00",
          "2015-07-11T00:00:00",
          "2015-07-04T00:00:00",
          "2015-06-27T00:00:00",
          "2015-06-20T00:00:00",
          "2015-06-13T00:00:00"
         ],
         "y": [
          48,
          39,
          42,
          33,
          28,
          25,
          24,
          21,
          22,
          27,
          25,
          23,
          21,
          18,
          14,
          11,
          11,
          9,
          7,
          6,
          5,
          5,
          6,
          4,
          3,
          4,
          1,
          1,
          1,
          1,
          1,
          1,
          2,
          3,
          4,
          5,
          5,
          11,
          11,
          11,
          10,
          12,
          19,
          23,
          22,
          23,
          21,
          20
         ]
        },
        {
         "mode": "lines+markers",
         "name": "In The Night",
         "type": "scatter",
         "x": [
          "2016-04-09T00:00:00",
          "2016-04-02T00:00:00",
          "2016-03-26T00:00:00",
          "2016-03-19T00:00:00",
          "2016-03-12T00:00:00",
          "2016-03-05T00:00:00",
          "2016-02-27T00:00:00",
          "2016-02-20T00:00:00",
          "2016-02-13T00:00:00",
          "2016-02-06T00:00:00",
          "2016-01-30T00:00:00",
          "2016-01-23T00:00:00",
          "2016-01-16T00:00:00",
          "2016-01-09T00:00:00",
          "2016-01-02T00:00:00",
          "2015-12-26T00:00:00",
          "2015-12-19T00:00:00",
          "2015-12-12T00:00:00",
          "2015-12-05T00:00:00",
          "2015-09-19T00:00:00"
         ],
         "y": [
          52,
          47,
          36,
          28,
          19,
          15,
          14,
          16,
          13,
          13,
          15,
          16,
          20,
          15,
          12,
          19,
          37,
          54,
          86,
          100
         ]
        },
        {
         "mode": "lines+markers",
         "name": "Can't Feel My Face",
         "type": "scatter",
         "x": [
          "2016-04-02T00:00:00",
          "2016-03-26T00:00:00",
          "2016-03-19T00:00:00",
          "2016-03-12T00:00:00",
          "2016-03-05T00:00:00",
          "2016-02-27T00:00:00",
          "2016-02-20T00:00:00",
          "2016-02-13T00:00:00",
          "2016-02-06T00:00:00",
          "2016-01-30T00:00:00",
          "2016-01-23T00:00:00",
          "2016-01-16T00:00:00",
          "2016-01-09T00:00:00",
          "2016-01-02T00:00:00",
          "2015-12-26T00:00:00",
          "2015-12-19T00:00:00",
          "2015-12-12T00:00:00",
          "2015-12-05T00:00:00",
          "2015-11-28T00:00:00",
          "2015-11-21T00:00:00",
          "2015-11-14T00:00:00",
          "2015-11-07T00:00:00",
          "2015-10-31T00:00:00",
          "2015-10-24T00:00:00",
          "2015-10-17T00:00:00",
          "2015-10-10T00:00:00",
          "2015-10-03T00:00:00",
          "2015-09-26T00:00:00",
          "2015-09-19T00:00:00",
          "2015-09-12T00:00:00",
          "2015-09-05T00:00:00",
          "2015-08-29T00:00:00",
          "2015-08-22T00:00:00",
          "2015-08-15T00:00:00",
          "2015-08-08T00:00:00",
          "2015-08-01T00:00:00",
          "2015-07-25T00:00:00",
          "2015-07-18T00:00:00",
          "2015-07-11T00:00:00",
          "2015-07-04T00:00:00",
          "2015-06-27T00:00:00"
         ],
         "y": [
          50,
          45,
          39,
          38,
          32,
          42,
          42,
          35,
          32,
          27,
          24,
          24,
          21,
          15,
          15,
          16,
          17,
          17,
          12,
          14,
          10,
          7,
          7,
          6,
          4,
          3,
          3,
          1,
          2,
          1,
          2,
          2,
          1,
          2,
          2,
          2,
          3,
          6,
          6,
          12,
          24
         ]
        },
        {
         "mode": "lines+markers",
         "name": "Earned It (Fifty Shades Of Grey)",
         "type": "scatter",
         "x": [
          "2015-10-31T00:00:00",
          "2015-10-24T00:00:00",
          "2015-10-17T00:00:00",
          "2015-10-10T00:00:00",
          "2015-10-03T00:00:00",
          "2015-09-26T00:00:00",
          "2015-09-19T00:00:00",
          "2015-09-12T00:00:00",
          "2015-09-05T00:00:00",
          "2015-08-29T00:00:00",
          "2015-08-22T00:00:00",
          "2015-08-15T00:00:00",
          "2015-08-08T00:00:00",
          "2015-08-01T00:00:00",
          "2015-07-25T00:00:00",
          "2015-07-18T00:00:00",
          "2015-07-11T00:00:00",
          "2015-07-04T00:00:00",
          "2015-06-27T00:00:00",
          "2015-06-20T00:00:00",
          "2015-06-13T00:00:00",
          "2015-06-06T00:00:00",
          "2015-05-30T00:00:00",
          "2015-05-23T00:00:00",
          "2015-05-16T00:00:00",
          "2015-05-09T00:00:00",
          "2015-05-02T00:00:00",
          "2015-04-25T00:00:00",
          "2015-04-18T00:00:00",
          "2015-04-11T00:00:00",
          "2015-04-04T00:00:00",
          "2015-03-28T00:00:00",
          "2015-03-21T00:00:00",
          "2015-03-14T00:00:00",
          "2015-03-07T00:00:00",
          "2015-02-28T00:00:00",
          "2015-02-21T00:00:00",
          "2015-02-14T00:00:00",
          "2015-02-07T00:00:00",
          "2015-01-31T00:00:00",
          "2015-01-24T00:00:00",
          "2015-01-17T00:00:00",
          "2015-01-10T00:00:00"
         ],
         "y": [
          48,
          47,
          44,
          42,
          36,
          34,
          37,
          37,
          33,
          34,
          32,
          30,
          26,
          22,
          18,
          16,
          16,
          10,
          8,
          7,
          6,
          5,
          3,
          3,
          4,
          4,
          3,
          6,
          4,
          5,
          6,
          6,
          7,
          9,
          9,
          12,
          29,
          38,
          27,
          70,
          82,
          87,
          49
         ]
        },
        {
         "mode": "lines+markers",
         "name": "Tell Your Friends",
         "type": "scatter",
         "x": [
          "2015-10-03T00:00:00",
          "2015-09-26T00:00:00",
          "2015-09-19T00:00:00"
         ],
         "y": [
          79,
          70,
          54
         ]
        },
        {
         "mode": "lines+markers",
         "name": "Real Life",
         "type": "scatter",
         "x": [
          "2015-09-26T00:00:00",
          "2015-09-19T00:00:00"
         ],
         "y": [
          79,
          62
         ]
        },
        {
         "mode": "lines+markers",
         "name": "Shameless",
         "type": "scatter",
         "x": [
          "2015-09-26T00:00:00",
          "2015-09-19T00:00:00"
         ],
         "y": [
          99,
          79
         ]
        },
        {
         "mode": "lines+markers",
         "name": "Often",
         "type": "scatter",
         "x": [
          "2015-03-14T00:00:00",
          "2015-03-07T00:00:00",
          "2015-02-28T00:00:00",
          "2015-02-21T00:00:00",
          "2015-02-14T00:00:00",
          "2015-02-07T00:00:00",
          "2015-01-31T00:00:00",
          "2015-01-24T00:00:00",
          "2015-01-17T00:00:00",
          "2015-01-10T00:00:00",
          "2015-01-03T00:00:00",
          "2014-12-27T00:00:00",
          "2014-12-20T00:00:00",
          "2014-12-13T00:00:00",
          "2014-12-06T00:00:00",
          "2014-11-29T00:00:00",
          "2014-11-22T00:00:00",
          "2014-11-15T00:00:00",
          "2014-11-08T00:00:00",
          "2014-11-01T00:00:00"
         ],
         "y": [
          68,
          69,
          61,
          67,
          64,
          59,
          67,
          65,
          69,
          65,
          81,
          74,
          77,
          83,
          84,
          86,
          86,
          99,
          95,
          97
         ]
        },
        {
         "mode": "lines+markers",
         "name": "Where You Belong",
         "type": "scatter",
         "x": [
          "2015-02-28T00:00:00"
         ],
         "y": [
          95
         ]
        },
        {
         "mode": "lines+markers",
         "name": "Wicked Games",
         "type": "scatter",
         "x": [
          "2013-03-30T00:00:00",
          "2013-03-23T00:00:00",
          "2013-03-16T00:00:00",
          "2013-03-09T00:00:00",
          "2013-03-02T00:00:00",
          "2013-02-23T00:00:00",
          "2013-02-16T00:00:00",
          "2013-02-09T00:00:00",
          "2013-02-02T00:00:00",
          "2013-01-26T00:00:00",
          "2013-01-19T00:00:00",
          "2013-01-12T00:00:00",
          "2013-01-05T00:00:00",
          "2012-12-29T00:00:00",
          "2012-12-22T00:00:00",
          "2012-12-15T00:00:00",
          "2012-12-08T00:00:00",
          "2012-12-01T00:00:00",
          "2012-11-24T00:00:00",
          "2012-11-17T00:00:00"
         ],
         "y": [
          76,
          71,
          64,
          54,
          53,
          53,
          53,
          54,
          57,
          53,
          60,
          68,
          58,
          61,
          63,
          69,
          73,
          81,
          91,
          96
         ]
        }
       ],
       "layout": {
        "height": 800,
        "legend": {
         "font": {
          "size": 7
         }
        },
        "template": {
         "data": {
          "bar": [
           {
            "error_x": {
             "color": "#2a3f5f"
            },
            "error_y": {
             "color": "#2a3f5f"
            },
            "marker": {
             "line": {
              "color": "#E5ECF6",
              "width": 0.5
             },
             "pattern": {
              "fillmode": "overlay",
              "size": 10,
              "solidity": 0.2
             }
            },
            "type": "bar"
           }
          ],
          "barpolar": [
           {
            "marker": {
             "line": {
              "color": "#E5ECF6",
              "width": 0.5
             },
             "pattern": {
              "fillmode": "overlay",
              "size": 10,
              "solidity": 0.2
             }
            },
            "type": "barpolar"
           }
          ],
          "carpet": [
           {
            "aaxis": {
             "endlinecolor": "#2a3f5f",
             "gridcolor": "white",
             "linecolor": "white",
             "minorgridcolor": "white",
             "startlinecolor": "#2a3f5f"
            },
            "baxis": {
             "endlinecolor": "#2a3f5f",
             "gridcolor": "white",
             "linecolor": "white",
             "minorgridcolor": "white",
             "startlinecolor": "#2a3f5f"
            },
            "type": "carpet"
           }
          ],
          "choropleth": [
           {
            "colorbar": {
             "outlinewidth": 0,
             "ticks": ""
            },
            "type": "choropleth"
           }
          ],
          "contour": [
           {
            "colorbar": {
             "outlinewidth": 0,
             "ticks": ""
            },
            "colorscale": [
             [
              0,
              "#0d0887"
             ],
             [
              0.1111111111111111,
              "#46039f"
             ],
             [
              0.2222222222222222,
              "#7201a8"
             ],
             [
              0.3333333333333333,
              "#9c179e"
             ],
             [
              0.4444444444444444,
              "#bd3786"
             ],
             [
              0.5555555555555556,
              "#d8576b"
             ],
             [
              0.6666666666666666,
              "#ed7953"
             ],
             [
              0.7777777777777778,
              "#fb9f3a"
             ],
             [
              0.8888888888888888,
              "#fdca26"
             ],
             [
              1,
              "#f0f921"
             ]
            ],
            "type": "contour"
           }
          ],
          "contourcarpet": [
           {
            "colorbar": {
             "outlinewidth": 0,
             "ticks": ""
            },
            "type": "contourcarpet"
           }
          ],
          "heatmap": [
           {
            "colorbar": {
             "outlinewidth": 0,
             "ticks": ""
            },
            "colorscale": [
             [
              0,
              "#0d0887"
             ],
             [
              0.1111111111111111,
              "#46039f"
             ],
             [
              0.2222222222222222,
              "#7201a8"
             ],
             [
              0.3333333333333333,
              "#9c179e"
             ],
             [
              0.4444444444444444,
              "#bd3786"
             ],
             [
              0.5555555555555556,
              "#d8576b"
             ],
             [
              0.6666666666666666,
              "#ed7953"
             ],
             [
              0.7777777777777778,
              "#fb9f3a"
             ],
             [
              0.8888888888888888,
              "#fdca26"
             ],
             [
              1,
              "#f0f921"
             ]
            ],
            "type": "heatmap"
           }
          ],
          "heatmapgl": [
           {
            "colorbar": {
             "outlinewidth": 0,
             "ticks": ""
            },
            "colorscale": [
             [
              0,
              "#0d0887"
             ],
             [
              0.1111111111111111,
              "#46039f"
             ],
             [
              0.2222222222222222,
              "#7201a8"
             ],
             [
              0.3333333333333333,
              "#9c179e"
             ],
             [
              0.4444444444444444,
              "#bd3786"
             ],
             [
              0.5555555555555556,
              "#d8576b"
             ],
             [
              0.6666666666666666,
              "#ed7953"
             ],
             [
              0.7777777777777778,
              "#fb9f3a"
             ],
             [
              0.8888888888888888,
              "#fdca26"
             ],
             [
              1,
              "#f0f921"
             ]
            ],
            "type": "heatmapgl"
           }
          ],
          "histogram": [
           {
            "marker": {
             "pattern": {
              "fillmode": "overlay",
              "size": 10,
              "solidity": 0.2
             }
            },
            "type": "histogram"
           }
          ],
          "histogram2d": [
           {
            "colorbar": {
             "outlinewidth": 0,
             "ticks": ""
            },
            "colorscale": [
             [
              0,
              "#0d0887"
             ],
             [
              0.1111111111111111,
              "#46039f"
             ],
             [
              0.2222222222222222,
              "#7201a8"
             ],
             [
              0.3333333333333333,
              "#9c179e"
             ],
             [
              0.4444444444444444,
              "#bd3786"
             ],
             [
              0.5555555555555556,
              "#d8576b"
             ],
             [
              0.6666666666666666,
              "#ed7953"
             ],
             [
              0.7777777777777778,
              "#fb9f3a"
             ],
             [
              0.8888888888888888,
              "#fdca26"
             ],
             [
              1,
              "#f0f921"
             ]
            ],
            "type": "histogram2d"
           }
          ],
          "histogram2dcontour": [
           {
            "colorbar": {
             "outlinewidth": 0,
             "ticks": ""
            },
            "colorscale": [
             [
              0,
              "#0d0887"
             ],
             [
              0.1111111111111111,
              "#46039f"
             ],
             [
              0.2222222222222222,
              "#7201a8"
             ],
             [
              0.3333333333333333,
              "#9c179e"
             ],
             [
              0.4444444444444444,
              "#bd3786"
             ],
             [
              0.5555555555555556,
              "#d8576b"
             ],
             [
              0.6666666666666666,
              "#ed7953"
             ],
             [
              0.7777777777777778,
              "#fb9f3a"
             ],
             [
              0.8888888888888888,
              "#fdca26"
             ],
             [
              1,
              "#f0f921"
             ]
            ],
            "type": "histogram2dcontour"
           }
          ],
          "mesh3d": [
           {
            "colorbar": {
             "outlinewidth": 0,
             "ticks": ""
            },
            "type": "mesh3d"
           }
          ],
          "parcoords": [
           {
            "line": {
             "colorbar": {
              "outlinewidth": 0,
              "ticks": ""
             }
            },
            "type": "parcoords"
           }
          ],
          "pie": [
           {
            "automargin": true,
            "type": "pie"
           }
          ],
          "scatter": [
           {
            "fillpattern": {
             "fillmode": "overlay",
             "size": 10,
             "solidity": 0.2
            },
            "type": "scatter"
           }
          ],
          "scatter3d": [
           {
            "line": {
             "colorbar": {
              "outlinewidth": 0,
              "ticks": ""
             }
            },
            "marker": {
             "colorbar": {
              "outlinewidth": 0,
              "ticks": ""
             }
            },
            "type": "scatter3d"
           }
          ],
          "scattercarpet": [
           {
            "marker": {
             "colorbar": {
              "outlinewidth": 0,
              "ticks": ""
             }
            },
            "type": "scattercarpet"
           }
          ],
          "scattergeo": [
           {
            "marker": {
             "colorbar": {
              "outlinewidth": 0,
              "ticks": ""
             }
            },
            "type": "scattergeo"
           }
          ],
          "scattergl": [
           {
            "marker": {
             "colorbar": {
              "outlinewidth": 0,
              "ticks": ""
             }
            },
            "type": "scattergl"
           }
          ],
          "scattermapbox": [
           {
            "marker": {
             "colorbar": {
              "outlinewidth": 0,
              "ticks": ""
             }
            },
            "type": "scattermapbox"
           }
          ],
          "scatterpolar": [
           {
            "marker": {
             "colorbar": {
              "outlinewidth": 0,
              "ticks": ""
             }
            },
            "type": "scatterpolar"
           }
          ],
          "scatterpolargl": [
           {
            "marker": {
             "colorbar": {
              "outlinewidth": 0,
              "ticks": ""
             }
            },
            "type": "scatterpolargl"
           }
          ],
          "scatterternary": [
           {
            "marker": {
             "colorbar": {
              "outlinewidth": 0,
              "ticks": ""
             }
            },
            "type": "scatterternary"
           }
          ],
          "surface": [
           {
            "colorbar": {
             "outlinewidth": 0,
             "ticks": ""
            },
            "colorscale": [
             [
              0,
              "#0d0887"
             ],
             [
              0.1111111111111111,
              "#46039f"
             ],
             [
              0.2222222222222222,
              "#7201a8"
             ],
             [
              0.3333333333333333,
              "#9c179e"
             ],
             [
              0.4444444444444444,
              "#bd3786"
             ],
             [
              0.5555555555555556,
              "#d8576b"
             ],
             [
              0.6666666666666666,
              "#ed7953"
             ],
             [
              0.7777777777777778,
              "#fb9f3a"
             ],
             [
              0.8888888888888888,
              "#fdca26"
             ],
             [
              1,
              "#f0f921"
             ]
            ],
            "type": "surface"
           }
          ],
          "table": [
           {
            "cells": {
             "fill": {
              "color": "#EBF0F8"
             },
             "line": {
              "color": "white"
             }
            },
            "header": {
             "fill": {
              "color": "#C8D4E3"
             },
             "line": {
              "color": "white"
             }
            },
            "type": "table"
           }
          ]
         },
         "layout": {
          "annotationdefaults": {
           "arrowcolor": "#2a3f5f",
           "arrowhead": 0,
           "arrowwidth": 1
          },
          "autotypenumbers": "strict",
          "coloraxis": {
           "colorbar": {
            "outlinewidth": 0,
            "ticks": ""
           }
          },
          "colorscale": {
           "diverging": [
            [
             0,
             "#8e0152"
            ],
            [
             0.1,
             "#c51b7d"
            ],
            [
             0.2,
             "#de77ae"
            ],
            [
             0.3,
             "#f1b6da"
            ],
            [
             0.4,
             "#fde0ef"
            ],
            [
             0.5,
             "#f7f7f7"
            ],
            [
             0.6,
             "#e6f5d0"
            ],
            [
             0.7,
             "#b8e186"
            ],
            [
             0.8,
             "#7fbc41"
            ],
            [
             0.9,
             "#4d9221"
            ],
            [
             1,
             "#276419"
            ]
           ],
           "sequential": [
            [
             0,
             "#0d0887"
            ],
            [
             0.1111111111111111,
             "#46039f"
            ],
            [
             0.2222222222222222,
             "#7201a8"
            ],
            [
             0.3333333333333333,
             "#9c179e"
            ],
            [
             0.4444444444444444,
             "#bd3786"
            ],
            [
             0.5555555555555556,
             "#d8576b"
            ],
            [
             0.6666666666666666,
             "#ed7953"
            ],
            [
             0.7777777777777778,
             "#fb9f3a"
            ],
            [
             0.8888888888888888,
             "#fdca26"
            ],
            [
             1,
             "#f0f921"
            ]
           ],
           "sequentialminus": [
            [
             0,
             "#0d0887"
            ],
            [
             0.1111111111111111,
             "#46039f"
            ],
            [
             0.2222222222222222,
             "#7201a8"
            ],
            [
             0.3333333333333333,
             "#9c179e"
            ],
            [
             0.4444444444444444,
             "#bd3786"
            ],
            [
             0.5555555555555556,
             "#d8576b"
            ],
            [
             0.6666666666666666,
             "#ed7953"
            ],
            [
             0.7777777777777778,
             "#fb9f3a"
            ],
            [
             0.8888888888888888,
             "#fdca26"
            ],
            [
             1,
             "#f0f921"
            ]
           ]
          },
          "colorway": [
           "#636efa",
           "#EF553B",
           "#00cc96",
           "#ab63fa",
           "#FFA15A",
           "#19d3f3",
           "#FF6692",
           "#B6E880",
           "#FF97FF",
           "#FECB52"
          ],
          "font": {
           "color": "#2a3f5f"
          },
          "geo": {
           "bgcolor": "white",
           "lakecolor": "white",
           "landcolor": "#E5ECF6",
           "showlakes": true,
           "showland": true,
           "subunitcolor": "white"
          },
          "hoverlabel": {
           "align": "left"
          },
          "hovermode": "closest",
          "mapbox": {
           "style": "light"
          },
          "paper_bgcolor": "white",
          "plot_bgcolor": "#E5ECF6",
          "polar": {
           "angularaxis": {
            "gridcolor": "white",
            "linecolor": "white",
            "ticks": ""
           },
           "bgcolor": "#E5ECF6",
           "radialaxis": {
            "gridcolor": "white",
            "linecolor": "white",
            "ticks": ""
           }
          },
          "scene": {
           "xaxis": {
            "backgroundcolor": "#E5ECF6",
            "gridcolor": "white",
            "gridwidth": 2,
            "linecolor": "white",
            "showbackground": true,
            "ticks": "",
            "zerolinecolor": "white"
           },
           "yaxis": {
            "backgroundcolor": "#E5ECF6",
            "gridcolor": "white",
            "gridwidth": 2,
            "linecolor": "white",
            "showbackground": true,
            "ticks": "",
            "zerolinecolor": "white"
           },
           "zaxis": {
            "backgroundcolor": "#E5ECF6",
            "gridcolor": "white",
            "gridwidth": 2,
            "linecolor": "white",
            "showbackground": true,
            "ticks": "",
            "zerolinecolor": "white"
           }
          },
          "shapedefaults": {
           "line": {
            "color": "#2a3f5f"
           }
          },
          "ternary": {
           "aaxis": {
            "gridcolor": "white",
            "linecolor": "white",
            "ticks": ""
           },
           "baxis": {
            "gridcolor": "white",
            "linecolor": "white",
            "ticks": ""
           },
           "bgcolor": "#E5ECF6",
           "caxis": {
            "gridcolor": "white",
            "linecolor": "white",
            "ticks": ""
           }
          },
          "title": {
           "x": 0.05
          },
          "xaxis": {
           "automargin": true,
           "gridcolor": "white",
           "linecolor": "white",
           "ticks": "",
           "title": {
            "standoff": 15
           },
           "zerolinecolor": "white",
           "zerolinewidth": 2
          },
          "yaxis": {
           "automargin": true,
           "gridcolor": "white",
           "linecolor": "white",
           "ticks": "",
           "title": {
            "standoff": 15
           },
           "zerolinecolor": "white",
           "zerolinewidth": 2
          }
         }
        },
        "xaxis": {
         "title": {
          "text": "Date"
         }
        },
        "yaxis": {
         "range": [
          100,
          0
         ],
         "title": {
          "text": "Classement"
         }
        }
       }
      }
     },
     "metadata": {},
     "output_type": "display_data"
    }
   ],
   "source": [
    "show_music_of_artist(df, \"The Weeknd\")"
   ]
  },
  {
   "cell_type": "code",
   "execution_count": 28,
   "metadata": {
    "pycharm": {
     "name": "#%%\n"
    }
   },
   "outputs": [
    {
     "data": {
      "application/vnd.plotly.v1+json": {
       "config": {
        "plotlyServerURL": "https://plot.ly"
       },
       "data": [
        {
         "mode": "lines+markers",
         "name": "Wildest Dreams (Taylor's Version)",
         "type": "scatter",
         "x": [
          "2021-10-02T00:00:00"
         ],
         "y": [
          37
         ]
        },
        {
         "mode": "lines+markers",
         "name": "Willow",
         "type": "scatter",
         "x": [
          "2021-05-08T00:00:00",
          "2021-05-01T00:00:00",
          "2021-04-24T00:00:00",
          "2021-04-17T00:00:00",
          "2021-04-10T00:00:00",
          "2021-04-03T00:00:00",
          "2021-03-27T00:00:00",
          "2021-03-20T00:00:00",
          "2021-03-13T00:00:00",
          "2021-03-06T00:00:00",
          "2021-02-27T00:00:00",
          "2021-02-20T00:00:00",
          "2021-02-13T00:00:00",
          "2021-02-06T00:00:00",
          "2021-01-30T00:00:00",
          "2021-01-23T00:00:00",
          "2021-01-16T00:00:00",
          "2021-01-09T00:00:00",
          "2021-01-02T00:00:00",
          "2020-12-26T00:00:00"
         ],
         "y": [
          61,
          60,
          62,
          60,
          59,
          50,
          39,
          42,
          32,
          29,
          25,
          29,
          29,
          28,
          28,
          29,
          22,
          23,
          38,
          1
         ]
        },
        {
         "mode": "lines+markers",
         "name": "Mr. Perfectly Fine (Taylor's Version) (From The Vault)",
         "type": "scatter",
         "x": [
          "2021-05-01T00:00:00",
          "2021-04-24T00:00:00",
          "2021-04-17T00:00:00"
         ],
         "y": [
          90,
          30,
          90
         ]
        },
        {
         "mode": "lines+markers",
         "name": "Love Story (Taylor's Version)",
         "type": "scatter",
         "x": [
          "2021-04-24T00:00:00",
          "2021-02-27T00:00:00"
         ],
         "y": [
          52,
          11
         ]
        },
        {
         "mode": "lines+markers",
         "name": "Forever & Always (Taylor's Version)",
         "type": "scatter",
         "x": [
          "2021-04-24T00:00:00"
         ],
         "y": [
          65
         ]
        },
        {
         "mode": "lines+markers",
         "name": "Fearless (Taylor's Version)",
         "type": "scatter",
         "x": [
          "2021-04-24T00:00:00"
         ],
         "y": [
          71
         ]
        },
        {
         "mode": "lines+markers",
         "name": "You Belong With Me (Taylor's Version)",
         "type": "scatter",
         "x": [
          "2021-04-24T00:00:00"
         ],
         "y": [
          75
         ]
        },
        {
         "mode": "lines+markers",
         "name": "Fifteen (Taylor's Version)",
         "type": "scatter",
         "x": [
          "2021-04-24T00:00:00"
         ],
         "y": [
          88
         ]
        },
        {
         "mode": "lines+markers",
         "name": "The Way I Loved You (Taylor's Version)",
         "type": "scatter",
         "x": [
          "2021-04-24T00:00:00"
         ],
         "y": [
          94
         ]
        },
        {
         "mode": "lines+markers",
         "name": "Champagne Problems",
         "type": "scatter",
         "x": [
          "2021-01-02T00:00:00",
          "2020-12-26T00:00:00"
         ],
         "y": [
          77,
          21
         ]
        },
        {
         "mode": "lines+markers",
         "name": "'Tis The Damn Season",
         "type": "scatter",
         "x": [
          "2021-01-02T00:00:00",
          "2020-12-26T00:00:00"
         ],
         "y": [
          91,
          39
         ]
        },
        {
         "mode": "lines+markers",
         "name": "Gold Rush",
         "type": "scatter",
         "x": [
          "2020-12-26T00:00:00"
         ],
         "y": [
          40
         ]
        },
        {
         "mode": "lines+markers",
         "name": "Tolerate It",
         "type": "scatter",
         "x": [
          "2020-12-26T00:00:00"
         ],
         "y": [
          45
         ]
        },
        {
         "mode": "lines+markers",
         "name": "Happiness",
         "type": "scatter",
         "x": [
          "2020-12-26T00:00:00"
         ],
         "y": [
          52
         ]
        },
        {
         "mode": "lines+markers",
         "name": "Ivy",
         "type": "scatter",
         "x": [
          "2020-12-26T00:00:00"
         ],
         "y": [
          61
         ]
        },
        {
         "mode": "lines+markers",
         "name": "Dorothea",
         "type": "scatter",
         "x": [
          "2020-12-26T00:00:00"
         ],
         "y": [
          67
         ]
        },
        {
         "mode": "lines+markers",
         "name": "Long Story Short",
         "type": "scatter",
         "x": [
          "2020-12-26T00:00:00"
         ],
         "y": [
          68
         ]
        },
        {
         "mode": "lines+markers",
         "name": "Cowboy Like Me",
         "type": "scatter",
         "x": [
          "2020-12-26T00:00:00"
         ],
         "y": [
          71
         ]
        },
        {
         "mode": "lines+markers",
         "name": "Marjorie",
         "type": "scatter",
         "x": [
          "2020-12-26T00:00:00"
         ],
         "y": [
          75
         ]
        },
        {
         "mode": "lines+markers",
         "name": "Closure",
         "type": "scatter",
         "x": [
          "2020-12-26T00:00:00"
         ],
         "y": [
          82
         ]
        },
        {
         "mode": "lines+markers",
         "name": "Cardigan",
         "type": "scatter",
         "x": [
          "2020-11-07T00:00:00",
          "2020-10-31T00:00:00",
          "2020-10-24T00:00:00",
          "2020-10-17T00:00:00",
          "2020-10-10T00:00:00",
          "2020-10-03T00:00:00",
          "2020-09-26T00:00:00",
          "2020-09-19T00:00:00",
          "2020-09-12T00:00:00",
          "2020-09-05T00:00:00",
          "2020-08-29T00:00:00",
          "2020-08-22T00:00:00",
          "2020-08-15T00:00:00",
          "2020-08-08T00:00:00"
         ],
         "y": [
          96,
          88,
          85,
          77,
          53,
          49,
          52,
          52,
          45,
          36,
          33,
          24,
          8,
          1
         ]
        },
        {
         "mode": "lines+markers",
         "name": "The 1",
         "type": "scatter",
         "x": [
          "2020-09-12T00:00:00",
          "2020-09-05T00:00:00",
          "2020-08-29T00:00:00",
          "2020-08-22T00:00:00",
          "2020-08-15T00:00:00",
          "2020-08-08T00:00:00"
         ],
         "y": [
          92,
          85,
          67,
          50,
          23,
          4
         ]
        },
        {
         "mode": "lines+markers",
         "name": "The Last Great American Dynasty",
         "type": "scatter",
         "x": [
          "2020-08-15T00:00:00",
          "2020-08-08T00:00:00"
         ],
         "y": [
          66,
          13
         ]
        },
        {
         "mode": "lines+markers",
         "name": "My Tears Ricochet",
         "type": "scatter",
         "x": [
          "2020-08-15T00:00:00",
          "2020-08-08T00:00:00"
         ],
         "y": [
          69,
          16
         ]
        },
        {
         "mode": "lines+markers",
         "name": "August",
         "type": "scatter",
         "x": [
          "2020-08-15T00:00:00",
          "2020-08-08T00:00:00"
         ],
         "y": [
          73,
          23
         ]
        },
        {
         "mode": "lines+markers",
         "name": "Invisible String",
         "type": "scatter",
         "x": [
          "2020-08-15T00:00:00",
          "2020-08-08T00:00:00"
         ],
         "y": [
          85,
          37
         ]
        },
        {
         "mode": "lines+markers",
         "name": "Betty",
         "type": "scatter",
         "x": [
          "2020-08-15T00:00:00",
          "2020-08-08T00:00:00"
         ],
         "y": [
          91,
          42
         ]
        },
        {
         "mode": "lines+markers",
         "name": "Mirrorball",
         "type": "scatter",
         "x": [
          "2020-08-15T00:00:00",
          "2020-08-08T00:00:00"
         ],
         "y": [
          93,
          26
         ]
        },
        {
         "mode": "lines+markers",
         "name": "Seven",
         "type": "scatter",
         "x": [
          "2020-08-15T00:00:00",
          "2020-08-08T00:00:00"
         ],
         "y": [
          98,
          35
         ]
        },
        {
         "mode": "lines+markers",
         "name": "This Is Me Trying",
         "type": "scatter",
         "x": [
          "2020-08-08T00:00:00"
         ],
         "y": [
          39
         ]
        },
        {
         "mode": "lines+markers",
         "name": "Illicit Affairs",
         "type": "scatter",
         "x": [
          "2020-08-08T00:00:00"
         ],
         "y": [
          44
         ]
        },
        {
         "mode": "lines+markers",
         "name": "Mad Woman",
         "type": "scatter",
         "x": [
          "2020-08-08T00:00:00"
         ],
         "y": [
          47
         ]
        },
        {
         "mode": "lines+markers",
         "name": "Epiphany",
         "type": "scatter",
         "x": [
          "2020-08-08T00:00:00"
         ],
         "y": [
          57
         ]
        },
        {
         "mode": "lines+markers",
         "name": "Peace",
         "type": "scatter",
         "x": [
          "2020-08-08T00:00:00"
         ],
         "y": [
          58
         ]
        },
        {
         "mode": "lines+markers",
         "name": "Hoax",
         "type": "scatter",
         "x": [
          "2020-08-08T00:00:00"
         ],
         "y": [
          71
         ]
        },
        {
         "mode": "lines+markers",
         "name": "The Man",
         "type": "scatter",
         "x": [
          "2020-04-25T00:00:00",
          "2020-04-18T00:00:00",
          "2020-04-11T00:00:00",
          "2020-03-14T00:00:00",
          "2020-03-07T00:00:00",
          "2019-09-21T00:00:00",
          "2019-09-14T00:00:00",
          "2019-09-07T00:00:00"
         ],
         "y": [
          88,
          88,
          90,
          85,
          92,
          96,
          61,
          23
         ]
        },
        {
         "mode": "lines+markers",
         "name": "Only The Young",
         "type": "scatter",
         "x": [
          "2020-02-15T00:00:00"
         ],
         "y": [
          50
         ]
        },
        {
         "mode": "lines+markers",
         "name": "Lover",
         "type": "scatter",
         "x": [
          "2020-01-25T00:00:00",
          "2020-01-18T00:00:00",
          "2020-01-11T00:00:00",
          "2020-01-04T00:00:00",
          "2019-12-28T00:00:00",
          "2019-12-21T00:00:00",
          "2019-12-14T00:00:00",
          "2019-12-07T00:00:00",
          "2019-11-30T00:00:00",
          "2019-11-23T00:00:00",
          "2019-11-16T00:00:00",
          "2019-11-09T00:00:00",
          "2019-11-02T00:00:00",
          "2019-10-26T00:00:00",
          "2019-10-19T00:00:00",
          "2019-10-12T00:00:00",
          "2019-10-05T00:00:00",
          "2019-09-28T00:00:00",
          "2019-09-21T00:00:00",
          "2019-09-14T00:00:00",
          "2019-09-07T00:00:00",
          "2019-08-31T00:00:00"
         ],
         "y": [
          50,
          36,
          34,
          57,
          48,
          40,
          32,
          19,
          15,
          26,
          43,
          48,
          38,
          37,
          34,
          45,
          44,
          49,
          49,
          23,
          10,
          19
         ]
        },
        {
         "mode": "lines+markers",
         "name": "Christmas Tree Farm",
         "type": "scatter",
         "x": [
          "2019-12-21T00:00:00"
         ],
         "y": [
          59
         ]
        },
        {
         "mode": "lines+markers",
         "name": "You Need To Calm Down",
         "type": "scatter",
         "x": [
          "2019-11-16T00:00:00",
          "2019-11-09T00:00:00",
          "2019-11-02T00:00:00",
          "2019-10-26T00:00:00",
          "2019-10-19T00:00:00",
          "2019-10-12T00:00:00",
          "2019-10-05T00:00:00",
          "2019-09-28T00:00:00",
          "2019-09-21T00:00:00",
          "2019-09-14T00:00:00",
          "2019-09-07T00:00:00",
          "2019-08-31T00:00:00",
          "2019-08-24T00:00:00",
          "2019-08-17T00:00:00",
          "2019-08-10T00:00:00",
          "2019-08-03T00:00:00",
          "2019-07-27T00:00:00",
          "2019-07-20T00:00:00",
          "2019-07-13T00:00:00",
          "2019-07-06T00:00:00",
          "2019-06-29T00:00:00"
         ],
         "y": [
          46,
          52,
          37,
          33,
          28,
          27,
          23,
          21,
          24,
          12,
          4,
          14,
          18,
          18,
          16,
          15,
          15,
          16,
          13,
          13,
          2
         ]
        },
        {
         "mode": "lines+markers",
         "name": "Cruel Summer",
         "type": "scatter",
         "x": [
          "2019-09-14T00:00:00",
          "2019-09-07T00:00:00"
         ],
         "y": [
          71,
          29
         ]
        },
        {
         "mode": "lines+markers",
         "name": "I Forgot That You Existed",
         "type": "scatter",
         "x": [
          "2019-09-14T00:00:00",
          "2019-09-07T00:00:00"
         ],
         "y": [
          74,
          28
         ]
        },
        {
         "mode": "lines+markers",
         "name": "The Archer",
         "type": "scatter",
         "x": [
          "2019-09-07T00:00:00",
          "2019-08-10T00:00:00",
          "2019-08-03T00:00:00"
         ],
         "y": [
          38,
          79,
          69
         ]
        },
        {
         "mode": "lines+markers",
         "name": "Paper Rings",
         "type": "scatter",
         "x": [
          "2019-09-07T00:00:00"
         ],
         "y": [
          45
         ]
        },
        {
         "mode": "lines+markers",
         "name": "Miss Americana & The Heartbreak Prince",
         "type": "scatter",
         "x": [
          "2019-09-07T00:00:00"
         ],
         "y": [
          49
         ]
        },
        {
         "mode": "lines+markers",
         "name": "I Think He Knows",
         "type": "scatter",
         "x": [
          "2019-09-07T00:00:00"
         ],
         "y": [
          51
         ]
        },
        {
         "mode": "lines+markers",
         "name": "Cornelia Street",
         "type": "scatter",
         "x": [
          "2019-09-07T00:00:00"
         ],
         "y": [
          57
         ]
        },
        {
         "mode": "lines+markers",
         "name": "London Boy",
         "type": "scatter",
         "x": [
          "2019-09-07T00:00:00"
         ],
         "y": [
          62
         ]
        },
        {
         "mode": "lines+markers",
         "name": "Death By A Thousand Cuts",
         "type": "scatter",
         "x": [
          "2019-09-07T00:00:00"
         ],
         "y": [
          67
         ]
        },
        {
         "mode": "lines+markers",
         "name": "Afterglow",
         "type": "scatter",
         "x": [
          "2019-09-07T00:00:00"
         ],
         "y": [
          75
         ]
        },
        {
         "mode": "lines+markers",
         "name": "False God",
         "type": "scatter",
         "x": [
          "2019-09-07T00:00:00"
         ],
         "y": [
          77
         ]
        },
        {
         "mode": "lines+markers",
         "name": "Daylight",
         "type": "scatter",
         "x": [
          "2019-09-07T00:00:00"
         ],
         "y": [
          89
         ]
        },
        {
         "mode": "lines+markers",
         "name": "It's Nice To Have A Friend",
         "type": "scatter",
         "x": [
          "2019-09-07T00:00:00"
         ],
         "y": [
          92
         ]
        },
        {
         "mode": "lines+markers",
         "name": "Delicate",
         "type": "scatter",
         "x": [
          "2018-11-17T00:00:00",
          "2018-11-10T00:00:00",
          "2018-11-03T00:00:00",
          "2018-10-27T00:00:00",
          "2018-10-20T00:00:00",
          "2018-10-13T00:00:00",
          "2018-10-06T00:00:00",
          "2018-09-29T00:00:00",
          "2018-09-22T00:00:00",
          "2018-09-15T00:00:00",
          "2018-09-08T00:00:00",
          "2018-09-01T00:00:00",
          "2018-08-25T00:00:00",
          "2018-08-18T00:00:00",
          "2018-08-11T00:00:00",
          "2018-08-04T00:00:00",
          "2018-07-28T00:00:00",
          "2018-07-21T00:00:00",
          "2018-07-14T00:00:00",
          "2018-07-07T00:00:00",
          "2018-06-30T00:00:00",
          "2018-06-23T00:00:00",
          "2018-06-16T00:00:00",
          "2018-06-09T00:00:00",
          "2018-06-02T00:00:00",
          "2018-05-26T00:00:00",
          "2018-05-19T00:00:00",
          "2018-05-12T00:00:00",
          "2018-05-05T00:00:00",
          "2018-04-28T00:00:00",
          "2018-04-21T00:00:00",
          "2018-04-14T00:00:00",
          "2018-04-07T00:00:00",
          "2018-03-31T00:00:00",
          "2018-03-24T00:00:00"
         ],
         "y": [
          49,
          43,
          38,
          34,
          33,
          37,
          29,
          27,
          25,
          29,
          25,
          19,
          16,
          17,
          13,
          12,
          12,
          15,
          23,
          20,
          27,
          25,
          37,
          28,
          34,
          36,
          46,
          56,
          52,
          51,
          54,
          46,
          52,
          66,
          84
         ]
        },
        {
         "mode": "lines+markers",
         "name": "...Ready For It?",
         "type": "scatter",
         "x": [
          "2018-01-27T00:00:00",
          "2018-01-20T00:00:00",
          "2018-01-13T00:00:00",
          "2018-01-06T00:00:00",
          "2017-12-30T00:00:00",
          "2017-12-23T00:00:00",
          "2017-12-16T00:00:00",
          "2017-12-09T00:00:00",
          "2017-12-02T00:00:00",
          "2017-11-25T00:00:00",
          "2017-11-18T00:00:00",
          "2017-11-11T00:00:00",
          "2017-11-04T00:00:00",
          "2017-10-28T00:00:00",
          "2017-10-21T00:00:00",
          "2017-10-14T00:00:00",
          "2017-10-07T00:00:00",
          "2017-09-30T00:00:00",
          "2017-09-23T00:00:00"
         ],
         "y": [
          96,
          80,
          58,
          61,
          37,
          43,
          31,
          24,
          18,
          30,
          19,
          46,
          52,
          53,
          47,
          39,
          34,
          21,
          4
         ]
        },
        {
         "mode": "lines+markers",
         "name": "Look What You Made Me Do",
         "type": "scatter",
         "x": [
          "2018-01-13T00:00:00",
          "2018-01-06T00:00:00",
          "2017-12-30T00:00:00",
          "2017-12-23T00:00:00",
          "2017-12-16T00:00:00",
          "2017-12-09T00:00:00",
          "2017-12-02T00:00:00",
          "2017-11-25T00:00:00",
          "2017-11-18T00:00:00",
          "2017-11-11T00:00:00",
          "2017-11-04T00:00:00",
          "2017-10-28T00:00:00",
          "2017-10-21T00:00:00",
          "2017-10-14T00:00:00",
          "2017-10-07T00:00:00",
          "2017-09-30T00:00:00",
          "2017-09-23T00:00:00",
          "2017-09-16T00:00:00",
          "2017-09-09T00:00:00"
         ],
         "y": [
          55,
          66,
          70,
          72,
          60,
          44,
          31,
          37,
          34,
          25,
          10,
          4,
          5,
          3,
          3,
          1,
          1,
          1,
          77
         ]
        },
        {
         "mode": "lines+markers",
         "name": "Call It What You Want",
         "type": "scatter",
         "x": [
          "2017-12-02T00:00:00",
          "2017-11-25T00:00:00"
         ],
         "y": [
          73,
          27
         ]
        },
        {
         "mode": "lines+markers",
         "name": "Gorgeous",
         "type": "scatter",
         "x": [
          "2017-12-02T00:00:00",
          "2017-11-25T00:00:00",
          "2017-11-18T00:00:00",
          "2017-11-11T00:00:00"
         ],
         "y": [
          89,
          85,
          69,
          13
         ]
        },
        {
         "mode": "lines+markers",
         "name": "New Romantics",
         "type": "scatter",
         "x": [
          "2016-05-07T00:00:00",
          "2016-04-30T00:00:00",
          "2016-04-23T00:00:00",
          "2016-04-16T00:00:00",
          "2016-04-09T00:00:00",
          "2016-04-02T00:00:00",
          "2016-03-26T00:00:00",
          "2015-03-21T00:00:00"
         ],
         "y": [
          78,
          46,
          62,
          61,
          62,
          69,
          73,
          71
         ]
        },
        {
         "mode": "lines+markers",
         "name": "Wildest Dreams",
         "type": "scatter",
         "x": [
          "2016-03-12T00:00:00",
          "2016-03-05T00:00:00",
          "2016-02-27T00:00:00",
          "2016-02-20T00:00:00",
          "2016-02-13T00:00:00",
          "2016-02-06T00:00:00",
          "2016-01-30T00:00:00",
          "2016-01-23T00:00:00",
          "2016-01-16T00:00:00",
          "2016-01-09T00:00:00",
          "2016-01-02T00:00:00",
          "2015-12-26T00:00:00",
          "2015-12-19T00:00:00",
          "2015-12-12T00:00:00",
          "2015-12-05T00:00:00",
          "2015-11-28T00:00:00",
          "2015-11-21T00:00:00",
          "2015-11-14T00:00:00",
          "2015-11-07T00:00:00",
          "2015-10-31T00:00:00",
          "2015-10-24T00:00:00",
          "2015-10-17T00:00:00",
          "2015-10-10T00:00:00",
          "2015-10-03T00:00:00",
          "2015-09-26T00:00:00",
          "2015-09-19T00:00:00",
          "2014-11-15T00:00:00"
         ],
         "y": [
          46,
          46,
          38,
          35,
          34,
          34,
          28,
          21,
          18,
          22,
          23,
          18,
          14,
          13,
          9,
          8,
          8,
          7,
          5,
          6,
          9,
          8,
          10,
          13,
          12,
          15,
          76
         ]
        },
        {
         "mode": "lines+markers",
         "name": "Out Of The Woods",
         "type": "scatter",
         "x": [
          "2016-03-12T00:00:00",
          "2016-03-05T00:00:00",
          "2016-02-27T00:00:00",
          "2016-02-20T00:00:00",
          "2016-02-13T00:00:00",
          "2016-02-06T00:00:00",
          "2016-01-30T00:00:00",
          "2016-01-23T00:00:00",
          "2014-11-08T00:00:00",
          "2014-11-01T00:00:00"
         ],
         "y": [
          77,
          53,
          51,
          49,
          44,
          50,
          55,
          46,
          77,
          18
         ]
        },
        {
         "mode": "lines+markers",
         "name": "Shake It Off",
         "type": "scatter",
         "x": [
          "2015-08-15T00:00:00",
          "2015-08-08T00:00:00",
          "2015-08-01T00:00:00",
          "2015-07-25T00:00:00",
          "2015-07-18T00:00:00",
          "2015-07-11T00:00:00",
          "2015-07-04T00:00:00",
          "2015-06-27T00:00:00",
          "2015-06-20T00:00:00",
          "2015-06-13T00:00:00",
          "2015-06-06T00:00:00",
          "2015-05-30T00:00:00",
          "2015-05-23T00:00:00",
          "2015-05-16T00:00:00",
          "2015-05-09T00:00:00",
          "2015-05-02T00:00:00",
          "2015-04-25T00:00:00",
          "2015-04-18T00:00:00",
          "2015-04-11T00:00:00",
          "2015-04-04T00:00:00",
          "2015-03-28T00:00:00",
          "2015-03-21T00:00:00",
          "2015-03-14T00:00:00",
          "2015-03-07T00:00:00",
          "2015-02-28T00:00:00",
          "2015-02-21T00:00:00",
          "2015-02-14T00:00:00",
          "2015-02-07T00:00:00",
          "2015-01-31T00:00:00",
          "2015-01-24T00:00:00",
          "2015-01-17T00:00:00",
          "2015-01-10T00:00:00",
          "2015-01-03T00:00:00",
          "2014-12-27T00:00:00",
          "2014-12-20T00:00:00",
          "2014-12-13T00:00:00",
          "2014-12-06T00:00:00",
          "2014-11-29T00:00:00",
          "2014-11-22T00:00:00",
          "2014-11-15T00:00:00",
          "2014-11-08T00:00:00",
          "2014-11-01T00:00:00",
          "2014-10-25T00:00:00",
          "2014-10-18T00:00:00",
          "2014-10-11T00:00:00",
          "2014-10-04T00:00:00",
          "2014-09-27T00:00:00",
          "2014-09-20T00:00:00",
          "2014-09-13T00:00:00",
          "2014-09-06T00:00:00"
         ],
         "y": [
          50,
          47,
          47,
          50,
          46,
          39,
          40,
          39,
          38,
          39,
          34,
          34,
          35,
          34,
          33,
          32,
          27,
          26,
          24,
          24,
          22,
          24,
          21,
          15,
          15,
          10,
          9,
          5,
          5,
          9,
          7,
          9,
          11,
          10,
          6,
          4,
          5,
          3,
          1,
          1,
          2,
          2,
          2,
          2,
          2,
          2,
          2,
          2,
          1,
          1
         ]
        },
        {
         "mode": "lines+markers",
         "name": "Style",
         "type": "scatter",
         "x": [
          "2015-08-01T00:00:00",
          "2015-07-25T00:00:00",
          "2015-07-18T00:00:00",
          "2015-07-11T00:00:00",
          "2015-07-04T00:00:00",
          "2015-06-27T00:00:00",
          "2015-06-20T00:00:00",
          "2015-06-13T00:00:00",
          "2015-06-06T00:00:00",
          "2015-05-30T00:00:00",
          "2015-05-23T00:00:00",
          "2015-05-16T00:00:00",
          "2015-05-09T00:00:00",
          "2015-05-02T00:00:00",
          "2015-04-25T00:00:00",
          "2015-04-18T00:00:00",
          "2015-04-11T00:00:00",
          "2015-04-04T00:00:00",
          "2015-03-28T00:00:00",
          "2015-03-21T00:00:00",
          "2015-03-14T00:00:00",
          "2015-03-07T00:00:00",
          "2015-02-28T00:00:00",
          "2015-02-21T00:00:00",
          "2015-02-14T00:00:00",
          "2015-02-07T00:00:00",
          "2015-01-31T00:00:00",
          "2015-01-24T00:00:00",
          "2015-01-17T00:00:00",
          "2015-01-10T00:00:00",
          "2014-12-27T00:00:00",
          "2014-11-15T00:00:00"
         ],
         "y": [
          48,
          48,
          48,
          41,
          38,
          34,
          31,
          27,
          23,
          20,
          17,
          15,
          12,
          12,
          10,
          7,
          7,
          7,
          7,
          6,
          7,
          8,
          10,
          18,
          29,
          37,
          52,
          72,
          71,
          84,
          76,
          60
         ]
        },
        {
         "mode": "lines+markers",
         "name": "Blank Space",
         "type": "scatter",
         "x": [
          "2015-07-18T00:00:00",
          "2015-07-11T00:00:00",
          "2015-07-04T00:00:00",
          "2015-06-27T00:00:00",
          "2015-06-20T00:00:00",
          "2015-06-13T00:00:00",
          "2015-06-06T00:00:00",
          "2015-05-30T00:00:00",
          "2015-05-23T00:00:00",
          "2015-05-16T00:00:00",
          "2015-05-09T00:00:00",
          "2015-05-02T00:00:00",
          "2015-04-25T00:00:00",
          "2015-04-18T00:00:00",
          "2015-04-11T00:00:00",
          "2015-04-04T00:00:00",
          "2015-03-28T00:00:00",
          "2015-03-21T00:00:00",
          "2015-03-14T00:00:00",
          "2015-03-07T00:00:00",
          "2015-02-28T00:00:00",
          "2015-02-21T00:00:00",
          "2015-02-14T00:00:00",
          "2015-02-07T00:00:00",
          "2015-01-31T00:00:00",
          "2015-01-24T00:00:00",
          "2015-01-17T00:00:00",
          "2015-01-10T00:00:00",
          "2015-01-03T00:00:00",
          "2014-12-27T00:00:00",
          "2014-12-20T00:00:00",
          "2014-12-13T00:00:00",
          "2014-12-06T00:00:00",
          "2014-11-29T00:00:00",
          "2014-11-22T00:00:00",
          "2014-11-15T00:00:00"
         ],
         "y": [
          50,
          45,
          42,
          42,
          37,
          35,
          32,
          29,
          26,
          25,
          24,
          23,
          19,
          17,
          13,
          11,
          12,
          10,
          8,
          7,
          7,
          5,
          4,
          4,
          3,
          2,
          2,
          1,
          1,
          1,
          1,
          1,
          1,
          1,
          13,
          18
         ]
        },
        {
         "mode": "lines+markers",
         "name": "You Are In Love",
         "type": "scatter",
         "x": [
          "2015-03-14T00:00:00"
         ],
         "y": [
          83
         ]
        },
        {
         "mode": "lines+markers",
         "name": "Wonderland",
         "type": "scatter",
         "x": [
          "2015-03-07T00:00:00"
         ],
         "y": [
          51
         ]
        },
        {
         "mode": "lines+markers",
         "name": "Welcome To New York",
         "type": "scatter",
         "x": [
          "2014-11-15T00:00:00",
          "2014-11-08T00:00:00"
         ],
         "y": [
          69,
          48
         ]
        },
        {
         "mode": "lines+markers",
         "name": "Red",
         "type": "scatter",
         "x": [
          "2013-12-14T00:00:00",
          "2013-12-07T00:00:00",
          "2013-11-30T00:00:00",
          "2013-11-23T00:00:00",
          "2013-11-16T00:00:00",
          "2013-11-09T00:00:00",
          "2013-11-02T00:00:00",
          "2013-10-26T00:00:00",
          "2013-10-19T00:00:00",
          "2013-10-12T00:00:00",
          "2013-10-05T00:00:00",
          "2013-09-28T00:00:00",
          "2013-09-21T00:00:00",
          "2013-09-14T00:00:00",
          "2013-09-07T00:00:00",
          "2013-08-31T00:00:00",
          "2013-08-24T00:00:00",
          "2013-01-12T00:00:00",
          "2012-11-17T00:00:00",
          "2012-11-03T00:00:00",
          "2012-10-27T00:00:00",
          "2012-10-20T00:00:00"
         ],
         "y": [
          51,
          53,
          51,
          32,
          76,
          76,
          73,
          73,
          73,
          75,
          76,
          76,
          76,
          82,
          86,
          85,
          100,
          80,
          89,
          77,
          54,
          6
         ]
        },
        {
         "mode": "lines+markers",
         "name": "Sweeter Than Fiction",
         "type": "scatter",
         "x": [
          "2013-11-09T00:00:00"
         ],
         "y": [
          34
         ]
        },
        {
         "mode": "lines+markers",
         "name": "22",
         "type": "scatter",
         "x": [
          "2013-07-27T00:00:00",
          "2013-07-20T00:00:00",
          "2013-07-13T00:00:00",
          "2013-07-06T00:00:00",
          "2013-06-29T00:00:00",
          "2013-06-22T00:00:00",
          "2013-06-15T00:00:00",
          "2013-06-08T00:00:00",
          "2013-06-01T00:00:00",
          "2013-05-25T00:00:00",
          "2013-05-18T00:00:00",
          "2013-05-11T00:00:00",
          "2013-05-04T00:00:00",
          "2013-04-27T00:00:00",
          "2013-04-20T00:00:00",
          "2013-04-13T00:00:00",
          "2013-04-06T00:00:00",
          "2013-03-30T00:00:00",
          "2013-01-12T00:00:00",
          "2012-11-10T00:00:00"
         ],
         "y": [
          65,
          55,
          49,
          41,
          32,
          26,
          24,
          23,
          26,
          25,
          21,
          20,
          24,
          32,
          34,
          33,
          26,
          64,
          84,
          44
         ]
        },
        {
         "mode": "lines+markers",
         "name": "I Knew You Were Trouble.",
         "type": "scatter",
         "x": [
          "2013-07-06T00:00:00",
          "2013-06-29T00:00:00",
          "2013-06-22T00:00:00",
          "2013-06-15T00:00:00",
          "2013-06-08T00:00:00",
          "2013-06-01T00:00:00",
          "2013-05-25T00:00:00",
          "2013-05-18T00:00:00",
          "2013-05-11T00:00:00",
          "2013-05-04T00:00:00",
          "2013-04-27T00:00:00",
          "2013-04-20T00:00:00",
          "2013-04-13T00:00:00",
          "2013-04-06T00:00:00",
          "2013-03-30T00:00:00",
          "2013-03-23T00:00:00",
          "2013-03-16T00:00:00",
          "2013-03-09T00:00:00",
          "2013-03-02T00:00:00",
          "2013-02-23T00:00:00",
          "2013-02-16T00:00:00",
          "2013-02-09T00:00:00",
          "2013-02-02T00:00:00",
          "2013-01-26T00:00:00",
          "2013-01-19T00:00:00",
          "2013-01-12T00:00:00",
          "2013-01-05T00:00:00",
          "2012-12-29T00:00:00",
          "2012-12-22T00:00:00",
          "2012-12-15T00:00:00",
          "2012-12-08T00:00:00",
          "2012-12-01T00:00:00",
          "2012-11-24T00:00:00",
          "2012-11-17T00:00:00",
          "2012-11-03T00:00:00",
          "2012-10-27T00:00:00"
         ],
         "y": [
          49,
          49,
          42,
          43,
          48,
          41,
          36,
          35,
          34,
          25,
          19,
          16,
          12,
          10,
          7,
          6,
          4,
          4,
          5,
          5,
          5,
          4,
          5,
          4,
          3,
          2,
          4,
          10,
          15,
          32,
          47,
          77,
          73,
          59,
          23,
          3
         ]
        },
        {
         "mode": "lines+markers",
         "name": "Begin Again",
         "type": "scatter",
         "x": [
          "2013-03-02T00:00:00",
          "2013-02-23T00:00:00",
          "2013-02-16T00:00:00",
          "2013-02-09T00:00:00",
          "2013-02-02T00:00:00",
          "2013-01-26T00:00:00",
          "2013-01-19T00:00:00",
          "2013-01-12T00:00:00",
          "2013-01-05T00:00:00",
          "2012-12-29T00:00:00",
          "2012-12-22T00:00:00",
          "2012-12-15T00:00:00",
          "2012-12-08T00:00:00",
          "2012-12-01T00:00:00",
          "2012-11-24T00:00:00",
          "2012-11-17T00:00:00",
          "2012-11-03T00:00:00",
          "2012-10-27T00:00:00",
          "2012-10-20T00:00:00",
          "2012-10-13T00:00:00"
         ],
         "y": [
          65,
          71,
          75,
          78,
          73,
          73,
          73,
          63,
          76,
          75,
          78,
          77,
          78,
          73,
          71,
          68,
          78,
          70,
          52,
          7
         ]
        },
        {
         "mode": "lines+markers",
         "name": "We Are Never Ever Getting Back Together",
         "type": "scatter",
         "x": [
          "2013-02-02T00:00:00",
          "2013-01-26T00:00:00",
          "2013-01-19T00:00:00",
          "2013-01-12T00:00:00",
          "2013-01-05T00:00:00",
          "2012-12-29T00:00:00",
          "2012-12-22T00:00:00",
          "2012-12-15T00:00:00",
          "2012-12-08T00:00:00",
          "2012-12-01T00:00:00",
          "2012-11-24T00:00:00",
          "2012-11-17T00:00:00",
          "2012-11-10T00:00:00",
          "2012-11-03T00:00:00",
          "2012-10-27T00:00:00",
          "2012-10-20T00:00:00",
          "2012-10-13T00:00:00",
          "2012-10-06T00:00:00",
          "2012-09-29T00:00:00",
          "2012-09-22T00:00:00",
          "2012-09-15T00:00:00",
          "2012-09-08T00:00:00",
          "2012-09-01T00:00:00",
          "2012-08-25T00:00:00"
         ],
         "y": [
          46,
          39,
          25,
          17,
          29,
          27,
          25,
          15,
          11,
          9,
          7,
          5,
          11,
          4,
          5,
          5,
          4,
          4,
          2,
          1,
          2,
          1,
          1,
          72
         ]
        },
        {
         "mode": "lines+markers",
         "name": "The Moment I Knew",
         "type": "scatter",
         "x": [
          "2013-01-26T00:00:00"
         ],
         "y": [
          64
         ]
        },
        {
         "mode": "lines+markers",
         "name": "I Almost Do",
         "type": "scatter",
         "x": [
          "2012-11-10T00:00:00"
         ],
         "y": [
          65
         ]
        },
        {
         "mode": "lines+markers",
         "name": "All Too Well",
         "type": "scatter",
         "x": [
          "2012-11-10T00:00:00"
         ],
         "y": [
          80
         ]
        },
        {
         "mode": "lines+markers",
         "name": "Stay Stay Stay",
         "type": "scatter",
         "x": [
          "2012-11-10T00:00:00"
         ],
         "y": [
          91
         ]
        },
        {
         "mode": "lines+markers",
         "name": "State Of Grace",
         "type": "scatter",
         "x": [
          "2012-11-03T00:00:00"
         ],
         "y": [
          13
         ]
        },
        {
         "mode": "lines+markers",
         "name": "Ronan",
         "type": "scatter",
         "x": [
          "2012-09-29T00:00:00",
          "2012-09-22T00:00:00"
         ],
         "y": [
          36,
          16
         ]
        },
        {
         "mode": "lines+markers",
         "name": "Eyes Open",
         "type": "scatter",
         "x": [
          "2012-06-30T00:00:00",
          "2012-06-23T00:00:00",
          "2012-06-16T00:00:00",
          "2012-06-09T00:00:00",
          "2012-06-02T00:00:00",
          "2012-05-26T00:00:00",
          "2012-05-19T00:00:00",
          "2012-05-12T00:00:00",
          "2012-05-05T00:00:00",
          "2012-04-28T00:00:00",
          "2012-04-21T00:00:00",
          "2012-04-14T00:00:00",
          "2012-04-07T00:00:00"
         ],
         "y": [
          93,
          87,
          75,
          60,
          45,
          36,
          23,
          20,
          21,
          23,
          29,
          26,
          19
         ]
        },
        {
         "mode": "lines+markers",
         "name": "Ours",
         "type": "scatter",
         "x": [
          "2012-04-07T00:00:00",
          "2012-03-31T00:00:00",
          "2012-03-24T00:00:00",
          "2012-03-17T00:00:00",
          "2012-03-10T00:00:00",
          "2012-03-03T00:00:00",
          "2012-02-25T00:00:00",
          "2012-02-18T00:00:00",
          "2012-02-11T00:00:00",
          "2012-02-04T00:00:00",
          "2012-01-28T00:00:00",
          "2012-01-21T00:00:00",
          "2012-01-14T00:00:00",
          "2012-01-07T00:00:00",
          "2011-12-31T00:00:00",
          "2011-12-24T00:00:00",
          "2011-12-17T00:00:00",
          "2011-12-10T00:00:00",
          "2011-12-03T00:00:00",
          "2011-11-26T00:00:00"
         ],
         "y": [
          42,
          41,
          39,
          48,
          45,
          46,
          47,
          42,
          46,
          44,
          47,
          43,
          43,
          45,
          47,
          65,
          83,
          81,
          56,
          13
         ]
        },
        {
         "mode": "lines+markers",
         "name": "Sparks Fly",
         "type": "scatter",
         "x": [
          "2011-12-24T00:00:00",
          "2011-12-17T00:00:00",
          "2011-12-10T00:00:00",
          "2011-12-03T00:00:00",
          "2011-11-26T00:00:00",
          "2011-11-19T00:00:00",
          "2011-11-12T00:00:00",
          "2011-11-05T00:00:00",
          "2011-10-29T00:00:00",
          "2011-10-22T00:00:00",
          "2011-10-15T00:00:00",
          "2011-10-08T00:00:00",
          "2011-10-01T00:00:00",
          "2011-09-24T00:00:00",
          "2011-09-17T00:00:00",
          "2011-09-10T00:00:00",
          "2011-09-03T00:00:00",
          "2011-08-27T00:00:00",
          "2010-11-20T00:00:00",
          "2010-11-13T00:00:00"
         ],
         "y": [
          85,
          65,
          55,
          54,
          49,
          42,
          46,
          49,
          50,
          54,
          60,
          59,
          57,
          64,
          68,
          67,
          70,
          84,
          78,
          17
         ]
        },
        {
         "mode": "lines+markers",
         "name": "If This Was A Movie",
         "type": "scatter",
         "x": [
          "2011-12-03T00:00:00",
          "2011-11-26T00:00:00"
         ],
         "y": [
          53,
          10
         ]
        },
        {
         "mode": "lines+markers",
         "name": "Superman",
         "type": "scatter",
         "x": [
          "2011-11-26T00:00:00"
         ],
         "y": [
          26
         ]
        },
        {
         "mode": "lines+markers",
         "name": "Haunted",
         "type": "scatter",
         "x": [
          "2011-11-26T00:00:00",
          "2010-11-13T00:00:00"
         ],
         "y": [
          98,
          63
         ]
        },
        {
         "mode": "lines+markers",
         "name": "Mean",
         "type": "scatter",
         "x": [
          "2011-08-13T00:00:00",
          "2011-08-06T00:00:00",
          "2011-07-30T00:00:00",
          "2011-07-23T00:00:00",
          "2011-07-16T00:00:00",
          "2011-07-09T00:00:00",
          "2011-07-02T00:00:00",
          "2011-06-25T00:00:00",
          "2011-06-18T00:00:00",
          "2011-06-11T00:00:00",
          "2011-06-04T00:00:00",
          "2011-05-28T00:00:00",
          "2011-05-21T00:00:00",
          "2011-05-14T00:00:00",
          "2011-05-07T00:00:00",
          "2011-04-30T00:00:00",
          "2011-04-23T00:00:00",
          "2011-04-16T00:00:00",
          "2011-04-09T00:00:00",
          "2010-11-06T00:00:00"
         ],
         "y": [
          63,
          61,
          55,
          44,
          39,
          34,
          31,
          37,
          33,
          39,
          34,
          37,
          46,
          54,
          50,
          51,
          48,
          67,
          90,
          11
         ]
        },
        {
         "mode": "lines+markers",
         "name": "The Story Of Us",
         "type": "scatter",
         "x": [
          "2011-08-06T00:00:00",
          "2011-07-30T00:00:00",
          "2011-07-23T00:00:00",
          "2011-07-16T00:00:00",
          "2011-07-09T00:00:00",
          "2011-07-02T00:00:00",
          "2011-06-25T00:00:00",
          "2011-06-18T00:00:00",
          "2011-06-11T00:00:00",
          "2011-06-04T00:00:00",
          "2011-05-28T00:00:00",
          "2010-11-13T00:00:00"
         ],
         "y": [
          97,
          83,
          69,
          72,
          67,
          67,
          66,
          72,
          77,
          88,
          98,
          41
         ]
        },
        {
         "mode": "lines+markers",
         "name": "Back To December",
         "type": "scatter",
         "x": [
          "2011-03-26T00:00:00",
          "2011-03-19T00:00:00",
          "2011-03-12T00:00:00",
          "2011-03-05T00:00:00",
          "2011-02-26T00:00:00",
          "2011-02-19T00:00:00",
          "2011-02-12T00:00:00",
          "2011-02-05T00:00:00",
          "2011-01-29T00:00:00",
          "2011-01-22T00:00:00",
          "2011-01-15T00:00:00",
          "2011-01-08T00:00:00",
          "2011-01-01T00:00:00",
          "2010-12-25T00:00:00",
          "2010-12-18T00:00:00",
          "2010-12-11T00:00:00",
          "2010-12-04T00:00:00",
          "2010-11-27T00:00:00",
          "2010-11-06T00:00:00",
          "2010-10-30T00:00:00"
         ],
         "y": [
          37,
          32,
          29,
          24,
          24,
          20,
          18,
          22,
          26,
          25,
          25,
          27,
          26,
          34,
          43,
          47,
          67,
          74,
          30,
          6
         ]
        },
        {
         "mode": "lines+markers",
         "name": "Mine",
         "type": "scatter",
         "x": [
          "2011-01-22T00:00:00",
          "2011-01-15T00:00:00",
          "2011-01-08T00:00:00",
          "2011-01-01T00:00:00",
          "2010-12-25T00:00:00",
          "2010-12-18T00:00:00",
          "2010-12-11T00:00:00",
          "2010-12-04T00:00:00",
          "2010-11-27T00:00:00",
          "2010-11-20T00:00:00",
          "2010-11-13T00:00:00",
          "2010-11-06T00:00:00",
          "2010-10-30T00:00:00",
          "2010-10-23T00:00:00",
          "2010-10-16T00:00:00",
          "2010-10-09T00:00:00",
          "2010-10-02T00:00:00",
          "2010-09-25T00:00:00",
          "2010-09-18T00:00:00",
          "2010-09-11T00:00:00",
          "2010-09-04T00:00:00",
          "2010-08-28T00:00:00",
          "2010-08-21T00:00:00"
         ],
         "y": [
          50,
          31,
          42,
          52,
          50,
          47,
          37,
          33,
          23,
          16,
          21,
          13,
          14,
          14,
          12,
          11,
          12,
          10,
          7,
          9,
          14,
          8,
          3
         ]
        },
        {
         "mode": "lines+markers",
         "name": "Innocent",
         "type": "scatter",
         "x": [
          "2010-11-13T00:00:00"
         ],
         "y": [
          27
         ]
        },
        {
         "mode": "lines+markers",
         "name": "Dear John",
         "type": "scatter",
         "x": [
          "2010-11-13T00:00:00"
         ],
         "y": [
          54
         ]
        },
        {
         "mode": "lines+markers",
         "name": "Better Than Revenge",
         "type": "scatter",
         "x": [
          "2010-11-13T00:00:00"
         ],
         "y": [
          56
         ]
        },
        {
         "mode": "lines+markers",
         "name": "Last Kiss",
         "type": "scatter",
         "x": [
          "2010-11-13T00:00:00"
         ],
         "y": [
          71
         ]
        },
        {
         "mode": "lines+markers",
         "name": "Enchanted",
         "type": "scatter",
         "x": [
          "2010-11-13T00:00:00"
         ],
         "y": [
          75
         ]
        },
        {
         "mode": "lines+markers",
         "name": "Never Grow Up",
         "type": "scatter",
         "x": [
          "2010-11-13T00:00:00"
         ],
         "y": [
          84
         ]
        },
        {
         "mode": "lines+markers",
         "name": "Long Live",
         "type": "scatter",
         "x": [
          "2010-11-13T00:00:00"
         ],
         "y": [
          85
         ]
        },
        {
         "mode": "lines+markers",
         "name": "Speak Now",
         "type": "scatter",
         "x": [
          "2010-11-06T00:00:00",
          "2010-10-30T00:00:00",
          "2010-10-23T00:00:00"
         ],
         "y": [
          86,
          45,
          8
         ]
        },
        {
         "mode": "lines+markers",
         "name": "Today Was A Fairytale",
         "type": "scatter",
         "x": [
          "2010-06-05T00:00:00",
          "2010-05-29T00:00:00",
          "2010-05-22T00:00:00",
          "2010-05-15T00:00:00",
          "2010-05-08T00:00:00",
          "2010-05-01T00:00:00",
          "2010-04-24T00:00:00",
          "2010-04-17T00:00:00",
          "2010-04-10T00:00:00",
          "2010-04-03T00:00:00",
          "2010-03-27T00:00:00",
          "2010-03-20T00:00:00",
          "2010-03-13T00:00:00",
          "2010-03-06T00:00:00",
          "2010-02-27T00:00:00",
          "2010-02-20T00:00:00",
          "2010-02-13T00:00:00",
          "2010-02-06T00:00:00"
         ],
         "y": [
          97,
          96,
          85,
          81,
          65,
          56,
          41,
          38,
          36,
          35,
          30,
          30,
          31,
          24,
          30,
          39,
          22,
          2
         ]
        },
        {
         "mode": "lines+markers",
         "name": "Fearless",
         "type": "scatter",
         "x": [
          "2010-05-01T00:00:00",
          "2010-04-24T00:00:00",
          "2010-04-17T00:00:00",
          "2010-04-10T00:00:00",
          "2010-04-03T00:00:00",
          "2010-03-27T00:00:00",
          "2010-03-20T00:00:00",
          "2010-03-13T00:00:00",
          "2010-02-27T00:00:00",
          "2010-02-20T00:00:00",
          "2009-05-16T00:00:00",
          "2008-11-22T00:00:00",
          "2008-11-15T00:00:00",
          "2008-11-08T00:00:00",
          "2008-11-01T00:00:00"
         ],
         "y": [
          84,
          78,
          76,
          76,
          77,
          77,
          87,
          94,
          97,
          99,
          95,
          98,
          79,
          38,
          9
         ]
        },
        {
         "mode": "lines+markers",
         "name": "You Belong With Me",
         "type": "scatter",
         "x": [
          "2010-04-17T00:00:00",
          "2010-04-10T00:00:00",
          "2010-04-03T00:00:00",
          "2010-03-27T00:00:00",
          "2010-03-20T00:00:00",
          "2010-03-13T00:00:00",
          "2010-03-06T00:00:00",
          "2010-02-27T00:00:00",
          "2010-02-20T00:00:00",
          "2010-02-13T00:00:00",
          "2010-02-06T00:00:00",
          "2010-01-30T00:00:00",
          "2010-01-23T00:00:00",
          "2010-01-16T00:00:00",
          "2010-01-09T00:00:00",
          "2010-01-02T00:00:00",
          "2009-12-26T00:00:00",
          "2009-12-19T00:00:00",
          "2009-12-12T00:00:00",
          "2009-12-05T00:00:00",
          "2009-11-28T00:00:00",
          "2009-11-21T00:00:00",
          "2009-11-14T00:00:00",
          "2009-11-07T00:00:00",
          "2009-10-31T00:00:00",
          "2009-10-24T00:00:00",
          "2009-10-17T00:00:00",
          "2009-10-10T00:00:00",
          "2009-10-03T00:00:00",
          "2009-09-26T00:00:00",
          "2009-09-19T00:00:00",
          "2009-09-12T00:00:00",
          "2009-09-05T00:00:00",
          "2009-08-29T00:00:00",
          "2009-08-22T00:00:00",
          "2009-08-15T00:00:00",
          "2009-08-08T00:00:00",
          "2009-08-01T00:00:00",
          "2009-07-25T00:00:00",
          "2009-07-18T00:00:00",
          "2009-07-11T00:00:00",
          "2009-07-04T00:00:00",
          "2009-06-27T00:00:00",
          "2009-06-20T00:00:00",
          "2009-06-13T00:00:00",
          "2009-06-06T00:00:00",
          "2009-05-30T00:00:00",
          "2009-05-23T00:00:00",
          "2009-05-16T00:00:00",
          "2008-11-22T00:00:00"
         ],
         "y": [
          50,
          45,
          45,
          39,
          36,
          33,
          35,
          29,
          27,
          26,
          27,
          22,
          16,
          17,
          19,
          22,
          22,
          18,
          18,
          15,
          14,
          13,
          14,
          11,
          10,
          8,
          7,
          6,
          4,
          6,
          6,
          5,
          4,
          4,
          2,
          3,
          4,
          3,
          6,
          9,
          11,
          16,
          18,
          32,
          41,
          47,
          46,
          50,
          87,
          12
         ]
        },
        {
         "mode": "lines+markers",
         "name": "Breathless",
         "type": "scatter",
         "x": [
          "2010-02-13T00:00:00"
         ],
         "y": [
          72
         ]
        },
        {
         "mode": "lines+markers",
         "name": "Fifteen",
         "type": "scatter",
         "x": [
          "2010-02-06T00:00:00",
          "2010-01-30T00:00:00",
          "2010-01-23T00:00:00",
          "2010-01-16T00:00:00",
          "2010-01-09T00:00:00",
          "2010-01-02T00:00:00",
          "2009-12-26T00:00:00",
          "2009-12-19T00:00:00",
          "2009-12-12T00:00:00",
          "2009-12-05T00:00:00",
          "2009-11-28T00:00:00",
          "2009-11-21T00:00:00",
          "2009-11-14T00:00:00",
          "2009-11-07T00:00:00",
          "2009-10-31T00:00:00",
          "2009-10-24T00:00:00",
          "2009-10-17T00:00:00",
          "2009-10-10T00:00:00",
          "2009-10-03T00:00:00",
          "2009-02-28T00:00:00",
          "2008-11-29T00:00:00"
         ],
         "y": [
          40,
          36,
          37,
          28,
          25,
          30,
          27,
          23,
          27,
          26,
          26,
          38,
          46,
          62,
          67,
          77,
          81,
          89,
          94,
          65,
          79
         ]
        },
        {
         "mode": "lines+markers",
         "name": "Jump Then Fall",
         "type": "scatter",
         "x": [
          "2009-11-28T00:00:00",
          "2009-11-21T00:00:00",
          "2009-11-14T00:00:00"
         ],
         "y": [
          91,
          41,
          10
         ]
        },
        {
         "mode": "lines+markers",
         "name": "Untouchable",
         "type": "scatter",
         "x": [
          "2009-11-21T00:00:00",
          "2009-11-14T00:00:00"
         ],
         "y": [
          69,
          19
         ]
        },
        {
         "mode": "lines+markers",
         "name": "The Other Side Of The Door",
         "type": "scatter",
         "x": [
          "2009-11-21T00:00:00",
          "2009-11-14T00:00:00"
         ],
         "y": [
          94,
          23
         ]
        },
        {
         "mode": "lines+markers",
         "name": "Forever & Always",
         "type": "scatter",
         "x": [
          "2009-11-21T00:00:00",
          "2009-11-14T00:00:00",
          "2008-11-29T00:00:00"
         ],
         "y": [
          100,
          34,
          49
         ]
        },
        {
         "mode": "lines+markers",
         "name": "Superstar",
         "type": "scatter",
         "x": [
          "2009-11-14T00:00:00"
         ],
         "y": [
          26
         ]
        },
        {
         "mode": "lines+markers",
         "name": "Come In With The Rain",
         "type": "scatter",
         "x": [
          "2009-11-14T00:00:00"
         ],
         "y": [
          30
         ]
        },
        {
         "mode": "lines+markers",
         "name": "Love Story",
         "type": "scatter",
         "x": [
          "2009-08-29T00:00:00",
          "2009-08-22T00:00:00",
          "2009-08-15T00:00:00",
          "2009-08-08T00:00:00",
          "2009-08-01T00:00:00",
          "2009-07-25T00:00:00",
          "2009-07-18T00:00:00",
          "2009-07-11T00:00:00",
          "2009-07-04T00:00:00",
          "2009-06-27T00:00:00",
          "2009-06-20T00:00:00",
          "2009-06-13T00:00:00",
          "2009-06-06T00:00:00",
          "2009-05-30T00:00:00",
          "2009-05-23T00:00:00",
          "2009-05-16T00:00:00",
          "2009-05-09T00:00:00",
          "2009-05-02T00:00:00",
          "2009-04-25T00:00:00",
          "2009-04-18T00:00:00",
          "2009-04-11T00:00:00",
          "2009-04-04T00:00:00",
          "2009-03-28T00:00:00",
          "2009-03-21T00:00:00",
          "2009-03-14T00:00:00",
          "2009-03-07T00:00:00",
          "2009-02-28T00:00:00",
          "2009-02-21T00:00:00",
          "2009-02-14T00:00:00",
          "2009-02-07T00:00:00",
          "2009-01-31T00:00:00",
          "2009-01-24T00:00:00",
          "2009-01-17T00:00:00",
          "2009-01-10T00:00:00",
          "2009-01-03T00:00:00",
          "2008-12-27T00:00:00",
          "2008-12-20T00:00:00",
          "2008-12-13T00:00:00",
          "2008-12-06T00:00:00",
          "2008-11-29T00:00:00",
          "2008-11-22T00:00:00",
          "2008-11-15T00:00:00",
          "2008-11-08T00:00:00",
          "2008-11-01T00:00:00",
          "2008-10-25T00:00:00",
          "2008-10-18T00:00:00",
          "2008-10-11T00:00:00",
          "2008-10-04T00:00:00",
          "2008-09-27T00:00:00"
         ],
         "y": [
          49,
          46,
          46,
          42,
          40,
          41,
          38,
          33,
          29,
          26,
          26,
          28,
          34,
          24,
          21,
          18,
          18,
          16,
          14,
          14,
          15,
          13,
          13,
          12,
          9,
          8,
          7,
          7,
          5,
          5,
          5,
          5,
          4,
          5,
          7,
          11,
          12,
          12,
          14,
          18,
          14,
          16,
          15,
          14,
          14,
          13,
          9,
          5,
          16
         ]
        },
        {
         "mode": "lines+markers",
         "name": "Crazier",
         "type": "scatter",
         "x": [
          "2009-05-30T00:00:00",
          "2009-05-23T00:00:00",
          "2009-05-16T00:00:00",
          "2009-05-09T00:00:00",
          "2009-05-02T00:00:00",
          "2009-04-25T00:00:00",
          "2009-04-18T00:00:00",
          "2009-04-11T00:00:00"
         ],
         "y": [
          90,
          66,
          61,
          38,
          17,
          38,
          69,
          72
         ]
        },
        {
         "mode": "lines+markers",
         "name": "White Horse",
         "type": "scatter",
         "x": [
          "2009-04-25T00:00:00",
          "2009-04-18T00:00:00",
          "2009-04-11T00:00:00",
          "2009-04-04T00:00:00",
          "2009-03-28T00:00:00",
          "2009-03-21T00:00:00",
          "2009-03-14T00:00:00",
          "2009-03-07T00:00:00",
          "2009-02-28T00:00:00",
          "2009-02-21T00:00:00",
          "2009-02-14T00:00:00",
          "2009-02-07T00:00:00",
          "2009-01-31T00:00:00",
          "2009-01-24T00:00:00",
          "2009-01-17T00:00:00",
          "2009-01-10T00:00:00",
          "2009-01-03T00:00:00",
          "2008-12-27T00:00:00",
          "2008-12-20T00:00:00",
          "2008-12-13T00:00:00",
          "2008-12-06T00:00:00",
          "2008-11-29T00:00:00"
         ],
         "y": [
          44,
          39,
          32,
          32,
          29,
          31,
          30,
          34,
          34,
          39,
          40,
          39,
          35,
          37,
          38,
          41,
          48,
          51,
          52,
          47,
          56,
          13
         ]
        },
        {
         "mode": "lines+markers",
         "name": "You're Not Sorry",
         "type": "scatter",
         "x": [
          "2009-04-04T00:00:00",
          "2009-03-28T00:00:00",
          "2009-03-21T00:00:00",
          "2008-11-22T00:00:00",
          "2008-11-15T00:00:00"
         ],
         "y": [
          95,
          40,
          67,
          35,
          11
         ]
        },
        {
         "mode": "lines+markers",
         "name": "The Way I Loved You",
         "type": "scatter",
         "x": [
          "2008-11-29T00:00:00"
         ],
         "y": [
          72
         ]
        },
        {
         "mode": "lines+markers",
         "name": "Hey Stephen",
         "type": "scatter",
         "x": [
          "2008-11-29T00:00:00"
         ],
         "y": [
          94
         ]
        },
        {
         "mode": "lines+markers",
         "name": "Should've Said No",
         "type": "scatter",
         "x": [
          "2008-10-18T00:00:00",
          "2008-10-11T00:00:00",
          "2008-10-04T00:00:00",
          "2008-09-27T00:00:00",
          "2008-09-20T00:00:00",
          "2008-09-13T00:00:00",
          "2008-09-06T00:00:00",
          "2008-08-30T00:00:00",
          "2008-08-23T00:00:00",
          "2008-08-16T00:00:00",
          "2008-08-09T00:00:00",
          "2008-08-02T00:00:00",
          "2008-07-26T00:00:00",
          "2008-07-19T00:00:00",
          "2008-07-12T00:00:00",
          "2008-07-05T00:00:00",
          "2008-06-28T00:00:00",
          "2008-06-21T00:00:00",
          "2008-06-14T00:00:00",
          "2008-06-07T00:00:00"
         ],
         "y": [
          90,
          82,
          83,
          66,
          61,
          51,
          40,
          35,
          37,
          38,
          33,
          34,
          38,
          46,
          55,
          64,
          65,
          75,
          84,
          84
         ]
        },
        {
         "mode": "lines+markers",
         "name": "Change",
         "type": "scatter",
         "x": [
          "2008-09-13T00:00:00",
          "2008-09-06T00:00:00",
          "2008-08-30T00:00:00"
         ],
         "y": [
          100,
          39,
          10
         ]
        },
        {
         "mode": "lines+markers",
         "name": "Picture To Burn",
         "type": "scatter",
         "x": [
          "2008-07-12T00:00:00",
          "2008-07-05T00:00:00",
          "2008-06-28T00:00:00",
          "2008-06-21T00:00:00",
          "2008-06-14T00:00:00",
          "2008-06-07T00:00:00",
          "2008-05-31T00:00:00",
          "2008-05-24T00:00:00",
          "2008-05-17T00:00:00",
          "2008-05-10T00:00:00",
          "2008-05-03T00:00:00",
          "2008-04-26T00:00:00",
          "2008-04-19T00:00:00",
          "2008-04-12T00:00:00",
          "2008-04-05T00:00:00",
          "2008-03-29T00:00:00",
          "2008-03-22T00:00:00",
          "2008-03-15T00:00:00",
          "2008-03-08T00:00:00",
          "2008-03-01T00:00:00"
         ],
         "y": [
          89,
          82,
          80,
          74,
          67,
          71,
          52,
          36,
          28,
          29,
          29,
          36,
          44,
          45,
          51,
          55,
          64,
          73,
          83,
          91
         ]
        },
        {
         "mode": "lines+markers",
         "name": "Our Song",
         "type": "scatter",
         "x": [
          "2008-06-14T00:00:00",
          "2008-06-07T00:00:00",
          "2008-05-31T00:00:00",
          "2008-05-24T00:00:00",
          "2008-05-17T00:00:00",
          "2008-05-10T00:00:00",
          "2008-05-03T00:00:00",
          "2008-04-26T00:00:00",
          "2008-04-19T00:00:00",
          "2008-04-12T00:00:00",
          "2008-04-05T00:00:00",
          "2008-03-29T00:00:00",
          "2008-03-22T00:00:00",
          "2008-03-15T00:00:00",
          "2008-03-08T00:00:00",
          "2008-03-01T00:00:00",
          "2008-02-23T00:00:00",
          "2008-02-16T00:00:00",
          "2008-02-09T00:00:00",
          "2008-02-02T00:00:00",
          "2008-01-26T00:00:00",
          "2008-01-19T00:00:00",
          "2008-01-12T00:00:00",
          "2008-01-05T00:00:00",
          "2007-12-29T00:00:00",
          "2007-12-22T00:00:00",
          "2007-12-15T00:00:00",
          "2007-12-08T00:00:00",
          "2007-12-01T00:00:00",
          "2007-11-24T00:00:00",
          "2007-11-17T00:00:00",
          "2007-11-10T00:00:00",
          "2007-11-03T00:00:00",
          "2007-10-27T00:00:00",
          "2007-10-20T00:00:00",
          "2007-10-13T00:00:00"
         ],
         "y": [
          48,
          48,
          39,
          34,
          29,
          31,
          28,
          28,
          28,
          33,
          39,
          39,
          39,
          39,
          35,
          30,
          29,
          31,
          24,
          16,
          20,
          16,
          17,
          26,
          21,
          22,
          24,
          23,
          28,
          24,
          36,
          39,
          46,
          56,
          67,
          86
         ]
        },
        {
         "mode": "lines+markers",
         "name": "Teardrops On My Guitar",
         "type": "scatter",
         "x": [
          "2008-05-17T00:00:00",
          "2008-05-10T00:00:00",
          "2008-05-03T00:00:00",
          "2008-04-26T00:00:00",
          "2008-04-19T00:00:00",
          "2008-04-12T00:00:00",
          "2008-04-05T00:00:00",
          "2008-03-29T00:00:00",
          "2008-03-22T00:00:00",
          "2008-03-15T00:00:00",
          "2008-03-08T00:00:00",
          "2008-03-01T00:00:00",
          "2008-02-23T00:00:00",
          "2008-02-16T00:00:00",
          "2008-02-09T00:00:00",
          "2008-02-02T00:00:00",
          "2008-01-26T00:00:00",
          "2008-01-19T00:00:00",
          "2008-01-12T00:00:00",
          "2008-01-05T00:00:00",
          "2007-12-29T00:00:00",
          "2007-12-22T00:00:00",
          "2007-12-15T00:00:00",
          "2007-09-08T00:00:00",
          "2007-09-01T00:00:00",
          "2007-08-25T00:00:00",
          "2007-08-18T00:00:00",
          "2007-08-11T00:00:00",
          "2007-08-04T00:00:00",
          "2007-07-28T00:00:00",
          "2007-07-21T00:00:00",
          "2007-07-14T00:00:00",
          "2007-07-07T00:00:00",
          "2007-06-30T00:00:00",
          "2007-06-23T00:00:00",
          "2007-06-16T00:00:00",
          "2007-06-09T00:00:00",
          "2007-06-02T00:00:00",
          "2007-05-26T00:00:00",
          "2007-05-19T00:00:00",
          "2007-05-12T00:00:00",
          "2007-05-05T00:00:00",
          "2007-04-28T00:00:00",
          "2007-04-21T00:00:00",
          "2007-04-14T00:00:00",
          "2007-04-07T00:00:00",
          "2007-03-31T00:00:00",
          "2007-03-24T00:00:00"
         ],
         "y": [
          49,
          48,
          38,
          29,
          26,
          26,
          22,
          22,
          20,
          22,
          16,
          13,
          15,
          15,
          15,
          14,
          17,
          18,
          19,
          23,
          24,
          30,
          44,
          50,
          49,
          38,
          34,
          33,
          39,
          40,
          41,
          42,
          45,
          42,
          42,
          49,
          46,
          44,
          51,
          50,
          53,
          56,
          52,
          60,
          70,
          78,
          77,
          93
         ]
        },
        {
         "mode": "lines+markers",
         "name": "Tim McGraw",
         "type": "scatter",
         "x": [
          "2007-02-03T00:00:00",
          "2007-01-27T00:00:00",
          "2007-01-20T00:00:00",
          "2007-01-13T00:00:00",
          "2007-01-06T00:00:00",
          "2006-12-30T00:00:00",
          "2006-12-23T00:00:00",
          "2006-12-16T00:00:00",
          "2006-12-09T00:00:00",
          "2006-12-02T00:00:00",
          "2006-11-25T00:00:00",
          "2006-11-18T00:00:00",
          "2006-11-11T00:00:00",
          "2006-11-04T00:00:00",
          "2006-10-28T00:00:00",
          "2006-10-21T00:00:00",
          "2006-10-14T00:00:00",
          "2006-10-07T00:00:00",
          "2006-09-30T00:00:00",
          "2006-09-23T00:00:00"
         ],
         "y": [
          43,
          40,
          43,
          40,
          48,
          45,
          46,
          44,
          45,
          48,
          47,
          51,
          51,
          61,
          65,
          68,
          72,
          77,
          87,
          86
         ]
        }
       ],
       "layout": {
        "height": 800,
        "legend": {
         "font": {
          "size": 7
         }
        },
        "template": {
         "data": {
          "bar": [
           {
            "error_x": {
             "color": "#2a3f5f"
            },
            "error_y": {
             "color": "#2a3f5f"
            },
            "marker": {
             "line": {
              "color": "#E5ECF6",
              "width": 0.5
             },
             "pattern": {
              "fillmode": "overlay",
              "size": 10,
              "solidity": 0.2
             }
            },
            "type": "bar"
           }
          ],
          "barpolar": [
           {
            "marker": {
             "line": {
              "color": "#E5ECF6",
              "width": 0.5
             },
             "pattern": {
              "fillmode": "overlay",
              "size": 10,
              "solidity": 0.2
             }
            },
            "type": "barpolar"
           }
          ],
          "carpet": [
           {
            "aaxis": {
             "endlinecolor": "#2a3f5f",
             "gridcolor": "white",
             "linecolor": "white",
             "minorgridcolor": "white",
             "startlinecolor": "#2a3f5f"
            },
            "baxis": {
             "endlinecolor": "#2a3f5f",
             "gridcolor": "white",
             "linecolor": "white",
             "minorgridcolor": "white",
             "startlinecolor": "#2a3f5f"
            },
            "type": "carpet"
           }
          ],
          "choropleth": [
           {
            "colorbar": {
             "outlinewidth": 0,
             "ticks": ""
            },
            "type": "choropleth"
           }
          ],
          "contour": [
           {
            "colorbar": {
             "outlinewidth": 0,
             "ticks": ""
            },
            "colorscale": [
             [
              0,
              "#0d0887"
             ],
             [
              0.1111111111111111,
              "#46039f"
             ],
             [
              0.2222222222222222,
              "#7201a8"
             ],
             [
              0.3333333333333333,
              "#9c179e"
             ],
             [
              0.4444444444444444,
              "#bd3786"
             ],
             [
              0.5555555555555556,
              "#d8576b"
             ],
             [
              0.6666666666666666,
              "#ed7953"
             ],
             [
              0.7777777777777778,
              "#fb9f3a"
             ],
             [
              0.8888888888888888,
              "#fdca26"
             ],
             [
              1,
              "#f0f921"
             ]
            ],
            "type": "contour"
           }
          ],
          "contourcarpet": [
           {
            "colorbar": {
             "outlinewidth": 0,
             "ticks": ""
            },
            "type": "contourcarpet"
           }
          ],
          "heatmap": [
           {
            "colorbar": {
             "outlinewidth": 0,
             "ticks": ""
            },
            "colorscale": [
             [
              0,
              "#0d0887"
             ],
             [
              0.1111111111111111,
              "#46039f"
             ],
             [
              0.2222222222222222,
              "#7201a8"
             ],
             [
              0.3333333333333333,
              "#9c179e"
             ],
             [
              0.4444444444444444,
              "#bd3786"
             ],
             [
              0.5555555555555556,
              "#d8576b"
             ],
             [
              0.6666666666666666,
              "#ed7953"
             ],
             [
              0.7777777777777778,
              "#fb9f3a"
             ],
             [
              0.8888888888888888,
              "#fdca26"
             ],
             [
              1,
              "#f0f921"
             ]
            ],
            "type": "heatmap"
           }
          ],
          "heatmapgl": [
           {
            "colorbar": {
             "outlinewidth": 0,
             "ticks": ""
            },
            "colorscale": [
             [
              0,
              "#0d0887"
             ],
             [
              0.1111111111111111,
              "#46039f"
             ],
             [
              0.2222222222222222,
              "#7201a8"
             ],
             [
              0.3333333333333333,
              "#9c179e"
             ],
             [
              0.4444444444444444,
              "#bd3786"
             ],
             [
              0.5555555555555556,
              "#d8576b"
             ],
             [
              0.6666666666666666,
              "#ed7953"
             ],
             [
              0.7777777777777778,
              "#fb9f3a"
             ],
             [
              0.8888888888888888,
              "#fdca26"
             ],
             [
              1,
              "#f0f921"
             ]
            ],
            "type": "heatmapgl"
           }
          ],
          "histogram": [
           {
            "marker": {
             "pattern": {
              "fillmode": "overlay",
              "size": 10,
              "solidity": 0.2
             }
            },
            "type": "histogram"
           }
          ],
          "histogram2d": [
           {
            "colorbar": {
             "outlinewidth": 0,
             "ticks": ""
            },
            "colorscale": [
             [
              0,
              "#0d0887"
             ],
             [
              0.1111111111111111,
              "#46039f"
             ],
             [
              0.2222222222222222,
              "#7201a8"
             ],
             [
              0.3333333333333333,
              "#9c179e"
             ],
             [
              0.4444444444444444,
              "#bd3786"
             ],
             [
              0.5555555555555556,
              "#d8576b"
             ],
             [
              0.6666666666666666,
              "#ed7953"
             ],
             [
              0.7777777777777778,
              "#fb9f3a"
             ],
             [
              0.8888888888888888,
              "#fdca26"
             ],
             [
              1,
              "#f0f921"
             ]
            ],
            "type": "histogram2d"
           }
          ],
          "histogram2dcontour": [
           {
            "colorbar": {
             "outlinewidth": 0,
             "ticks": ""
            },
            "colorscale": [
             [
              0,
              "#0d0887"
             ],
             [
              0.1111111111111111,
              "#46039f"
             ],
             [
              0.2222222222222222,
              "#7201a8"
             ],
             [
              0.3333333333333333,
              "#9c179e"
             ],
             [
              0.4444444444444444,
              "#bd3786"
             ],
             [
              0.5555555555555556,
              "#d8576b"
             ],
             [
              0.6666666666666666,
              "#ed7953"
             ],
             [
              0.7777777777777778,
              "#fb9f3a"
             ],
             [
              0.8888888888888888,
              "#fdca26"
             ],
             [
              1,
              "#f0f921"
             ]
            ],
            "type": "histogram2dcontour"
           }
          ],
          "mesh3d": [
           {
            "colorbar": {
             "outlinewidth": 0,
             "ticks": ""
            },
            "type": "mesh3d"
           }
          ],
          "parcoords": [
           {
            "line": {
             "colorbar": {
              "outlinewidth": 0,
              "ticks": ""
             }
            },
            "type": "parcoords"
           }
          ],
          "pie": [
           {
            "automargin": true,
            "type": "pie"
           }
          ],
          "scatter": [
           {
            "fillpattern": {
             "fillmode": "overlay",
             "size": 10,
             "solidity": 0.2
            },
            "type": "scatter"
           }
          ],
          "scatter3d": [
           {
            "line": {
             "colorbar": {
              "outlinewidth": 0,
              "ticks": ""
             }
            },
            "marker": {
             "colorbar": {
              "outlinewidth": 0,
              "ticks": ""
             }
            },
            "type": "scatter3d"
           }
          ],
          "scattercarpet": [
           {
            "marker": {
             "colorbar": {
              "outlinewidth": 0,
              "ticks": ""
             }
            },
            "type": "scattercarpet"
           }
          ],
          "scattergeo": [
           {
            "marker": {
             "colorbar": {
              "outlinewidth": 0,
              "ticks": ""
             }
            },
            "type": "scattergeo"
           }
          ],
          "scattergl": [
           {
            "marker": {
             "colorbar": {
              "outlinewidth": 0,
              "ticks": ""
             }
            },
            "type": "scattergl"
           }
          ],
          "scattermapbox": [
           {
            "marker": {
             "colorbar": {
              "outlinewidth": 0,
              "ticks": ""
             }
            },
            "type": "scattermapbox"
           }
          ],
          "scatterpolar": [
           {
            "marker": {
             "colorbar": {
              "outlinewidth": 0,
              "ticks": ""
             }
            },
            "type": "scatterpolar"
           }
          ],
          "scatterpolargl": [
           {
            "marker": {
             "colorbar": {
              "outlinewidth": 0,
              "ticks": ""
             }
            },
            "type": "scatterpolargl"
           }
          ],
          "scatterternary": [
           {
            "marker": {
             "colorbar": {
              "outlinewidth": 0,
              "ticks": ""
             }
            },
            "type": "scatterternary"
           }
          ],
          "surface": [
           {
            "colorbar": {
             "outlinewidth": 0,
             "ticks": ""
            },
            "colorscale": [
             [
              0,
              "#0d0887"
             ],
             [
              0.1111111111111111,
              "#46039f"
             ],
             [
              0.2222222222222222,
              "#7201a8"
             ],
             [
              0.3333333333333333,
              "#9c179e"
             ],
             [
              0.4444444444444444,
              "#bd3786"
             ],
             [
              0.5555555555555556,
              "#d8576b"
             ],
             [
              0.6666666666666666,
              "#ed7953"
             ],
             [
              0.7777777777777778,
              "#fb9f3a"
             ],
             [
              0.8888888888888888,
              "#fdca26"
             ],
             [
              1,
              "#f0f921"
             ]
            ],
            "type": "surface"
           }
          ],
          "table": [
           {
            "cells": {
             "fill": {
              "color": "#EBF0F8"
             },
             "line": {
              "color": "white"
             }
            },
            "header": {
             "fill": {
              "color": "#C8D4E3"
             },
             "line": {
              "color": "white"
             }
            },
            "type": "table"
           }
          ]
         },
         "layout": {
          "annotationdefaults": {
           "arrowcolor": "#2a3f5f",
           "arrowhead": 0,
           "arrowwidth": 1
          },
          "autotypenumbers": "strict",
          "coloraxis": {
           "colorbar": {
            "outlinewidth": 0,
            "ticks": ""
           }
          },
          "colorscale": {
           "diverging": [
            [
             0,
             "#8e0152"
            ],
            [
             0.1,
             "#c51b7d"
            ],
            [
             0.2,
             "#de77ae"
            ],
            [
             0.3,
             "#f1b6da"
            ],
            [
             0.4,
             "#fde0ef"
            ],
            [
             0.5,
             "#f7f7f7"
            ],
            [
             0.6,
             "#e6f5d0"
            ],
            [
             0.7,
             "#b8e186"
            ],
            [
             0.8,
             "#7fbc41"
            ],
            [
             0.9,
             "#4d9221"
            ],
            [
             1,
             "#276419"
            ]
           ],
           "sequential": [
            [
             0,
             "#0d0887"
            ],
            [
             0.1111111111111111,
             "#46039f"
            ],
            [
             0.2222222222222222,
             "#7201a8"
            ],
            [
             0.3333333333333333,
             "#9c179e"
            ],
            [
             0.4444444444444444,
             "#bd3786"
            ],
            [
             0.5555555555555556,
             "#d8576b"
            ],
            [
             0.6666666666666666,
             "#ed7953"
            ],
            [
             0.7777777777777778,
             "#fb9f3a"
            ],
            [
             0.8888888888888888,
             "#fdca26"
            ],
            [
             1,
             "#f0f921"
            ]
           ],
           "sequentialminus": [
            [
             0,
             "#0d0887"
            ],
            [
             0.1111111111111111,
             "#46039f"
            ],
            [
             0.2222222222222222,
             "#7201a8"
            ],
            [
             0.3333333333333333,
             "#9c179e"
            ],
            [
             0.4444444444444444,
             "#bd3786"
            ],
            [
             0.5555555555555556,
             "#d8576b"
            ],
            [
             0.6666666666666666,
             "#ed7953"
            ],
            [
             0.7777777777777778,
             "#fb9f3a"
            ],
            [
             0.8888888888888888,
             "#fdca26"
            ],
            [
             1,
             "#f0f921"
            ]
           ]
          },
          "colorway": [
           "#636efa",
           "#EF553B",
           "#00cc96",
           "#ab63fa",
           "#FFA15A",
           "#19d3f3",
           "#FF6692",
           "#B6E880",
           "#FF97FF",
           "#FECB52"
          ],
          "font": {
           "color": "#2a3f5f"
          },
          "geo": {
           "bgcolor": "white",
           "lakecolor": "white",
           "landcolor": "#E5ECF6",
           "showlakes": true,
           "showland": true,
           "subunitcolor": "white"
          },
          "hoverlabel": {
           "align": "left"
          },
          "hovermode": "closest",
          "mapbox": {
           "style": "light"
          },
          "paper_bgcolor": "white",
          "plot_bgcolor": "#E5ECF6",
          "polar": {
           "angularaxis": {
            "gridcolor": "white",
            "linecolor": "white",
            "ticks": ""
           },
           "bgcolor": "#E5ECF6",
           "radialaxis": {
            "gridcolor": "white",
            "linecolor": "white",
            "ticks": ""
           }
          },
          "scene": {
           "xaxis": {
            "backgroundcolor": "#E5ECF6",
            "gridcolor": "white",
            "gridwidth": 2,
            "linecolor": "white",
            "showbackground": true,
            "ticks": "",
            "zerolinecolor": "white"
           },
           "yaxis": {
            "backgroundcolor": "#E5ECF6",
            "gridcolor": "white",
            "gridwidth": 2,
            "linecolor": "white",
            "showbackground": true,
            "ticks": "",
            "zerolinecolor": "white"
           },
           "zaxis": {
            "backgroundcolor": "#E5ECF6",
            "gridcolor": "white",
            "gridwidth": 2,
            "linecolor": "white",
            "showbackground": true,
            "ticks": "",
            "zerolinecolor": "white"
           }
          },
          "shapedefaults": {
           "line": {
            "color": "#2a3f5f"
           }
          },
          "ternary": {
           "aaxis": {
            "gridcolor": "white",
            "linecolor": "white",
            "ticks": ""
           },
           "baxis": {
            "gridcolor": "white",
            "linecolor": "white",
            "ticks": ""
           },
           "bgcolor": "#E5ECF6",
           "caxis": {
            "gridcolor": "white",
            "linecolor": "white",
            "ticks": ""
           }
          },
          "title": {
           "x": 0.05
          },
          "xaxis": {
           "automargin": true,
           "gridcolor": "white",
           "linecolor": "white",
           "ticks": "",
           "title": {
            "standoff": 15
           },
           "zerolinecolor": "white",
           "zerolinewidth": 2
          },
          "yaxis": {
           "automargin": true,
           "gridcolor": "white",
           "linecolor": "white",
           "ticks": "",
           "title": {
            "standoff": 15
           },
           "zerolinecolor": "white",
           "zerolinewidth": 2
          }
         }
        },
        "xaxis": {
         "title": {
          "text": "Date"
         }
        },
        "yaxis": {
         "range": [
          100,
          0
         ],
         "title": {
          "text": "Classement"
         }
        }
       }
      }
     },
     "metadata": {},
     "output_type": "display_data"
    }
   ],
   "source": [
    "show_music_of_artist(df, \"Taylor Swift\")"
   ]
  }
 ],
 "metadata": {
  "interpreter": {
   "hash": "9fa2a398532d8f78293fd68c1f60ab4830ad95f9241718b131209c78a52f0b71"
  },
  "kernelspec": {
   "display_name": "Python 3.10.4 ('datascience')",
   "language": "python",
   "name": "python3"
  },
  "language_info": {
   "codemirror_mode": {
    "name": "ipython",
    "version": 3
   },
   "file_extension": ".py",
   "mimetype": "text/x-python",
   "name": "python",
   "nbconvert_exporter": "python",
   "pygments_lexer": "ipython3",
   "version": "3.10.4"
  }
 },
 "nbformat": 4,
 "nbformat_minor": 1
}
