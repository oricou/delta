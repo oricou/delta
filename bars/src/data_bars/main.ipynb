{
 "cells": [
  {
   "cell_type": "code",
   "execution_count": null,
   "outputs": [],
   "source": [
    "from IPython.display import display\n",
    "import numpy as np\n",
    "import pandas as pd\n",
    "import folium\n",
    "import plotly.express as px\n",
    "import seaborn as sns\n",
    "import matplotlib.pyplot as plt"
   ],
   "metadata": {
    "collapsed": false,
    "pycharm": {
     "name": "#%%\n"
    }
   }
  },
  {
   "cell_type": "code",
   "execution_count": null,
   "outputs": [],
   "source": [
    "data_bars = pd.read_csv('../../data/osm-fr-bars.csv', sep=';')\n",
    "\n",
    "display(data_bars)"
   ],
   "metadata": {
    "collapsed": false,
    "pycharm": {
     "name": "#%%\n"
    }
   }
  },
  {
   "cell_type": "code",
   "execution_count": null,
   "outputs": [],
   "source": [
    "data_bars = data_bars[[\"Geo Point\", \"Code postal\", \"Nom\"]]\n",
    "\n",
    "display(data_bars)\n",
    "print(\"Rate of undefined values:\", data_bars[\"Code postal\"].isna().sum() / len(data_bars[\"Code postal\"]))"
   ],
   "metadata": {
    "collapsed": false,
    "pycharm": {
     "name": "#%%\n"
    }
   }
  },
  {
   "cell_type": "markdown",
   "source": [
    "Since the rate of undefined value is way higher than 0.5, and that GPS coordinates and postal code are a little redundant, we can reasonably delete Code postal column:"
   ],
   "metadata": {
    "collapsed": false,
    "pycharm": {
     "name": "#%% md\n"
    }
   }
  },
  {
   "cell_type": "code",
   "execution_count": null,
   "outputs": [],
   "source": [
    "data_bars.drop(\"Code postal\", axis=1, inplace=True)\n",
    "data_bars"
   ],
   "metadata": {
    "collapsed": false,
    "pycharm": {
     "name": "#%%\n"
    }
   }
  },
  {
   "cell_type": "code",
   "execution_count": null,
   "outputs": [],
   "source": [
    "latitudes = []\n",
    "longitudes = []\n",
    "\n",
    "for row in data_bars['Geo Point']:\n",
    "    try:\n",
    "        latitudes.append(row.split(',')[0])\n",
    "        longitudes.append(row.split(',')[1])\n",
    "    except:\n",
    "        latitudes.append(np.NaN)\n",
    "        longitudes.append(np.NaN)\n",
    "\n",
    "data_bars['Latitude'] = latitudes\n",
    "data_bars['Longitude'] = longitudes\n",
    "data_bars.drop('Geo Point', 1)"
   ],
   "metadata": {
    "collapsed": false,
    "pycharm": {
     "name": "#%%\n"
    }
   }
  },
  {
   "cell_type": "markdown",
   "source": [
    "Number of missing values"
   ],
   "metadata": {
    "collapsed": false,
    "pycharm": {
     "name": "#%% md\n"
    }
   }
  },
  {
   "cell_type": "code",
   "execution_count": null,
   "outputs": [],
   "source": [
    "data_bars.isnull().sum().sum()\n",
    "data_bars"
   ],
   "metadata": {
    "collapsed": false,
    "pycharm": {
     "name": "#%%\n"
    }
   }
  },
  {
   "cell_type": "markdown",
   "source": [
    "Let's just see that on a map"
   ],
   "metadata": {
    "collapsed": false,
    "pycharm": {
     "name": "#%% md\n"
    }
   }
  },
  {
   "cell_type": "code",
   "execution_count": null,
   "outputs": [],
   "source": [
    "postalCodes = pd.read_csv('../../data/postal-code.csv', usecols=['01400', '46.147624', '4.923727'],\n",
    "                          dtype={'01400': str, '46.147624': np.float64, '4.923727': np.float64})\n",
    "postalCodes"
   ],
   "metadata": {
    "collapsed": false,
    "pycharm": {
     "name": "#%%\n"
    }
   }
  },
  {
   "cell_type": "code",
   "execution_count": null,
   "outputs": [],
   "source": [
    "postalCodes.columns = ['Postal code', 'Latitude', 'Longitude']\n",
    "postalCodes"
   ],
   "metadata": {
    "collapsed": false,
    "pycharm": {
     "name": "#%%\n"
    }
   }
  },
  {
   "cell_type": "markdown",
   "source": [
    "Le meilleur compromis d'arrondi des coordonnées GPS est de 3 car pour un arrondi de 4 nous obtenons 16749 valeurs non trouvées et en dessous de 3 la précision est trop faible : on peut obtenir un code postal erroné. Nous aurions pu faire un appel à une API pour avoir des valeurs exacte facilement, mais nous trouvions que c'était moins dans l'esprit du projet.\n",
    "9859; 1524; 617;"
   ],
   "metadata": {
    "collapsed": false,
    "pycharm": {
     "name": "#%% md\n"
    }
   }
  },
  {
   "cell_type": "code",
   "execution_count": null,
   "outputs": [],
   "source": [
    "postalCodes['Latitude'] = postalCodes['Latitude'].apply(lambda lat: round(lat, 3))\n",
    "postalCodes['Longitude'] = postalCodes['Longitude'].apply(lambda long: round(long, 3))\n",
    "\n",
    "data_bars['Latitude'] = data_bars['Latitude'].astype(float)\n",
    "data_bars['Longitude'] = data_bars['Longitude'].astype(float)\n",
    "data_bars['Latitude'] = data_bars['Latitude'].apply(lambda lat: round(lat, 3))\n",
    "data_bars['Longitude'] = data_bars['Longitude'].apply(lambda long: round(long, 3))\n",
    "\n",
    "data_bars = pd.merge(data_bars, postalCodes, how='left', on=['Latitude', 'Longitude']).drop_duplicates()\n",
    "data_bars[\"Postal code\"] = data_bars[\"Postal code\"].str.strip()\n",
    "data_bars"
   ],
   "metadata": {
    "collapsed": false,
    "pycharm": {
     "name": "#%%\n"
    }
   }
  },
  {
   "cell_type": "code",
   "execution_count": null,
   "outputs": [],
   "source": [
    "data_bars.dropna(subset=['Postal code'], inplace=True)\n",
    "data_bars['Département'] = data_bars['Postal code'].apply(lambda code: str(code)[0:2])\n",
    "data_bars.drop_duplicates(subset=['Geo Point'], inplace=True)\n",
    "data_bars"
   ],
   "metadata": {
    "collapsed": false,
    "pycharm": {
     "name": "#%%\n"
    }
   }
  },
  {
   "cell_type": "code",
   "execution_count": null,
   "outputs": [],
   "source": [
    "barNumber = data_bars.groupby(['Département'])['Département'].count().reset_index(name='Nombre de bars')\n",
    "barNumber"
   ],
   "metadata": {
    "collapsed": false,
    "pycharm": {
     "name": "#%%\n"
    }
   }
  },
  {
   "cell_type": "code",
   "execution_count": null,
   "outputs": [],
   "source": [
    "import plotly.express as px\n",
    "import json\n",
    "\n",
    "departements = json.load(open('../../data/departements-version-simplifiee.geojson'))\n",
    "fig = px.choropleth_mapbox(barNumber, geojson=departements,\n",
    "                           locations='Département', featureidkey='properties.code',  # join keys\n",
    "                           color='Nombre de bars', color_continuous_scale=px.colors.sequential.turbid,\n",
    "                           mapbox_style=\"carto-positron\",\n",
    "                           range_color=(0, 1000),\n",
    "                           zoom=4.5, center={\"lat\": 47, \"lon\": 2},\n",
    "                           opacity=0.75,\n",
    "                           labels={'prix': 'Nombre de bars'}\n",
    "                           )\n",
    "fig.update_layout(margin={\"r\": 0, \"t\": 0, \"l\": 0, \"b\": 0})\n",
    "fig"
   ],
   "metadata": {
    "collapsed": false,
    "pycharm": {
     "name": "#%%\n"
    }
   }
  },
  {
   "cell_type": "code",
   "execution_count": null,
   "outputs": [],
   "source": [
    "departements = json.load(open('../../data/departements-version-simplifiee.geojson'))\n",
    "\n",
    "fig = px.choropleth_mapbox(barNumber.sort_values(by='Nombre de bars'), geojson=departements,\n",
    "                           locations='Département', featureidkey='properties.code',  # join keys\n",
    "                           color='Nombre de bars', color_continuous_scale=px.colors.sequential.turbid,\n",
    "                           mapbox_style=\"carto-positron\",\n",
    "                           range_color=(0, 1000),\n",
    "                           zoom=4.5, center={\"lat\": 47, \"lon\": 2},\n",
    "                           opacity=0.75,\n",
    "                           animation_frame='Nombre de bars',\n",
    "                           labels={'prix': 'Nombre de bars'}\n",
    "                           )\n",
    "fig.update_layout(margin={\"r\": 0, \"t\": 0, \"l\": 0, \"b\": 0})\n",
    "fig"
   ],
   "metadata": {
    "collapsed": false,
    "pycharm": {
     "name": "#%%\n"
    }
   }
  },
  {
   "cell_type": "markdown",
   "source": [
    "Clean data_revenus"
   ],
   "metadata": {
    "collapsed": false,
    "pycharm": {
     "name": "#%% md\n"
    }
   }
  },
  {
   "cell_type": "code",
   "execution_count": null,
   "outputs": [],
   "source": [
    "#DATA_REVENUS INITIALISATION\n",
    "data_revenus = pd.read_excel('../../data/revenus_communes_2019.xlsx')  #header=3\n",
    "data_revenus.drop(data_revenus.columns[[0, 3, 7, 8, 9, 10, 11, 12, 13]], axis=1, inplace=True)\n",
    "data_revenus.drop(data_revenus.tail(2).index, inplace=True)  # drop last 2 rows\n",
    "display(data_revenus)"
   ],
   "metadata": {
    "collapsed": false,
    "pycharm": {
     "name": "#%%\n"
    }
   }
  },
  {
   "cell_type": "code",
   "execution_count": null,
   "outputs": [],
   "source": [
    "# On peut clean ca et mettre direct dans le read du fichier (voir pb pour header=3)\n",
    "data_revenus.rename(columns=lambda n: data_revenus[n][2], inplace=True)\n",
    "data_revenus.drop(index=[0, 1, 2], inplace=True)\n",
    "data_revenus"
   ],
   "metadata": {
    "collapsed": false,
    "pycharm": {
     "name": "#%%\n"
    }
   }
  },
  {
   "cell_type": "markdown",
   "source": [],
   "metadata": {
    "collapsed": false,
    "pycharm": {
     "name": "#%% md\n"
    }
   }
  },
  {
   "cell_type": "code",
   "execution_count": null,
   "outputs": [],
   "source": [
    "data_revenus = data_revenus[data_revenus[\"Revenu fiscal de référence par tranche (en euros)\"].str.strip() == 'TOTAL']\n",
    "data_revenus"
   ],
   "metadata": {
    "collapsed": false,
    "pycharm": {
     "name": "#%%\n"
    }
   }
  },
  {
   "cell_type": "code",
   "execution_count": null,
   "outputs": [],
   "source": [
    "data_revenus = data_revenus[~data_revenus['Dép.'].str.startswith('B')]\n",
    "data_revenus"
   ],
   "metadata": {
    "collapsed": false,
    "pycharm": {
     "name": "#%%\n"
    }
   }
  },
  {
   "cell_type": "code",
   "execution_count": null,
   "outputs": [],
   "source": [
    "figure = px.density_mapbox(data_bars, lat='Latitude', lon='Longitude', z='Département', radius=4.3,\n",
    "                           color_continuous_scale=px.colors.sequential.Plasma,\n",
    "                           zoom=4.5, center={\"lat\": 47, \"lon\": 2},\n",
    "                           mapbox_style=\"stamen-terrain\", )\n",
    "\n",
    "figure.update_layout(mapbox_style=\"carto-darkmatter\")\n",
    "figure.update_layout(margin=dict(b=0, t=0, l=0, r=0))\n",
    "figure.show()"
   ],
   "metadata": {
    "collapsed": false,
    "pycharm": {
     "name": "#%%\n"
    }
   }
  },
  {
   "cell_type": "code",
   "execution_count": null,
   "outputs": [],
   "source": [
    "figure = px.density_mapbox(data_bars, lat='Latitude', lon='Longitude', z='Département', radius=4.3,\n",
    "                           animation_frame='Département',\n",
    "                           zoom=4.5, center={\"lat\": 47, \"lon\": 2},\n",
    "                           mapbox_style=\"stamen-terrain\", )\n",
    "\n",
    "figure.update_layout(mapbox_style=\"carto-darkmatter\")\n",
    "figure.update_layout(margin=dict(b=0, t=0, l=0, r=0))\n",
    "figure.show()"
   ],
   "metadata": {
    "collapsed": false,
    "pycharm": {
     "name": "#%%\n"
    }
   }
  },
  {
   "cell_type": "code",
   "execution_count": null,
   "outputs": [],
   "source": [
    "data_revenus.insert(1, \"Code commune\",\n",
    "                    data_revenus['Dép.'].str.strip().apply(lambda dep: dep[:2]) + data_revenus['Commune'])\n",
    "data_revenus.drop([\"Dép.\", \"Commune\"], axis=1, inplace=True)\n",
    "data_revenus['Code commune'] = data_revenus['Code commune'].str.strip()\n",
    "data_revenus"
   ],
   "metadata": {
    "collapsed": false,
    "pycharm": {
     "name": "#%%\n"
    }
   }
  },
  {
   "cell_type": "code",
   "execution_count": null,
   "outputs": [],
   "source": [
    "code_commune = pd.read_csv('../../data/code-commune.csv', sep=';')\n",
    "code_commune.drop(['Nom_commune', 'Ligne_5', 'Libellé_d_acheminement', 'coordonnees_gps'], axis=1, inplace=True)\n",
    "code_commune.columns = ['Code commune', 'Postal code']\n",
    "code_commune['Postal code'] = code_commune['Postal code'].astype(str)\n",
    "code_commune['Postal code'] = code_commune['Postal code'].apply(\n",
    "    lambda postalCode: '0' + postalCode if (len(postalCode) < 5) else postalCode).str.strip()\n",
    "code_commune"
   ],
   "metadata": {
    "collapsed": false,
    "pycharm": {
     "name": "#%%\n"
    }
   }
  },
  {
   "cell_type": "code",
   "execution_count": null,
   "outputs": [],
   "source": [
    "data_revenus = pd.merge(data_revenus, code_commune, on=['Code commune'], how='left').drop(\n",
    "    ['Revenu fiscal de référence par tranche (en euros)'], axis=1)\n",
    "data_revenus"
   ],
   "metadata": {
    "collapsed": false,
    "pycharm": {
     "name": "#%%\n"
    }
   }
  },
  {
   "cell_type": "code",
   "execution_count": null,
   "outputs": [],
   "source": [
    "data_revenus = data_revenus.drop_duplicates()\n",
    "data_revenus = data_revenus.reset_index(drop=True)\n",
    "data_revenus"
   ],
   "metadata": {
    "collapsed": false,
    "pycharm": {
     "name": "#%%\n"
    }
   }
  },
  {
   "cell_type": "code",
   "execution_count": null,
   "outputs": [],
   "source": [
    "data_bars_revenus = pd.merge(data_bars, data_revenus, on=['Postal code'], how='left')\n",
    "data_bars_revenus"
   ],
   "metadata": {
    "collapsed": false,
    "pycharm": {
     "name": "#%%\n"
    }
   }
  },
  {
   "cell_type": "code",
   "execution_count": null,
   "outputs": [],
   "source": [
    "data_bars_revenus.drop(\n",
    "    data_bars_revenus[data_bars_revenus['Revenu fiscal de référence des foyers fiscaux'] == 'n.c.'].index, inplace=True)\n",
    "data_bars_revenus.drop_duplicates(inplace=True)\n",
    "data_bars_revenus['Revenu fiscal de référence des foyers fiscaux'] = data_bars_revenus[\n",
    "    'Revenu fiscal de référence des foyers fiscaux'].astype(np.float64)\n",
    "data_bars_revenus['Revenu fiscal de référence par foyer fiscal'] = data_bars_revenus['Revenu fiscal de référence des foyers fiscaux']/data_bars_revenus['Nombre de foyers fiscaux']\n",
    "data_bars_revenus"
   ],
   "metadata": {
    "collapsed": false,
    "pycharm": {
     "name": "#%%\n"
    }
   }
  },
  {
   "cell_type": "code",
   "execution_count": null,
   "outputs": [],
   "source": [
    "nbBar_revenu_byCp = pd.merge(\n",
    "    data_bars_revenus.groupby('Postal code')['Revenu fiscal de référence par foyer fiscal'].mean().reset_index(),\n",
    "    data_bars_revenus.groupby('Postal code')['Nom'].nunique().reset_index(), on=['Postal code'], how='inner')\n",
    "nbBar_revenu_byCp.columns = ['Postal code', 'Revenu fiscal de référence par foyer fiscal', 'Nombre de bars']\n",
    "nbBar_revenu_byCp"
   ],
   "metadata": {
    "collapsed": false,
    "pycharm": {
     "name": "#%%\n"
    }
   }
  },
  {
   "cell_type": "code",
   "execution_count": null,
   "outputs": [],
   "source": [
    "data_bars_revenus_unique = data_bars_revenus.iloc[:, :6].drop_duplicates().merge(\n",
    "    nbBar_revenu_byCp[['Postal code', 'Revenu fiscal de référence par foyer fiscal']], on=['Postal code'], how='inner')\n",
    "\n",
    "figure = px.density_mapbox(data_bars_revenus_unique, lat='Latitude', lon='Longitude',\n",
    "                           z='Revenu fiscal de référence par foyer fiscal', radius=5,\n",
    "                           color_continuous_scale=px.colors.carto.Temps,\n",
    "                           zoom=4.5, center={\"lat\": 47, \"lon\": 2},\n",
    "                           mapbox_style=\"stamen-terrain\", )\n",
    "\n",
    "figure.update_layout(mapbox_style=\"carto-darkmatter\")\n",
    "figure.update_layout(margin=dict(b=0, t=0, l=0, r=0))\n",
    "figure.show()"
   ],
   "metadata": {
    "collapsed": false,
    "pycharm": {
     "name": "#%%\n"
    }
   }
  },
  {
   "cell_type": "code",
   "execution_count": null,
   "outputs": [],
   "source": [
    "departements = json.load(open('../../data/contours-codes-postaux.geojson'))\n",
    "tmp = nbBar_revenu_byCp.drop('Revenu fiscal de référence par foyer fiscal', axis=1)\n",
    "tmp['Revenu par foyer fiscal'] = nbBar_revenu_byCp['Revenu fiscal de référence par foyer fiscal'].round(decimals=1)\n",
    "\n",
    "fig = px.choropleth_mapbox(tmp, geojson=departements,\n",
    "                           locations='Postal code', featureidkey='properties.codePostal',  # join keys\n",
    "                           color='Nombre de bars', color_continuous_scale=px.colors.carto.Redor,\n",
    "                           mapbox_style=\"carto-positron\",\n",
    "                           hover_data=['Revenu par foyer fiscal'],\n",
    "                           range_color=(0, 150),\n",
    "                           zoom=10, center={\"lat\": 48.857381, \"lon\": 2.34453},\n",
    "                           opacity=0.75,\n",
    "                           labels={'prix': 'Nombre de bars'}\n",
    "                           )\n",
    "fig.update_layout(mapbox_style=\"carto-darkmatter\", margin={\"r\": 0, \"t\": 0, \"l\": 0, \"b\": 0})\n",
    "fig"
   ],
   "metadata": {
    "collapsed": false,
    "pycharm": {
     "name": "#%%\n"
    }
   }
  },
  {
   "cell_type": "code",
   "execution_count": null,
   "outputs": [],
   "source": [
    "ig = px.choropleth_mapbox(tmp, geojson=departements,\n",
    "                          locations='Postal code', featureidkey='properties.codePostal',  # join keys\n",
    "                          color='Nombre de bars', color_continuous_scale=px.colors.carto.Redor,\n",
    "                          mapbox_style=\"carto-positron\",\n",
    "                          hover_data=['Revenu par foyer fiscal'],\n",
    "                          range_color=(0, 150),\n",
    "                          zoom=10, center={\"lat\": 48.857381, \"lon\": 2.34453},\n",
    "                          opacity=0.75,\n",
    "                          labels={'prix': 'Nombre de bars'}\n",
    "                          )\n",
    "fig.update_layout(mapbox_style=\"carto-darkmatter\", margin={\"r\": 0, \"t\": 0, \"l\": 0, \"b\": 0})\n",
    "fig"
   ],
   "metadata": {
    "collapsed": false,
    "pycharm": {
     "name": "#%%\n"
    }
   }
  },
  {
   "cell_type": "code",
   "execution_count": null,
   "outputs": [],
   "source": [
    "g = sns.relplot(data=nbBar_revenu_byCp, x='Nombre de bars', y='Revenu fiscal de référence par foyer fiscal')\n",
    "g.set(yscale='log')  # same, without the log scale we cannot see anything"
   ],
   "metadata": {
    "collapsed": false,
    "pycharm": {
     "name": "#%%\n"
    }
   }
  },
  {
   "cell_type": "code",
   "execution_count": null,
   "outputs": [],
   "source": [
    "mean_by_bar_number = nbBar_revenu_byCp.groupby('Nombre de bars').mean().reset_index()\n",
    "mean_by_bar_number"
   ],
   "metadata": {
    "collapsed": false,
    "pycharm": {
     "name": "#%%\n"
    }
   }
  },
  {
   "cell_type": "code",
   "execution_count": null,
   "outputs": [],
   "source": [
    "plt.plot(mean_by_bar_number['Nombre de bars'], mean_by_bar_number['Revenu fiscal de référence par foyer fiscal'])\n",
    "plt.xlabel('Nombre de bars')\n",
    "plt.ylabel('Revenu fiscal de référence moyen')"
   ],
   "metadata": {
    "collapsed": false,
    "pycharm": {
     "name": "#%%\n"
    }
   }
  },
  {
   "cell_type": "code",
   "execution_count": null,
   "outputs": [],
   "source": [
    "fig = px.histogram(data_frame=mean_by_bar_number, x='Revenu fiscal de référence par foyer fiscal', y='Nombre de bars')\n",
    "fig.show()"
   ],
   "metadata": {
    "collapsed": false,
    "pycharm": {
     "name": "#%%\n"
    }
   }
  },
  {
   "cell_type": "code",
   "execution_count": null,
   "outputs": [],
   "source": [
    "g = sns.relplot(data=mean_by_bar_number, y='Revenu fiscal de référence par foyer fiscal',\n",
    "                x=mean_by_bar_number['Nombre de bars'])\n",
    "g.set(yscale='log')  # same, without the log scale we cannot see anything"
   ],
   "metadata": {
    "collapsed": false,
    "pycharm": {
     "name": "#%%\n"
    }
   }
  },
  {
   "cell_type": "code",
   "execution_count": null,
   "outputs": [],
   "source": [
    "nbBar_revenu_byCp = data_bars_revenus.groupby('Nom')['Revenu fiscal de référence par foyer fiscal'].mean().reset_index()"
   ],
   "metadata": {
    "collapsed": false,
    "pycharm": {
     "name": "#%%\n"
    }
   }
  },
  {
   "cell_type": "code",
   "execution_count": null,
   "outputs": [],
   "source": [
    "g = sns.relplot(data=nbBar_revenu_byCp, x='Revenu fiscal de référence par foyer fiscal', y=nbBar_revenu_byCp.index)\n",
    "g.set(yscale='log')  # same, without the log scale we cannot see anything"
   ],
   "metadata": {
    "collapsed": false,
    "pycharm": {
     "name": "#%%\n"
    }
   }
  },
  {
   "cell_type": "code",
   "execution_count": null,
   "outputs": [],
   "source": [
    "plt.scatter(nbBar_revenu_byCp.index, nbBar_revenu_byCp['Revenu fiscal de référence par foyer fiscal'], label='nomalies')\n",
    "plt.title('Connexions en fonction de l\\'instant dans le temps et la durée de la connexion')\n",
    "plt.ylabel('Revenu fiscal de référence moyen')\n",
    "plt.xlabel('Bar n°')\n",
    "plt.show()"
   ],
   "metadata": {
    "collapsed": false,
    "pycharm": {
     "name": "#%%\n"
    }
   }
  },
  {
   "cell_type": "code",
   "execution_count": null,
   "outputs": [],
   "source": [
    "ax = sns.lineplot(x=np.arange(len(nbBar_revenu_byCp)),\n",
    "                  y=np.sort(nbBar_revenu_byCp['Revenu fiscal de référence par foyer fiscal']))\n",
    "ax.set_title('Revenu fiscal de référence des %d bars' % len(nbBar_revenu_byCp))\n",
    "ax.set(yscale='log', xlabel='Nombre de bars', ylabel='Revenu fiscal de référence par foyer fiscal')"
   ],
   "metadata": {
    "collapsed": false,
    "pycharm": {
     "name": "#%%\n"
    }
   }
  },
  {
   "cell_type": "code",
   "execution_count": 6,
   "outputs": [
    {
     "data": {
      "text/plain": "                            Geo Point                    Nom    Latitude  \\\n0                44.0549704,0.2603921           Au boin coin  44.0549704   \n1                47.9094426,1.9076031      Le Diabolo Menthe  47.9094426   \n2                 48.8020856,2.427514        Café de la Gare  48.8020856   \n3                41.6976671,9.0644945                    NaN  41.6976671   \n4                 43.788717,4.8299152  Brasserie du Commerce   43.788717   \n...                               ...                    ...         ...   \n17928            44.2761336,5.2758837           Les Glycines  44.2761336   \n17929            46.7227908,2.5037666             La Rotonde  46.7227908   \n17930            43.8339541,4.3534613              La Movida  43.8339541   \n17931            46.7776345,4.8488139         Nicéphore Café  46.7776345   \n17932  43.3685096,-1.7927453999999998                   Uxoa  43.3685096   \n\n                 Longitude  \n0                0.2603921  \n1                1.9076031  \n2                 2.427514  \n3                9.0644945  \n4                4.8299152  \n...                    ...  \n17928            5.2758837  \n17929            2.5037666  \n17930            4.3534613  \n17931            4.8488139  \n17932  -1.7927453999999998  \n\n[17933 rows x 4 columns]",
      "text/html": "<div>\n<style scoped>\n    .dataframe tbody tr th:only-of-type {\n        vertical-align: middle;\n    }\n\n    .dataframe tbody tr th {\n        vertical-align: top;\n    }\n\n    .dataframe thead th {\n        text-align: right;\n    }\n</style>\n<table border=\"1\" class=\"dataframe\">\n  <thead>\n    <tr style=\"text-align: right;\">\n      <th></th>\n      <th>Geo Point</th>\n      <th>Nom</th>\n      <th>Latitude</th>\n      <th>Longitude</th>\n    </tr>\n  </thead>\n  <tbody>\n    <tr>\n      <th>0</th>\n      <td>44.0549704,0.2603921</td>\n      <td>Au boin coin</td>\n      <td>44.0549704</td>\n      <td>0.2603921</td>\n    </tr>\n    <tr>\n      <th>1</th>\n      <td>47.9094426,1.9076031</td>\n      <td>Le Diabolo Menthe</td>\n      <td>47.9094426</td>\n      <td>1.9076031</td>\n    </tr>\n    <tr>\n      <th>2</th>\n      <td>48.8020856,2.427514</td>\n      <td>Café de la Gare</td>\n      <td>48.8020856</td>\n      <td>2.427514</td>\n    </tr>\n    <tr>\n      <th>3</th>\n      <td>41.6976671,9.0644945</td>\n      <td>NaN</td>\n      <td>41.6976671</td>\n      <td>9.0644945</td>\n    </tr>\n    <tr>\n      <th>4</th>\n      <td>43.788717,4.8299152</td>\n      <td>Brasserie du Commerce</td>\n      <td>43.788717</td>\n      <td>4.8299152</td>\n    </tr>\n    <tr>\n      <th>...</th>\n      <td>...</td>\n      <td>...</td>\n      <td>...</td>\n      <td>...</td>\n    </tr>\n    <tr>\n      <th>17928</th>\n      <td>44.2761336,5.2758837</td>\n      <td>Les Glycines</td>\n      <td>44.2761336</td>\n      <td>5.2758837</td>\n    </tr>\n    <tr>\n      <th>17929</th>\n      <td>46.7227908,2.5037666</td>\n      <td>La Rotonde</td>\n      <td>46.7227908</td>\n      <td>2.5037666</td>\n    </tr>\n    <tr>\n      <th>17930</th>\n      <td>43.8339541,4.3534613</td>\n      <td>La Movida</td>\n      <td>43.8339541</td>\n      <td>4.3534613</td>\n    </tr>\n    <tr>\n      <th>17931</th>\n      <td>46.7776345,4.8488139</td>\n      <td>Nicéphore Café</td>\n      <td>46.7776345</td>\n      <td>4.8488139</td>\n    </tr>\n    <tr>\n      <th>17932</th>\n      <td>43.3685096,-1.7927453999999998</td>\n      <td>Uxoa</td>\n      <td>43.3685096</td>\n      <td>-1.7927453999999998</td>\n    </tr>\n  </tbody>\n</table>\n<p>17933 rows × 4 columns</p>\n</div>"
     },
     "execution_count": 6,
     "metadata": {},
     "output_type": "execute_result"
    }
   ],
   "source": [
    "data_bars.isnull().sum().sum()\n",
    "data_bars"
   ],
   "metadata": {
    "collapsed": false,
    "pycharm": {
     "name": "#%%\n"
    }
   }
  },
  {
   "cell_type": "markdown",
   "source": [
    "Let's just see that on a map"
   ],
   "metadata": {
    "collapsed": false,
    "pycharm": {
     "name": "#%% md\n"
    }
   }
  },
  {
   "cell_type": "code",
   "execution_count": 7,
   "outputs": [
    {
     "data": {
      "text/plain": "          01400  46.147624   4.923727\n0         01400  46.147812   4.924310\n1         01400  46.146756   4.924307\n2         01400  46.146907   4.924547\n3         01400  46.147154   4.924191\n4         01400  46.147307   4.924624\n...         ...        ...        ...\n22845076  97680 -12.790557  45.137112\n22845077  97680 -12.789817  45.132364\n22845078  97680 -12.788548  45.132566\n22845079  97680 -12.789423  45.103516\n22845080  97680 -12.788577  45.102423\n\n[22845081 rows x 3 columns]",
      "text/html": "<div>\n<style scoped>\n    .dataframe tbody tr th:only-of-type {\n        vertical-align: middle;\n    }\n\n    .dataframe tbody tr th {\n        vertical-align: top;\n    }\n\n    .dataframe thead th {\n        text-align: right;\n    }\n</style>\n<table border=\"1\" class=\"dataframe\">\n  <thead>\n    <tr style=\"text-align: right;\">\n      <th></th>\n      <th>01400</th>\n      <th>46.147624</th>\n      <th>4.923727</th>\n    </tr>\n  </thead>\n  <tbody>\n    <tr>\n      <th>0</th>\n      <td>01400</td>\n      <td>46.147812</td>\n      <td>4.924310</td>\n    </tr>\n    <tr>\n      <th>1</th>\n      <td>01400</td>\n      <td>46.146756</td>\n      <td>4.924307</td>\n    </tr>\n    <tr>\n      <th>2</th>\n      <td>01400</td>\n      <td>46.146907</td>\n      <td>4.924547</td>\n    </tr>\n    <tr>\n      <th>3</th>\n      <td>01400</td>\n      <td>46.147154</td>\n      <td>4.924191</td>\n    </tr>\n    <tr>\n      <th>4</th>\n      <td>01400</td>\n      <td>46.147307</td>\n      <td>4.924624</td>\n    </tr>\n    <tr>\n      <th>...</th>\n      <td>...</td>\n      <td>...</td>\n      <td>...</td>\n    </tr>\n    <tr>\n      <th>22845076</th>\n      <td>97680</td>\n      <td>-12.790557</td>\n      <td>45.137112</td>\n    </tr>\n    <tr>\n      <th>22845077</th>\n      <td>97680</td>\n      <td>-12.789817</td>\n      <td>45.132364</td>\n    </tr>\n    <tr>\n      <th>22845078</th>\n      <td>97680</td>\n      <td>-12.788548</td>\n      <td>45.132566</td>\n    </tr>\n    <tr>\n      <th>22845079</th>\n      <td>97680</td>\n      <td>-12.789423</td>\n      <td>45.103516</td>\n    </tr>\n    <tr>\n      <th>22845080</th>\n      <td>97680</td>\n      <td>-12.788577</td>\n      <td>45.102423</td>\n    </tr>\n  </tbody>\n</table>\n<p>22845081 rows × 3 columns</p>\n</div>"
     },
     "execution_count": 7,
     "metadata": {},
     "output_type": "execute_result"
    }
   ],
   "source": [
    "postalCodes = pd.read_csv('../../data/postal-code.csv', usecols=['01400', '46.147624', '4.923727'],\n",
    "                          dtype={'01400': str, '46.147624': np.float64, '4.923727': np.float64})\n",
    "postalCodes"
   ],
   "metadata": {
    "collapsed": false,
    "pycharm": {
     "name": "#%%\n"
    }
   }
  },
  {
   "cell_type": "code",
   "execution_count": 8,
   "outputs": [
    {
     "data": {
      "text/plain": "         Postal code   Latitude  Longitude\n0              01400  46.147812   4.924310\n1              01400  46.146756   4.924307\n2              01400  46.146907   4.924547\n3              01400  46.147154   4.924191\n4              01400  46.147307   4.924624\n...              ...        ...        ...\n22845076       97680 -12.790557  45.137112\n22845077       97680 -12.789817  45.132364\n22845078       97680 -12.788548  45.132566\n22845079       97680 -12.789423  45.103516\n22845080       97680 -12.788577  45.102423\n\n[22845081 rows x 3 columns]",
      "text/html": "<div>\n<style scoped>\n    .dataframe tbody tr th:only-of-type {\n        vertical-align: middle;\n    }\n\n    .dataframe tbody tr th {\n        vertical-align: top;\n    }\n\n    .dataframe thead th {\n        text-align: right;\n    }\n</style>\n<table border=\"1\" class=\"dataframe\">\n  <thead>\n    <tr style=\"text-align: right;\">\n      <th></th>\n      <th>Postal code</th>\n      <th>Latitude</th>\n      <th>Longitude</th>\n    </tr>\n  </thead>\n  <tbody>\n    <tr>\n      <th>0</th>\n      <td>01400</td>\n      <td>46.147812</td>\n      <td>4.924310</td>\n    </tr>\n    <tr>\n      <th>1</th>\n      <td>01400</td>\n      <td>46.146756</td>\n      <td>4.924307</td>\n    </tr>\n    <tr>\n      <th>2</th>\n      <td>01400</td>\n      <td>46.146907</td>\n      <td>4.924547</td>\n    </tr>\n    <tr>\n      <th>3</th>\n      <td>01400</td>\n      <td>46.147154</td>\n      <td>4.924191</td>\n    </tr>\n    <tr>\n      <th>4</th>\n      <td>01400</td>\n      <td>46.147307</td>\n      <td>4.924624</td>\n    </tr>\n    <tr>\n      <th>...</th>\n      <td>...</td>\n      <td>...</td>\n      <td>...</td>\n    </tr>\n    <tr>\n      <th>22845076</th>\n      <td>97680</td>\n      <td>-12.790557</td>\n      <td>45.137112</td>\n    </tr>\n    <tr>\n      <th>22845077</th>\n      <td>97680</td>\n      <td>-12.789817</td>\n      <td>45.132364</td>\n    </tr>\n    <tr>\n      <th>22845078</th>\n      <td>97680</td>\n      <td>-12.788548</td>\n      <td>45.132566</td>\n    </tr>\n    <tr>\n      <th>22845079</th>\n      <td>97680</td>\n      <td>-12.789423</td>\n      <td>45.103516</td>\n    </tr>\n    <tr>\n      <th>22845080</th>\n      <td>97680</td>\n      <td>-12.788577</td>\n      <td>45.102423</td>\n    </tr>\n  </tbody>\n</table>\n<p>22845081 rows × 3 columns</p>\n</div>"
     },
     "execution_count": 8,
     "metadata": {},
     "output_type": "execute_result"
    }
   ],
   "source": [
    "postalCodes.columns = ['Postal code', 'Latitude', 'Longitude']\n",
    "postalCodes"
   ],
   "metadata": {
    "collapsed": false,
    "pycharm": {
     "name": "#%%\n"
    }
   }
  },
  {
   "cell_type": "markdown",
   "source": [
    "Le meilleur compromis d'arrondi des coordonnées GPS est de 3 car pour un arrondi de 4 nous obtenons 16749 valeurs non trouvées et en dessous de 3 la précision est trop faible : on peut obtenir un code postal erroné. Nous aurions pu faire un appel à une API pour avoir des valeurs exacte facilement, mais nous trouvions que c'était moins dans l'esprit du projet.\n",
    "9859; 1524; 617;"
   ],
   "metadata": {
    "collapsed": false,
    "pycharm": {
     "name": "#%% md\n"
    }
   }
  },
  {
   "cell_type": "code",
   "execution_count": 9,
   "outputs": [
    {
     "ename": "KeyboardInterrupt",
     "evalue": "",
     "output_type": "error",
     "traceback": [
      "\u001B[0;31m---------------------------------------------------------------------------\u001B[0m",
      "\u001B[0;31mKeyboardInterrupt\u001B[0m                         Traceback (most recent call last)",
      "Input \u001B[0;32mIn [9]\u001B[0m, in \u001B[0;36m<cell line: 1>\u001B[0;34m()\u001B[0m\n\u001B[0;32m----> 1\u001B[0m postalCodes[\u001B[38;5;124m'\u001B[39m\u001B[38;5;124mLatitude\u001B[39m\u001B[38;5;124m'\u001B[39m] \u001B[38;5;241m=\u001B[39m \u001B[43mpostalCodes\u001B[49m\u001B[43m[\u001B[49m\u001B[38;5;124;43m'\u001B[39;49m\u001B[38;5;124;43mLatitude\u001B[39;49m\u001B[38;5;124;43m'\u001B[39;49m\u001B[43m]\u001B[49m\u001B[38;5;241;43m.\u001B[39;49m\u001B[43mapply\u001B[49m\u001B[43m(\u001B[49m\u001B[38;5;28;43;01mlambda\u001B[39;49;00m\u001B[43m \u001B[49m\u001B[43mlat\u001B[49m\u001B[43m:\u001B[49m\u001B[43m \u001B[49m\u001B[38;5;28;43mround\u001B[39;49m\u001B[43m(\u001B[49m\u001B[43mlat\u001B[49m\u001B[43m,\u001B[49m\u001B[43m \u001B[49m\u001B[38;5;241;43m3\u001B[39;49m\u001B[43m)\u001B[49m\u001B[43m)\u001B[49m\n\u001B[1;32m      2\u001B[0m postalCodes[\u001B[38;5;124m'\u001B[39m\u001B[38;5;124mLongitude\u001B[39m\u001B[38;5;124m'\u001B[39m] \u001B[38;5;241m=\u001B[39m postalCodes[\u001B[38;5;124m'\u001B[39m\u001B[38;5;124mLongitude\u001B[39m\u001B[38;5;124m'\u001B[39m]\u001B[38;5;241m.\u001B[39mapply(\u001B[38;5;28;01mlambda\u001B[39;00m long: \u001B[38;5;28mround\u001B[39m(long, \u001B[38;5;241m3\u001B[39m))\n\u001B[1;32m      4\u001B[0m data_bars[\u001B[38;5;124m'\u001B[39m\u001B[38;5;124mLatitude\u001B[39m\u001B[38;5;124m'\u001B[39m] \u001B[38;5;241m=\u001B[39m data_bars[\u001B[38;5;124m'\u001B[39m\u001B[38;5;124mLatitude\u001B[39m\u001B[38;5;124m'\u001B[39m]\u001B[38;5;241m.\u001B[39mastype(\u001B[38;5;28mfloat\u001B[39m)\n",
      "File \u001B[0;32m~/PycharmProjects/delta/venv/lib/python3.8/site-packages/pandas/core/series.py:4433\u001B[0m, in \u001B[0;36mSeries.apply\u001B[0;34m(self, func, convert_dtype, args, **kwargs)\u001B[0m\n\u001B[1;32m   4323\u001B[0m \u001B[38;5;28;01mdef\u001B[39;00m \u001B[38;5;21mapply\u001B[39m(\n\u001B[1;32m   4324\u001B[0m     \u001B[38;5;28mself\u001B[39m,\n\u001B[1;32m   4325\u001B[0m     func: AggFuncType,\n\u001B[0;32m   (...)\u001B[0m\n\u001B[1;32m   4328\u001B[0m     \u001B[38;5;241m*\u001B[39m\u001B[38;5;241m*\u001B[39mkwargs,\n\u001B[1;32m   4329\u001B[0m ) \u001B[38;5;241m-\u001B[39m\u001B[38;5;241m>\u001B[39m DataFrame \u001B[38;5;241m|\u001B[39m Series:\n\u001B[1;32m   4330\u001B[0m     \u001B[38;5;124;03m\"\"\"\u001B[39;00m\n\u001B[1;32m   4331\u001B[0m \u001B[38;5;124;03m    Invoke function on values of Series.\u001B[39;00m\n\u001B[1;32m   4332\u001B[0m \n\u001B[0;32m   (...)\u001B[0m\n\u001B[1;32m   4431\u001B[0m \u001B[38;5;124;03m    dtype: float64\u001B[39;00m\n\u001B[1;32m   4432\u001B[0m \u001B[38;5;124;03m    \"\"\"\u001B[39;00m\n\u001B[0;32m-> 4433\u001B[0m     \u001B[38;5;28;01mreturn\u001B[39;00m \u001B[43mSeriesApply\u001B[49m\u001B[43m(\u001B[49m\u001B[38;5;28;43mself\u001B[39;49m\u001B[43m,\u001B[49m\u001B[43m \u001B[49m\u001B[43mfunc\u001B[49m\u001B[43m,\u001B[49m\u001B[43m \u001B[49m\u001B[43mconvert_dtype\u001B[49m\u001B[43m,\u001B[49m\u001B[43m \u001B[49m\u001B[43margs\u001B[49m\u001B[43m,\u001B[49m\u001B[43m \u001B[49m\u001B[43mkwargs\u001B[49m\u001B[43m)\u001B[49m\u001B[38;5;241;43m.\u001B[39;49m\u001B[43mapply\u001B[49m\u001B[43m(\u001B[49m\u001B[43m)\u001B[49m\n",
      "File \u001B[0;32m~/PycharmProjects/delta/venv/lib/python3.8/site-packages/pandas/core/apply.py:1082\u001B[0m, in \u001B[0;36mSeriesApply.apply\u001B[0;34m(self)\u001B[0m\n\u001B[1;32m   1078\u001B[0m \u001B[38;5;28;01mif\u001B[39;00m \u001B[38;5;28misinstance\u001B[39m(\u001B[38;5;28mself\u001B[39m\u001B[38;5;241m.\u001B[39mf, \u001B[38;5;28mstr\u001B[39m):\n\u001B[1;32m   1079\u001B[0m     \u001B[38;5;66;03m# if we are a string, try to dispatch\u001B[39;00m\n\u001B[1;32m   1080\u001B[0m     \u001B[38;5;28;01mreturn\u001B[39;00m \u001B[38;5;28mself\u001B[39m\u001B[38;5;241m.\u001B[39mapply_str()\n\u001B[0;32m-> 1082\u001B[0m \u001B[38;5;28;01mreturn\u001B[39;00m \u001B[38;5;28;43mself\u001B[39;49m\u001B[38;5;241;43m.\u001B[39;49m\u001B[43mapply_standard\u001B[49m\u001B[43m(\u001B[49m\u001B[43m)\u001B[49m\n",
      "File \u001B[0;32m~/PycharmProjects/delta/venv/lib/python3.8/site-packages/pandas/core/apply.py:1137\u001B[0m, in \u001B[0;36mSeriesApply.apply_standard\u001B[0;34m(self)\u001B[0m\n\u001B[1;32m   1131\u001B[0m         values \u001B[38;5;241m=\u001B[39m obj\u001B[38;5;241m.\u001B[39mastype(\u001B[38;5;28mobject\u001B[39m)\u001B[38;5;241m.\u001B[39m_values\n\u001B[1;32m   1132\u001B[0m         \u001B[38;5;66;03m# error: Argument 2 to \"map_infer\" has incompatible type\u001B[39;00m\n\u001B[1;32m   1133\u001B[0m         \u001B[38;5;66;03m# \"Union[Callable[..., Any], str, List[Union[Callable[..., Any], str]],\u001B[39;00m\n\u001B[1;32m   1134\u001B[0m         \u001B[38;5;66;03m# Dict[Hashable, Union[Union[Callable[..., Any], str],\u001B[39;00m\n\u001B[1;32m   1135\u001B[0m         \u001B[38;5;66;03m# List[Union[Callable[..., Any], str]]]]]\"; expected\u001B[39;00m\n\u001B[1;32m   1136\u001B[0m         \u001B[38;5;66;03m# \"Callable[[Any], Any]\"\u001B[39;00m\n\u001B[0;32m-> 1137\u001B[0m         mapped \u001B[38;5;241m=\u001B[39m \u001B[43mlib\u001B[49m\u001B[38;5;241;43m.\u001B[39;49m\u001B[43mmap_infer\u001B[49m\u001B[43m(\u001B[49m\n\u001B[1;32m   1138\u001B[0m \u001B[43m            \u001B[49m\u001B[43mvalues\u001B[49m\u001B[43m,\u001B[49m\n\u001B[1;32m   1139\u001B[0m \u001B[43m            \u001B[49m\u001B[43mf\u001B[49m\u001B[43m,\u001B[49m\u001B[43m  \u001B[49m\u001B[38;5;66;43;03m# type: ignore[arg-type]\u001B[39;49;00m\n\u001B[1;32m   1140\u001B[0m \u001B[43m            \u001B[49m\u001B[43mconvert\u001B[49m\u001B[38;5;241;43m=\u001B[39;49m\u001B[38;5;28;43mself\u001B[39;49m\u001B[38;5;241;43m.\u001B[39;49m\u001B[43mconvert_dtype\u001B[49m\u001B[43m,\u001B[49m\n\u001B[1;32m   1141\u001B[0m \u001B[43m        \u001B[49m\u001B[43m)\u001B[49m\n\u001B[1;32m   1143\u001B[0m \u001B[38;5;28;01mif\u001B[39;00m \u001B[38;5;28mlen\u001B[39m(mapped) \u001B[38;5;129;01mand\u001B[39;00m \u001B[38;5;28misinstance\u001B[39m(mapped[\u001B[38;5;241m0\u001B[39m], ABCSeries):\n\u001B[1;32m   1144\u001B[0m     \u001B[38;5;66;03m# GH#43986 Need to do list(mapped) in order to get treated as nested\u001B[39;00m\n\u001B[1;32m   1145\u001B[0m     \u001B[38;5;66;03m#  See also GH#25959 regarding EA support\u001B[39;00m\n\u001B[1;32m   1146\u001B[0m     \u001B[38;5;28;01mreturn\u001B[39;00m obj\u001B[38;5;241m.\u001B[39m_constructor_expanddim(\u001B[38;5;28mlist\u001B[39m(mapped), index\u001B[38;5;241m=\u001B[39mobj\u001B[38;5;241m.\u001B[39mindex)\n",
      "File \u001B[0;32m~/PycharmProjects/delta/venv/lib/python3.8/site-packages/pandas/_libs/lib.pyx:2870\u001B[0m, in \u001B[0;36mpandas._libs.lib.map_infer\u001B[0;34m()\u001B[0m\n",
      "Input \u001B[0;32mIn [9]\u001B[0m, in \u001B[0;36m<lambda>\u001B[0;34m(lat)\u001B[0m\n\u001B[0;32m----> 1\u001B[0m postalCodes[\u001B[38;5;124m'\u001B[39m\u001B[38;5;124mLatitude\u001B[39m\u001B[38;5;124m'\u001B[39m] \u001B[38;5;241m=\u001B[39m postalCodes[\u001B[38;5;124m'\u001B[39m\u001B[38;5;124mLatitude\u001B[39m\u001B[38;5;124m'\u001B[39m]\u001B[38;5;241m.\u001B[39mapply(\u001B[38;5;28;01mlambda\u001B[39;00m lat: \u001B[38;5;28;43mround\u001B[39;49m\u001B[43m(\u001B[49m\u001B[43mlat\u001B[49m\u001B[43m,\u001B[49m\u001B[43m \u001B[49m\u001B[38;5;241;43m3\u001B[39;49m\u001B[43m)\u001B[49m)\n\u001B[1;32m      2\u001B[0m postalCodes[\u001B[38;5;124m'\u001B[39m\u001B[38;5;124mLongitude\u001B[39m\u001B[38;5;124m'\u001B[39m] \u001B[38;5;241m=\u001B[39m postalCodes[\u001B[38;5;124m'\u001B[39m\u001B[38;5;124mLongitude\u001B[39m\u001B[38;5;124m'\u001B[39m]\u001B[38;5;241m.\u001B[39mapply(\u001B[38;5;28;01mlambda\u001B[39;00m long: \u001B[38;5;28mround\u001B[39m(long, \u001B[38;5;241m3\u001B[39m))\n\u001B[1;32m      4\u001B[0m data_bars[\u001B[38;5;124m'\u001B[39m\u001B[38;5;124mLatitude\u001B[39m\u001B[38;5;124m'\u001B[39m] \u001B[38;5;241m=\u001B[39m data_bars[\u001B[38;5;124m'\u001B[39m\u001B[38;5;124mLatitude\u001B[39m\u001B[38;5;124m'\u001B[39m]\u001B[38;5;241m.\u001B[39mastype(\u001B[38;5;28mfloat\u001B[39m)\n",
      "\u001B[0;31mKeyboardInterrupt\u001B[0m: "
     ]
    }
   ],
   "source": [
    "postalCodes['Latitude'] = postalCodes['Latitude'].apply(lambda lat: round(lat, 3))\n",
    "postalCodes['Longitude'] = postalCodes['Longitude'].apply(lambda long: round(long, 3))\n",
    "\n",
    "data_bars['Latitude'] = data_bars['Latitude'].astype(float)\n",
    "data_bars['Longitude'] = data_bars['Longitude'].astype(float)\n",
    "data_bars['Latitude'] = data_bars['Latitude'].apply(lambda lat: round(lat, 3))\n",
    "data_bars['Longitude'] = data_bars['Longitude'].apply(lambda long: round(long, 3))\n",
    "\n",
    "data_bars = pd.merge(data_bars, postalCodes, how='left', on=['Latitude', 'Longitude']).drop_duplicates()\n",
    "data_bars[\"Postal code\"] = data_bars[\"Postal code\"].str.strip()\n",
    "data_bars"
   ],
   "metadata": {
    "collapsed": false,
    "pycharm": {
     "name": "#%%\n"
    }
   }
  },
  {
   "cell_type": "code",
   "execution_count": null,
   "outputs": [],
   "source": [
    "data_bars.dropna(subset=['Postal code'], inplace=True)\n",
    "data_bars['Département'] = data_bars['Postal code'].apply(lambda code: str(code)[0:2])\n",
    "data_bars.drop_duplicates(subset=['Geo Point'], inplace=True)\n",
    "data_bars"
   ],
   "metadata": {
    "collapsed": false,
    "pycharm": {
     "name": "#%%\n"
    }
   }
  },
  {
   "cell_type": "code",
   "execution_count": null,
   "outputs": [],
   "source": [
    "barNumber = data_bars.groupby(['Département'])['Département'].count().reset_index(name='Nombre de bars')\n",
    "barNumber"
   ],
   "metadata": {
    "collapsed": false,
    "pycharm": {
     "name": "#%%\n"
    }
   }
  },
  {
   "cell_type": "code",
   "execution_count": null,
   "outputs": [],
   "source": [
    "import plotly.express as px\n",
    "import json\n",
    "\n",
    "departements = json.load(open('../../data/departements-version-simplifiee.geojson'))\n",
    "fig = px.choropleth_mapbox(barNumber, geojson=departements,\n",
    "                           locations='Département', featureidkey='properties.code',  # join keys\n",
    "                           color='Nombre de bars', color_continuous_scale=px.colors.sequential.turbid,\n",
    "                           mapbox_style=\"carto-positron\",\n",
    "                           range_color=(0, 1000),\n",
    "                           zoom=4.5, center={\"lat\": 47, \"lon\": 2},\n",
    "                           opacity=0.75,\n",
    "                           labels={'prix': 'Nombre de bars'}\n",
    "                           )\n",
    "fig.update_layout(margin={\"r\": 0, \"t\": 0, \"l\": 0, \"b\": 0})\n",
    "fig"
   ],
   "metadata": {
    "collapsed": false,
    "pycharm": {
     "name": "#%%\n"
    }
   }
  },
  {
   "cell_type": "code",
   "execution_count": null,
   "outputs": [],
   "source": [
    "departements = json.load(open('../../data/departements-version-simplifiee.geojson'))\n",
    "\n",
    "fig = px.choropleth_mapbox(barNumber.sort_values(by='Nombre de bars'), geojson=departements,\n",
    "                           locations='Département', featureidkey='properties.code',  # join keys\n",
    "                           color='Nombre de bars', color_continuous_scale=px.colors.sequential.turbid,\n",
    "                           mapbox_style=\"carto-positron\",\n",
    "                           range_color=(0, 1000),\n",
    "                           zoom=4.5, center={\"lat\": 47, \"lon\": 2},\n",
    "                           opacity=0.75,\n",
    "                           animation_frame='Nombre de bars',\n",
    "                           labels={'prix': 'Nombre de bars'}\n",
    "                           )\n",
    "fig.update_layout(margin={\"r\": 0, \"t\": 0, \"l\": 0, \"b\": 0})\n",
    "fig"
   ],
   "metadata": {
    "collapsed": false,
    "pycharm": {
     "name": "#%%\n"
    }
   }
  },
  {
   "cell_type": "markdown",
   "source": [
    "Clean data_revenus"
   ],
   "metadata": {
    "collapsed": false,
    "pycharm": {
     "name": "#%% md\n"
    }
   }
  },
  {
   "cell_type": "code",
   "execution_count": null,
   "outputs": [],
   "source": [
    "#DATA_REVENUS INITIALISATION\n",
    "data_revenus = pd.read_excel('../../data/revenus_communes_2019.xlsx')  #header=3\n",
    "data_revenus.drop(data_revenus.columns[[0, 3, 7, 8, 9, 10, 11, 12, 13]], axis=1, inplace=True)\n",
    "data_revenus.drop(data_revenus.tail(2).index, inplace=True)  # drop last 2 rows\n",
    "display(data_revenus)"
   ],
   "metadata": {
    "collapsed": false,
    "pycharm": {
     "name": "#%%\n"
    }
   }
  },
  {
   "cell_type": "code",
   "execution_count": null,
   "outputs": [],
   "source": [
    "# On peut clean ca et mettre direct dans le read du fichier (voir pb pour header=3)\n",
    "data_revenus.rename(columns=lambda n: data_revenus[n][2], inplace=True)\n",
    "data_revenus.drop(index=[0, 1, 2], inplace=True)\n",
    "data_revenus"
   ],
   "metadata": {
    "collapsed": false,
    "pycharm": {
     "name": "#%%\n"
    }
   }
  },
  {
   "cell_type": "markdown",
   "source": [],
   "metadata": {
    "collapsed": false,
    "pycharm": {
     "name": "#%% md\n"
    }
   }
  },
  {
   "cell_type": "code",
   "execution_count": null,
   "outputs": [],
   "source": [
    "data_revenus = data_revenus[data_revenus[\"Revenu fiscal de référence par tranche (en euros)\"].str.strip() == 'TOTAL']\n",
    "data_revenus"
   ],
   "metadata": {
    "collapsed": false,
    "pycharm": {
     "name": "#%%\n"
    }
   }
  },
  {
   "cell_type": "code",
   "execution_count": null,
   "outputs": [],
   "source": [
    "data_revenus = data_revenus[~data_revenus['Dép.'].str.startswith('B')]\n",
    "data_revenus"
   ],
   "metadata": {
    "collapsed": false,
    "pycharm": {
     "name": "#%%\n"
    }
   }
  },
  {
   "cell_type": "code",
   "execution_count": null,
   "outputs": [],
   "source": [
    "figure = px.density_mapbox(data_bars, lat='Latitude', lon='Longitude', z='Département', radius=4.3,\n",
    "                           color_continuous_scale=px.colors.sequential.Plasma,\n",
    "                           zoom=4.5, center={\"lat\": 47, \"lon\": 2},\n",
    "                           mapbox_style=\"stamen-terrain\", )\n",
    "\n",
    "figure.update_layout(mapbox_style=\"carto-darkmatter\")\n",
    "figure.update_layout(margin=dict(b=0, t=0, l=0, r=0))\n",
    "figure.show()"
   ],
   "metadata": {
    "collapsed": false,
    "pycharm": {
     "name": "#%%\n"
    }
   }
  },
  {
   "cell_type": "code",
   "execution_count": null,
   "outputs": [],
   "source": [
    "figure = px.density_mapbox(data_bars, lat='Latitude', lon='Longitude', z='Département', radius=4.3,\n",
    "                           animation_frame='Département',\n",
    "                           zoom=4.5, center={\"lat\": 47, \"lon\": 2},\n",
    "                           mapbox_style=\"stamen-terrain\", )\n",
    "\n",
    "figure.update_layout(mapbox_style=\"carto-darkmatter\")\n",
    "figure.update_layout(margin=dict(b=0, t=0, l=0, r=0))\n",
    "figure.show()"
   ],
   "metadata": {
    "collapsed": false,
    "pycharm": {
     "name": "#%%\n"
    }
   }
  },
  {
   "cell_type": "code",
   "execution_count": null,
   "outputs": [],
   "source": [
    "data_revenus.insert(1, \"Code commune\",\n",
    "                    data_revenus['Dép.'].str.strip().apply(lambda dep: dep[:2]) + data_revenus['Commune'])\n",
    "data_revenus.drop([\"Dép.\", \"Commune\"], axis=1, inplace=True)\n",
    "data_revenus['Code commune'] = data_revenus['Code commune'].str.strip()\n",
    "data_revenus"
   ],
   "metadata": {
    "collapsed": false,
    "pycharm": {
     "name": "#%%\n"
    }
   }
  },
  {
   "cell_type": "code",
   "execution_count": null,
   "outputs": [],
   "source": [
    "code_commune = pd.read_csv('../../data/code-commune.csv', sep=';')\n",
    "code_commune.drop(['Nom_commune', 'Ligne_5', 'Libellé_d_acheminement', 'coordonnees_gps'], axis=1, inplace=True)\n",
    "code_commune.columns = ['Code commune', 'Postal code']\n",
    "code_commune['Postal code'] = code_commune['Postal code'].astype(str)\n",
    "code_commune['Postal code'] = code_commune['Postal code'].apply(\n",
    "    lambda postalCode: '0' + postalCode if (len(postalCode) < 5) else postalCode).str.strip()\n",
    "code_commune"
   ],
   "metadata": {
    "collapsed": false,
    "pycharm": {
     "name": "#%%\n"
    }
   }
  },
  {
   "cell_type": "code",
   "execution_count": null,
   "outputs": [],
   "source": [
    "data_revenus = pd.merge(data_revenus, code_commune, on=['Code commune'], how='left').drop(\n",
    "    ['Revenu fiscal de référence par tranche (en euros)'], axis=1)\n",
    "data_revenus"
   ],
   "metadata": {
    "collapsed": false,
    "pycharm": {
     "name": "#%%\n"
    }
   }
  },
  {
   "cell_type": "code",
   "execution_count": null,
   "outputs": [],
   "source": [
    "data_revenus = data_revenus.drop_duplicates()\n",
    "data_revenus = data_revenus.reset_index(drop=True)\n",
    "data_revenus"
   ],
   "metadata": {
    "collapsed": false,
    "pycharm": {
     "name": "#%%\n"
    }
   }
  },
  {
   "cell_type": "code",
   "execution_count": null,
   "outputs": [],
   "source": [
    "data_bars_revenus = pd.merge(data_bars, data_revenus, on=['Postal code'], how='left')\n",
    "data_bars_revenus"
   ],
   "metadata": {
    "collapsed": false,
    "pycharm": {
     "name": "#%%\n"
    }
   }
  },
  {
   "cell_type": "code",
   "execution_count": null,
   "outputs": [],
   "source": [
    "data_bars_revenus.drop(\n",
    "    data_bars_revenus[data_bars_revenus['Revenu fiscal de référence des foyers fiscaux'] == 'n.c.'].index, inplace=True)\n",
    "data_bars_revenus.drop_duplicates(inplace=True)\n",
    "data_bars_revenus['Revenu fiscal de référence des foyers fiscaux'] = data_bars_revenus[\n",
    "    'Revenu fiscal de référence des foyers fiscaux'].astype(np.float64)\n",
    "data_bars_revenus['Revenu fiscal de référence par foyer fiscal'] = data_bars_revenus['Revenu fiscal de référence des foyers fiscaux']/data_bars_revenus['Nombre de foyers fiscaux']\n",
    "data_bars_revenus"
   ],
   "metadata": {
    "collapsed": false,
    "pycharm": {
     "name": "#%%\n"
    }
   }
  },
  {
   "cell_type": "code",
   "execution_count": null,
   "outputs": [],
   "source": [
    "nbBar_revenu_byCp = pd.merge(\n",
    "    data_bars_revenus.groupby('Postal code')['Revenu fiscal de référence par foyer fiscal'].mean().reset_index(),\n",
    "    data_bars_revenus.groupby('Postal code')['Nom'].nunique().reset_index(), on=['Postal code'], how='inner')\n",
    "nbBar_revenu_byCp.columns = ['Postal code', 'Revenu fiscal de référence par foyer fiscal', 'Nombre de bars']\n",
    "nbBar_revenu_byCp"
   ],
   "metadata": {
    "collapsed": false,
    "pycharm": {
     "name": "#%%\n"
    }
   }
  },
  {
   "cell_type": "code",
   "execution_count": null,
   "outputs": [],
   "source": [
    "data_bars_revenus_unique = data_bars_revenus.iloc[:, :6].drop_duplicates().merge(\n",
    "    nbBar_revenu_byCp[['Postal code', 'Revenu fiscal de référence par foyer fiscal']], on=['Postal code'], how='inner')\n",
    "\n",
    "figure = px.density_mapbox(data_bars_revenus_unique, lat='Latitude', lon='Longitude',\n",
    "                           z='Revenu fiscal de référence par foyer fiscal', radius=5,\n",
    "                           color_continuous_scale=px.colors.carto.Temps,\n",
    "                           zoom=4.5, center={\"lat\": 47, \"lon\": 2},\n",
    "                           mapbox_style=\"stamen-terrain\", )\n",
    "\n",
    "figure.update_layout(mapbox_style=\"carto-darkmatter\")\n",
    "figure.update_layout(margin=dict(b=0, t=0, l=0, r=0))\n",
    "figure.show()"
   ],
   "metadata": {
    "collapsed": false,
    "pycharm": {
     "name": "#%%\n"
    }
   }
  },
  {
   "cell_type": "code",
   "execution_count": null,
   "outputs": [],
   "source": [
    "departements = json.load(open('../../data/contours-codes-postaux.geojson'))\n",
    "tmp = nbBar_revenu_byCp.drop('Revenu fiscal de référence par foyer fiscal', axis=1)\n",
    "tmp['Revenu par foyer fiscal'] = nbBar_revenu_byCp['Revenu fiscal de référence par foyer fiscal'].round(decimals=1)\n",
    "\n",
    "fig = px.choropleth_mapbox(tmp, geojson=departements,\n",
    "                           locations='Postal code', featureidkey='properties.codePostal',  # join keys\n",
    "                           color='Nombre de bars', color_continuous_scale=px.colors.carto.Redor,\n",
    "                           mapbox_style=\"carto-positron\",\n",
    "                           hover_data=['Revenu par foyer fiscal'],\n",
    "                           range_color=(0, 150),\n",
    "                           zoom=10, center={\"lat\": 48.857381, \"lon\": 2.34453},\n",
    "                           opacity=0.75,\n",
    "                           labels={'prix': 'Nombre de bars'}\n",
    "                           )\n",
    "fig.update_layout(mapbox_style=\"carto-darkmatter\", margin={\"r\": 0, \"t\": 0, \"l\": 0, \"b\": 0})\n",
    "fig"
   ],
   "metadata": {
    "collapsed": false,
    "pycharm": {
     "name": "#%%\n"
    }
   }
  },
  {
   "cell_type": "code",
   "execution_count": null,
   "outputs": [],
   "source": [
    "ig = px.choropleth_mapbox(tmp, geojson=departements,\n",
    "                          locations='Postal code', featureidkey='properties.codePostal',  # join keys\n",
    "                          color='Nombre de bars', color_continuous_scale=px.colors.carto.Redor,\n",
    "                          mapbox_style=\"carto-positron\",\n",
    "                          hover_data=['Revenu par foyer fiscal'],\n",
    "                          range_color=(0, 150),\n",
    "                          zoom=10, center={\"lat\": 48.857381, \"lon\": 2.34453},\n",
    "                          opacity=0.75,\n",
    "                          labels={'prix': 'Nombre de bars'}\n",
    "                          )\n",
    "fig.update_layout(mapbox_style=\"carto-darkmatter\", margin={\"r\": 0, \"t\": 0, \"l\": 0, \"b\": 0})\n",
    "fig"
   ],
   "metadata": {
    "collapsed": false,
    "pycharm": {
     "name": "#%%\n"
    }
   }
  },
  {
   "cell_type": "code",
   "execution_count": null,
   "outputs": [],
   "source": [
    "g = sns.relplot(data=nbBar_revenu_byCp, x='Nombre de bars', y='Revenu fiscal de référence par foyer fiscal')\n",
    "g.set(yscale='log')  # same, without the log scale we cannot see anything"
   ],
   "metadata": {
    "collapsed": false,
    "pycharm": {
     "name": "#%%\n"
    }
   }
  },
  {
   "cell_type": "code",
   "execution_count": null,
   "outputs": [],
   "source": [
    "mean_by_bar_number = nbBar_revenu_byCp.groupby('Nombre de bars').mean().reset_index()\n",
    "mean_by_bar_number"
   ],
   "metadata": {
    "collapsed": false,
    "pycharm": {
     "name": "#%%\n"
    }
   }
  },
  {
   "cell_type": "code",
   "execution_count": null,
   "outputs": [],
   "source": [
    "plt.plot(mean_by_bar_number['Nombre de bars'], mean_by_bar_number['Revenu fiscal de référence par foyer fiscal'])\n",
    "plt.xlabel('Nombre de bars')\n",
    "plt.ylabel('Revenu fiscal de référence moyen')"
   ],
   "metadata": {
    "collapsed": false,
    "pycharm": {
     "name": "#%%\n"
    }
   }
  },
  {
   "cell_type": "code",
   "execution_count": null,
   "outputs": [],
   "source": [
    "fig = px.histogram(data_frame=mean_by_bar_number, x='Revenu fiscal de référence par foyer fiscal', y='Nombre de bars')\n",
    "fig.show()"
   ],
   "metadata": {
    "collapsed": false,
    "pycharm": {
     "name": "#%%\n"
    }
   }
  },
  {
   "cell_type": "code",
   "execution_count": null,
   "outputs": [],
   "source": [
    "g = sns.relplot(data=mean_by_bar_number, y='Revenu fiscal de référence par foyer fiscal',\n",
    "                x=mean_by_bar_number['Nombre de bars'])\n",
    "g.set(yscale='log')  # same, without the log scale we cannot see anything"
   ],
   "metadata": {
    "collapsed": false,
    "pycharm": {
     "name": "#%%\n"
    }
   }
  },
  {
   "cell_type": "code",
   "execution_count": null,
   "outputs": [],
   "source": [
    "nbBar_revenu_byCp = data_bars_revenus.groupby('Nom')['Revenu fiscal de référence par foyer fiscal'].mean().reset_index()"
   ],
   "metadata": {
    "collapsed": false,
    "pycharm": {
     "name": "#%%\n"
    }
   }
  },
  {
   "cell_type": "code",
   "execution_count": null,
   "outputs": [],
   "source": [
    "g = sns.relplot(data=nbBar_revenu_byCp, x='Revenu fiscal de référence par foyer fiscal', y=nbBar_revenu_byCp.index)\n",
    "g.set(yscale='log')  # same, without the log scale we cannot see anything"
   ],
   "metadata": {
    "collapsed": false,
    "pycharm": {
     "name": "#%%\n"
    }
   }
  },
  {
   "cell_type": "code",
   "execution_count": null,
   "outputs": [],
   "source": [
    "plt.scatter(nbBar_revenu_byCp.index, nbBar_revenu_byCp['Revenu fiscal de référence par foyer fiscal'], label='nomalies')\n",
    "plt.title('Connexions en fonction de l\\'instant dans le temps et la durée de la connexion')\n",
    "plt.ylabel('Revenu fiscal de référence moyen')\n",
    "plt.xlabel('Bar n°')\n",
    "plt.show()"
   ],
   "metadata": {
    "collapsed": false,
    "pycharm": {
     "name": "#%%\n"
    }
   }
  },
  {
   "cell_type": "code",
   "execution_count": null,
   "outputs": [],
   "source": [
    "ax = sns.lineplot(x=np.arange(len(nbBar_revenu_byCp)),\n",
    "                  y=np.sort(nbBar_revenu_byCp['Revenu fiscal de référence par foyer fiscal']))\n",
    "ax.set_title('Revenu fiscal de référence des %d bars' % len(nbBar_revenu_byCp))\n",
    "ax.set(yscale='log', xlabel='Nombre de bars', ylabel='Revenu fiscal de référence par foyer fiscal')"
   ],
   "metadata": {
    "collapsed": false,
    "pycharm": {
     "name": "#%%\n"
    }
   }
  }
 ],
 "metadata": {
  "kernelspec": {
   "display_name": "Python 3 (ipykernel)",
   "language": "python",
   "name": "python3"
  },
  "language_info": {
   "codemirror_mode": {
    "name": "ipython",
    "version": 3
   },
   "file_extension": ".py",
   "mimetype": "text/x-python",
   "name": "python",
   "nbconvert_exporter": "python",
   "pygments_lexer": "ipython3",
   "version": "3.9.7"
  }
 },
 "nbformat": 4,
 "nbformat_minor": 4
}